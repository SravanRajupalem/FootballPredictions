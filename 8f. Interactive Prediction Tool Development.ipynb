{
 "cells": [
  {
   "cell_type": "code",
   "execution_count": 224,
   "metadata": {},
   "outputs": [],
   "source": [
    "import datetime\n",
    "from datetime import date\n",
    "from datetime import datetime\n",
    "import requests\n",
    "import pprint\n",
    "from bs4 import BeautifulSoup\n",
    "import pandas as pd\n",
    "import re\n",
    "import pickle\n",
    "from urllib.request import urlopen\n",
    "import glob\n",
    "import altair as alt\n",
    "import time\n",
    "import itertools\n",
    "import numpy as np\n",
    "import operator\n",
    "from datetime import timedelta\n",
    "from ipywidgets import interact, IntSlider\n",
    "from IPython.display import display\n",
    "import sklearn\n",
    "import numpy as np\n",
    "from sklearn.linear_model import LogisticRegression\n",
    "# import seaborn as sns\n",
    "# from matplotlib import pyplot as plt\n",
    "# %matplotlib inline\n",
    "from sklearn.metrics import accuracy_score, confusion_matrix,roc_curve, roc_auc_score, precision_score, recall_score, precision_recall_curve\n",
    "from sklearn.model_selection import train_test_split, GridSearchCV, cross_val_score, RepeatedStratifiedKFold, StratifiedKFold\n",
    "from sklearn.datasets import make_hastie_10_2\n",
    "from sklearn.ensemble import GradientBoostingClassifier\n",
    "from imblearn.pipeline import make_pipeline as make_pipeline_with_sampler\n",
    "from imblearn.under_sampling import RandomUnderSampler\n",
    "\n",
    "from pycaret.classification import * \n",
    "\n",
    "# pd.options.display.max_columns = 5000\n",
    "# pd.options.display.max_rows = 5000"
   ]
  },
  {
   "cell_type": "code",
   "execution_count": 225,
   "metadata": {},
   "outputs": [],
   "source": [
    "#Loading Dataset\n",
    "dataset = pd.read_parquet('dataframes_blog/dataset_for_model_final.parquet') "
   ]
  },
  {
   "cell_type": "code",
   "execution_count": 226,
   "metadata": {},
   "outputs": [],
   "source": [
    "dataset = dataset[dataset['drop'] == 0]"
   ]
  },
  {
   "cell_type": "code",
   "execution_count": 227,
   "metadata": {},
   "outputs": [
    {
     "name": "stdout",
     "output_type": "stream",
     "text": [
      "Transformation Pipeline and Model Successfully Loaded\n",
      "Transformation Pipeline and Model Successfully Loaded\n",
      "Transformation Pipeline and Model Successfully Loaded\n",
      "Transformation Pipeline and Model Successfully Loaded\n",
      "Transformation Pipeline and Model Successfully Loaded\n"
     ]
    }
   ],
   "source": [
    "#Loading Models\n",
    "week_model = load_model('model_1_week_tuned_final')\n",
    "month_model = load_model('model_1_month_final')\n",
    "quarter_model = load_model('model_1_quarter_tuned_final')\n",
    "semester_model = load_model('model_1_semester_tuned_final')\n",
    "year_model = load_model('model_1_year_tuned_final')"
   ]
  },
  {
   "cell_type": "code",
   "execution_count": 228,
   "metadata": {},
   "outputs": [],
   "source": [
    "# Cleaning NaNs\n",
    "\n",
    "dataset_no_nans = dataset.fillna(0)"
   ]
  },
  {
   "cell_type": "code",
   "execution_count": 229,
   "metadata": {},
   "outputs": [],
   "source": [
    "# Choosing the features we are going to use\n",
    "\n",
    "dataset_to_predict = dataset_no_nans[['Height', 'Weight', 'defender', 'attacker', 'midfielder', 'goalkeeper', 'right_foot', 'age', 'cum_injury_total', \\\n",
    "    'weeks_since_last_injury', 'Min_cum', 'Gls_cum', 'Ast_cum', 'PK_cum', 'PKatt_cum', 'Sh_cum', 'SoT_cum', 'CrdY_cum', 'CrdR_cum', \\\n",
    "    'Touches_cum', 'Press_cum', 'Tkl_cum', 'Int_cum', 'Blocks_cum', 'xG_cum', 'npxG_cum', 'xA_cum', 'SCA_cum', 'GCA_cum', 'Cmp_cum', 'Att_cum', \\\n",
    "    'Prog_cum', 'Carries_cum', 'Prog.1_cum', 'Succ_cum', 'Att.1_cum', 'Fls_cum', 'Fld_cum', 'Off_cum', 'Crs_cum', 'TklW_cum', 'OG_cum', \\\n",
    "    'PKwon_cum', 'PKcon_cum', 'Serie A_cum', 'Premier League_cum', 'La Liga_cum', 'Ligue 1_cum', 'Bundesliga_cum', 'Champions Lg_cum', \\\n",
    "    'Europa Lg_cum', 'FIFA World Cup_cum', 'UEFA Nations League_cum', 'UEFA Euro_cum', 'Copa América_cum', 'Away_cum', 'Home_cum', \\\n",
    "    'Neutral_cum']]"
   ]
  },
  {
   "cell_type": "code",
   "execution_count": 230,
   "metadata": {},
   "outputs": [],
   "source": [
    "#Using saved models to predict injuries\n",
    "\n",
    "predicted_injuries_1_week = week_model[23].predict(dataset_to_predict)\n",
    "predicted_injuries_1_month = month_model[23].predict(dataset_to_predict)\n",
    "predicted_injuries_1_quarter = quarter_model[23].predict(dataset_to_predict)\n",
    "predicted_injuries_1_semester = semester_model[23].predict(dataset_to_predict)\n",
    "predicted_injuries_1_year = year_model[23].predict(dataset_to_predict)"
   ]
  },
  {
   "cell_type": "code",
   "execution_count": 231,
   "metadata": {},
   "outputs": [],
   "source": [
    "# Creating predictions_df to include the whole dataset plus predicted injuries and actual injures\n",
    "\n",
    "predictions_df = dataset_to_predict\n",
    "predictions_df['predicted_injuries_1_week'] = predicted_injuries_1_week\n",
    "predictions_df['predicted_injuries_4_week'] = predicted_injuries_1_month\n",
    "predictions_df['predicted_injuries_12_week'] = predicted_injuries_1_quarter\n",
    "predictions_df['predicted_injuries_26_week'] = predicted_injuries_1_semester\n",
    "predictions_df['predicted_injuries_52_week'] = predicted_injuries_1_year"
   ]
  },
  {
   "cell_type": "code",
   "execution_count": 232,
   "metadata": {},
   "outputs": [],
   "source": [
    "# Merging the complete dataset with the predictions of the model\n",
    "\n",
    "dataset_with_prediction = pd.merge(dataset, predictions_df[['predicted_injuries_1_week', 'predicted_injuries_4_week', \\\n",
    "    'predicted_injuries_12_week', 'predicted_injuries_26_week', 'predicted_injuries_52_week']], left_index=True, right_index=True)"
   ]
  },
  {
   "cell_type": "code",
   "execution_count": 233,
   "metadata": {},
   "outputs": [],
   "source": [
    "# Picking the columns we are going to keep\n",
    "\n",
    "dataset_with_prediction = dataset_with_prediction[['FBRefID', 'name', 'date', 'Min', 'Position:', 'cum_week', 'defender', 'attacker', 'midfielder', 'goalkeeper', \\\n",
    "    'cum_injury_in_1_week', 'cum_injury_in_4_week',  'cum_injury_in_12_week', 'cum_injury_in_26_week', 'cum_injury_in_52_week', 'Min_cum', \\\n",
    "    'predicted_injuries_1_week', 'predicted_injuries_4_week', 'predicted_injuries_12_week', 'predicted_injuries_26_week', \\\n",
    "    'predicted_injuries_52_week']]"
   ]
  },
  {
   "cell_type": "code",
   "execution_count": 234,
   "metadata": {},
   "outputs": [],
   "source": [
    "# Creating unique_predicted_injuries to filter out repeated injuries\n",
    "\n",
    "dataset_with_prediction.loc[(dataset_with_prediction['predicted_injuries_1_week'] == 1) & (dataset_with_prediction['predicted_injuries_1_week']. \\\n",
    "    shift(1) == 1), 'unique_predicted_injuries_1_week'] = 0\n",
    "dataset_with_prediction.loc[(dataset_with_prediction['predicted_injuries_1_week'] == 1) & (dataset_with_prediction['predicted_injuries_1_week']. \\\n",
    "    shift(1) == 0), 'unique_predicted_injuries_1_week'] = 1\n",
    "dataset_with_prediction.loc[(dataset_with_prediction['predicted_injuries_1_week'] == 0) & (dataset_with_prediction['predicted_injuries_1_week']. \\\n",
    "    shift(1) == 0), 'unique_predicted_injuries_1_week'] = 0\n",
    "dataset_with_prediction.loc[(dataset_with_prediction['predicted_injuries_1_week'] == 0) & (dataset_with_prediction['predicted_injuries_1_week']. \\\n",
    "    shift(1) == 1), 'unique_predicted_injuries_1_week'] = 0\n",
    "\n",
    "dataset_with_prediction.loc[(dataset_with_prediction['predicted_injuries_4_week'] == 1) & (dataset_with_prediction['predicted_injuries_4_week']. \\\n",
    "    shift(1) == 1), 'unique_predicted_injuries_4_week'] = 0\n",
    "dataset_with_prediction.loc[(dataset_with_prediction['predicted_injuries_4_week'] == 1) & (dataset_with_prediction['predicted_injuries_4_week']. \\\n",
    "    shift(1) == 0), 'unique_predicted_injuries_4_week'] = 1\n",
    "dataset_with_prediction.loc[(dataset_with_prediction['predicted_injuries_4_week'] == 0) & (dataset_with_prediction['predicted_injuries_4_week']. \\\n",
    "    shift(1) == 0), 'unique_predicted_injuries_4_week'] = 0\n",
    "dataset_with_prediction.loc[(dataset_with_prediction['predicted_injuries_4_week'] == 0) & (dataset_with_prediction['predicted_injuries_4_week']. \\\n",
    "    shift(1) == 1), 'unique_predicted_injuries_4_week'] = 0\n",
    "\n",
    "dataset_with_prediction.loc[(dataset_with_prediction['predicted_injuries_12_week'] == 1) & (dataset_with_prediction['predicted_injuries_12_week']. \\\n",
    "    shift(1) == 1), 'unique_predicted_injuries_12_week'] = 0\n",
    "dataset_with_prediction.loc[(dataset_with_prediction['predicted_injuries_12_week'] == 1) & (dataset_with_prediction['predicted_injuries_12_week']. \\\n",
    "    shift(1) == 0), 'unique_predicted_injuries_12_week'] = 1\n",
    "dataset_with_prediction.loc[(dataset_with_prediction['predicted_injuries_12_week'] == 0) & (dataset_with_prediction['predicted_injuries_12_week']. \\\n",
    "    shift(1) == 0), 'unique_predicted_injuries_12_week'] = 0\n",
    "dataset_with_prediction.loc[(dataset_with_prediction['predicted_injuries_12_week'] == 0) & (dataset_with_prediction['predicted_injuries_12_week']. \\\n",
    "    shift(1) == 1), 'unique_predicted_injuries_12_week'] = 0\n",
    "\n",
    "dataset_with_prediction.loc[(dataset_with_prediction['predicted_injuries_26_week'] == 1) & (dataset_with_prediction['predicted_injuries_26_week']. \\\n",
    "    shift(1) == 1), 'unique_predicted_injuries_26_'] = 0\n",
    "dataset_with_prediction.loc[(dataset_with_prediction['predicted_injuries_26_week'] == 1) & (dataset_with_prediction['predicted_injuries_26_week']. \\\n",
    "    shift(1) == 0), 'unique_predicted_injuries_26_week'] = 1\n",
    "dataset_with_prediction.loc[(dataset_with_prediction['predicted_injuries_26_week'] == 0) & (dataset_with_prediction['predicted_injuries_26_week']. \\\n",
    "    shift(1) == 0), 'unique_predicted_injuries_26_week'] = 0\n",
    "dataset_with_prediction.loc[(dataset_with_prediction['predicted_injuries_26_week'] == 0) & (dataset_with_prediction['predicted_injuries_26_week']. \\\n",
    "    shift(1) == 1), 'unique_predicted_injuries_26_week'] = 0\n",
    "\n",
    "dataset_with_prediction.loc[(dataset_with_prediction['predicted_injuries_52_week'] == 1) & (dataset_with_prediction['predicted_injuries_52_week']. \\\n",
    "    shift(1) == 1), 'unique_predicted_injuries_52_week'] = 0\n",
    "dataset_with_prediction.loc[(dataset_with_prediction['predicted_injuries_52_week'] == 1) & (dataset_with_prediction['predicted_injuries_52_week']. \\\n",
    "    shift(1) == 0), 'unique_predicted_injuries_52_week'] = 1\n",
    "dataset_with_prediction.loc[(dataset_with_prediction['predicted_injuries_52_week'] == 0) & (dataset_with_prediction['predicted_injuries_52_week']. \\\n",
    "    shift(1) == 0), 'unique_predicted_injuries_52_week'] = 0\n",
    "dataset_with_prediction.loc[(dataset_with_prediction['predicted_injuries_52_week'] == 0) & (dataset_with_prediction['predicted_injuries_52_week']. \\\n",
    "    shift(1) == 1), 'unique_predicted_injuries_52_week'] = 0"
   ]
  },
  {
   "cell_type": "code",
   "execution_count": 235,
   "metadata": {},
   "outputs": [],
   "source": [
    "# Getting the accumulated sum of predicted injuries by player\n",
    "\n",
    "dataset_with_prediction['cum_predicted_injuries_1_week'] = dataset_with_prediction.groupby(by=['name'])['unique_predicted_injuries_1_week'].cumsum()\n",
    "dataset_with_prediction['cum_predicted_injuries_4_week'] = dataset_with_prediction.groupby(by=['name'])['unique_predicted_injuries_4_week'].cumsum()\n",
    "dataset_with_prediction['cum_predicted_injuries_12_week'] = dataset_with_prediction.groupby(by=['name'])['unique_predicted_injuries_12_week'].cumsum()\n",
    "dataset_with_prediction['cum_predicted_injuries_26_week'] = dataset_with_prediction.groupby(by=['name'])['unique_predicted_injuries_26_week'].cumsum()\n",
    "dataset_with_prediction['cum_predicted_injuries_52_week'] = dataset_with_prediction.groupby(by=['name'])['unique_predicted_injuries_52_week'].cumsum()"
   ]
  },
  {
   "cell_type": "code",
   "execution_count": 236,
   "metadata": {},
   "outputs": [],
   "source": [
    "#Filtering the dataset for a subset of players\n",
    "\n",
    "player_for_df_final = ['Lionel Messi', 'Cristiano Ronaldo', 'Neymar', 'Robert Lewandowski', 'Mohamed Salah', 'Kevin De Bruyne', 'Erling Haaland', \\\n",
    "'Harry Kane', 'Virgil van Dijk', 'Eden Hazard', 'Karim Benzema', 'Paul Pogba', 'Sergio Ramos', 'Jadon Sancho', 'Romelu Lukaku', \\\n",
    "'Joshua Kimmich', 'Antoine Griezmann', 'Toni Kroos', 'Jan Oblak', 'Manuel Neuer', 'Gareth Bale', 'Raheem Sterling', 'Frenkie de Jong', \\\n",
    "'Thiago Silva', 'Paulo Dybala']\n",
    "\n",
    "small_dataset_with_prediction = pd.DataFrame([])\n",
    "\n",
    "for n in player_for_df_final:\n",
    "    small_dataset_with_prediction = small_dataset_with_prediction.append(dataset_with_prediction[dataset_with_prediction['name'] == n])"
   ]
  },
  {
   "cell_type": "code",
   "execution_count": 296,
   "metadata": {},
   "outputs": [],
   "source": [
    "# Saving small_dataset_with_prediction to repository\n",
    "small_dataset_with_prediction.to_parquet('dataframes_blog/small_dataset_with_prediction.parquet')"
   ]
  },
  {
   "cell_type": "code",
   "execution_count": 257,
   "metadata": {},
   "outputs": [],
   "source": [
    "#Picking Player\n",
    "picked_player_df = small_dataset_with_prediction[small_dataset_with_prediction['name'] == 'Neymar']"
   ]
  },
  {
   "cell_type": "code",
   "execution_count": 286,
   "metadata": {},
   "outputs": [],
   "source": [
    "# Function to Forecast players injuries and plot a chart\n",
    "\n",
    "def forecast_it(weeks, df1):\n",
    "    df = df1.reset_index()\n",
    "    final_index = df.index.max()\n",
    "    pos = 'cum_injury_in_'+str(weeks)+'_week'\n",
    "    for n in range(weeks,0,-1): \n",
    "        df.loc[final_index-n+1, pos] = ''\n",
    "    df.loc[df[pos] == \"\", 'single_injury_prediction_in_'+str(weeks)+'_week'] = df[pos].shift(1) \n",
    "    df.loc[df['single_injury_prediction_in_'+str(weeks)+'_week'] == \"\", 'single_injury_prediction_in_'+str(weeks)+'_week'] = \\\n",
    "        df['unique_predicted_injuries_'+str(weeks)+'_week']\n",
    "    df['cum_injury_prediction_in_'+str(weeks)+'_week'] = df['single_injury_prediction_in_'+str(weeks)+'_week'].cumsum()\n",
    "    # df['cum_injury_prediction_in_'+str(weeks)+'_week'] = df['cum_injury_prediction_in_'+str(weeks)+'_week'].fillna('')\n",
    "    # df.loc[df['cum_injury_in_'+str(weeks)+'_week'] != \"\", 'cum_injury_prediction_in_'+str(weeks)+'_week'] = df['cum_injury_in_'+str(weeks)+'_week']\n",
    "    df.loc[df['cum_injury_prediction_in_'+str(weeks)+'_week'].isna(), 'cum_injury_prediction_in_'+str(weeks)+'_week'] = df['cum_injury_in_'+str(weeks)+'_week']\n",
    "\n",
    "    df.loc[df['cum_injury_in_'+str(weeks)+'_week'] != \"\", 'type_for_'+str(weeks)] = 'Actual Injuries'\n",
    "    df.loc[df['cum_injury_in_'+str(weeks)+'_week'] == \"\", 'type_for_'+str(weeks)] = 'Predicted Injuries'\n",
    "\n",
    "    extra_point = df[df['type_for_'+str(weeks)] == 'Actual Injuries'].tail(1)\n",
    "    extra_point['type_for_'+str(weeks)] = 'Predicted Injuries'\n",
    "    df = pd.concat([df, extra_point]) #.reset_index(drop=True)\n",
    "\n",
    "    df.loc[df['attacker'] == 1, 'position'] = 'attacker'\n",
    "    df.loc[df['defender'] == 1, 'position'] = 'defender'\n",
    "    df.loc[df['goalkeeper'] == 1, 'position'] = 'goalkeeper'\n",
    "    df.loc[df['midfielder'] == 1, 'position'] = 'midfielder'\n",
    "\n",
    "    df = df[['FBRefID', 'name', 'date', 'cum_week', 'position', 'Min_cum', 'cum_injury_prediction_in_'+str(weeks)+'_week', 'type_for_'+str(weeks)]]\n",
    "    \n",
    "    df.loc[df['cum_injury_prediction_in_'+str(weeks)+'_week'] == '', 'cum_injury_prediction_in_'+str(weeks)+'_week'] = None\n",
    "    df['cum_injury_prediction_in_'+str(weeks)+'_week'] = df['cum_injury_prediction_in_'+str(weeks)+'_week'].ffill()\n",
    "    \n",
    "    \n",
    "    return df"
   ]
  },
  {
   "cell_type": "code",
   "execution_count": 290,
   "metadata": {},
   "outputs": [],
   "source": [
    "# Forecasting the different horizons for picked player\n",
    "\n",
    "final_small_df_1_week = forecast_it(1, picked_player_df)\n",
    "final_small_df_4_week = forecast_it(4, picked_player_df)\n",
    "final_small_df_12_week = forecast_it(12, picked_player_df)\n",
    "final_small_df_26_week = forecast_it(26, picked_player_df)\n",
    "final_small_df_52_week = forecast_it(52, picked_player_df)"
   ]
  },
  {
   "cell_type": "code",
   "execution_count": 297,
   "metadata": {},
   "outputs": [],
   "source": [
    "# Function to change name of columns of all dataframes\n",
    "\n",
    "def transform_it(weeks, df):\n",
    "    df = df.rename(columns={'cum_injury_prediction_in_'+str(weeks)+'_week':'predicted_cum_injuries', 'type_for_'+str(weeks):'label'})\n",
    "    df['horizon'] = weeks\n",
    "    return df"
   ]
  },
  {
   "cell_type": "code",
   "execution_count": 302,
   "metadata": {},
   "outputs": [],
   "source": [
    "# Changing column names and concatenating dataframes\n",
    "\n",
    "final_df_lst = [final_small_df_week, final_small_df_month, final_small_df_quarter, final_small_df_semester, final_small_df_year]\n",
    "weeks_lst = [1, 4, 12, 26, 52]\n",
    "\n",
    "final_player_df = pd.DataFrame(columns=list(transform_it(1,final_small_df_week).columns))\n",
    "counter = 0\n",
    "\n",
    "for df in final_df_lst:\n",
    "    final_player_df = final_player_df.append(transform_it(weeks_lst[counter], df))\n",
    "    counter += 1"
   ]
  },
  {
   "cell_type": "code",
   "execution_count": 303,
   "metadata": {},
   "outputs": [],
   "source": [
    "#Plotting Chart\n",
    "def plot_it(weeks, df):\n",
    "    \n",
    "    df = df[df['horizon'] == weeks]\n",
    "\n",
    "    if weeks == 1:\n",
    "        df_final = df[len(df)-25:].sort_index()\n",
    "    elif weeks == 4:\n",
    "        df_final = df[len(df)-25:].sort_index()\n",
    "    elif weeks == 12:\n",
    "        df_final = df[len(df)-25:].sort_index()\n",
    "    else:\n",
    "        df_final = df[len(df)-(weeks*2):].sort_index()\n",
    "\n",
    "    domain_min = df_final['predicted_cum_injuries'].min()-5\n",
    "    domain_max = df_final['predicted_cum_injuries'].max()+5\n",
    "\n",
    "    chart = alt.Chart(df_final).mark_line().encode(x=alt.X('date', timeUnit='yearmonthdate'), \\\n",
    "        y=alt.Y('predicted_cum_injuries', scale=alt.Scale(domain=[domain_min, domain_max])), color=alt.Color('label'), \\\n",
    "        strokeDash=alt.condition(alt.datum.symbol == 'label', alt.value([5, 5]), alt.value([0]))). \\\n",
    "        properties(title = str(df_final['name'].iloc[0])+\"'s Injury Prediction for \"+str(weeks)+\" weeks\", width=800, height=300)\n",
    "\n",
    "    return chart\n",
    "    "
   ]
  },
  {
   "cell_type": "code",
   "execution_count": 310,
   "metadata": {},
   "outputs": [
    {
     "data": {
      "text/html": [
       "\n",
       "<div id=\"altair-viz-4d0c4e47dacf49cd9f6fd1587a818f58\"></div>\n",
       "<script type=\"text/javascript\">\n",
       "  (function(spec, embedOpt){\n",
       "    let outputDiv = document.currentScript.previousElementSibling;\n",
       "    if (outputDiv.id !== \"altair-viz-4d0c4e47dacf49cd9f6fd1587a818f58\") {\n",
       "      outputDiv = document.getElementById(\"altair-viz-4d0c4e47dacf49cd9f6fd1587a818f58\");\n",
       "    }\n",
       "    const paths = {\n",
       "      \"vega\": \"https://cdn.jsdelivr.net/npm//vega@5?noext\",\n",
       "      \"vega-lib\": \"https://cdn.jsdelivr.net/npm//vega-lib?noext\",\n",
       "      \"vega-lite\": \"https://cdn.jsdelivr.net/npm//vega-lite@4.8.1?noext\",\n",
       "      \"vega-embed\": \"https://cdn.jsdelivr.net/npm//vega-embed@6?noext\",\n",
       "    };\n",
       "\n",
       "    function loadScript(lib) {\n",
       "      return new Promise(function(resolve, reject) {\n",
       "        var s = document.createElement('script');\n",
       "        s.src = paths[lib];\n",
       "        s.async = true;\n",
       "        s.onload = () => resolve(paths[lib]);\n",
       "        s.onerror = () => reject(`Error loading script: ${paths[lib]}`);\n",
       "        document.getElementsByTagName(\"head\")[0].appendChild(s);\n",
       "      });\n",
       "    }\n",
       "\n",
       "    function showError(err) {\n",
       "      outputDiv.innerHTML = `<div class=\"error\" style=\"color:red;\">${err}</div>`;\n",
       "      throw err;\n",
       "    }\n",
       "\n",
       "    function displayChart(vegaEmbed) {\n",
       "      vegaEmbed(outputDiv, spec, embedOpt)\n",
       "        .catch(err => showError(`Javascript Error: ${err.message}<br>This usually means there's a typo in your chart specification. See the javascript console for the full traceback.`));\n",
       "    }\n",
       "\n",
       "    if(typeof define === \"function\" && define.amd) {\n",
       "      requirejs.config({paths});\n",
       "      require([\"vega-embed\"], displayChart, err => showError(`Error loading script: ${err.message}`));\n",
       "    } else if (typeof vegaEmbed === \"function\") {\n",
       "      displayChart(vegaEmbed);\n",
       "    } else {\n",
       "      loadScript(\"vega\")\n",
       "        .then(() => loadScript(\"vega-lite\"))\n",
       "        .then(() => loadScript(\"vega-embed\"))\n",
       "        .catch(showError)\n",
       "        .then(() => displayChart(vegaEmbed));\n",
       "    }\n",
       "  })({\"config\": {\"view\": {\"continuousWidth\": 400, \"continuousHeight\": 300}}, \"data\": {\"name\": \"data-283f02173bbb88bcfcf01d713610be35\"}, \"mark\": \"line\", \"encoding\": {\"color\": {\"type\": \"nominal\", \"field\": \"label\"}, \"strokeDash\": {\"condition\": {\"value\": [5, 5], \"test\": \"(datum.symbol === 'label')\"}, \"value\": [0]}, \"x\": {\"type\": \"nominal\", \"field\": \"date\", \"timeUnit\": \"yearmonthdate\"}, \"y\": {\"type\": \"quantitative\", \"field\": \"predicted_cum_injuries\", \"scale\": {\"domain\": [75.0, 104.0]}}}, \"height\": 300, \"title\": \"Neymar's Injury Prediction for 52 weeks\", \"width\": 800, \"$schema\": \"https://vega.github.io/schema/vega-lite/v4.8.1.json\", \"datasets\": {\"data-283f02173bbb88bcfcf01d713610be35\": [{\"FBRefID\": \"69384e5d\", \"name\": \"Neymar\", \"date\": \"2019-09-29\", \"cum_week\": 326.0, \"position\": \"attacker\", \"Min_cum\": 594.0, \"predicted_cum_injuries\": 80.0, \"label\": \"Actual Injuries\", \"horizon\": 52}, {\"FBRefID\": \"69384e5d\", \"name\": \"Neymar\", \"date\": \"2019-10-06\", \"cum_week\": 327.0, \"position\": \"attacker\", \"Min_cum\": 954.0, \"predicted_cum_injuries\": 80.0, \"label\": \"Actual Injuries\", \"horizon\": 52}, {\"FBRefID\": \"69384e5d\", \"name\": \"Neymar\", \"date\": \"2019-10-13\", \"cum_week\": 328.0, \"position\": \"attacker\", \"Min_cum\": 1134.0, \"predicted_cum_injuries\": 80.0, \"label\": \"Actual Injuries\", \"horizon\": 52}, {\"FBRefID\": \"69384e5d\", \"name\": \"Neymar\", \"date\": \"2019-10-20\", \"cum_week\": 329.0, \"position\": \"attacker\", \"Min_cum\": 1336.0, \"predicted_cum_injuries\": 80.0, \"label\": \"Actual Injuries\", \"horizon\": 52}, {\"FBRefID\": \"69384e5d\", \"name\": \"Neymar\", \"date\": \"2019-10-27\", \"cum_week\": 330.0, \"position\": \"attacker\", \"Min_cum\": 0.0, \"predicted_cum_injuries\": 80.0, \"label\": \"Actual Injuries\", \"horizon\": 52}, {\"FBRefID\": \"69384e5d\", \"name\": \"Neymar\", \"date\": \"2019-12-01\", \"cum_week\": 335.0, \"position\": \"attacker\", \"Min_cum\": 128.0, \"predicted_cum_injuries\": 83.0, \"label\": \"Actual Injuries\", \"horizon\": 52}, {\"FBRefID\": \"69384e5d\", \"name\": \"Neymar\", \"date\": \"2019-12-08\", \"cum_week\": 336.0, \"position\": \"attacker\", \"Min_cum\": 218.0, \"predicted_cum_injuries\": 83.0, \"label\": \"Actual Injuries\", \"horizon\": 52}, {\"FBRefID\": \"69384e5d\", \"name\": \"Neymar\", \"date\": \"2019-12-15\", \"cum_week\": 337.0, \"position\": \"attacker\", \"Min_cum\": 570.0, \"predicted_cum_injuries\": 83.0, \"label\": \"Actual Injuries\", \"horizon\": 52}, {\"FBRefID\": \"69384e5d\", \"name\": \"Neymar\", \"date\": \"2019-12-22\", \"cum_week\": 338.0, \"position\": \"attacker\", \"Min_cum\": 930.0, \"predicted_cum_injuries\": 84.0, \"label\": \"Actual Injuries\", \"horizon\": 52}, {\"FBRefID\": \"69384e5d\", \"name\": \"Neymar\", \"date\": \"2019-12-29\", \"cum_week\": 339.0, \"position\": \"attacker\", \"Min_cum\": 1110.0, \"predicted_cum_injuries\": 84.0, \"label\": \"Actual Injuries\", \"horizon\": 52}, {\"FBRefID\": \"69384e5d\", \"name\": \"Neymar\", \"date\": \"2020-01-05\", \"cum_week\": 341.0, \"position\": \"attacker\", \"Min_cum\": 1110.0, \"predicted_cum_injuries\": 84.0, \"label\": \"Actual Injuries\", \"horizon\": 52}, {\"FBRefID\": \"69384e5d\", \"name\": \"Neymar\", \"date\": \"2020-01-12\", \"cum_week\": 342.0, \"position\": \"attacker\", \"Min_cum\": 1110.0, \"predicted_cum_injuries\": 85.0, \"label\": \"Actual Injuries\", \"horizon\": 52}, {\"FBRefID\": \"69384e5d\", \"name\": \"Neymar\", \"date\": \"2020-01-19\", \"cum_week\": 342.0, \"position\": \"attacker\", \"Min_cum\": 1290.0, \"predicted_cum_injuries\": 86.0, \"label\": \"Actual Injuries\", \"horizon\": 52}, {\"FBRefID\": \"69384e5d\", \"name\": \"Neymar\", \"date\": \"2020-01-26\", \"cum_week\": 343.0, \"position\": \"attacker\", \"Min_cum\": 1380.0, \"predicted_cum_injuries\": 87.0, \"label\": \"Actual Injuries\", \"horizon\": 52}, {\"FBRefID\": \"69384e5d\", \"name\": \"Neymar\", \"date\": \"2020-02-02\", \"cum_week\": 344.0, \"position\": \"attacker\", \"Min_cum\": 1560.0, \"predicted_cum_injuries\": 87.0, \"label\": \"Actual Injuries\", \"horizon\": 52}, {\"FBRefID\": \"69384e5d\", \"name\": \"Neymar\", \"date\": \"2020-02-09\", \"cum_week\": 345.0, \"position\": \"attacker\", \"Min_cum\": 1650.0, \"predicted_cum_injuries\": 87.0, \"label\": \"Actual Injuries\", \"horizon\": 52}, {\"FBRefID\": \"69384e5d\", \"name\": \"Neymar\", \"date\": \"2020-02-16\", \"cum_week\": 346.0, \"position\": \"attacker\", \"Min_cum\": 0.0, \"predicted_cum_injuries\": 87.0, \"label\": \"Actual Injuries\", \"horizon\": 52}, {\"FBRefID\": \"69384e5d\", \"name\": \"Neymar\", \"date\": \"2020-03-01\", \"cum_week\": 348.0, \"position\": \"attacker\", \"Min_cum\": 179.0, \"predicted_cum_injuries\": 88.0, \"label\": \"Actual Injuries\", \"horizon\": 52}, {\"FBRefID\": \"69384e5d\", \"name\": \"Neymar\", \"date\": \"2020-03-08\", \"cum_week\": 350.0, \"position\": \"attacker\", \"Min_cum\": 179.0, \"predicted_cum_injuries\": 88.0, \"label\": \"Actual Injuries\", \"horizon\": 52}, {\"FBRefID\": \"69384e5d\", \"name\": \"Neymar\", \"date\": \"2020-03-15\", \"cum_week\": 350.0, \"position\": \"attacker\", \"Min_cum\": 269.0, \"predicted_cum_injuries\": 89.0, \"label\": \"Actual Injuries\", \"horizon\": 52}, {\"FBRefID\": \"69384e5d\", \"name\": \"Neymar\", \"date\": \"2020-03-22\", \"cum_week\": 351.0, \"position\": \"attacker\", \"Min_cum\": 359.0, \"predicted_cum_injuries\": 90.0, \"label\": \"Actual Injuries\", \"horizon\": 52}, {\"FBRefID\": \"69384e5d\", \"name\": \"Neymar\", \"date\": \"2020-03-29\", \"cum_week\": 353.0, \"position\": \"attacker\", \"Min_cum\": 359.0, \"predicted_cum_injuries\": 91.0, \"label\": \"Actual Injuries\", \"horizon\": 52}, {\"FBRefID\": \"69384e5d\", \"name\": \"Neymar\", \"date\": \"2020-04-05\", \"cum_week\": 354.0, \"position\": \"attacker\", \"Min_cum\": 359.0, \"predicted_cum_injuries\": 92.0, \"label\": \"Actual Injuries\", \"horizon\": 52}, {\"FBRefID\": \"69384e5d\", \"name\": \"Neymar\", \"date\": \"2020-04-12\", \"cum_week\": 355.0, \"position\": \"attacker\", \"Min_cum\": 359.0, \"predicted_cum_injuries\": 92.0, \"label\": \"Actual Injuries\", \"horizon\": 52}, {\"FBRefID\": \"69384e5d\", \"name\": \"Neymar\", \"date\": \"2020-04-19\", \"cum_week\": 356.0, \"position\": \"attacker\", \"Min_cum\": 359.0, \"predicted_cum_injuries\": 92.0, \"label\": \"Actual Injuries\", \"horizon\": 52}, {\"FBRefID\": \"69384e5d\", \"name\": \"Neymar\", \"date\": \"2020-04-26\", \"cum_week\": 357.0, \"position\": \"attacker\", \"Min_cum\": 359.0, \"predicted_cum_injuries\": 92.0, \"label\": \"Actual Injuries\", \"horizon\": 52}, {\"FBRefID\": \"69384e5d\", \"name\": \"Neymar\", \"date\": \"2020-05-03\", \"cum_week\": 358.0, \"position\": \"attacker\", \"Min_cum\": 359.0, \"predicted_cum_injuries\": 92.0, \"label\": \"Actual Injuries\", \"horizon\": 52}, {\"FBRefID\": \"69384e5d\", \"name\": \"Neymar\", \"date\": \"2020-05-10\", \"cum_week\": 359.0, \"position\": \"attacker\", \"Min_cum\": 359.0, \"predicted_cum_injuries\": 92.0, \"label\": \"Actual Injuries\", \"horizon\": 52}, {\"FBRefID\": \"69384e5d\", \"name\": \"Neymar\", \"date\": \"2020-05-17\", \"cum_week\": 360.0, \"position\": \"attacker\", \"Min_cum\": 359.0, \"predicted_cum_injuries\": 92.0, \"label\": \"Actual Injuries\", \"horizon\": 52}, {\"FBRefID\": \"69384e5d\", \"name\": \"Neymar\", \"date\": \"2020-05-24\", \"cum_week\": 361.0, \"position\": \"attacker\", \"Min_cum\": 359.0, \"predicted_cum_injuries\": 92.0, \"label\": \"Actual Injuries\", \"horizon\": 52}, {\"FBRefID\": \"69384e5d\", \"name\": \"Neymar\", \"date\": \"2020-05-31\", \"cum_week\": 362.0, \"position\": \"attacker\", \"Min_cum\": 359.0, \"predicted_cum_injuries\": 92.0, \"label\": \"Actual Injuries\", \"horizon\": 52}, {\"FBRefID\": \"69384e5d\", \"name\": \"Neymar\", \"date\": \"2020-06-07\", \"cum_week\": 363.0, \"position\": \"attacker\", \"Min_cum\": 359.0, \"predicted_cum_injuries\": 92.0, \"label\": \"Actual Injuries\", \"horizon\": 52}, {\"FBRefID\": \"69384e5d\", \"name\": \"Neymar\", \"date\": \"2020-06-14\", \"cum_week\": 364.0, \"position\": \"attacker\", \"Min_cum\": 359.0, \"predicted_cum_injuries\": 92.0, \"label\": \"Actual Injuries\", \"horizon\": 52}, {\"FBRefID\": \"69384e5d\", \"name\": \"Neymar\", \"date\": \"2020-06-21\", \"cum_week\": 365.0, \"position\": \"attacker\", \"Min_cum\": 359.0, \"predicted_cum_injuries\": 92.0, \"label\": \"Actual Injuries\", \"horizon\": 52}, {\"FBRefID\": \"69384e5d\", \"name\": \"Neymar\", \"date\": \"2020-06-28\", \"cum_week\": 366.0, \"position\": \"attacker\", \"Min_cum\": 359.0, \"predicted_cum_injuries\": 92.0, \"label\": \"Actual Injuries\", \"horizon\": 52}, {\"FBRefID\": \"69384e5d\", \"name\": \"Neymar\", \"date\": \"2020-07-05\", \"cum_week\": 367.0, \"position\": \"attacker\", \"Min_cum\": 359.0, \"predicted_cum_injuries\": 92.0, \"label\": \"Actual Injuries\", \"horizon\": 52}, {\"FBRefID\": \"69384e5d\", \"name\": \"Neymar\", \"date\": \"2020-07-12\", \"cum_week\": 368.0, \"position\": \"attacker\", \"Min_cum\": 359.0, \"predicted_cum_injuries\": 92.0, \"label\": \"Actual Injuries\", \"horizon\": 52}, {\"FBRefID\": \"69384e5d\", \"name\": \"Neymar\", \"date\": \"2020-07-19\", \"cum_week\": 369.0, \"position\": \"attacker\", \"Min_cum\": 359.0, \"predicted_cum_injuries\": 92.0, \"label\": \"Actual Injuries\", \"horizon\": 52}, {\"FBRefID\": \"69384e5d\", \"name\": \"Neymar\", \"date\": \"2020-07-26\", \"cum_week\": 370.0, \"position\": \"attacker\", \"Min_cum\": 359.0, \"predicted_cum_injuries\": 92.0, \"label\": \"Actual Injuries\", \"horizon\": 52}, {\"FBRefID\": \"69384e5d\", \"name\": \"Neymar\", \"date\": \"2020-08-02\", \"cum_week\": 370.0, \"position\": \"attacker\", \"Min_cum\": 449.0, \"predicted_cum_injuries\": 92.0, \"label\": \"Actual Injuries\", \"horizon\": 52}, {\"FBRefID\": \"69384e5d\", \"name\": \"Neymar\", \"date\": \"2020-08-09\", \"cum_week\": 371.0, \"position\": \"attacker\", \"Min_cum\": 569.0, \"predicted_cum_injuries\": 92.0, \"label\": \"Actual Injuries\", \"horizon\": 52}, {\"FBRefID\": \"69384e5d\", \"name\": \"Neymar\", \"date\": \"2020-08-16\", \"cum_week\": 373.0, \"position\": \"attacker\", \"Min_cum\": 569.0, \"predicted_cum_injuries\": 92.0, \"label\": \"Actual Injuries\", \"horizon\": 52}, {\"FBRefID\": \"69384e5d\", \"name\": \"Neymar\", \"date\": \"2020-08-23\", \"cum_week\": 373.0, \"position\": \"attacker\", \"Min_cum\": 659.0, \"predicted_cum_injuries\": 93.0, \"label\": \"Actual Injuries\", \"horizon\": 52}, {\"FBRefID\": \"69384e5d\", \"name\": \"Neymar\", \"date\": \"2020-08-30\", \"cum_week\": 374.0, \"position\": \"attacker\", \"Min_cum\": 839.0, \"predicted_cum_injuries\": 94.0, \"label\": \"Actual Injuries\", \"horizon\": 52}, {\"FBRefID\": \"69384e5d\", \"name\": \"Neymar\", \"date\": \"2020-09-06\", \"cum_week\": 376.0, \"position\": \"attacker\", \"Min_cum\": 839.0, \"predicted_cum_injuries\": 95.0, \"label\": \"Actual Injuries\", \"horizon\": 52}, {\"FBRefID\": \"69384e5d\", \"name\": \"Neymar\", \"date\": \"2020-09-13\", \"cum_week\": 376.0, \"position\": \"attacker\", \"Min_cum\": 0.0, \"predicted_cum_injuries\": 96.0, \"label\": \"Actual Injuries\", \"horizon\": 52}, {\"FBRefID\": \"69384e5d\", \"name\": \"Neymar\", \"date\": \"2020-09-20\", \"cum_week\": 377.0, \"position\": \"attacker\", \"Min_cum\": 89.0, \"predicted_cum_injuries\": 96.0, \"label\": \"Actual Injuries\", \"horizon\": 52}, {\"FBRefID\": \"69384e5d\", \"name\": \"Neymar\", \"date\": \"2020-09-27\", \"cum_week\": 379.0, \"position\": \"attacker\", \"Min_cum\": 89.0, \"predicted_cum_injuries\": 96.0, \"label\": \"Actual Injuries\", \"horizon\": 52}, {\"FBRefID\": \"69384e5d\", \"name\": \"Neymar\", \"date\": \"2020-10-04\", \"cum_week\": 379.0, \"position\": \"attacker\", \"Min_cum\": 179.0, \"predicted_cum_injuries\": 96.0, \"label\": \"Actual Injuries\", \"horizon\": 52}, {\"FBRefID\": \"69384e5d\", \"name\": \"Neymar\", \"date\": \"2020-10-11\", \"cum_week\": 380.0, \"position\": \"attacker\", \"Min_cum\": 269.0, \"predicted_cum_injuries\": 96.0, \"label\": \"Actual Injuries\", \"horizon\": 52}, {\"FBRefID\": \"69384e5d\", \"name\": \"Neymar\", \"date\": \"2020-10-18\", \"cum_week\": 381.0, \"position\": \"attacker\", \"Min_cum\": 449.0, \"predicted_cum_injuries\": 96.0, \"label\": \"Predicted Injuries\", \"horizon\": 52}, {\"FBRefID\": \"69384e5d\", \"name\": \"Neymar\", \"date\": \"2020-10-18\", \"cum_week\": 381.0, \"position\": \"attacker\", \"Min_cum\": 449.0, \"predicted_cum_injuries\": 96.0, \"label\": \"Actual Injuries\", \"horizon\": 52}, {\"FBRefID\": \"69384e5d\", \"name\": \"Neymar\", \"date\": \"2020-10-25\", \"cum_week\": 382.0, \"position\": \"attacker\", \"Min_cum\": 629.0, \"predicted_cum_injuries\": 96.0, \"label\": \"Predicted Injuries\", \"horizon\": 52}, {\"FBRefID\": \"69384e5d\", \"name\": \"Neymar\", \"date\": \"2020-11-01\", \"cum_week\": 383.0, \"position\": \"attacker\", \"Min_cum\": 809.0, \"predicted_cum_injuries\": 97.0, \"label\": \"Predicted Injuries\", \"horizon\": 52}, {\"FBRefID\": \"69384e5d\", \"name\": \"Neymar\", \"date\": \"2020-11-08\", \"cum_week\": 384.0, \"position\": \"attacker\", \"Min_cum\": 834.0, \"predicted_cum_injuries\": 97.0, \"label\": \"Predicted Injuries\", \"horizon\": 52}, {\"FBRefID\": \"69384e5d\", \"name\": \"Neymar\", \"date\": \"2020-11-08\", \"cum_week\": 384.0, \"position\": \"attacker\", \"Min_cum\": 0.0, \"predicted_cum_injuries\": 97.0, \"label\": \"Predicted Injuries\", \"horizon\": 52}, {\"FBRefID\": \"69384e5d\", \"name\": \"Neymar\", \"date\": \"2020-11-29\", \"cum_week\": 387.0, \"position\": \"attacker\", \"Min_cum\": 31.0, \"predicted_cum_injuries\": 97.0, \"label\": \"Predicted Injuries\", \"horizon\": 52}, {\"FBRefID\": \"69384e5d\", \"name\": \"Neymar\", \"date\": \"2020-12-06\", \"cum_week\": 388.0, \"position\": \"attacker\", \"Min_cum\": 210.0, \"predicted_cum_injuries\": 97.0, \"label\": \"Predicted Injuries\", \"horizon\": 52}, {\"FBRefID\": \"69384e5d\", \"name\": \"Neymar\", \"date\": \"2020-12-13\", \"cum_week\": 389.0, \"position\": \"attacker\", \"Min_cum\": 0.0, \"predicted_cum_injuries\": 97.0, \"label\": \"Predicted Injuries\", \"horizon\": 52}, {\"FBRefID\": \"69384e5d\", \"name\": \"Neymar\", \"date\": \"2020-12-13\", \"cum_week\": 389.0, \"position\": \"attacker\", \"Min_cum\": 90.0, \"predicted_cum_injuries\": 97.0, \"label\": \"Predicted Injuries\", \"horizon\": 52}, {\"FBRefID\": \"69384e5d\", \"name\": \"Neymar\", \"date\": \"2020-12-20\", \"cum_week\": 390.0, \"position\": \"attacker\", \"Min_cum\": 270.0, \"predicted_cum_injuries\": 97.0, \"label\": \"Predicted Injuries\", \"horizon\": 52}, {\"FBRefID\": \"69384e5d\", \"name\": \"Neymar\", \"date\": \"2020-12-27\", \"cum_week\": 391.0, \"position\": \"attacker\", \"Min_cum\": 0.0, \"predicted_cum_injuries\": 97.0, \"label\": \"Predicted Injuries\", \"horizon\": 52}, {\"FBRefID\": \"69384e5d\", \"name\": \"Neymar\", \"date\": \"2021-01-17\", \"cum_week\": 394.0, \"position\": \"attacker\", \"Min_cum\": 116.0, \"predicted_cum_injuries\": 97.0, \"label\": \"Predicted Injuries\", \"horizon\": 52}, {\"FBRefID\": \"69384e5d\", \"name\": \"Neymar\", \"date\": \"2021-01-24\", \"cum_week\": 395.0, \"position\": \"attacker\", \"Min_cum\": 206.0, \"predicted_cum_injuries\": 97.0, \"label\": \"Predicted Injuries\", \"horizon\": 52}, {\"FBRefID\": \"69384e5d\", \"name\": \"Neymar\", \"date\": \"2021-01-31\", \"cum_week\": 396.0, \"position\": \"attacker\", \"Min_cum\": 296.0, \"predicted_cum_injuries\": 97.0, \"label\": \"Predicted Injuries\", \"horizon\": 52}, {\"FBRefID\": \"69384e5d\", \"name\": \"Neymar\", \"date\": \"2021-02-07\", \"cum_week\": 397.0, \"position\": \"attacker\", \"Min_cum\": 322.0, \"predicted_cum_injuries\": 97.0, \"label\": \"Predicted Injuries\", \"horizon\": 52}, {\"FBRefID\": \"69384e5d\", \"name\": \"Neymar\", \"date\": \"2021-02-14\", \"cum_week\": 398.0, \"position\": \"attacker\", \"Min_cum\": 0.0, \"predicted_cum_injuries\": 97.0, \"label\": \"Predicted Injuries\", \"horizon\": 52}, {\"FBRefID\": \"69384e5d\", \"name\": \"Neymar\", \"date\": \"2021-02-14\", \"cum_week\": 398.0, \"position\": \"attacker\", \"Min_cum\": 59.0, \"predicted_cum_injuries\": 97.0, \"label\": \"Predicted Injuries\", \"horizon\": 52}, {\"FBRefID\": \"69384e5d\", \"name\": \"Neymar\", \"date\": \"2021-02-21\", \"cum_week\": 399.0, \"position\": \"attacker\", \"Min_cum\": 0.0, \"predicted_cum_injuries\": 97.0, \"label\": \"Predicted Injuries\", \"horizon\": 52}, {\"FBRefID\": \"69384e5d\", \"name\": \"Neymar\", \"date\": \"2021-03-21\", \"cum_week\": 403.0, \"position\": \"attacker\", \"Min_cum\": 21.0, \"predicted_cum_injuries\": 97.0, \"label\": \"Predicted Injuries\", \"horizon\": 52}, {\"FBRefID\": \"69384e5d\", \"name\": \"Neymar\", \"date\": \"2021-03-28\", \"cum_week\": 404.0, \"position\": \"attacker\", \"Min_cum\": 21.0, \"predicted_cum_injuries\": 97.0, \"label\": \"Predicted Injuries\", \"horizon\": 52}, {\"FBRefID\": \"69384e5d\", \"name\": \"Neymar\", \"date\": \"2021-04-04\", \"cum_week\": 405.0, \"position\": \"attacker\", \"Min_cum\": 110.0, \"predicted_cum_injuries\": 97.0, \"label\": \"Predicted Injuries\", \"horizon\": 52}, {\"FBRefID\": \"69384e5d\", \"name\": \"Neymar\", \"date\": \"2021-04-11\", \"cum_week\": 406.0, \"position\": \"attacker\", \"Min_cum\": 199.0, \"predicted_cum_injuries\": 97.0, \"label\": \"Predicted Injuries\", \"horizon\": 52}, {\"FBRefID\": \"69384e5d\", \"name\": \"Neymar\", \"date\": \"2021-04-18\", \"cum_week\": 407.0, \"position\": \"attacker\", \"Min_cum\": 289.0, \"predicted_cum_injuries\": 97.0, \"label\": \"Predicted Injuries\", \"horizon\": 52}, {\"FBRefID\": \"69384e5d\", \"name\": \"Neymar\", \"date\": \"2021-04-25\", \"cum_week\": 408.0, \"position\": \"attacker\", \"Min_cum\": 440.0, \"predicted_cum_injuries\": 97.0, \"label\": \"Predicted Injuries\", \"horizon\": 52}, {\"FBRefID\": \"69384e5d\", \"name\": \"Neymar\", \"date\": \"2021-05-02\", \"cum_week\": 409.0, \"position\": \"attacker\", \"Min_cum\": 619.0, \"predicted_cum_injuries\": 98.0, \"label\": \"Predicted Injuries\", \"horizon\": 52}, {\"FBRefID\": \"69384e5d\", \"name\": \"Neymar\", \"date\": \"2021-05-09\", \"cum_week\": 410.0, \"position\": \"attacker\", \"Min_cum\": 799.0, \"predicted_cum_injuries\": 98.0, \"label\": \"Predicted Injuries\", \"horizon\": 52}, {\"FBRefID\": \"69384e5d\", \"name\": \"Neymar\", \"date\": \"2021-05-16\", \"cum_week\": 411.0, \"position\": \"attacker\", \"Min_cum\": 924.0, \"predicted_cum_injuries\": 98.0, \"label\": \"Predicted Injuries\", \"horizon\": 52}, {\"FBRefID\": \"69384e5d\", \"name\": \"Neymar\", \"date\": \"2021-05-23\", \"cum_week\": 412.0, \"position\": \"attacker\", \"Min_cum\": 1014.0, \"predicted_cum_injuries\": 98.0, \"label\": \"Predicted Injuries\", \"horizon\": 52}, {\"FBRefID\": \"69384e5d\", \"name\": \"Neymar\", \"date\": \"2021-05-30\", \"cum_week\": 413.0, \"position\": \"attacker\", \"Min_cum\": 1014.0, \"predicted_cum_injuries\": 98.0, \"label\": \"Predicted Injuries\", \"horizon\": 52}, {\"FBRefID\": \"69384e5d\", \"name\": \"Neymar\", \"date\": \"2021-06-06\", \"cum_week\": 414.0, \"position\": \"attacker\", \"Min_cum\": 1104.0, \"predicted_cum_injuries\": 98.0, \"label\": \"Predicted Injuries\", \"horizon\": 52}, {\"FBRefID\": \"69384e5d\", \"name\": \"Neymar\", \"date\": \"2021-06-13\", \"cum_week\": 415.0, \"position\": \"attacker\", \"Min_cum\": 1284.0, \"predicted_cum_injuries\": 98.0, \"label\": \"Predicted Injuries\", \"horizon\": 52}, {\"FBRefID\": \"69384e5d\", \"name\": \"Neymar\", \"date\": \"2021-06-20\", \"cum_week\": 416.0, \"position\": \"attacker\", \"Min_cum\": 1374.0, \"predicted_cum_injuries\": 98.0, \"label\": \"Predicted Injuries\", \"horizon\": 52}, {\"FBRefID\": \"69384e5d\", \"name\": \"Neymar\", \"date\": \"2021-06-27\", \"cum_week\": 417.0, \"position\": \"attacker\", \"Min_cum\": 1464.0, \"predicted_cum_injuries\": 98.0, \"label\": \"Predicted Injuries\", \"horizon\": 52}, {\"FBRefID\": \"69384e5d\", \"name\": \"Neymar\", \"date\": \"2021-07-04\", \"cum_week\": 418.0, \"position\": \"attacker\", \"Min_cum\": 1644.0, \"predicted_cum_injuries\": 98.0, \"label\": \"Predicted Injuries\", \"horizon\": 52}, {\"FBRefID\": \"69384e5d\", \"name\": \"Neymar\", \"date\": \"2021-07-11\", \"cum_week\": 419.0, \"position\": \"attacker\", \"Min_cum\": 2004.0, \"predicted_cum_injuries\": 98.0, \"label\": \"Predicted Injuries\", \"horizon\": 52}, {\"FBRefID\": \"69384e5d\", \"name\": \"Neymar\", \"date\": \"2021-07-18\", \"cum_week\": 420.0, \"position\": \"attacker\", \"Min_cum\": 2004.0, \"predicted_cum_injuries\": 98.0, \"label\": \"Predicted Injuries\", \"horizon\": 52}, {\"FBRefID\": \"69384e5d\", \"name\": \"Neymar\", \"date\": \"2021-07-25\", \"cum_week\": 421.0, \"position\": \"attacker\", \"Min_cum\": 2004.0, \"predicted_cum_injuries\": 98.0, \"label\": \"Predicted Injuries\", \"horizon\": 52}, {\"FBRefID\": \"69384e5d\", \"name\": \"Neymar\", \"date\": \"2021-08-01\", \"cum_week\": 422.0, \"position\": \"attacker\", \"Min_cum\": 0.0, \"predicted_cum_injuries\": 98.0, \"label\": \"Predicted Injuries\", \"horizon\": 52}, {\"FBRefID\": \"69384e5d\", \"name\": \"Neymar\", \"date\": \"2021-08-29\", \"cum_week\": 426.0, \"position\": \"attacker\", \"Min_cum\": 130.0, \"predicted_cum_injuries\": 98.0, \"label\": \"Predicted Injuries\", \"horizon\": 52}, {\"FBRefID\": \"69384e5d\", \"name\": \"Neymar\", \"date\": \"2021-09-05\", \"cum_week\": 427.0, \"position\": \"attacker\", \"Min_cum\": 220.0, \"predicted_cum_injuries\": 98.0, \"label\": \"Predicted Injuries\", \"horizon\": 52}, {\"FBRefID\": \"69384e5d\", \"name\": \"Neymar\", \"date\": \"2021-09-12\", \"cum_week\": 428.0, \"position\": \"attacker\", \"Min_cum\": 310.0, \"predicted_cum_injuries\": 98.0, \"label\": \"Predicted Injuries\", \"horizon\": 52}, {\"FBRefID\": \"69384e5d\", \"name\": \"Neymar\", \"date\": \"2021-09-19\", \"cum_week\": 429.0, \"position\": \"attacker\", \"Min_cum\": 670.0, \"predicted_cum_injuries\": 98.0, \"label\": \"Predicted Injuries\", \"horizon\": 52}, {\"FBRefID\": \"69384e5d\", \"name\": \"Neymar\", \"date\": \"2021-09-26\", \"cum_week\": 430.0, \"position\": \"attacker\", \"Min_cum\": 1030.0, \"predicted_cum_injuries\": 98.0, \"label\": \"Predicted Injuries\", \"horizon\": 52}, {\"FBRefID\": \"69384e5d\", \"name\": \"Neymar\", \"date\": \"2021-10-03\", \"cum_week\": 431.0, \"position\": \"attacker\", \"Min_cum\": 1360.0, \"predicted_cum_injuries\": 98.0, \"label\": \"Predicted Injuries\", \"horizon\": 52}, {\"FBRefID\": \"69384e5d\", \"name\": \"Neymar\", \"date\": \"2021-10-10\", \"cum_week\": 432.0, \"position\": \"attacker\", \"Min_cum\": 1450.0, \"predicted_cum_injuries\": 98.0, \"label\": \"Predicted Injuries\", \"horizon\": 52}, {\"FBRefID\": \"69384e5d\", \"name\": \"Neymar\", \"date\": \"2021-10-17\", \"cum_week\": 433.0, \"position\": \"attacker\", \"Min_cum\": 0.0, \"predicted_cum_injuries\": 98.0, \"label\": \"Predicted Injuries\", \"horizon\": 52}, {\"FBRefID\": \"69384e5d\", \"name\": \"Neymar\", \"date\": \"2021-10-17\", \"cum_week\": 433.0, \"position\": \"attacker\", \"Min_cum\": 90.0, \"predicted_cum_injuries\": 99.0, \"label\": \"Predicted Injuries\", \"horizon\": 52}, {\"FBRefID\": \"69384e5d\", \"name\": \"Neymar\", \"date\": \"2021-10-24\", \"cum_week\": 434.0, \"position\": \"attacker\", \"Min_cum\": 254.0, \"predicted_cum_injuries\": 99.0, \"label\": \"Predicted Injuries\", \"horizon\": 52}, {\"FBRefID\": \"69384e5d\", \"name\": \"Neymar\", \"date\": \"2021-10-31\", \"cum_week\": 435.0, \"position\": \"attacker\", \"Min_cum\": 434.0, \"predicted_cum_injuries\": 99.0, \"label\": \"Predicted Injuries\", \"horizon\": 52}, {\"FBRefID\": \"69384e5d\", \"name\": \"Neymar\", \"date\": \"2021-11-07\", \"cum_week\": 436.0, \"position\": \"attacker\", \"Min_cum\": 794.0, \"predicted_cum_injuries\": 99.0, \"label\": \"Predicted Injuries\", \"horizon\": 52}, {\"FBRefID\": \"69384e5d\", \"name\": \"Neymar\", \"date\": \"2021-11-14\", \"cum_week\": 437.0, \"position\": \"attacker\", \"Min_cum\": 884.0, \"predicted_cum_injuries\": 99.0, \"label\": \"Predicted Injuries\", \"horizon\": 52}, {\"FBRefID\": \"69384e5d\", \"name\": \"Neymar\", \"date\": \"2021-11-21\", \"cum_week\": 438.0, \"position\": \"attacker\", \"Min_cum\": 1018.0, \"predicted_cum_injuries\": 99.0, \"label\": \"Predicted Injuries\", \"horizon\": 52}, {\"FBRefID\": \"69384e5d\", \"name\": \"Neymar\", \"date\": \"2021-11-28\", \"cum_week\": 439.0, \"position\": \"attacker\", \"Min_cum\": 1372.0, \"predicted_cum_injuries\": 99.0, \"label\": \"Predicted Injuries\", \"horizon\": 52}]}}, {\"mode\": \"vega-lite\"});\n",
       "</script>"
      ],
      "text/plain": [
       "alt.Chart(...)"
      ]
     },
     "execution_count": 310,
     "metadata": {},
     "output_type": "execute_result"
    }
   ],
   "source": [
    "plot_it(52, final_player_df)"
   ]
  },
  {
   "cell_type": "code",
   "execution_count": null,
   "metadata": {},
   "outputs": [],
   "source": []
  }
 ],
 "metadata": {
  "interpreter": {
   "hash": "aee8b7b246df8f9039afb4144a1f6fd8d2ca17a180786b69acc140d282b71a49"
  },
  "kernelspec": {
   "display_name": "Python 3",
   "language": "python",
   "name": "python3"
  },
  "language_info": {
   "codemirror_mode": {
    "name": "ipython",
    "version": 3
   },
   "file_extension": ".py",
   "mimetype": "text/x-python",
   "name": "python",
   "nbconvert_exporter": "python",
   "pygments_lexer": "ipython3",
   "version": "3.8.8"
  }
 },
 "nbformat": 4,
 "nbformat_minor": 2
}
