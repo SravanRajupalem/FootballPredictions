{
  "cells": [
    {
      "cell_type": "code",
      "execution_count": 25,
      "metadata": {
        "id": "k3Vq6Ipae3qP"
      },
      "outputs": [],
      "source": [
        "import datetime\n",
        "from datetime import date\n",
        "import requests\n",
        "import pprint\n",
        "from bs4 import BeautifulSoup\n",
        "import pandas as pd\n",
        "import re\n",
        "import pickle\n",
        "from urllib.request import urlopen"
      ]
    },
    {
      "cell_type": "code",
      "execution_count": 26,
      "metadata": {},
      "outputs": [],
      "source": [
        "URL = 'https://fbref.com/en/comps/'\n",
        "page = requests.get(URL)\n",
        "soup = BeautifulSoup(page.content, 'html.parser')"
      ]
    },
    {
      "cell_type": "code",
      "execution_count": 27,
      "metadata": {},
      "outputs": [],
      "source": [
        "# Reading CSV File for first Batch 0-5000\n",
        "\n",
        "match_logs_list_urls_1 = pd.read_csv('/Volumes/GoogleDrive/.shortcut-targets-by-id/1KUGn_35OjAoOP2puz6yG-2g_8LBxvDG_/SIADS 697 - Capstone/CSV Files/match_logs_list_1.csv')\n",
        "match_logs_list_urls_2 = pd.read_csv('/Volumes/GoogleDrive/.shortcut-targets-by-id/1KUGn_35OjAoOP2puz6yG-2g_8LBxvDG_/SIADS 697 - Capstone/CSV Files/match_logs_list_2.csv')\n",
        "match_logs_list_urls_3 = pd.read_csv('/Volumes/GoogleDrive/.shortcut-targets-by-id/1KUGn_35OjAoOP2puz6yG-2g_8LBxvDG_/SIADS 697 - Capstone/CSV Files/match_logs_list_3.csv')\n",
        "match_logs_list_urls_4 = pd.read_csv('/Volumes/GoogleDrive/.shortcut-targets-by-id/1KUGn_35OjAoOP2puz6yG-2g_8LBxvDG_/SIADS 697 - Capstone/CSV Files/match_logs_list_4.csv')\n",
        "match_logs_list_urls_5 = pd.read_csv('/Volumes/GoogleDrive/.shortcut-targets-by-id/1KUGn_35OjAoOP2puz6yG-2g_8LBxvDG_/SIADS 697 - Capstone/CSV Files/match_logs_list_5.csv')\n"
      ]
    },
    {
      "cell_type": "code",
      "execution_count": 29,
      "metadata": {},
      "outputs": [
        {
          "data": {
            "text/plain": [
              "148478"
            ]
          },
          "execution_count": 29,
          "metadata": {},
          "output_type": "execute_result"
        }
      ],
      "source": [
        "# Uniting all match logs into a single list:  match_logs_list_urls\n",
        "match_logs_list_urls = []\n",
        "match_logs_list_urls.extend(list(match_logs_list_urls_1['0']))\n",
        "match_logs_list_urls.extend(list(match_logs_list_urls_2['0']))\n",
        "match_logs_list_urls.extend(list(match_logs_list_urls_3['0']))\n",
        "match_logs_list_urls.extend(list(match_logs_list_urls_4['0']))\n",
        "match_logs_list_urls.extend(list(match_logs_list_urls_5['0']))\n",
        "\n",
        "len(match_logs_list_urls)"
      ]
    },
    {
      "cell_type": "code",
      "execution_count": 30,
      "metadata": {},
      "outputs": [
        {
          "data": {
            "text/plain": [
              "118283"
            ]
          },
          "execution_count": 30,
          "metadata": {},
          "output_type": "execute_result"
        }
      ],
      "source": [
        "# Eliminated Repeated match logs\n",
        "match_logs_list_urls = list(set(match_logs_list_urls))\n",
        "len(match_logs_list_urls)"
      ]
    },
    {
      "cell_type": "code",
      "execution_count": 31,
      "metadata": {},
      "outputs": [],
      "source": [
        "# export to google drive as match_logs_list_urls\n",
        "\n",
        "#Renzo's Path\n",
        "pd.DataFrame(match_logs_list_urls).to_csv('/Volumes/GoogleDrive/.shortcut-targets-by-id/1KUGn_35OjAoOP2puz6yG-2g_8LBxvDG_/SIADS 697 - Capstone/CSV Files/match_logs_list_urls.csv')"
      ]
    }
  ],
  "metadata": {
    "colab": {
      "collapsed_sections": [],
      "name": "Extract Injuries.ipynb",
      "provenance": []
    },
    "interpreter": {
      "hash": "47a3b8c90a833cf9da06489e1df426457d9dfe0a0f45f7f7024d52af9fffecff"
    },
    "kernelspec": {
      "display_name": "Python 3.8.8 64-bit ('base': conda)",
      "name": "python3"
    },
    "language_info": {
      "codemirror_mode": {
        "name": "ipython",
        "version": 3
      },
      "file_extension": ".py",
      "mimetype": "text/x-python",
      "name": "python",
      "nbconvert_exporter": "python",
      "pygments_lexer": "ipython3",
      "version": "3.9.7"
    }
  },
  "nbformat": 4,
  "nbformat_minor": 2
}
