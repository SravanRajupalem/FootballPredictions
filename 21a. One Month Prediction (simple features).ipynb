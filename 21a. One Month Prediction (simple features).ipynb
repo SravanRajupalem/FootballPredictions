{
 "cells": [
  {
   "cell_type": "code",
   "execution_count": 3,
   "metadata": {},
   "outputs": [],
   "source": [
    "import datetime\n",
    "from datetime import date\n",
    "from datetime import datetime\n",
    "import requests\n",
    "import pprint\n",
    "from bs4 import BeautifulSoup\n",
    "import pandas as pd\n",
    "import re\n",
    "import pickle\n",
    "from urllib.request import urlopen\n",
    "import glob\n",
    "# import altair as alt\n",
    "import time\n",
    "import itertools\n",
    "import numpy as np\n",
    "import operator\n",
    "from datetime import timedelta\n",
    "from ipywidgets import interact, IntSlider\n",
    "from IPython.display import display\n",
    "import sklearn\n",
    "import numpy as np\n",
    "from sklearn.linear_model import LogisticRegression\n",
    "import seaborn as sns\n",
    "from matplotlib import pyplot as plt\n",
    "%matplotlib inline\n",
    "from sklearn.metrics import accuracy_score, confusion_matrix,roc_curve, roc_auc_score, precision_score, recall_score, precision_recall_curve\n",
    "from sklearn.model_selection import train_test_split, GridSearchCV, cross_val_score, RepeatedStratifiedKFold, StratifiedKFold\n",
    "from sklearn.datasets import make_hastie_10_2\n",
    "from sklearn.ensemble import GradientBoostingClassifier\n",
    "from imblearn.pipeline import make_pipeline as make_pipeline_with_sampler\n",
    "from imblearn.under_sampling import RandomUnderSampler\n",
    "\n",
    "# pd.options.display.max_columns = 5000\n",
    "# pd.options.display.max_rows = 5000\n",
    "\n",
    "injured_pred = 'injured_in_4_week'\n",
    "\n",
    "simple_features = ['Height', 'Weight', 'age','cum_injury_total', 'weeks_since_injury', 'Min_cum']\n",
    "\n",
    "extended_features = ['Height', 'Weight', 'defender', 'attacker', 'midfielder', 'goalkeeper', 'right_foot', 'age', 'cum_injury_total', 'weeks_since_injury', 'Min_cum', 'Gls_cum', 'Ast_cum', 'PK_cum', 'PKatt_cum',\n",
    " 'Sh_cum', 'SoT_cum', 'CrdY_cum', 'CrdR_cum', 'Touches_cum', 'Press_cum', 'Tkl_cum', 'Int_cum', 'Blocks_cum', 'xG_cum', 'npxG_cum', 'xA_cum', 'SCA_cum', 'GCA_cum', 'Cmp_cum',\n",
    " 'Att_cum', 'Prog_cum', 'Carries_cum', 'Prog.1_cum', 'Succ_cum', 'Att.1_cum', 'Fls_cum', 'Fld_cum', 'Off_cum', 'Crs_cum', 'TklW_cum', 'OG_cum', 'PKwon_cum','PKcon_cum']"
   ]
  },
  {
   "cell_type": "code",
   "execution_count": 4,
   "metadata": {},
   "outputs": [],
   "source": [
    "# Load Dataset\n",
    "\n",
    "# Renzo's Path\n",
    "# dataset = pd.read_csv('/Volumes/GoogleDrive/.shortcut-targets-by-id/1KUGn_35OjAoOP2puz6yG-2g_8LBxvDG_/SIADS 697 - Capstone/Dataframes/complete_final_df_5.csv')\n",
    "\n",
    "# Sravan's Path\n",
    "dataset = pd.read_csv('/Users/srav88/My Drive/SIADS 697 - Capstone/Dataframes/dataset_for_model_final.csv')"
   ]
  },
  {
   "cell_type": "code",
   "execution_count": 5,
   "metadata": {},
   "outputs": [],
   "source": [
    "dataset.loc[(dataset['injury_count'].shift(1) == 1) & (dataset['injury_count'] == 1), 'drop'] = 1\n",
    "dataset.loc[(dataset['injury_count'].shift(1) == 0) & (dataset['injury_count'] == 1), 'drop'] = 0\n",
    "dataset.loc[(dataset['injury_count'].shift(1) == 1) & (dataset['injury_count'] == 0), 'drop'] = 0\n",
    "dataset.loc[(dataset['injury_count'].shift(1) == 0) & (dataset['injury_count'] == 0), 'drop'] = 0\n",
    "dataset.loc[(dataset['injury_count'] == 1) & (dataset['cum_week'] == 0), 'drop'] = 1"
   ]
  },
  {
   "cell_type": "code",
   "execution_count": 6,
   "metadata": {},
   "outputs": [],
   "source": [
    "# dataset[dataset['FBRefID']=='dea698d9'].to_csv('/Users/srav88/My Drive/SIADS 697 - Capstone/Dataframes/ronaldo.csv', index=False)\n",
    "dataset = dataset[dataset['drop'] == 0]\n",
    "dataset = dataset[dataset['goalkeeper'] == 0]"
   ]
  },
  {
   "cell_type": "code",
   "execution_count": 7,
   "metadata": {},
   "outputs": [],
   "source": [
    "dataset[\"last_week\"] = dataset.groupby(\"FBRefID\")[\"cum_week\"].transform(\"last\")\n",
    "dataset[\"train_split\"] = round(dataset[\"last_week\"]*0.75)"
   ]
  },
  {
   "cell_type": "code",
   "execution_count": 8,
   "metadata": {},
   "outputs": [],
   "source": [
    "# Get Train Test Split\n",
    "df_train = dataset[dataset['cum_week'] <= dataset[\"train_split\"]].dropna()\n",
    "df_test = dataset[dataset['cum_week'] > dataset[\"train_split\"]].dropna()"
   ]
  },
  {
   "cell_type": "code",
   "execution_count": 9,
   "metadata": {},
   "outputs": [],
   "source": [
    "X_train = df_train[simple_features].to_numpy()\n",
    "y_train = df_train[injured_pred]\n",
    "\n",
    "X_test = df_test[simple_features].to_numpy()\n",
    "y_test = df_test[injured_pred]"
   ]
  },
  {
   "cell_type": "code",
   "execution_count": 11,
   "metadata": {},
   "outputs": [],
   "source": [
    "# nan_values = y_test.isna()\n",
    "# nan_columns = nan_values.any()\n",
    "\n",
    "# columns_with_nan = y_test.columns[nan_columns].tolist()\n",
    "# print(columns_with_nan)"
   ]
  },
  {
   "cell_type": "code",
   "execution_count": 12,
   "metadata": {},
   "outputs": [
    {
     "data": {
      "text/plain": [
       "<AxesSubplot:xlabel='injured_in_4_week', ylabel='count'>"
      ]
     },
     "execution_count": 12,
     "metadata": {},
     "output_type": "execute_result"
    },
    {
     "data": {
      "image/png": "[encoded data removed]",
      "text/plain": [
       "<Figure size 432x288 with 1 Axes>"
      ]
     },
     "metadata": {
      "needs_background": "light"
     },
     "output_type": "display_data"
    }
   ],
   "source": [
    "sns.countplot(x=injured_pred,data=df_train)"
   ]
  },
  {
   "cell_type": "code",
   "execution_count": 13,
   "metadata": {},
   "outputs": [
    {
     "data": {
      "text/plain": [
       "<AxesSubplot:xlabel='injured_in_4_week', ylabel='count'>"
      ]
     },
     "execution_count": 13,
     "metadata": {},
     "output_type": "execute_result"
    },
    {
     "data": {
      "image/png": "[encoded data removed]",
      "text/plain": [
       "<Figure size 432x288 with 1 Axes>"
      ]
     },
     "metadata": {
      "needs_background": "light"
     },
     "output_type": "display_data"
    }
   ],
   "source": [
    "sns.countplot(x=injured_pred,data=df_test)"
   ]
  },
  {
   "cell_type": "code",
   "execution_count": 14,
   "metadata": {},
   "outputs": [],
   "source": [
    "model_compare = pd.DataFrame(columns=['model', 'precision', 'recall', 'f1-score', 'support'])"
   ]
  },
  {
   "cell_type": "markdown",
   "metadata": {},
   "source": [
    "# Dummy Classifier"
   ]
  },
  {
   "cell_type": "code",
   "execution_count": 15,
   "metadata": {},
   "outputs": [
    {
     "data": {
      "text/plain": [
       "DummyClassifier(strategy='most_frequent')"
      ]
     },
     "execution_count": 15,
     "metadata": {},
     "output_type": "execute_result"
    }
   ],
   "source": [
    "from sklearn.model_selection import cross_validate\n",
    "from sklearn.dummy import DummyClassifier\n",
    "\n",
    "dummy_clf = DummyClassifier(strategy=\"most_frequent\")\n",
    "scoring = [\"accuracy\", \"balanced_accuracy\"]\n",
    "dummy_clf.fit(X_train, y_train)"
   ]
  },
  {
   "cell_type": "code",
   "execution_count": 16,
   "metadata": {},
   "outputs": [],
   "source": [
    "# index = []\n",
    "# scores = {\"Accuracy\": [], \"Balanced accuracy\": []}"
   ]
  },
  {
   "cell_type": "code",
   "execution_count": 17,
   "metadata": {},
   "outputs": [],
   "source": [
    "# index += [\"Dummy classifier\"]\n",
    "# cv_result = cross_validate(dummy_clf, X_train, y_train, scoring=scoring)\n",
    "# scores[\"Accuracy\"].append(cv_result[\"test_accuracy\"].mean())\n",
    "# scores[\"Balanced accuracy\"].append(cv_result[\"test_balanced_accuracy\"].mean())\n",
    "\n",
    "# df_scores = pd.DataFrame(scores, index=index)\n",
    "# df_scores"
   ]
  },
  {
   "cell_type": "code",
   "execution_count": 18,
   "metadata": {},
   "outputs": [],
   "source": [
    "y_pred_dummy = dummy_clf.predict(X_test)"
   ]
  },
  {
   "cell_type": "code",
   "execution_count": 19,
   "metadata": {},
   "outputs": [
    {
     "name": "stdout",
     "output_type": "stream",
     "text": [
      "Accuracy Score: 0.9210248522137773\n",
      "Confusion Matrix: \n",
      "[[122150      0]\n",
      " [ 10474      0]]\n",
      "Area Under Curve: 0.5\n",
      "Recall score: 0.0\n"
     ]
    }
   ],
   "source": [
    "# performance\n",
    "print(f'Accuracy Score: {accuracy_score(y_test,y_pred_dummy)}')\n",
    "print(f'Confusion Matrix: \\n{confusion_matrix(y_test, y_pred_dummy)}')\n",
    "print(f'Area Under Curve: {roc_auc_score(y_test, y_pred_dummy)}')\n",
    "print(f'Recall score: {recall_score(y_test,y_pred_dummy)}')"
   ]
  },
  {
   "cell_type": "code",
   "execution_count": 20,
   "metadata": {},
   "outputs": [
    {
     "name": "stderr",
     "output_type": "stream",
     "text": [
      "/Library/Frameworks/Python.framework/Versions/3.8/lib/python3.8/site-packages/sklearn/metrics/_classification.py:1308: UndefinedMetricWarning: Precision and F-score are ill-defined and being set to 0.0 in labels with no predicted samples. Use `zero_division` parameter to control this behavior.\n",
      "  _warn_prf(average, modifier, msg_start, len(result))\n",
      "/Library/Frameworks/Python.framework/Versions/3.8/lib/python3.8/site-packages/sklearn/metrics/_classification.py:1308: UndefinedMetricWarning: Precision and F-score are ill-defined and being set to 0.0 in labels with no predicted samples. Use `zero_division` parameter to control this behavior.\n",
      "  _warn_prf(average, modifier, msg_start, len(result))\n",
      "/Library/Frameworks/Python.framework/Versions/3.8/lib/python3.8/site-packages/sklearn/metrics/_classification.py:1308: UndefinedMetricWarning: Precision and F-score are ill-defined and being set to 0.0 in labels with no predicted samples. Use `zero_division` parameter to control this behavior.\n",
      "  _warn_prf(average, modifier, msg_start, len(result))\n"
     ]
    }
   ],
   "source": [
    "from sklearn import metrics\n",
    "\n",
    "def get_classification_report(y_test, y_pred, classifier):\n",
    "    report = metrics.classification_report(y_test, y_pred, output_dict=True)\n",
    "    df_classification_report = pd.DataFrame(report).transpose()\n",
    "    df_classification_report = df_classification_report.sort_values(by=['f1-score'], ascending=False)\n",
    "    df_classification_report = df_classification_report.reset_index()\n",
    "    df_classification_report = df_classification_report[df_classification_report['index']=='1.0']\n",
    "    df_classification_report['model'] = classifier    \n",
    "    return df_classification_report[['model', 'precision', 'recall', 'f1-score', 'support']].reset_index(drop=True)\n",
    "\n",
    "df = get_classification_report(y_test, y_pred_dummy, 'Dummy Classifier')"
   ]
  },
  {
   "cell_type": "code",
   "execution_count": 21,
   "metadata": {},
   "outputs": [
    {
     "data": {
      "text/html": [
       "<div>\n",
       "<style scoped>\n",
       "    .dataframe tbody tr th:only-of-type {\n",
       "        vertical-align: middle;\n",
       "    }\n",
       "\n",
       "    .dataframe tbody tr th {\n",
       "        vertical-align: top;\n",
       "    }\n",
       "\n",
       "    .dataframe thead th {\n",
       "        text-align: right;\n",
       "    }\n",
       "</style>\n",
       "<table border=\"1\" class=\"dataframe\">\n",
       "  <thead>\n",
       "    <tr style=\"text-align: right;\">\n",
       "      <th></th>\n",
       "      <th>model</th>\n",
       "      <th>precision</th>\n",
       "      <th>recall</th>\n",
       "      <th>f1-score</th>\n",
       "      <th>support</th>\n",
       "    </tr>\n",
       "  </thead>\n",
       "  <tbody>\n",
       "    <tr>\n",
       "      <th>0</th>\n",
       "      <td>Dummy Classifier</td>\n",
       "      <td>0.0</td>\n",
       "      <td>0.0</td>\n",
       "      <td>0.0</td>\n",
       "      <td>10474.0</td>\n",
       "    </tr>\n",
       "  </tbody>\n",
       "</table>\n",
       "</div>"
      ],
      "text/plain": [
       "              model  precision  recall  f1-score  support\n",
       "0  Dummy Classifier        0.0     0.0       0.0  10474.0"
      ]
     },
     "execution_count": 21,
     "metadata": {},
     "output_type": "execute_result"
    }
   ],
   "source": [
    "model_compare = model_compare.append(df)\n",
    "model_compare.head()"
   ]
  },
  {
   "cell_type": "markdown",
   "metadata": {},
   "source": [
    "# Logistic Regression (Non-Weighted)"
   ]
  },
  {
   "cell_type": "code",
   "execution_count": 22,
   "metadata": {},
   "outputs": [
    {
     "data": {
      "text/plain": [
       "LogisticRegression(max_iter=1000)"
      ]
     },
     "execution_count": 22,
     "metadata": {},
     "output_type": "execute_result"
    }
   ],
   "source": [
    "lr_clf = LogisticRegression(max_iter=1000)\n",
    "lr_clf.fit(X_train, y_train)"
   ]
  },
  {
   "cell_type": "code",
   "execution_count": 23,
   "metadata": {},
   "outputs": [],
   "source": [
    "# index += [\"Logistic regression\"]\n",
    "# cv_result = cross_validate(lr_clf, X_train, y_train, scoring=scoring)\n",
    "# scores[\"Accuracy\"].append(cv_result[\"test_accuracy\"].mean())\n",
    "# scores[\"Balanced accuracy\"].append(cv_result[\"test_balanced_accuracy\"].mean())\n",
    "\n",
    "# df_scores = pd.DataFrame(scores, index=index)\n",
    "# df_scores"
   ]
  },
  {
   "cell_type": "code",
   "execution_count": 24,
   "metadata": {},
   "outputs": [],
   "source": [
    "y_pred_lr = lr_clf.predict(X_test)"
   ]
  },
  {
   "cell_type": "code",
   "execution_count": 26,
   "metadata": {},
   "outputs": [
    {
     "name": "stdout",
     "output_type": "stream",
     "text": [
      "Accuracy Score: 0.9172246350585113\n",
      "Confusion Matrix: \n",
      "[[121508    642]\n",
      " [ 10336    138]]\n",
      "Area Under Curve: 0.503959824577022\n",
      "Recall score: 0.013175482146266947\n"
     ]
    }
   ],
   "source": [
    "# performance\n",
    "print(f'Accuracy Score: {accuracy_score(y_test,y_pred_lr)}')\n",
    "print(f'Confusion Matrix: \\n{confusion_matrix(y_test, y_pred_lr)}')\n",
    "print(f'Area Under Curve: {roc_auc_score(y_test, y_pred_lr)}')\n",
    "print(f'Recall score: {recall_score(y_test,y_pred_lr)}')"
   ]
  },
  {
   "cell_type": "code",
   "execution_count": 27,
   "metadata": {},
   "outputs": [
    {
     "data": {
      "text/html": [
       "<div>\n",
       "<style scoped>\n",
       "    .dataframe tbody tr th:only-of-type {\n",
       "        vertical-align: middle;\n",
       "    }\n",
       "\n",
       "    .dataframe tbody tr th {\n",
       "        vertical-align: top;\n",
       "    }\n",
       "\n",
       "    .dataframe thead th {\n",
       "        text-align: right;\n",
       "    }\n",
       "</style>\n",
       "<table border=\"1\" class=\"dataframe\">\n",
       "  <thead>\n",
       "    <tr style=\"text-align: right;\">\n",
       "      <th></th>\n",
       "      <th>model</th>\n",
       "      <th>precision</th>\n",
       "      <th>recall</th>\n",
       "      <th>f1-score</th>\n",
       "      <th>support</th>\n",
       "    </tr>\n",
       "  </thead>\n",
       "  <tbody>\n",
       "    <tr>\n",
       "      <th>0</th>\n",
       "      <td>Dummy Classifier</td>\n",
       "      <td>0.000000</td>\n",
       "      <td>0.000000</td>\n",
       "      <td>0.000000</td>\n",
       "      <td>10474.0</td>\n",
       "    </tr>\n",
       "    <tr>\n",
       "      <th>1</th>\n",
       "      <td>Logistic Regression</td>\n",
       "      <td>0.176923</td>\n",
       "      <td>0.013175</td>\n",
       "      <td>0.024525</td>\n",
       "      <td>10474.0</td>\n",
       "    </tr>\n",
       "  </tbody>\n",
       "</table>\n",
       "</div>"
      ],
      "text/plain": [
       "                 model  precision    recall  f1-score  support\n",
       "0     Dummy Classifier   0.000000  0.000000  0.000000  10474.0\n",
       "1  Logistic Regression   0.176923  0.013175  0.024525  10474.0"
      ]
     },
     "execution_count": 27,
     "metadata": {},
     "output_type": "execute_result"
    }
   ],
   "source": [
    "df = get_classification_report(y_test, y_pred_lr, 'Logistic Regression')\n",
    "model_compare = model_compare.append(df).reset_index(drop=True)\n",
    "model_compare.head()"
   ]
  },
  {
   "cell_type": "markdown",
   "metadata": {},
   "source": [
    "# Random Forest Classifier"
   ]
  },
  {
   "cell_type": "code",
   "execution_count": 28,
   "metadata": {},
   "outputs": [],
   "source": [
    "from sklearn.ensemble import RandomForestClassifier\n",
    "rf_clf = RandomForestClassifier(random_state=42, n_jobs=2)\n",
    "\n",
    "# index += [\"Random forest\"]\n",
    "# cv_result = cross_validate(rf_clf, X_train, y_train, scoring=scoring)\n",
    "# scores[\"Accuracy\"].append(cv_result[\"test_accuracy\"].mean())\n",
    "# scores[\"Balanced accuracy\"].append(cv_result[\"test_balanced_accuracy\"].mean())\n",
    "\n",
    "# df_scores = pd.DataFrame(scores, index=index)\n",
    "# df_scores"
   ]
  },
  {
   "cell_type": "code",
   "execution_count": 29,
   "metadata": {},
   "outputs": [],
   "source": [
    "rf_clf.fit(X_train, y_train)\n",
    "y_pred_rf = rf_clf.predict(X_test)"
   ]
  },
  {
   "cell_type": "code",
   "execution_count": 30,
   "metadata": {},
   "outputs": [
    {
     "name": "stdout",
     "output_type": "stream",
     "text": [
      "Accuracy Score: 0.9134998190372783\n",
      "Confusion Matrix: \n",
      "[[120646   1504]\n",
      " [  9968    506]]\n",
      "Area Under Curve: 0.5179986854766427\n",
      "Recall score: 0.0483101012029788\n"
     ]
    }
   ],
   "source": [
    "# performance\n",
    "print(f'Accuracy Score: {accuracy_score(y_test,y_pred_rf)}')\n",
    "print(f'Confusion Matrix: \\n{confusion_matrix(y_test, y_pred_rf)}')\n",
    "print(f'Area Under Curve: {roc_auc_score(y_test, y_pred_rf)}')\n",
    "print(f'Recall score: {recall_score(y_test,y_pred_rf)}')"
   ]
  },
  {
   "cell_type": "code",
   "execution_count": 31,
   "metadata": {},
   "outputs": [
    {
     "data": {
      "text/html": [
       "<div>\n",
       "<style scoped>\n",
       "    .dataframe tbody tr th:only-of-type {\n",
       "        vertical-align: middle;\n",
       "    }\n",
       "\n",
       "    .dataframe tbody tr th {\n",
       "        vertical-align: top;\n",
       "    }\n",
       "\n",
       "    .dataframe thead th {\n",
       "        text-align: right;\n",
       "    }\n",
       "</style>\n",
       "<table border=\"1\" class=\"dataframe\">\n",
       "  <thead>\n",
       "    <tr style=\"text-align: right;\">\n",
       "      <th></th>\n",
       "      <th>model</th>\n",
       "      <th>precision</th>\n",
       "      <th>recall</th>\n",
       "      <th>f1-score</th>\n",
       "      <th>support</th>\n",
       "    </tr>\n",
       "  </thead>\n",
       "  <tbody>\n",
       "    <tr>\n",
       "      <th>0</th>\n",
       "      <td>Dummy Classifier</td>\n",
       "      <td>0.000000</td>\n",
       "      <td>0.000000</td>\n",
       "      <td>0.000000</td>\n",
       "      <td>10474.0</td>\n",
       "    </tr>\n",
       "    <tr>\n",
       "      <th>1</th>\n",
       "      <td>Logistic Regression</td>\n",
       "      <td>0.176923</td>\n",
       "      <td>0.013175</td>\n",
       "      <td>0.024525</td>\n",
       "      <td>10474.0</td>\n",
       "    </tr>\n",
       "    <tr>\n",
       "      <th>2</th>\n",
       "      <td>Random Forest</td>\n",
       "      <td>0.251741</td>\n",
       "      <td>0.048310</td>\n",
       "      <td>0.081064</td>\n",
       "      <td>10474.0</td>\n",
       "    </tr>\n",
       "  </tbody>\n",
       "</table>\n",
       "</div>"
      ],
      "text/plain": [
       "                 model  precision    recall  f1-score  support\n",
       "0     Dummy Classifier   0.000000  0.000000  0.000000  10474.0\n",
       "1  Logistic Regression   0.176923  0.013175  0.024525  10474.0\n",
       "2        Random Forest   0.251741  0.048310  0.081064  10474.0"
      ]
     },
     "execution_count": 31,
     "metadata": {},
     "output_type": "execute_result"
    }
   ],
   "source": [
    "df = get_classification_report(y_test, y_pred_rf, 'Random Forest')\n",
    "model_compare = model_compare.append(df).reset_index(drop=True)\n",
    "model_compare.head()"
   ]
  },
  {
   "cell_type": "markdown",
   "metadata": {},
   "source": [
    "# Balanced Logistic Regression"
   ]
  },
  {
   "cell_type": "code",
   "execution_count": 32,
   "metadata": {},
   "outputs": [],
   "source": [
    "lr_clf_bal = LogisticRegression(max_iter=1000)\n",
    "lr_clf_bal.set_params(class_weight=\"balanced\")\n",
    "lr_clf_bal.fit(X_train, y_train)\n",
    "y_pred_lr_bal = lr_clf_bal.predict(X_test)\n",
    "\n",
    "# index += [\"Logistic regression with balanced class weights\"]\n",
    "# cv_result = cross_validate(lr_clf, X_train, y_train, scoring=scoring)\n",
    "# scores[\"Accuracy\"].append(cv_result[\"test_accuracy\"].mean())\n",
    "# scores[\"Balanced accuracy\"].append(cv_result[\"test_balanced_accuracy\"].mean())\n",
    "\n",
    "# df_scores = pd.DataFrame(scores, index=index)\n",
    "# df_scores"
   ]
  },
  {
   "cell_type": "code",
   "execution_count": 33,
   "metadata": {},
   "outputs": [
    {
     "name": "stdout",
     "output_type": "stream",
     "text": [
      "Accuracy Score: 0.26895584509591025\n",
      "Confusion Matrix: \n",
      "[[26082 96068]\n",
      " [  886  9588]]\n",
      "Area Under Curve: 0.5644669704707468\n",
      "Recall score: 0.9154095856406339\n"
     ]
    }
   ],
   "source": [
    "# performance\n",
    "print(f'Accuracy Score: {accuracy_score(y_test,y_pred_lr_bal)}')\n",
    "print(f'Confusion Matrix: \\n{confusion_matrix(y_test, y_pred_lr_bal)}')\n",
    "print(f'Area Under Curve: {roc_auc_score(y_test, y_pred_lr_bal)}')\n",
    "print(f'Recall score: {recall_score(y_test,y_pred_lr_bal)}')"
   ]
  },
  {
   "cell_type": "code",
   "execution_count": 34,
   "metadata": {},
   "outputs": [
    {
     "data": {
      "text/html": [
       "<div>\n",
       "<style scoped>\n",
       "    .dataframe tbody tr th:only-of-type {\n",
       "        vertical-align: middle;\n",
       "    }\n",
       "\n",
       "    .dataframe tbody tr th {\n",
       "        vertical-align: top;\n",
       "    }\n",
       "\n",
       "    .dataframe thead th {\n",
       "        text-align: right;\n",
       "    }\n",
       "</style>\n",
       "<table border=\"1\" class=\"dataframe\">\n",
       "  <thead>\n",
       "    <tr style=\"text-align: right;\">\n",
       "      <th></th>\n",
       "      <th>model</th>\n",
       "      <th>precision</th>\n",
       "      <th>recall</th>\n",
       "      <th>f1-score</th>\n",
       "      <th>support</th>\n",
       "    </tr>\n",
       "  </thead>\n",
       "  <tbody>\n",
       "    <tr>\n",
       "      <th>0</th>\n",
       "      <td>Dummy Classifier</td>\n",
       "      <td>0.000000</td>\n",
       "      <td>0.000000</td>\n",
       "      <td>0.000000</td>\n",
       "      <td>10474.0</td>\n",
       "    </tr>\n",
       "    <tr>\n",
       "      <th>1</th>\n",
       "      <td>Logistic Regression</td>\n",
       "      <td>0.176923</td>\n",
       "      <td>0.013175</td>\n",
       "      <td>0.024525</td>\n",
       "      <td>10474.0</td>\n",
       "    </tr>\n",
       "    <tr>\n",
       "      <th>2</th>\n",
       "      <td>Random Forest</td>\n",
       "      <td>0.251741</td>\n",
       "      <td>0.048310</td>\n",
       "      <td>0.081064</td>\n",
       "      <td>10474.0</td>\n",
       "    </tr>\n",
       "    <tr>\n",
       "      <th>3</th>\n",
       "      <td>Balanced Logistic Regression</td>\n",
       "      <td>0.090747</td>\n",
       "      <td>0.915410</td>\n",
       "      <td>0.165125</td>\n",
       "      <td>10474.0</td>\n",
       "    </tr>\n",
       "  </tbody>\n",
       "</table>\n",
       "</div>"
      ],
      "text/plain": [
       "                          model  precision    recall  f1-score  support\n",
       "0              Dummy Classifier   0.000000  0.000000  0.000000  10474.0\n",
       "1           Logistic Regression   0.176923  0.013175  0.024525  10474.0\n",
       "2                 Random Forest   0.251741  0.048310  0.081064  10474.0\n",
       "3  Balanced Logistic Regression   0.090747  0.915410  0.165125  10474.0"
      ]
     },
     "execution_count": 34,
     "metadata": {},
     "output_type": "execute_result"
    }
   ],
   "source": [
    "df = get_classification_report(y_test, y_pred_lr_bal, 'Balanced Logistic Regression')\n",
    "model_compare = model_compare.append(df).reset_index(drop=True)\n",
    "model_compare.head()"
   ]
  },
  {
   "cell_type": "markdown",
   "metadata": {},
   "source": [
    "# Balanced Random Forest"
   ]
  },
  {
   "cell_type": "code",
   "execution_count": 35,
   "metadata": {},
   "outputs": [],
   "source": [
    "rf_clf_balanced = RandomForestClassifier(random_state=42, n_jobs=2)\n",
    "rf_clf_balanced.set_params(class_weight=\"balanced\")\n",
    "\n",
    "rf_clf_balanced.fit(X_train, y_train)\n",
    "y_pred_rf_bal = rf_clf_balanced.predict(X_test)\n",
    "\n",
    "# index += [\"Random forest with balanced class weights\"]\n",
    "# cv_result = cross_validate(rf_clf, X_train, y_train, scoring=scoring)\n",
    "# scores[\"Accuracy\"].append(cv_result[\"test_accuracy\"].mean())\n",
    "# scores[\"Balanced accuracy\"].append(cv_result[\"test_balanced_accuracy\"].mean())\n",
    "\n",
    "# df_scores = pd.DataFrame(scores, index=index)\n",
    "# df_scores"
   ]
  },
  {
   "cell_type": "code",
   "execution_count": 36,
   "metadata": {},
   "outputs": [
    {
     "name": "stdout",
     "output_type": "stream",
     "text": [
      "Accuracy Score: 0.9182425503679575\n",
      "Confusion Matrix: \n",
      "[[121414    736]\n",
      " [ 10107    367]]\n",
      "Area Under Curve: 0.5145068829577886\n",
      "Recall score: 0.03503914454840558\n"
     ]
    }
   ],
   "source": [
    "# performance\n",
    "print(f'Accuracy Score: {accuracy_score(y_test,y_pred_rf_bal)}')\n",
    "print(f'Confusion Matrix: \\n{confusion_matrix(y_test, y_pred_rf_bal)}')\n",
    "print(f'Area Under Curve: {roc_auc_score(y_test, y_pred_rf_bal)}')\n",
    "print(f'Recall score: {recall_score(y_test,y_pred_rf_bal)}')"
   ]
  },
  {
   "cell_type": "code",
   "execution_count": 37,
   "metadata": {},
   "outputs": [
    {
     "data": {
      "text/html": [
       "<div>\n",
       "<style scoped>\n",
       "    .dataframe tbody tr th:only-of-type {\n",
       "        vertical-align: middle;\n",
       "    }\n",
       "\n",
       "    .dataframe tbody tr th {\n",
       "        vertical-align: top;\n",
       "    }\n",
       "\n",
       "    .dataframe thead th {\n",
       "        text-align: right;\n",
       "    }\n",
       "</style>\n",
       "<table border=\"1\" class=\"dataframe\">\n",
       "  <thead>\n",
       "    <tr style=\"text-align: right;\">\n",
       "      <th></th>\n",
       "      <th>model</th>\n",
       "      <th>precision</th>\n",
       "      <th>recall</th>\n",
       "      <th>f1-score</th>\n",
       "      <th>support</th>\n",
       "    </tr>\n",
       "  </thead>\n",
       "  <tbody>\n",
       "    <tr>\n",
       "      <th>0</th>\n",
       "      <td>Dummy Classifier</td>\n",
       "      <td>0.000000</td>\n",
       "      <td>0.000000</td>\n",
       "      <td>0.000000</td>\n",
       "      <td>10474.0</td>\n",
       "    </tr>\n",
       "    <tr>\n",
       "      <th>1</th>\n",
       "      <td>Logistic Regression</td>\n",
       "      <td>0.176923</td>\n",
       "      <td>0.013175</td>\n",
       "      <td>0.024525</td>\n",
       "      <td>10474.0</td>\n",
       "    </tr>\n",
       "    <tr>\n",
       "      <th>2</th>\n",
       "      <td>Random Forest</td>\n",
       "      <td>0.251741</td>\n",
       "      <td>0.048310</td>\n",
       "      <td>0.081064</td>\n",
       "      <td>10474.0</td>\n",
       "    </tr>\n",
       "    <tr>\n",
       "      <th>3</th>\n",
       "      <td>Balanced Logistic Regression</td>\n",
       "      <td>0.090747</td>\n",
       "      <td>0.915410</td>\n",
       "      <td>0.165125</td>\n",
       "      <td>10474.0</td>\n",
       "    </tr>\n",
       "    <tr>\n",
       "      <th>4</th>\n",
       "      <td>Balanced Random Forest</td>\n",
       "      <td>0.332729</td>\n",
       "      <td>0.035039</td>\n",
       "      <td>0.063402</td>\n",
       "      <td>10474.0</td>\n",
       "    </tr>\n",
       "  </tbody>\n",
       "</table>\n",
       "</div>"
      ],
      "text/plain": [
       "                          model  precision    recall  f1-score  support\n",
       "0              Dummy Classifier   0.000000  0.000000  0.000000  10474.0\n",
       "1           Logistic Regression   0.176923  0.013175  0.024525  10474.0\n",
       "2                 Random Forest   0.251741  0.048310  0.081064  10474.0\n",
       "3  Balanced Logistic Regression   0.090747  0.915410  0.165125  10474.0\n",
       "4        Balanced Random Forest   0.332729  0.035039  0.063402  10474.0"
      ]
     },
     "execution_count": 37,
     "metadata": {},
     "output_type": "execute_result"
    }
   ],
   "source": [
    "df = get_classification_report(y_test, y_pred_rf_bal, 'Balanced Random Forest')\n",
    "model_compare = model_compare.append(df).reset_index(drop=True)\n",
    "model_compare.head()"
   ]
  },
  {
   "cell_type": "markdown",
   "metadata": {},
   "source": [
    "# Logistic Regression (Resample the training set during learning)"
   ]
  },
  {
   "cell_type": "code",
   "execution_count": 38,
   "metadata": {},
   "outputs": [],
   "source": [
    "lr_clf_resample = make_pipeline_with_sampler(\n",
    "    RandomUnderSampler(random_state=42),\n",
    "    LogisticRegression(max_iter=1000),\n",
    ")\n",
    "lr_clf_resample.fit(X_train, y_train)\n",
    "y_pred_lr_resample = lr_clf_resample.predict(X_test)"
   ]
  },
  {
   "cell_type": "code",
   "execution_count": 39,
   "metadata": {},
   "outputs": [],
   "source": [
    "# index += [\"Under-sampling + Logistic regression\"]\n",
    "# cv_result = cross_validate(lr_clf, X_train, y_train, scoring=scoring)\n",
    "# scores[\"Accuracy\"].append(cv_result[\"test_accuracy\"].mean())\n",
    "# scores[\"Balanced accuracy\"].append(cv_result[\"test_balanced_accuracy\"].mean())\n",
    "\n",
    "# df_scores = pd.DataFrame(scores, index=index)\n",
    "# df_scores\n"
   ]
  },
  {
   "cell_type": "code",
   "execution_count": 40,
   "metadata": {},
   "outputs": [
    {
     "name": "stdout",
     "output_type": "stream",
     "text": [
      "Accuracy Score: 0.26831493545662927\n",
      "Confusion Matrix: \n",
      "[[25999 96151]\n",
      " [  888  9586]]\n",
      "Area Under Curve: 0.5640317497487688\n",
      "Recall score: 0.9152186366240214\n"
     ]
    }
   ],
   "source": [
    "# performance\n",
    "print(f'Accuracy Score: {accuracy_score(y_test,y_pred_lr_resample)}')\n",
    "print(f'Confusion Matrix: \\n{confusion_matrix(y_test, y_pred_lr_resample)}')\n",
    "print(f'Area Under Curve: {roc_auc_score(y_test, y_pred_lr_resample)}')\n",
    "print(f'Recall score: {recall_score(y_test,y_pred_lr_resample)}')"
   ]
  },
  {
   "cell_type": "code",
   "execution_count": 41,
   "metadata": {},
   "outputs": [
    {
     "data": {
      "text/html": [
       "<div>\n",
       "<style scoped>\n",
       "    .dataframe tbody tr th:only-of-type {\n",
       "        vertical-align: middle;\n",
       "    }\n",
       "\n",
       "    .dataframe tbody tr th {\n",
       "        vertical-align: top;\n",
       "    }\n",
       "\n",
       "    .dataframe thead th {\n",
       "        text-align: right;\n",
       "    }\n",
       "</style>\n",
       "<table border=\"1\" class=\"dataframe\">\n",
       "  <thead>\n",
       "    <tr style=\"text-align: right;\">\n",
       "      <th></th>\n",
       "      <th>model</th>\n",
       "      <th>precision</th>\n",
       "      <th>recall</th>\n",
       "      <th>f1-score</th>\n",
       "      <th>support</th>\n",
       "    </tr>\n",
       "  </thead>\n",
       "  <tbody>\n",
       "    <tr>\n",
       "      <th>0</th>\n",
       "      <td>Dummy Classifier</td>\n",
       "      <td>0.000000</td>\n",
       "      <td>0.000000</td>\n",
       "      <td>0.000000</td>\n",
       "      <td>10474.0</td>\n",
       "    </tr>\n",
       "    <tr>\n",
       "      <th>1</th>\n",
       "      <td>Logistic Regression</td>\n",
       "      <td>0.176923</td>\n",
       "      <td>0.013175</td>\n",
       "      <td>0.024525</td>\n",
       "      <td>10474.0</td>\n",
       "    </tr>\n",
       "    <tr>\n",
       "      <th>2</th>\n",
       "      <td>Random Forest</td>\n",
       "      <td>0.251741</td>\n",
       "      <td>0.048310</td>\n",
       "      <td>0.081064</td>\n",
       "      <td>10474.0</td>\n",
       "    </tr>\n",
       "    <tr>\n",
       "      <th>3</th>\n",
       "      <td>Balanced Logistic Regression</td>\n",
       "      <td>0.090747</td>\n",
       "      <td>0.915410</td>\n",
       "      <td>0.165125</td>\n",
       "      <td>10474.0</td>\n",
       "    </tr>\n",
       "    <tr>\n",
       "      <th>4</th>\n",
       "      <td>Balanced Random Forest</td>\n",
       "      <td>0.332729</td>\n",
       "      <td>0.035039</td>\n",
       "      <td>0.063402</td>\n",
       "      <td>10474.0</td>\n",
       "    </tr>\n",
       "  </tbody>\n",
       "</table>\n",
       "</div>"
      ],
      "text/plain": [
       "                          model  precision    recall  f1-score  support\n",
       "0              Dummy Classifier   0.000000  0.000000  0.000000  10474.0\n",
       "1           Logistic Regression   0.176923  0.013175  0.024525  10474.0\n",
       "2                 Random Forest   0.251741  0.048310  0.081064  10474.0\n",
       "3  Balanced Logistic Regression   0.090747  0.915410  0.165125  10474.0\n",
       "4        Balanced Random Forest   0.332729  0.035039  0.063402  10474.0"
      ]
     },
     "execution_count": 41,
     "metadata": {},
     "output_type": "execute_result"
    }
   ],
   "source": [
    "df = get_classification_report(y_test, y_pred_lr_resample, 'Logistic Regression (Resampled)')\n",
    "model_compare = model_compare.append(df).reset_index(drop=True)\n",
    "model_compare.head()"
   ]
  },
  {
   "cell_type": "markdown",
   "metadata": {},
   "source": [
    "# Random Forest (Resample the training set during learning)"
   ]
  },
  {
   "cell_type": "code",
   "execution_count": 42,
   "metadata": {},
   "outputs": [],
   "source": [
    "rf_clf_resampled = make_pipeline_with_sampler(\n",
    "    RandomUnderSampler(random_state=42),\n",
    "    RandomForestClassifier(random_state=42, n_jobs=2),\n",
    ")\n",
    "rf_clf_resampled.fit(X_train, y_train)\n",
    "y_pred_rf_resampled = rf_clf_resampled.predict(X_test)"
   ]
  },
  {
   "cell_type": "code",
   "execution_count": 43,
   "metadata": {},
   "outputs": [],
   "source": [
    "# index += [\"Under-sampling + Random forest\"]\n",
    "# cv_result = cross_validate(rf_clf, X_train, y_train, scoring=scoring)\n",
    "# scores[\"Accuracy\"].append(cv_result[\"test_accuracy\"].mean())\n",
    "# scores[\"Balanced accuracy\"].append(cv_result[\"test_balanced_accuracy\"].mean())\n",
    "\n",
    "# df_scores = pd.DataFrame(scores, index=index)\n",
    "# df_scores"
   ]
  },
  {
   "cell_type": "code",
   "execution_count": 44,
   "metadata": {},
   "outputs": [
    {
     "ename": "NameError",
     "evalue": "name 'y_pred' is not defined",
     "output_type": "error",
     "traceback": [
      "\u001b[0;31m---------------------------------------------------------------------------\u001b[0m",
      "\u001b[0;31mNameError\u001b[0m                                 Traceback (most recent call last)",
      "\u001b[0;32m/var/folders/sz/7csjwrb92qb65ktn7_r8yw_h0000gp/T/ipykernel_41184/1503185897.py\u001b[0m in \u001b[0;36m<module>\u001b[0;34m\u001b[0m\n\u001b[1;32m      1\u001b[0m \u001b[0;31m# performance\u001b[0m\u001b[0;34m\u001b[0m\u001b[0;34m\u001b[0m\u001b[0;34m\u001b[0m\u001b[0m\n\u001b[0;32m----> 2\u001b[0;31m \u001b[0mprint\u001b[0m\u001b[0;34m(\u001b[0m\u001b[0;34mf'Accuracy Score: {accuracy_score(y_pred_rf_resampled,y_pred)}'\u001b[0m\u001b[0;34m)\u001b[0m\u001b[0;34m\u001b[0m\u001b[0;34m\u001b[0m\u001b[0m\n\u001b[0m\u001b[1;32m      3\u001b[0m \u001b[0mprint\u001b[0m\u001b[0;34m(\u001b[0m\u001b[0;34mf'Confusion Matrix: \\n{confusion_matrix(y_pred_rf_resampled, y_pred)}'\u001b[0m\u001b[0;34m)\u001b[0m\u001b[0;34m\u001b[0m\u001b[0;34m\u001b[0m\u001b[0m\n\u001b[1;32m      4\u001b[0m \u001b[0mprint\u001b[0m\u001b[0;34m(\u001b[0m\u001b[0;34mf'Area Under Curve: {roc_auc_score(y_pred_rf_resampled, y_pred)}'\u001b[0m\u001b[0;34m)\u001b[0m\u001b[0;34m\u001b[0m\u001b[0;34m\u001b[0m\u001b[0m\n\u001b[1;32m      5\u001b[0m \u001b[0mprint\u001b[0m\u001b[0;34m(\u001b[0m\u001b[0;34mf'Recall score: {recall_score(y_pred_rf_resampled,y_pred)}'\u001b[0m\u001b[0;34m)\u001b[0m\u001b[0;34m\u001b[0m\u001b[0;34m\u001b[0m\u001b[0m\n",
      "\u001b[0;31mNameError\u001b[0m: name 'y_pred' is not defined"
     ]
    }
   ],
   "source": [
    "# performance\n",
    "print(f'Accuracy Score: {accuracy_score(y_pred_rf_resampled,y_pred)}')\n",
    "print(f'Confusion Matrix: \\n{confusion_matrix(y_pred_rf_resampled, y_pred)}')\n",
    "print(f'Area Under Curve: {roc_auc_score(y_pred_rf_resampled, y_pred)}')\n",
    "print(f'Recall score: {recall_score(y_pred_rf_resampled,y_pred)}')"
   ]
  },
  {
   "cell_type": "code",
   "execution_count": null,
   "metadata": {},
   "outputs": [
    {
     "data": {
      "text/html": [
       "<div>\n",
       "<style scoped>\n",
       "    .dataframe tbody tr th:only-of-type {\n",
       "        vertical-align: middle;\n",
       "    }\n",
       "\n",
       "    .dataframe tbody tr th {\n",
       "        vertical-align: top;\n",
       "    }\n",
       "\n",
       "    .dataframe thead th {\n",
       "        text-align: right;\n",
       "    }\n",
       "</style>\n",
       "<table border=\"1\" class=\"dataframe\">\n",
       "  <thead>\n",
       "    <tr style=\"text-align: right;\">\n",
       "      <th></th>\n",
       "      <th>model</th>\n",
       "      <th>precision</th>\n",
       "      <th>recall</th>\n",
       "      <th>f1-score</th>\n",
       "      <th>support</th>\n",
       "    </tr>\n",
       "  </thead>\n",
       "  <tbody>\n",
       "    <tr>\n",
       "      <th>0</th>\n",
       "      <td>Dummy Classifier</td>\n",
       "      <td>0.000000</td>\n",
       "      <td>0.000000</td>\n",
       "      <td>0.000000</td>\n",
       "      <td>7522.0</td>\n",
       "    </tr>\n",
       "    <tr>\n",
       "      <th>1</th>\n",
       "      <td>Logistic Regression</td>\n",
       "      <td>0.138173</td>\n",
       "      <td>0.007844</td>\n",
       "      <td>0.014845</td>\n",
       "      <td>7522.0</td>\n",
       "    </tr>\n",
       "    <tr>\n",
       "      <th>2</th>\n",
       "      <td>Random Forest</td>\n",
       "      <td>0.500611</td>\n",
       "      <td>0.272268</td>\n",
       "      <td>0.352708</td>\n",
       "      <td>7522.0</td>\n",
       "    </tr>\n",
       "    <tr>\n",
       "      <th>3</th>\n",
       "      <td>Balanced Logistic Regression</td>\n",
       "      <td>0.069209</td>\n",
       "      <td>0.910662</td>\n",
       "      <td>0.128642</td>\n",
       "      <td>7522.0</td>\n",
       "    </tr>\n",
       "    <tr>\n",
       "      <th>4</th>\n",
       "      <td>Balanced Random Forest</td>\n",
       "      <td>0.420337</td>\n",
       "      <td>0.378091</td>\n",
       "      <td>0.398096</td>\n",
       "      <td>7522.0</td>\n",
       "    </tr>\n",
       "    <tr>\n",
       "      <th>5</th>\n",
       "      <td>Logistic Regression (Resampled)</td>\n",
       "      <td>0.069201</td>\n",
       "      <td>0.910795</td>\n",
       "      <td>0.128629</td>\n",
       "      <td>7522.0</td>\n",
       "    </tr>\n",
       "    <tr>\n",
       "      <th>6</th>\n",
       "      <td>Random Forest (Resampled)</td>\n",
       "      <td>0.091480</td>\n",
       "      <td>0.786759</td>\n",
       "      <td>0.163902</td>\n",
       "      <td>7522.0</td>\n",
       "    </tr>\n",
       "    <tr>\n",
       "      <th>7</th>\n",
       "      <td>Random Forest (Resampled)</td>\n",
       "      <td>0.091480</td>\n",
       "      <td>0.786759</td>\n",
       "      <td>0.163902</td>\n",
       "      <td>7522.0</td>\n",
       "    </tr>\n",
       "  </tbody>\n",
       "</table>\n",
       "</div>"
      ],
      "text/plain": [
       "                             model  precision    recall  f1-score  support\n",
       "0                 Dummy Classifier   0.000000  0.000000  0.000000   7522.0\n",
       "1              Logistic Regression   0.138173  0.007844  0.014845   7522.0\n",
       "2                    Random Forest   0.500611  0.272268  0.352708   7522.0\n",
       "3     Balanced Logistic Regression   0.069209  0.910662  0.128642   7522.0\n",
       "4           Balanced Random Forest   0.420337  0.378091  0.398096   7522.0\n",
       "5  Logistic Regression (Resampled)   0.069201  0.910795  0.128629   7522.0\n",
       "6        Random Forest (Resampled)   0.091480  0.786759  0.163902   7522.0\n",
       "7        Random Forest (Resampled)   0.091480  0.786759  0.163902   7522.0"
      ]
     },
     "execution_count": 140,
     "metadata": {},
     "output_type": "execute_result"
    }
   ],
   "source": [
    "df = get_classification_report(y_test, y_pred_rf_resampled, 'Random Forest (Resampled)')\n",
    "model_compare = model_compare.append(df).reset_index(drop=True)"
   ]
  },
  {
   "cell_type": "code",
   "execution_count": null,
   "metadata": {},
   "outputs": [
    {
     "data": {
      "text/html": [
       "<div>\n",
       "<style scoped>\n",
       "    .dataframe tbody tr th:only-of-type {\n",
       "        vertical-align: middle;\n",
       "    }\n",
       "\n",
       "    .dataframe tbody tr th {\n",
       "        vertical-align: top;\n",
       "    }\n",
       "\n",
       "    .dataframe thead th {\n",
       "        text-align: right;\n",
       "    }\n",
       "</style>\n",
       "<table border=\"1\" class=\"dataframe\">\n",
       "  <thead>\n",
       "    <tr style=\"text-align: right;\">\n",
       "      <th></th>\n",
       "      <th>model</th>\n",
       "      <th>precision</th>\n",
       "      <th>recall</th>\n",
       "      <th>f1-score</th>\n",
       "      <th>support</th>\n",
       "    </tr>\n",
       "  </thead>\n",
       "  <tbody>\n",
       "    <tr>\n",
       "      <th>0</th>\n",
       "      <td>Dummy Classifier</td>\n",
       "      <td>0.000000</td>\n",
       "      <td>0.000000</td>\n",
       "      <td>0.000000</td>\n",
       "      <td>7522.0</td>\n",
       "    </tr>\n",
       "    <tr>\n",
       "      <th>1</th>\n",
       "      <td>Logistic Regression</td>\n",
       "      <td>0.138173</td>\n",
       "      <td>0.007844</td>\n",
       "      <td>0.014845</td>\n",
       "      <td>7522.0</td>\n",
       "    </tr>\n",
       "    <tr>\n",
       "      <th>2</th>\n",
       "      <td>Random Forest</td>\n",
       "      <td>0.500611</td>\n",
       "      <td>0.272268</td>\n",
       "      <td>0.352708</td>\n",
       "      <td>7522.0</td>\n",
       "    </tr>\n",
       "    <tr>\n",
       "      <th>3</th>\n",
       "      <td>Balanced Logistic Regression</td>\n",
       "      <td>0.069209</td>\n",
       "      <td>0.910662</td>\n",
       "      <td>0.128642</td>\n",
       "      <td>7522.0</td>\n",
       "    </tr>\n",
       "    <tr>\n",
       "      <th>4</th>\n",
       "      <td>Balanced Random Forest</td>\n",
       "      <td>0.420337</td>\n",
       "      <td>0.378091</td>\n",
       "      <td>0.398096</td>\n",
       "      <td>7522.0</td>\n",
       "    </tr>\n",
       "    <tr>\n",
       "      <th>5</th>\n",
       "      <td>Logistic Regression (Resampled)</td>\n",
       "      <td>0.069201</td>\n",
       "      <td>0.910795</td>\n",
       "      <td>0.128629</td>\n",
       "      <td>7522.0</td>\n",
       "    </tr>\n",
       "    <tr>\n",
       "      <th>6</th>\n",
       "      <td>Random Forest (Resampled)</td>\n",
       "      <td>0.091480</td>\n",
       "      <td>0.786759</td>\n",
       "      <td>0.163902</td>\n",
       "      <td>7522.0</td>\n",
       "    </tr>\n",
       "  </tbody>\n",
       "</table>\n",
       "</div>"
      ],
      "text/plain": [
       "                             model  precision    recall  f1-score  support\n",
       "0                 Dummy Classifier   0.000000  0.000000  0.000000   7522.0\n",
       "1              Logistic Regression   0.138173  0.007844  0.014845   7522.0\n",
       "2                    Random Forest   0.500611  0.272268  0.352708   7522.0\n",
       "3     Balanced Logistic Regression   0.069209  0.910662  0.128642   7522.0\n",
       "4           Balanced Random Forest   0.420337  0.378091  0.398096   7522.0\n",
       "5  Logistic Regression (Resampled)   0.069201  0.910795  0.128629   7522.0\n",
       "6        Random Forest (Resampled)   0.091480  0.786759  0.163902   7522.0"
      ]
     },
     "execution_count": 141,
     "metadata": {},
     "output_type": "execute_result"
    }
   ],
   "source": [
    "model_compare = model_compare.drop_duplicates()\n",
    "model_compare"
   ]
  },
  {
   "cell_type": "markdown",
   "metadata": {},
   "source": [
    "# Balanced Random Forest Classifier"
   ]
  },
  {
   "cell_type": "code",
   "execution_count": null,
   "metadata": {},
   "outputs": [],
   "source": [
    "# from imblearn.ensemble import BalancedRandomForestClassifier\n",
    "# rf_clf = BalancedRandomForestClassifier(random_state=42, n_jobs=2)"
   ]
  },
  {
   "cell_type": "code",
   "execution_count": null,
   "metadata": {},
   "outputs": [],
   "source": [
    "# index += [\"Balanced random forest\"]\n",
    "# cv_result = cross_validate(rf_clf, X_train, y_train, scoring=scoring)\n",
    "# scores[\"Accuracy\"].append(cv_result[\"test_accuracy\"].mean())\n",
    "# scores[\"Balanced accuracy\"].append(cv_result[\"test_balanced_accuracy\"].mean())\n",
    "\n",
    "# df_scores = pd.DataFrame(scores, index=index)\n",
    "# df_scores"
   ]
  },
  {
   "cell_type": "code",
   "execution_count": null,
   "metadata": {},
   "outputs": [],
   "source": [
    "# rf_clf.fit(X_train, y_train)\n",
    "# y_pred = rf_clf.predict(X_test)"
   ]
  },
  {
   "cell_type": "code",
   "execution_count": null,
   "metadata": {},
   "outputs": [],
   "source": [
    "# # performance\n",
    "# print(f'Accuracy Score: {accuracy_score(y_test,y_pred)}')\n",
    "# print(f'Confusion Matrix: \\n{confusion_matrix(y_test, y_pred)}')\n",
    "# print(f'Area Under Curve: {roc_auc_score(y_test, y_pred)}')\n",
    "# print(f'Recall score: {recall_score(y_test,y_pred)}')"
   ]
  },
  {
   "cell_type": "code",
   "execution_count": null,
   "metadata": {},
   "outputs": [],
   "source": [
    "# from sklearn.metrics import classification_report\n",
    "# print(classification_report(y_test,y_pred))"
   ]
  },
  {
   "cell_type": "code",
   "execution_count": null,
   "metadata": {},
   "outputs": [],
   "source": [
    "# print(clf.coef_, clf.intercept_)"
   ]
  },
  {
   "cell_type": "markdown",
   "metadata": {},
   "source": [
    "# K-Nearest Neighbors"
   ]
  },
  {
   "cell_type": "code",
   "execution_count": null,
   "metadata": {},
   "outputs": [],
   "source": [
    "from sklearn.neighbors import KNeighborsClassifier\n",
    "\n",
    "clf_knn = make_pipeline_with_sampler(\n",
    "    RandomUnderSampler(random_state=42),\n",
    "    KNeighborsClassifier(n_neighbors=10),\n",
    ")\n",
    "\n",
    "# clf_knn = KNeighborsClassifier(n_neighbors=5)\n",
    "\n",
    "clf_knn.fit(X_train, y_train)\n",
    "y_pred_knn = clf_knn.predict(X_test)"
   ]
  },
  {
   "cell_type": "code",
   "execution_count": null,
   "metadata": {},
   "outputs": [
    {
     "name": "stdout",
     "output_type": "stream",
     "text": [
      "Accuracy Score: 0.9497604008563266\n",
      "Confusion Matrix: \n",
      "[[141760   1595]\n",
      " [  5985   1537]]\n",
      "Area Under Curve: 0.5966038643151006\n",
      "Recall score: 0.2043339537357086\n"
     ]
    }
   ],
   "source": [
    "# performance\n",
    "print(f'Accuracy Score: {accuracy_score(y_test,y_pred_knn)}')\n",
    "print(f'Confusion Matrix: \\n{confusion_matrix(y_test, y_pred_knn)}')\n",
    "print(f'Area Under Curve: {roc_auc_score(y_test, y_pred_knn)}')\n",
    "print(f'Recall score: {recall_score(y_test,y_pred_knn)}')"
   ]
  },
  {
   "cell_type": "code",
   "execution_count": null,
   "metadata": {},
   "outputs": [
    {
     "data": {
      "text/html": [
       "<div>\n",
       "<style scoped>\n",
       "    .dataframe tbody tr th:only-of-type {\n",
       "        vertical-align: middle;\n",
       "    }\n",
       "\n",
       "    .dataframe tbody tr th {\n",
       "        vertical-align: top;\n",
       "    }\n",
       "\n",
       "    .dataframe thead th {\n",
       "        text-align: right;\n",
       "    }\n",
       "</style>\n",
       "<table border=\"1\" class=\"dataframe\">\n",
       "  <thead>\n",
       "    <tr style=\"text-align: right;\">\n",
       "      <th></th>\n",
       "      <th>model</th>\n",
       "      <th>precision</th>\n",
       "      <th>recall</th>\n",
       "      <th>f1-score</th>\n",
       "      <th>support</th>\n",
       "    </tr>\n",
       "  </thead>\n",
       "  <tbody>\n",
       "    <tr>\n",
       "      <th>0</th>\n",
       "      <td>Dummy Classifier</td>\n",
       "      <td>0.000000</td>\n",
       "      <td>0.000000</td>\n",
       "      <td>0.000000</td>\n",
       "      <td>7522.0</td>\n",
       "    </tr>\n",
       "    <tr>\n",
       "      <th>1</th>\n",
       "      <td>Logistic Regression</td>\n",
       "      <td>0.138173</td>\n",
       "      <td>0.007844</td>\n",
       "      <td>0.014845</td>\n",
       "      <td>7522.0</td>\n",
       "    </tr>\n",
       "    <tr>\n",
       "      <th>2</th>\n",
       "      <td>Random Forest</td>\n",
       "      <td>0.500611</td>\n",
       "      <td>0.272268</td>\n",
       "      <td>0.352708</td>\n",
       "      <td>7522.0</td>\n",
       "    </tr>\n",
       "    <tr>\n",
       "      <th>3</th>\n",
       "      <td>Balanced Logistic Regression</td>\n",
       "      <td>0.069209</td>\n",
       "      <td>0.910662</td>\n",
       "      <td>0.128642</td>\n",
       "      <td>7522.0</td>\n",
       "    </tr>\n",
       "    <tr>\n",
       "      <th>4</th>\n",
       "      <td>Balanced Random Forest</td>\n",
       "      <td>0.420337</td>\n",
       "      <td>0.378091</td>\n",
       "      <td>0.398096</td>\n",
       "      <td>7522.0</td>\n",
       "    </tr>\n",
       "    <tr>\n",
       "      <th>5</th>\n",
       "      <td>Logistic Regression (Resampled)</td>\n",
       "      <td>0.069201</td>\n",
       "      <td>0.910795</td>\n",
       "      <td>0.128629</td>\n",
       "      <td>7522.0</td>\n",
       "    </tr>\n",
       "    <tr>\n",
       "      <th>6</th>\n",
       "      <td>Random Forest (Resampled)</td>\n",
       "      <td>0.091480</td>\n",
       "      <td>0.786759</td>\n",
       "      <td>0.163902</td>\n",
       "      <td>7522.0</td>\n",
       "    </tr>\n",
       "    <tr>\n",
       "      <th>7</th>\n",
       "      <td>Gradient Boosting Classifier</td>\n",
       "      <td>0.100274</td>\n",
       "      <td>0.782771</td>\n",
       "      <td>0.177775</td>\n",
       "      <td>7522.0</td>\n",
       "    </tr>\n",
       "    <tr>\n",
       "      <th>8</th>\n",
       "      <td>Multilayer Perceptron</td>\n",
       "      <td>0.103932</td>\n",
       "      <td>0.759638</td>\n",
       "      <td>0.182848</td>\n",
       "      <td>7522.0</td>\n",
       "    </tr>\n",
       "    <tr>\n",
       "      <th>9</th>\n",
       "      <td>K-Nearest Neighbors</td>\n",
       "      <td>0.090009</td>\n",
       "      <td>0.735842</td>\n",
       "      <td>0.160398</td>\n",
       "      <td>7522.0</td>\n",
       "    </tr>\n",
       "    <tr>\n",
       "      <th>10</th>\n",
       "      <td>K-Nearest Neighbors</td>\n",
       "      <td>0.521710</td>\n",
       "      <td>0.206062</td>\n",
       "      <td>0.295435</td>\n",
       "      <td>7522.0</td>\n",
       "    </tr>\n",
       "    <tr>\n",
       "      <th>11</th>\n",
       "      <td>K-Nearest Neighbors</td>\n",
       "      <td>0.490741</td>\n",
       "      <td>0.204334</td>\n",
       "      <td>0.288530</td>\n",
       "      <td>7522.0</td>\n",
       "    </tr>\n",
       "  </tbody>\n",
       "</table>\n",
       "</div>"
      ],
      "text/plain": [
       "                              model  precision    recall  f1-score  support\n",
       "0                  Dummy Classifier   0.000000  0.000000  0.000000   7522.0\n",
       "1               Logistic Regression   0.138173  0.007844  0.014845   7522.0\n",
       "2                     Random Forest   0.500611  0.272268  0.352708   7522.0\n",
       "3      Balanced Logistic Regression   0.069209  0.910662  0.128642   7522.0\n",
       "4            Balanced Random Forest   0.420337  0.378091  0.398096   7522.0\n",
       "5   Logistic Regression (Resampled)   0.069201  0.910795  0.128629   7522.0\n",
       "6         Random Forest (Resampled)   0.091480  0.786759  0.163902   7522.0\n",
       "7      Gradient Boosting Classifier   0.100274  0.782771  0.177775   7522.0\n",
       "8             Multilayer Perceptron   0.103932  0.759638  0.182848   7522.0\n",
       "9               K-Nearest Neighbors   0.090009  0.735842  0.160398   7522.0\n",
       "10              K-Nearest Neighbors   0.521710  0.206062  0.295435   7522.0\n",
       "11              K-Nearest Neighbors   0.490741  0.204334  0.288530   7522.0"
      ]
     },
     "execution_count": 173,
     "metadata": {},
     "output_type": "execute_result"
    }
   ],
   "source": [
    "df = get_classification_report(y_test, y_pred_knn, 'K-Nearest Neighbors')\n",
    "model_compare = model_compare.append(df).reset_index(drop=True)\n",
    "model_compare"
   ]
  },
  {
   "cell_type": "markdown",
   "metadata": {},
   "source": [
    "# Gradient Boosting Classifier"
   ]
  },
  {
   "cell_type": "code",
   "execution_count": null,
   "metadata": {},
   "outputs": [],
   "source": [
    "clf_gbc = make_pipeline_with_sampler(\n",
    "    RandomUnderSampler(random_state=42),\n",
    "    GradientBoostingClassifier(n_estimators=100, learning_rate=1.0, max_depth=1, random_state=0),\n",
    ")\n",
    "clf_gbc.fit(X_train, y_train)\n",
    "y_pred_gbc = clf_gbc.predict(X_test)"
   ]
  },
  {
   "cell_type": "code",
   "execution_count": null,
   "metadata": {},
   "outputs": [
    {
     "name": "stdout",
     "output_type": "stream",
     "text": [
      "Accuracy Score: 0.6390105847809805\n",
      "Confusion Matrix: \n",
      "[[90524 52831]\n",
      " [ 1634  5888]]\n",
      "Area Under Curve: 0.7071189380414733\n",
      "Recall score: 0.7827705397500665\n"
     ]
    }
   ],
   "source": [
    "# performance\n",
    "print(f'Accuracy Score: {accuracy_score(y_test,y_pred_gbc)}')\n",
    "print(f'Confusion Matrix: \\n{confusion_matrix(y_test, y_pred_gbc)}')\n",
    "print(f'Area Under Curve: {roc_auc_score(y_test, y_pred_gbc)}')\n",
    "print(f'Recall score: {recall_score(y_test,y_pred_gbc)}')"
   ]
  },
  {
   "cell_type": "code",
   "execution_count": null,
   "metadata": {},
   "outputs": [],
   "source": [
    "df = get_classification_report(y_test, y_pred_gbc, 'Gradient Boosting Classifier')\n",
    "model_compare = model_compare.append(df).reset_index(drop=True)"
   ]
  },
  {
   "cell_type": "code",
   "execution_count": null,
   "metadata": {},
   "outputs": [
    {
     "data": {
      "text/html": [
       "<div>\n",
       "<style scoped>\n",
       "    .dataframe tbody tr th:only-of-type {\n",
       "        vertical-align: middle;\n",
       "    }\n",
       "\n",
       "    .dataframe tbody tr th {\n",
       "        vertical-align: top;\n",
       "    }\n",
       "\n",
       "    .dataframe thead th {\n",
       "        text-align: right;\n",
       "    }\n",
       "</style>\n",
       "<table border=\"1\" class=\"dataframe\">\n",
       "  <thead>\n",
       "    <tr style=\"text-align: right;\">\n",
       "      <th></th>\n",
       "      <th>model</th>\n",
       "      <th>precision</th>\n",
       "      <th>recall</th>\n",
       "      <th>f1-score</th>\n",
       "      <th>support</th>\n",
       "    </tr>\n",
       "  </thead>\n",
       "  <tbody>\n",
       "    <tr>\n",
       "      <th>0</th>\n",
       "      <td>Dummy Classifier</td>\n",
       "      <td>0.000000</td>\n",
       "      <td>0.000000</td>\n",
       "      <td>0.000000</td>\n",
       "      <td>7522.0</td>\n",
       "    </tr>\n",
       "    <tr>\n",
       "      <th>1</th>\n",
       "      <td>Logistic Regression</td>\n",
       "      <td>0.138173</td>\n",
       "      <td>0.007844</td>\n",
       "      <td>0.014845</td>\n",
       "      <td>7522.0</td>\n",
       "    </tr>\n",
       "    <tr>\n",
       "      <th>2</th>\n",
       "      <td>Random Forest</td>\n",
       "      <td>0.500611</td>\n",
       "      <td>0.272268</td>\n",
       "      <td>0.352708</td>\n",
       "      <td>7522.0</td>\n",
       "    </tr>\n",
       "    <tr>\n",
       "      <th>3</th>\n",
       "      <td>Balanced Logistic Regression</td>\n",
       "      <td>0.069209</td>\n",
       "      <td>0.910662</td>\n",
       "      <td>0.128642</td>\n",
       "      <td>7522.0</td>\n",
       "    </tr>\n",
       "    <tr>\n",
       "      <th>4</th>\n",
       "      <td>Balanced Random Forest</td>\n",
       "      <td>0.420337</td>\n",
       "      <td>0.378091</td>\n",
       "      <td>0.398096</td>\n",
       "      <td>7522.0</td>\n",
       "    </tr>\n",
       "    <tr>\n",
       "      <th>5</th>\n",
       "      <td>Logistic Regression (Resampled)</td>\n",
       "      <td>0.069201</td>\n",
       "      <td>0.910795</td>\n",
       "      <td>0.128629</td>\n",
       "      <td>7522.0</td>\n",
       "    </tr>\n",
       "    <tr>\n",
       "      <th>6</th>\n",
       "      <td>Random Forest (Resampled)</td>\n",
       "      <td>0.091480</td>\n",
       "      <td>0.786759</td>\n",
       "      <td>0.163902</td>\n",
       "      <td>7522.0</td>\n",
       "    </tr>\n",
       "    <tr>\n",
       "      <th>7</th>\n",
       "      <td>Gradient Boosting Classifier</td>\n",
       "      <td>0.100274</td>\n",
       "      <td>0.782771</td>\n",
       "      <td>0.177775</td>\n",
       "      <td>7522.0</td>\n",
       "    </tr>\n",
       "  </tbody>\n",
       "</table>\n",
       "</div>"
      ],
      "text/plain": [
       "                             model  precision    recall  f1-score  support\n",
       "0                 Dummy Classifier   0.000000  0.000000  0.000000   7522.0\n",
       "1              Logistic Regression   0.138173  0.007844  0.014845   7522.0\n",
       "2                    Random Forest   0.500611  0.272268  0.352708   7522.0\n",
       "3     Balanced Logistic Regression   0.069209  0.910662  0.128642   7522.0\n",
       "4           Balanced Random Forest   0.420337  0.378091  0.398096   7522.0\n",
       "5  Logistic Regression (Resampled)   0.069201  0.910795  0.128629   7522.0\n",
       "6        Random Forest (Resampled)   0.091480  0.786759  0.163902   7522.0\n",
       "7     Gradient Boosting Classifier   0.100274  0.782771  0.177775   7522.0"
      ]
     },
     "execution_count": 150,
     "metadata": {},
     "output_type": "execute_result"
    }
   ],
   "source": [
    "model_compare"
   ]
  },
  {
   "cell_type": "markdown",
   "metadata": {},
   "source": [
    "# Support Vector Machine"
   ]
  },
  {
   "cell_type": "code",
   "execution_count": null,
   "metadata": {},
   "outputs": [],
   "source": [
    "from sklearn.svm import SVC\n",
    "\n",
    "clf_svc = make_pipeline_with_sampler(\n",
    "    RandomUnderSampler(random_state=42),\n",
    "    SVC(gamma='auto'),\n",
    ")\n",
    "\n",
    "clf_svc.fit(X_train, y_train)\n",
    "y_pred_svc = clf_svc.predict(X_test)"
   ]
  },
  {
   "cell_type": "code",
   "execution_count": null,
   "metadata": {},
   "outputs": [
    {
     "name": "stdout",
     "output_type": "stream",
     "text": [
      "Accuracy Score: 0.6390105847809805\n",
      "Confusion Matrix: \n",
      "[[90524 52831]\n",
      " [ 1634  5888]]\n",
      "Area Under Curve: 0.7071189380414733\n",
      "Recall score: 0.7827705397500665\n"
     ]
    }
   ],
   "source": [
    "# performance\n",
    "print(f'Accuracy Score: {accuracy_score(y_test,y_pred_svc)}')\n",
    "print(f'Confusion Matrix: \\n{confusion_matrix(y_test, y_pred_svc)}')\n",
    "print(f'Area Under Curve: {roc_auc_score(y_test, y_pred_svc)}')\n",
    "print(f'Recall score: {recall_score(y_test,y_pred_svc)}')"
   ]
  },
  {
   "cell_type": "code",
   "execution_count": null,
   "metadata": {},
   "outputs": [
    {
     "name": "stdout",
     "output_type": "stream",
     "text": [
      "              precision    recall  f1-score   support\n",
      "\n",
      "         0.0       0.98      0.63      0.77    143355\n",
      "         1.0       0.10      0.78      0.18      7522\n",
      "\n",
      "    accuracy                           0.64    150877\n",
      "   macro avg       0.54      0.71      0.47    150877\n",
      "weighted avg       0.94      0.64      0.74    150877\n",
      "\n"
     ]
    }
   ],
   "source": [
    "df = get_classification_report(y_test, y_pred_svc, 'Support Vector Machine')\n",
    "model_compare = model_compare.append(df).reset_index(drop=True)\n",
    "model_compare"
   ]
  },
  {
   "cell_type": "markdown",
   "metadata": {},
   "source": [
    "# Multilayer Perceptron"
   ]
  },
  {
   "cell_type": "code",
   "execution_count": null,
   "metadata": {},
   "outputs": [],
   "source": [
    "from sklearn.neural_network import MLPClassifier\n",
    "\n",
    "clf_mlp = make_pipeline_with_sampler(\n",
    "    RandomUnderSampler(random_state=42),\n",
    "    MLPClassifier(random_state=1, max_iter=300),\n",
    ")\n",
    "\n",
    "clf_mlp.fit(X_train, y_train)\n",
    "y_pred_mlp = clf_mlp.predict(X_test)"
   ]
  },
  {
   "cell_type": "code",
   "execution_count": null,
   "metadata": {},
   "outputs": [
    {
     "name": "stdout",
     "output_type": "stream",
     "text": [
      "Accuracy Score: 0.661499101917456\n",
      "Confusion Matrix: \n",
      "[[94091 49264]\n",
      " [ 1808  5714]]\n",
      "Area Under Curve: 0.707994007806485\n",
      "Recall score: 0.7596383940441372\n"
     ]
    }
   ],
   "source": [
    "# performance\n",
    "print(f'Accuracy Score: {accuracy_score(y_test,y_pred_mlp)}')\n",
    "print(f'Confusion Matrix: \\n{confusion_matrix(y_test, y_pred_mlp)}')\n",
    "print(f'Area Under Curve: {roc_auc_score(y_test, y_pred_mlp)}')\n",
    "print(f'Recall score: {recall_score(y_test,y_pred_mlp)}')"
   ]
  },
  {
   "cell_type": "code",
   "execution_count": null,
   "metadata": {},
   "outputs": [
    {
     "data": {
      "text/html": [
       "<div>\n",
       "<style scoped>\n",
       "    .dataframe tbody tr th:only-of-type {\n",
       "        vertical-align: middle;\n",
       "    }\n",
       "\n",
       "    .dataframe tbody tr th {\n",
       "        vertical-align: top;\n",
       "    }\n",
       "\n",
       "    .dataframe thead th {\n",
       "        text-align: right;\n",
       "    }\n",
       "</style>\n",
       "<table border=\"1\" class=\"dataframe\">\n",
       "  <thead>\n",
       "    <tr style=\"text-align: right;\">\n",
       "      <th></th>\n",
       "      <th>model</th>\n",
       "      <th>precision</th>\n",
       "      <th>recall</th>\n",
       "      <th>f1-score</th>\n",
       "      <th>support</th>\n",
       "    </tr>\n",
       "  </thead>\n",
       "  <tbody>\n",
       "    <tr>\n",
       "      <th>0</th>\n",
       "      <td>Dummy Classifier</td>\n",
       "      <td>0.000000</td>\n",
       "      <td>0.000000</td>\n",
       "      <td>0.000000</td>\n",
       "      <td>7522.0</td>\n",
       "    </tr>\n",
       "    <tr>\n",
       "      <th>1</th>\n",
       "      <td>Logistic Regression</td>\n",
       "      <td>0.138173</td>\n",
       "      <td>0.007844</td>\n",
       "      <td>0.014845</td>\n",
       "      <td>7522.0</td>\n",
       "    </tr>\n",
       "    <tr>\n",
       "      <th>2</th>\n",
       "      <td>Random Forest</td>\n",
       "      <td>0.500611</td>\n",
       "      <td>0.272268</td>\n",
       "      <td>0.352708</td>\n",
       "      <td>7522.0</td>\n",
       "    </tr>\n",
       "    <tr>\n",
       "      <th>3</th>\n",
       "      <td>Balanced Logistic Regression</td>\n",
       "      <td>0.069209</td>\n",
       "      <td>0.910662</td>\n",
       "      <td>0.128642</td>\n",
       "      <td>7522.0</td>\n",
       "    </tr>\n",
       "    <tr>\n",
       "      <th>4</th>\n",
       "      <td>Balanced Random Forest</td>\n",
       "      <td>0.420337</td>\n",
       "      <td>0.378091</td>\n",
       "      <td>0.398096</td>\n",
       "      <td>7522.0</td>\n",
       "    </tr>\n",
       "    <tr>\n",
       "      <th>5</th>\n",
       "      <td>Logistic Regression (Resampled)</td>\n",
       "      <td>0.069201</td>\n",
       "      <td>0.910795</td>\n",
       "      <td>0.128629</td>\n",
       "      <td>7522.0</td>\n",
       "    </tr>\n",
       "    <tr>\n",
       "      <th>6</th>\n",
       "      <td>Random Forest (Resampled)</td>\n",
       "      <td>0.091480</td>\n",
       "      <td>0.786759</td>\n",
       "      <td>0.163902</td>\n",
       "      <td>7522.0</td>\n",
       "    </tr>\n",
       "    <tr>\n",
       "      <th>7</th>\n",
       "      <td>Gradient Boosting Classifier</td>\n",
       "      <td>0.100274</td>\n",
       "      <td>0.782771</td>\n",
       "      <td>0.177775</td>\n",
       "      <td>7522.0</td>\n",
       "    </tr>\n",
       "    <tr>\n",
       "      <th>8</th>\n",
       "      <td>Multilayer Perceptron</td>\n",
       "      <td>0.103932</td>\n",
       "      <td>0.759638</td>\n",
       "      <td>0.182848</td>\n",
       "      <td>7522.0</td>\n",
       "    </tr>\n",
       "  </tbody>\n",
       "</table>\n",
       "</div>"
      ],
      "text/plain": [
       "                             model  precision    recall  f1-score  support\n",
       "0                 Dummy Classifier   0.000000  0.000000  0.000000   7522.0\n",
       "1              Logistic Regression   0.138173  0.007844  0.014845   7522.0\n",
       "2                    Random Forest   0.500611  0.272268  0.352708   7522.0\n",
       "3     Balanced Logistic Regression   0.069209  0.910662  0.128642   7522.0\n",
       "4           Balanced Random Forest   0.420337  0.378091  0.398096   7522.0\n",
       "5  Logistic Regression (Resampled)   0.069201  0.910795  0.128629   7522.0\n",
       "6        Random Forest (Resampled)   0.091480  0.786759  0.163902   7522.0\n",
       "7     Gradient Boosting Classifier   0.100274  0.782771  0.177775   7522.0\n",
       "8            Multilayer Perceptron   0.103932  0.759638  0.182848   7522.0"
      ]
     },
     "execution_count": 154,
     "metadata": {},
     "output_type": "execute_result"
    }
   ],
   "source": [
    "df = get_classification_report(y_test, y_pred_mlp, 'Multilayer Perceptron')\n",
    "model_compare = model_compare.append(df).reset_index(drop=True)\n",
    "model_compare"
   ]
  },
  {
   "cell_type": "markdown",
   "metadata": {},
   "source": [
    "# Weighted Logistic Regression"
   ]
  },
  {
   "cell_type": "code",
   "execution_count": null,
   "metadata": {},
   "outputs": [],
   "source": [
    "# define class weights\n",
    "# w = {0:1, 1:19}\n",
    "\n",
    "# define model\n",
    "# lg2 = LogisticRegression(random_state=13, class_weight=w)\n",
    "# fit it\n",
    "# lg2.fit(X_train,y_train)\n",
    "# test\n",
    "# y_pred = lg2.predict(X_test)\n",
    "\n",
    "# performance\n",
    "# print(f'Accuracy Score: {accuracy_score(y_test,y_pred)}')\n",
    "# print(f'Confusion Matrix: \\n{confusion_matrix(y_test, y_pred)}')\n",
    "# print(f'Area Under Curve: {roc_auc_score(y_test, y_pred)}')\n",
    "# print(f'Recall score: {recall_score(y_test,y_pred)}')"
   ]
  },
  {
   "cell_type": "code",
   "execution_count": null,
   "metadata": {},
   "outputs": [],
   "source": [
    "# from sklearn.metrics import classification_report\n",
    "# print(classification_report(y_test,y_pred))"
   ]
  },
  {
   "cell_type": "markdown",
   "metadata": {},
   "source": [
    "# Weights GridSearch"
   ]
  },
  {
   "cell_type": "code",
   "execution_count": null,
   "metadata": {},
   "outputs": [],
   "source": [
    "# define weight hyperparameter\n",
    "# w = [{0:1, 1:1}, {0:1, 1:2}, {0:1, 1:5}, {0:1, 1:10}, {0:1, 1:15}, {0:1, 1:20}]\n",
    "# hyperparam_grid = {\"class_weight\": w }"
   ]
  },
  {
   "cell_type": "code",
   "execution_count": null,
   "metadata": {},
   "outputs": [],
   "source": [
    "# define model\n",
    "# lg3 = LogisticRegression(random_state=13)\n",
    "# # define evaluation procedure\n",
    "# grid = GridSearchCV(lg3,hyperparam_grid,scoring=\"roc_auc\", cv=100, n_jobs=-1, refit=True)\n",
    "# grid.fit(X_train,y_train)\n",
    "# print(f'Best score: {grid.best_score_} with param: {grid.best_params_}')"
   ]
  }
 ],
 "metadata": {
  "interpreter": {
   "hash": "aee8b7b246df8f9039afb4144a1f6fd8d2ca17a180786b69acc140d282b71a49"
  },
  "kernelspec": {
   "display_name": "Python 3.9.7 64-bit",
   "language": "python",
   "name": "python3"
  },
  "language_info": {
   "codemirror_mode": {
    "name": "ipython",
    "version": 3
   },
   "file_extension": ".py",
   "mimetype": "text/x-python",
   "name": "python",
   "nbconvert_exporter": "python",
   "pygments_lexer": "ipython3",
   "version": "3.8.1"
  },
  "orig_nbformat": 4
 },
 "nbformat": 4,
 "nbformat_minor": 2
}
