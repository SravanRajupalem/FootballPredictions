{
 "cells": [
  {
   "cell_type": "code",
   "execution_count": 1,
   "metadata": {},
   "outputs": [],
   "source": [
    "import datetime\n",
    "from datetime import date\n",
    "from datetime import datetime\n",
    "import requests\n",
    "import pprint\n",
    "from bs4 import BeautifulSoup\n",
    "import pandas as pd\n",
    "import re\n",
    "import pickle\n",
    "from urllib.request import urlopen\n",
    "import glob\n",
    "import altair as alt\n",
    "import time\n",
    "import itertools\n",
    "import numpy as np\n",
    "import operator\n",
    "from datetime import timedelta\n",
    "from ipywidgets import interact, IntSlider\n",
    "from IPython.display import display\n",
    "import sklearn\n",
    "import numpy as np\n",
    "from sklearn.linear_model import LogisticRegression\n",
    "# import seaborn as sns\n",
    "# from matplotlib import pyplot as plt\n",
    "# %matplotlib inline\n",
    "from sklearn.metrics import accuracy_score, confusion_matrix,roc_curve, roc_auc_score, precision_score, recall_score, precision_recall_curve\n",
    "from sklearn.model_selection import train_test_split, GridSearchCV, cross_val_score, RepeatedStratifiedKFold, StratifiedKFold\n",
    "from sklearn.datasets import make_hastie_10_2\n",
    "from sklearn.ensemble import GradientBoostingClassifier\n",
    "from imblearn.pipeline import make_pipeline as make_pipeline_with_sampler\n",
    "from imblearn.under_sampling import RandomUnderSampler\n",
    "\n",
    "from pycaret.classification import * \n",
    "\n",
    "# pd.options.display.max_columns = 5000\n",
    "# pd.options.display.max_rows = 5000\n",
    "\n",
    "injured_pred = 'injured_in_52_week'\n",
    "\n",
    "simple_features = ['Height', 'Weight', 'age','cum_injury_total', 'weeks_since_last_injury', 'Min_cum','Serie A_cum',\n",
    " 'Premier League_cum', 'La Liga_cum', 'Ligue 1_cum', 'Bundesliga_cum', 'Champions Lg_cum', 'Europa Lg_cum', 'FIFA World Cup_cum', 'UEFA Nations League_cum', 'UEFA Euro_cum',\n",
    " 'Copa América_cum', 'Away_cum', 'Home_cum', 'Neutral_cum']\n",
    "\n",
    "extended_features = ['Height', 'Weight', 'defender', 'attacker', 'midfielder', 'goalkeeper', 'right_foot', 'age', 'cum_injury_total', 'weeks_since_last_injury', 'Min_cum', 'Gls_cum', 'Ast_cum', 'PK_cum', 'PKatt_cum',\n",
    " 'Sh_cum', 'SoT_cum', 'CrdY_cum', 'CrdR_cum', 'Touches_cum', 'Press_cum', 'Tkl_cum', 'Int_cum', 'Blocks_cum', 'xG_cum', 'npxG_cum', 'xA_cum', 'SCA_cum', 'GCA_cum', 'Cmp_cum',\n",
    " 'Att_cum', 'Prog_cum', 'Carries_cum', 'Prog.1_cum', 'Succ_cum', 'Att.1_cum', 'Fls_cum', 'Fld_cum', 'Off_cum', 'Crs_cum', 'TklW_cum', 'OG_cum', 'PKwon_cum','PKcon_cum', 'Serie A_cum',\n",
    " 'Premier League_cum', 'La Liga_cum', 'Ligue 1_cum', 'Bundesliga_cum', 'Champions Lg_cum', 'Europa Lg_cum', 'FIFA World Cup_cum', 'UEFA Nations League_cum', 'UEFA Euro_cum',\n",
    " 'Copa América_cum', 'Away_cum', 'Home_cum', 'Neutral_cum']"
   ]
  },
  {
   "cell_type": "code",
   "execution_count": 2,
   "metadata": {},
   "outputs": [],
   "source": [
    "# Load Dataset\n",
    "\n",
    "# Renzo's Path\n",
    "# dataset = pd.read_csv('/Volumes/GoogleDrive/.shortcut-targets-by-id/1KUGn_35OjAoOP2puz6yG-2g_8LBxvDG_/SIADS 697 - Capstone/Dataframes/complete_final_df_5.csv')\n",
    "#\n",
    "# Sravan's Path\n",
    "# dataset = pd.read_csv('/Users/srav88/My Drive/SIADS 697 - Capstone/Dataframes/dataset_for_model_final.csv')\n",
    "\n",
    "# Sravan's Parquet Path\n",
    "dataset = pd.read_parquet('dataframes_blog/dataset_for_model_final.parquet') "
   ]
  },
  {
   "cell_type": "code",
   "execution_count": 3,
   "metadata": {},
   "outputs": [],
   "source": [
    "# dataset[dataset['FBRefID']=='dea698d9'].to_csv('/Users/srav88/My Drive/SIADS 697 - Capstone/Dataframes/ronaldo.csv', index=False)\n",
    "dataset = dataset[dataset['drop'] == 0]\n",
    "# dataset = dataset[dataset['goalkeeper'] == 0]"
   ]
  },
  {
   "cell_type": "code",
   "execution_count": 4,
   "metadata": {},
   "outputs": [],
   "source": [
    "# Get Train Test Split\n",
    "df_train = dataset[dataset['cum_week'] <= dataset[\"train_split\"]].dropna()\n",
    "df_test = dataset[dataset['cum_week'] > dataset[\"train_split\"]].dropna()"
   ]
  },
  {
   "cell_type": "code",
   "execution_count": 5,
   "metadata": {},
   "outputs": [],
   "source": [
    "X_train = df_train[extended_features]\n",
    "y_train = df_train[injured_pred]\n",
    "\n",
    "X_test = df_test[extended_features]\n",
    "y_test = df_test[injured_pred]"
   ]
  },
  {
   "cell_type": "code",
   "execution_count": 6,
   "metadata": {},
   "outputs": [
    {
     "data": {
      "text/html": [
       "<style  type=\"text/css\" >\n",
       "#T_3694dc62_60ca_11ec_9937_12c035a6d937row5_col1,#T_3694dc62_60ca_11ec_9937_12c035a6d937row44_col1,#T_3694dc62_60ca_11ec_9937_12c035a6d937row52_col1,#T_3694dc62_60ca_11ec_9937_12c035a6d937row58_col1{\n",
       "            background-color:  lightgreen;\n",
       "        }</style><table id=\"T_3694dc62_60ca_11ec_9937_12c035a6d937\" ><thead>    <tr>        <th class=\"blank level0\" ></th>        <th class=\"col_heading level0 col0\" >Description</th>        <th class=\"col_heading level0 col1\" >Value</th>    </tr></thead><tbody>\n",
       "                <tr>\n",
       "                        <th id=\"T_3694dc62_60ca_11ec_9937_12c035a6d937level0_row0\" class=\"row_heading level0 row0\" >0</th>\n",
       "                        <td id=\"T_3694dc62_60ca_11ec_9937_12c035a6d937row0_col0\" class=\"data row0 col0\" >session_id</td>\n",
       "                        <td id=\"T_3694dc62_60ca_11ec_9937_12c035a6d937row0_col1\" class=\"data row0 col1\" >3640</td>\n",
       "            </tr>\n",
       "            <tr>\n",
       "                        <th id=\"T_3694dc62_60ca_11ec_9937_12c035a6d937level0_row1\" class=\"row_heading level0 row1\" >1</th>\n",
       "                        <td id=\"T_3694dc62_60ca_11ec_9937_12c035a6d937row1_col0\" class=\"data row1 col0\" >Target</td>\n",
       "                        <td id=\"T_3694dc62_60ca_11ec_9937_12c035a6d937row1_col1\" class=\"data row1 col1\" >injured_in_52_week</td>\n",
       "            </tr>\n",
       "            <tr>\n",
       "                        <th id=\"T_3694dc62_60ca_11ec_9937_12c035a6d937level0_row2\" class=\"row_heading level0 row2\" >2</th>\n",
       "                        <td id=\"T_3694dc62_60ca_11ec_9937_12c035a6d937row2_col0\" class=\"data row2 col0\" >Target Type</td>\n",
       "                        <td id=\"T_3694dc62_60ca_11ec_9937_12c035a6d937row2_col1\" class=\"data row2 col1\" >Binary</td>\n",
       "            </tr>\n",
       "            <tr>\n",
       "                        <th id=\"T_3694dc62_60ca_11ec_9937_12c035a6d937level0_row3\" class=\"row_heading level0 row3\" >3</th>\n",
       "                        <td id=\"T_3694dc62_60ca_11ec_9937_12c035a6d937row3_col0\" class=\"data row3 col0\" >Label Encoded</td>\n",
       "                        <td id=\"T_3694dc62_60ca_11ec_9937_12c035a6d937row3_col1\" class=\"data row3 col1\" >0.0: 0, 1.0: 1</td>\n",
       "            </tr>\n",
       "            <tr>\n",
       "                        <th id=\"T_3694dc62_60ca_11ec_9937_12c035a6d937level0_row4\" class=\"row_heading level0 row4\" >4</th>\n",
       "                        <td id=\"T_3694dc62_60ca_11ec_9937_12c035a6d937row4_col0\" class=\"data row4 col0\" >Original Data</td>\n",
       "                        <td id=\"T_3694dc62_60ca_11ec_9937_12c035a6d937row4_col1\" class=\"data row4 col1\" >(1787492, 2)</td>\n",
       "            </tr>\n",
       "            <tr>\n",
       "                        <th id=\"T_3694dc62_60ca_11ec_9937_12c035a6d937level0_row5\" class=\"row_heading level0 row5\" >5</th>\n",
       "                        <td id=\"T_3694dc62_60ca_11ec_9937_12c035a6d937row5_col0\" class=\"data row5 col0\" >Missing Values</td>\n",
       "                        <td id=\"T_3694dc62_60ca_11ec_9937_12c035a6d937row5_col1\" class=\"data row5 col1\" >True</td>\n",
       "            </tr>\n",
       "            <tr>\n",
       "                        <th id=\"T_3694dc62_60ca_11ec_9937_12c035a6d937level0_row6\" class=\"row_heading level0 row6\" >6</th>\n",
       "                        <td id=\"T_3694dc62_60ca_11ec_9937_12c035a6d937row6_col0\" class=\"data row6 col0\" >Numeric Features</td>\n",
       "                        <td id=\"T_3694dc62_60ca_11ec_9937_12c035a6d937row6_col1\" class=\"data row6 col1\" >1</td>\n",
       "            </tr>\n",
       "            <tr>\n",
       "                        <th id=\"T_3694dc62_60ca_11ec_9937_12c035a6d937level0_row7\" class=\"row_heading level0 row7\" >7</th>\n",
       "                        <td id=\"T_3694dc62_60ca_11ec_9937_12c035a6d937row7_col0\" class=\"data row7 col0\" >Categorical Features</td>\n",
       "                        <td id=\"T_3694dc62_60ca_11ec_9937_12c035a6d937row7_col1\" class=\"data row7 col1\" >0</td>\n",
       "            </tr>\n",
       "            <tr>\n",
       "                        <th id=\"T_3694dc62_60ca_11ec_9937_12c035a6d937level0_row8\" class=\"row_heading level0 row8\" >8</th>\n",
       "                        <td id=\"T_3694dc62_60ca_11ec_9937_12c035a6d937row8_col0\" class=\"data row8 col0\" >Ordinal Features</td>\n",
       "                        <td id=\"T_3694dc62_60ca_11ec_9937_12c035a6d937row8_col1\" class=\"data row8 col1\" >False</td>\n",
       "            </tr>\n",
       "            <tr>\n",
       "                        <th id=\"T_3694dc62_60ca_11ec_9937_12c035a6d937level0_row9\" class=\"row_heading level0 row9\" >9</th>\n",
       "                        <td id=\"T_3694dc62_60ca_11ec_9937_12c035a6d937row9_col0\" class=\"data row9 col0\" >High Cardinality Features</td>\n",
       "                        <td id=\"T_3694dc62_60ca_11ec_9937_12c035a6d937row9_col1\" class=\"data row9 col1\" >False</td>\n",
       "            </tr>\n",
       "            <tr>\n",
       "                        <th id=\"T_3694dc62_60ca_11ec_9937_12c035a6d937level0_row10\" class=\"row_heading level0 row10\" >10</th>\n",
       "                        <td id=\"T_3694dc62_60ca_11ec_9937_12c035a6d937row10_col0\" class=\"data row10 col0\" >High Cardinality Method</td>\n",
       "                        <td id=\"T_3694dc62_60ca_11ec_9937_12c035a6d937row10_col1\" class=\"data row10 col1\" >None</td>\n",
       "            </tr>\n",
       "            <tr>\n",
       "                        <th id=\"T_3694dc62_60ca_11ec_9937_12c035a6d937level0_row11\" class=\"row_heading level0 row11\" >11</th>\n",
       "                        <td id=\"T_3694dc62_60ca_11ec_9937_12c035a6d937row11_col0\" class=\"data row11 col0\" >Transformed Train Set</td>\n",
       "                        <td id=\"T_3694dc62_60ca_11ec_9937_12c035a6d937row11_col1\" class=\"data row11 col1\" >(1104748, 1)</td>\n",
       "            </tr>\n",
       "            <tr>\n",
       "                        <th id=\"T_3694dc62_60ca_11ec_9937_12c035a6d937level0_row12\" class=\"row_heading level0 row12\" >12</th>\n",
       "                        <td id=\"T_3694dc62_60ca_11ec_9937_12c035a6d937row12_col0\" class=\"data row12 col0\" >Transformed Test Set</td>\n",
       "                        <td id=\"T_3694dc62_60ca_11ec_9937_12c035a6d937row12_col1\" class=\"data row12 col1\" >(473060, 1)</td>\n",
       "            </tr>\n",
       "            <tr>\n",
       "                        <th id=\"T_3694dc62_60ca_11ec_9937_12c035a6d937level0_row13\" class=\"row_heading level0 row13\" >13</th>\n",
       "                        <td id=\"T_3694dc62_60ca_11ec_9937_12c035a6d937row13_col0\" class=\"data row13 col0\" >Shuffle Train-Test</td>\n",
       "                        <td id=\"T_3694dc62_60ca_11ec_9937_12c035a6d937row13_col1\" class=\"data row13 col1\" >True</td>\n",
       "            </tr>\n",
       "            <tr>\n",
       "                        <th id=\"T_3694dc62_60ca_11ec_9937_12c035a6d937level0_row14\" class=\"row_heading level0 row14\" >14</th>\n",
       "                        <td id=\"T_3694dc62_60ca_11ec_9937_12c035a6d937row14_col0\" class=\"data row14 col0\" >Stratify Train-Test</td>\n",
       "                        <td id=\"T_3694dc62_60ca_11ec_9937_12c035a6d937row14_col1\" class=\"data row14 col1\" >False</td>\n",
       "            </tr>\n",
       "            <tr>\n",
       "                        <th id=\"T_3694dc62_60ca_11ec_9937_12c035a6d937level0_row15\" class=\"row_heading level0 row15\" >15</th>\n",
       "                        <td id=\"T_3694dc62_60ca_11ec_9937_12c035a6d937row15_col0\" class=\"data row15 col0\" >Fold Generator</td>\n",
       "                        <td id=\"T_3694dc62_60ca_11ec_9937_12c035a6d937row15_col1\" class=\"data row15 col1\" >TimeSeriesSplit</td>\n",
       "            </tr>\n",
       "            <tr>\n",
       "                        <th id=\"T_3694dc62_60ca_11ec_9937_12c035a6d937level0_row16\" class=\"row_heading level0 row16\" >16</th>\n",
       "                        <td id=\"T_3694dc62_60ca_11ec_9937_12c035a6d937row16_col0\" class=\"data row16 col0\" >Fold Number</td>\n",
       "                        <td id=\"T_3694dc62_60ca_11ec_9937_12c035a6d937row16_col1\" class=\"data row16 col1\" >2</td>\n",
       "            </tr>\n",
       "            <tr>\n",
       "                        <th id=\"T_3694dc62_60ca_11ec_9937_12c035a6d937level0_row17\" class=\"row_heading level0 row17\" >17</th>\n",
       "                        <td id=\"T_3694dc62_60ca_11ec_9937_12c035a6d937row17_col0\" class=\"data row17 col0\" >CPU Jobs</td>\n",
       "                        <td id=\"T_3694dc62_60ca_11ec_9937_12c035a6d937row17_col1\" class=\"data row17 col1\" >-1</td>\n",
       "            </tr>\n",
       "            <tr>\n",
       "                        <th id=\"T_3694dc62_60ca_11ec_9937_12c035a6d937level0_row18\" class=\"row_heading level0 row18\" >18</th>\n",
       "                        <td id=\"T_3694dc62_60ca_11ec_9937_12c035a6d937row18_col0\" class=\"data row18 col0\" >Use GPU</td>\n",
       "                        <td id=\"T_3694dc62_60ca_11ec_9937_12c035a6d937row18_col1\" class=\"data row18 col1\" >False</td>\n",
       "            </tr>\n",
       "            <tr>\n",
       "                        <th id=\"T_3694dc62_60ca_11ec_9937_12c035a6d937level0_row19\" class=\"row_heading level0 row19\" >19</th>\n",
       "                        <td id=\"T_3694dc62_60ca_11ec_9937_12c035a6d937row19_col0\" class=\"data row19 col0\" >Log Experiment</td>\n",
       "                        <td id=\"T_3694dc62_60ca_11ec_9937_12c035a6d937row19_col1\" class=\"data row19 col1\" >False</td>\n",
       "            </tr>\n",
       "            <tr>\n",
       "                        <th id=\"T_3694dc62_60ca_11ec_9937_12c035a6d937level0_row20\" class=\"row_heading level0 row20\" >20</th>\n",
       "                        <td id=\"T_3694dc62_60ca_11ec_9937_12c035a6d937row20_col0\" class=\"data row20 col0\" >Experiment Name</td>\n",
       "                        <td id=\"T_3694dc62_60ca_11ec_9937_12c035a6d937row20_col1\" class=\"data row20 col1\" >clf-default-name</td>\n",
       "            </tr>\n",
       "            <tr>\n",
       "                        <th id=\"T_3694dc62_60ca_11ec_9937_12c035a6d937level0_row21\" class=\"row_heading level0 row21\" >21</th>\n",
       "                        <td id=\"T_3694dc62_60ca_11ec_9937_12c035a6d937row21_col0\" class=\"data row21 col0\" >USI</td>\n",
       "                        <td id=\"T_3694dc62_60ca_11ec_9937_12c035a6d937row21_col1\" class=\"data row21 col1\" >1b31</td>\n",
       "            </tr>\n",
       "            <tr>\n",
       "                        <th id=\"T_3694dc62_60ca_11ec_9937_12c035a6d937level0_row22\" class=\"row_heading level0 row22\" >22</th>\n",
       "                        <td id=\"T_3694dc62_60ca_11ec_9937_12c035a6d937row22_col0\" class=\"data row22 col0\" >Imputation Type</td>\n",
       "                        <td id=\"T_3694dc62_60ca_11ec_9937_12c035a6d937row22_col1\" class=\"data row22 col1\" >simple</td>\n",
       "            </tr>\n",
       "            <tr>\n",
       "                        <th id=\"T_3694dc62_60ca_11ec_9937_12c035a6d937level0_row23\" class=\"row_heading level0 row23\" >23</th>\n",
       "                        <td id=\"T_3694dc62_60ca_11ec_9937_12c035a6d937row23_col0\" class=\"data row23 col0\" >Iterative Imputation Iteration</td>\n",
       "                        <td id=\"T_3694dc62_60ca_11ec_9937_12c035a6d937row23_col1\" class=\"data row23 col1\" >None</td>\n",
       "            </tr>\n",
       "            <tr>\n",
       "                        <th id=\"T_3694dc62_60ca_11ec_9937_12c035a6d937level0_row24\" class=\"row_heading level0 row24\" >24</th>\n",
       "                        <td id=\"T_3694dc62_60ca_11ec_9937_12c035a6d937row24_col0\" class=\"data row24 col0\" >Numeric Imputer</td>\n",
       "                        <td id=\"T_3694dc62_60ca_11ec_9937_12c035a6d937row24_col1\" class=\"data row24 col1\" >mean</td>\n",
       "            </tr>\n",
       "            <tr>\n",
       "                        <th id=\"T_3694dc62_60ca_11ec_9937_12c035a6d937level0_row25\" class=\"row_heading level0 row25\" >25</th>\n",
       "                        <td id=\"T_3694dc62_60ca_11ec_9937_12c035a6d937row25_col0\" class=\"data row25 col0\" >Iterative Imputation Numeric Model</td>\n",
       "                        <td id=\"T_3694dc62_60ca_11ec_9937_12c035a6d937row25_col1\" class=\"data row25 col1\" >None</td>\n",
       "            </tr>\n",
       "            <tr>\n",
       "                        <th id=\"T_3694dc62_60ca_11ec_9937_12c035a6d937level0_row26\" class=\"row_heading level0 row26\" >26</th>\n",
       "                        <td id=\"T_3694dc62_60ca_11ec_9937_12c035a6d937row26_col0\" class=\"data row26 col0\" >Categorical Imputer</td>\n",
       "                        <td id=\"T_3694dc62_60ca_11ec_9937_12c035a6d937row26_col1\" class=\"data row26 col1\" >constant</td>\n",
       "            </tr>\n",
       "            <tr>\n",
       "                        <th id=\"T_3694dc62_60ca_11ec_9937_12c035a6d937level0_row27\" class=\"row_heading level0 row27\" >27</th>\n",
       "                        <td id=\"T_3694dc62_60ca_11ec_9937_12c035a6d937row27_col0\" class=\"data row27 col0\" >Iterative Imputation Categorical Model</td>\n",
       "                        <td id=\"T_3694dc62_60ca_11ec_9937_12c035a6d937row27_col1\" class=\"data row27 col1\" >None</td>\n",
       "            </tr>\n",
       "            <tr>\n",
       "                        <th id=\"T_3694dc62_60ca_11ec_9937_12c035a6d937level0_row28\" class=\"row_heading level0 row28\" >28</th>\n",
       "                        <td id=\"T_3694dc62_60ca_11ec_9937_12c035a6d937row28_col0\" class=\"data row28 col0\" >Unknown Categoricals Handling</td>\n",
       "                        <td id=\"T_3694dc62_60ca_11ec_9937_12c035a6d937row28_col1\" class=\"data row28 col1\" >least_frequent</td>\n",
       "            </tr>\n",
       "            <tr>\n",
       "                        <th id=\"T_3694dc62_60ca_11ec_9937_12c035a6d937level0_row29\" class=\"row_heading level0 row29\" >29</th>\n",
       "                        <td id=\"T_3694dc62_60ca_11ec_9937_12c035a6d937row29_col0\" class=\"data row29 col0\" >Normalize</td>\n",
       "                        <td id=\"T_3694dc62_60ca_11ec_9937_12c035a6d937row29_col1\" class=\"data row29 col1\" >False</td>\n",
       "            </tr>\n",
       "            <tr>\n",
       "                        <th id=\"T_3694dc62_60ca_11ec_9937_12c035a6d937level0_row30\" class=\"row_heading level0 row30\" >30</th>\n",
       "                        <td id=\"T_3694dc62_60ca_11ec_9937_12c035a6d937row30_col0\" class=\"data row30 col0\" >Normalize Method</td>\n",
       "                        <td id=\"T_3694dc62_60ca_11ec_9937_12c035a6d937row30_col1\" class=\"data row30 col1\" >None</td>\n",
       "            </tr>\n",
       "            <tr>\n",
       "                        <th id=\"T_3694dc62_60ca_11ec_9937_12c035a6d937level0_row31\" class=\"row_heading level0 row31\" >31</th>\n",
       "                        <td id=\"T_3694dc62_60ca_11ec_9937_12c035a6d937row31_col0\" class=\"data row31 col0\" >Transformation</td>\n",
       "                        <td id=\"T_3694dc62_60ca_11ec_9937_12c035a6d937row31_col1\" class=\"data row31 col1\" >False</td>\n",
       "            </tr>\n",
       "            <tr>\n",
       "                        <th id=\"T_3694dc62_60ca_11ec_9937_12c035a6d937level0_row32\" class=\"row_heading level0 row32\" >32</th>\n",
       "                        <td id=\"T_3694dc62_60ca_11ec_9937_12c035a6d937row32_col0\" class=\"data row32 col0\" >Transformation Method</td>\n",
       "                        <td id=\"T_3694dc62_60ca_11ec_9937_12c035a6d937row32_col1\" class=\"data row32 col1\" >None</td>\n",
       "            </tr>\n",
       "            <tr>\n",
       "                        <th id=\"T_3694dc62_60ca_11ec_9937_12c035a6d937level0_row33\" class=\"row_heading level0 row33\" >33</th>\n",
       "                        <td id=\"T_3694dc62_60ca_11ec_9937_12c035a6d937row33_col0\" class=\"data row33 col0\" >PCA</td>\n",
       "                        <td id=\"T_3694dc62_60ca_11ec_9937_12c035a6d937row33_col1\" class=\"data row33 col1\" >False</td>\n",
       "            </tr>\n",
       "            <tr>\n",
       "                        <th id=\"T_3694dc62_60ca_11ec_9937_12c035a6d937level0_row34\" class=\"row_heading level0 row34\" >34</th>\n",
       "                        <td id=\"T_3694dc62_60ca_11ec_9937_12c035a6d937row34_col0\" class=\"data row34 col0\" >PCA Method</td>\n",
       "                        <td id=\"T_3694dc62_60ca_11ec_9937_12c035a6d937row34_col1\" class=\"data row34 col1\" >None</td>\n",
       "            </tr>\n",
       "            <tr>\n",
       "                        <th id=\"T_3694dc62_60ca_11ec_9937_12c035a6d937level0_row35\" class=\"row_heading level0 row35\" >35</th>\n",
       "                        <td id=\"T_3694dc62_60ca_11ec_9937_12c035a6d937row35_col0\" class=\"data row35 col0\" >PCA Components</td>\n",
       "                        <td id=\"T_3694dc62_60ca_11ec_9937_12c035a6d937row35_col1\" class=\"data row35 col1\" >None</td>\n",
       "            </tr>\n",
       "            <tr>\n",
       "                        <th id=\"T_3694dc62_60ca_11ec_9937_12c035a6d937level0_row36\" class=\"row_heading level0 row36\" >36</th>\n",
       "                        <td id=\"T_3694dc62_60ca_11ec_9937_12c035a6d937row36_col0\" class=\"data row36 col0\" >Ignore Low Variance</td>\n",
       "                        <td id=\"T_3694dc62_60ca_11ec_9937_12c035a6d937row36_col1\" class=\"data row36 col1\" >False</td>\n",
       "            </tr>\n",
       "            <tr>\n",
       "                        <th id=\"T_3694dc62_60ca_11ec_9937_12c035a6d937level0_row37\" class=\"row_heading level0 row37\" >37</th>\n",
       "                        <td id=\"T_3694dc62_60ca_11ec_9937_12c035a6d937row37_col0\" class=\"data row37 col0\" >Combine Rare Levels</td>\n",
       "                        <td id=\"T_3694dc62_60ca_11ec_9937_12c035a6d937row37_col1\" class=\"data row37 col1\" >False</td>\n",
       "            </tr>\n",
       "            <tr>\n",
       "                        <th id=\"T_3694dc62_60ca_11ec_9937_12c035a6d937level0_row38\" class=\"row_heading level0 row38\" >38</th>\n",
       "                        <td id=\"T_3694dc62_60ca_11ec_9937_12c035a6d937row38_col0\" class=\"data row38 col0\" >Rare Level Threshold</td>\n",
       "                        <td id=\"T_3694dc62_60ca_11ec_9937_12c035a6d937row38_col1\" class=\"data row38 col1\" >None</td>\n",
       "            </tr>\n",
       "            <tr>\n",
       "                        <th id=\"T_3694dc62_60ca_11ec_9937_12c035a6d937level0_row39\" class=\"row_heading level0 row39\" >39</th>\n",
       "                        <td id=\"T_3694dc62_60ca_11ec_9937_12c035a6d937row39_col0\" class=\"data row39 col0\" >Numeric Binning</td>\n",
       "                        <td id=\"T_3694dc62_60ca_11ec_9937_12c035a6d937row39_col1\" class=\"data row39 col1\" >False</td>\n",
       "            </tr>\n",
       "            <tr>\n",
       "                        <th id=\"T_3694dc62_60ca_11ec_9937_12c035a6d937level0_row40\" class=\"row_heading level0 row40\" >40</th>\n",
       "                        <td id=\"T_3694dc62_60ca_11ec_9937_12c035a6d937row40_col0\" class=\"data row40 col0\" >Remove Outliers</td>\n",
       "                        <td id=\"T_3694dc62_60ca_11ec_9937_12c035a6d937row40_col1\" class=\"data row40 col1\" >False</td>\n",
       "            </tr>\n",
       "            <tr>\n",
       "                        <th id=\"T_3694dc62_60ca_11ec_9937_12c035a6d937level0_row41\" class=\"row_heading level0 row41\" >41</th>\n",
       "                        <td id=\"T_3694dc62_60ca_11ec_9937_12c035a6d937row41_col0\" class=\"data row41 col0\" >Outliers Threshold</td>\n",
       "                        <td id=\"T_3694dc62_60ca_11ec_9937_12c035a6d937row41_col1\" class=\"data row41 col1\" >None</td>\n",
       "            </tr>\n",
       "            <tr>\n",
       "                        <th id=\"T_3694dc62_60ca_11ec_9937_12c035a6d937level0_row42\" class=\"row_heading level0 row42\" >42</th>\n",
       "                        <td id=\"T_3694dc62_60ca_11ec_9937_12c035a6d937row42_col0\" class=\"data row42 col0\" >Remove Multicollinearity</td>\n",
       "                        <td id=\"T_3694dc62_60ca_11ec_9937_12c035a6d937row42_col1\" class=\"data row42 col1\" >False</td>\n",
       "            </tr>\n",
       "            <tr>\n",
       "                        <th id=\"T_3694dc62_60ca_11ec_9937_12c035a6d937level0_row43\" class=\"row_heading level0 row43\" >43</th>\n",
       "                        <td id=\"T_3694dc62_60ca_11ec_9937_12c035a6d937row43_col0\" class=\"data row43 col0\" >Multicollinearity Threshold</td>\n",
       "                        <td id=\"T_3694dc62_60ca_11ec_9937_12c035a6d937row43_col1\" class=\"data row43 col1\" >None</td>\n",
       "            </tr>\n",
       "            <tr>\n",
       "                        <th id=\"T_3694dc62_60ca_11ec_9937_12c035a6d937level0_row44\" class=\"row_heading level0 row44\" >44</th>\n",
       "                        <td id=\"T_3694dc62_60ca_11ec_9937_12c035a6d937row44_col0\" class=\"data row44 col0\" >Remove Perfect Collinearity</td>\n",
       "                        <td id=\"T_3694dc62_60ca_11ec_9937_12c035a6d937row44_col1\" class=\"data row44 col1\" >True</td>\n",
       "            </tr>\n",
       "            <tr>\n",
       "                        <th id=\"T_3694dc62_60ca_11ec_9937_12c035a6d937level0_row45\" class=\"row_heading level0 row45\" >45</th>\n",
       "                        <td id=\"T_3694dc62_60ca_11ec_9937_12c035a6d937row45_col0\" class=\"data row45 col0\" >Clustering</td>\n",
       "                        <td id=\"T_3694dc62_60ca_11ec_9937_12c035a6d937row45_col1\" class=\"data row45 col1\" >False</td>\n",
       "            </tr>\n",
       "            <tr>\n",
       "                        <th id=\"T_3694dc62_60ca_11ec_9937_12c035a6d937level0_row46\" class=\"row_heading level0 row46\" >46</th>\n",
       "                        <td id=\"T_3694dc62_60ca_11ec_9937_12c035a6d937row46_col0\" class=\"data row46 col0\" >Clustering Iteration</td>\n",
       "                        <td id=\"T_3694dc62_60ca_11ec_9937_12c035a6d937row46_col1\" class=\"data row46 col1\" >None</td>\n",
       "            </tr>\n",
       "            <tr>\n",
       "                        <th id=\"T_3694dc62_60ca_11ec_9937_12c035a6d937level0_row47\" class=\"row_heading level0 row47\" >47</th>\n",
       "                        <td id=\"T_3694dc62_60ca_11ec_9937_12c035a6d937row47_col0\" class=\"data row47 col0\" >Polynomial Features</td>\n",
       "                        <td id=\"T_3694dc62_60ca_11ec_9937_12c035a6d937row47_col1\" class=\"data row47 col1\" >False</td>\n",
       "            </tr>\n",
       "            <tr>\n",
       "                        <th id=\"T_3694dc62_60ca_11ec_9937_12c035a6d937level0_row48\" class=\"row_heading level0 row48\" >48</th>\n",
       "                        <td id=\"T_3694dc62_60ca_11ec_9937_12c035a6d937row48_col0\" class=\"data row48 col0\" >Polynomial Degree</td>\n",
       "                        <td id=\"T_3694dc62_60ca_11ec_9937_12c035a6d937row48_col1\" class=\"data row48 col1\" >None</td>\n",
       "            </tr>\n",
       "            <tr>\n",
       "                        <th id=\"T_3694dc62_60ca_11ec_9937_12c035a6d937level0_row49\" class=\"row_heading level0 row49\" >49</th>\n",
       "                        <td id=\"T_3694dc62_60ca_11ec_9937_12c035a6d937row49_col0\" class=\"data row49 col0\" >Trignometry Features</td>\n",
       "                        <td id=\"T_3694dc62_60ca_11ec_9937_12c035a6d937row49_col1\" class=\"data row49 col1\" >False</td>\n",
       "            </tr>\n",
       "            <tr>\n",
       "                        <th id=\"T_3694dc62_60ca_11ec_9937_12c035a6d937level0_row50\" class=\"row_heading level0 row50\" >50</th>\n",
       "                        <td id=\"T_3694dc62_60ca_11ec_9937_12c035a6d937row50_col0\" class=\"data row50 col0\" >Polynomial Threshold</td>\n",
       "                        <td id=\"T_3694dc62_60ca_11ec_9937_12c035a6d937row50_col1\" class=\"data row50 col1\" >None</td>\n",
       "            </tr>\n",
       "            <tr>\n",
       "                        <th id=\"T_3694dc62_60ca_11ec_9937_12c035a6d937level0_row51\" class=\"row_heading level0 row51\" >51</th>\n",
       "                        <td id=\"T_3694dc62_60ca_11ec_9937_12c035a6d937row51_col0\" class=\"data row51 col0\" >Group Features</td>\n",
       "                        <td id=\"T_3694dc62_60ca_11ec_9937_12c035a6d937row51_col1\" class=\"data row51 col1\" >False</td>\n",
       "            </tr>\n",
       "            <tr>\n",
       "                        <th id=\"T_3694dc62_60ca_11ec_9937_12c035a6d937level0_row52\" class=\"row_heading level0 row52\" >52</th>\n",
       "                        <td id=\"T_3694dc62_60ca_11ec_9937_12c035a6d937row52_col0\" class=\"data row52 col0\" >Feature Selection</td>\n",
       "                        <td id=\"T_3694dc62_60ca_11ec_9937_12c035a6d937row52_col1\" class=\"data row52 col1\" >True</td>\n",
       "            </tr>\n",
       "            <tr>\n",
       "                        <th id=\"T_3694dc62_60ca_11ec_9937_12c035a6d937level0_row53\" class=\"row_heading level0 row53\" >53</th>\n",
       "                        <td id=\"T_3694dc62_60ca_11ec_9937_12c035a6d937row53_col0\" class=\"data row53 col0\" >Feature Selection Method</td>\n",
       "                        <td id=\"T_3694dc62_60ca_11ec_9937_12c035a6d937row53_col1\" class=\"data row53 col1\" >classic</td>\n",
       "            </tr>\n",
       "            <tr>\n",
       "                        <th id=\"T_3694dc62_60ca_11ec_9937_12c035a6d937level0_row54\" class=\"row_heading level0 row54\" >54</th>\n",
       "                        <td id=\"T_3694dc62_60ca_11ec_9937_12c035a6d937row54_col0\" class=\"data row54 col0\" >Features Selection Threshold</td>\n",
       "                        <td id=\"T_3694dc62_60ca_11ec_9937_12c035a6d937row54_col1\" class=\"data row54 col1\" >0.800000</td>\n",
       "            </tr>\n",
       "            <tr>\n",
       "                        <th id=\"T_3694dc62_60ca_11ec_9937_12c035a6d937level0_row55\" class=\"row_heading level0 row55\" >55</th>\n",
       "                        <td id=\"T_3694dc62_60ca_11ec_9937_12c035a6d937row55_col0\" class=\"data row55 col0\" >Feature Interaction</td>\n",
       "                        <td id=\"T_3694dc62_60ca_11ec_9937_12c035a6d937row55_col1\" class=\"data row55 col1\" >False</td>\n",
       "            </tr>\n",
       "            <tr>\n",
       "                        <th id=\"T_3694dc62_60ca_11ec_9937_12c035a6d937level0_row56\" class=\"row_heading level0 row56\" >56</th>\n",
       "                        <td id=\"T_3694dc62_60ca_11ec_9937_12c035a6d937row56_col0\" class=\"data row56 col0\" >Feature Ratio</td>\n",
       "                        <td id=\"T_3694dc62_60ca_11ec_9937_12c035a6d937row56_col1\" class=\"data row56 col1\" >False</td>\n",
       "            </tr>\n",
       "            <tr>\n",
       "                        <th id=\"T_3694dc62_60ca_11ec_9937_12c035a6d937level0_row57\" class=\"row_heading level0 row57\" >57</th>\n",
       "                        <td id=\"T_3694dc62_60ca_11ec_9937_12c035a6d937row57_col0\" class=\"data row57 col0\" >Interaction Threshold</td>\n",
       "                        <td id=\"T_3694dc62_60ca_11ec_9937_12c035a6d937row57_col1\" class=\"data row57 col1\" >None</td>\n",
       "            </tr>\n",
       "            <tr>\n",
       "                        <th id=\"T_3694dc62_60ca_11ec_9937_12c035a6d937level0_row58\" class=\"row_heading level0 row58\" >58</th>\n",
       "                        <td id=\"T_3694dc62_60ca_11ec_9937_12c035a6d937row58_col0\" class=\"data row58 col0\" >Fix Imbalance</td>\n",
       "                        <td id=\"T_3694dc62_60ca_11ec_9937_12c035a6d937row58_col1\" class=\"data row58 col1\" >True</td>\n",
       "            </tr>\n",
       "            <tr>\n",
       "                        <th id=\"T_3694dc62_60ca_11ec_9937_12c035a6d937level0_row59\" class=\"row_heading level0 row59\" >59</th>\n",
       "                        <td id=\"T_3694dc62_60ca_11ec_9937_12c035a6d937row59_col0\" class=\"data row59 col0\" >Fix Imbalance Method</td>\n",
       "                        <td id=\"T_3694dc62_60ca_11ec_9937_12c035a6d937row59_col1\" class=\"data row59 col1\" >SMOTE</td>\n",
       "            </tr>\n",
       "    </tbody></table>"
      ],
      "text/plain": [
       "<pandas.io.formats.style.Styler at 0x7f70d451cd30>"
      ]
     },
     "metadata": {},
     "output_type": "display_data"
    }
   ],
   "source": [
    "exp_clf = setup(dataset[['cum_injury_total'] + [injured_pred]], target=injured_pred, fix_imbalance=True, feature_selection=True, fold=2, fold_strategy='timeseries')\n"
   ]
  },
  {
   "cell_type": "code",
   "execution_count": 25,
   "metadata": {},
   "outputs": [],
   "source": [
    "set_config('X_train', X_train)\n",
    "set_config('X_test', X_test)\n",
    "set_config('y_train', y_train)\n",
    "set_config('y_test', y_test)"
   ]
  },
  {
   "cell_type": "code",
   "execution_count": 26,
   "metadata": {},
   "outputs": [
    {
     "data": {
      "text/html": [
       "<style  type=\"text/css\" >\n",
       "    #T_fadbf2be_608d_11ec_9937_12c035a6d937 th {\n",
       "          text-align: left;\n",
       "    }#T_fadbf2be_608d_11ec_9937_12c035a6d937row0_col0,#T_fadbf2be_608d_11ec_9937_12c035a6d937row0_col2,#T_fadbf2be_608d_11ec_9937_12c035a6d937row0_col3,#T_fadbf2be_608d_11ec_9937_12c035a6d937row0_col4,#T_fadbf2be_608d_11ec_9937_12c035a6d937row0_col5,#T_fadbf2be_608d_11ec_9937_12c035a6d937row0_col6,#T_fadbf2be_608d_11ec_9937_12c035a6d937row0_col7,#T_fadbf2be_608d_11ec_9937_12c035a6d937row1_col0,#T_fadbf2be_608d_11ec_9937_12c035a6d937row1_col1,#T_fadbf2be_608d_11ec_9937_12c035a6d937row1_col2,#T_fadbf2be_608d_11ec_9937_12c035a6d937row1_col3,#T_fadbf2be_608d_11ec_9937_12c035a6d937row1_col4,#T_fadbf2be_608d_11ec_9937_12c035a6d937row1_col5,#T_fadbf2be_608d_11ec_9937_12c035a6d937row1_col6,#T_fadbf2be_608d_11ec_9937_12c035a6d937row1_col7,#T_fadbf2be_608d_11ec_9937_12c035a6d937row2_col0,#T_fadbf2be_608d_11ec_9937_12c035a6d937row2_col1,#T_fadbf2be_608d_11ec_9937_12c035a6d937row2_col2,#T_fadbf2be_608d_11ec_9937_12c035a6d937row2_col3,#T_fadbf2be_608d_11ec_9937_12c035a6d937row2_col5,#T_fadbf2be_608d_11ec_9937_12c035a6d937row2_col6,#T_fadbf2be_608d_11ec_9937_12c035a6d937row2_col7,#T_fadbf2be_608d_11ec_9937_12c035a6d937row3_col0,#T_fadbf2be_608d_11ec_9937_12c035a6d937row3_col1,#T_fadbf2be_608d_11ec_9937_12c035a6d937row3_col2,#T_fadbf2be_608d_11ec_9937_12c035a6d937row3_col3,#T_fadbf2be_608d_11ec_9937_12c035a6d937row3_col4,#T_fadbf2be_608d_11ec_9937_12c035a6d937row3_col5,#T_fadbf2be_608d_11ec_9937_12c035a6d937row3_col6,#T_fadbf2be_608d_11ec_9937_12c035a6d937row3_col7,#T_fadbf2be_608d_11ec_9937_12c035a6d937row4_col0,#T_fadbf2be_608d_11ec_9937_12c035a6d937row4_col1,#T_fadbf2be_608d_11ec_9937_12c035a6d937row4_col2,#T_fadbf2be_608d_11ec_9937_12c035a6d937row4_col3,#T_fadbf2be_608d_11ec_9937_12c035a6d937row4_col4,#T_fadbf2be_608d_11ec_9937_12c035a6d937row4_col5,#T_fadbf2be_608d_11ec_9937_12c035a6d937row4_col6,#T_fadbf2be_608d_11ec_9937_12c035a6d937row4_col7,#T_fadbf2be_608d_11ec_9937_12c035a6d937row5_col0,#T_fadbf2be_608d_11ec_9937_12c035a6d937row5_col1,#T_fadbf2be_608d_11ec_9937_12c035a6d937row5_col2,#T_fadbf2be_608d_11ec_9937_12c035a6d937row5_col3,#T_fadbf2be_608d_11ec_9937_12c035a6d937row5_col4,#T_fadbf2be_608d_11ec_9937_12c035a6d937row5_col5,#T_fadbf2be_608d_11ec_9937_12c035a6d937row5_col6,#T_fadbf2be_608d_11ec_9937_12c035a6d937row5_col7,#T_fadbf2be_608d_11ec_9937_12c035a6d937row6_col0,#T_fadbf2be_608d_11ec_9937_12c035a6d937row6_col1,#T_fadbf2be_608d_11ec_9937_12c035a6d937row6_col3,#T_fadbf2be_608d_11ec_9937_12c035a6d937row6_col4,#T_fadbf2be_608d_11ec_9937_12c035a6d937row6_col5,#T_fadbf2be_608d_11ec_9937_12c035a6d937row6_col7,#T_fadbf2be_608d_11ec_9937_12c035a6d937row7_col0,#T_fadbf2be_608d_11ec_9937_12c035a6d937row7_col1,#T_fadbf2be_608d_11ec_9937_12c035a6d937row7_col2,#T_fadbf2be_608d_11ec_9937_12c035a6d937row7_col3,#T_fadbf2be_608d_11ec_9937_12c035a6d937row7_col4,#T_fadbf2be_608d_11ec_9937_12c035a6d937row7_col5,#T_fadbf2be_608d_11ec_9937_12c035a6d937row7_col6,#T_fadbf2be_608d_11ec_9937_12c035a6d937row7_col7,#T_fadbf2be_608d_11ec_9937_12c035a6d937row8_col0,#T_fadbf2be_608d_11ec_9937_12c035a6d937row8_col1,#T_fadbf2be_608d_11ec_9937_12c035a6d937row8_col2,#T_fadbf2be_608d_11ec_9937_12c035a6d937row8_col3,#T_fadbf2be_608d_11ec_9937_12c035a6d937row8_col4,#T_fadbf2be_608d_11ec_9937_12c035a6d937row8_col5,#T_fadbf2be_608d_11ec_9937_12c035a6d937row8_col6,#T_fadbf2be_608d_11ec_9937_12c035a6d937row8_col7,#T_fadbf2be_608d_11ec_9937_12c035a6d937row9_col0,#T_fadbf2be_608d_11ec_9937_12c035a6d937row9_col1,#T_fadbf2be_608d_11ec_9937_12c035a6d937row9_col2,#T_fadbf2be_608d_11ec_9937_12c035a6d937row9_col3,#T_fadbf2be_608d_11ec_9937_12c035a6d937row9_col4,#T_fadbf2be_608d_11ec_9937_12c035a6d937row9_col6,#T_fadbf2be_608d_11ec_9937_12c035a6d937row10_col0,#T_fadbf2be_608d_11ec_9937_12c035a6d937row10_col1,#T_fadbf2be_608d_11ec_9937_12c035a6d937row10_col2,#T_fadbf2be_608d_11ec_9937_12c035a6d937row10_col3,#T_fadbf2be_608d_11ec_9937_12c035a6d937row10_col4,#T_fadbf2be_608d_11ec_9937_12c035a6d937row10_col5,#T_fadbf2be_608d_11ec_9937_12c035a6d937row10_col6,#T_fadbf2be_608d_11ec_9937_12c035a6d937row10_col7,#T_fadbf2be_608d_11ec_9937_12c035a6d937row11_col0,#T_fadbf2be_608d_11ec_9937_12c035a6d937row11_col1,#T_fadbf2be_608d_11ec_9937_12c035a6d937row11_col2,#T_fadbf2be_608d_11ec_9937_12c035a6d937row11_col3,#T_fadbf2be_608d_11ec_9937_12c035a6d937row11_col4,#T_fadbf2be_608d_11ec_9937_12c035a6d937row11_col5,#T_fadbf2be_608d_11ec_9937_12c035a6d937row11_col6,#T_fadbf2be_608d_11ec_9937_12c035a6d937row11_col7,#T_fadbf2be_608d_11ec_9937_12c035a6d937row12_col0,#T_fadbf2be_608d_11ec_9937_12c035a6d937row12_col1,#T_fadbf2be_608d_11ec_9937_12c035a6d937row12_col2,#T_fadbf2be_608d_11ec_9937_12c035a6d937row12_col3,#T_fadbf2be_608d_11ec_9937_12c035a6d937row12_col4,#T_fadbf2be_608d_11ec_9937_12c035a6d937row12_col5,#T_fadbf2be_608d_11ec_9937_12c035a6d937row12_col6,#T_fadbf2be_608d_11ec_9937_12c035a6d937row12_col7,#T_fadbf2be_608d_11ec_9937_12c035a6d937row13_col0,#T_fadbf2be_608d_11ec_9937_12c035a6d937row13_col1,#T_fadbf2be_608d_11ec_9937_12c035a6d937row13_col2,#T_fadbf2be_608d_11ec_9937_12c035a6d937row13_col4,#T_fadbf2be_608d_11ec_9937_12c035a6d937row13_col5,#T_fadbf2be_608d_11ec_9937_12c035a6d937row13_col6,#T_fadbf2be_608d_11ec_9937_12c035a6d937row13_col7{\n",
       "            text-align:  left;\n",
       "            text-align:  left;\n",
       "        }#T_fadbf2be_608d_11ec_9937_12c035a6d937row0_col1,#T_fadbf2be_608d_11ec_9937_12c035a6d937row2_col4,#T_fadbf2be_608d_11ec_9937_12c035a6d937row6_col2,#T_fadbf2be_608d_11ec_9937_12c035a6d937row6_col6,#T_fadbf2be_608d_11ec_9937_12c035a6d937row9_col5,#T_fadbf2be_608d_11ec_9937_12c035a6d937row9_col7,#T_fadbf2be_608d_11ec_9937_12c035a6d937row13_col3{\n",
       "            text-align:  left;\n",
       "            text-align:  left;\n",
       "            background-color:  yellow;\n",
       "        }#T_fadbf2be_608d_11ec_9937_12c035a6d937row0_col8{\n",
       "            text-align:  left;\n",
       "            text-align:  left;\n",
       "            background-color:  yellow;\n",
       "            background-color:  lightgrey;\n",
       "        }#T_fadbf2be_608d_11ec_9937_12c035a6d937row1_col8,#T_fadbf2be_608d_11ec_9937_12c035a6d937row2_col8,#T_fadbf2be_608d_11ec_9937_12c035a6d937row3_col8,#T_fadbf2be_608d_11ec_9937_12c035a6d937row4_col8,#T_fadbf2be_608d_11ec_9937_12c035a6d937row5_col8,#T_fadbf2be_608d_11ec_9937_12c035a6d937row6_col8,#T_fadbf2be_608d_11ec_9937_12c035a6d937row7_col8,#T_fadbf2be_608d_11ec_9937_12c035a6d937row8_col8,#T_fadbf2be_608d_11ec_9937_12c035a6d937row9_col8,#T_fadbf2be_608d_11ec_9937_12c035a6d937row10_col8,#T_fadbf2be_608d_11ec_9937_12c035a6d937row11_col8,#T_fadbf2be_608d_11ec_9937_12c035a6d937row12_col8,#T_fadbf2be_608d_11ec_9937_12c035a6d937row13_col8{\n",
       "            text-align:  left;\n",
       "            text-align:  left;\n",
       "            background-color:  lightgrey;\n",
       "        }</style><table id=\"T_fadbf2be_608d_11ec_9937_12c035a6d937\" ><thead>    <tr>        <th class=\"blank level0\" ></th>        <th class=\"col_heading level0 col0\" >Model</th>        <th class=\"col_heading level0 col1\" >Accuracy</th>        <th class=\"col_heading level0 col2\" >AUC</th>        <th class=\"col_heading level0 col3\" >Recall</th>        <th class=\"col_heading level0 col4\" >Prec.</th>        <th class=\"col_heading level0 col5\" >F1</th>        <th class=\"col_heading level0 col6\" >Kappa</th>        <th class=\"col_heading level0 col7\" >MCC</th>        <th class=\"col_heading level0 col8\" >TT (Sec)</th>    </tr></thead><tbody>\n",
       "                <tr>\n",
       "                        <th id=\"T_fadbf2be_608d_11ec_9937_12c035a6d937level0_row0\" class=\"row_heading level0 row0\" >dummy</th>\n",
       "                        <td id=\"T_fadbf2be_608d_11ec_9937_12c035a6d937row0_col0\" class=\"data row0 col0\" >Dummy Classifier</td>\n",
       "                        <td id=\"T_fadbf2be_608d_11ec_9937_12c035a6d937row0_col1\" class=\"data row0 col1\" >0.9211</td>\n",
       "                        <td id=\"T_fadbf2be_608d_11ec_9937_12c035a6d937row0_col2\" class=\"data row0 col2\" >0.5000</td>\n",
       "                        <td id=\"T_fadbf2be_608d_11ec_9937_12c035a6d937row0_col3\" class=\"data row0 col3\" >0.0000</td>\n",
       "                        <td id=\"T_fadbf2be_608d_11ec_9937_12c035a6d937row0_col4\" class=\"data row0 col4\" >0.0000</td>\n",
       "                        <td id=\"T_fadbf2be_608d_11ec_9937_12c035a6d937row0_col5\" class=\"data row0 col5\" >0.0000</td>\n",
       "                        <td id=\"T_fadbf2be_608d_11ec_9937_12c035a6d937row0_col6\" class=\"data row0 col6\" >0.0000</td>\n",
       "                        <td id=\"T_fadbf2be_608d_11ec_9937_12c035a6d937row0_col7\" class=\"data row0 col7\" >0.0000</td>\n",
       "                        <td id=\"T_fadbf2be_608d_11ec_9937_12c035a6d937row0_col8\" class=\"data row0 col8\" >5.3450</td>\n",
       "            </tr>\n",
       "            <tr>\n",
       "                        <th id=\"T_fadbf2be_608d_11ec_9937_12c035a6d937level0_row1\" class=\"row_heading level0 row1\" >rf</th>\n",
       "                        <td id=\"T_fadbf2be_608d_11ec_9937_12c035a6d937row1_col0\" class=\"data row1 col0\" >Random Forest Classifier</td>\n",
       "                        <td id=\"T_fadbf2be_608d_11ec_9937_12c035a6d937row1_col1\" class=\"data row1 col1\" >0.8980</td>\n",
       "                        <td id=\"T_fadbf2be_608d_11ec_9937_12c035a6d937row1_col2\" class=\"data row1 col2\" >0.5634</td>\n",
       "                        <td id=\"T_fadbf2be_608d_11ec_9937_12c035a6d937row1_col3\" class=\"data row1 col3\" >0.0434</td>\n",
       "                        <td id=\"T_fadbf2be_608d_11ec_9937_12c035a6d937row1_col4\" class=\"data row1 col4\" >0.1146</td>\n",
       "                        <td id=\"T_fadbf2be_608d_11ec_9937_12c035a6d937row1_col5\" class=\"data row1 col5\" >0.0627</td>\n",
       "                        <td id=\"T_fadbf2be_608d_11ec_9937_12c035a6d937row1_col6\" class=\"data row1 col6\" >0.0203</td>\n",
       "                        <td id=\"T_fadbf2be_608d_11ec_9937_12c035a6d937row1_col7\" class=\"data row1 col7\" >0.0231</td>\n",
       "                        <td id=\"T_fadbf2be_608d_11ec_9937_12c035a6d937row1_col8\" class=\"data row1 col8\" >25.2250</td>\n",
       "            </tr>\n",
       "            <tr>\n",
       "                        <th id=\"T_fadbf2be_608d_11ec_9937_12c035a6d937level0_row2\" class=\"row_heading level0 row2\" >lightgbm</th>\n",
       "                        <td id=\"T_fadbf2be_608d_11ec_9937_12c035a6d937row2_col0\" class=\"data row2 col0\" >Light Gradient Boosting Machine</td>\n",
       "                        <td id=\"T_fadbf2be_608d_11ec_9937_12c035a6d937row2_col1\" class=\"data row2 col1\" >0.8840</td>\n",
       "                        <td id=\"T_fadbf2be_608d_11ec_9937_12c035a6d937row2_col2\" class=\"data row2 col2\" >0.5970</td>\n",
       "                        <td id=\"T_fadbf2be_608d_11ec_9937_12c035a6d937row2_col3\" class=\"data row2 col3\" >0.0880</td>\n",
       "                        <td id=\"T_fadbf2be_608d_11ec_9937_12c035a6d937row2_col4\" class=\"data row2 col4\" >0.1395</td>\n",
       "                        <td id=\"T_fadbf2be_608d_11ec_9937_12c035a6d937row2_col5\" class=\"data row2 col5\" >0.1062</td>\n",
       "                        <td id=\"T_fadbf2be_608d_11ec_9937_12c035a6d937row2_col6\" class=\"data row2 col6\" >0.0482</td>\n",
       "                        <td id=\"T_fadbf2be_608d_11ec_9937_12c035a6d937row2_col7\" class=\"data row2 col7\" >0.0502</td>\n",
       "                        <td id=\"T_fadbf2be_608d_11ec_9937_12c035a6d937row2_col8\" class=\"data row2 col8\" >22.5800</td>\n",
       "            </tr>\n",
       "            <tr>\n",
       "                        <th id=\"T_fadbf2be_608d_11ec_9937_12c035a6d937level0_row3\" class=\"row_heading level0 row3\" >et</th>\n",
       "                        <td id=\"T_fadbf2be_608d_11ec_9937_12c035a6d937row3_col0\" class=\"data row3 col0\" >Extra Trees Classifier</td>\n",
       "                        <td id=\"T_fadbf2be_608d_11ec_9937_12c035a6d937row3_col1\" class=\"data row3 col1\" >0.8637</td>\n",
       "                        <td id=\"T_fadbf2be_608d_11ec_9937_12c035a6d937row3_col2\" class=\"data row3 col2\" >0.5641</td>\n",
       "                        <td id=\"T_fadbf2be_608d_11ec_9937_12c035a6d937row3_col3\" class=\"data row3 col3\" >0.0922</td>\n",
       "                        <td id=\"T_fadbf2be_608d_11ec_9937_12c035a6d937row3_col4\" class=\"data row3 col4\" >0.1012</td>\n",
       "                        <td id=\"T_fadbf2be_608d_11ec_9937_12c035a6d937row3_col5\" class=\"data row3 col5\" >0.0965</td>\n",
       "                        <td id=\"T_fadbf2be_608d_11ec_9937_12c035a6d937row3_col6\" class=\"data row3 col6\" >0.0230</td>\n",
       "                        <td id=\"T_fadbf2be_608d_11ec_9937_12c035a6d937row3_col7\" class=\"data row3 col7\" >0.0230</td>\n",
       "                        <td id=\"T_fadbf2be_608d_11ec_9937_12c035a6d937row3_col8\" class=\"data row3 col8\" >25.5800</td>\n",
       "            </tr>\n",
       "            <tr>\n",
       "                        <th id=\"T_fadbf2be_608d_11ec_9937_12c035a6d937level0_row4\" class=\"row_heading level0 row4\" >ridge</th>\n",
       "                        <td id=\"T_fadbf2be_608d_11ec_9937_12c035a6d937row4_col0\" class=\"data row4 col0\" >Ridge Classifier</td>\n",
       "                        <td id=\"T_fadbf2be_608d_11ec_9937_12c035a6d937row4_col1\" class=\"data row4 col1\" >0.8373</td>\n",
       "                        <td id=\"T_fadbf2be_608d_11ec_9937_12c035a6d937row4_col2\" class=\"data row4 col2\" >0.0000</td>\n",
       "                        <td id=\"T_fadbf2be_608d_11ec_9937_12c035a6d937row4_col3\" class=\"data row4 col3\" >0.1947</td>\n",
       "                        <td id=\"T_fadbf2be_608d_11ec_9937_12c035a6d937row4_col4\" class=\"data row4 col4\" >0.1346</td>\n",
       "                        <td id=\"T_fadbf2be_608d_11ec_9937_12c035a6d937row4_col5\" class=\"data row4 col5\" >0.1591</td>\n",
       "                        <td id=\"T_fadbf2be_608d_11ec_9937_12c035a6d937row4_col6\" class=\"data row4 col6\" >0.0724</td>\n",
       "                        <td id=\"T_fadbf2be_608d_11ec_9937_12c035a6d937row4_col7\" class=\"data row4 col7\" >0.0739</td>\n",
       "                        <td id=\"T_fadbf2be_608d_11ec_9937_12c035a6d937row4_col8\" class=\"data row4 col8\" >6.3900</td>\n",
       "            </tr>\n",
       "            <tr>\n",
       "                        <th id=\"T_fadbf2be_608d_11ec_9937_12c035a6d937level0_row5\" class=\"row_heading level0 row5\" >lda</th>\n",
       "                        <td id=\"T_fadbf2be_608d_11ec_9937_12c035a6d937row5_col0\" class=\"data row5 col0\" >Linear Discriminant Analysis</td>\n",
       "                        <td id=\"T_fadbf2be_608d_11ec_9937_12c035a6d937row5_col1\" class=\"data row5 col1\" >0.8373</td>\n",
       "                        <td id=\"T_fadbf2be_608d_11ec_9937_12c035a6d937row5_col2\" class=\"data row5 col2\" >0.5902</td>\n",
       "                        <td id=\"T_fadbf2be_608d_11ec_9937_12c035a6d937row5_col3\" class=\"data row5 col3\" >0.1947</td>\n",
       "                        <td id=\"T_fadbf2be_608d_11ec_9937_12c035a6d937row5_col4\" class=\"data row5 col4\" >0.1346</td>\n",
       "                        <td id=\"T_fadbf2be_608d_11ec_9937_12c035a6d937row5_col5\" class=\"data row5 col5\" >0.1591</td>\n",
       "                        <td id=\"T_fadbf2be_608d_11ec_9937_12c035a6d937row5_col6\" class=\"data row5 col6\" >0.0725</td>\n",
       "                        <td id=\"T_fadbf2be_608d_11ec_9937_12c035a6d937row5_col7\" class=\"data row5 col7\" >0.0739</td>\n",
       "                        <td id=\"T_fadbf2be_608d_11ec_9937_12c035a6d937row5_col8\" class=\"data row5 col8\" >13.9350</td>\n",
       "            </tr>\n",
       "            <tr>\n",
       "                        <th id=\"T_fadbf2be_608d_11ec_9937_12c035a6d937level0_row6\" class=\"row_heading level0 row6\" >gbc</th>\n",
       "                        <td id=\"T_fadbf2be_608d_11ec_9937_12c035a6d937row6_col0\" class=\"data row6 col0\" >Gradient Boosting Classifier</td>\n",
       "                        <td id=\"T_fadbf2be_608d_11ec_9937_12c035a6d937row6_col1\" class=\"data row6 col1\" >0.8276</td>\n",
       "                        <td id=\"T_fadbf2be_608d_11ec_9937_12c035a6d937row6_col2\" class=\"data row6 col2\" >0.6144</td>\n",
       "                        <td id=\"T_fadbf2be_608d_11ec_9937_12c035a6d937row6_col3\" class=\"data row6 col3\" >0.2212</td>\n",
       "                        <td id=\"T_fadbf2be_608d_11ec_9937_12c035a6d937row6_col4\" class=\"data row6 col4\" >0.1361</td>\n",
       "                        <td id=\"T_fadbf2be_608d_11ec_9937_12c035a6d937row6_col5\" class=\"data row6 col5\" >0.1685</td>\n",
       "                        <td id=\"T_fadbf2be_608d_11ec_9937_12c035a6d937row6_col6\" class=\"data row6 col6\" >0.0784</td>\n",
       "                        <td id=\"T_fadbf2be_608d_11ec_9937_12c035a6d937row6_col7\" class=\"data row6 col7\" >0.0813</td>\n",
       "                        <td id=\"T_fadbf2be_608d_11ec_9937_12c035a6d937row6_col8\" class=\"data row6 col8\" >448.2500</td>\n",
       "            </tr>\n",
       "            <tr>\n",
       "                        <th id=\"T_fadbf2be_608d_11ec_9937_12c035a6d937level0_row7\" class=\"row_heading level0 row7\" >svm</th>\n",
       "                        <td id=\"T_fadbf2be_608d_11ec_9937_12c035a6d937row7_col0\" class=\"data row7 col0\" >SVM - Linear Kernel</td>\n",
       "                        <td id=\"T_fadbf2be_608d_11ec_9937_12c035a6d937row7_col1\" class=\"data row7 col1\" >0.8190</td>\n",
       "                        <td id=\"T_fadbf2be_608d_11ec_9937_12c035a6d937row7_col2\" class=\"data row7 col2\" >0.0000</td>\n",
       "                        <td id=\"T_fadbf2be_608d_11ec_9937_12c035a6d937row7_col3\" class=\"data row7 col3\" >0.1866</td>\n",
       "                        <td id=\"T_fadbf2be_608d_11ec_9937_12c035a6d937row7_col4\" class=\"data row7 col4\" >0.1104</td>\n",
       "                        <td id=\"T_fadbf2be_608d_11ec_9937_12c035a6d937row7_col5\" class=\"data row7 col5\" >0.1328</td>\n",
       "                        <td id=\"T_fadbf2be_608d_11ec_9937_12c035a6d937row7_col6\" class=\"data row7 col6\" >0.0426</td>\n",
       "                        <td id=\"T_fadbf2be_608d_11ec_9937_12c035a6d937row7_col7\" class=\"data row7 col7\" >0.0461</td>\n",
       "                        <td id=\"T_fadbf2be_608d_11ec_9937_12c035a6d937row7_col8\" class=\"data row7 col8\" >209.1300</td>\n",
       "            </tr>\n",
       "            <tr>\n",
       "                        <th id=\"T_fadbf2be_608d_11ec_9937_12c035a6d937level0_row8\" class=\"row_heading level0 row8\" >dt</th>\n",
       "                        <td id=\"T_fadbf2be_608d_11ec_9937_12c035a6d937row8_col0\" class=\"data row8 col0\" >Decision Tree Classifier</td>\n",
       "                        <td id=\"T_fadbf2be_608d_11ec_9937_12c035a6d937row8_col1\" class=\"data row8 col1\" >0.7729</td>\n",
       "                        <td id=\"T_fadbf2be_608d_11ec_9937_12c035a6d937row8_col2\" class=\"data row8 col2\" >0.5101</td>\n",
       "                        <td id=\"T_fadbf2be_608d_11ec_9937_12c035a6d937row8_col3\" class=\"data row8 col3\" >0.1992</td>\n",
       "                        <td id=\"T_fadbf2be_608d_11ec_9937_12c035a6d937row8_col4\" class=\"data row8 col4\" >0.0875</td>\n",
       "                        <td id=\"T_fadbf2be_608d_11ec_9937_12c035a6d937row8_col5\" class=\"data row8 col5\" >0.1216</td>\n",
       "                        <td id=\"T_fadbf2be_608d_11ec_9937_12c035a6d937row8_col6\" class=\"data row8 col6\" >0.0134</td>\n",
       "                        <td id=\"T_fadbf2be_608d_11ec_9937_12c035a6d937row8_col7\" class=\"data row8 col7\" >0.0149</td>\n",
       "                        <td id=\"T_fadbf2be_608d_11ec_9937_12c035a6d937row8_col8\" class=\"data row8 col8\" >29.9200</td>\n",
       "            </tr>\n",
       "            <tr>\n",
       "                        <th id=\"T_fadbf2be_608d_11ec_9937_12c035a6d937level0_row9\" class=\"row_heading level0 row9\" >ada</th>\n",
       "                        <td id=\"T_fadbf2be_608d_11ec_9937_12c035a6d937row9_col0\" class=\"data row9 col0\" >Ada Boost Classifier</td>\n",
       "                        <td id=\"T_fadbf2be_608d_11ec_9937_12c035a6d937row9_col1\" class=\"data row9 col1\" >0.7482</td>\n",
       "                        <td id=\"T_fadbf2be_608d_11ec_9937_12c035a6d937row9_col2\" class=\"data row9 col2\" >0.6062</td>\n",
       "                        <td id=\"T_fadbf2be_608d_11ec_9937_12c035a6d937row9_col3\" class=\"data row9 col3\" >0.3527</td>\n",
       "                        <td id=\"T_fadbf2be_608d_11ec_9937_12c035a6d937row9_col4\" class=\"data row9 col4\" >0.1217</td>\n",
       "                        <td id=\"T_fadbf2be_608d_11ec_9937_12c035a6d937row9_col5\" class=\"data row9 col5\" >0.1810</td>\n",
       "                        <td id=\"T_fadbf2be_608d_11ec_9937_12c035a6d937row9_col6\" class=\"data row9 col6\" >0.0721</td>\n",
       "                        <td id=\"T_fadbf2be_608d_11ec_9937_12c035a6d937row9_col7\" class=\"data row9 col7\" >0.0865</td>\n",
       "                        <td id=\"T_fadbf2be_608d_11ec_9937_12c035a6d937row9_col8\" class=\"data row9 col8\" >117.0400</td>\n",
       "            </tr>\n",
       "            <tr>\n",
       "                        <th id=\"T_fadbf2be_608d_11ec_9937_12c035a6d937level0_row10\" class=\"row_heading level0 row10\" >knn</th>\n",
       "                        <td id=\"T_fadbf2be_608d_11ec_9937_12c035a6d937row10_col0\" class=\"data row10 col0\" >K Neighbors Classifier</td>\n",
       "                        <td id=\"T_fadbf2be_608d_11ec_9937_12c035a6d937row10_col1\" class=\"data row10 col1\" >0.6977</td>\n",
       "                        <td id=\"T_fadbf2be_608d_11ec_9937_12c035a6d937row10_col2\" class=\"data row10 col2\" >0.5281</td>\n",
       "                        <td id=\"T_fadbf2be_608d_11ec_9937_12c035a6d937row10_col3\" class=\"data row10 col3\" >0.3069</td>\n",
       "                        <td id=\"T_fadbf2be_608d_11ec_9937_12c035a6d937row10_col4\" class=\"data row10 col4\" >0.0891</td>\n",
       "                        <td id=\"T_fadbf2be_608d_11ec_9937_12c035a6d937row10_col5\" class=\"data row10 col5\" >0.1381</td>\n",
       "                        <td id=\"T_fadbf2be_608d_11ec_9937_12c035a6d937row10_col6\" class=\"data row10 col6\" >0.0180</td>\n",
       "                        <td id=\"T_fadbf2be_608d_11ec_9937_12c035a6d937row10_col7\" class=\"data row10 col7\" >0.0231</td>\n",
       "                        <td id=\"T_fadbf2be_608d_11ec_9937_12c035a6d937row10_col8\" class=\"data row10 col8\" >1100.8300</td>\n",
       "            </tr>\n",
       "            <tr>\n",
       "                        <th id=\"T_fadbf2be_608d_11ec_9937_12c035a6d937level0_row11\" class=\"row_heading level0 row11\" >lr</th>\n",
       "                        <td id=\"T_fadbf2be_608d_11ec_9937_12c035a6d937row11_col0\" class=\"data row11 col0\" >Logistic Regression</td>\n",
       "                        <td id=\"T_fadbf2be_608d_11ec_9937_12c035a6d937row11_col1\" class=\"data row11 col1\" >0.6694</td>\n",
       "                        <td id=\"T_fadbf2be_608d_11ec_9937_12c035a6d937row11_col2\" class=\"data row11 col2\" >0.5774</td>\n",
       "                        <td id=\"T_fadbf2be_608d_11ec_9937_12c035a6d937row11_col3\" class=\"data row11 col3\" >0.4211</td>\n",
       "                        <td id=\"T_fadbf2be_608d_11ec_9937_12c035a6d937row11_col4\" class=\"data row11 col4\" >0.1045</td>\n",
       "                        <td id=\"T_fadbf2be_608d_11ec_9937_12c035a6d937row11_col5\" class=\"data row11 col5\" >0.1674</td>\n",
       "                        <td id=\"T_fadbf2be_608d_11ec_9937_12c035a6d937row11_col6\" class=\"data row11 col6\" >0.0469</td>\n",
       "                        <td id=\"T_fadbf2be_608d_11ec_9937_12c035a6d937row11_col7\" class=\"data row11 col7\" >0.0647</td>\n",
       "                        <td id=\"T_fadbf2be_608d_11ec_9937_12c035a6d937row11_col8\" class=\"data row11 col8\" >138.8600</td>\n",
       "            </tr>\n",
       "            <tr>\n",
       "                        <th id=\"T_fadbf2be_608d_11ec_9937_12c035a6d937level0_row12\" class=\"row_heading level0 row12\" >qda</th>\n",
       "                        <td id=\"T_fadbf2be_608d_11ec_9937_12c035a6d937row12_col0\" class=\"data row12 col0\" >Quadratic Discriminant Analysis</td>\n",
       "                        <td id=\"T_fadbf2be_608d_11ec_9937_12c035a6d937row12_col1\" class=\"data row12 col1\" >0.6613</td>\n",
       "                        <td id=\"T_fadbf2be_608d_11ec_9937_12c035a6d937row12_col2\" class=\"data row12 col2\" >0.5506</td>\n",
       "                        <td id=\"T_fadbf2be_608d_11ec_9937_12c035a6d937row12_col3\" class=\"data row12 col3\" >0.3995</td>\n",
       "                        <td id=\"T_fadbf2be_608d_11ec_9937_12c035a6d937row12_col4\" class=\"data row12 col4\" >0.0976</td>\n",
       "                        <td id=\"T_fadbf2be_608d_11ec_9937_12c035a6d937row12_col5\" class=\"data row12 col5\" >0.1569</td>\n",
       "                        <td id=\"T_fadbf2be_608d_11ec_9937_12c035a6d937row12_col6\" class=\"data row12 col6\" >0.0345</td>\n",
       "                        <td id=\"T_fadbf2be_608d_11ec_9937_12c035a6d937row12_col7\" class=\"data row12 col7\" >0.0480</td>\n",
       "                        <td id=\"T_fadbf2be_608d_11ec_9937_12c035a6d937row12_col8\" class=\"data row12 col8\" >9.5300</td>\n",
       "            </tr>\n",
       "            <tr>\n",
       "                        <th id=\"T_fadbf2be_608d_11ec_9937_12c035a6d937level0_row13\" class=\"row_heading level0 row13\" >nb</th>\n",
       "                        <td id=\"T_fadbf2be_608d_11ec_9937_12c035a6d937row13_col0\" class=\"data row13 col0\" >Naive Bayes</td>\n",
       "                        <td id=\"T_fadbf2be_608d_11ec_9937_12c035a6d937row13_col1\" class=\"data row13 col1\" >0.3701</td>\n",
       "                        <td id=\"T_fadbf2be_608d_11ec_9937_12c035a6d937row13_col2\" class=\"data row13 col2\" >0.5652</td>\n",
       "                        <td id=\"T_fadbf2be_608d_11ec_9937_12c035a6d937row13_col3\" class=\"data row13 col3\" >0.7195</td>\n",
       "                        <td id=\"T_fadbf2be_608d_11ec_9937_12c035a6d937row13_col4\" class=\"data row13 col4\" >0.0854</td>\n",
       "                        <td id=\"T_fadbf2be_608d_11ec_9937_12c035a6d937row13_col5\" class=\"data row13 col5\" >0.1527</td>\n",
       "                        <td id=\"T_fadbf2be_608d_11ec_9937_12c035a6d937row13_col6\" class=\"data row13 col6\" >0.0136</td>\n",
       "                        <td id=\"T_fadbf2be_608d_11ec_9937_12c035a6d937row13_col7\" class=\"data row13 col7\" >0.0340</td>\n",
       "                        <td id=\"T_fadbf2be_608d_11ec_9937_12c035a6d937row13_col8\" class=\"data row13 col8\" >6.9400</td>\n",
       "            </tr>\n",
       "    </tbody></table>"
      ],
      "text/plain": [
       "<pandas.io.formats.style.Styler at 0x7f64f0a764e0>"
      ]
     },
     "metadata": {},
     "output_type": "display_data"
    }
   ],
   "source": [
    "best_model = compare_models()"
   ]
  },
  {
   "cell_type": "code",
   "execution_count": 27,
   "metadata": {},
   "outputs": [],
   "source": [
    "# df = pull()\n",
    "# df.to_csv('results_1_year.csv', index=False)\n",
    "df = pull().sort_values(by=['F1'], ascending=False)"
   ]
  },
  {
   "cell_type": "code",
   "execution_count": 28,
   "metadata": {},
   "outputs": [
    {
     "data": {
      "text/html": [
       "<style  type=\"text/css\" >\n",
       "#T_5278b38c_609c_11ec_9937_12c035a6d937row10_col0,#T_5278b38c_609c_11ec_9937_12c035a6d937row10_col1,#T_5278b38c_609c_11ec_9937_12c035a6d937row10_col2,#T_5278b38c_609c_11ec_9937_12c035a6d937row10_col3,#T_5278b38c_609c_11ec_9937_12c035a6d937row10_col4,#T_5278b38c_609c_11ec_9937_12c035a6d937row10_col5,#T_5278b38c_609c_11ec_9937_12c035a6d937row10_col6{\n",
       "            background:  yellow;\n",
       "        }</style><table id=\"T_5278b38c_609c_11ec_9937_12c035a6d937\" ><thead>    <tr>        <th class=\"blank level0\" ></th>        <th class=\"col_heading level0 col0\" >Accuracy</th>        <th class=\"col_heading level0 col1\" >AUC</th>        <th class=\"col_heading level0 col2\" >Recall</th>        <th class=\"col_heading level0 col3\" >Prec.</th>        <th class=\"col_heading level0 col4\" >F1</th>        <th class=\"col_heading level0 col5\" >Kappa</th>        <th class=\"col_heading level0 col6\" >MCC</th>    </tr></thead><tbody>\n",
       "                <tr>\n",
       "                        <th id=\"T_5278b38c_609c_11ec_9937_12c035a6d937level0_row0\" class=\"row_heading level0 row0\" >0</th>\n",
       "                        <td id=\"T_5278b38c_609c_11ec_9937_12c035a6d937row0_col0\" class=\"data row0 col0\" >0.7234</td>\n",
       "                        <td id=\"T_5278b38c_609c_11ec_9937_12c035a6d937row0_col1\" class=\"data row0 col1\" >0.5925</td>\n",
       "                        <td id=\"T_5278b38c_609c_11ec_9937_12c035a6d937row0_col2\" class=\"data row0 col2\" >0.3671</td>\n",
       "                        <td id=\"T_5278b38c_609c_11ec_9937_12c035a6d937row0_col3\" class=\"data row0 col3\" >0.1064</td>\n",
       "                        <td id=\"T_5278b38c_609c_11ec_9937_12c035a6d937row0_col4\" class=\"data row0 col4\" >0.1650</td>\n",
       "                        <td id=\"T_5278b38c_609c_11ec_9937_12c035a6d937row0_col5\" class=\"data row0 col5\" >0.0560</td>\n",
       "                        <td id=\"T_5278b38c_609c_11ec_9937_12c035a6d937row0_col6\" class=\"data row0 col6\" >0.0716</td>\n",
       "            </tr>\n",
       "            <tr>\n",
       "                        <th id=\"T_5278b38c_609c_11ec_9937_12c035a6d937level0_row1\" class=\"row_heading level0 row1\" >1</th>\n",
       "                        <td id=\"T_5278b38c_609c_11ec_9937_12c035a6d937row1_col0\" class=\"data row1 col0\" >0.7613</td>\n",
       "                        <td id=\"T_5278b38c_609c_11ec_9937_12c035a6d937row1_col1\" class=\"data row1 col1\" >0.6143</td>\n",
       "                        <td id=\"T_5278b38c_609c_11ec_9937_12c035a6d937row1_col2\" class=\"data row1 col2\" >0.3212</td>\n",
       "                        <td id=\"T_5278b38c_609c_11ec_9937_12c035a6d937row1_col3\" class=\"data row1 col3\" >0.1118</td>\n",
       "                        <td id=\"T_5278b38c_609c_11ec_9937_12c035a6d937row1_col4\" class=\"data row1 col4\" >0.1659</td>\n",
       "                        <td id=\"T_5278b38c_609c_11ec_9937_12c035a6d937row1_col5\" class=\"data row1 col5\" >0.0632</td>\n",
       "                        <td id=\"T_5278b38c_609c_11ec_9937_12c035a6d937row1_col6\" class=\"data row1 col6\" >0.0752</td>\n",
       "            </tr>\n",
       "            <tr>\n",
       "                        <th id=\"T_5278b38c_609c_11ec_9937_12c035a6d937level0_row2\" class=\"row_heading level0 row2\" >2</th>\n",
       "                        <td id=\"T_5278b38c_609c_11ec_9937_12c035a6d937row2_col0\" class=\"data row2 col0\" >0.7360</td>\n",
       "                        <td id=\"T_5278b38c_609c_11ec_9937_12c035a6d937row2_col1\" class=\"data row2 col1\" >0.6103</td>\n",
       "                        <td id=\"T_5278b38c_609c_11ec_9937_12c035a6d937row2_col2\" class=\"data row2 col2\" >0.3665</td>\n",
       "                        <td id=\"T_5278b38c_609c_11ec_9937_12c035a6d937row2_col3\" class=\"data row2 col3\" >0.1160</td>\n",
       "                        <td id=\"T_5278b38c_609c_11ec_9937_12c035a6d937row2_col4\" class=\"data row2 col4\" >0.1762</td>\n",
       "                        <td id=\"T_5278b38c_609c_11ec_9937_12c035a6d937row2_col5\" class=\"data row2 col5\" >0.0670</td>\n",
       "                        <td id=\"T_5278b38c_609c_11ec_9937_12c035a6d937row2_col6\" class=\"data row2 col6\" >0.0828</td>\n",
       "            </tr>\n",
       "            <tr>\n",
       "                        <th id=\"T_5278b38c_609c_11ec_9937_12c035a6d937level0_row3\" class=\"row_heading level0 row3\" >3</th>\n",
       "                        <td id=\"T_5278b38c_609c_11ec_9937_12c035a6d937row3_col0\" class=\"data row3 col0\" >0.7188</td>\n",
       "                        <td id=\"T_5278b38c_609c_11ec_9937_12c035a6d937row3_col1\" class=\"data row3 col1\" >0.5931</td>\n",
       "                        <td id=\"T_5278b38c_609c_11ec_9937_12c035a6d937row3_col2\" class=\"data row3 col2\" >0.3638</td>\n",
       "                        <td id=\"T_5278b38c_609c_11ec_9937_12c035a6d937row3_col3\" class=\"data row3 col3\" >0.1100</td>\n",
       "                        <td id=\"T_5278b38c_609c_11ec_9937_12c035a6d937row3_col4\" class=\"data row3 col4\" >0.1689</td>\n",
       "                        <td id=\"T_5278b38c_609c_11ec_9937_12c035a6d937row3_col5\" class=\"data row3 col5\" >0.0549</td>\n",
       "                        <td id=\"T_5278b38c_609c_11ec_9937_12c035a6d937row3_col6\" class=\"data row3 col6\" >0.0692</td>\n",
       "            </tr>\n",
       "            <tr>\n",
       "                        <th id=\"T_5278b38c_609c_11ec_9937_12c035a6d937level0_row4\" class=\"row_heading level0 row4\" >4</th>\n",
       "                        <td id=\"T_5278b38c_609c_11ec_9937_12c035a6d937row4_col0\" class=\"data row4 col0\" >0.7531</td>\n",
       "                        <td id=\"T_5278b38c_609c_11ec_9937_12c035a6d937row4_col1\" class=\"data row4 col1\" >0.5947</td>\n",
       "                        <td id=\"T_5278b38c_609c_11ec_9937_12c035a6d937row4_col2\" class=\"data row4 col2\" >0.3328</td>\n",
       "                        <td id=\"T_5278b38c_609c_11ec_9937_12c035a6d937row4_col3\" class=\"data row4 col3\" >0.1138</td>\n",
       "                        <td id=\"T_5278b38c_609c_11ec_9937_12c035a6d937row4_col4\" class=\"data row4 col4\" >0.1696</td>\n",
       "                        <td id=\"T_5278b38c_609c_11ec_9937_12c035a6d937row4_col5\" class=\"data row4 col5\" >0.0639</td>\n",
       "                        <td id=\"T_5278b38c_609c_11ec_9937_12c035a6d937row4_col6\" class=\"data row4 col6\" >0.0767</td>\n",
       "            </tr>\n",
       "            <tr>\n",
       "                        <th id=\"T_5278b38c_609c_11ec_9937_12c035a6d937level0_row5\" class=\"row_heading level0 row5\" >5</th>\n",
       "                        <td id=\"T_5278b38c_609c_11ec_9937_12c035a6d937row5_col0\" class=\"data row5 col0\" >0.7574</td>\n",
       "                        <td id=\"T_5278b38c_609c_11ec_9937_12c035a6d937row5_col1\" class=\"data row5 col1\" >0.6057</td>\n",
       "                        <td id=\"T_5278b38c_609c_11ec_9937_12c035a6d937row5_col2\" class=\"data row5 col2\" >0.3189</td>\n",
       "                        <td id=\"T_5278b38c_609c_11ec_9937_12c035a6d937row5_col3\" class=\"data row5 col3\" >0.1163</td>\n",
       "                        <td id=\"T_5278b38c_609c_11ec_9937_12c035a6d937row5_col4\" class=\"data row5 col4\" >0.1704</td>\n",
       "                        <td id=\"T_5278b38c_609c_11ec_9937_12c035a6d937row5_col5\" class=\"data row5 col5\" >0.0631</td>\n",
       "                        <td id=\"T_5278b38c_609c_11ec_9937_12c035a6d937row5_col6\" class=\"data row5 col6\" >0.0742</td>\n",
       "            </tr>\n",
       "            <tr>\n",
       "                        <th id=\"T_5278b38c_609c_11ec_9937_12c035a6d937level0_row6\" class=\"row_heading level0 row6\" >6</th>\n",
       "                        <td id=\"T_5278b38c_609c_11ec_9937_12c035a6d937row6_col0\" class=\"data row6 col0\" >0.7461</td>\n",
       "                        <td id=\"T_5278b38c_609c_11ec_9937_12c035a6d937row6_col1\" class=\"data row6 col1\" >0.6146</td>\n",
       "                        <td id=\"T_5278b38c_609c_11ec_9937_12c035a6d937row6_col2\" class=\"data row6 col2\" >0.3740</td>\n",
       "                        <td id=\"T_5278b38c_609c_11ec_9937_12c035a6d937row6_col3\" class=\"data row6 col3\" >0.1232</td>\n",
       "                        <td id=\"T_5278b38c_609c_11ec_9937_12c035a6d937row6_col4\" class=\"data row6 col4\" >0.1853</td>\n",
       "                        <td id=\"T_5278b38c_609c_11ec_9937_12c035a6d937row6_col5\" class=\"data row6 col5\" >0.0783</td>\n",
       "                        <td id=\"T_5278b38c_609c_11ec_9937_12c035a6d937row6_col6\" class=\"data row6 col6\" >0.0953</td>\n",
       "            </tr>\n",
       "            <tr>\n",
       "                        <th id=\"T_5278b38c_609c_11ec_9937_12c035a6d937level0_row7\" class=\"row_heading level0 row7\" >7</th>\n",
       "                        <td id=\"T_5278b38c_609c_11ec_9937_12c035a6d937row7_col0\" class=\"data row7 col0\" >0.7549</td>\n",
       "                        <td id=\"T_5278b38c_609c_11ec_9937_12c035a6d937row7_col1\" class=\"data row7 col1\" >0.6010</td>\n",
       "                        <td id=\"T_5278b38c_609c_11ec_9937_12c035a6d937row7_col2\" class=\"data row7 col2\" >0.3370</td>\n",
       "                        <td id=\"T_5278b38c_609c_11ec_9937_12c035a6d937row7_col3\" class=\"data row7 col3\" >0.1191</td>\n",
       "                        <td id=\"T_5278b38c_609c_11ec_9937_12c035a6d937row7_col4\" class=\"data row7 col4\" >0.1760</td>\n",
       "                        <td id=\"T_5278b38c_609c_11ec_9937_12c035a6d937row7_col5\" class=\"data row7 col5\" >0.0691</td>\n",
       "                        <td id=\"T_5278b38c_609c_11ec_9937_12c035a6d937row7_col6\" class=\"data row7 col6\" >0.0821</td>\n",
       "            </tr>\n",
       "            <tr>\n",
       "                        <th id=\"T_5278b38c_609c_11ec_9937_12c035a6d937level0_row8\" class=\"row_heading level0 row8\" >8</th>\n",
       "                        <td id=\"T_5278b38c_609c_11ec_9937_12c035a6d937row8_col0\" class=\"data row8 col0\" >0.7273</td>\n",
       "                        <td id=\"T_5278b38c_609c_11ec_9937_12c035a6d937row8_col1\" class=\"data row8 col1\" >0.6161</td>\n",
       "                        <td id=\"T_5278b38c_609c_11ec_9937_12c035a6d937row8_col2\" class=\"data row8 col2\" >0.3703</td>\n",
       "                        <td id=\"T_5278b38c_609c_11ec_9937_12c035a6d937row8_col3\" class=\"data row8 col3\" >0.1239</td>\n",
       "                        <td id=\"T_5278b38c_609c_11ec_9937_12c035a6d937row8_col4\" class=\"data row8 col4\" >0.1856</td>\n",
       "                        <td id=\"T_5278b38c_609c_11ec_9937_12c035a6d937row8_col5\" class=\"data row8 col5\" >0.0684</td>\n",
       "                        <td id=\"T_5278b38c_609c_11ec_9937_12c035a6d937row8_col6\" class=\"data row8 col6\" >0.0833</td>\n",
       "            </tr>\n",
       "            <tr>\n",
       "                        <th id=\"T_5278b38c_609c_11ec_9937_12c035a6d937level0_row9\" class=\"row_heading level0 row9\" >9</th>\n",
       "                        <td id=\"T_5278b38c_609c_11ec_9937_12c035a6d937row9_col0\" class=\"data row9 col0\" >0.7385</td>\n",
       "                        <td id=\"T_5278b38c_609c_11ec_9937_12c035a6d937row9_col1\" class=\"data row9 col1\" >0.6084</td>\n",
       "                        <td id=\"T_5278b38c_609c_11ec_9937_12c035a6d937row9_col2\" class=\"data row9 col2\" >0.3483</td>\n",
       "                        <td id=\"T_5278b38c_609c_11ec_9937_12c035a6d937row9_col3\" class=\"data row9 col3\" >0.1206</td>\n",
       "                        <td id=\"T_5278b38c_609c_11ec_9937_12c035a6d937row9_col4\" class=\"data row9 col4\" >0.1792</td>\n",
       "                        <td id=\"T_5278b38c_609c_11ec_9937_12c035a6d937row9_col5\" class=\"data row9 col5\" >0.0654</td>\n",
       "                        <td id=\"T_5278b38c_609c_11ec_9937_12c035a6d937row9_col6\" class=\"data row9 col6\" >0.0785</td>\n",
       "            </tr>\n",
       "            <tr>\n",
       "                        <th id=\"T_5278b38c_609c_11ec_9937_12c035a6d937level0_row10\" class=\"row_heading level0 row10\" >Mean</th>\n",
       "                        <td id=\"T_5278b38c_609c_11ec_9937_12c035a6d937row10_col0\" class=\"data row10 col0\" >0.7417</td>\n",
       "                        <td id=\"T_5278b38c_609c_11ec_9937_12c035a6d937row10_col1\" class=\"data row10 col1\" >0.6051</td>\n",
       "                        <td id=\"T_5278b38c_609c_11ec_9937_12c035a6d937row10_col2\" class=\"data row10 col2\" >0.3500</td>\n",
       "                        <td id=\"T_5278b38c_609c_11ec_9937_12c035a6d937row10_col3\" class=\"data row10 col3\" >0.1161</td>\n",
       "                        <td id=\"T_5278b38c_609c_11ec_9937_12c035a6d937row10_col4\" class=\"data row10 col4\" >0.1742</td>\n",
       "                        <td id=\"T_5278b38c_609c_11ec_9937_12c035a6d937row10_col5\" class=\"data row10 col5\" >0.0649</td>\n",
       "                        <td id=\"T_5278b38c_609c_11ec_9937_12c035a6d937row10_col6\" class=\"data row10 col6\" >0.0789</td>\n",
       "            </tr>\n",
       "            <tr>\n",
       "                        <th id=\"T_5278b38c_609c_11ec_9937_12c035a6d937level0_row11\" class=\"row_heading level0 row11\" >SD</th>\n",
       "                        <td id=\"T_5278b38c_609c_11ec_9937_12c035a6d937row11_col0\" class=\"data row11 col0\" >0.0144</td>\n",
       "                        <td id=\"T_5278b38c_609c_11ec_9937_12c035a6d937row11_col1\" class=\"data row11 col1\" >0.0087</td>\n",
       "                        <td id=\"T_5278b38c_609c_11ec_9937_12c035a6d937row11_col2\" class=\"data row11 col2\" >0.0200</td>\n",
       "                        <td id=\"T_5278b38c_609c_11ec_9937_12c035a6d937row11_col3\" class=\"data row11 col3\" >0.0054</td>\n",
       "                        <td id=\"T_5278b38c_609c_11ec_9937_12c035a6d937row11_col4\" class=\"data row11 col4\" >0.0071</td>\n",
       "                        <td id=\"T_5278b38c_609c_11ec_9937_12c035a6d937row11_col5\" class=\"data row11 col5\" >0.0063</td>\n",
       "                        <td id=\"T_5278b38c_609c_11ec_9937_12c035a6d937row11_col6\" class=\"data row11 col6\" >0.0071</td>\n",
       "            </tr>\n",
       "    </tbody></table>"
      ],
      "text/plain": [
       "<pandas.io.formats.style.Styler at 0x7f69dd835780>"
      ]
     },
     "metadata": {},
     "output_type": "display_data"
    },
    {
     "name": "stdout",
     "output_type": "stream",
     "text": [
      "Transformation Pipeline and Model Successfully Saved\n"
     ]
    },
    {
     "data": {
      "text/plain": [
       "(Pipeline(memory=None,\n",
       "          steps=[('dtypes',\n",
       "                  DataTypes_Auto_infer(categorical_features=[],\n",
       "                                       display_types=True, features_todrop=[],\n",
       "                                       id_columns=[],\n",
       "                                       ml_usecase='classification',\n",
       "                                       numerical_features=[],\n",
       "                                       target='injured_in_52_week',\n",
       "                                       time_features=[])),\n",
       "                 ('imputer',\n",
       "                  Simple_Imputer(categorical_strategy='not_available',\n",
       "                                 fill_value_categorical=None,\n",
       "                                 fill_value_numerical=None,\n",
       "                                 n...\n",
       "                  Advanced_Feature_Selection_Classic(ml_usecase='classification',\n",
       "                                                     n_jobs=-1,\n",
       "                                                     random_state=4578,\n",
       "                                                     subclass='binary',\n",
       "                                                     target='injured_in_52_week',\n",
       "                                                     top_features_to_pick=0.19999999999999996)),\n",
       "                 ('fix_multi', 'passthrough'), ('dfs', 'passthrough'),\n",
       "                 ('pca', 'passthrough'),\n",
       "                 ['trained_model',\n",
       "                  AdaBoostClassifier(algorithm='SAMME.R', base_estimator=None,\n",
       "                                     learning_rate=1.0, n_estimators=50,\n",
       "                                     random_state=4578)]],\n",
       "          verbose=False),\n",
       " 'model_1_year.pkl')"
      ]
     },
     "execution_count": 28,
     "metadata": {},
     "output_type": "execute_result"
    }
   ],
   "source": [
    "# Select best model\n",
    "model = create_model(df.index[0], fold=10)\n",
    "save_model(model, 'model_1_year')"
   ]
  },
  {
   "cell_type": "code",
   "execution_count": null,
   "metadata": {},
   "outputs": [
    {
     "data": {
      "application/vnd.jupyter.widget-view+json": {
       "model_id": "ab09dca279a34116896282d8ffc7cfbc",
       "version_major": 2,
       "version_minor": 0
      },
      "text/plain": [
       "IntProgress(value=0, description='Processing: ', max=7)"
      ]
     },
     "metadata": {},
     "output_type": "display_data"
    },
    {
     "data": {
      "text/html": [
       "<div>\n",
       "<style scoped>\n",
       "    .dataframe tbody tr th:only-of-type {\n",
       "        vertical-align: middle;\n",
       "    }\n",
       "\n",
       "    .dataframe tbody tr th {\n",
       "        vertical-align: top;\n",
       "    }\n",
       "\n",
       "    .dataframe thead th {\n",
       "        text-align: right;\n",
       "    }\n",
       "</style>\n",
       "<table border=\"1\" class=\"dataframe\">\n",
       "  <thead>\n",
       "    <tr style=\"text-align: right;\">\n",
       "      <th></th>\n",
       "      <th></th>\n",
       "      <th></th>\n",
       "    </tr>\n",
       "    <tr>\n",
       "      <th></th>\n",
       "      <th></th>\n",
       "      <th></th>\n",
       "    </tr>\n",
       "  </thead>\n",
       "  <tbody>\n",
       "    <tr>\n",
       "      <th>Initiated</th>\n",
       "      <td>. . . . . . . . . . . . . . . . . .</td>\n",
       "      <td>10:31:11</td>\n",
       "    </tr>\n",
       "    <tr>\n",
       "      <th>Status</th>\n",
       "      <td>. . . . . . . . . . . . . . . . . .</td>\n",
       "      <td>Preprocessing Data</td>\n",
       "    </tr>\n",
       "  </tbody>\n",
       "</table>\n",
       "</div>"
      ],
      "text/plain": [
       "                                                                  \n",
       "                                                                  \n",
       "Initiated  . . . . . . . . . . . . . . . . . .            10:31:11\n",
       "Status     . . . . . . . . . . . . . . . . . .  Preprocessing Data"
      ]
     },
     "metadata": {},
     "output_type": "display_data"
    },
    {
     "data": {
      "text/html": [
       "<div>\n",
       "<style scoped>\n",
       "    .dataframe tbody tr th:only-of-type {\n",
       "        vertical-align: middle;\n",
       "    }\n",
       "\n",
       "    .dataframe tbody tr th {\n",
       "        vertical-align: top;\n",
       "    }\n",
       "\n",
       "    .dataframe thead th {\n",
       "        text-align: right;\n",
       "    }\n",
       "</style>\n",
       "<table border=\"1\" class=\"dataframe\">\n",
       "  <thead>\n",
       "    <tr style=\"text-align: right;\">\n",
       "      <th></th>\n",
       "      <th>Accuracy</th>\n",
       "      <th>AUC</th>\n",
       "      <th>Recall</th>\n",
       "      <th>Prec.</th>\n",
       "      <th>F1</th>\n",
       "      <th>Kappa</th>\n",
       "      <th>MCC</th>\n",
       "    </tr>\n",
       "  </thead>\n",
       "  <tbody>\n",
       "  </tbody>\n",
       "</table>\n",
       "</div>"
      ],
      "text/plain": [
       "Empty DataFrame\n",
       "Columns: [Accuracy, AUC, Recall, Prec., F1, Kappa, MCC]\n",
       "Index: []"
      ]
     },
     "metadata": {},
     "output_type": "display_data"
    },
    {
     "name": "stdout",
     "output_type": "stream",
     "text": [
      "Fitting 2 folds for each of 10 candidates, totalling 20 fits\n"
     ]
    },
    {
     "name": "stderr",
     "output_type": "stream",
     "text": [
      "[Parallel(n_jobs=-1)]: Using backend LokyBackend with 32 concurrent workers.\n"
     ]
    }
   ],
   "source": [
    "clf = tune_model(model, optimize = 'F1')"
   ]
  },
  {
   "cell_type": "code",
   "execution_count": 18,
   "metadata": {},
   "outputs": [
    {
     "name": "stdout",
     "output_type": "stream",
     "text": [
      "Transformation Pipeline and Model Successfully Saved\n"
     ]
    },
    {
     "data": {
      "text/plain": [
       "(Pipeline(memory=None,\n",
       "          steps=[('dtypes',\n",
       "                  DataTypes_Auto_infer(categorical_features=[],\n",
       "                                       display_types=True, features_todrop=[],\n",
       "                                       id_columns=[],\n",
       "                                       ml_usecase='classification',\n",
       "                                       numerical_features=[],\n",
       "                                       target='injured_in_52_week',\n",
       "                                       time_features=[])),\n",
       "                 ('imputer',\n",
       "                  Simple_Imputer(categorical_strategy='not_available',\n",
       "                                 fill_value_categorical=None,\n",
       "                                 fill_value_numerical=None,\n",
       "                                 n...\n",
       "                  Advanced_Feature_Selection_Classic(ml_usecase='classification',\n",
       "                                                     n_jobs=-1, random_state=775,\n",
       "                                                     subclass='binary',\n",
       "                                                     target='injured_in_52_week',\n",
       "                                                     top_features_to_pick=0.19999999999999996)),\n",
       "                 ('fix_multi', 'passthrough'), ('dfs', 'passthrough'),\n",
       "                 ('pca', 'passthrough'),\n",
       "                 ['trained_model',\n",
       "                  AdaBoostClassifier(algorithm='SAMME', base_estimator=None,\n",
       "                                     learning_rate=0.01, n_estimators=90,\n",
       "                                     random_state=775)]],\n",
       "          verbose=False),\n",
       " 'model_1_year_tuned.pkl')"
      ]
     },
     "execution_count": 18,
     "metadata": {},
     "output_type": "execute_result"
    }
   ],
   "source": [
    "save_model(clf, 'model_1_year_tuned')"
   ]
  },
  {
   "cell_type": "code",
   "execution_count": 19,
   "metadata": {},
   "outputs": [
    {
     "name": "stdout",
     "output_type": "stream",
     "text": [
      "0.47428104891596173\n",
      "0.4796053766901267\n",
      "0.5\n",
      "0.5\n",
      "0.45107851632320745\n",
      "0.4608093120175665\n"
     ]
    }
   ],
   "source": [
    "from sklearn.metrics import f1_score\n",
    "from sklearn.metrics import recall_score\n",
    "from sklearn.metrics import precision_score\n",
    "\n",
    "clf.fit(X_train, y_train)\n",
    "y_pred = clf.predict(X_test)\n",
    "\n",
    "print(f1_score(y_test, y_pred, average='macro'))\n",
    "print(f1_score(y_train, clf.predict(X_train), average='macro'))\n",
    "\n",
    "print(recall_score(y_test, y_pred, average='macro'))\n",
    "print(recall_score(y_train, clf.predict(X_train), average='macro'))\n",
    "\n",
    "print(precision_score(y_test, y_pred, average='macro'))\n",
    "print(precision_score(y_train, clf.predict(X_train), average='macro'))"
   ]
  },
  {
   "cell_type": "code",
   "execution_count": 20,
   "metadata": {},
   "outputs": [
    {
     "name": "stderr",
     "output_type": "stream",
     "text": [
      "findfont: Font family ['sans-serif'] not found. Falling back to DejaVu Sans.\n",
      "findfont: Font family ['sans-serif'] not found. Falling back to DejaVu Sans.\n",
      "findfont: Font family ['sans-serif'] not found. Falling back to DejaVu Sans.\n"
     ]
    },
    {
     "data": {
      "image/png": "[encoded data removed]",
      "text/plain": [
       "<Figure size 1440x720 with 1 Axes>"
      ]
     },
     "metadata": {},
     "output_type": "display_data"
    },
    {
     "data": {
      "text/plain": [
       "<Figure size 576x396 with 0 Axes>"
      ]
     },
     "metadata": {},
     "output_type": "display_data"
    }
   ],
   "source": [
    "import matplotlib.pyplot as plt\n",
    "import seaborn as sns\n",
    "import warnings\n",
    "warnings.simplefilter(action='ignore', category=FutureWarning)\n",
    "\n",
    "# sorted(zip(clf.feature_importances_, X.columns), reverse=True)\n",
    "feature_imp = pd.DataFrame(sorted(zip(clf.feature_importances_,X_train.columns)), columns=['Value','Feature'])\n",
    "\n",
    "plt.figure(figsize=(20, 10))\n",
    "sns.barplot(x=\"Value\", y=\"Feature\", data=feature_imp.sort_values(by=\"Value\", ascending=False))\n",
    "plt.title('LightGBM Features (avg over folds)')\n",
    "plt.tight_layout()\n",
    "plt.show()\n",
    "plt.savefig('lgbm_importances-01.png')"
   ]
  },
  {
   "cell_type": "code",
   "execution_count": 21,
   "metadata": {},
   "outputs": [
    {
     "name": "stderr",
     "output_type": "stream",
     "text": [
      "findfont: Font family ['sans-serif'] not found. Falling back to DejaVu Sans.\n"
     ]
    },
    {
     "data": {
      "image/png": "[encoded data removed]",
      "text/plain": [
       "<Figure size 576x396 with 1 Axes>"
      ]
     },
     "metadata": {},
     "output_type": "display_data"
    }
   ],
   "source": [
    "plot_model(clf,'confusion_matrix')"
   ]
  },
  {
   "cell_type": "code",
   "execution_count": 22,
   "metadata": {},
   "outputs": [
    {
     "data": {
      "image/png": "[encoded data removed]",
      "text/plain": [
       "<Figure size 576x396 with 1 Axes>"
      ]
     },
     "metadata": {},
     "output_type": "display_data"
    }
   ],
   "source": [
    "plot_model(clf,'pr')"
   ]
  },
  {
   "cell_type": "code",
   "execution_count": 23,
   "metadata": {},
   "outputs": [
    {
     "data": {
      "image/png": "[encoded data removed]",
      "text/plain": [
       "<Figure size 800x500 with 1 Axes>"
      ]
     },
     "metadata": {},
     "output_type": "display_data"
    }
   ],
   "source": [
    "plot_model(clf,'feature')"
   ]
  },
  {
   "cell_type": "code",
   "execution_count": null,
   "metadata": {},
   "outputs": [],
   "source": []
  },
  {
   "cell_type": "code",
   "execution_count": null,
   "metadata": {},
   "outputs": [],
   "source": []
  },
  {
   "cell_type": "code",
   "execution_count": null,
   "metadata": {},
   "outputs": [],
   "source": []
  },
  {
   "cell_type": "code",
   "execution_count": null,
   "metadata": {},
   "outputs": [],
   "source": []
  },
  {
   "cell_type": "code",
   "execution_count": null,
   "metadata": {},
   "outputs": [],
   "source": []
  },
  {
   "cell_type": "code",
   "execution_count": null,
   "metadata": {},
   "outputs": [],
   "source": []
  },
  {
   "cell_type": "code",
   "execution_count": null,
   "metadata": {},
   "outputs": [],
   "source": []
  },
  {
   "cell_type": "code",
   "execution_count": null,
   "metadata": {},
   "outputs": [],
   "source": []
  },
  {
   "cell_type": "code",
   "execution_count": null,
   "metadata": {},
   "outputs": [],
   "source": []
  },
  {
   "cell_type": "code",
   "execution_count": null,
   "metadata": {},
   "outputs": [],
   "source": []
  },
  {
   "cell_type": "markdown",
   "metadata": {},
   "source": [
    "# Executing Prediction for 1 Year (12 Months)"
   ]
  },
  {
   "cell_type": "code",
   "execution_count": 31,
   "metadata": {},
   "outputs": [
    {
     "name": "stdout",
     "output_type": "stream",
     "text": [
      "Transformation Pipeline and Model Successfully Loaded\n"
     ]
    }
   ],
   "source": [
    "# Loading the saved model\n",
    "model_1_year_tuned = load_model('model_1_year_tuned_final')"
   ]
  },
  {
   "cell_type": "code",
   "execution_count": 32,
   "metadata": {},
   "outputs": [
    {
     "data": {
      "text/plain": [
       "Pipeline(steps=[('dtypes',\n",
       "                 DataTypes_Auto_infer(ml_usecase='classification',\n",
       "                                      target='injured_in_52_week')),\n",
       "                ('imputer',\n",
       "                 Simple_Imputer(categorical_strategy='not_available',\n",
       "                                fill_value_categorical=None,\n",
       "                                fill_value_numerical=None,\n",
       "                                numeric_strategy='mean',\n",
       "                                target_variable=None)),\n",
       "                ('new_levels1',\n",
       "                 New_Catagorical_Levels_in_TestData(replacement_strategy='least '\n",
       "                                                                         'fr...\n",
       "                ('fix_perfect', Remove_100(target='injured_in_52_week')),\n",
       "                ('clean_names', Clean_Colum_Names()),\n",
       "                ('feature_select',\n",
       "                 Advanced_Feature_Selection_Classic(n_jobs=-1,\n",
       "                                                    random_state=2889,\n",
       "                                                    subclass='binary',\n",
       "                                                    target='injured_in_52_week',\n",
       "                                                    top_features_to_pick=0.19999999999999996)),\n",
       "                ('fix_multi', 'passthrough'), ('dfs', 'passthrough'),\n",
       "                ('pca', 'passthrough'),\n",
       "                ['trained_model', AdaBoostClassifier(random_state=2889)]])"
      ]
     },
     "execution_count": 32,
     "metadata": {},
     "output_type": "execute_result"
    }
   ],
   "source": [
    "model_1_year_tuned"
   ]
  },
  {
   "cell_type": "code",
   "execution_count": 33,
   "metadata": {},
   "outputs": [
    {
     "data": {
      "text/plain": [
       "Pipeline(steps=[('dtypes',\n",
       "                 DataTypes_Auto_infer(ml_usecase='classification',\n",
       "                                      target='injured_in_52_week')),\n",
       "                ('imputer',\n",
       "                 Simple_Imputer(categorical_strategy='not_available',\n",
       "                                fill_value_categorical=None,\n",
       "                                fill_value_numerical=None,\n",
       "                                numeric_strategy='mean',\n",
       "                                target_variable=None)),\n",
       "                ('new_levels1',\n",
       "                 New_Catagorical_Levels_in_TestData(replacement_strategy='least '\n",
       "                                                                         'fr...\n",
       "                ('fix_perfect', Remove_100(target='injured_in_52_week')),\n",
       "                ('clean_names', Clean_Colum_Names()),\n",
       "                ('feature_select',\n",
       "                 Advanced_Feature_Selection_Classic(n_jobs=-1,\n",
       "                                                    random_state=2889,\n",
       "                                                    subclass='binary',\n",
       "                                                    target='injured_in_52_week',\n",
       "                                                    top_features_to_pick=0.19999999999999996)),\n",
       "                ('fix_multi', 'passthrough'), ('dfs', 'passthrough'),\n",
       "                ('pca', 'passthrough'),\n",
       "                ['trained_model', AdaBoostClassifier(random_state=2889)]])"
      ]
     },
     "execution_count": 33,
     "metadata": {},
     "output_type": "execute_result"
    }
   ],
   "source": [
    "# Testing if model was loaded\n",
    "\n",
    "model_1_year_tuned"
   ]
  },
  {
   "cell_type": "code",
   "execution_count": 34,
   "metadata": {},
   "outputs": [],
   "source": [
    "# Cleaning NaNs\n",
    "\n",
    "dataset_no_nans = dataset.fillna(0)"
   ]
  },
  {
   "cell_type": "code",
   "execution_count": 35,
   "metadata": {},
   "outputs": [],
   "source": [
    "# Choosing the features we are going to use\n",
    "\n",
    "dataset_to_predict = dataset_no_nans[['Height', 'Weight', 'defender', 'attacker', 'midfielder', 'goalkeeper', 'right_foot', 'age', 'cum_injury_total', \\\n",
    "    'weeks_since_last_injury', 'Min_cum', 'Gls_cum', 'Ast_cum', 'PK_cum', 'PKatt_cum', 'Sh_cum', 'SoT_cum', 'CrdY_cum', 'CrdR_cum', \\\n",
    "    'Touches_cum', 'Press_cum', 'Tkl_cum', 'Int_cum', 'Blocks_cum', 'xG_cum', 'npxG_cum', 'xA_cum', 'SCA_cum', 'GCA_cum', 'Cmp_cum', 'Att_cum', \\\n",
    "    'Prog_cum', 'Carries_cum', 'Prog.1_cum', 'Succ_cum', 'Att.1_cum', 'Fls_cum', 'Fld_cum', 'Off_cum', 'Crs_cum', 'TklW_cum', 'OG_cum', \\\n",
    "    'PKwon_cum', 'PKcon_cum', 'Serie A_cum', 'Premier League_cum', 'La Liga_cum', 'Ligue 1_cum', 'Bundesliga_cum', 'Champions Lg_cum', \\\n",
    "    'Europa Lg_cum', 'FIFA World Cup_cum', 'UEFA Nations League_cum', 'UEFA Euro_cum', 'Copa América_cum', 'Away_cum', 'Home_cum', \\\n",
    "    'Neutral_cum']]"
   ]
  },
  {
   "cell_type": "code",
   "execution_count": 36,
   "metadata": {},
   "outputs": [],
   "source": [
    "#Using saved model to predict injuries for 1 year\n",
    "\n",
    "predicted_injuries = model_1_year_tuned[23].predict(dataset_to_predict)"
   ]
  },
  {
   "cell_type": "code",
   "execution_count": 37,
   "metadata": {},
   "outputs": [],
   "source": [
    "# Assigning the complet y target to y_target variable\n",
    "\n",
    "y_target = list(y_train).append(list(y_test))"
   ]
  },
  {
   "cell_type": "code",
   "execution_count": 38,
   "metadata": {},
   "outputs": [],
   "source": [
    "# Creating predictions_df to include the whole dataset plus predicted injuries and actual injures\n",
    "\n",
    "predictions_df = dataset_to_predict\n",
    "predictions_df['predicted_injuries'] = predicted_injuries\n",
    "predictions_df['actual_injuries'] = y_target"
   ]
  },
  {
   "cell_type": "code",
   "execution_count": 39,
   "metadata": {},
   "outputs": [],
   "source": [
    "# Merging the complete dataset with the predictions of the model\n",
    "\n",
    "dataset_with_prediction = pd.merge(dataset, predictions_df['predicted_injuries'], left_index=True, right_index=True)"
   ]
  },
  {
   "cell_type": "code",
   "execution_count": 40,
   "metadata": {},
   "outputs": [],
   "source": [
    "# Picking the columns we are going to keep\n",
    "\n",
    "dataset_with_prediction = dataset_with_prediction[['FBRefID', 'name', 'date', 'Min', 'Position:', 'cum_week', 'defender', 'attacker', 'midfielder', 'goalkeeper', \\\n",
    "    'cum_injury_in_1_week', 'cum_injury_in_4_week',  'cum_injury_in_12_week', 'cum_injury_in_26_week', 'cum_injury_in_52_week', 'Min_cum', \\\n",
    "    'predicted_injuries']]"
   ]
  },
  {
   "cell_type": "code",
   "execution_count": 41,
   "metadata": {},
   "outputs": [],
   "source": [
    "# Creating unique_predicted_injuries to filter out repeated injuries\n",
    "\n",
    "dataset_with_prediction.loc[(dataset_with_prediction['predicted_injuries'] == 1) & (dataset_with_prediction['predicted_injuries']. \\\n",
    "    shift(1) == 1), 'unique_predicted_injuries'] = 0\n",
    "dataset_with_prediction.loc[(dataset_with_prediction['predicted_injuries'] == 1) & (dataset_with_prediction['predicted_injuries']. \\\n",
    "    shift(1) == 0), 'unique_predicted_injuries'] = 1\n",
    "dataset_with_prediction.loc[(dataset_with_prediction['predicted_injuries'] == 0) & (dataset_with_prediction['predicted_injuries']. \\\n",
    "    shift(1) == 0), 'unique_predicted_injuries'] = 0\n",
    "dataset_with_prediction.loc[(dataset_with_prediction['predicted_injuries'] == 0) & (dataset_with_prediction['predicted_injuries']. \\\n",
    "    shift(1) == 1), 'unique_predicted_injuries'] = 0"
   ]
  },
  {
   "cell_type": "code",
   "execution_count": 42,
   "metadata": {},
   "outputs": [],
   "source": [
    "# Getting the accumulated sum of predicted injuries by player\n",
    "\n",
    "dataset_with_prediction['cum_predicted_injuries'] = dataset_with_prediction.groupby(by=['name'])['unique_predicted_injuries'].cumsum()"
   ]
  },
  {
   "cell_type": "code",
   "execution_count": 53,
   "metadata": {},
   "outputs": [],
   "source": [
    "# Picking player to forecast\n",
    "\n",
    "picked_player_df = dataset_with_prediction[dataset_with_prediction['name'] == 'Neymar']"
   ]
  },
  {
   "cell_type": "code",
   "execution_count": 54,
   "metadata": {},
   "outputs": [],
   "source": [
    "# Picking the features we are going to use\n",
    "\n",
    "picked_player_df = picked_player_df[['FBRefID', 'name', 'date', 'Min', 'Position:', 'cum_week', 'defender','attacker', 'midfielder', \\\n",
    "    'goalkeeper', 'cum_injury_in_1_week', 'cum_injury_in_4_week', 'cum_injury_in_12_week', 'cum_injury_in_26_week', 'cum_injury_in_52_week', \\\n",
    "    'Min_cum', 'unique_predicted_injuries']]"
   ]
  },
  {
   "cell_type": "code",
   "execution_count": 55,
   "metadata": {},
   "outputs": [],
   "source": [
    "# Function to Forecast players injuries and plot a chart\n",
    "\n",
    "def forecast_it(weeks, df):\n",
    "    df.reset_index(inplace=True)\n",
    "    final_index = df.index.max()\n",
    "    pos = 'cum_injury_in_'+str(weeks)+'_week'\n",
    "    for n in range(weeks,0,-1): \n",
    "        df.loc[final_index-n+1, pos] = ''\n",
    "    df.loc[df[pos] == \"\", 'single_injury_prediction_in_'+str(weeks)+'_week'] = df[pos].shift(1) \n",
    "    df.loc[df['single_injury_prediction_in_'+str(weeks)+'_week'] == \"\", 'single_injury_prediction_in_'+str(weeks)+'_week'] = \\\n",
    "        df['unique_predicted_injuries']\n",
    "    df['cum_injury_prediction_in_'+str(weeks)+'_week'] = df['single_injury_prediction_in_'+str(weeks)+'_week'].cumsum()\n",
    "    df['cum_injury_prediction_in_'+str(weeks)+'_week'] = df['cum_injury_prediction_in_'+str(weeks)+'_week'].fillna('')\n",
    "    df.loc[df['cum_injury_in_'+str(weeks)+'_week'] != \"\", 'cum_injury_prediction_in_'+str(weeks)+'_week'] = df['cum_injury_in_'+str(weeks)+'_week']\n",
    "    \n",
    "    df.loc[df['cum_injury_in_'+str(weeks)+'_week'] != \"\", 'type_for_'+str(weeks)] = 'Actual Injuries'\n",
    "    df.loc[df['cum_injury_in_'+str(weeks)+'_week'] == \"\", 'type_for_'+str(weeks)] = 'Predicted Injuries'\n",
    "\n",
    "    extra_point = df[df['type_for_'+str(weeks)] == 'Actual Injuries'].tail(1)\n",
    "    extra_point['type_for_'+str(weeks)] = 'Predicted Injuries'\n",
    "    df = pd.concat([df, extra_point])\n",
    "\n",
    "    df_final = df[len(df)-85:].sort_index()\n",
    "\n",
    "    domain_min = df_final['cum_injury_prediction_in_'+str(weeks)+'_week'].min()-5\n",
    "    domain_max = df_final['cum_injury_prediction_in_'+str(weeks)+'_week'].max()+5\n",
    "\n",
    "    chart = alt.Chart(df_final).mark_line().encode(x=alt.X('date', timeUnit='yearmonthdate', axis=alt.Axis(tickCount=4)), \\\n",
    "        y=alt.Y('cum_injury_prediction_in_'+str(weeks)+'_week', \\\n",
    "        scale=alt.Scale(domain=[domain_min, domain_max])), color=alt.Color('type_for_'+str(weeks)), strokeDash=alt.condition(\n",
    "        alt.datum.symbol == 'type_for_'+str(weeks), alt.value([5, 5]), alt.value([0]))). \\\n",
    "        properties(title = str(df['name'].iloc[0])+\"'s Injury Prediction for \"+str(weeks)+\" weeks\", width=800, height=300)\n",
    "    \n",
    "    return chart\n"
   ]
  },
  {
   "cell_type": "code",
   "execution_count": 56,
   "metadata": {},
   "outputs": [],
   "source": [
    "#Forecasting 1 Year(52 Weeks)\n",
    "\n",
    "result_52_weeks = forecast_it(52, picked_player_df)"
   ]
  },
  {
   "cell_type": "code",
   "execution_count": 57,
   "metadata": {},
   "outputs": [
    {
     "data": {
      "text/html": [
       "\n",
       "<div id=\"altair-viz-d3469819a4bf41e4ab70661ccd5938a8\"></div>\n",
       "<script type=\"text/javascript\">\n",
       "  (function(spec, embedOpt){\n",
       "    let outputDiv = document.currentScript.previousElementSibling;\n",
       "    if (outputDiv.id !== \"altair-viz-d3469819a4bf41e4ab70661ccd5938a8\") {\n",
       "      outputDiv = document.getElementById(\"altair-viz-d3469819a4bf41e4ab70661ccd5938a8\");\n",
       "    }\n",
       "    const paths = {\n",
       "      \"vega\": \"https://cdn.jsdelivr.net/npm//vega@5?noext\",\n",
       "      \"vega-lib\": \"https://cdn.jsdelivr.net/npm//vega-lib?noext\",\n",
       "      \"vega-lite\": \"https://cdn.jsdelivr.net/npm//vega-lite@4.8.1?noext\",\n",
       "      \"vega-embed\": \"https://cdn.jsdelivr.net/npm//vega-embed@6?noext\",\n",
       "    };\n",
       "\n",
       "    function loadScript(lib) {\n",
       "      return new Promise(function(resolve, reject) {\n",
       "        var s = document.createElement('script');\n",
       "        s.src = paths[lib];\n",
       "        s.async = true;\n",
       "        s.onload = () => resolve(paths[lib]);\n",
       "        s.onerror = () => reject(`Error loading script: ${paths[lib]}`);\n",
       "        document.getElementsByTagName(\"head\")[0].appendChild(s);\n",
       "      });\n",
       "    }\n",
       "\n",
       "    function showError(err) {\n",
       "      outputDiv.innerHTML = `<div class=\"error\" style=\"color:red;\">${err}</div>`;\n",
       "      throw err;\n",
       "    }\n",
       "\n",
       "    function displayChart(vegaEmbed) {\n",
       "      vegaEmbed(outputDiv, spec, embedOpt)\n",
       "        .catch(err => showError(`Javascript Error: ${err.message}<br>This usually means there's a typo in your chart specification. See the javascript console for the full traceback.`));\n",
       "    }\n",
       "\n",
       "    if(typeof define === \"function\" && define.amd) {\n",
       "      requirejs.config({paths});\n",
       "      require([\"vega-embed\"], displayChart, err => showError(`Error loading script: ${err.message}`));\n",
       "    } else if (typeof vegaEmbed === \"function\") {\n",
       "      displayChart(vegaEmbed);\n",
       "    } else {\n",
       "      loadScript(\"vega\")\n",
       "        .then(() => loadScript(\"vega-lite\"))\n",
       "        .then(() => loadScript(\"vega-embed\"))\n",
       "        .catch(showError)\n",
       "        .then(() => displayChart(vegaEmbed));\n",
       "    }\n",
       "  })({\"config\": {\"view\": {\"continuousWidth\": 400, \"continuousHeight\": 300}}, \"data\": {\"name\": \"data-8d9f94db5a368c4b61045af567a0517f\"}, \"mark\": \"line\", \"encoding\": {\"color\": {\"type\": \"nominal\", \"field\": \"type_for_52\"}, \"strokeDash\": {\"condition\": {\"value\": [5, 5], \"test\": \"(datum.symbol === 'type_for_52')\"}, \"value\": [0]}, \"x\": {\"type\": \"nominal\", \"axis\": {\"tickCount\": 4}, \"field\": \"date\", \"timeUnit\": \"yearmonthdate\"}, \"y\": {\"type\": \"quantitative\", \"field\": \"cum_injury_prediction_in_52_week\", \"scale\": {\"domain\": [84.0, 104.0]}}}, \"height\": 300, \"title\": \"Neymar's Injury Prediction for 52 weeks\", \"width\": 800, \"$schema\": \"https://vega.github.io/schema/vega-lite/v4.8.1.json\", \"datasets\": {\"data-8d9f94db5a368c4b61045af567a0517f\": [{\"index\": 788195, \"FBRefID\": \"69384e5d\", \"name\": \"Neymar\", \"date\": \"2020-03-15\", \"Min\": 90.0, \"Position:\": \"attack - Left Winger\", \"cum_week\": 350.0, \"defender\": 0, \"attacker\": 1, \"midfielder\": 0, \"goalkeeper\": 0, \"cum_injury_in_1_week\": 79.0, \"cum_injury_in_4_week\": 79.0, \"cum_injury_in_12_week\": 79.0, \"cum_injury_in_26_week\": 80.0, \"cum_injury_in_52_week\": 89.0, \"Min_cum\": 269.0, \"unique_predicted_injuries\": 0.0, \"single_injury_prediction_in_52_week\": null, \"cum_injury_prediction_in_52_week\": 89.0, \"type_for_52\": \"Actual Injuries\"}, {\"index\": 788196, \"FBRefID\": \"69384e5d\", \"name\": \"Neymar\", \"date\": \"2020-03-22\", \"Min\": 90.0, \"Position:\": \"attack - Left Winger\", \"cum_week\": 351.0, \"defender\": 0, \"attacker\": 1, \"midfielder\": 0, \"goalkeeper\": 0, \"cum_injury_in_1_week\": 79.0, \"cum_injury_in_4_week\": 79.0, \"cum_injury_in_12_week\": 79.0, \"cum_injury_in_26_week\": 80.0, \"cum_injury_in_52_week\": 90.0, \"Min_cum\": 359.0, \"unique_predicted_injuries\": 0.0, \"single_injury_prediction_in_52_week\": null, \"cum_injury_prediction_in_52_week\": 90.0, \"type_for_52\": \"Actual Injuries\"}, {\"index\": 788197, \"FBRefID\": \"69384e5d\", \"name\": \"Neymar\", \"date\": \"2020-03-29\", \"Min\": 0.0, \"Position:\": \"attack - Left Winger\", \"cum_week\": 353.0, \"defender\": 0, \"attacker\": 1, \"midfielder\": 0, \"goalkeeper\": 0, \"cum_injury_in_1_week\": 79.0, \"cum_injury_in_4_week\": 79.0, \"cum_injury_in_12_week\": 79.0, \"cum_injury_in_26_week\": 80.0, \"cum_injury_in_52_week\": 91.0, \"Min_cum\": 359.0, \"unique_predicted_injuries\": 0.0, \"single_injury_prediction_in_52_week\": null, \"cum_injury_prediction_in_52_week\": 91.0, \"type_for_52\": \"Actual Injuries\"}, {\"index\": 788198, \"FBRefID\": \"69384e5d\", \"name\": \"Neymar\", \"date\": \"2020-04-05\", \"Min\": 0.0, \"Position:\": \"attack - Left Winger\", \"cum_week\": 354.0, \"defender\": 0, \"attacker\": 1, \"midfielder\": 0, \"goalkeeper\": 0, \"cum_injury_in_1_week\": 79.0, \"cum_injury_in_4_week\": 79.0, \"cum_injury_in_12_week\": 79.0, \"cum_injury_in_26_week\": 80.0, \"cum_injury_in_52_week\": 92.0, \"Min_cum\": 359.0, \"unique_predicted_injuries\": 0.0, \"single_injury_prediction_in_52_week\": null, \"cum_injury_prediction_in_52_week\": 92.0, \"type_for_52\": \"Actual Injuries\"}, {\"index\": 788199, \"FBRefID\": \"69384e5d\", \"name\": \"Neymar\", \"date\": \"2020-04-12\", \"Min\": 0.0, \"Position:\": \"attack - Left Winger\", \"cum_week\": 355.0, \"defender\": 0, \"attacker\": 1, \"midfielder\": 0, \"goalkeeper\": 0, \"cum_injury_in_1_week\": 79.0, \"cum_injury_in_4_week\": 79.0, \"cum_injury_in_12_week\": 79.0, \"cum_injury_in_26_week\": 80.0, \"cum_injury_in_52_week\": 92.0, \"Min_cum\": 359.0, \"unique_predicted_injuries\": 0.0, \"single_injury_prediction_in_52_week\": null, \"cum_injury_prediction_in_52_week\": 92.0, \"type_for_52\": \"Actual Injuries\"}, {\"index\": 788200, \"FBRefID\": \"69384e5d\", \"name\": \"Neymar\", \"date\": \"2020-04-19\", \"Min\": 0.0, \"Position:\": \"attack - Left Winger\", \"cum_week\": 356.0, \"defender\": 0, \"attacker\": 1, \"midfielder\": 0, \"goalkeeper\": 0, \"cum_injury_in_1_week\": 79.0, \"cum_injury_in_4_week\": 79.0, \"cum_injury_in_12_week\": 79.0, \"cum_injury_in_26_week\": 80.0, \"cum_injury_in_52_week\": 92.0, \"Min_cum\": 359.0, \"unique_predicted_injuries\": 0.0, \"single_injury_prediction_in_52_week\": null, \"cum_injury_prediction_in_52_week\": 92.0, \"type_for_52\": \"Actual Injuries\"}, {\"index\": 788201, \"FBRefID\": \"69384e5d\", \"name\": \"Neymar\", \"date\": \"2020-04-26\", \"Min\": 0.0, \"Position:\": \"attack - Left Winger\", \"cum_week\": 357.0, \"defender\": 0, \"attacker\": 1, \"midfielder\": 0, \"goalkeeper\": 0, \"cum_injury_in_1_week\": 79.0, \"cum_injury_in_4_week\": 79.0, \"cum_injury_in_12_week\": 79.0, \"cum_injury_in_26_week\": 80.0, \"cum_injury_in_52_week\": 92.0, \"Min_cum\": 359.0, \"unique_predicted_injuries\": 0.0, \"single_injury_prediction_in_52_week\": null, \"cum_injury_prediction_in_52_week\": 92.0, \"type_for_52\": \"Actual Injuries\"}, {\"index\": 788202, \"FBRefID\": \"69384e5d\", \"name\": \"Neymar\", \"date\": \"2020-05-03\", \"Min\": 0.0, \"Position:\": \"attack - Left Winger\", \"cum_week\": 358.0, \"defender\": 0, \"attacker\": 1, \"midfielder\": 0, \"goalkeeper\": 0, \"cum_injury_in_1_week\": 79.0, \"cum_injury_in_4_week\": 79.0, \"cum_injury_in_12_week\": 79.0, \"cum_injury_in_26_week\": 80.0, \"cum_injury_in_52_week\": 92.0, \"Min_cum\": 359.0, \"unique_predicted_injuries\": 0.0, \"single_injury_prediction_in_52_week\": null, \"cum_injury_prediction_in_52_week\": 92.0, \"type_for_52\": \"Actual Injuries\"}, {\"index\": 788203, \"FBRefID\": \"69384e5d\", \"name\": \"Neymar\", \"date\": \"2020-05-10\", \"Min\": 0.0, \"Position:\": \"attack - Left Winger\", \"cum_week\": 359.0, \"defender\": 0, \"attacker\": 1, \"midfielder\": 0, \"goalkeeper\": 0, \"cum_injury_in_1_week\": 79.0, \"cum_injury_in_4_week\": 79.0, \"cum_injury_in_12_week\": 79.0, \"cum_injury_in_26_week\": 80.0, \"cum_injury_in_52_week\": 92.0, \"Min_cum\": 359.0, \"unique_predicted_injuries\": 0.0, \"single_injury_prediction_in_52_week\": null, \"cum_injury_prediction_in_52_week\": 92.0, \"type_for_52\": \"Actual Injuries\"}, {\"index\": 788204, \"FBRefID\": \"69384e5d\", \"name\": \"Neymar\", \"date\": \"2020-05-17\", \"Min\": 0.0, \"Position:\": \"attack - Left Winger\", \"cum_week\": 360.0, \"defender\": 0, \"attacker\": 1, \"midfielder\": 0, \"goalkeeper\": 0, \"cum_injury_in_1_week\": 79.0, \"cum_injury_in_4_week\": 79.0, \"cum_injury_in_12_week\": 79.0, \"cum_injury_in_26_week\": 81.0, \"cum_injury_in_52_week\": 92.0, \"Min_cum\": 359.0, \"unique_predicted_injuries\": 0.0, \"single_injury_prediction_in_52_week\": null, \"cum_injury_prediction_in_52_week\": 92.0, \"type_for_52\": \"Actual Injuries\"}, {\"index\": 788205, \"FBRefID\": \"69384e5d\", \"name\": \"Neymar\", \"date\": \"2020-05-24\", \"Min\": 0.0, \"Position:\": \"attack - Left Winger\", \"cum_week\": 361.0, \"defender\": 0, \"attacker\": 1, \"midfielder\": 0, \"goalkeeper\": 0, \"cum_injury_in_1_week\": 79.0, \"cum_injury_in_4_week\": 79.0, \"cum_injury_in_12_week\": 79.0, \"cum_injury_in_26_week\": 82.0, \"cum_injury_in_52_week\": 92.0, \"Min_cum\": 359.0, \"unique_predicted_injuries\": 0.0, \"single_injury_prediction_in_52_week\": null, \"cum_injury_prediction_in_52_week\": 92.0, \"type_for_52\": \"Actual Injuries\"}, {\"index\": 788206, \"FBRefID\": \"69384e5d\", \"name\": \"Neymar\", \"date\": \"2020-05-31\", \"Min\": 0.0, \"Position:\": \"attack - Left Winger\", \"cum_week\": 362.0, \"defender\": 0, \"attacker\": 1, \"midfielder\": 0, \"goalkeeper\": 0, \"cum_injury_in_1_week\": 79.0, \"cum_injury_in_4_week\": 79.0, \"cum_injury_in_12_week\": 79.0, \"cum_injury_in_26_week\": 83.0, \"cum_injury_in_52_week\": 92.0, \"Min_cum\": 359.0, \"unique_predicted_injuries\": 0.0, \"single_injury_prediction_in_52_week\": null, \"cum_injury_prediction_in_52_week\": 92.0, \"type_for_52\": \"Actual Injuries\"}, {\"index\": 788207, \"FBRefID\": \"69384e5d\", \"name\": \"Neymar\", \"date\": \"2020-06-07\", \"Min\": 0.0, \"Position:\": \"attack - Left Winger\", \"cum_week\": 363.0, \"defender\": 0, \"attacker\": 1, \"midfielder\": 0, \"goalkeeper\": 0, \"cum_injury_in_1_week\": 79.0, \"cum_injury_in_4_week\": 79.0, \"cum_injury_in_12_week\": 79.0, \"cum_injury_in_26_week\": 83.0, \"cum_injury_in_52_week\": 92.0, \"Min_cum\": 359.0, \"unique_predicted_injuries\": 0.0, \"single_injury_prediction_in_52_week\": null, \"cum_injury_prediction_in_52_week\": 92.0, \"type_for_52\": \"Actual Injuries\"}, {\"index\": 788208, \"FBRefID\": \"69384e5d\", \"name\": \"Neymar\", \"date\": \"2020-06-14\", \"Min\": 0.0, \"Position:\": \"attack - Left Winger\", \"cum_week\": 364.0, \"defender\": 0, \"attacker\": 1, \"midfielder\": 0, \"goalkeeper\": 0, \"cum_injury_in_1_week\": 79.0, \"cum_injury_in_4_week\": 79.0, \"cum_injury_in_12_week\": 79.0, \"cum_injury_in_26_week\": 83.0, \"cum_injury_in_52_week\": 92.0, \"Min_cum\": 359.0, \"unique_predicted_injuries\": 0.0, \"single_injury_prediction_in_52_week\": null, \"cum_injury_prediction_in_52_week\": 92.0, \"type_for_52\": \"Actual Injuries\"}, {\"index\": 788209, \"FBRefID\": \"69384e5d\", \"name\": \"Neymar\", \"date\": \"2020-06-21\", \"Min\": 0.0, \"Position:\": \"attack - Left Winger\", \"cum_week\": 365.0, \"defender\": 0, \"attacker\": 1, \"midfielder\": 0, \"goalkeeper\": 0, \"cum_injury_in_1_week\": 79.0, \"cum_injury_in_4_week\": 79.0, \"cum_injury_in_12_week\": 80.0, \"cum_injury_in_26_week\": 84.0, \"cum_injury_in_52_week\": 92.0, \"Min_cum\": 359.0, \"unique_predicted_injuries\": 0.0, \"single_injury_prediction_in_52_week\": null, \"cum_injury_prediction_in_52_week\": 92.0, \"type_for_52\": \"Actual Injuries\"}, {\"index\": 788210, \"FBRefID\": \"69384e5d\", \"name\": \"Neymar\", \"date\": \"2020-06-28\", \"Min\": 0.0, \"Position:\": \"attack - Left Winger\", \"cum_week\": 366.0, \"defender\": 0, \"attacker\": 1, \"midfielder\": 0, \"goalkeeper\": 0, \"cum_injury_in_1_week\": 79.0, \"cum_injury_in_4_week\": 79.0, \"cum_injury_in_12_week\": 80.0, \"cum_injury_in_26_week\": 84.0, \"cum_injury_in_52_week\": 92.0, \"Min_cum\": 359.0, \"unique_predicted_injuries\": 0.0, \"single_injury_prediction_in_52_week\": null, \"cum_injury_prediction_in_52_week\": 92.0, \"type_for_52\": \"Actual Injuries\"}, {\"index\": 788211, \"FBRefID\": \"69384e5d\", \"name\": \"Neymar\", \"date\": \"2020-07-05\", \"Min\": 0.0, \"Position:\": \"attack - Left Winger\", \"cum_week\": 367.0, \"defender\": 0, \"attacker\": 1, \"midfielder\": 0, \"goalkeeper\": 0, \"cum_injury_in_1_week\": 79.0, \"cum_injury_in_4_week\": 79.0, \"cum_injury_in_12_week\": 80.0, \"cum_injury_in_26_week\": 84.0, \"cum_injury_in_52_week\": 92.0, \"Min_cum\": 359.0, \"unique_predicted_injuries\": 0.0, \"single_injury_prediction_in_52_week\": null, \"cum_injury_prediction_in_52_week\": 92.0, \"type_for_52\": \"Actual Injuries\"}, {\"index\": 788212, \"FBRefID\": \"69384e5d\", \"name\": \"Neymar\", \"date\": \"2020-07-12\", \"Min\": 0.0, \"Position:\": \"attack - Left Winger\", \"cum_week\": 368.0, \"defender\": 0, \"attacker\": 1, \"midfielder\": 0, \"goalkeeper\": 0, \"cum_injury_in_1_week\": 79.0, \"cum_injury_in_4_week\": 79.0, \"cum_injury_in_12_week\": 80.0, \"cum_injury_in_26_week\": 85.0, \"cum_injury_in_52_week\": 92.0, \"Min_cum\": 359.0, \"unique_predicted_injuries\": 0.0, \"single_injury_prediction_in_52_week\": null, \"cum_injury_prediction_in_52_week\": 92.0, \"type_for_52\": \"Actual Injuries\"}, {\"index\": 788213, \"FBRefID\": \"69384e5d\", \"name\": \"Neymar\", \"date\": \"2020-07-19\", \"Min\": 0.0, \"Position:\": \"attack - Left Winger\", \"cum_week\": 369.0, \"defender\": 0, \"attacker\": 1, \"midfielder\": 0, \"goalkeeper\": 0, \"cum_injury_in_1_week\": 79.0, \"cum_injury_in_4_week\": 79.0, \"cum_injury_in_12_week\": 80.0, \"cum_injury_in_26_week\": 86.0, \"cum_injury_in_52_week\": 92.0, \"Min_cum\": 359.0, \"unique_predicted_injuries\": 0.0, \"single_injury_prediction_in_52_week\": null, \"cum_injury_prediction_in_52_week\": 92.0, \"type_for_52\": \"Actual Injuries\"}, {\"index\": 788214, \"FBRefID\": \"69384e5d\", \"name\": \"Neymar\", \"date\": \"2020-07-26\", \"Min\": 0.0, \"Position:\": \"attack - Left Winger\", \"cum_week\": 370.0, \"defender\": 0, \"attacker\": 1, \"midfielder\": 0, \"goalkeeper\": 0, \"cum_injury_in_1_week\": 79.0, \"cum_injury_in_4_week\": 79.0, \"cum_injury_in_12_week\": 80.0, \"cum_injury_in_26_week\": 87.0, \"cum_injury_in_52_week\": 92.0, \"Min_cum\": 359.0, \"unique_predicted_injuries\": 0.0, \"single_injury_prediction_in_52_week\": null, \"cum_injury_prediction_in_52_week\": 92.0, \"type_for_52\": \"Actual Injuries\"}, {\"index\": 788215, \"FBRefID\": \"69384e5d\", \"name\": \"Neymar\", \"date\": \"2020-08-02\", \"Min\": 90.0, \"Position:\": \"attack - Left Winger\", \"cum_week\": 370.0, \"defender\": 0, \"attacker\": 1, \"midfielder\": 0, \"goalkeeper\": 0, \"cum_injury_in_1_week\": 79.0, \"cum_injury_in_4_week\": 79.0, \"cum_injury_in_12_week\": 80.0, \"cum_injury_in_26_week\": 87.0, \"cum_injury_in_52_week\": 92.0, \"Min_cum\": 449.0, \"unique_predicted_injuries\": 0.0, \"single_injury_prediction_in_52_week\": null, \"cum_injury_prediction_in_52_week\": 92.0, \"type_for_52\": \"Actual Injuries\"}, {\"index\": 788216, \"FBRefID\": \"69384e5d\", \"name\": \"Neymar\", \"date\": \"2020-08-09\", \"Min\": 120.0, \"Position:\": \"attack - Left Winger\", \"cum_week\": 371.0, \"defender\": 0, \"attacker\": 1, \"midfielder\": 0, \"goalkeeper\": 0, \"cum_injury_in_1_week\": 79.0, \"cum_injury_in_4_week\": 79.0, \"cum_injury_in_12_week\": 80.0, \"cum_injury_in_26_week\": 87.0, \"cum_injury_in_52_week\": 92.0, \"Min_cum\": 569.0, \"unique_predicted_injuries\": 0.0, \"single_injury_prediction_in_52_week\": null, \"cum_injury_prediction_in_52_week\": 92.0, \"type_for_52\": \"Actual Injuries\"}, {\"index\": 788217, \"FBRefID\": \"69384e5d\", \"name\": \"Neymar\", \"date\": \"2020-08-16\", \"Min\": 0.0, \"Position:\": \"attack - Left Winger\", \"cum_week\": 373.0, \"defender\": 0, \"attacker\": 1, \"midfielder\": 0, \"goalkeeper\": 0, \"cum_injury_in_1_week\": 79.0, \"cum_injury_in_4_week\": 80.0, \"cum_injury_in_12_week\": 80.0, \"cum_injury_in_26_week\": 87.0, \"cum_injury_in_52_week\": 92.0, \"Min_cum\": 569.0, \"unique_predicted_injuries\": 0.0, \"single_injury_prediction_in_52_week\": null, \"cum_injury_prediction_in_52_week\": 92.0, \"type_for_52\": \"Actual Injuries\"}, {\"index\": 788218, \"FBRefID\": \"69384e5d\", \"name\": \"Neymar\", \"date\": \"2020-08-23\", \"Min\": 90.0, \"Position:\": \"attack - Left Winger\", \"cum_week\": 373.0, \"defender\": 0, \"attacker\": 1, \"midfielder\": 0, \"goalkeeper\": 0, \"cum_injury_in_1_week\": 79.0, \"cum_injury_in_4_week\": 80.0, \"cum_injury_in_12_week\": 81.0, \"cum_injury_in_26_week\": 87.0, \"cum_injury_in_52_week\": 93.0, \"Min_cum\": 659.0, \"unique_predicted_injuries\": 0.0, \"single_injury_prediction_in_52_week\": null, \"cum_injury_prediction_in_52_week\": 93.0, \"type_for_52\": \"Actual Injuries\"}, {\"index\": 788219, \"FBRefID\": \"69384e5d\", \"name\": \"Neymar\", \"date\": \"2020-08-30\", \"Min\": 180.0, \"Position:\": \"attack - Left Winger\", \"cum_week\": 374.0, \"defender\": 0, \"attacker\": 1, \"midfielder\": 0, \"goalkeeper\": 0, \"cum_injury_in_1_week\": 79.0, \"cum_injury_in_4_week\": 80.0, \"cum_injury_in_12_week\": 82.0, \"cum_injury_in_26_week\": 88.0, \"cum_injury_in_52_week\": 94.0, \"Min_cum\": 839.0, \"unique_predicted_injuries\": 0.0, \"single_injury_prediction_in_52_week\": null, \"cum_injury_prediction_in_52_week\": 94.0, \"type_for_52\": \"Actual Injuries\"}, {\"index\": 788220, \"FBRefID\": \"69384e5d\", \"name\": \"Neymar\", \"date\": \"2020-09-06\", \"Min\": 0.0, \"Position:\": \"attack - Left Winger\", \"cum_week\": 376.0, \"defender\": 0, \"attacker\": 1, \"midfielder\": 0, \"goalkeeper\": 0, \"cum_injury_in_1_week\": 80.0, \"cum_injury_in_4_week\": 80.0, \"cum_injury_in_12_week\": 83.0, \"cum_injury_in_26_week\": 88.0, \"cum_injury_in_52_week\": 95.0, \"Min_cum\": 839.0, \"unique_predicted_injuries\": 0.0, \"single_injury_prediction_in_52_week\": null, \"cum_injury_prediction_in_52_week\": 95.0, \"type_for_52\": \"Actual Injuries\"}, {\"index\": 788221, \"FBRefID\": \"69384e5d\", \"name\": \"Neymar\", \"date\": \"2020-09-13\", \"Min\": 0.0, \"Position:\": \"attack - Left Winger\", \"cum_week\": 376.0, \"defender\": 0, \"attacker\": 1, \"midfielder\": 0, \"goalkeeper\": 0, \"cum_injury_in_1_week\": 80.0, \"cum_injury_in_4_week\": 80.0, \"cum_injury_in_12_week\": 83.0, \"cum_injury_in_26_week\": 89.0, \"cum_injury_in_52_week\": 96.0, \"Min_cum\": 0.0, \"unique_predicted_injuries\": 0.0, \"single_injury_prediction_in_52_week\": null, \"cum_injury_prediction_in_52_week\": 96.0, \"type_for_52\": \"Actual Injuries\"}, {\"index\": 788222, \"FBRefID\": \"69384e5d\", \"name\": \"Neymar\", \"date\": \"2020-09-20\", \"Min\": 89.0, \"Position:\": \"attack - Left Winger\", \"cum_week\": 377.0, \"defender\": 0, \"attacker\": 1, \"midfielder\": 0, \"goalkeeper\": 0, \"cum_injury_in_1_week\": 80.0, \"cum_injury_in_4_week\": 80.0, \"cum_injury_in_12_week\": 83.0, \"cum_injury_in_26_week\": 90.0, \"cum_injury_in_52_week\": 96.0, \"Min_cum\": 89.0, \"unique_predicted_injuries\": 0.0, \"single_injury_prediction_in_52_week\": null, \"cum_injury_prediction_in_52_week\": 96.0, \"type_for_52\": \"Actual Injuries\"}, {\"index\": 788223, \"FBRefID\": \"69384e5d\", \"name\": \"Neymar\", \"date\": \"2020-09-27\", \"Min\": 0.0, \"Position:\": \"attack - Left Winger\", \"cum_week\": 379.0, \"defender\": 0, \"attacker\": 1, \"midfielder\": 0, \"goalkeeper\": 0, \"cum_injury_in_1_week\": 80.0, \"cum_injury_in_4_week\": 80.0, \"cum_injury_in_12_week\": 84.0, \"cum_injury_in_26_week\": 91.0, \"cum_injury_in_52_week\": 96.0, \"Min_cum\": 89.0, \"unique_predicted_injuries\": 0.0, \"single_injury_prediction_in_52_week\": null, \"cum_injury_prediction_in_52_week\": 96.0, \"type_for_52\": \"Actual Injuries\"}, {\"index\": 788224, \"FBRefID\": \"69384e5d\", \"name\": \"Neymar\", \"date\": \"2020-10-04\", \"Min\": 90.0, \"Position:\": \"attack - Left Winger\", \"cum_week\": 379.0, \"defender\": 0, \"attacker\": 1, \"midfielder\": 0, \"goalkeeper\": 0, \"cum_injury_in_1_week\": 80.0, \"cum_injury_in_4_week\": 80.0, \"cum_injury_in_12_week\": 84.0, \"cum_injury_in_26_week\": 92.0, \"cum_injury_in_52_week\": 96.0, \"Min_cum\": 179.0, \"unique_predicted_injuries\": 0.0, \"single_injury_prediction_in_52_week\": null, \"cum_injury_prediction_in_52_week\": 96.0, \"type_for_52\": \"Actual Injuries\"}, {\"index\": 788225, \"FBRefID\": \"69384e5d\", \"name\": \"Neymar\", \"date\": \"2020-10-11\", \"Min\": 90.0, \"Position:\": \"attack - Left Winger\", \"cum_week\": 380.0, \"defender\": 0, \"attacker\": 1, \"midfielder\": 0, \"goalkeeper\": 0, \"cum_injury_in_1_week\": 80.0, \"cum_injury_in_4_week\": 80.0, \"cum_injury_in_12_week\": 84.0, \"cum_injury_in_26_week\": 92.0, \"cum_injury_in_52_week\": 96.0, \"Min_cum\": 269.0, \"unique_predicted_injuries\": 0.0, \"single_injury_prediction_in_52_week\": null, \"cum_injury_prediction_in_52_week\": 96.0, \"type_for_52\": \"Actual Injuries\"}, {\"index\": 788226, \"FBRefID\": \"69384e5d\", \"name\": \"Neymar\", \"date\": \"2020-10-18\", \"Min\": 180.0, \"Position:\": \"attack - Left Winger\", \"cum_week\": 381.0, \"defender\": 0, \"attacker\": 1, \"midfielder\": 0, \"goalkeeper\": 0, \"cum_injury_in_1_week\": 80.0, \"cum_injury_in_4_week\": 81.0, \"cum_injury_in_12_week\": 85.0, \"cum_injury_in_26_week\": 92.0, \"cum_injury_in_52_week\": 96.0, \"Min_cum\": 449.0, \"unique_predicted_injuries\": 0.0, \"single_injury_prediction_in_52_week\": null, \"cum_injury_prediction_in_52_week\": 96.0, \"type_for_52\": \"Predicted Injuries\"}, {\"index\": 788226, \"FBRefID\": \"69384e5d\", \"name\": \"Neymar\", \"date\": \"2020-10-18\", \"Min\": 180.0, \"Position:\": \"attack - Left Winger\", \"cum_week\": 381.0, \"defender\": 0, \"attacker\": 1, \"midfielder\": 0, \"goalkeeper\": 0, \"cum_injury_in_1_week\": 80.0, \"cum_injury_in_4_week\": 81.0, \"cum_injury_in_12_week\": 85.0, \"cum_injury_in_26_week\": 92.0, \"cum_injury_in_52_week\": 96.0, \"Min_cum\": 449.0, \"unique_predicted_injuries\": 0.0, \"single_injury_prediction_in_52_week\": null, \"cum_injury_prediction_in_52_week\": 96.0, \"type_for_52\": \"Actual Injuries\"}, {\"index\": 788227, \"FBRefID\": \"69384e5d\", \"name\": \"Neymar\", \"date\": \"2020-10-25\", \"Min\": 180.0, \"Position:\": \"attack - Left Winger\", \"cum_week\": 382.0, \"defender\": 0, \"attacker\": 1, \"midfielder\": 0, \"goalkeeper\": 0, \"cum_injury_in_1_week\": 80.0, \"cum_injury_in_4_week\": 82.0, \"cum_injury_in_12_week\": 86.0, \"cum_injury_in_26_week\": 92.0, \"cum_injury_in_52_week\": \"\", \"Min_cum\": 629.0, \"unique_predicted_injuries\": 0.0, \"single_injury_prediction_in_52_week\": 96.0, \"cum_injury_prediction_in_52_week\": 96.0, \"type_for_52\": \"Predicted Injuries\"}, {\"index\": 788228, \"FBRefID\": \"69384e5d\", \"name\": \"Neymar\", \"date\": \"2020-11-01\", \"Min\": 180.0, \"Position:\": \"attack - Left Winger\", \"cum_week\": 383.0, \"defender\": 0, \"attacker\": 1, \"midfielder\": 0, \"goalkeeper\": 0, \"cum_injury_in_1_week\": 80.0, \"cum_injury_in_4_week\": 83.0, \"cum_injury_in_12_week\": 87.0, \"cum_injury_in_26_week\": 92.0, \"cum_injury_in_52_week\": \"\", \"Min_cum\": 809.0, \"unique_predicted_injuries\": 1.0, \"single_injury_prediction_in_52_week\": 1.0, \"cum_injury_prediction_in_52_week\": 97.0, \"type_for_52\": \"Predicted Injuries\"}, {\"index\": 788229, \"FBRefID\": \"69384e5d\", \"name\": \"Neymar\", \"date\": \"2020-11-08\", \"Min\": 25.0, \"Position:\": \"attack - Left Winger\", \"cum_week\": 384.0, \"defender\": 0, \"attacker\": 1, \"midfielder\": 0, \"goalkeeper\": 0, \"cum_injury_in_1_week\": 81.0, \"cum_injury_in_4_week\": 83.0, \"cum_injury_in_12_week\": 87.0, \"cum_injury_in_26_week\": 92.0, \"cum_injury_in_52_week\": \"\", \"Min_cum\": 834.0, \"unique_predicted_injuries\": 0.0, \"single_injury_prediction_in_52_week\": 0.0, \"cum_injury_prediction_in_52_week\": 97.0, \"type_for_52\": \"Predicted Injuries\"}, {\"index\": 788230, \"FBRefID\": \"69384e5d\", \"name\": \"Neymar\", \"date\": \"2020-11-08\", \"Min\": 0.0, \"Position:\": \"attack - Left Winger\", \"cum_week\": 384.0, \"defender\": 0, \"attacker\": 1, \"midfielder\": 0, \"goalkeeper\": 0, \"cum_injury_in_1_week\": 82.0, \"cum_injury_in_4_week\": 83.0, \"cum_injury_in_12_week\": 87.0, \"cum_injury_in_26_week\": 92.0, \"cum_injury_in_52_week\": \"\", \"Min_cum\": 0.0, \"unique_predicted_injuries\": 0.0, \"single_injury_prediction_in_52_week\": 0.0, \"cum_injury_prediction_in_52_week\": 97.0, \"type_for_52\": \"Predicted Injuries\"}, {\"index\": 788233, \"FBRefID\": \"69384e5d\", \"name\": \"Neymar\", \"date\": \"2020-11-29\", \"Min\": 31.0, \"Position:\": \"attack - Left Winger\", \"cum_week\": 387.0, \"defender\": 0, \"attacker\": 1, \"midfielder\": 0, \"goalkeeper\": 0, \"cum_injury_in_1_week\": 83.0, \"cum_injury_in_4_week\": 84.0, \"cum_injury_in_12_week\": 88.0, \"cum_injury_in_26_week\": 92.0, \"cum_injury_in_52_week\": \"\", \"Min_cum\": 31.0, \"unique_predicted_injuries\": 0.0, \"single_injury_prediction_in_52_week\": 0.0, \"cum_injury_prediction_in_52_week\": 97.0, \"type_for_52\": \"Predicted Injuries\"}, {\"index\": 788234, \"FBRefID\": \"69384e5d\", \"name\": \"Neymar\", \"date\": \"2020-12-06\", \"Min\": 179.0, \"Position:\": \"attack - Left Winger\", \"cum_week\": 388.0, \"defender\": 0, \"attacker\": 1, \"midfielder\": 0, \"goalkeeper\": 0, \"cum_injury_in_1_week\": 84.0, \"cum_injury_in_4_week\": 85.0, \"cum_injury_in_12_week\": 88.0, \"cum_injury_in_26_week\": 92.0, \"cum_injury_in_52_week\": \"\", \"Min_cum\": 210.0, \"unique_predicted_injuries\": 0.0, \"single_injury_prediction_in_52_week\": 0.0, \"cum_injury_prediction_in_52_week\": 97.0, \"type_for_52\": \"Predicted Injuries\"}, {\"index\": 788235, \"FBRefID\": \"69384e5d\", \"name\": \"Neymar\", \"date\": \"2020-12-13\", \"Min\": 0.0, \"Position:\": \"attack - Left Winger\", \"cum_week\": 389.0, \"defender\": 0, \"attacker\": 1, \"midfielder\": 0, \"goalkeeper\": 0, \"cum_injury_in_1_week\": 84.0, \"cum_injury_in_4_week\": 86.0, \"cum_injury_in_12_week\": 89.0, \"cum_injury_in_26_week\": 92.0, \"cum_injury_in_52_week\": \"\", \"Min_cum\": 0.0, \"unique_predicted_injuries\": 0.0, \"single_injury_prediction_in_52_week\": 0.0, \"cum_injury_prediction_in_52_week\": 97.0, \"type_for_52\": \"Predicted Injuries\"}, {\"index\": 788236, \"FBRefID\": \"69384e5d\", \"name\": \"Neymar\", \"date\": \"2020-12-13\", \"Min\": 90.0, \"Position:\": \"attack - Left Winger\", \"cum_week\": 389.0, \"defender\": 0, \"attacker\": 1, \"midfielder\": 0, \"goalkeeper\": 0, \"cum_injury_in_1_week\": 84.0, \"cum_injury_in_4_week\": 87.0, \"cum_injury_in_12_week\": 90.0, \"cum_injury_in_26_week\": 92.0, \"cum_injury_in_52_week\": \"\", \"Min_cum\": 90.0, \"unique_predicted_injuries\": 0.0, \"single_injury_prediction_in_52_week\": 0.0, \"cum_injury_prediction_in_52_week\": 97.0, \"type_for_52\": \"Predicted Injuries\"}, {\"index\": 788237, \"FBRefID\": \"69384e5d\", \"name\": \"Neymar\", \"date\": \"2020-12-20\", \"Min\": 180.0, \"Position:\": \"attack - Left Winger\", \"cum_week\": 390.0, \"defender\": 0, \"attacker\": 1, \"midfielder\": 0, \"goalkeeper\": 0, \"cum_injury_in_1_week\": 85.0, \"cum_injury_in_4_week\": 87.0, \"cum_injury_in_12_week\": 91.0, \"cum_injury_in_26_week\": 92.0, \"cum_injury_in_52_week\": \"\", \"Min_cum\": 270.0, \"unique_predicted_injuries\": 0.0, \"single_injury_prediction_in_52_week\": 0.0, \"cum_injury_prediction_in_52_week\": 97.0, \"type_for_52\": \"Predicted Injuries\"}, {\"index\": 788238, \"FBRefID\": \"69384e5d\", \"name\": \"Neymar\", \"date\": \"2020-12-27\", \"Min\": 0.0, \"Position:\": \"attack - Left Winger\", \"cum_week\": 391.0, \"defender\": 0, \"attacker\": 1, \"midfielder\": 0, \"goalkeeper\": 0, \"cum_injury_in_1_week\": 86.0, \"cum_injury_in_4_week\": 87.0, \"cum_injury_in_12_week\": 92.0, \"cum_injury_in_26_week\": 92.0, \"cum_injury_in_52_week\": \"\", \"Min_cum\": 0.0, \"unique_predicted_injuries\": 0.0, \"single_injury_prediction_in_52_week\": 0.0, \"cum_injury_prediction_in_52_week\": 97.0, \"type_for_52\": \"Predicted Injuries\"}, {\"index\": 788241, \"FBRefID\": \"69384e5d\", \"name\": \"Neymar\", \"date\": \"2021-01-17\", \"Min\": 116.0, \"Position:\": \"attack - Left Winger\", \"cum_week\": 394.0, \"defender\": 0, \"attacker\": 1, \"midfielder\": 0, \"goalkeeper\": 0, \"cum_injury_in_1_week\": 87.0, \"cum_injury_in_4_week\": 88.0, \"cum_injury_in_12_week\": 92.0, \"cum_injury_in_26_week\": 92.0, \"cum_injury_in_52_week\": \"\", \"Min_cum\": 116.0, \"unique_predicted_injuries\": 0.0, \"single_injury_prediction_in_52_week\": 0.0, \"cum_injury_prediction_in_52_week\": 97.0, \"type_for_52\": \"Predicted Injuries\"}, {\"index\": 788242, \"FBRefID\": \"69384e5d\", \"name\": \"Neymar\", \"date\": \"2021-01-24\", \"Min\": 90.0, \"Position:\": \"attack - Left Winger\", \"cum_week\": 395.0, \"defender\": 0, \"attacker\": 1, \"midfielder\": 0, \"goalkeeper\": 0, \"cum_injury_in_1_week\": 87.0, \"cum_injury_in_4_week\": 88.0, \"cum_injury_in_12_week\": 92.0, \"cum_injury_in_26_week\": 92.0, \"cum_injury_in_52_week\": \"\", \"Min_cum\": 206.0, \"unique_predicted_injuries\": 0.0, \"single_injury_prediction_in_52_week\": 0.0, \"cum_injury_prediction_in_52_week\": 97.0, \"type_for_52\": \"Predicted Injuries\"}, {\"index\": 788243, \"FBRefID\": \"69384e5d\", \"name\": \"Neymar\", \"date\": \"2021-01-31\", \"Min\": 90.0, \"Position:\": \"attack - Left Winger\", \"cum_week\": 396.0, \"defender\": 0, \"attacker\": 1, \"midfielder\": 0, \"goalkeeper\": 0, \"cum_injury_in_1_week\": 87.0, \"cum_injury_in_4_week\": 89.0, \"cum_injury_in_12_week\": 92.0, \"cum_injury_in_26_week\": 92.0, \"cum_injury_in_52_week\": \"\", \"Min_cum\": 296.0, \"unique_predicted_injuries\": 0.0, \"single_injury_prediction_in_52_week\": 0.0, \"cum_injury_prediction_in_52_week\": 97.0, \"type_for_52\": \"Predicted Injuries\"}, {\"index\": 788244, \"FBRefID\": \"69384e5d\", \"name\": \"Neymar\", \"date\": \"2021-02-07\", \"Min\": 26.0, \"Position:\": \"attack - Left Winger\", \"cum_week\": 397.0, \"defender\": 0, \"attacker\": 1, \"midfielder\": 0, \"goalkeeper\": 0, \"cum_injury_in_1_week\": 88.0, \"cum_injury_in_4_week\": 90.0, \"cum_injury_in_12_week\": 92.0, \"cum_injury_in_26_week\": 93.0, \"cum_injury_in_52_week\": \"\", \"Min_cum\": 322.0, \"unique_predicted_injuries\": 0.0, \"single_injury_prediction_in_52_week\": 0.0, \"cum_injury_prediction_in_52_week\": 97.0, \"type_for_52\": \"Predicted Injuries\"}, {\"index\": 788245, \"FBRefID\": \"69384e5d\", \"name\": \"Neymar\", \"date\": \"2021-02-14\", \"Min\": 0.0, \"Position:\": \"attack - Left Winger\", \"cum_week\": 398.0, \"defender\": 0, \"attacker\": 1, \"midfielder\": 0, \"goalkeeper\": 0, \"cum_injury_in_1_week\": 88.0, \"cum_injury_in_4_week\": 91.0, \"cum_injury_in_12_week\": 92.0, \"cum_injury_in_26_week\": 94.0, \"cum_injury_in_52_week\": \"\", \"Min_cum\": 0.0, \"unique_predicted_injuries\": 0.0, \"single_injury_prediction_in_52_week\": 0.0, \"cum_injury_prediction_in_52_week\": 97.0, \"type_for_52\": \"Predicted Injuries\"}, {\"index\": 788246, \"FBRefID\": \"69384e5d\", \"name\": \"Neymar\", \"date\": \"2021-02-14\", \"Min\": 59.0, \"Position:\": \"attack - Left Winger\", \"cum_week\": 398.0, \"defender\": 0, \"attacker\": 1, \"midfielder\": 0, \"goalkeeper\": 0, \"cum_injury_in_1_week\": 89.0, \"cum_injury_in_4_week\": 92.0, \"cum_injury_in_12_week\": 92.0, \"cum_injury_in_26_week\": 95.0, \"cum_injury_in_52_week\": \"\", \"Min_cum\": 59.0, \"unique_predicted_injuries\": 0.0, \"single_injury_prediction_in_52_week\": 0.0, \"cum_injury_prediction_in_52_week\": 97.0, \"type_for_52\": \"Predicted Injuries\"}, {\"index\": 788247, \"FBRefID\": \"69384e5d\", \"name\": \"Neymar\", \"date\": \"2021-02-21\", \"Min\": 0.0, \"Position:\": \"attack - Left Winger\", \"cum_week\": 399.0, \"defender\": 0, \"attacker\": 1, \"midfielder\": 0, \"goalkeeper\": 0, \"cum_injury_in_1_week\": 90.0, \"cum_injury_in_4_week\": 92.0, \"cum_injury_in_12_week\": 92.0, \"cum_injury_in_26_week\": 96.0, \"cum_injury_in_52_week\": \"\", \"Min_cum\": 0.0, \"unique_predicted_injuries\": 0.0, \"single_injury_prediction_in_52_week\": 0.0, \"cum_injury_prediction_in_52_week\": 97.0, \"type_for_52\": \"Predicted Injuries\"}, {\"index\": 788251, \"FBRefID\": \"69384e5d\", \"name\": \"Neymar\", \"date\": \"2021-03-21\", \"Min\": 21.0, \"Position:\": \"attack - Left Winger\", \"cum_week\": 403.0, \"defender\": 0, \"attacker\": 1, \"midfielder\": 0, \"goalkeeper\": 0, \"cum_injury_in_1_week\": 92.0, \"cum_injury_in_4_week\": 92.0, \"cum_injury_in_12_week\": 92.0, \"cum_injury_in_26_week\": 96.0, \"cum_injury_in_52_week\": \"\", \"Min_cum\": 21.0, \"unique_predicted_injuries\": 0.0, \"single_injury_prediction_in_52_week\": 0.0, \"cum_injury_prediction_in_52_week\": 97.0, \"type_for_52\": \"Predicted Injuries\"}, {\"index\": 788252, \"FBRefID\": \"69384e5d\", \"name\": \"Neymar\", \"date\": \"2021-03-28\", \"Min\": 0.0, \"Position:\": \"attack - Left Winger\", \"cum_week\": 404.0, \"defender\": 0, \"attacker\": 1, \"midfielder\": 0, \"goalkeeper\": 0, \"cum_injury_in_1_week\": 92.0, \"cum_injury_in_4_week\": 92.0, \"cum_injury_in_12_week\": 92.0, \"cum_injury_in_26_week\": 96.0, \"cum_injury_in_52_week\": \"\", \"Min_cum\": 21.0, \"unique_predicted_injuries\": 0.0, \"single_injury_prediction_in_52_week\": 0.0, \"cum_injury_prediction_in_52_week\": 97.0, \"type_for_52\": \"Predicted Injuries\"}, {\"index\": 788253, \"FBRefID\": \"69384e5d\", \"name\": \"Neymar\", \"date\": \"2021-04-04\", \"Min\": 89.0, \"Position:\": \"attack - Left Winger\", \"cum_week\": 405.0, \"defender\": 0, \"attacker\": 1, \"midfielder\": 0, \"goalkeeper\": 0, \"cum_injury_in_1_week\": 92.0, \"cum_injury_in_4_week\": 92.0, \"cum_injury_in_12_week\": 92.0, \"cum_injury_in_26_week\": 96.0, \"cum_injury_in_52_week\": \"\", \"Min_cum\": 110.0, \"unique_predicted_injuries\": 0.0, \"single_injury_prediction_in_52_week\": 0.0, \"cum_injury_prediction_in_52_week\": 97.0, \"type_for_52\": \"Predicted Injuries\"}, {\"index\": 788254, \"FBRefID\": \"69384e5d\", \"name\": \"Neymar\", \"date\": \"2021-04-11\", \"Min\": 89.0, \"Position:\": \"attack - Left Winger\", \"cum_week\": 406.0, \"defender\": 0, \"attacker\": 1, \"midfielder\": 0, \"goalkeeper\": 0, \"cum_injury_in_1_week\": 92.0, \"cum_injury_in_4_week\": 92.0, \"cum_injury_in_12_week\": 92.0, \"cum_injury_in_26_week\": 96.0, \"cum_injury_in_52_week\": \"\", \"Min_cum\": 199.0, \"unique_predicted_injuries\": 0.0, \"single_injury_prediction_in_52_week\": 0.0, \"cum_injury_prediction_in_52_week\": 97.0, \"type_for_52\": \"Predicted Injuries\"}, {\"index\": 788255, \"FBRefID\": \"69384e5d\", \"name\": \"Neymar\", \"date\": \"2021-04-18\", \"Min\": 90.0, \"Position:\": \"attack - Left Winger\", \"cum_week\": 407.0, \"defender\": 0, \"attacker\": 1, \"midfielder\": 0, \"goalkeeper\": 0, \"cum_injury_in_1_week\": 92.0, \"cum_injury_in_4_week\": 92.0, \"cum_injury_in_12_week\": 92.0, \"cum_injury_in_26_week\": 97.0, \"cum_injury_in_52_week\": \"\", \"Min_cum\": 289.0, \"unique_predicted_injuries\": 0.0, \"single_injury_prediction_in_52_week\": 0.0, \"cum_injury_prediction_in_52_week\": 97.0, \"type_for_52\": \"Predicted Injuries\"}, {\"index\": 788256, \"FBRefID\": \"69384e5d\", \"name\": \"Neymar\", \"date\": \"2021-04-25\", \"Min\": 151.0, \"Position:\": \"attack - Left Winger\", \"cum_week\": 408.0, \"defender\": 0, \"attacker\": 1, \"midfielder\": 0, \"goalkeeper\": 0, \"cum_injury_in_1_week\": 92.0, \"cum_injury_in_4_week\": 92.0, \"cum_injury_in_12_week\": 92.0, \"cum_injury_in_26_week\": 97.0, \"cum_injury_in_52_week\": \"\", \"Min_cum\": 440.0, \"unique_predicted_injuries\": 0.0, \"single_injury_prediction_in_52_week\": 0.0, \"cum_injury_prediction_in_52_week\": 97.0, \"type_for_52\": \"Predicted Injuries\"}, {\"index\": 788257, \"FBRefID\": \"69384e5d\", \"name\": \"Neymar\", \"date\": \"2021-05-02\", \"Min\": 179.0, \"Position:\": \"attack - Left Winger\", \"cum_week\": 409.0, \"defender\": 0, \"attacker\": 1, \"midfielder\": 0, \"goalkeeper\": 0, \"cum_injury_in_1_week\": 92.0, \"cum_injury_in_4_week\": 92.0, \"cum_injury_in_12_week\": 92.0, \"cum_injury_in_26_week\": 97.0, \"cum_injury_in_52_week\": \"\", \"Min_cum\": 619.0, \"unique_predicted_injuries\": 1.0, \"single_injury_prediction_in_52_week\": 1.0, \"cum_injury_prediction_in_52_week\": 98.0, \"type_for_52\": \"Predicted Injuries\"}, {\"index\": 788258, \"FBRefID\": \"69384e5d\", \"name\": \"Neymar\", \"date\": \"2021-05-09\", \"Min\": 180.0, \"Position:\": \"attack - Left Winger\", \"cum_week\": 410.0, \"defender\": 0, \"attacker\": 1, \"midfielder\": 0, \"goalkeeper\": 0, \"cum_injury_in_1_week\": 92.0, \"cum_injury_in_4_week\": 92.0, \"cum_injury_in_12_week\": 93.0, \"cum_injury_in_26_week\": 97.0, \"cum_injury_in_52_week\": \"\", \"Min_cum\": 799.0, \"unique_predicted_injuries\": 0.0, \"single_injury_prediction_in_52_week\": 0.0, \"cum_injury_prediction_in_52_week\": 98.0, \"type_for_52\": \"Predicted Injuries\"}, {\"index\": 788259, \"FBRefID\": \"69384e5d\", \"name\": \"Neymar\", \"date\": \"2021-05-16\", \"Min\": 125.0, \"Position:\": \"attack - Left Winger\", \"cum_week\": 411.0, \"defender\": 0, \"attacker\": 1, \"midfielder\": 0, \"goalkeeper\": 0, \"cum_injury_in_1_week\": 92.0, \"cum_injury_in_4_week\": 92.0, \"cum_injury_in_12_week\": 94.0, \"cum_injury_in_26_week\": 97.0, \"cum_injury_in_52_week\": \"\", \"Min_cum\": 924.0, \"unique_predicted_injuries\": 0.0, \"single_injury_prediction_in_52_week\": 0.0, \"cum_injury_prediction_in_52_week\": 98.0, \"type_for_52\": \"Predicted Injuries\"}, {\"index\": 788260, \"FBRefID\": \"69384e5d\", \"name\": \"Neymar\", \"date\": \"2021-05-23\", \"Min\": 90.0, \"Position:\": \"attack - Left Winger\", \"cum_week\": 412.0, \"defender\": 0, \"attacker\": 1, \"midfielder\": 0, \"goalkeeper\": 0, \"cum_injury_in_1_week\": 92.0, \"cum_injury_in_4_week\": 92.0, \"cum_injury_in_12_week\": 95.0, \"cum_injury_in_26_week\": 97.0, \"cum_injury_in_52_week\": \"\", \"Min_cum\": 1014.0, \"unique_predicted_injuries\": 0.0, \"single_injury_prediction_in_52_week\": 0.0, \"cum_injury_prediction_in_52_week\": 98.0, \"type_for_52\": \"Predicted Injuries\"}, {\"index\": 788261, \"FBRefID\": \"69384e5d\", \"name\": \"Neymar\", \"date\": \"2021-05-30\", \"Min\": 0.0, \"Position:\": \"attack - Left Winger\", \"cum_week\": 413.0, \"defender\": 0, \"attacker\": 1, \"midfielder\": 0, \"goalkeeper\": 0, \"cum_injury_in_1_week\": 92.0, \"cum_injury_in_4_week\": 92.0, \"cum_injury_in_12_week\": 96.0, \"cum_injury_in_26_week\": 97.0, \"cum_injury_in_52_week\": \"\", \"Min_cum\": 1014.0, \"unique_predicted_injuries\": 0.0, \"single_injury_prediction_in_52_week\": 0.0, \"cum_injury_prediction_in_52_week\": 98.0, \"type_for_52\": \"Predicted Injuries\"}, {\"index\": 788262, \"FBRefID\": \"69384e5d\", \"name\": \"Neymar\", \"date\": \"2021-06-06\", \"Min\": 90.0, \"Position:\": \"attack - Left Winger\", \"cum_week\": 414.0, \"defender\": 0, \"attacker\": 1, \"midfielder\": 0, \"goalkeeper\": 0, \"cum_injury_in_1_week\": 92.0, \"cum_injury_in_4_week\": 92.0, \"cum_injury_in_12_week\": 96.0, \"cum_injury_in_26_week\": 97.0, \"cum_injury_in_52_week\": \"\", \"Min_cum\": 1104.0, \"unique_predicted_injuries\": 0.0, \"single_injury_prediction_in_52_week\": 0.0, \"cum_injury_prediction_in_52_week\": 98.0, \"type_for_52\": \"Predicted Injuries\"}, {\"index\": 788263, \"FBRefID\": \"69384e5d\", \"name\": \"Neymar\", \"date\": \"2021-06-13\", \"Min\": 180.0, \"Position:\": \"attack - Left Winger\", \"cum_week\": 415.0, \"defender\": 0, \"attacker\": 1, \"midfielder\": 0, \"goalkeeper\": 0, \"cum_injury_in_1_week\": 92.0, \"cum_injury_in_4_week\": 92.0, \"cum_injury_in_12_week\": 96.0, \"cum_injury_in_26_week\": null, \"cum_injury_in_52_week\": \"\", \"Min_cum\": 1284.0, \"unique_predicted_injuries\": 0.0, \"single_injury_prediction_in_52_week\": 0.0, \"cum_injury_prediction_in_52_week\": 98.0, \"type_for_52\": \"Predicted Injuries\"}, {\"index\": 788264, \"FBRefID\": \"69384e5d\", \"name\": \"Neymar\", \"date\": \"2021-06-20\", \"Min\": 90.0, \"Position:\": \"attack - Left Winger\", \"cum_week\": 416.0, \"defender\": 0, \"attacker\": 1, \"midfielder\": 0, \"goalkeeper\": 0, \"cum_injury_in_1_week\": 92.0, \"cum_injury_in_4_week\": 92.0, \"cum_injury_in_12_week\": 96.0, \"cum_injury_in_26_week\": null, \"cum_injury_in_52_week\": \"\", \"Min_cum\": 1374.0, \"unique_predicted_injuries\": 0.0, \"single_injury_prediction_in_52_week\": 0.0, \"cum_injury_prediction_in_52_week\": 98.0, \"type_for_52\": \"Predicted Injuries\"}, {\"index\": 788265, \"FBRefID\": \"69384e5d\", \"name\": \"Neymar\", \"date\": \"2021-06-27\", \"Min\": 90.0, \"Position:\": \"attack - Left Winger\", \"cum_week\": 417.0, \"defender\": 0, \"attacker\": 1, \"midfielder\": 0, \"goalkeeper\": 0, \"cum_injury_in_1_week\": 92.0, \"cum_injury_in_4_week\": 92.0, \"cum_injury_in_12_week\": 96.0, \"cum_injury_in_26_week\": null, \"cum_injury_in_52_week\": \"\", \"Min_cum\": 1464.0, \"unique_predicted_injuries\": 0.0, \"single_injury_prediction_in_52_week\": 0.0, \"cum_injury_prediction_in_52_week\": 98.0, \"type_for_52\": \"Predicted Injuries\"}, {\"index\": 788266, \"FBRefID\": \"69384e5d\", \"name\": \"Neymar\", \"date\": \"2021-07-04\", \"Min\": 180.0, \"Position:\": \"attack - Left Winger\", \"cum_week\": 418.0, \"defender\": 0, \"attacker\": 1, \"midfielder\": 0, \"goalkeeper\": 0, \"cum_injury_in_1_week\": 92.0, \"cum_injury_in_4_week\": 93.0, \"cum_injury_in_12_week\": 96.0, \"cum_injury_in_26_week\": null, \"cum_injury_in_52_week\": \"\", \"Min_cum\": 1644.0, \"unique_predicted_injuries\": 0.0, \"single_injury_prediction_in_52_week\": 0.0, \"cum_injury_prediction_in_52_week\": 98.0, \"type_for_52\": \"Predicted Injuries\"}, {\"index\": 788267, \"FBRefID\": \"69384e5d\", \"name\": \"Neymar\", \"date\": \"2021-07-11\", \"Min\": 360.0, \"Position:\": \"attack - Left Winger\", \"cum_week\": 419.0, \"defender\": 0, \"attacker\": 1, \"midfielder\": 0, \"goalkeeper\": 0, \"cum_injury_in_1_week\": 92.0, \"cum_injury_in_4_week\": 94.0, \"cum_injury_in_12_week\": 96.0, \"cum_injury_in_26_week\": null, \"cum_injury_in_52_week\": \"\", \"Min_cum\": 2004.0, \"unique_predicted_injuries\": 0.0, \"single_injury_prediction_in_52_week\": 0.0, \"cum_injury_prediction_in_52_week\": 98.0, \"type_for_52\": \"Predicted Injuries\"}, {\"index\": 788268, \"FBRefID\": \"69384e5d\", \"name\": \"Neymar\", \"date\": \"2021-07-18\", \"Min\": 0.0, \"Position:\": \"attack - Left Winger\", \"cum_week\": 420.0, \"defender\": 0, \"attacker\": 1, \"midfielder\": 0, \"goalkeeper\": 0, \"cum_injury_in_1_week\": 92.0, \"cum_injury_in_4_week\": 95.0, \"cum_injury_in_12_week\": 96.0, \"cum_injury_in_26_week\": null, \"cum_injury_in_52_week\": \"\", \"Min_cum\": 2004.0, \"unique_predicted_injuries\": 0.0, \"single_injury_prediction_in_52_week\": 0.0, \"cum_injury_prediction_in_52_week\": 98.0, \"type_for_52\": \"Predicted Injuries\"}, {\"index\": 788269, \"FBRefID\": \"69384e5d\", \"name\": \"Neymar\", \"date\": \"2021-07-25\", \"Min\": 0.0, \"Position:\": \"attack - Left Winger\", \"cum_week\": 421.0, \"defender\": 0, \"attacker\": 1, \"midfielder\": 0, \"goalkeeper\": 0, \"cum_injury_in_1_week\": 93.0, \"cum_injury_in_4_week\": 96.0, \"cum_injury_in_12_week\": 97.0, \"cum_injury_in_26_week\": null, \"cum_injury_in_52_week\": \"\", \"Min_cum\": 2004.0, \"unique_predicted_injuries\": 0.0, \"single_injury_prediction_in_52_week\": 0.0, \"cum_injury_prediction_in_52_week\": 98.0, \"type_for_52\": \"Predicted Injuries\"}, {\"index\": 788270, \"FBRefID\": \"69384e5d\", \"name\": \"Neymar\", \"date\": \"2021-08-01\", \"Min\": 0.0, \"Position:\": \"attack - Left Winger\", \"cum_week\": 422.0, \"defender\": 0, \"attacker\": 1, \"midfielder\": 0, \"goalkeeper\": 0, \"cum_injury_in_1_week\": 94.0, \"cum_injury_in_4_week\": 96.0, \"cum_injury_in_12_week\": 97.0, \"cum_injury_in_26_week\": null, \"cum_injury_in_52_week\": \"\", \"Min_cum\": 0.0, \"unique_predicted_injuries\": 0.0, \"single_injury_prediction_in_52_week\": 0.0, \"cum_injury_prediction_in_52_week\": 98.0, \"type_for_52\": \"Predicted Injuries\"}, {\"index\": 788274, \"FBRefID\": \"69384e5d\", \"name\": \"Neymar\", \"date\": \"2021-08-29\", \"Min\": 130.0, \"Position:\": \"attack - Left Winger\", \"cum_week\": 426.0, \"defender\": 0, \"attacker\": 1, \"midfielder\": 0, \"goalkeeper\": 0, \"cum_injury_in_1_week\": 96.0, \"cum_injury_in_4_week\": 96.0, \"cum_injury_in_12_week\": 97.0, \"cum_injury_in_26_week\": null, \"cum_injury_in_52_week\": \"\", \"Min_cum\": 130.0, \"unique_predicted_injuries\": 0.0, \"single_injury_prediction_in_52_week\": 0.0, \"cum_injury_prediction_in_52_week\": 98.0, \"type_for_52\": \"Predicted Injuries\"}, {\"index\": 788275, \"FBRefID\": \"69384e5d\", \"name\": \"Neymar\", \"date\": \"2021-09-05\", \"Min\": 90.0, \"Position:\": \"attack - Left Winger\", \"cum_week\": 427.0, \"defender\": 0, \"attacker\": 1, \"midfielder\": 0, \"goalkeeper\": 0, \"cum_injury_in_1_week\": 96.0, \"cum_injury_in_4_week\": 96.0, \"cum_injury_in_12_week\": 97.0, \"cum_injury_in_26_week\": null, \"cum_injury_in_52_week\": \"\", \"Min_cum\": 220.0, \"unique_predicted_injuries\": 0.0, \"single_injury_prediction_in_52_week\": 0.0, \"cum_injury_prediction_in_52_week\": 98.0, \"type_for_52\": \"Predicted Injuries\"}, {\"index\": 788276, \"FBRefID\": \"69384e5d\", \"name\": \"Neymar\", \"date\": \"2021-09-12\", \"Min\": 90.0, \"Position:\": \"attack - Left Winger\", \"cum_week\": 428.0, \"defender\": 0, \"attacker\": 1, \"midfielder\": 0, \"goalkeeper\": 0, \"cum_injury_in_1_week\": 96.0, \"cum_injury_in_4_week\": 96.0, \"cum_injury_in_12_week\": 97.0, \"cum_injury_in_26_week\": null, \"cum_injury_in_52_week\": \"\", \"Min_cum\": 310.0, \"unique_predicted_injuries\": 0.0, \"single_injury_prediction_in_52_week\": 0.0, \"cum_injury_prediction_in_52_week\": 98.0, \"type_for_52\": \"Predicted Injuries\"}, {\"index\": 788277, \"FBRefID\": \"69384e5d\", \"name\": \"Neymar\", \"date\": \"2021-09-19\", \"Min\": 360.0, \"Position:\": \"attack - Left Winger\", \"cum_week\": 429.0, \"defender\": 0, \"attacker\": 1, \"midfielder\": 0, \"goalkeeper\": 0, \"cum_injury_in_1_week\": 96.0, \"cum_injury_in_4_week\": 97.0, \"cum_injury_in_12_week\": null, \"cum_injury_in_26_week\": null, \"cum_injury_in_52_week\": \"\", \"Min_cum\": 670.0, \"unique_predicted_injuries\": 0.0, \"single_injury_prediction_in_52_week\": 0.0, \"cum_injury_prediction_in_52_week\": 98.0, \"type_for_52\": \"Predicted Injuries\"}, {\"index\": 788278, \"FBRefID\": \"69384e5d\", \"name\": \"Neymar\", \"date\": \"2021-09-26\", \"Min\": 360.0, \"Position:\": \"attack - Left Winger\", \"cum_week\": 430.0, \"defender\": 0, \"attacker\": 1, \"midfielder\": 0, \"goalkeeper\": 0, \"cum_injury_in_1_week\": 96.0, \"cum_injury_in_4_week\": 97.0, \"cum_injury_in_12_week\": null, \"cum_injury_in_26_week\": null, \"cum_injury_in_52_week\": \"\", \"Min_cum\": 1030.0, \"unique_predicted_injuries\": 0.0, \"single_injury_prediction_in_52_week\": 0.0, \"cum_injury_prediction_in_52_week\": 98.0, \"type_for_52\": \"Predicted Injuries\"}, {\"index\": 788279, \"FBRefID\": \"69384e5d\", \"name\": \"Neymar\", \"date\": \"2021-10-03\", \"Min\": 330.0, \"Position:\": \"attack - Left Winger\", \"cum_week\": 431.0, \"defender\": 0, \"attacker\": 1, \"midfielder\": 0, \"goalkeeper\": 0, \"cum_injury_in_1_week\": 96.0, \"cum_injury_in_4_week\": 97.0, \"cum_injury_in_12_week\": null, \"cum_injury_in_26_week\": null, \"cum_injury_in_52_week\": \"\", \"Min_cum\": 1360.0, \"unique_predicted_injuries\": 0.0, \"single_injury_prediction_in_52_week\": 0.0, \"cum_injury_prediction_in_52_week\": 98.0, \"type_for_52\": \"Predicted Injuries\"}, {\"index\": 788280, \"FBRefID\": \"69384e5d\", \"name\": \"Neymar\", \"date\": \"2021-10-10\", \"Min\": 90.0, \"Position:\": \"attack - Left Winger\", \"cum_week\": 432.0, \"defender\": 0, \"attacker\": 1, \"midfielder\": 0, \"goalkeeper\": 0, \"cum_injury_in_1_week\": 97.0, \"cum_injury_in_4_week\": 97.0, \"cum_injury_in_12_week\": null, \"cum_injury_in_26_week\": null, \"cum_injury_in_52_week\": \"\", \"Min_cum\": 1450.0, \"unique_predicted_injuries\": 0.0, \"single_injury_prediction_in_52_week\": 0.0, \"cum_injury_prediction_in_52_week\": 98.0, \"type_for_52\": \"Predicted Injuries\"}, {\"index\": 788281, \"FBRefID\": \"69384e5d\", \"name\": \"Neymar\", \"date\": \"2021-10-17\", \"Min\": 0.0, \"Position:\": \"attack - Left Winger\", \"cum_week\": 433.0, \"defender\": 0, \"attacker\": 1, \"midfielder\": 0, \"goalkeeper\": 0, \"cum_injury_in_1_week\": 97.0, \"cum_injury_in_4_week\": 97.0, \"cum_injury_in_12_week\": null, \"cum_injury_in_26_week\": null, \"cum_injury_in_52_week\": \"\", \"Min_cum\": 0.0, \"unique_predicted_injuries\": 0.0, \"single_injury_prediction_in_52_week\": 0.0, \"cum_injury_prediction_in_52_week\": 98.0, \"type_for_52\": \"Predicted Injuries\"}, {\"index\": 788282, \"FBRefID\": \"69384e5d\", \"name\": \"Neymar\", \"date\": \"2021-10-17\", \"Min\": 90.0, \"Position:\": \"attack - Left Winger\", \"cum_week\": 433.0, \"defender\": 0, \"attacker\": 1, \"midfielder\": 0, \"goalkeeper\": 0, \"cum_injury_in_1_week\": 97.0, \"cum_injury_in_4_week\": 97.0, \"cum_injury_in_12_week\": null, \"cum_injury_in_26_week\": null, \"cum_injury_in_52_week\": \"\", \"Min_cum\": 90.0, \"unique_predicted_injuries\": 1.0, \"single_injury_prediction_in_52_week\": 1.0, \"cum_injury_prediction_in_52_week\": 99.0, \"type_for_52\": \"Predicted Injuries\"}, {\"index\": 788283, \"FBRefID\": \"69384e5d\", \"name\": \"Neymar\", \"date\": \"2021-10-24\", \"Min\": 164.0, \"Position:\": \"attack - Left Winger\", \"cum_week\": 434.0, \"defender\": 0, \"attacker\": 1, \"midfielder\": 0, \"goalkeeper\": 0, \"cum_injury_in_1_week\": 97.0, \"cum_injury_in_4_week\": 97.0, \"cum_injury_in_12_week\": null, \"cum_injury_in_26_week\": null, \"cum_injury_in_52_week\": \"\", \"Min_cum\": 254.0, \"unique_predicted_injuries\": 0.0, \"single_injury_prediction_in_52_week\": 0.0, \"cum_injury_prediction_in_52_week\": 99.0, \"type_for_52\": \"Predicted Injuries\"}, {\"index\": 788284, \"FBRefID\": \"69384e5d\", \"name\": \"Neymar\", \"date\": \"2021-10-31\", \"Min\": 180.0, \"Position:\": \"attack - Left Winger\", \"cum_week\": 435.0, \"defender\": 0, \"attacker\": 1, \"midfielder\": 0, \"goalkeeper\": 0, \"cum_injury_in_1_week\": 97.0, \"cum_injury_in_4_week\": 97.0, \"cum_injury_in_12_week\": null, \"cum_injury_in_26_week\": null, \"cum_injury_in_52_week\": \"\", \"Min_cum\": 434.0, \"unique_predicted_injuries\": 0.0, \"single_injury_prediction_in_52_week\": 0.0, \"cum_injury_prediction_in_52_week\": 99.0, \"type_for_52\": \"Predicted Injuries\"}, {\"index\": 788285, \"FBRefID\": \"69384e5d\", \"name\": \"Neymar\", \"date\": \"2021-11-07\", \"Min\": 360.0, \"Position:\": \"attack - Left Winger\", \"cum_week\": 436.0, \"defender\": 0, \"attacker\": 1, \"midfielder\": 0, \"goalkeeper\": 0, \"cum_injury_in_1_week\": 97.0, \"cum_injury_in_4_week\": null, \"cum_injury_in_12_week\": null, \"cum_injury_in_26_week\": null, \"cum_injury_in_52_week\": \"\", \"Min_cum\": 794.0, \"unique_predicted_injuries\": 0.0, \"single_injury_prediction_in_52_week\": 0.0, \"cum_injury_prediction_in_52_week\": 99.0, \"type_for_52\": \"Predicted Injuries\"}, {\"index\": 788286, \"FBRefID\": \"69384e5d\", \"name\": \"Neymar\", \"date\": \"2021-11-14\", \"Min\": 90.0, \"Position:\": \"attack - Left Winger\", \"cum_week\": 437.0, \"defender\": 0, \"attacker\": 1, \"midfielder\": 0, \"goalkeeper\": 0, \"cum_injury_in_1_week\": 97.0, \"cum_injury_in_4_week\": null, \"cum_injury_in_12_week\": null, \"cum_injury_in_26_week\": null, \"cum_injury_in_52_week\": \"\", \"Min_cum\": 884.0, \"unique_predicted_injuries\": 0.0, \"single_injury_prediction_in_52_week\": 0.0, \"cum_injury_prediction_in_52_week\": 99.0, \"type_for_52\": \"Predicted Injuries\"}, {\"index\": 788287, \"FBRefID\": \"69384e5d\", \"name\": \"Neymar\", \"date\": \"2021-11-21\", \"Min\": 134.0, \"Position:\": \"attack - Left Winger\", \"cum_week\": 438.0, \"defender\": 0, \"attacker\": 1, \"midfielder\": 0, \"goalkeeper\": 0, \"cum_injury_in_1_week\": 97.0, \"cum_injury_in_4_week\": null, \"cum_injury_in_12_week\": null, \"cum_injury_in_26_week\": null, \"cum_injury_in_52_week\": \"\", \"Min_cum\": 1018.0, \"unique_predicted_injuries\": 0.0, \"single_injury_prediction_in_52_week\": 0.0, \"cum_injury_prediction_in_52_week\": 99.0, \"type_for_52\": \"Predicted Injuries\"}, {\"index\": 788288, \"FBRefID\": \"69384e5d\", \"name\": \"Neymar\", \"date\": \"2021-11-28\", \"Min\": 354.0, \"Position:\": \"attack - Left Winger\", \"cum_week\": 439.0, \"defender\": 0, \"attacker\": 1, \"midfielder\": 0, \"goalkeeper\": 0, \"cum_injury_in_1_week\": null, \"cum_injury_in_4_week\": null, \"cum_injury_in_12_week\": null, \"cum_injury_in_26_week\": null, \"cum_injury_in_52_week\": \"\", \"Min_cum\": 1372.0, \"unique_predicted_injuries\": 0.0, \"single_injury_prediction_in_52_week\": 0.0, \"cum_injury_prediction_in_52_week\": 99.0, \"type_for_52\": \"Predicted Injuries\"}]}}, {\"mode\": \"vega-lite\"});\n",
       "</script>"
      ],
      "text/plain": [
       "alt.Chart(...)"
      ]
     },
     "execution_count": 57,
     "metadata": {},
     "output_type": "execute_result"
    }
   ],
   "source": [
    "result_52_weeks"
   ]
  },
  {
   "cell_type": "code",
   "execution_count": null,
   "metadata": {},
   "outputs": [],
   "source": []
  }
 ],
 "metadata": {
  "interpreter": {
   "hash": "aee8b7b246df8f9039afb4144a1f6fd8d2ca17a180786b69acc140d282b71a49"
  },
  "kernelspec": {
   "display_name": "Python 3",
   "language": "python",
   "name": "python3"
  },
  "language_info": {
   "codemirror_mode": {
    "name": "ipython",
    "version": 3
   },
   "file_extension": ".py",
   "mimetype": "text/x-python",
   "name": "python",
   "nbconvert_exporter": "python",
   "pygments_lexer": "ipython3",
   "version": "3.8.8"
  }
 },
 "nbformat": 4,
 "nbformat_minor": 2
}
