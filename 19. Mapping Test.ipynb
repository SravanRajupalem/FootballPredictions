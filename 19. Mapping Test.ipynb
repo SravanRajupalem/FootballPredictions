{
 "cells": [
  {
   "cell_type": "code",
   "execution_count": 1,
   "metadata": {},
   "outputs": [],
   "source": [
    "import datetime\n",
    "from datetime import date\n",
    "import requests\n",
    "import pprint\n",
    "from bs4 import BeautifulSoup\n",
    "import pandas as pd\n",
    "import re\n",
    "import pickle\n",
    "from urllib.request import urlopen\n",
    "import glob\n",
    "# import altair as alt\n",
    "import time\n",
    "import itertools\n",
    "import numpy as np\n",
    "import operator\n",
    "\n",
    "pd.options.display.max_columns = 100\n",
    "\n"
   ]
  },
  {
   "cell_type": "code",
   "execution_count": 16,
   "metadata": {},
   "outputs": [],
   "source": [
    "# Loading Mapping test CSV\n",
    "\n",
    "mapping_df = pd.read_csv('/Volumes/GoogleDrive/.shortcut-targets-by-id/1KUGn_35OjAoOP2puz6yG-2g_8LBxvDG_/SIADS 697 - Capstone/CSV Files/fbref_to_tm_mapping.csv')"
   ]
  },
  {
   "cell_type": "code",
   "execution_count": 3,
   "metadata": {},
   "outputs": [
    {
     "data": {
      "text/html": [
       "<div>\n",
       "<style scoped>\n",
       "    .dataframe tbody tr th:only-of-type {\n",
       "        vertical-align: middle;\n",
       "    }\n",
       "\n",
       "    .dataframe tbody tr th {\n",
       "        vertical-align: top;\n",
       "    }\n",
       "\n",
       "    .dataframe thead th {\n",
       "        text-align: right;\n",
       "    }\n",
       "</style>\n",
       "<table border=\"1\" class=\"dataframe\">\n",
       "  <thead>\n",
       "    <tr style=\"text-align: right;\">\n",
       "      <th></th>\n",
       "      <th>PlayerFBref</th>\n",
       "      <th>UrlFBref</th>\n",
       "      <th>UrlTmarkt</th>\n",
       "      <th>TmPos</th>\n",
       "    </tr>\n",
       "  </thead>\n",
       "  <tbody>\n",
       "    <tr>\n",
       "      <th>0</th>\n",
       "      <td>Aaron Connolly</td>\n",
       "      <td>https://fbref.com/en/players/27c01749/Aaron-Co...</td>\n",
       "      <td>https://www.transfermarkt.com/aaron-connolly/p...</td>\n",
       "      <td>Centre-Forward</td>\n",
       "    </tr>\n",
       "    <tr>\n",
       "      <th>1</th>\n",
       "      <td>Aaron Cresswell</td>\n",
       "      <td>https://fbref.com/en/players/4f974391/Aaron-Cr...</td>\n",
       "      <td>https://www.transfermarkt.com/aaron-cresswell/...</td>\n",
       "      <td>Left-Back</td>\n",
       "    </tr>\n",
       "    <tr>\n",
       "      <th>2</th>\n",
       "      <td>Aarón Escandell</td>\n",
       "      <td>https://fbref.com/en/players/67669ce7/Aaron-Es...</td>\n",
       "      <td>https://www.transfermarkt.com/aaron-escandell/...</td>\n",
       "      <td>Goalkeeper</td>\n",
       "    </tr>\n",
       "    <tr>\n",
       "      <th>3</th>\n",
       "      <td>Aaron Herzog</td>\n",
       "      <td>https://fbref.com/en/players/565c3fe4/Aaron-He...</td>\n",
       "      <td>https://www.transfermarkt.com/aaron-herzog/pro...</td>\n",
       "      <td>Attacking Midfield</td>\n",
       "    </tr>\n",
       "    <tr>\n",
       "      <th>4</th>\n",
       "      <td>Aaron Hickey</td>\n",
       "      <td>https://fbref.com/en/players/1780bb4a/Aaron-Hi...</td>\n",
       "      <td>https://www.transfermarkt.com/aaron-hickey/pro...</td>\n",
       "      <td>Left-Back</td>\n",
       "    </tr>\n",
       "  </tbody>\n",
       "</table>\n",
       "</div>"
      ],
      "text/plain": [
       "       PlayerFBref                                           UrlFBref  \\\n",
       "0   Aaron Connolly  https://fbref.com/en/players/27c01749/Aaron-Co...   \n",
       "1  Aaron Cresswell  https://fbref.com/en/players/4f974391/Aaron-Cr...   \n",
       "2  Aarón Escandell  https://fbref.com/en/players/67669ce7/Aaron-Es...   \n",
       "3     Aaron Herzog  https://fbref.com/en/players/565c3fe4/Aaron-He...   \n",
       "4     Aaron Hickey  https://fbref.com/en/players/1780bb4a/Aaron-Hi...   \n",
       "\n",
       "                                           UrlTmarkt               TmPos  \n",
       "0  https://www.transfermarkt.com/aaron-connolly/p...      Centre-Forward  \n",
       "1  https://www.transfermarkt.com/aaron-cresswell/...           Left-Back  \n",
       "2  https://www.transfermarkt.com/aaron-escandell/...          Goalkeeper  \n",
       "3  https://www.transfermarkt.com/aaron-herzog/pro...  Attacking Midfield  \n",
       "4  https://www.transfermarkt.com/aaron-hickey/pro...           Left-Back  "
      ]
     },
     "execution_count": 3,
     "metadata": {},
     "output_type": "execute_result"
    }
   ],
   "source": [
    "mapping_df.head()"
   ]
  },
  {
   "cell_type": "code",
   "execution_count": 18,
   "metadata": {},
   "outputs": [
    {
     "data": {
      "text/html": [
       "<div>\n",
       "<style scoped>\n",
       "    .dataframe tbody tr th:only-of-type {\n",
       "        vertical-align: middle;\n",
       "    }\n",
       "\n",
       "    .dataframe tbody tr th {\n",
       "        vertical-align: top;\n",
       "    }\n",
       "\n",
       "    .dataframe thead th {\n",
       "        text-align: right;\n",
       "    }\n",
       "</style>\n",
       "<table border=\"1\" class=\"dataframe\">\n",
       "  <thead>\n",
       "    <tr style=\"text-align: right;\">\n",
       "      <th></th>\n",
       "      <th>PlayerFBref</th>\n",
       "      <th>UrlFBref</th>\n",
       "      <th>UrlTmarkt</th>\n",
       "      <th>TmPos</th>\n",
       "    </tr>\n",
       "  </thead>\n",
       "  <tbody>\n",
       "    <tr>\n",
       "      <th>3182</th>\n",
       "      <td>Junior Messias</td>\n",
       "      <td>https://fbref.com/en/players/f49c4ae9/Junior-M...</td>\n",
       "      <td>https://www.transfermarkt.com/junior-messias/p...</td>\n",
       "      <td>Second Striker</td>\n",
       "    </tr>\n",
       "    <tr>\n",
       "      <th>3555</th>\n",
       "      <td>Lionel Messi</td>\n",
       "      <td>https://fbref.com/en/players/d70ce98e/Lionel-M...</td>\n",
       "      <td>https://www.transfermarkt.com/lionel-messi/pro...</td>\n",
       "      <td>Right Winger</td>\n",
       "    </tr>\n",
       "  </tbody>\n",
       "</table>\n",
       "</div>"
      ],
      "text/plain": [
       "         PlayerFBref                                           UrlFBref  \\\n",
       "3182  Junior Messias  https://fbref.com/en/players/f49c4ae9/Junior-M...   \n",
       "3555    Lionel Messi  https://fbref.com/en/players/d70ce98e/Lionel-M...   \n",
       "\n",
       "                                              UrlTmarkt           TmPos  \n",
       "3182  https://www.transfermarkt.com/junior-messias/p...  Second Striker  \n",
       "3555  https://www.transfermarkt.com/lionel-messi/pro...    Right Winger  "
      ]
     },
     "execution_count": 18,
     "metadata": {},
     "output_type": "execute_result"
    }
   ],
   "source": [
    "mapping_df[mapping_df['UrlFBref'].str.contains('Messi')]"
   ]
  },
  {
   "cell_type": "code",
   "execution_count": null,
   "metadata": {},
   "outputs": [],
   "source": []
  }
 ],
 "metadata": {
  "interpreter": {
   "hash": "aee8b7b246df8f9039afb4144a1f6fd8d2ca17a180786b69acc140d282b71a49"
  },
  "kernelspec": {
   "display_name": "Python 3.9.7 64-bit",
   "language": "python",
   "name": "python3"
  },
  "language_info": {
   "codemirror_mode": {
    "name": "ipython",
    "version": 3
   },
   "file_extension": ".py",
   "mimetype": "text/x-python",
   "name": "python",
   "nbconvert_exporter": "python",
   "pygments_lexer": "ipython3",
   "version": "3.8.8"
  },
  "orig_nbformat": 4
 },
 "nbformat": 4,
 "nbformat_minor": 2
}
