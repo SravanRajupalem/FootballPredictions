{
 "cells": [
  {
   "cell_type": "code",
   "execution_count": 1,
   "metadata": {},
   "outputs": [],
   "source": [
    "import datetime\n",
    "from datetime import date\n",
    "import requests\n",
    "import pprint\n",
    "from bs4 import BeautifulSoup\n",
    "import pandas as pd\n",
    "import re\n",
    "import pickle\n",
    "from urllib.request import urlopen\n",
    "import glob\n",
    "import altair as alt\n"
   ]
  },
  {
   "cell_type": "code",
   "execution_count": 2,
   "metadata": {},
   "outputs": [
    {
     "name": "stderr",
     "output_type": "stream",
     "text": [
      "/Users/renzomaldonado/opt/anaconda3/lib/python3.8/site-packages/IPython/core/interactiveshell.py:3165: DtypeWarning: Columns (19,20,21,23,24,25,26,27,28,29,30,31,32,33,34,35,36) have mixed types.Specify dtype option on import or set low_memory=False.\n",
      "  has_raised = await self.run_ast_nodes(code_ast.body, cell_name,\n",
      "/Users/renzomaldonado/opt/anaconda3/lib/python3.8/site-packages/IPython/core/interactiveshell.py:3165: DtypeWarning: Columns (20,21,22,24,25,26,27,28,29,30,31,32,33,34,35,36,37) have mixed types.Specify dtype option on import or set low_memory=False.\n",
      "  has_raised = await self.run_ast_nodes(code_ast.body, cell_name,\n"
     ]
    }
   ],
   "source": [
    "# Reading Dataframes \n",
    "\n",
    "# path = r'/Volumes/GoogleDrive/.shortcut-targets-by-id/1KUGn_35OjAoOP2puz6yG-2g_8LBxvDG_/SIADS 697 - Capstone/Dataframes/'\n",
    "# all_files = glob.glob(path + \"df_final*.csv\")\n",
    "\n",
    "# li = []\n",
    "\n",
    "# for filename in all_files:\n",
    "#     df = pd.read_csv(filename, index_col=None, header=0)\n",
    "#     li.append(df)\n",
    "\n",
    "# frame = pd.concat(li, axis=0, ignore_index=True)\n",
    "\n",
    "\n",
    "df_final_1 = pd.read_csv('/Volumes/GoogleDrive/.shortcut-targets-by-id/1KUGn_35OjAoOP2puz6yG-2g_8LBxvDG_/SIADS 697 - Capstone/Dataframes/df_final_1.csv')\n",
    "df_final_2 = pd.read_csv('/Volumes/GoogleDrive/.shortcut-targets-by-id/1KUGn_35OjAoOP2puz6yG-2g_8LBxvDG_/SIADS 697 - Capstone/Dataframes/df_final_2.csv')\n",
    "df_final_3 = pd.read_csv('/Volumes/GoogleDrive/.shortcut-targets-by-id/1KUGn_35OjAoOP2puz6yG-2g_8LBxvDG_/SIADS 697 - Capstone/Dataframes/df_final_3.csv')\n",
    "df_final_4 = pd.read_csv('/Volumes/GoogleDrive/.shortcut-targets-by-id/1KUGn_35OjAoOP2puz6yG-2g_8LBxvDG_/SIADS 697 - Capstone/Dataframes/df_final_4.csv')\n",
    "df_final_5 = pd.read_csv('/Volumes/GoogleDrive/.shortcut-targets-by-id/1KUGn_35OjAoOP2puz6yG-2g_8LBxvDG_/SIADS 697 - Capstone/Dataframes/df_final_5.csv')\n",
    "df_final_6 = pd.read_csv('/Volumes/GoogleDrive/.shortcut-targets-by-id/1KUGn_35OjAoOP2puz6yG-2g_8LBxvDG_/SIADS 697 - Capstone/Dataframes/df_final_6.csv')\n",
    "df_final_7 = pd.read_csv('/Volumes/GoogleDrive/.shortcut-targets-by-id/1KUGn_35OjAoOP2puz6yG-2g_8LBxvDG_/SIADS 697 - Capstone/Dataframes/df_final_7.csv')\n",
    "df_final_8 = pd.read_csv('/Volumes/GoogleDrive/.shortcut-targets-by-id/1KUGn_35OjAoOP2puz6yG-2g_8LBxvDG_/SIADS 697 - Capstone/Dataframes/df_final_8.csv')\n",
    "df_final_9 = pd.read_csv('/Volumes/GoogleDrive/.shortcut-targets-by-id/1KUGn_35OjAoOP2puz6yG-2g_8LBxvDG_/SIADS 697 - Capstone/Dataframes/df_final_9.csv')\n",
    "df_final_10 = pd.read_csv('/Volumes/GoogleDrive/.shortcut-targets-by-id/1KUGn_35OjAoOP2puz6yG-2g_8LBxvDG_/SIADS 697 - Capstone/Dataframes/df_final_10.csv')\n",
    "df_final_11 = pd.read_csv('/Volumes/GoogleDrive/.shortcut-targets-by-id/1KUGn_35OjAoOP2puz6yG-2g_8LBxvDG_/SIADS 697 - Capstone/Dataframes/df_final_11.csv')\n",
    "df_final_12 = pd.read_csv('/Volumes/GoogleDrive/.shortcut-targets-by-id/1KUGn_35OjAoOP2puz6yG-2g_8LBxvDG_/SIADS 697 - Capstone/Dataframes/df_final_12.csv')\n",
    "\n",
    "# match_logs_list_urls = pd.read_csv('/Users/vruiz.CDS/Downloads/Capstone Files/match_logs_list_urls.csv')\n"
   ]
  },
  {
   "cell_type": "code",
   "execution_count": 3,
   "metadata": {},
   "outputs": [
    {
     "name": "stdout",
     "output_type": "stream",
     "text": [
      "df_final_1 shape is: (149836, 48)\n",
      "df_final_2 shape is: (148383, 48)\n",
      "df_final_3 shape is: (149413, 48)\n",
      "df_final_4 shape is: (147890, 49)\n",
      "df_final_5 shape is: (146948, 48)\n",
      "df_final_6 shape is: (147044, 49)\n",
      "df_final_7 shape is: (299139, 48)\n",
      "df_final_8 shape is: (295940, 48)\n",
      "df_final_9 shape is: (297275, 48)\n",
      "df_final_10 shape is: (297725, 48)\n",
      "df_final_11 shape is: (297830, 48)\n",
      "df_final_12 shape is: (145823, 48)\n"
     ]
    }
   ],
   "source": [
    "print('df_final_1 shape is:', df_final_1.shape)\n",
    "print('df_final_2 shape is:', df_final_2.shape)\n",
    "print('df_final_3 shape is:', df_final_3.shape)\n",
    "print('df_final_4 shape is:', df_final_4.shape)\n",
    "print('df_final_5 shape is:', df_final_5.shape)\n",
    "print('df_final_6 shape is:', df_final_6.shape)\n",
    "print('df_final_7 shape is:', df_final_7.shape)\n",
    "print('df_final_8 shape is:', df_final_8.shape)\n",
    "print('df_final_9 shape is:', df_final_9.shape)\n",
    "print('df_final_10 shape is:', df_final_10.shape)\n",
    "print('df_final_11 shape is:', df_final_11.shape)\n",
    "print('df_final_12 shape is:', df_final_12.shape)"
   ]
  },
  {
   "cell_type": "code",
   "execution_count": 4,
   "metadata": {},
   "outputs": [],
   "source": [
    "# Dropping Unwanted Columns from dataframes 4 and 6\n",
    "\n",
    "df_final_4.drop(columns=['Unnamed: 0'], inplace=True)\n",
    "df_final_6.drop(columns=['Unnamed: 0'], inplace=True)"
   ]
  },
  {
   "cell_type": "code",
   "execution_count": 5,
   "metadata": {},
   "outputs": [],
   "source": [
    "# Concatenating df_final data frames\n",
    "\n",
    "df_final_list = [df_final_1, df_final_2, df_final_3, df_final_4, df_final_5, df_final_6, \n",
    "                df_final_7, df_final_8, df_final_9, df_final_10, df_final_11, df_final_12]\n",
    "df_final = pd.concat(df_final_list, axis=0, ignore_index=True)"
   ]
  },
  {
   "cell_type": "code",
   "execution_count": 13,
   "metadata": {},
   "outputs": [
    {
     "name": "stdout",
     "output_type": "stream",
     "text": [
      "(2523246, 48)\n",
      "11347\n",
      "(2197300, 48)\n",
      "11347\n"
     ]
    }
   ],
   "source": [
    "# Cleaning NaN's from df_final\n",
    "\n",
    "pd.options.display.max_columns = 50 # to set maximum diplay width\n",
    "\n",
    "print(df_final.shape)\n",
    "print(len(df_final['name'].unique()))\n",
    "\n",
    "df_final.dropna(axis = 0, subset=['Date'], inplace = True)\n",
    "print(df_final.shape)\n",
    "print(len(df_final['name'].unique()))"
   ]
  },
  {
   "cell_type": "code",
   "execution_count": 17,
   "metadata": {},
   "outputs": [],
   "source": [
    "# Dropping unwanted columns from df_final\n",
    "\n",
    "df_final.drop(columns = ['Match Report'], inplace = True)"
   ]
  },
  {
   "cell_type": "code",
   "execution_count": 20,
   "metadata": {},
   "outputs": [],
   "source": [
    "# Converting date columns to datetime\n",
    "\n",
    "df_final['Date'] = pd.to_datetime(df_final['Date'])"
   ]
  },
  {
   "cell_type": "code",
   "execution_count": 28,
   "metadata": {},
   "outputs": [],
   "source": [
    "# Converting Value Types\n",
    "# df_final['Min'] = df_final['Min'].astype(float)\n",
    "# df_final['Gls'] = df_final['Gls'].astype(float)\n",
    "# df_final['Ast'] = df_final['Ast'].astype(float)\n",
    "# df_final['PK'] = df_final['PK'].astype(float)\n",
    "# df_final['PKatt'] = df_final['PKatt'].astype(float)\n",
    "# df_final['Sh'] = df_final['Sh'].astype(float)\n",
    "# df_final['SoT'] = df_final['SoT'].astype(float)\n",
    "# df_final['CrdY'] = df_final['CrdY'].astype(float)\n",
    "# df_final['CrdR'] = df_final['CrdR'].astype(float)\n",
    "# df_final['Touches'] = df_final['Touches'].astype(float)\n",
    "# df_final['Press'] = df_final['Press'].astype(float)\n",
    "# df_final['Tkl'] = df_final['Tkl'].astype(float)\n",
    "# df_final['Int'] = df_final['Int'].astype(float)\n",
    "# df_final['Blocks'] = df_final['Blocks'].astype(float)\n",
    "# df_final['xG'] = df_final['xG'].astype(float)\n",
    "# df_final['npxG'] = df_final['npxG'].astype(float)\n",
    "# df_final['xA'] = df_final['xA'].astype(float)\n",
    "# df_final['SCA'] = df_final['SCA'].astype(float)\n",
    "# df_final['GCA'] = df_final['GCA'].astype(float)\n",
    "# df_final['Cmp'] = df_final['Cmp'].astype(float)\n",
    "# df_final['Att'] = df_final['Att'].astype(float)\n",
    "# df_final['Cmp%'] = df_final['Cmp%'].astype(float)\n",
    "# df_final['Prog'] = df_final['Prog'].astype(float)\n",
    "# df_final['Carries'] = df_final['Carries'].astype(float)\n",
    "# df_final['Prog.1'] = df_final['Prog.1'].astype(float)\n",
    "# df_final['Succ'] = df_final['Succ'].astype(float)\n",
    "# df_final['Att.1'] = df_final['Att.1'].astype(float)\n",
    "# df_final['Fls'] = df_final['Fls'].astype(float)\n",
    "# df_final['Fld'] = df_final['Fld'].astype(float)\n",
    "# df_final['Off'] = df_final['Off'].astype(float)\n",
    "# df_final['Crs'] = df_final['Crs'].astype(float)\n",
    "# df_final['TklW'] = df_final['TklW'].astype(float)\n",
    "# df_final['OG'] = df_final['OG'].astype(float)\n",
    "# df_final['PKwon'] = df_final['PKwon'].astype(float)\n",
    "# df_final['PKcon'] = df_final['PKcon'].astype(float)\n"
   ]
  },
  {
   "cell_type": "code",
   "execution_count": 30,
   "metadata": {},
   "outputs": [],
   "source": [
    "# Saving Consolidated Dataframe\n",
    "\n",
    "pd.DataFrame(df_final).to_csv('/Volumes/GoogleDrive/.shortcut-targets-by-id/1KUGn_35OjAoOP2puz6yG-2g_8LBxvDG_/SIADS 697 - Capstone/Dataframes/consolidated_df.csv', index=False)\n",
    "\n",
    "# pd.DataFrame(df_39_columns_1).to_csv('/Users/vruiz.CDS/Downloads/Dataframes/consolidated_df.csv', index = False)"
   ]
  }
 ],
 "metadata": {
  "interpreter": {
   "hash": "aee8b7b246df8f9039afb4144a1f6fd8d2ca17a180786b69acc140d282b71a49"
  },
  "kernelspec": {
   "display_name": "Python 3.9.7 64-bit",
   "language": "python",
   "name": "python3"
  },
  "language_info": {
   "codemirror_mode": {
    "name": "ipython",
    "version": 3
   },
   "file_extension": ".py",
   "mimetype": "text/x-python",
   "name": "python",
   "nbconvert_exporter": "python",
   "pygments_lexer": "ipython3",
   "version": "3.8.8"
  },
  "orig_nbformat": 4
 },
 "nbformat": 4,
 "nbformat_minor": 2
}
