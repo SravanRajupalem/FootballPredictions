{
 "cells": [
  {
   "cell_type": "code",
   "execution_count": 1,
   "metadata": {},
   "outputs": [
    {
     "name": "stderr",
     "output_type": "stream",
     "text": [
      "/usr/local/lib/python3.6/dist-packages/numba/core/errors.py:154: UserWarning: Insufficiently recent colorama version found. Numba requires colorama >= 0.3.9\n",
      "  warnings.warn(msg)\n"
     ]
    }
   ],
   "source": [
    "import datetime\n",
    "from datetime import date\n",
    "from datetime import datetime\n",
    "import requests\n",
    "import pprint\n",
    "from bs4 import BeautifulSoup\n",
    "import pandas as pd\n",
    "import re\n",
    "import pickle\n",
    "from urllib.request import urlopen\n",
    "import glob\n",
    "# import altair as alt\n",
    "import time\n",
    "import itertools\n",
    "import numpy as np\n",
    "import operator\n",
    "from datetime import timedelta\n",
    "from ipywidgets import interact, IntSlider\n",
    "from IPython.display import display\n",
    "import sklearn\n",
    "import numpy as np\n",
    "from sklearn.linear_model import LogisticRegression\n",
    "# import seaborn as sns\n",
    "# from matplotlib import pyplot as plt\n",
    "# %matplotlib inline\n",
    "from sklearn.metrics import accuracy_score, confusion_matrix,roc_curve, roc_auc_score, precision_score, recall_score, precision_recall_curve\n",
    "from sklearn.model_selection import train_test_split, GridSearchCV, cross_val_score, RepeatedStratifiedKFold, StratifiedKFold\n",
    "from sklearn.datasets import make_hastie_10_2\n",
    "from sklearn.ensemble import GradientBoostingClassifier\n",
    "from imblearn.pipeline import make_pipeline as make_pipeline_with_sampler\n",
    "from imblearn.under_sampling import RandomUnderSampler\n",
    "\n",
    "from pycaret.classification import * \n",
    "\n",
    "# pd.options.display.max_columns = 5000\n",
    "# pd.options.display.max_rows = 5000\n",
    "\n",
    "injured_pred = 'injured_in_12_week'\n",
    "\n",
    "simple_features = ['Height', 'Weight', 'age','cum_injury_total', 'weeks_since_last_injury', 'Min_cum','Serie A_cum',\n",
    " 'Premier League_cum', 'La Liga_cum', 'Ligue 1_cum', 'Bundesliga_cum', 'Champions Lg_cum', 'Europa Lg_cum', 'FIFA World Cup_cum', 'UEFA Nations League_cum', 'UEFA Euro_cum',\n",
    " 'Copa América_cum', 'Away_cum', 'Home_cum', 'Neutral_cum']\n",
    "\n",
    "extended_features = ['Height', 'Weight', 'defender', 'attacker', 'midfielder', 'goalkeeper', 'right_foot', 'age', 'cum_injury_total', 'weeks_since_last_injury', 'Min_cum', 'Gls_cum', 'Ast_cum', 'PK_cum', 'PKatt_cum',\n",
    " 'Sh_cum', 'SoT_cum', 'CrdY_cum', 'CrdR_cum', 'Touches_cum', 'Press_cum', 'Tkl_cum', 'Int_cum', 'Blocks_cum', 'xG_cum', 'npxG_cum', 'xA_cum', 'SCA_cum', 'GCA_cum', 'Cmp_cum',\n",
    " 'Att_cum', 'Prog_cum', 'Carries_cum', 'Prog.1_cum', 'Succ_cum', 'Att.1_cum', 'Fls_cum', 'Fld_cum', 'Off_cum', 'Crs_cum', 'TklW_cum', 'OG_cum', 'PKwon_cum','PKcon_cum', 'Serie A_cum',\n",
    " 'Premier League_cum', 'La Liga_cum', 'Ligue 1_cum', 'Bundesliga_cum', 'Champions Lg_cum', 'Europa Lg_cum', 'FIFA World Cup_cum', 'UEFA Nations League_cum', 'UEFA Euro_cum',\n",
    " 'Copa América_cum', 'Away_cum', 'Home_cum', 'Neutral_cum']"
   ]
  },
  {
   "cell_type": "code",
   "execution_count": 2,
   "metadata": {},
   "outputs": [],
   "source": [
    "# Load Dataset\n",
    "\n",
    "# Renzo's Path\n",
    "# dataset = pd.read_csv('/Volumes/GoogleDrive/.shortcut-targets-by-id/1KUGn_35OjAoOP2puz6yG-2g_8LBxvDG_/SIADS 697 - Capstone/Dataframes/complete_final_df_5.csv')\n",
    "\n",
    "# Sravan's Path\n",
    "# dataset = pd.read_csv('/Users/srav88/My Drive/SIADS 697 - Capstone/Dataframes/dataset_for_model_final.csv')\n",
    "\n",
    "# Sravan's Parquet Path\n",
    "dataset = pd.read_parquet('dataframes_blog/dataset_for_model_final.parquet') "
   ]
  },
  {
   "cell_type": "code",
   "execution_count": 3,
   "metadata": {},
   "outputs": [],
   "source": [
    "# dataset[dataset['FBRefID']=='dea698d9'].to_csv('/Users/srav88/My Drive/SIADS 697 - Capstone/Dataframes/ronaldo.csv', index=False)\n",
    "dataset = dataset[dataset['drop'] == 0]\n",
    "dataset = dataset[dataset['goalkeeper'] == 0]"
   ]
  },
  {
   "cell_type": "code",
   "execution_count": 4,
   "metadata": {},
   "outputs": [],
   "source": [
    "# Get Train Test Split\n",
    "df_train = dataset[dataset['cum_week'] <= dataset[\"train_split\"]].dropna()\n",
    "df_test = dataset[dataset['cum_week'] > dataset[\"train_split\"]].dropna()"
   ]
  },
  {
   "cell_type": "code",
   "execution_count": 5,
   "metadata": {},
   "outputs": [],
   "source": [
    "X_train = df_train[extended_features]\n",
    "y_train = df_train[injured_pred]\n",
    "\n",
    "X_test = df_test[extended_features]\n",
    "y_test = df_test[injured_pred]"
   ]
  },
  {
   "cell_type": "code",
   "execution_count": 6,
   "metadata": {},
   "outputs": [
    {
     "data": {
      "text/html": [
       "<style  type=\"text/css\" >\n",
       "#T_bf6b3c04_5db7_11ec_82de_12769fcdc453row5_col1,#T_bf6b3c04_5db7_11ec_82de_12769fcdc453row44_col1,#T_bf6b3c04_5db7_11ec_82de_12769fcdc453row52_col1,#T_bf6b3c04_5db7_11ec_82de_12769fcdc453row58_col1{\n",
       "            background-color:  lightgreen;\n",
       "        }</style><table id=\"T_bf6b3c04_5db7_11ec_82de_12769fcdc453\" ><thead>    <tr>        <th class=\"blank level0\" ></th>        <th class=\"col_heading level0 col0\" >Description</th>        <th class=\"col_heading level0 col1\" >Value</th>    </tr></thead><tbody>\n",
       "                <tr>\n",
       "                        <th id=\"T_bf6b3c04_5db7_11ec_82de_12769fcdc453level0_row0\" class=\"row_heading level0 row0\" >0</th>\n",
       "                        <td id=\"T_bf6b3c04_5db7_11ec_82de_12769fcdc453row0_col0\" class=\"data row0 col0\" >session_id</td>\n",
       "                        <td id=\"T_bf6b3c04_5db7_11ec_82de_12769fcdc453row0_col1\" class=\"data row0 col1\" >6192</td>\n",
       "            </tr>\n",
       "            <tr>\n",
       "                        <th id=\"T_bf6b3c04_5db7_11ec_82de_12769fcdc453level0_row1\" class=\"row_heading level0 row1\" >1</th>\n",
       "                        <td id=\"T_bf6b3c04_5db7_11ec_82de_12769fcdc453row1_col0\" class=\"data row1 col0\" >Target</td>\n",
       "                        <td id=\"T_bf6b3c04_5db7_11ec_82de_12769fcdc453row1_col1\" class=\"data row1 col1\" >injured_in_12_week</td>\n",
       "            </tr>\n",
       "            <tr>\n",
       "                        <th id=\"T_bf6b3c04_5db7_11ec_82de_12769fcdc453level0_row2\" class=\"row_heading level0 row2\" >2</th>\n",
       "                        <td id=\"T_bf6b3c04_5db7_11ec_82de_12769fcdc453row2_col0\" class=\"data row2 col0\" >Target Type</td>\n",
       "                        <td id=\"T_bf6b3c04_5db7_11ec_82de_12769fcdc453row2_col1\" class=\"data row2 col1\" >Binary</td>\n",
       "            </tr>\n",
       "            <tr>\n",
       "                        <th id=\"T_bf6b3c04_5db7_11ec_82de_12769fcdc453level0_row3\" class=\"row_heading level0 row3\" >3</th>\n",
       "                        <td id=\"T_bf6b3c04_5db7_11ec_82de_12769fcdc453row3_col0\" class=\"data row3 col0\" >Label Encoded</td>\n",
       "                        <td id=\"T_bf6b3c04_5db7_11ec_82de_12769fcdc453row3_col1\" class=\"data row3 col1\" >0.0: 0, 1.0: 1</td>\n",
       "            </tr>\n",
       "            <tr>\n",
       "                        <th id=\"T_bf6b3c04_5db7_11ec_82de_12769fcdc453level0_row4\" class=\"row_heading level0 row4\" >4</th>\n",
       "                        <td id=\"T_bf6b3c04_5db7_11ec_82de_12769fcdc453row4_col0\" class=\"data row4 col0\" >Original Data</td>\n",
       "                        <td id=\"T_bf6b3c04_5db7_11ec_82de_12769fcdc453row4_col1\" class=\"data row4 col1\" >(1604775, 59)</td>\n",
       "            </tr>\n",
       "            <tr>\n",
       "                        <th id=\"T_bf6b3c04_5db7_11ec_82de_12769fcdc453level0_row5\" class=\"row_heading level0 row5\" >5</th>\n",
       "                        <td id=\"T_bf6b3c04_5db7_11ec_82de_12769fcdc453row5_col0\" class=\"data row5 col0\" >Missing Values</td>\n",
       "                        <td id=\"T_bf6b3c04_5db7_11ec_82de_12769fcdc453row5_col1\" class=\"data row5 col1\" >True</td>\n",
       "            </tr>\n",
       "            <tr>\n",
       "                        <th id=\"T_bf6b3c04_5db7_11ec_82de_12769fcdc453level0_row6\" class=\"row_heading level0 row6\" >6</th>\n",
       "                        <td id=\"T_bf6b3c04_5db7_11ec_82de_12769fcdc453row6_col0\" class=\"data row6 col0\" >Numeric Features</td>\n",
       "                        <td id=\"T_bf6b3c04_5db7_11ec_82de_12769fcdc453row6_col1\" class=\"data row6 col1\" >53</td>\n",
       "            </tr>\n",
       "            <tr>\n",
       "                        <th id=\"T_bf6b3c04_5db7_11ec_82de_12769fcdc453level0_row7\" class=\"row_heading level0 row7\" >7</th>\n",
       "                        <td id=\"T_bf6b3c04_5db7_11ec_82de_12769fcdc453row7_col0\" class=\"data row7 col0\" >Categorical Features</td>\n",
       "                        <td id=\"T_bf6b3c04_5db7_11ec_82de_12769fcdc453row7_col1\" class=\"data row7 col1\" >5</td>\n",
       "            </tr>\n",
       "            <tr>\n",
       "                        <th id=\"T_bf6b3c04_5db7_11ec_82de_12769fcdc453level0_row8\" class=\"row_heading level0 row8\" >8</th>\n",
       "                        <td id=\"T_bf6b3c04_5db7_11ec_82de_12769fcdc453row8_col0\" class=\"data row8 col0\" >Ordinal Features</td>\n",
       "                        <td id=\"T_bf6b3c04_5db7_11ec_82de_12769fcdc453row8_col1\" class=\"data row8 col1\" >False</td>\n",
       "            </tr>\n",
       "            <tr>\n",
       "                        <th id=\"T_bf6b3c04_5db7_11ec_82de_12769fcdc453level0_row9\" class=\"row_heading level0 row9\" >9</th>\n",
       "                        <td id=\"T_bf6b3c04_5db7_11ec_82de_12769fcdc453row9_col0\" class=\"data row9 col0\" >High Cardinality Features</td>\n",
       "                        <td id=\"T_bf6b3c04_5db7_11ec_82de_12769fcdc453row9_col1\" class=\"data row9 col1\" >False</td>\n",
       "            </tr>\n",
       "            <tr>\n",
       "                        <th id=\"T_bf6b3c04_5db7_11ec_82de_12769fcdc453level0_row10\" class=\"row_heading level0 row10\" >10</th>\n",
       "                        <td id=\"T_bf6b3c04_5db7_11ec_82de_12769fcdc453row10_col0\" class=\"data row10 col0\" >High Cardinality Method</td>\n",
       "                        <td id=\"T_bf6b3c04_5db7_11ec_82de_12769fcdc453row10_col1\" class=\"data row10 col1\" >None</td>\n",
       "            </tr>\n",
       "            <tr>\n",
       "                        <th id=\"T_bf6b3c04_5db7_11ec_82de_12769fcdc453level0_row11\" class=\"row_heading level0 row11\" >11</th>\n",
       "                        <td id=\"T_bf6b3c04_5db7_11ec_82de_12769fcdc453row11_col0\" class=\"data row11 col0\" >Transformed Train Set</td>\n",
       "                        <td id=\"T_bf6b3c04_5db7_11ec_82de_12769fcdc453row11_col1\" class=\"data row11 col1\" >(1092069, 51)</td>\n",
       "            </tr>\n",
       "            <tr>\n",
       "                        <th id=\"T_bf6b3c04_5db7_11ec_82de_12769fcdc453level0_row12\" class=\"row_heading level0 row12\" >12</th>\n",
       "                        <td id=\"T_bf6b3c04_5db7_11ec_82de_12769fcdc453row12_col0\" class=\"data row12 col0\" >Transformed Test Set</td>\n",
       "                        <td id=\"T_bf6b3c04_5db7_11ec_82de_12769fcdc453row12_col1\" class=\"data row12 col1\" >(468179, 51)</td>\n",
       "            </tr>\n",
       "            <tr>\n",
       "                        <th id=\"T_bf6b3c04_5db7_11ec_82de_12769fcdc453level0_row13\" class=\"row_heading level0 row13\" >13</th>\n",
       "                        <td id=\"T_bf6b3c04_5db7_11ec_82de_12769fcdc453row13_col0\" class=\"data row13 col0\" >Shuffle Train-Test</td>\n",
       "                        <td id=\"T_bf6b3c04_5db7_11ec_82de_12769fcdc453row13_col1\" class=\"data row13 col1\" >True</td>\n",
       "            </tr>\n",
       "            <tr>\n",
       "                        <th id=\"T_bf6b3c04_5db7_11ec_82de_12769fcdc453level0_row14\" class=\"row_heading level0 row14\" >14</th>\n",
       "                        <td id=\"T_bf6b3c04_5db7_11ec_82de_12769fcdc453row14_col0\" class=\"data row14 col0\" >Stratify Train-Test</td>\n",
       "                        <td id=\"T_bf6b3c04_5db7_11ec_82de_12769fcdc453row14_col1\" class=\"data row14 col1\" >False</td>\n",
       "            </tr>\n",
       "            <tr>\n",
       "                        <th id=\"T_bf6b3c04_5db7_11ec_82de_12769fcdc453level0_row15\" class=\"row_heading level0 row15\" >15</th>\n",
       "                        <td id=\"T_bf6b3c04_5db7_11ec_82de_12769fcdc453row15_col0\" class=\"data row15 col0\" >Fold Generator</td>\n",
       "                        <td id=\"T_bf6b3c04_5db7_11ec_82de_12769fcdc453row15_col1\" class=\"data row15 col1\" >StratifiedKFold</td>\n",
       "            </tr>\n",
       "            <tr>\n",
       "                        <th id=\"T_bf6b3c04_5db7_11ec_82de_12769fcdc453level0_row16\" class=\"row_heading level0 row16\" >16</th>\n",
       "                        <td id=\"T_bf6b3c04_5db7_11ec_82de_12769fcdc453row16_col0\" class=\"data row16 col0\" >Fold Number</td>\n",
       "                        <td id=\"T_bf6b3c04_5db7_11ec_82de_12769fcdc453row16_col1\" class=\"data row16 col1\" >2</td>\n",
       "            </tr>\n",
       "            <tr>\n",
       "                        <th id=\"T_bf6b3c04_5db7_11ec_82de_12769fcdc453level0_row17\" class=\"row_heading level0 row17\" >17</th>\n",
       "                        <td id=\"T_bf6b3c04_5db7_11ec_82de_12769fcdc453row17_col0\" class=\"data row17 col0\" >CPU Jobs</td>\n",
       "                        <td id=\"T_bf6b3c04_5db7_11ec_82de_12769fcdc453row17_col1\" class=\"data row17 col1\" >-1</td>\n",
       "            </tr>\n",
       "            <tr>\n",
       "                        <th id=\"T_bf6b3c04_5db7_11ec_82de_12769fcdc453level0_row18\" class=\"row_heading level0 row18\" >18</th>\n",
       "                        <td id=\"T_bf6b3c04_5db7_11ec_82de_12769fcdc453row18_col0\" class=\"data row18 col0\" >Use GPU</td>\n",
       "                        <td id=\"T_bf6b3c04_5db7_11ec_82de_12769fcdc453row18_col1\" class=\"data row18 col1\" >False</td>\n",
       "            </tr>\n",
       "            <tr>\n",
       "                        <th id=\"T_bf6b3c04_5db7_11ec_82de_12769fcdc453level0_row19\" class=\"row_heading level0 row19\" >19</th>\n",
       "                        <td id=\"T_bf6b3c04_5db7_11ec_82de_12769fcdc453row19_col0\" class=\"data row19 col0\" >Log Experiment</td>\n",
       "                        <td id=\"T_bf6b3c04_5db7_11ec_82de_12769fcdc453row19_col1\" class=\"data row19 col1\" >False</td>\n",
       "            </tr>\n",
       "            <tr>\n",
       "                        <th id=\"T_bf6b3c04_5db7_11ec_82de_12769fcdc453level0_row20\" class=\"row_heading level0 row20\" >20</th>\n",
       "                        <td id=\"T_bf6b3c04_5db7_11ec_82de_12769fcdc453row20_col0\" class=\"data row20 col0\" >Experiment Name</td>\n",
       "                        <td id=\"T_bf6b3c04_5db7_11ec_82de_12769fcdc453row20_col1\" class=\"data row20 col1\" >clf-default-name</td>\n",
       "            </tr>\n",
       "            <tr>\n",
       "                        <th id=\"T_bf6b3c04_5db7_11ec_82de_12769fcdc453level0_row21\" class=\"row_heading level0 row21\" >21</th>\n",
       "                        <td id=\"T_bf6b3c04_5db7_11ec_82de_12769fcdc453row21_col0\" class=\"data row21 col0\" >USI</td>\n",
       "                        <td id=\"T_bf6b3c04_5db7_11ec_82de_12769fcdc453row21_col1\" class=\"data row21 col1\" >2a32</td>\n",
       "            </tr>\n",
       "            <tr>\n",
       "                        <th id=\"T_bf6b3c04_5db7_11ec_82de_12769fcdc453level0_row22\" class=\"row_heading level0 row22\" >22</th>\n",
       "                        <td id=\"T_bf6b3c04_5db7_11ec_82de_12769fcdc453row22_col0\" class=\"data row22 col0\" >Imputation Type</td>\n",
       "                        <td id=\"T_bf6b3c04_5db7_11ec_82de_12769fcdc453row22_col1\" class=\"data row22 col1\" >simple</td>\n",
       "            </tr>\n",
       "            <tr>\n",
       "                        <th id=\"T_bf6b3c04_5db7_11ec_82de_12769fcdc453level0_row23\" class=\"row_heading level0 row23\" >23</th>\n",
       "                        <td id=\"T_bf6b3c04_5db7_11ec_82de_12769fcdc453row23_col0\" class=\"data row23 col0\" >Iterative Imputation Iteration</td>\n",
       "                        <td id=\"T_bf6b3c04_5db7_11ec_82de_12769fcdc453row23_col1\" class=\"data row23 col1\" >None</td>\n",
       "            </tr>\n",
       "            <tr>\n",
       "                        <th id=\"T_bf6b3c04_5db7_11ec_82de_12769fcdc453level0_row24\" class=\"row_heading level0 row24\" >24</th>\n",
       "                        <td id=\"T_bf6b3c04_5db7_11ec_82de_12769fcdc453row24_col0\" class=\"data row24 col0\" >Numeric Imputer</td>\n",
       "                        <td id=\"T_bf6b3c04_5db7_11ec_82de_12769fcdc453row24_col1\" class=\"data row24 col1\" >mean</td>\n",
       "            </tr>\n",
       "            <tr>\n",
       "                        <th id=\"T_bf6b3c04_5db7_11ec_82de_12769fcdc453level0_row25\" class=\"row_heading level0 row25\" >25</th>\n",
       "                        <td id=\"T_bf6b3c04_5db7_11ec_82de_12769fcdc453row25_col0\" class=\"data row25 col0\" >Iterative Imputation Numeric Model</td>\n",
       "                        <td id=\"T_bf6b3c04_5db7_11ec_82de_12769fcdc453row25_col1\" class=\"data row25 col1\" >None</td>\n",
       "            </tr>\n",
       "            <tr>\n",
       "                        <th id=\"T_bf6b3c04_5db7_11ec_82de_12769fcdc453level0_row26\" class=\"row_heading level0 row26\" >26</th>\n",
       "                        <td id=\"T_bf6b3c04_5db7_11ec_82de_12769fcdc453row26_col0\" class=\"data row26 col0\" >Categorical Imputer</td>\n",
       "                        <td id=\"T_bf6b3c04_5db7_11ec_82de_12769fcdc453row26_col1\" class=\"data row26 col1\" >constant</td>\n",
       "            </tr>\n",
       "            <tr>\n",
       "                        <th id=\"T_bf6b3c04_5db7_11ec_82de_12769fcdc453level0_row27\" class=\"row_heading level0 row27\" >27</th>\n",
       "                        <td id=\"T_bf6b3c04_5db7_11ec_82de_12769fcdc453row27_col0\" class=\"data row27 col0\" >Iterative Imputation Categorical Model</td>\n",
       "                        <td id=\"T_bf6b3c04_5db7_11ec_82de_12769fcdc453row27_col1\" class=\"data row27 col1\" >None</td>\n",
       "            </tr>\n",
       "            <tr>\n",
       "                        <th id=\"T_bf6b3c04_5db7_11ec_82de_12769fcdc453level0_row28\" class=\"row_heading level0 row28\" >28</th>\n",
       "                        <td id=\"T_bf6b3c04_5db7_11ec_82de_12769fcdc453row28_col0\" class=\"data row28 col0\" >Unknown Categoricals Handling</td>\n",
       "                        <td id=\"T_bf6b3c04_5db7_11ec_82de_12769fcdc453row28_col1\" class=\"data row28 col1\" >least_frequent</td>\n",
       "            </tr>\n",
       "            <tr>\n",
       "                        <th id=\"T_bf6b3c04_5db7_11ec_82de_12769fcdc453level0_row29\" class=\"row_heading level0 row29\" >29</th>\n",
       "                        <td id=\"T_bf6b3c04_5db7_11ec_82de_12769fcdc453row29_col0\" class=\"data row29 col0\" >Normalize</td>\n",
       "                        <td id=\"T_bf6b3c04_5db7_11ec_82de_12769fcdc453row29_col1\" class=\"data row29 col1\" >False</td>\n",
       "            </tr>\n",
       "            <tr>\n",
       "                        <th id=\"T_bf6b3c04_5db7_11ec_82de_12769fcdc453level0_row30\" class=\"row_heading level0 row30\" >30</th>\n",
       "                        <td id=\"T_bf6b3c04_5db7_11ec_82de_12769fcdc453row30_col0\" class=\"data row30 col0\" >Normalize Method</td>\n",
       "                        <td id=\"T_bf6b3c04_5db7_11ec_82de_12769fcdc453row30_col1\" class=\"data row30 col1\" >None</td>\n",
       "            </tr>\n",
       "            <tr>\n",
       "                        <th id=\"T_bf6b3c04_5db7_11ec_82de_12769fcdc453level0_row31\" class=\"row_heading level0 row31\" >31</th>\n",
       "                        <td id=\"T_bf6b3c04_5db7_11ec_82de_12769fcdc453row31_col0\" class=\"data row31 col0\" >Transformation</td>\n",
       "                        <td id=\"T_bf6b3c04_5db7_11ec_82de_12769fcdc453row31_col1\" class=\"data row31 col1\" >False</td>\n",
       "            </tr>\n",
       "            <tr>\n",
       "                        <th id=\"T_bf6b3c04_5db7_11ec_82de_12769fcdc453level0_row32\" class=\"row_heading level0 row32\" >32</th>\n",
       "                        <td id=\"T_bf6b3c04_5db7_11ec_82de_12769fcdc453row32_col0\" class=\"data row32 col0\" >Transformation Method</td>\n",
       "                        <td id=\"T_bf6b3c04_5db7_11ec_82de_12769fcdc453row32_col1\" class=\"data row32 col1\" >None</td>\n",
       "            </tr>\n",
       "            <tr>\n",
       "                        <th id=\"T_bf6b3c04_5db7_11ec_82de_12769fcdc453level0_row33\" class=\"row_heading level0 row33\" >33</th>\n",
       "                        <td id=\"T_bf6b3c04_5db7_11ec_82de_12769fcdc453row33_col0\" class=\"data row33 col0\" >PCA</td>\n",
       "                        <td id=\"T_bf6b3c04_5db7_11ec_82de_12769fcdc453row33_col1\" class=\"data row33 col1\" >False</td>\n",
       "            </tr>\n",
       "            <tr>\n",
       "                        <th id=\"T_bf6b3c04_5db7_11ec_82de_12769fcdc453level0_row34\" class=\"row_heading level0 row34\" >34</th>\n",
       "                        <td id=\"T_bf6b3c04_5db7_11ec_82de_12769fcdc453row34_col0\" class=\"data row34 col0\" >PCA Method</td>\n",
       "                        <td id=\"T_bf6b3c04_5db7_11ec_82de_12769fcdc453row34_col1\" class=\"data row34 col1\" >None</td>\n",
       "            </tr>\n",
       "            <tr>\n",
       "                        <th id=\"T_bf6b3c04_5db7_11ec_82de_12769fcdc453level0_row35\" class=\"row_heading level0 row35\" >35</th>\n",
       "                        <td id=\"T_bf6b3c04_5db7_11ec_82de_12769fcdc453row35_col0\" class=\"data row35 col0\" >PCA Components</td>\n",
       "                        <td id=\"T_bf6b3c04_5db7_11ec_82de_12769fcdc453row35_col1\" class=\"data row35 col1\" >None</td>\n",
       "            </tr>\n",
       "            <tr>\n",
       "                        <th id=\"T_bf6b3c04_5db7_11ec_82de_12769fcdc453level0_row36\" class=\"row_heading level0 row36\" >36</th>\n",
       "                        <td id=\"T_bf6b3c04_5db7_11ec_82de_12769fcdc453row36_col0\" class=\"data row36 col0\" >Ignore Low Variance</td>\n",
       "                        <td id=\"T_bf6b3c04_5db7_11ec_82de_12769fcdc453row36_col1\" class=\"data row36 col1\" >False</td>\n",
       "            </tr>\n",
       "            <tr>\n",
       "                        <th id=\"T_bf6b3c04_5db7_11ec_82de_12769fcdc453level0_row37\" class=\"row_heading level0 row37\" >37</th>\n",
       "                        <td id=\"T_bf6b3c04_5db7_11ec_82de_12769fcdc453row37_col0\" class=\"data row37 col0\" >Combine Rare Levels</td>\n",
       "                        <td id=\"T_bf6b3c04_5db7_11ec_82de_12769fcdc453row37_col1\" class=\"data row37 col1\" >False</td>\n",
       "            </tr>\n",
       "            <tr>\n",
       "                        <th id=\"T_bf6b3c04_5db7_11ec_82de_12769fcdc453level0_row38\" class=\"row_heading level0 row38\" >38</th>\n",
       "                        <td id=\"T_bf6b3c04_5db7_11ec_82de_12769fcdc453row38_col0\" class=\"data row38 col0\" >Rare Level Threshold</td>\n",
       "                        <td id=\"T_bf6b3c04_5db7_11ec_82de_12769fcdc453row38_col1\" class=\"data row38 col1\" >None</td>\n",
       "            </tr>\n",
       "            <tr>\n",
       "                        <th id=\"T_bf6b3c04_5db7_11ec_82de_12769fcdc453level0_row39\" class=\"row_heading level0 row39\" >39</th>\n",
       "                        <td id=\"T_bf6b3c04_5db7_11ec_82de_12769fcdc453row39_col0\" class=\"data row39 col0\" >Numeric Binning</td>\n",
       "                        <td id=\"T_bf6b3c04_5db7_11ec_82de_12769fcdc453row39_col1\" class=\"data row39 col1\" >False</td>\n",
       "            </tr>\n",
       "            <tr>\n",
       "                        <th id=\"T_bf6b3c04_5db7_11ec_82de_12769fcdc453level0_row40\" class=\"row_heading level0 row40\" >40</th>\n",
       "                        <td id=\"T_bf6b3c04_5db7_11ec_82de_12769fcdc453row40_col0\" class=\"data row40 col0\" >Remove Outliers</td>\n",
       "                        <td id=\"T_bf6b3c04_5db7_11ec_82de_12769fcdc453row40_col1\" class=\"data row40 col1\" >False</td>\n",
       "            </tr>\n",
       "            <tr>\n",
       "                        <th id=\"T_bf6b3c04_5db7_11ec_82de_12769fcdc453level0_row41\" class=\"row_heading level0 row41\" >41</th>\n",
       "                        <td id=\"T_bf6b3c04_5db7_11ec_82de_12769fcdc453row41_col0\" class=\"data row41 col0\" >Outliers Threshold</td>\n",
       "                        <td id=\"T_bf6b3c04_5db7_11ec_82de_12769fcdc453row41_col1\" class=\"data row41 col1\" >None</td>\n",
       "            </tr>\n",
       "            <tr>\n",
       "                        <th id=\"T_bf6b3c04_5db7_11ec_82de_12769fcdc453level0_row42\" class=\"row_heading level0 row42\" >42</th>\n",
       "                        <td id=\"T_bf6b3c04_5db7_11ec_82de_12769fcdc453row42_col0\" class=\"data row42 col0\" >Remove Multicollinearity</td>\n",
       "                        <td id=\"T_bf6b3c04_5db7_11ec_82de_12769fcdc453row42_col1\" class=\"data row42 col1\" >False</td>\n",
       "            </tr>\n",
       "            <tr>\n",
       "                        <th id=\"T_bf6b3c04_5db7_11ec_82de_12769fcdc453level0_row43\" class=\"row_heading level0 row43\" >43</th>\n",
       "                        <td id=\"T_bf6b3c04_5db7_11ec_82de_12769fcdc453row43_col0\" class=\"data row43 col0\" >Multicollinearity Threshold</td>\n",
       "                        <td id=\"T_bf6b3c04_5db7_11ec_82de_12769fcdc453row43_col1\" class=\"data row43 col1\" >None</td>\n",
       "            </tr>\n",
       "            <tr>\n",
       "                        <th id=\"T_bf6b3c04_5db7_11ec_82de_12769fcdc453level0_row44\" class=\"row_heading level0 row44\" >44</th>\n",
       "                        <td id=\"T_bf6b3c04_5db7_11ec_82de_12769fcdc453row44_col0\" class=\"data row44 col0\" >Remove Perfect Collinearity</td>\n",
       "                        <td id=\"T_bf6b3c04_5db7_11ec_82de_12769fcdc453row44_col1\" class=\"data row44 col1\" >True</td>\n",
       "            </tr>\n",
       "            <tr>\n",
       "                        <th id=\"T_bf6b3c04_5db7_11ec_82de_12769fcdc453level0_row45\" class=\"row_heading level0 row45\" >45</th>\n",
       "                        <td id=\"T_bf6b3c04_5db7_11ec_82de_12769fcdc453row45_col0\" class=\"data row45 col0\" >Clustering</td>\n",
       "                        <td id=\"T_bf6b3c04_5db7_11ec_82de_12769fcdc453row45_col1\" class=\"data row45 col1\" >False</td>\n",
       "            </tr>\n",
       "            <tr>\n",
       "                        <th id=\"T_bf6b3c04_5db7_11ec_82de_12769fcdc453level0_row46\" class=\"row_heading level0 row46\" >46</th>\n",
       "                        <td id=\"T_bf6b3c04_5db7_11ec_82de_12769fcdc453row46_col0\" class=\"data row46 col0\" >Clustering Iteration</td>\n",
       "                        <td id=\"T_bf6b3c04_5db7_11ec_82de_12769fcdc453row46_col1\" class=\"data row46 col1\" >None</td>\n",
       "            </tr>\n",
       "            <tr>\n",
       "                        <th id=\"T_bf6b3c04_5db7_11ec_82de_12769fcdc453level0_row47\" class=\"row_heading level0 row47\" >47</th>\n",
       "                        <td id=\"T_bf6b3c04_5db7_11ec_82de_12769fcdc453row47_col0\" class=\"data row47 col0\" >Polynomial Features</td>\n",
       "                        <td id=\"T_bf6b3c04_5db7_11ec_82de_12769fcdc453row47_col1\" class=\"data row47 col1\" >False</td>\n",
       "            </tr>\n",
       "            <tr>\n",
       "                        <th id=\"T_bf6b3c04_5db7_11ec_82de_12769fcdc453level0_row48\" class=\"row_heading level0 row48\" >48</th>\n",
       "                        <td id=\"T_bf6b3c04_5db7_11ec_82de_12769fcdc453row48_col0\" class=\"data row48 col0\" >Polynomial Degree</td>\n",
       "                        <td id=\"T_bf6b3c04_5db7_11ec_82de_12769fcdc453row48_col1\" class=\"data row48 col1\" >None</td>\n",
       "            </tr>\n",
       "            <tr>\n",
       "                        <th id=\"T_bf6b3c04_5db7_11ec_82de_12769fcdc453level0_row49\" class=\"row_heading level0 row49\" >49</th>\n",
       "                        <td id=\"T_bf6b3c04_5db7_11ec_82de_12769fcdc453row49_col0\" class=\"data row49 col0\" >Trignometry Features</td>\n",
       "                        <td id=\"T_bf6b3c04_5db7_11ec_82de_12769fcdc453row49_col1\" class=\"data row49 col1\" >False</td>\n",
       "            </tr>\n",
       "            <tr>\n",
       "                        <th id=\"T_bf6b3c04_5db7_11ec_82de_12769fcdc453level0_row50\" class=\"row_heading level0 row50\" >50</th>\n",
       "                        <td id=\"T_bf6b3c04_5db7_11ec_82de_12769fcdc453row50_col0\" class=\"data row50 col0\" >Polynomial Threshold</td>\n",
       "                        <td id=\"T_bf6b3c04_5db7_11ec_82de_12769fcdc453row50_col1\" class=\"data row50 col1\" >None</td>\n",
       "            </tr>\n",
       "            <tr>\n",
       "                        <th id=\"T_bf6b3c04_5db7_11ec_82de_12769fcdc453level0_row51\" class=\"row_heading level0 row51\" >51</th>\n",
       "                        <td id=\"T_bf6b3c04_5db7_11ec_82de_12769fcdc453row51_col0\" class=\"data row51 col0\" >Group Features</td>\n",
       "                        <td id=\"T_bf6b3c04_5db7_11ec_82de_12769fcdc453row51_col1\" class=\"data row51 col1\" >False</td>\n",
       "            </tr>\n",
       "            <tr>\n",
       "                        <th id=\"T_bf6b3c04_5db7_11ec_82de_12769fcdc453level0_row52\" class=\"row_heading level0 row52\" >52</th>\n",
       "                        <td id=\"T_bf6b3c04_5db7_11ec_82de_12769fcdc453row52_col0\" class=\"data row52 col0\" >Feature Selection</td>\n",
       "                        <td id=\"T_bf6b3c04_5db7_11ec_82de_12769fcdc453row52_col1\" class=\"data row52 col1\" >True</td>\n",
       "            </tr>\n",
       "            <tr>\n",
       "                        <th id=\"T_bf6b3c04_5db7_11ec_82de_12769fcdc453level0_row53\" class=\"row_heading level0 row53\" >53</th>\n",
       "                        <td id=\"T_bf6b3c04_5db7_11ec_82de_12769fcdc453row53_col0\" class=\"data row53 col0\" >Feature Selection Method</td>\n",
       "                        <td id=\"T_bf6b3c04_5db7_11ec_82de_12769fcdc453row53_col1\" class=\"data row53 col1\" >classic</td>\n",
       "            </tr>\n",
       "            <tr>\n",
       "                        <th id=\"T_bf6b3c04_5db7_11ec_82de_12769fcdc453level0_row54\" class=\"row_heading level0 row54\" >54</th>\n",
       "                        <td id=\"T_bf6b3c04_5db7_11ec_82de_12769fcdc453row54_col0\" class=\"data row54 col0\" >Features Selection Threshold</td>\n",
       "                        <td id=\"T_bf6b3c04_5db7_11ec_82de_12769fcdc453row54_col1\" class=\"data row54 col1\" >0.800000</td>\n",
       "            </tr>\n",
       "            <tr>\n",
       "                        <th id=\"T_bf6b3c04_5db7_11ec_82de_12769fcdc453level0_row55\" class=\"row_heading level0 row55\" >55</th>\n",
       "                        <td id=\"T_bf6b3c04_5db7_11ec_82de_12769fcdc453row55_col0\" class=\"data row55 col0\" >Feature Interaction</td>\n",
       "                        <td id=\"T_bf6b3c04_5db7_11ec_82de_12769fcdc453row55_col1\" class=\"data row55 col1\" >False</td>\n",
       "            </tr>\n",
       "            <tr>\n",
       "                        <th id=\"T_bf6b3c04_5db7_11ec_82de_12769fcdc453level0_row56\" class=\"row_heading level0 row56\" >56</th>\n",
       "                        <td id=\"T_bf6b3c04_5db7_11ec_82de_12769fcdc453row56_col0\" class=\"data row56 col0\" >Feature Ratio</td>\n",
       "                        <td id=\"T_bf6b3c04_5db7_11ec_82de_12769fcdc453row56_col1\" class=\"data row56 col1\" >False</td>\n",
       "            </tr>\n",
       "            <tr>\n",
       "                        <th id=\"T_bf6b3c04_5db7_11ec_82de_12769fcdc453level0_row57\" class=\"row_heading level0 row57\" >57</th>\n",
       "                        <td id=\"T_bf6b3c04_5db7_11ec_82de_12769fcdc453row57_col0\" class=\"data row57 col0\" >Interaction Threshold</td>\n",
       "                        <td id=\"T_bf6b3c04_5db7_11ec_82de_12769fcdc453row57_col1\" class=\"data row57 col1\" >None</td>\n",
       "            </tr>\n",
       "            <tr>\n",
       "                        <th id=\"T_bf6b3c04_5db7_11ec_82de_12769fcdc453level0_row58\" class=\"row_heading level0 row58\" >58</th>\n",
       "                        <td id=\"T_bf6b3c04_5db7_11ec_82de_12769fcdc453row58_col0\" class=\"data row58 col0\" >Fix Imbalance</td>\n",
       "                        <td id=\"T_bf6b3c04_5db7_11ec_82de_12769fcdc453row58_col1\" class=\"data row58 col1\" >True</td>\n",
       "            </tr>\n",
       "            <tr>\n",
       "                        <th id=\"T_bf6b3c04_5db7_11ec_82de_12769fcdc453level0_row59\" class=\"row_heading level0 row59\" >59</th>\n",
       "                        <td id=\"T_bf6b3c04_5db7_11ec_82de_12769fcdc453row59_col0\" class=\"data row59 col0\" >Fix Imbalance Method</td>\n",
       "                        <td id=\"T_bf6b3c04_5db7_11ec_82de_12769fcdc453row59_col1\" class=\"data row59 col1\" >SMOTE</td>\n",
       "            </tr>\n",
       "    </tbody></table>"
      ],
      "text/plain": [
       "<pandas.io.formats.style.Styler at 0x7fbab802c4a8>"
      ]
     },
     "metadata": {},
     "output_type": "display_data"
    }
   ],
   "source": [
    "exp_clf = setup(dataset[extended_features + [injured_pred]], target=injured_pred, fix_imbalance=True, feature_selection=True, fold=2)"
   ]
  },
  {
   "cell_type": "code",
   "execution_count": 7,
   "metadata": {},
   "outputs": [],
   "source": [
    "set_config('X_train', X_train)\n",
    "set_config('X_test', X_test)\n",
    "set_config('y_train', y_train)\n",
    "set_config('y_test', y_test)"
   ]
  },
  {
   "cell_type": "code",
   "execution_count": 8,
   "metadata": {},
   "outputs": [
    {
     "data": {
      "text/html": [
       "<style  type=\"text/css\" >\n",
       "    #T_a1c080f0_5dbd_11ec_82de_12769fcdc453 th {\n",
       "          text-align: left;\n",
       "    }#T_a1c080f0_5dbd_11ec_82de_12769fcdc453row0_col0,#T_a1c080f0_5dbd_11ec_82de_12769fcdc453row0_col2,#T_a1c080f0_5dbd_11ec_82de_12769fcdc453row0_col3,#T_a1c080f0_5dbd_11ec_82de_12769fcdc453row0_col4,#T_a1c080f0_5dbd_11ec_82de_12769fcdc453row0_col5,#T_a1c080f0_5dbd_11ec_82de_12769fcdc453row0_col6,#T_a1c080f0_5dbd_11ec_82de_12769fcdc453row0_col7,#T_a1c080f0_5dbd_11ec_82de_12769fcdc453row1_col0,#T_a1c080f0_5dbd_11ec_82de_12769fcdc453row1_col1,#T_a1c080f0_5dbd_11ec_82de_12769fcdc453row1_col2,#T_a1c080f0_5dbd_11ec_82de_12769fcdc453row1_col3,#T_a1c080f0_5dbd_11ec_82de_12769fcdc453row1_col4,#T_a1c080f0_5dbd_11ec_82de_12769fcdc453row1_col5,#T_a1c080f0_5dbd_11ec_82de_12769fcdc453row1_col6,#T_a1c080f0_5dbd_11ec_82de_12769fcdc453row1_col7,#T_a1c080f0_5dbd_11ec_82de_12769fcdc453row2_col0,#T_a1c080f0_5dbd_11ec_82de_12769fcdc453row2_col1,#T_a1c080f0_5dbd_11ec_82de_12769fcdc453row2_col2,#T_a1c080f0_5dbd_11ec_82de_12769fcdc453row2_col3,#T_a1c080f0_5dbd_11ec_82de_12769fcdc453row2_col5,#T_a1c080f0_5dbd_11ec_82de_12769fcdc453row2_col6,#T_a1c080f0_5dbd_11ec_82de_12769fcdc453row2_col7,#T_a1c080f0_5dbd_11ec_82de_12769fcdc453row3_col0,#T_a1c080f0_5dbd_11ec_82de_12769fcdc453row3_col1,#T_a1c080f0_5dbd_11ec_82de_12769fcdc453row3_col2,#T_a1c080f0_5dbd_11ec_82de_12769fcdc453row3_col3,#T_a1c080f0_5dbd_11ec_82de_12769fcdc453row3_col4,#T_a1c080f0_5dbd_11ec_82de_12769fcdc453row3_col5,#T_a1c080f0_5dbd_11ec_82de_12769fcdc453row3_col6,#T_a1c080f0_5dbd_11ec_82de_12769fcdc453row3_col7,#T_a1c080f0_5dbd_11ec_82de_12769fcdc453row4_col0,#T_a1c080f0_5dbd_11ec_82de_12769fcdc453row4_col1,#T_a1c080f0_5dbd_11ec_82de_12769fcdc453row4_col2,#T_a1c080f0_5dbd_11ec_82de_12769fcdc453row4_col3,#T_a1c080f0_5dbd_11ec_82de_12769fcdc453row4_col4,#T_a1c080f0_5dbd_11ec_82de_12769fcdc453row4_col5,#T_a1c080f0_5dbd_11ec_82de_12769fcdc453row4_col6,#T_a1c080f0_5dbd_11ec_82de_12769fcdc453row4_col7,#T_a1c080f0_5dbd_11ec_82de_12769fcdc453row5_col0,#T_a1c080f0_5dbd_11ec_82de_12769fcdc453row5_col1,#T_a1c080f0_5dbd_11ec_82de_12769fcdc453row5_col2,#T_a1c080f0_5dbd_11ec_82de_12769fcdc453row5_col3,#T_a1c080f0_5dbd_11ec_82de_12769fcdc453row5_col4,#T_a1c080f0_5dbd_11ec_82de_12769fcdc453row5_col5,#T_a1c080f0_5dbd_11ec_82de_12769fcdc453row5_col6,#T_a1c080f0_5dbd_11ec_82de_12769fcdc453row5_col7,#T_a1c080f0_5dbd_11ec_82de_12769fcdc453row6_col0,#T_a1c080f0_5dbd_11ec_82de_12769fcdc453row6_col1,#T_a1c080f0_5dbd_11ec_82de_12769fcdc453row6_col2,#T_a1c080f0_5dbd_11ec_82de_12769fcdc453row6_col3,#T_a1c080f0_5dbd_11ec_82de_12769fcdc453row6_col4,#T_a1c080f0_5dbd_11ec_82de_12769fcdc453row6_col5,#T_a1c080f0_5dbd_11ec_82de_12769fcdc453row6_col6,#T_a1c080f0_5dbd_11ec_82de_12769fcdc453row6_col7,#T_a1c080f0_5dbd_11ec_82de_12769fcdc453row7_col0,#T_a1c080f0_5dbd_11ec_82de_12769fcdc453row7_col1,#T_a1c080f0_5dbd_11ec_82de_12769fcdc453row7_col3,#T_a1c080f0_5dbd_11ec_82de_12769fcdc453row7_col4,#T_a1c080f0_5dbd_11ec_82de_12769fcdc453row7_col5,#T_a1c080f0_5dbd_11ec_82de_12769fcdc453row7_col7,#T_a1c080f0_5dbd_11ec_82de_12769fcdc453row8_col0,#T_a1c080f0_5dbd_11ec_82de_12769fcdc453row8_col1,#T_a1c080f0_5dbd_11ec_82de_12769fcdc453row8_col2,#T_a1c080f0_5dbd_11ec_82de_12769fcdc453row8_col3,#T_a1c080f0_5dbd_11ec_82de_12769fcdc453row8_col4,#T_a1c080f0_5dbd_11ec_82de_12769fcdc453row8_col5,#T_a1c080f0_5dbd_11ec_82de_12769fcdc453row8_col6,#T_a1c080f0_5dbd_11ec_82de_12769fcdc453row8_col7,#T_a1c080f0_5dbd_11ec_82de_12769fcdc453row9_col0,#T_a1c080f0_5dbd_11ec_82de_12769fcdc453row9_col1,#T_a1c080f0_5dbd_11ec_82de_12769fcdc453row9_col2,#T_a1c080f0_5dbd_11ec_82de_12769fcdc453row9_col3,#T_a1c080f0_5dbd_11ec_82de_12769fcdc453row9_col4,#T_a1c080f0_5dbd_11ec_82de_12769fcdc453row9_col6,#T_a1c080f0_5dbd_11ec_82de_12769fcdc453row10_col0,#T_a1c080f0_5dbd_11ec_82de_12769fcdc453row10_col1,#T_a1c080f0_5dbd_11ec_82de_12769fcdc453row10_col2,#T_a1c080f0_5dbd_11ec_82de_12769fcdc453row10_col3,#T_a1c080f0_5dbd_11ec_82de_12769fcdc453row10_col4,#T_a1c080f0_5dbd_11ec_82de_12769fcdc453row10_col5,#T_a1c080f0_5dbd_11ec_82de_12769fcdc453row10_col6,#T_a1c080f0_5dbd_11ec_82de_12769fcdc453row10_col7,#T_a1c080f0_5dbd_11ec_82de_12769fcdc453row11_col0,#T_a1c080f0_5dbd_11ec_82de_12769fcdc453row11_col1,#T_a1c080f0_5dbd_11ec_82de_12769fcdc453row11_col2,#T_a1c080f0_5dbd_11ec_82de_12769fcdc453row11_col3,#T_a1c080f0_5dbd_11ec_82de_12769fcdc453row11_col4,#T_a1c080f0_5dbd_11ec_82de_12769fcdc453row11_col5,#T_a1c080f0_5dbd_11ec_82de_12769fcdc453row11_col6,#T_a1c080f0_5dbd_11ec_82de_12769fcdc453row11_col7,#T_a1c080f0_5dbd_11ec_82de_12769fcdc453row12_col0,#T_a1c080f0_5dbd_11ec_82de_12769fcdc453row12_col1,#T_a1c080f0_5dbd_11ec_82de_12769fcdc453row12_col2,#T_a1c080f0_5dbd_11ec_82de_12769fcdc453row12_col3,#T_a1c080f0_5dbd_11ec_82de_12769fcdc453row12_col4,#T_a1c080f0_5dbd_11ec_82de_12769fcdc453row12_col5,#T_a1c080f0_5dbd_11ec_82de_12769fcdc453row12_col6,#T_a1c080f0_5dbd_11ec_82de_12769fcdc453row12_col7,#T_a1c080f0_5dbd_11ec_82de_12769fcdc453row13_col0,#T_a1c080f0_5dbd_11ec_82de_12769fcdc453row13_col1,#T_a1c080f0_5dbd_11ec_82de_12769fcdc453row13_col2,#T_a1c080f0_5dbd_11ec_82de_12769fcdc453row13_col4,#T_a1c080f0_5dbd_11ec_82de_12769fcdc453row13_col5,#T_a1c080f0_5dbd_11ec_82de_12769fcdc453row13_col6,#T_a1c080f0_5dbd_11ec_82de_12769fcdc453row13_col7{\n",
       "            text-align:  left;\n",
       "            text-align:  left;\n",
       "        }#T_a1c080f0_5dbd_11ec_82de_12769fcdc453row0_col1,#T_a1c080f0_5dbd_11ec_82de_12769fcdc453row2_col4,#T_a1c080f0_5dbd_11ec_82de_12769fcdc453row7_col2,#T_a1c080f0_5dbd_11ec_82de_12769fcdc453row7_col6,#T_a1c080f0_5dbd_11ec_82de_12769fcdc453row9_col5,#T_a1c080f0_5dbd_11ec_82de_12769fcdc453row9_col7,#T_a1c080f0_5dbd_11ec_82de_12769fcdc453row13_col3{\n",
       "            text-align:  left;\n",
       "            text-align:  left;\n",
       "            background-color:  yellow;\n",
       "        }#T_a1c080f0_5dbd_11ec_82de_12769fcdc453row0_col8{\n",
       "            text-align:  left;\n",
       "            text-align:  left;\n",
       "            background-color:  yellow;\n",
       "            background-color:  lightgrey;\n",
       "        }#T_a1c080f0_5dbd_11ec_82de_12769fcdc453row1_col8,#T_a1c080f0_5dbd_11ec_82de_12769fcdc453row2_col8,#T_a1c080f0_5dbd_11ec_82de_12769fcdc453row3_col8,#T_a1c080f0_5dbd_11ec_82de_12769fcdc453row4_col8,#T_a1c080f0_5dbd_11ec_82de_12769fcdc453row5_col8,#T_a1c080f0_5dbd_11ec_82de_12769fcdc453row6_col8,#T_a1c080f0_5dbd_11ec_82de_12769fcdc453row7_col8,#T_a1c080f0_5dbd_11ec_82de_12769fcdc453row8_col8,#T_a1c080f0_5dbd_11ec_82de_12769fcdc453row9_col8,#T_a1c080f0_5dbd_11ec_82de_12769fcdc453row10_col8,#T_a1c080f0_5dbd_11ec_82de_12769fcdc453row11_col8,#T_a1c080f0_5dbd_11ec_82de_12769fcdc453row12_col8,#T_a1c080f0_5dbd_11ec_82de_12769fcdc453row13_col8{\n",
       "            text-align:  left;\n",
       "            text-align:  left;\n",
       "            background-color:  lightgrey;\n",
       "        }</style><table id=\"T_a1c080f0_5dbd_11ec_82de_12769fcdc453\" ><thead>    <tr>        <th class=\"blank level0\" ></th>        <th class=\"col_heading level0 col0\" >Model</th>        <th class=\"col_heading level0 col1\" >Accuracy</th>        <th class=\"col_heading level0 col2\" >AUC</th>        <th class=\"col_heading level0 col3\" >Recall</th>        <th class=\"col_heading level0 col4\" >Prec.</th>        <th class=\"col_heading level0 col5\" >F1</th>        <th class=\"col_heading level0 col6\" >Kappa</th>        <th class=\"col_heading level0 col7\" >MCC</th>        <th class=\"col_heading level0 col8\" >TT (Sec)</th>    </tr></thead><tbody>\n",
       "                <tr>\n",
       "                        <th id=\"T_a1c080f0_5dbd_11ec_82de_12769fcdc453level0_row0\" class=\"row_heading level0 row0\" >dummy</th>\n",
       "                        <td id=\"T_a1c080f0_5dbd_11ec_82de_12769fcdc453row0_col0\" class=\"data row0 col0\" >Dummy Classifier</td>\n",
       "                        <td id=\"T_a1c080f0_5dbd_11ec_82de_12769fcdc453row0_col1\" class=\"data row0 col1\" >0.9394</td>\n",
       "                        <td id=\"T_a1c080f0_5dbd_11ec_82de_12769fcdc453row0_col2\" class=\"data row0 col2\" >0.5000</td>\n",
       "                        <td id=\"T_a1c080f0_5dbd_11ec_82de_12769fcdc453row0_col3\" class=\"data row0 col3\" >0.0000</td>\n",
       "                        <td id=\"T_a1c080f0_5dbd_11ec_82de_12769fcdc453row0_col4\" class=\"data row0 col4\" >0.0000</td>\n",
       "                        <td id=\"T_a1c080f0_5dbd_11ec_82de_12769fcdc453row0_col5\" class=\"data row0 col5\" >0.0000</td>\n",
       "                        <td id=\"T_a1c080f0_5dbd_11ec_82de_12769fcdc453row0_col6\" class=\"data row0 col6\" >0.0000</td>\n",
       "                        <td id=\"T_a1c080f0_5dbd_11ec_82de_12769fcdc453row0_col7\" class=\"data row0 col7\" >0.0000</td>\n",
       "                        <td id=\"T_a1c080f0_5dbd_11ec_82de_12769fcdc453row0_col8\" class=\"data row0 col8\" >3.5150</td>\n",
       "            </tr>\n",
       "            <tr>\n",
       "                        <th id=\"T_a1c080f0_5dbd_11ec_82de_12769fcdc453level0_row1\" class=\"row_heading level0 row1\" >rf</th>\n",
       "                        <td id=\"T_a1c080f0_5dbd_11ec_82de_12769fcdc453row1_col0\" class=\"data row1 col0\" >Random Forest Classifier</td>\n",
       "                        <td id=\"T_a1c080f0_5dbd_11ec_82de_12769fcdc453row1_col1\" class=\"data row1 col1\" >0.9196</td>\n",
       "                        <td id=\"T_a1c080f0_5dbd_11ec_82de_12769fcdc453row1_col2\" class=\"data row1 col2\" >0.5866</td>\n",
       "                        <td id=\"T_a1c080f0_5dbd_11ec_82de_12769fcdc453row1_col3\" class=\"data row1 col3\" >0.0327</td>\n",
       "                        <td id=\"T_a1c080f0_5dbd_11ec_82de_12769fcdc453row1_col4\" class=\"data row1 col4\" >0.0829</td>\n",
       "                        <td id=\"T_a1c080f0_5dbd_11ec_82de_12769fcdc453row1_col5\" class=\"data row1 col5\" >0.0468</td>\n",
       "                        <td id=\"T_a1c080f0_5dbd_11ec_82de_12769fcdc453row1_col6\" class=\"data row1 col6\" >0.0132</td>\n",
       "                        <td id=\"T_a1c080f0_5dbd_11ec_82de_12769fcdc453row1_col7\" class=\"data row1 col7\" >0.0148</td>\n",
       "                        <td id=\"T_a1c080f0_5dbd_11ec_82de_12769fcdc453row1_col8\" class=\"data row1 col8\" >22.4300</td>\n",
       "            </tr>\n",
       "            <tr>\n",
       "                        <th id=\"T_a1c080f0_5dbd_11ec_82de_12769fcdc453level0_row2\" class=\"row_heading level0 row2\" >lightgbm</th>\n",
       "                        <td id=\"T_a1c080f0_5dbd_11ec_82de_12769fcdc453row2_col0\" class=\"data row2 col0\" >Light Gradient Boosting Machine</td>\n",
       "                        <td id=\"T_a1c080f0_5dbd_11ec_82de_12769fcdc453row2_col1\" class=\"data row2 col1\" >0.9119</td>\n",
       "                        <td id=\"T_a1c080f0_5dbd_11ec_82de_12769fcdc453row2_col2\" class=\"data row2 col2\" >0.6367</td>\n",
       "                        <td id=\"T_a1c080f0_5dbd_11ec_82de_12769fcdc453row2_col3\" class=\"data row2 col3\" >0.0853</td>\n",
       "                        <td id=\"T_a1c080f0_5dbd_11ec_82de_12769fcdc453row2_col4\" class=\"data row2 col4\" >0.1366</td>\n",
       "                        <td id=\"T_a1c080f0_5dbd_11ec_82de_12769fcdc453row2_col5\" class=\"data row2 col5\" >0.1050</td>\n",
       "                        <td id=\"T_a1c080f0_5dbd_11ec_82de_12769fcdc453row2_col6\" class=\"data row2 col6\" >0.0613</td>\n",
       "                        <td id=\"T_a1c080f0_5dbd_11ec_82de_12769fcdc453row2_col7\" class=\"data row2 col7\" >0.0632</td>\n",
       "                        <td id=\"T_a1c080f0_5dbd_11ec_82de_12769fcdc453row2_col8\" class=\"data row2 col8\" >17.1100</td>\n",
       "            </tr>\n",
       "            <tr>\n",
       "                        <th id=\"T_a1c080f0_5dbd_11ec_82de_12769fcdc453level0_row3\" class=\"row_heading level0 row3\" >et</th>\n",
       "                        <td id=\"T_a1c080f0_5dbd_11ec_82de_12769fcdc453row3_col0\" class=\"data row3 col0\" >Extra Trees Classifier</td>\n",
       "                        <td id=\"T_a1c080f0_5dbd_11ec_82de_12769fcdc453row3_col1\" class=\"data row3 col1\" >0.8923</td>\n",
       "                        <td id=\"T_a1c080f0_5dbd_11ec_82de_12769fcdc453row3_col2\" class=\"data row3 col2\" >0.5862</td>\n",
       "                        <td id=\"T_a1c080f0_5dbd_11ec_82de_12769fcdc453row3_col3\" class=\"data row3 col3\" >0.0784</td>\n",
       "                        <td id=\"T_a1c080f0_5dbd_11ec_82de_12769fcdc453row3_col4\" class=\"data row3 col4\" >0.0838</td>\n",
       "                        <td id=\"T_a1c080f0_5dbd_11ec_82de_12769fcdc453row3_col5\" class=\"data row3 col5\" >0.0810</td>\n",
       "                        <td id=\"T_a1c080f0_5dbd_11ec_82de_12769fcdc453row3_col6\" class=\"data row3 col6\" >0.0239</td>\n",
       "                        <td id=\"T_a1c080f0_5dbd_11ec_82de_12769fcdc453row3_col7\" class=\"data row3 col7\" >0.0239</td>\n",
       "                        <td id=\"T_a1c080f0_5dbd_11ec_82de_12769fcdc453row3_col8\" class=\"data row3 col8\" >22.8250</td>\n",
       "            </tr>\n",
       "            <tr>\n",
       "                        <th id=\"T_a1c080f0_5dbd_11ec_82de_12769fcdc453level0_row4\" class=\"row_heading level0 row4\" >svm</th>\n",
       "                        <td id=\"T_a1c080f0_5dbd_11ec_82de_12769fcdc453row4_col0\" class=\"data row4 col0\" >SVM - Linear Kernel</td>\n",
       "                        <td id=\"T_a1c080f0_5dbd_11ec_82de_12769fcdc453row4_col1\" class=\"data row4 col1\" >0.8769</td>\n",
       "                        <td id=\"T_a1c080f0_5dbd_11ec_82de_12769fcdc453row4_col2\" class=\"data row4 col2\" >0.0000</td>\n",
       "                        <td id=\"T_a1c080f0_5dbd_11ec_82de_12769fcdc453row4_col3\" class=\"data row4 col3\" >0.1586</td>\n",
       "                        <td id=\"T_a1c080f0_5dbd_11ec_82de_12769fcdc453row4_col4\" class=\"data row4 col4\" >0.1168</td>\n",
       "                        <td id=\"T_a1c080f0_5dbd_11ec_82de_12769fcdc453row4_col5\" class=\"data row4 col5\" >0.1293</td>\n",
       "                        <td id=\"T_a1c080f0_5dbd_11ec_82de_12769fcdc453row4_col6\" class=\"data row4 col6\" >0.0671</td>\n",
       "                        <td id=\"T_a1c080f0_5dbd_11ec_82de_12769fcdc453row4_col7\" class=\"data row4 col7\" >0.0697</td>\n",
       "                        <td id=\"T_a1c080f0_5dbd_11ec_82de_12769fcdc453row4_col8\" class=\"data row4 col8\" >100.8800</td>\n",
       "            </tr>\n",
       "            <tr>\n",
       "                        <th id=\"T_a1c080f0_5dbd_11ec_82de_12769fcdc453level0_row5\" class=\"row_heading level0 row5\" >ridge</th>\n",
       "                        <td id=\"T_a1c080f0_5dbd_11ec_82de_12769fcdc453row5_col0\" class=\"data row5 col0\" >Ridge Classifier</td>\n",
       "                        <td id=\"T_a1c080f0_5dbd_11ec_82de_12769fcdc453row5_col1\" class=\"data row5 col1\" >0.8455</td>\n",
       "                        <td id=\"T_a1c080f0_5dbd_11ec_82de_12769fcdc453row5_col2\" class=\"data row5 col2\" >0.0000</td>\n",
       "                        <td id=\"T_a1c080f0_5dbd_11ec_82de_12769fcdc453row5_col3\" class=\"data row5 col3\" >0.2454</td>\n",
       "                        <td id=\"T_a1c080f0_5dbd_11ec_82de_12769fcdc453row5_col4\" class=\"data row5 col4\" >0.1202</td>\n",
       "                        <td id=\"T_a1c080f0_5dbd_11ec_82de_12769fcdc453row5_col5\" class=\"data row5 col5\" >0.1614</td>\n",
       "                        <td id=\"T_a1c080f0_5dbd_11ec_82de_12769fcdc453row5_col6\" class=\"data row5 col6\" >0.0871</td>\n",
       "                        <td id=\"T_a1c080f0_5dbd_11ec_82de_12769fcdc453row5_col7\" class=\"data row5 col7\" >0.0939</td>\n",
       "                        <td id=\"T_a1c080f0_5dbd_11ec_82de_12769fcdc453row5_col8\" class=\"data row5 col8\" >4.0300</td>\n",
       "            </tr>\n",
       "            <tr>\n",
       "                        <th id=\"T_a1c080f0_5dbd_11ec_82de_12769fcdc453level0_row6\" class=\"row_heading level0 row6\" >lda</th>\n",
       "                        <td id=\"T_a1c080f0_5dbd_11ec_82de_12769fcdc453row6_col0\" class=\"data row6 col0\" >Linear Discriminant Analysis</td>\n",
       "                        <td id=\"T_a1c080f0_5dbd_11ec_82de_12769fcdc453row6_col1\" class=\"data row6 col1\" >0.8455</td>\n",
       "                        <td id=\"T_a1c080f0_5dbd_11ec_82de_12769fcdc453row6_col2\" class=\"data row6 col2\" >0.6364</td>\n",
       "                        <td id=\"T_a1c080f0_5dbd_11ec_82de_12769fcdc453row6_col3\" class=\"data row6 col3\" >0.2454</td>\n",
       "                        <td id=\"T_a1c080f0_5dbd_11ec_82de_12769fcdc453row6_col4\" class=\"data row6 col4\" >0.1202</td>\n",
       "                        <td id=\"T_a1c080f0_5dbd_11ec_82de_12769fcdc453row6_col5\" class=\"data row6 col5\" >0.1614</td>\n",
       "                        <td id=\"T_a1c080f0_5dbd_11ec_82de_12769fcdc453row6_col6\" class=\"data row6 col6\" >0.0871</td>\n",
       "                        <td id=\"T_a1c080f0_5dbd_11ec_82de_12769fcdc453row6_col7\" class=\"data row6 col7\" >0.0939</td>\n",
       "                        <td id=\"T_a1c080f0_5dbd_11ec_82de_12769fcdc453row6_col8\" class=\"data row6 col8\" >8.6050</td>\n",
       "            </tr>\n",
       "            <tr>\n",
       "                        <th id=\"T_a1c080f0_5dbd_11ec_82de_12769fcdc453level0_row7\" class=\"row_heading level0 row7\" >gbc</th>\n",
       "                        <td id=\"T_a1c080f0_5dbd_11ec_82de_12769fcdc453row7_col0\" class=\"data row7 col0\" >Gradient Boosting Classifier</td>\n",
       "                        <td id=\"T_a1c080f0_5dbd_11ec_82de_12769fcdc453row7_col1\" class=\"data row7 col1\" >0.8382</td>\n",
       "                        <td id=\"T_a1c080f0_5dbd_11ec_82de_12769fcdc453row7_col2\" class=\"data row7 col2\" >0.6706</td>\n",
       "                        <td id=\"T_a1c080f0_5dbd_11ec_82de_12769fcdc453row7_col3\" class=\"data row7 col3\" >0.2841</td>\n",
       "                        <td id=\"T_a1c080f0_5dbd_11ec_82de_12769fcdc453row7_col4\" class=\"data row7 col4\" >0.1269</td>\n",
       "                        <td id=\"T_a1c080f0_5dbd_11ec_82de_12769fcdc453row7_col5\" class=\"data row7 col5\" >0.1754</td>\n",
       "                        <td id=\"T_a1c080f0_5dbd_11ec_82de_12769fcdc453row7_col6\" class=\"data row7 col6\" >0.1000</td>\n",
       "                        <td id=\"T_a1c080f0_5dbd_11ec_82de_12769fcdc453row7_col7\" class=\"data row7 col7\" >0.1101</td>\n",
       "                        <td id=\"T_a1c080f0_5dbd_11ec_82de_12769fcdc453row7_col8\" class=\"data row7 col8\" >305.6900</td>\n",
       "            </tr>\n",
       "            <tr>\n",
       "                        <th id=\"T_a1c080f0_5dbd_11ec_82de_12769fcdc453level0_row8\" class=\"row_heading level0 row8\" >dt</th>\n",
       "                        <td id=\"T_a1c080f0_5dbd_11ec_82de_12769fcdc453row8_col0\" class=\"data row8 col0\" >Decision Tree Classifier</td>\n",
       "                        <td id=\"T_a1c080f0_5dbd_11ec_82de_12769fcdc453row8_col1\" class=\"data row8 col1\" >0.7933</td>\n",
       "                        <td id=\"T_a1c080f0_5dbd_11ec_82de_12769fcdc453row8_col2\" class=\"data row8 col2\" >0.5128</td>\n",
       "                        <td id=\"T_a1c080f0_5dbd_11ec_82de_12769fcdc453row8_col3\" class=\"data row8 col3\" >0.1941</td>\n",
       "                        <td id=\"T_a1c080f0_5dbd_11ec_82de_12769fcdc453row8_col4\" class=\"data row8 col4\" >0.0694</td>\n",
       "                        <td id=\"T_a1c080f0_5dbd_11ec_82de_12769fcdc453row8_col5\" class=\"data row8 col5\" >0.1021</td>\n",
       "                        <td id=\"T_a1c080f0_5dbd_11ec_82de_12769fcdc453row8_col6\" class=\"data row8 col6\" >0.0142</td>\n",
       "                        <td id=\"T_a1c080f0_5dbd_11ec_82de_12769fcdc453row8_col7\" class=\"data row8 col7\" >0.0166</td>\n",
       "                        <td id=\"T_a1c080f0_5dbd_11ec_82de_12769fcdc453row8_col8\" class=\"data row8 col8\" >20.4400</td>\n",
       "            </tr>\n",
       "            <tr>\n",
       "                        <th id=\"T_a1c080f0_5dbd_11ec_82de_12769fcdc453level0_row9\" class=\"row_heading level0 row9\" >ada</th>\n",
       "                        <td id=\"T_a1c080f0_5dbd_11ec_82de_12769fcdc453row9_col0\" class=\"data row9 col0\" >Ada Boost Classifier</td>\n",
       "                        <td id=\"T_a1c080f0_5dbd_11ec_82de_12769fcdc453row9_col1\" class=\"data row9 col1\" >0.7563</td>\n",
       "                        <td id=\"T_a1c080f0_5dbd_11ec_82de_12769fcdc453row9_col2\" class=\"data row9 col2\" >0.6620</td>\n",
       "                        <td id=\"T_a1c080f0_5dbd_11ec_82de_12769fcdc453row9_col3\" class=\"data row9 col3\" >0.4285</td>\n",
       "                        <td id=\"T_a1c080f0_5dbd_11ec_82de_12769fcdc453row9_col4\" class=\"data row9 col4\" >0.1104</td>\n",
       "                        <td id=\"T_a1c080f0_5dbd_11ec_82de_12769fcdc453row9_col5\" class=\"data row9 col5\" >0.1756</td>\n",
       "                        <td id=\"T_a1c080f0_5dbd_11ec_82de_12769fcdc453row9_col6\" class=\"data row9 col6\" >0.0877</td>\n",
       "                        <td id=\"T_a1c080f0_5dbd_11ec_82de_12769fcdc453row9_col7\" class=\"data row9 col7\" >0.1158</td>\n",
       "                        <td id=\"T_a1c080f0_5dbd_11ec_82de_12769fcdc453row9_col8\" class=\"data row9 col8\" >81.8550</td>\n",
       "            </tr>\n",
       "            <tr>\n",
       "                        <th id=\"T_a1c080f0_5dbd_11ec_82de_12769fcdc453level0_row10\" class=\"row_heading level0 row10\" >knn</th>\n",
       "                        <td id=\"T_a1c080f0_5dbd_11ec_82de_12769fcdc453row10_col0\" class=\"data row10 col0\" >K Neighbors Classifier</td>\n",
       "                        <td id=\"T_a1c080f0_5dbd_11ec_82de_12769fcdc453row10_col1\" class=\"data row10 col1\" >0.7395</td>\n",
       "                        <td id=\"T_a1c080f0_5dbd_11ec_82de_12769fcdc453row10_col2\" class=\"data row10 col2\" >0.5520</td>\n",
       "                        <td id=\"T_a1c080f0_5dbd_11ec_82de_12769fcdc453row10_col3\" class=\"data row10 col3\" >0.3084</td>\n",
       "                        <td id=\"T_a1c080f0_5dbd_11ec_82de_12769fcdc453row10_col4\" class=\"data row10 col4\" >0.0787</td>\n",
       "                        <td id=\"T_a1c080f0_5dbd_11ec_82de_12769fcdc453row10_col5\" class=\"data row10 col5\" >0.1254</td>\n",
       "                        <td id=\"T_a1c080f0_5dbd_11ec_82de_12769fcdc453row10_col6\" class=\"data row10 col6\" >0.0320</td>\n",
       "                        <td id=\"T_a1c080f0_5dbd_11ec_82de_12769fcdc453row10_col7\" class=\"data row10 col7\" >0.0425</td>\n",
       "                        <td id=\"T_a1c080f0_5dbd_11ec_82de_12769fcdc453row10_col8\" class=\"data row10 col8\" >536.4400</td>\n",
       "            </tr>\n",
       "            <tr>\n",
       "                        <th id=\"T_a1c080f0_5dbd_11ec_82de_12769fcdc453level0_row11\" class=\"row_heading level0 row11\" >lr</th>\n",
       "                        <td id=\"T_a1c080f0_5dbd_11ec_82de_12769fcdc453row11_col0\" class=\"data row11 col0\" >Logistic Regression</td>\n",
       "                        <td id=\"T_a1c080f0_5dbd_11ec_82de_12769fcdc453row11_col1\" class=\"data row11 col1\" >0.7148</td>\n",
       "                        <td id=\"T_a1c080f0_5dbd_11ec_82de_12769fcdc453row11_col2\" class=\"data row11 col2\" >0.6353</td>\n",
       "                        <td id=\"T_a1c080f0_5dbd_11ec_82de_12769fcdc453row11_col3\" class=\"data row11 col3\" >0.4668</td>\n",
       "                        <td id=\"T_a1c080f0_5dbd_11ec_82de_12769fcdc453row11_col4\" class=\"data row11 col4\" >0.1007</td>\n",
       "                        <td id=\"T_a1c080f0_5dbd_11ec_82de_12769fcdc453row11_col5\" class=\"data row11 col5\" >0.1656</td>\n",
       "                        <td id=\"T_a1c080f0_5dbd_11ec_82de_12769fcdc453row11_col6\" class=\"data row11 col6\" >0.0733</td>\n",
       "                        <td id=\"T_a1c080f0_5dbd_11ec_82de_12769fcdc453row11_col7\" class=\"data row11 col7\" >0.1050</td>\n",
       "                        <td id=\"T_a1c080f0_5dbd_11ec_82de_12769fcdc453row11_col8\" class=\"data row11 col8\" >100.8000</td>\n",
       "            </tr>\n",
       "            <tr>\n",
       "                        <th id=\"T_a1c080f0_5dbd_11ec_82de_12769fcdc453level0_row12\" class=\"row_heading level0 row12\" >qda</th>\n",
       "                        <td id=\"T_a1c080f0_5dbd_11ec_82de_12769fcdc453row12_col0\" class=\"data row12 col0\" >Quadratic Discriminant Analysis</td>\n",
       "                        <td id=\"T_a1c080f0_5dbd_11ec_82de_12769fcdc453row12_col1\" class=\"data row12 col1\" >0.6705</td>\n",
       "                        <td id=\"T_a1c080f0_5dbd_11ec_82de_12769fcdc453row12_col2\" class=\"data row12 col2\" >0.5856</td>\n",
       "                        <td id=\"T_a1c080f0_5dbd_11ec_82de_12769fcdc453row12_col3\" class=\"data row12 col3\" >0.3390</td>\n",
       "                        <td id=\"T_a1c080f0_5dbd_11ec_82de_12769fcdc453row12_col4\" class=\"data row12 col4\" >0.0855</td>\n",
       "                        <td id=\"T_a1c080f0_5dbd_11ec_82de_12769fcdc453row12_col5\" class=\"data row12 col5\" >0.0652</td>\n",
       "                        <td id=\"T_a1c080f0_5dbd_11ec_82de_12769fcdc453row12_col6\" class=\"data row12 col6\" >0.0077</td>\n",
       "                        <td id=\"T_a1c080f0_5dbd_11ec_82de_12769fcdc453row12_col7\" class=\"data row12 col7\" >0.0197</td>\n",
       "                        <td id=\"T_a1c080f0_5dbd_11ec_82de_12769fcdc453row12_col8\" class=\"data row12 col8\" >6.6000</td>\n",
       "            </tr>\n",
       "            <tr>\n",
       "                        <th id=\"T_a1c080f0_5dbd_11ec_82de_12769fcdc453level0_row13\" class=\"row_heading level0 row13\" >nb</th>\n",
       "                        <td id=\"T_a1c080f0_5dbd_11ec_82de_12769fcdc453row13_col0\" class=\"data row13 col0\" >Naive Bayes</td>\n",
       "                        <td id=\"T_a1c080f0_5dbd_11ec_82de_12769fcdc453row13_col1\" class=\"data row13 col1\" >0.2993</td>\n",
       "                        <td id=\"T_a1c080f0_5dbd_11ec_82de_12769fcdc453row13_col2\" class=\"data row13 col2\" >0.5997</td>\n",
       "                        <td id=\"T_a1c080f0_5dbd_11ec_82de_12769fcdc453row13_col3\" class=\"data row13 col3\" >0.7997</td>\n",
       "                        <td id=\"T_a1c080f0_5dbd_11ec_82de_12769fcdc453row13_col4\" class=\"data row13 col4\" >0.0658</td>\n",
       "                        <td id=\"T_a1c080f0_5dbd_11ec_82de_12769fcdc453row13_col5\" class=\"data row13 col5\" >0.1216</td>\n",
       "                        <td id=\"T_a1c080f0_5dbd_11ec_82de_12769fcdc453row13_col6\" class=\"data row13 col6\" >0.0109</td>\n",
       "                        <td id=\"T_a1c080f0_5dbd_11ec_82de_12769fcdc453row13_col7\" class=\"data row13 col7\" >0.0358</td>\n",
       "                        <td id=\"T_a1c080f0_5dbd_11ec_82de_12769fcdc453row13_col8\" class=\"data row13 col8\" >4.0550</td>\n",
       "            </tr>\n",
       "    </tbody></table>"
      ],
      "text/plain": [
       "<pandas.io.formats.style.Styler at 0x7fbeab0a0eb8>"
      ]
     },
     "metadata": {},
     "output_type": "display_data"
    }
   ],
   "source": [
    "best_model = compare_models()"
   ]
  },
  {
   "cell_type": "code",
   "execution_count": 11,
   "metadata": {},
   "outputs": [],
   "source": [
    "# df = pull()\n",
    "# df.to_csv('results_1_year.csv', index=False)\n",
    "df = pull().sort_values(by=['F1'], ascending=False)"
   ]
  },
  {
   "cell_type": "code",
   "execution_count": 12,
   "metadata": {},
   "outputs": [
    {
     "data": {
      "text/html": [
       "<style  type=\"text/css\" >\n",
       "#T_3454178c_5dbf_11ec_82de_12769fcdc453row5_col0,#T_3454178c_5dbf_11ec_82de_12769fcdc453row5_col1,#T_3454178c_5dbf_11ec_82de_12769fcdc453row5_col2,#T_3454178c_5dbf_11ec_82de_12769fcdc453row5_col3,#T_3454178c_5dbf_11ec_82de_12769fcdc453row5_col4,#T_3454178c_5dbf_11ec_82de_12769fcdc453row5_col5,#T_3454178c_5dbf_11ec_82de_12769fcdc453row5_col6{\n",
       "            background:  yellow;\n",
       "        }</style><table id=\"T_3454178c_5dbf_11ec_82de_12769fcdc453\" ><thead>    <tr>        <th class=\"blank level0\" ></th>        <th class=\"col_heading level0 col0\" >Accuracy</th>        <th class=\"col_heading level0 col1\" >AUC</th>        <th class=\"col_heading level0 col2\" >Recall</th>        <th class=\"col_heading level0 col3\" >Prec.</th>        <th class=\"col_heading level0 col4\" >F1</th>        <th class=\"col_heading level0 col5\" >Kappa</th>        <th class=\"col_heading level0 col6\" >MCC</th>    </tr></thead><tbody>\n",
       "                <tr>\n",
       "                        <th id=\"T_3454178c_5dbf_11ec_82de_12769fcdc453level0_row0\" class=\"row_heading level0 row0\" >0</th>\n",
       "                        <td id=\"T_3454178c_5dbf_11ec_82de_12769fcdc453row0_col0\" class=\"data row0 col0\" >0.7585</td>\n",
       "                        <td id=\"T_3454178c_5dbf_11ec_82de_12769fcdc453row0_col1\" class=\"data row0 col1\" >0.6577</td>\n",
       "                        <td id=\"T_3454178c_5dbf_11ec_82de_12769fcdc453row0_col2\" class=\"data row0 col2\" >0.4205</td>\n",
       "                        <td id=\"T_3454178c_5dbf_11ec_82de_12769fcdc453row0_col3\" class=\"data row0 col3\" >0.1098</td>\n",
       "                        <td id=\"T_3454178c_5dbf_11ec_82de_12769fcdc453row0_col4\" class=\"data row0 col4\" >0.1742</td>\n",
       "                        <td id=\"T_3454178c_5dbf_11ec_82de_12769fcdc453row0_col5\" class=\"data row0 col5\" >0.0864</td>\n",
       "                        <td id=\"T_3454178c_5dbf_11ec_82de_12769fcdc453row0_col6\" class=\"data row0 col6\" >0.1135</td>\n",
       "            </tr>\n",
       "            <tr>\n",
       "                        <th id=\"T_3454178c_5dbf_11ec_82de_12769fcdc453level0_row1\" class=\"row_heading level0 row1\" >1</th>\n",
       "                        <td id=\"T_3454178c_5dbf_11ec_82de_12769fcdc453row1_col0\" class=\"data row1 col0\" >0.7410</td>\n",
       "                        <td id=\"T_3454178c_5dbf_11ec_82de_12769fcdc453row1_col1\" class=\"data row1 col1\" >0.6650</td>\n",
       "                        <td id=\"T_3454178c_5dbf_11ec_82de_12769fcdc453row1_col2\" class=\"data row1 col2\" >0.4562</td>\n",
       "                        <td id=\"T_3454178c_5dbf_11ec_82de_12769fcdc453row1_col3\" class=\"data row1 col3\" >0.1089</td>\n",
       "                        <td id=\"T_3454178c_5dbf_11ec_82de_12769fcdc453row1_col4\" class=\"data row1 col4\" >0.1759</td>\n",
       "                        <td id=\"T_3454178c_5dbf_11ec_82de_12769fcdc453row1_col5\" class=\"data row1 col5\" >0.0865</td>\n",
       "                        <td id=\"T_3454178c_5dbf_11ec_82de_12769fcdc453row1_col6\" class=\"data row1 col6\" >0.1182</td>\n",
       "            </tr>\n",
       "            <tr>\n",
       "                        <th id=\"T_3454178c_5dbf_11ec_82de_12769fcdc453level0_row2\" class=\"row_heading level0 row2\" >2</th>\n",
       "                        <td id=\"T_3454178c_5dbf_11ec_82de_12769fcdc453row2_col0\" class=\"data row2 col0\" >0.7620</td>\n",
       "                        <td id=\"T_3454178c_5dbf_11ec_82de_12769fcdc453row2_col1\" class=\"data row2 col1\" >0.6536</td>\n",
       "                        <td id=\"T_3454178c_5dbf_11ec_82de_12769fcdc453row2_col2\" class=\"data row2 col2\" >0.4190</td>\n",
       "                        <td id=\"T_3454178c_5dbf_11ec_82de_12769fcdc453row2_col3\" class=\"data row2 col3\" >0.1112</td>\n",
       "                        <td id=\"T_3454178c_5dbf_11ec_82de_12769fcdc453row2_col4\" class=\"data row2 col4\" >0.1758</td>\n",
       "                        <td id=\"T_3454178c_5dbf_11ec_82de_12769fcdc453row2_col5\" class=\"data row2 col5\" >0.0885</td>\n",
       "                        <td id=\"T_3454178c_5dbf_11ec_82de_12769fcdc453row2_col6\" class=\"data row2 col6\" >0.1154</td>\n",
       "            </tr>\n",
       "            <tr>\n",
       "                        <th id=\"T_3454178c_5dbf_11ec_82de_12769fcdc453level0_row3\" class=\"row_heading level0 row3\" >3</th>\n",
       "                        <td id=\"T_3454178c_5dbf_11ec_82de_12769fcdc453row3_col0\" class=\"data row3 col0\" >0.7490</td>\n",
       "                        <td id=\"T_3454178c_5dbf_11ec_82de_12769fcdc453row3_col1\" class=\"data row3 col1\" >0.6610</td>\n",
       "                        <td id=\"T_3454178c_5dbf_11ec_82de_12769fcdc453row3_col2\" class=\"data row3 col2\" >0.4352</td>\n",
       "                        <td id=\"T_3454178c_5dbf_11ec_82de_12769fcdc453row3_col3\" class=\"data row3 col3\" >0.1084</td>\n",
       "                        <td id=\"T_3454178c_5dbf_11ec_82de_12769fcdc453row3_col4\" class=\"data row3 col4\" >0.1736</td>\n",
       "                        <td id=\"T_3454178c_5dbf_11ec_82de_12769fcdc453row3_col5\" class=\"data row3 col5\" >0.0848</td>\n",
       "                        <td id=\"T_3454178c_5dbf_11ec_82de_12769fcdc453row3_col6\" class=\"data row3 col6\" >0.1137</td>\n",
       "            </tr>\n",
       "            <tr>\n",
       "                        <th id=\"T_3454178c_5dbf_11ec_82de_12769fcdc453level0_row4\" class=\"row_heading level0 row4\" >4</th>\n",
       "                        <td id=\"T_3454178c_5dbf_11ec_82de_12769fcdc453row4_col0\" class=\"data row4 col0\" >0.7487</td>\n",
       "                        <td id=\"T_3454178c_5dbf_11ec_82de_12769fcdc453row4_col1\" class=\"data row4 col1\" >0.6679</td>\n",
       "                        <td id=\"T_3454178c_5dbf_11ec_82de_12769fcdc453row4_col2\" class=\"data row4 col2\" >0.4376</td>\n",
       "                        <td id=\"T_3454178c_5dbf_11ec_82de_12769fcdc453row4_col3\" class=\"data row4 col3\" >0.1087</td>\n",
       "                        <td id=\"T_3454178c_5dbf_11ec_82de_12769fcdc453row4_col4\" class=\"data row4 col4\" >0.1742</td>\n",
       "                        <td id=\"T_3454178c_5dbf_11ec_82de_12769fcdc453row4_col5\" class=\"data row4 col5\" >0.0855</td>\n",
       "                        <td id=\"T_3454178c_5dbf_11ec_82de_12769fcdc453row4_col6\" class=\"data row4 col6\" >0.1146</td>\n",
       "            </tr>\n",
       "            <tr>\n",
       "                        <th id=\"T_3454178c_5dbf_11ec_82de_12769fcdc453level0_row5\" class=\"row_heading level0 row5\" >Mean</th>\n",
       "                        <td id=\"T_3454178c_5dbf_11ec_82de_12769fcdc453row5_col0\" class=\"data row5 col0\" >0.7518</td>\n",
       "                        <td id=\"T_3454178c_5dbf_11ec_82de_12769fcdc453row5_col1\" class=\"data row5 col1\" >0.6610</td>\n",
       "                        <td id=\"T_3454178c_5dbf_11ec_82de_12769fcdc453row5_col2\" class=\"data row5 col2\" >0.4337</td>\n",
       "                        <td id=\"T_3454178c_5dbf_11ec_82de_12769fcdc453row5_col3\" class=\"data row5 col3\" >0.1094</td>\n",
       "                        <td id=\"T_3454178c_5dbf_11ec_82de_12769fcdc453row5_col4\" class=\"data row5 col4\" >0.1747</td>\n",
       "                        <td id=\"T_3454178c_5dbf_11ec_82de_12769fcdc453row5_col5\" class=\"data row5 col5\" >0.0864</td>\n",
       "                        <td id=\"T_3454178c_5dbf_11ec_82de_12769fcdc453row5_col6\" class=\"data row5 col6\" >0.1151</td>\n",
       "            </tr>\n",
       "            <tr>\n",
       "                        <th id=\"T_3454178c_5dbf_11ec_82de_12769fcdc453level0_row6\" class=\"row_heading level0 row6\" >SD</th>\n",
       "                        <td id=\"T_3454178c_5dbf_11ec_82de_12769fcdc453row6_col0\" class=\"data row6 col0\" >0.0075</td>\n",
       "                        <td id=\"T_3454178c_5dbf_11ec_82de_12769fcdc453row6_col1\" class=\"data row6 col1\" >0.0051</td>\n",
       "                        <td id=\"T_3454178c_5dbf_11ec_82de_12769fcdc453row6_col2\" class=\"data row6 col2\" >0.0135</td>\n",
       "                        <td id=\"T_3454178c_5dbf_11ec_82de_12769fcdc453row6_col3\" class=\"data row6 col3\" >0.0010</td>\n",
       "                        <td id=\"T_3454178c_5dbf_11ec_82de_12769fcdc453row6_col4\" class=\"data row6 col4\" >0.0009</td>\n",
       "                        <td id=\"T_3454178c_5dbf_11ec_82de_12769fcdc453row6_col5\" class=\"data row6 col5\" >0.0013</td>\n",
       "                        <td id=\"T_3454178c_5dbf_11ec_82de_12769fcdc453row6_col6\" class=\"data row6 col6\" >0.0017</td>\n",
       "            </tr>\n",
       "    </tbody></table>"
      ],
      "text/plain": [
       "<pandas.io.formats.style.Styler at 0x7fbab803fe10>"
      ]
     },
     "metadata": {},
     "output_type": "display_data"
    },
    {
     "name": "stdout",
     "output_type": "stream",
     "text": [
      "Transformation Pipeline and Model Successfully Saved\n"
     ]
    },
    {
     "data": {
      "text/plain": [
       "(Pipeline(memory=None,\n",
       "          steps=[('dtypes',\n",
       "                  DataTypes_Auto_infer(categorical_features=[],\n",
       "                                       display_types=True, features_todrop=[],\n",
       "                                       id_columns=[],\n",
       "                                       ml_usecase='classification',\n",
       "                                       numerical_features=[],\n",
       "                                       target='injured_in_12_week',\n",
       "                                       time_features=[])),\n",
       "                 ('imputer',\n",
       "                  Simple_Imputer(categorical_strategy='not_available',\n",
       "                                 fill_value_categorical=None,\n",
       "                                 fill_value_numerical=None,\n",
       "                                 n...\n",
       "                  Advanced_Feature_Selection_Classic(ml_usecase='classification',\n",
       "                                                     n_jobs=-1,\n",
       "                                                     random_state=6192,\n",
       "                                                     subclass='binary',\n",
       "                                                     target='injured_in_12_week',\n",
       "                                                     top_features_to_pick=0.19999999999999996)),\n",
       "                 ('fix_multi', 'passthrough'), ('dfs', 'passthrough'),\n",
       "                 ('pca', 'passthrough'),\n",
       "                 ['trained_model',\n",
       "                  AdaBoostClassifier(algorithm='SAMME.R', base_estimator=None,\n",
       "                                     learning_rate=1.0, n_estimators=50,\n",
       "                                     random_state=6192)]],\n",
       "          verbose=False),\n",
       " 'model_1_quarter.pkl')"
      ]
     },
     "execution_count": 12,
     "metadata": {},
     "output_type": "execute_result"
    }
   ],
   "source": [
    "# Select best model\n",
    "model = create_model(df.index[0], fold=5)\n",
    "save_model(model, 'model_1_quarter')"
   ]
  },
  {
   "cell_type": "code",
   "execution_count": 13,
   "metadata": {},
   "outputs": [
    {
     "data": {
      "text/html": [
       "<style  type=\"text/css\" >\n",
       "#T_48b97f1a_5dc8_11ec_82de_12769fcdc453row2_col0,#T_48b97f1a_5dc8_11ec_82de_12769fcdc453row2_col1,#T_48b97f1a_5dc8_11ec_82de_12769fcdc453row2_col2,#T_48b97f1a_5dc8_11ec_82de_12769fcdc453row2_col3,#T_48b97f1a_5dc8_11ec_82de_12769fcdc453row2_col4,#T_48b97f1a_5dc8_11ec_82de_12769fcdc453row2_col5,#T_48b97f1a_5dc8_11ec_82de_12769fcdc453row2_col6{\n",
       "            background:  yellow;\n",
       "        }</style><table id=\"T_48b97f1a_5dc8_11ec_82de_12769fcdc453\" ><thead>    <tr>        <th class=\"blank level0\" ></th>        <th class=\"col_heading level0 col0\" >Accuracy</th>        <th class=\"col_heading level0 col1\" >AUC</th>        <th class=\"col_heading level0 col2\" >Recall</th>        <th class=\"col_heading level0 col3\" >Prec.</th>        <th class=\"col_heading level0 col4\" >F1</th>        <th class=\"col_heading level0 col5\" >Kappa</th>        <th class=\"col_heading level0 col6\" >MCC</th>    </tr></thead><tbody>\n",
       "                <tr>\n",
       "                        <th id=\"T_48b97f1a_5dc8_11ec_82de_12769fcdc453level0_row0\" class=\"row_heading level0 row0\" >0</th>\n",
       "                        <td id=\"T_48b97f1a_5dc8_11ec_82de_12769fcdc453row0_col0\" class=\"data row0 col0\" >0.7784</td>\n",
       "                        <td id=\"T_48b97f1a_5dc8_11ec_82de_12769fcdc453row0_col1\" class=\"data row0 col1\" >0.6680</td>\n",
       "                        <td id=\"T_48b97f1a_5dc8_11ec_82de_12769fcdc453row0_col2\" class=\"data row0 col2\" >0.4004</td>\n",
       "                        <td id=\"T_48b97f1a_5dc8_11ec_82de_12769fcdc453row0_col3\" class=\"data row0 col3\" >0.1158</td>\n",
       "                        <td id=\"T_48b97f1a_5dc8_11ec_82de_12769fcdc453row0_col4\" class=\"data row0 col4\" >0.1796</td>\n",
       "                        <td id=\"T_48b97f1a_5dc8_11ec_82de_12769fcdc453row0_col5\" class=\"data row0 col5\" >0.0945</td>\n",
       "                        <td id=\"T_48b97f1a_5dc8_11ec_82de_12769fcdc453row0_col6\" class=\"data row0 col6\" >0.1191</td>\n",
       "            </tr>\n",
       "            <tr>\n",
       "                        <th id=\"T_48b97f1a_5dc8_11ec_82de_12769fcdc453level0_row1\" class=\"row_heading level0 row1\" >1</th>\n",
       "                        <td id=\"T_48b97f1a_5dc8_11ec_82de_12769fcdc453row1_col0\" class=\"data row1 col0\" >0.7721</td>\n",
       "                        <td id=\"T_48b97f1a_5dc8_11ec_82de_12769fcdc453row1_col1\" class=\"data row1 col1\" >0.6669</td>\n",
       "                        <td id=\"T_48b97f1a_5dc8_11ec_82de_12769fcdc453row1_col2\" class=\"data row1 col2\" >0.4028</td>\n",
       "                        <td id=\"T_48b97f1a_5dc8_11ec_82de_12769fcdc453row1_col3\" class=\"data row1 col3\" >0.1129</td>\n",
       "                        <td id=\"T_48b97f1a_5dc8_11ec_82de_12769fcdc453row1_col4\" class=\"data row1 col4\" >0.1763</td>\n",
       "                        <td id=\"T_48b97f1a_5dc8_11ec_82de_12769fcdc453row1_col5\" class=\"data row1 col5\" >0.0902</td>\n",
       "                        <td id=\"T_48b97f1a_5dc8_11ec_82de_12769fcdc453row1_col6\" class=\"data row1 col6\" >0.1151</td>\n",
       "            </tr>\n",
       "            <tr>\n",
       "                        <th id=\"T_48b97f1a_5dc8_11ec_82de_12769fcdc453level0_row2\" class=\"row_heading level0 row2\" >Mean</th>\n",
       "                        <td id=\"T_48b97f1a_5dc8_11ec_82de_12769fcdc453row2_col0\" class=\"data row2 col0\" >0.7752</td>\n",
       "                        <td id=\"T_48b97f1a_5dc8_11ec_82de_12769fcdc453row2_col1\" class=\"data row2 col1\" >0.6674</td>\n",
       "                        <td id=\"T_48b97f1a_5dc8_11ec_82de_12769fcdc453row2_col2\" class=\"data row2 col2\" >0.4016</td>\n",
       "                        <td id=\"T_48b97f1a_5dc8_11ec_82de_12769fcdc453row2_col3\" class=\"data row2 col3\" >0.1143</td>\n",
       "                        <td id=\"T_48b97f1a_5dc8_11ec_82de_12769fcdc453row2_col4\" class=\"data row2 col4\" >0.1780</td>\n",
       "                        <td id=\"T_48b97f1a_5dc8_11ec_82de_12769fcdc453row2_col5\" class=\"data row2 col5\" >0.0924</td>\n",
       "                        <td id=\"T_48b97f1a_5dc8_11ec_82de_12769fcdc453row2_col6\" class=\"data row2 col6\" >0.1171</td>\n",
       "            </tr>\n",
       "            <tr>\n",
       "                        <th id=\"T_48b97f1a_5dc8_11ec_82de_12769fcdc453level0_row3\" class=\"row_heading level0 row3\" >SD</th>\n",
       "                        <td id=\"T_48b97f1a_5dc8_11ec_82de_12769fcdc453row3_col0\" class=\"data row3 col0\" >0.0032</td>\n",
       "                        <td id=\"T_48b97f1a_5dc8_11ec_82de_12769fcdc453row3_col1\" class=\"data row3 col1\" >0.0006</td>\n",
       "                        <td id=\"T_48b97f1a_5dc8_11ec_82de_12769fcdc453row3_col2\" class=\"data row3 col2\" >0.0012</td>\n",
       "                        <td id=\"T_48b97f1a_5dc8_11ec_82de_12769fcdc453row3_col3\" class=\"data row3 col3\" >0.0014</td>\n",
       "                        <td id=\"T_48b97f1a_5dc8_11ec_82de_12769fcdc453row3_col4\" class=\"data row3 col4\" >0.0016</td>\n",
       "                        <td id=\"T_48b97f1a_5dc8_11ec_82de_12769fcdc453row3_col5\" class=\"data row3 col5\" >0.0021</td>\n",
       "                        <td id=\"T_48b97f1a_5dc8_11ec_82de_12769fcdc453row3_col6\" class=\"data row3 col6\" >0.0020</td>\n",
       "            </tr>\n",
       "    </tbody></table>"
      ],
      "text/plain": [
       "<pandas.io.formats.style.Styler at 0x7fbb196f3f28>"
      ]
     },
     "metadata": {},
     "output_type": "display_data"
    },
    {
     "name": "stdout",
     "output_type": "stream",
     "text": [
      "Transformation Pipeline and Model Successfully Saved\n"
     ]
    },
    {
     "data": {
      "text/plain": [
       "(Pipeline(memory=None,\n",
       "          steps=[('dtypes',\n",
       "                  DataTypes_Auto_infer(categorical_features=[],\n",
       "                                       display_types=True, features_todrop=[],\n",
       "                                       id_columns=[],\n",
       "                                       ml_usecase='classification',\n",
       "                                       numerical_features=[],\n",
       "                                       target='injured_in_12_week',\n",
       "                                       time_features=[])),\n",
       "                 ('imputer',\n",
       "                  Simple_Imputer(categorical_strategy='not_available',\n",
       "                                 fill_value_categorical=None,\n",
       "                                 fill_value_numerical=None,\n",
       "                                 n...\n",
       "                  Advanced_Feature_Selection_Classic(ml_usecase='classification',\n",
       "                                                     n_jobs=-1,\n",
       "                                                     random_state=6192,\n",
       "                                                     subclass='binary',\n",
       "                                                     target='injured_in_12_week',\n",
       "                                                     top_features_to_pick=0.19999999999999996)),\n",
       "                 ('fix_multi', 'passthrough'), ('dfs', 'passthrough'),\n",
       "                 ('pca', 'passthrough'),\n",
       "                 ['trained_model',\n",
       "                  AdaBoostClassifier(algorithm='SAMME.R', base_estimator=None,\n",
       "                                     learning_rate=0.4, n_estimators=280,\n",
       "                                     random_state=6192)]],\n",
       "          verbose=False),\n",
       " 'model_1_quarter_tuned.pkl')"
      ]
     },
     "execution_count": 13,
     "metadata": {},
     "output_type": "execute_result"
    }
   ],
   "source": [
    "tuned_model = tune_model(model, optimize = 'F1')\n",
    "save_model(tuned_model, 'model_1_quarter_tuned')"
   ]
  },
  {
   "cell_type": "code",
   "execution_count": 16,
   "metadata": {},
   "outputs": [],
   "source": [
    "# nan_values = y_test.isna()\n",
    "# nan_columns = nan_values.any()\n",
    "\n",
    "# columns_with_nan = y_test.columns[nan_columns].tolist()\n",
    "# print(columns_with_nan)"
   ]
  },
  {
   "cell_type": "code",
   "execution_count": 17,
   "metadata": {},
   "outputs": [
    {
     "data": {
      "text/plain": [
       "<AxesSubplot:xlabel='injured_in_1_week', ylabel='count'>"
      ]
     },
     "execution_count": 17,
     "metadata": {},
     "output_type": "execute_result"
    },
    {
     "data": {
      "image/png": "[encoded data removed]",
      "text/plain": [
       "<Figure size 432x288 with 1 Axes>"
      ]
     },
     "metadata": {
      "needs_background": "light"
     },
     "output_type": "display_data"
    }
   ],
   "source": [
    "sns.countplot(x=injured_pred,data=df_train)"
   ]
  },
  {
   "cell_type": "code",
   "execution_count": 18,
   "metadata": {},
   "outputs": [
    {
     "data": {
      "text/plain": [
       "<AxesSubplot:xlabel='injured_in_1_week', ylabel='count'>"
      ]
     },
     "execution_count": 18,
     "metadata": {},
     "output_type": "execute_result"
    },
    {
     "data": {
      "image/png": "[encoded data removed]",
      "text/plain": [
       "<Figure size 432x288 with 1 Axes>"
      ]
     },
     "metadata": {
      "needs_background": "light"
     },
     "output_type": "display_data"
    }
   ],
   "source": [
    "sns.countplot(x=injured_pred,data=df_test)"
   ]
  },
  {
   "cell_type": "code",
   "execution_count": 19,
   "metadata": {},
   "outputs": [],
   "source": [
    "model_compare = pd.DataFrame(columns=['model', 'precision', 'recall', 'f1-score', 'support'])"
   ]
  },
  {
   "cell_type": "markdown",
   "metadata": {},
   "source": [
    "# Dummy Classifier"
   ]
  },
  {
   "cell_type": "code",
   "execution_count": 20,
   "metadata": {},
   "outputs": [
    {
     "data": {
      "text/plain": [
       "DummyClassifier(strategy='most_frequent')"
      ]
     },
     "execution_count": 20,
     "metadata": {},
     "output_type": "execute_result"
    }
   ],
   "source": [
    "from sklearn.model_selection import cross_validate\n",
    "from sklearn.dummy import DummyClassifier\n",
    "\n",
    "dummy_clf = DummyClassifier(strategy=\"most_frequent\")\n",
    "scoring = [\"accuracy\", \"balanced_accuracy\"]\n",
    "dummy_clf.fit(X_train, y_train)"
   ]
  },
  {
   "cell_type": "code",
   "execution_count": 21,
   "metadata": {},
   "outputs": [],
   "source": [
    "# index = []\n",
    "# scores = {\"Accuracy\": [], \"Balanced accuracy\": []}"
   ]
  },
  {
   "cell_type": "code",
   "execution_count": 22,
   "metadata": {},
   "outputs": [],
   "source": [
    "# index += [\"Dummy classifier\"]\n",
    "# cv_result = cross_validate(dummy_clf, X_train, y_train, scoring=scoring)\n",
    "# scores[\"Accuracy\"].append(cv_result[\"test_accuracy\"].mean())\n",
    "# scores[\"Balanced accuracy\"].append(cv_result[\"test_balanced_accuracy\"].mean())\n",
    "\n",
    "# df_scores = pd.DataFrame(scores, index=index)\n",
    "# df_scores"
   ]
  },
  {
   "cell_type": "code",
   "execution_count": 23,
   "metadata": {},
   "outputs": [],
   "source": [
    "y_pred_dummy = dummy_clf.predict(X_test)"
   ]
  },
  {
   "cell_type": "code",
   "execution_count": 24,
   "metadata": {},
   "outputs": [
    {
     "name": "stdout",
     "output_type": "stream",
     "text": [
      "Accuracy Score: 0.9468799010737121\n",
      "Confusion Matrix: \n",
      "[[125579      0]\n",
      " [  7045      0]]\n",
      "Area Under Curve: 0.5\n",
      "Recall score: 0.0\n"
     ]
    }
   ],
   "source": [
    "# performance\n",
    "print(f'Accuracy Score: {accuracy_score(y_test,y_pred_dummy)}')\n",
    "print(f'Confusion Matrix: \\n{confusion_matrix(y_test, y_pred_dummy)}')\n",
    "print(f'Area Under Curve: {roc_auc_score(y_test, y_pred_dummy)}')\n",
    "print(f'Recall score: {recall_score(y_test,y_pred_dummy)}')"
   ]
  },
  {
   "cell_type": "code",
   "execution_count": 25,
   "metadata": {},
   "outputs": [
    {
     "name": "stderr",
     "output_type": "stream",
     "text": [
      "/Library/Frameworks/Python.framework/Versions/3.8/lib/python3.8/site-packages/sklearn/metrics/_classification.py:1308: UndefinedMetricWarning: Precision and F-score are ill-defined and being set to 0.0 in labels with no predicted samples. Use `zero_division` parameter to control this behavior.\n",
      "  _warn_prf(average, modifier, msg_start, len(result))\n",
      "/Library/Frameworks/Python.framework/Versions/3.8/lib/python3.8/site-packages/sklearn/metrics/_classification.py:1308: UndefinedMetricWarning: Precision and F-score are ill-defined and being set to 0.0 in labels with no predicted samples. Use `zero_division` parameter to control this behavior.\n",
      "  _warn_prf(average, modifier, msg_start, len(result))\n",
      "/Library/Frameworks/Python.framework/Versions/3.8/lib/python3.8/site-packages/sklearn/metrics/_classification.py:1308: UndefinedMetricWarning: Precision and F-score are ill-defined and being set to 0.0 in labels with no predicted samples. Use `zero_division` parameter to control this behavior.\n",
      "  _warn_prf(average, modifier, msg_start, len(result))\n"
     ]
    }
   ],
   "source": [
    "from sklearn import metrics\n",
    "\n",
    "def get_classification_report(y_test, y_pred, classifier):\n",
    "    report = metrics.classification_report(y_test, y_pred, output_dict=True)\n",
    "    df_classification_report = pd.DataFrame(report).transpose()\n",
    "    df_classification_report = df_classification_report.sort_values(by=['f1-score'], ascending=False)\n",
    "    df_classification_report = df_classification_report.reset_index()\n",
    "    df_classification_report = df_classification_report[df_classification_report['index']=='1.0']\n",
    "    df_classification_report['model'] = classifier    \n",
    "    return df_classification_report[['model', 'precision', 'recall', 'f1-score', 'support']].reset_index(drop=True)\n",
    "\n",
    "df = get_classification_report(y_test, y_pred_dummy, 'Dummy Classifier')"
   ]
  },
  {
   "cell_type": "code",
   "execution_count": 26,
   "metadata": {},
   "outputs": [
    {
     "data": {
      "text/html": [
       "<div>\n",
       "<style scoped>\n",
       "    .dataframe tbody tr th:only-of-type {\n",
       "        vertical-align: middle;\n",
       "    }\n",
       "\n",
       "    .dataframe tbody tr th {\n",
       "        vertical-align: top;\n",
       "    }\n",
       "\n",
       "    .dataframe thead th {\n",
       "        text-align: right;\n",
       "    }\n",
       "</style>\n",
       "<table border=\"1\" class=\"dataframe\">\n",
       "  <thead>\n",
       "    <tr style=\"text-align: right;\">\n",
       "      <th></th>\n",
       "      <th>model</th>\n",
       "      <th>precision</th>\n",
       "      <th>recall</th>\n",
       "      <th>f1-score</th>\n",
       "      <th>support</th>\n",
       "    </tr>\n",
       "  </thead>\n",
       "  <tbody>\n",
       "    <tr>\n",
       "      <th>0</th>\n",
       "      <td>Dummy Classifier</td>\n",
       "      <td>0.0</td>\n",
       "      <td>0.0</td>\n",
       "      <td>0.0</td>\n",
       "      <td>7045.0</td>\n",
       "    </tr>\n",
       "  </tbody>\n",
       "</table>\n",
       "</div>"
      ],
      "text/plain": [
       "              model  precision  recall  f1-score  support\n",
       "0  Dummy Classifier        0.0     0.0       0.0   7045.0"
      ]
     },
     "execution_count": 26,
     "metadata": {},
     "output_type": "execute_result"
    }
   ],
   "source": [
    "model_compare = model_compare.append(df)\n",
    "model_compare.head()"
   ]
  },
  {
   "cell_type": "markdown",
   "metadata": {},
   "source": [
    "# Logistic Regression (Non-Weighted)"
   ]
  },
  {
   "cell_type": "code",
   "execution_count": 27,
   "metadata": {},
   "outputs": [
    {
     "data": {
      "text/plain": [
       "LogisticRegression(max_iter=1000)"
      ]
     },
     "execution_count": 27,
     "metadata": {},
     "output_type": "execute_result"
    }
   ],
   "source": [
    "lr_clf = LogisticRegression(max_iter=1000)\n",
    "lr_clf.fit(X_train, y_train)"
   ]
  },
  {
   "cell_type": "code",
   "execution_count": 28,
   "metadata": {},
   "outputs": [],
   "source": [
    "# index += [\"Logistic regression\"]\n",
    "# cv_result = cross_validate(lr_clf, X_train, y_train, scoring=scoring)\n",
    "# scores[\"Accuracy\"].append(cv_result[\"test_accuracy\"].mean())\n",
    "# scores[\"Balanced accuracy\"].append(cv_result[\"test_balanced_accuracy\"].mean())\n",
    "\n",
    "# df_scores = pd.DataFrame(scores, index=index)\n",
    "# df_scores"
   ]
  },
  {
   "cell_type": "code",
   "execution_count": 29,
   "metadata": {},
   "outputs": [],
   "source": [
    "y_pred_lr = lr_clf.predict(X_test)"
   ]
  },
  {
   "cell_type": "code",
   "execution_count": 31,
   "metadata": {},
   "outputs": [
    {
     "name": "stdout",
     "output_type": "stream",
     "text": [
      "Accuracy Score: 0.9448968512486428\n",
      "Confusion Matrix: \n",
      "[[125262    317]\n",
      " [  6991     54]]\n",
      "Area Under Curve: 0.5025703516188811\n",
      "Recall score: 0.00766501064584812\n"
     ]
    }
   ],
   "source": [
    "# performance\n",
    "print(f'Accuracy Score: {accuracy_score(y_test,y_pred_lr)}')\n",
    "print(f'Confusion Matrix: \\n{confusion_matrix(y_test, y_pred_lr)}')\n",
    "print(f'Area Under Curve: {roc_auc_score(y_test, y_pred_lr)}')\n",
    "print(f'Recall score: {recall_score(y_test,y_pred_lr)}')"
   ]
  },
  {
   "cell_type": "code",
   "execution_count": 32,
   "metadata": {},
   "outputs": [
    {
     "data": {
      "text/html": [
       "<div>\n",
       "<style scoped>\n",
       "    .dataframe tbody tr th:only-of-type {\n",
       "        vertical-align: middle;\n",
       "    }\n",
       "\n",
       "    .dataframe tbody tr th {\n",
       "        vertical-align: top;\n",
       "    }\n",
       "\n",
       "    .dataframe thead th {\n",
       "        text-align: right;\n",
       "    }\n",
       "</style>\n",
       "<table border=\"1\" class=\"dataframe\">\n",
       "  <thead>\n",
       "    <tr style=\"text-align: right;\">\n",
       "      <th></th>\n",
       "      <th>model</th>\n",
       "      <th>precision</th>\n",
       "      <th>recall</th>\n",
       "      <th>f1-score</th>\n",
       "      <th>support</th>\n",
       "    </tr>\n",
       "  </thead>\n",
       "  <tbody>\n",
       "    <tr>\n",
       "      <th>0</th>\n",
       "      <td>Dummy Classifier</td>\n",
       "      <td>0.000000</td>\n",
       "      <td>0.000000</td>\n",
       "      <td>0.000000</td>\n",
       "      <td>7045.0</td>\n",
       "    </tr>\n",
       "    <tr>\n",
       "      <th>1</th>\n",
       "      <td>Logistic Regression</td>\n",
       "      <td>0.145553</td>\n",
       "      <td>0.007665</td>\n",
       "      <td>0.014563</td>\n",
       "      <td>7045.0</td>\n",
       "    </tr>\n",
       "  </tbody>\n",
       "</table>\n",
       "</div>"
      ],
      "text/plain": [
       "                 model  precision    recall  f1-score  support\n",
       "0     Dummy Classifier   0.000000  0.000000  0.000000   7045.0\n",
       "1  Logistic Regression   0.145553  0.007665  0.014563   7045.0"
      ]
     },
     "execution_count": 32,
     "metadata": {},
     "output_type": "execute_result"
    }
   ],
   "source": [
    "df = get_classification_report(y_test, y_pred_lr, 'Logistic Regression')\n",
    "model_compare = model_compare.append(df).reset_index(drop=True)\n",
    "model_compare.head()"
   ]
  },
  {
   "cell_type": "markdown",
   "metadata": {},
   "source": [
    "# Random Forest Classifier"
   ]
  },
  {
   "cell_type": "code",
   "execution_count": 33,
   "metadata": {},
   "outputs": [],
   "source": [
    "from sklearn.ensemble import RandomForestClassifier\n",
    "rf_clf = RandomForestClassifier(random_state=42, n_jobs=2)\n",
    "\n",
    "# index += [\"Random forest\"]\n",
    "# cv_result = cross_validate(rf_clf, X_train, y_train, scoring=scoring)\n",
    "# scores[\"Accuracy\"].append(cv_result[\"test_accuracy\"].mean())\n",
    "# scores[\"Balanced accuracy\"].append(cv_result[\"test_balanced_accuracy\"].mean())\n",
    "\n",
    "# df_scores = pd.DataFrame(scores, index=index)\n",
    "# df_scores"
   ]
  },
  {
   "cell_type": "code",
   "execution_count": 34,
   "metadata": {},
   "outputs": [],
   "source": [
    "rf_clf.fit(X_train, y_train)\n",
    "y_pred_rf = rf_clf.predict(X_test)"
   ]
  },
  {
   "cell_type": "code",
   "execution_count": 35,
   "metadata": {},
   "outputs": [
    {
     "name": "stdout",
     "output_type": "stream",
     "text": [
      "Accuracy Score: 0.9483125226203402\n",
      "Confusion Matrix: \n",
      "[[123857   1722]\n",
      " [  5133   1912]]\n",
      "Area Under Curve: 0.6288428354722531\n",
      "Recall score: 0.27139815471965933\n"
     ]
    }
   ],
   "source": [
    "# performance\n",
    "print(f'Accuracy Score: {accuracy_score(y_test,y_pred_rf)}')\n",
    "print(f'Confusion Matrix: \\n{confusion_matrix(y_test, y_pred_rf)}')\n",
    "print(f'Area Under Curve: {roc_auc_score(y_test, y_pred_rf)}')\n",
    "print(f'Recall score: {recall_score(y_test,y_pred_rf)}')"
   ]
  },
  {
   "cell_type": "code",
   "execution_count": 36,
   "metadata": {},
   "outputs": [
    {
     "data": {
      "text/html": [
       "<div>\n",
       "<style scoped>\n",
       "    .dataframe tbody tr th:only-of-type {\n",
       "        vertical-align: middle;\n",
       "    }\n",
       "\n",
       "    .dataframe tbody tr th {\n",
       "        vertical-align: top;\n",
       "    }\n",
       "\n",
       "    .dataframe thead th {\n",
       "        text-align: right;\n",
       "    }\n",
       "</style>\n",
       "<table border=\"1\" class=\"dataframe\">\n",
       "  <thead>\n",
       "    <tr style=\"text-align: right;\">\n",
       "      <th></th>\n",
       "      <th>model</th>\n",
       "      <th>precision</th>\n",
       "      <th>recall</th>\n",
       "      <th>f1-score</th>\n",
       "      <th>support</th>\n",
       "    </tr>\n",
       "  </thead>\n",
       "  <tbody>\n",
       "    <tr>\n",
       "      <th>0</th>\n",
       "      <td>Dummy Classifier</td>\n",
       "      <td>0.000000</td>\n",
       "      <td>0.000000</td>\n",
       "      <td>0.000000</td>\n",
       "      <td>7045.0</td>\n",
       "    </tr>\n",
       "    <tr>\n",
       "      <th>1</th>\n",
       "      <td>Logistic Regression</td>\n",
       "      <td>0.145553</td>\n",
       "      <td>0.007665</td>\n",
       "      <td>0.014563</td>\n",
       "      <td>7045.0</td>\n",
       "    </tr>\n",
       "    <tr>\n",
       "      <th>2</th>\n",
       "      <td>Random Forest</td>\n",
       "      <td>0.526142</td>\n",
       "      <td>0.271398</td>\n",
       "      <td>0.358086</td>\n",
       "      <td>7045.0</td>\n",
       "    </tr>\n",
       "  </tbody>\n",
       "</table>\n",
       "</div>"
      ],
      "text/plain": [
       "                 model  precision    recall  f1-score  support\n",
       "0     Dummy Classifier   0.000000  0.000000  0.000000   7045.0\n",
       "1  Logistic Regression   0.145553  0.007665  0.014563   7045.0\n",
       "2        Random Forest   0.526142  0.271398  0.358086   7045.0"
      ]
     },
     "execution_count": 36,
     "metadata": {},
     "output_type": "execute_result"
    }
   ],
   "source": [
    "df = get_classification_report(y_test, y_pred_rf, 'Random Forest')\n",
    "model_compare = model_compare.append(df).reset_index(drop=True)\n",
    "model_compare.head()"
   ]
  },
  {
   "cell_type": "markdown",
   "metadata": {},
   "source": [
    "# Balanced Logistic Regression"
   ]
  },
  {
   "cell_type": "code",
   "execution_count": 37,
   "metadata": {},
   "outputs": [],
   "source": [
    "lr_clf_bal = LogisticRegression(max_iter=1000)\n",
    "lr_clf_bal.set_params(class_weight=\"balanced\")\n",
    "lr_clf_bal.fit(X_train, y_train)\n",
    "y_pred_lr_bal = lr_clf_bal.predict(X_test)\n",
    "\n",
    "# index += [\"Logistic regression with balanced class weights\"]\n",
    "# cv_result = cross_validate(lr_clf, X_train, y_train, scoring=scoring)\n",
    "# scores[\"Accuracy\"].append(cv_result[\"test_accuracy\"].mean())\n",
    "# scores[\"Balanced accuracy\"].append(cv_result[\"test_balanced_accuracy\"].mean())\n",
    "\n",
    "# df_scores = pd.DataFrame(scores, index=index)\n",
    "# df_scores"
   ]
  },
  {
   "cell_type": "code",
   "execution_count": 38,
   "metadata": {},
   "outputs": [
    {
     "name": "stdout",
     "output_type": "stream",
     "text": [
      "Accuracy Score: 0.32146519483653035\n",
      "Confusion Matrix: \n",
      "[[36097 89482]\n",
      " [  508  6537]]\n",
      "Area Under Curve: 0.6076683394426173\n",
      "Recall score: 0.9278921220723918\n"
     ]
    }
   ],
   "source": [
    "# performance\n",
    "print(f'Accuracy Score: {accuracy_score(y_test,y_pred_lr_bal)}')\n",
    "print(f'Confusion Matrix: \\n{confusion_matrix(y_test, y_pred_lr_bal)}')\n",
    "print(f'Area Under Curve: {roc_auc_score(y_test, y_pred_lr_bal)}')\n",
    "print(f'Recall score: {recall_score(y_test,y_pred_lr_bal)}')"
   ]
  },
  {
   "cell_type": "code",
   "execution_count": 39,
   "metadata": {},
   "outputs": [
    {
     "data": {
      "text/html": [
       "<div>\n",
       "<style scoped>\n",
       "    .dataframe tbody tr th:only-of-type {\n",
       "        vertical-align: middle;\n",
       "    }\n",
       "\n",
       "    .dataframe tbody tr th {\n",
       "        vertical-align: top;\n",
       "    }\n",
       "\n",
       "    .dataframe thead th {\n",
       "        text-align: right;\n",
       "    }\n",
       "</style>\n",
       "<table border=\"1\" class=\"dataframe\">\n",
       "  <thead>\n",
       "    <tr style=\"text-align: right;\">\n",
       "      <th></th>\n",
       "      <th>model</th>\n",
       "      <th>precision</th>\n",
       "      <th>recall</th>\n",
       "      <th>f1-score</th>\n",
       "      <th>support</th>\n",
       "    </tr>\n",
       "  </thead>\n",
       "  <tbody>\n",
       "    <tr>\n",
       "      <th>0</th>\n",
       "      <td>Dummy Classifier</td>\n",
       "      <td>0.000000</td>\n",
       "      <td>0.000000</td>\n",
       "      <td>0.000000</td>\n",
       "      <td>7045.0</td>\n",
       "    </tr>\n",
       "    <tr>\n",
       "      <th>1</th>\n",
       "      <td>Logistic Regression</td>\n",
       "      <td>0.145553</td>\n",
       "      <td>0.007665</td>\n",
       "      <td>0.014563</td>\n",
       "      <td>7045.0</td>\n",
       "    </tr>\n",
       "    <tr>\n",
       "      <th>2</th>\n",
       "      <td>Random Forest</td>\n",
       "      <td>0.526142</td>\n",
       "      <td>0.271398</td>\n",
       "      <td>0.358086</td>\n",
       "      <td>7045.0</td>\n",
       "    </tr>\n",
       "    <tr>\n",
       "      <th>3</th>\n",
       "      <td>Balanced Logistic Regression</td>\n",
       "      <td>0.068080</td>\n",
       "      <td>0.927892</td>\n",
       "      <td>0.126853</td>\n",
       "      <td>7045.0</td>\n",
       "    </tr>\n",
       "  </tbody>\n",
       "</table>\n",
       "</div>"
      ],
      "text/plain": [
       "                          model  precision    recall  f1-score  support\n",
       "0              Dummy Classifier   0.000000  0.000000  0.000000   7045.0\n",
       "1           Logistic Regression   0.145553  0.007665  0.014563   7045.0\n",
       "2                 Random Forest   0.526142  0.271398  0.358086   7045.0\n",
       "3  Balanced Logistic Regression   0.068080  0.927892  0.126853   7045.0"
      ]
     },
     "execution_count": 39,
     "metadata": {},
     "output_type": "execute_result"
    }
   ],
   "source": [
    "df = get_classification_report(y_test, y_pred_lr_bal, 'Balanced Logistic Regression')\n",
    "model_compare = model_compare.append(df).reset_index(drop=True)\n",
    "model_compare.head()"
   ]
  },
  {
   "cell_type": "markdown",
   "metadata": {},
   "source": [
    "# Balanced Random Forest"
   ]
  },
  {
   "cell_type": "code",
   "execution_count": 40,
   "metadata": {},
   "outputs": [],
   "source": [
    "rf_clf_balanced = RandomForestClassifier(random_state=42, n_jobs=2)\n",
    "rf_clf_balanced.set_params(class_weight=\"balanced\")\n",
    "\n",
    "rf_clf_balanced.fit(X_train, y_train)\n",
    "y_pred_rf_bal = rf_clf_balanced.predict(X_test)\n",
    "\n",
    "# index += [\"Random forest with balanced class weights\"]\n",
    "# cv_result = cross_validate(rf_clf, X_train, y_train, scoring=scoring)\n",
    "# scores[\"Accuracy\"].append(cv_result[\"test_accuracy\"].mean())\n",
    "# scores[\"Balanced accuracy\"].append(cv_result[\"test_balanced_accuracy\"].mean())\n",
    "\n",
    "# df_scores = pd.DataFrame(scores, index=index)\n",
    "# df_scores"
   ]
  },
  {
   "cell_type": "code",
   "execution_count": 41,
   "metadata": {},
   "outputs": [
    {
     "name": "stdout",
     "output_type": "stream",
     "text": [
      "Accuracy Score: 0.9506122572083484\n",
      "Confusion Matrix: \n",
      "[[124324   1255]\n",
      " [  5295   1750]]\n",
      "Area Under Curve: 0.619204706821424\n",
      "Recall score: 0.248403122782115\n"
     ]
    }
   ],
   "source": [
    "# performance\n",
    "print(f'Accuracy Score: {accuracy_score(y_test,y_pred_rf_bal)}')\n",
    "print(f'Confusion Matrix: \\n{confusion_matrix(y_test, y_pred_rf_bal)}')\n",
    "print(f'Area Under Curve: {roc_auc_score(y_test, y_pred_rf_bal)}')\n",
    "print(f'Recall score: {recall_score(y_test,y_pred_rf_bal)}')"
   ]
  },
  {
   "cell_type": "code",
   "execution_count": 42,
   "metadata": {},
   "outputs": [
    {
     "data": {
      "text/html": [
       "<div>\n",
       "<style scoped>\n",
       "    .dataframe tbody tr th:only-of-type {\n",
       "        vertical-align: middle;\n",
       "    }\n",
       "\n",
       "    .dataframe tbody tr th {\n",
       "        vertical-align: top;\n",
       "    }\n",
       "\n",
       "    .dataframe thead th {\n",
       "        text-align: right;\n",
       "    }\n",
       "</style>\n",
       "<table border=\"1\" class=\"dataframe\">\n",
       "  <thead>\n",
       "    <tr style=\"text-align: right;\">\n",
       "      <th></th>\n",
       "      <th>model</th>\n",
       "      <th>precision</th>\n",
       "      <th>recall</th>\n",
       "      <th>f1-score</th>\n",
       "      <th>support</th>\n",
       "    </tr>\n",
       "  </thead>\n",
       "  <tbody>\n",
       "    <tr>\n",
       "      <th>0</th>\n",
       "      <td>Dummy Classifier</td>\n",
       "      <td>0.000000</td>\n",
       "      <td>0.000000</td>\n",
       "      <td>0.000000</td>\n",
       "      <td>7045.0</td>\n",
       "    </tr>\n",
       "    <tr>\n",
       "      <th>1</th>\n",
       "      <td>Logistic Regression</td>\n",
       "      <td>0.145553</td>\n",
       "      <td>0.007665</td>\n",
       "      <td>0.014563</td>\n",
       "      <td>7045.0</td>\n",
       "    </tr>\n",
       "    <tr>\n",
       "      <th>2</th>\n",
       "      <td>Random Forest</td>\n",
       "      <td>0.526142</td>\n",
       "      <td>0.271398</td>\n",
       "      <td>0.358086</td>\n",
       "      <td>7045.0</td>\n",
       "    </tr>\n",
       "    <tr>\n",
       "      <th>3</th>\n",
       "      <td>Balanced Logistic Regression</td>\n",
       "      <td>0.068080</td>\n",
       "      <td>0.927892</td>\n",
       "      <td>0.126853</td>\n",
       "      <td>7045.0</td>\n",
       "    </tr>\n",
       "    <tr>\n",
       "      <th>4</th>\n",
       "      <td>Balanced Random Forest</td>\n",
       "      <td>0.582363</td>\n",
       "      <td>0.248403</td>\n",
       "      <td>0.348259</td>\n",
       "      <td>7045.0</td>\n",
       "    </tr>\n",
       "  </tbody>\n",
       "</table>\n",
       "</div>"
      ],
      "text/plain": [
       "                          model  precision    recall  f1-score  support\n",
       "0              Dummy Classifier   0.000000  0.000000  0.000000   7045.0\n",
       "1           Logistic Regression   0.145553  0.007665  0.014563   7045.0\n",
       "2                 Random Forest   0.526142  0.271398  0.358086   7045.0\n",
       "3  Balanced Logistic Regression   0.068080  0.927892  0.126853   7045.0\n",
       "4        Balanced Random Forest   0.582363  0.248403  0.348259   7045.0"
      ]
     },
     "execution_count": 42,
     "metadata": {},
     "output_type": "execute_result"
    }
   ],
   "source": [
    "df = get_classification_report(y_test, y_pred_rf_bal, 'Balanced Random Forest')\n",
    "model_compare = model_compare.append(df).reset_index(drop=True)\n",
    "model_compare.head()"
   ]
  },
  {
   "cell_type": "markdown",
   "metadata": {},
   "source": [
    "# Logistic Regression (Resample the training set during learning)"
   ]
  },
  {
   "cell_type": "code",
   "execution_count": 43,
   "metadata": {},
   "outputs": [],
   "source": [
    "lr_clf_resample = make_pipeline_with_sampler(\n",
    "    RandomUnderSampler(random_state=42),\n",
    "    LogisticRegression(max_iter=1000),\n",
    ")\n",
    "lr_clf_resample.fit(X_train, y_train)\n",
    "y_pred_lr_resample = lr_clf_resample.predict(X_test)"
   ]
  },
  {
   "cell_type": "code",
   "execution_count": 44,
   "metadata": {},
   "outputs": [],
   "source": [
    "# index += [\"Under-sampling + Logistic regression\"]\n",
    "# cv_result = cross_validate(lr_clf, X_train, y_train, scoring=scoring)\n",
    "# scores[\"Accuracy\"].append(cv_result[\"test_accuracy\"].mean())\n",
    "# scores[\"Balanced accuracy\"].append(cv_result[\"test_balanced_accuracy\"].mean())\n",
    "\n",
    "# df_scores = pd.DataFrame(scores, index=index)\n",
    "# df_scores\n"
   ]
  },
  {
   "cell_type": "code",
   "execution_count": 45,
   "metadata": {},
   "outputs": [
    {
     "name": "stdout",
     "output_type": "stream",
     "text": [
      "Accuracy Score: 0.32366690795029557\n",
      "Confusion Matrix: \n",
      "[[36398 89181]\n",
      " [  517  6528]]\n",
      "Area Under Curve: 0.6082280373406901\n",
      "Recall score: 0.9266146202980837\n"
     ]
    }
   ],
   "source": [
    "# performance\n",
    "print(f'Accuracy Score: {accuracy_score(y_test,y_pred_lr_resample)}')\n",
    "print(f'Confusion Matrix: \\n{confusion_matrix(y_test, y_pred_lr_resample)}')\n",
    "print(f'Area Under Curve: {roc_auc_score(y_test, y_pred_lr_resample)}')\n",
    "print(f'Recall score: {recall_score(y_test,y_pred_lr_resample)}')"
   ]
  },
  {
   "cell_type": "code",
   "execution_count": 46,
   "metadata": {},
   "outputs": [
    {
     "data": {
      "text/html": [
       "<div>\n",
       "<style scoped>\n",
       "    .dataframe tbody tr th:only-of-type {\n",
       "        vertical-align: middle;\n",
       "    }\n",
       "\n",
       "    .dataframe tbody tr th {\n",
       "        vertical-align: top;\n",
       "    }\n",
       "\n",
       "    .dataframe thead th {\n",
       "        text-align: right;\n",
       "    }\n",
       "</style>\n",
       "<table border=\"1\" class=\"dataframe\">\n",
       "  <thead>\n",
       "    <tr style=\"text-align: right;\">\n",
       "      <th></th>\n",
       "      <th>model</th>\n",
       "      <th>precision</th>\n",
       "      <th>recall</th>\n",
       "      <th>f1-score</th>\n",
       "      <th>support</th>\n",
       "    </tr>\n",
       "  </thead>\n",
       "  <tbody>\n",
       "    <tr>\n",
       "      <th>0</th>\n",
       "      <td>Dummy Classifier</td>\n",
       "      <td>0.000000</td>\n",
       "      <td>0.000000</td>\n",
       "      <td>0.000000</td>\n",
       "      <td>7045.0</td>\n",
       "    </tr>\n",
       "    <tr>\n",
       "      <th>1</th>\n",
       "      <td>Logistic Regression</td>\n",
       "      <td>0.145553</td>\n",
       "      <td>0.007665</td>\n",
       "      <td>0.014563</td>\n",
       "      <td>7045.0</td>\n",
       "    </tr>\n",
       "    <tr>\n",
       "      <th>2</th>\n",
       "      <td>Random Forest</td>\n",
       "      <td>0.526142</td>\n",
       "      <td>0.271398</td>\n",
       "      <td>0.358086</td>\n",
       "      <td>7045.0</td>\n",
       "    </tr>\n",
       "    <tr>\n",
       "      <th>3</th>\n",
       "      <td>Balanced Logistic Regression</td>\n",
       "      <td>0.068080</td>\n",
       "      <td>0.927892</td>\n",
       "      <td>0.126853</td>\n",
       "      <td>7045.0</td>\n",
       "    </tr>\n",
       "    <tr>\n",
       "      <th>4</th>\n",
       "      <td>Balanced Random Forest</td>\n",
       "      <td>0.582363</td>\n",
       "      <td>0.248403</td>\n",
       "      <td>0.348259</td>\n",
       "      <td>7045.0</td>\n",
       "    </tr>\n",
       "  </tbody>\n",
       "</table>\n",
       "</div>"
      ],
      "text/plain": [
       "                          model  precision    recall  f1-score  support\n",
       "0              Dummy Classifier   0.000000  0.000000  0.000000   7045.0\n",
       "1           Logistic Regression   0.145553  0.007665  0.014563   7045.0\n",
       "2                 Random Forest   0.526142  0.271398  0.358086   7045.0\n",
       "3  Balanced Logistic Regression   0.068080  0.927892  0.126853   7045.0\n",
       "4        Balanced Random Forest   0.582363  0.248403  0.348259   7045.0"
      ]
     },
     "execution_count": 46,
     "metadata": {},
     "output_type": "execute_result"
    }
   ],
   "source": [
    "df = get_classification_report(y_test, y_pred_lr_resample, 'Logistic Regression (Resampled)')\n",
    "model_compare = model_compare.append(df).reset_index(drop=True)\n",
    "model_compare.head()"
   ]
  },
  {
   "cell_type": "markdown",
   "metadata": {},
   "source": [
    "# Random Forest (Resample the training set during learning)"
   ]
  },
  {
   "cell_type": "code",
   "execution_count": 47,
   "metadata": {},
   "outputs": [],
   "source": [
    "rf_clf_resampled = make_pipeline_with_sampler(\n",
    "    RandomUnderSampler(random_state=42),\n",
    "    RandomForestClassifier(random_state=42, n_jobs=2),\n",
    ")\n",
    "rf_clf_resampled.fit(X_train, y_train)\n",
    "y_pred_rf_resampled = rf_clf_resampled.predict(X_test)"
   ]
  },
  {
   "cell_type": "code",
   "execution_count": 48,
   "metadata": {},
   "outputs": [],
   "source": [
    "# index += [\"Under-sampling + Random forest\"]\n",
    "# cv_result = cross_validate(rf_clf, X_train, y_train, scoring=scoring)\n",
    "# scores[\"Accuracy\"].append(cv_result[\"test_accuracy\"].mean())\n",
    "# scores[\"Balanced accuracy\"].append(cv_result[\"test_balanced_accuracy\"].mean())\n",
    "\n",
    "# df_scores = pd.DataFrame(scores, index=index)\n",
    "# df_scores"
   ]
  },
  {
   "cell_type": "code",
   "execution_count": 50,
   "metadata": {},
   "outputs": [
    {
     "name": "stdout",
     "output_type": "stream",
     "text": [
      "Accuracy Score: 0.5725132705995898\n",
      "Confusion Matrix: \n",
      "[[70328 55251]\n",
      " [ 1444  5601]]\n",
      "Area Under Curve: 0.6775309394281006\n",
      "Recall score: 0.7950319375443577\n"
     ]
    }
   ],
   "source": [
    "# performance\n",
    "print(f'Accuracy Score: {accuracy_score(y_test,y_pred_rf_resampled)}')\n",
    "print(f'Confusion Matrix: \\n{confusion_matrix(y_test, y_pred_rf_resampled)}')\n",
    "print(f'Area Under Curve: {roc_auc_score(y_test, y_pred_rf_resampled)}')\n",
    "print(f'Recall score: {recall_score(y_test,y_pred_rf_resampled)}')"
   ]
  },
  {
   "cell_type": "code",
   "execution_count": 51,
   "metadata": {},
   "outputs": [],
   "source": [
    "df = get_classification_report(y_test, y_pred_rf_resampled, 'Random Forest (Resampled)')\n",
    "model_compare = model_compare.append(df).reset_index(drop=True)"
   ]
  },
  {
   "cell_type": "code",
   "execution_count": 52,
   "metadata": {},
   "outputs": [
    {
     "data": {
      "text/html": [
       "<div>\n",
       "<style scoped>\n",
       "    .dataframe tbody tr th:only-of-type {\n",
       "        vertical-align: middle;\n",
       "    }\n",
       "\n",
       "    .dataframe tbody tr th {\n",
       "        vertical-align: top;\n",
       "    }\n",
       "\n",
       "    .dataframe thead th {\n",
       "        text-align: right;\n",
       "    }\n",
       "</style>\n",
       "<table border=\"1\" class=\"dataframe\">\n",
       "  <thead>\n",
       "    <tr style=\"text-align: right;\">\n",
       "      <th></th>\n",
       "      <th>model</th>\n",
       "      <th>precision</th>\n",
       "      <th>recall</th>\n",
       "      <th>f1-score</th>\n",
       "      <th>support</th>\n",
       "    </tr>\n",
       "  </thead>\n",
       "  <tbody>\n",
       "    <tr>\n",
       "      <th>0</th>\n",
       "      <td>Dummy Classifier</td>\n",
       "      <td>0.000000</td>\n",
       "      <td>0.000000</td>\n",
       "      <td>0.000000</td>\n",
       "      <td>7045.0</td>\n",
       "    </tr>\n",
       "    <tr>\n",
       "      <th>1</th>\n",
       "      <td>Logistic Regression</td>\n",
       "      <td>0.145553</td>\n",
       "      <td>0.007665</td>\n",
       "      <td>0.014563</td>\n",
       "      <td>7045.0</td>\n",
       "    </tr>\n",
       "    <tr>\n",
       "      <th>2</th>\n",
       "      <td>Random Forest</td>\n",
       "      <td>0.526142</td>\n",
       "      <td>0.271398</td>\n",
       "      <td>0.358086</td>\n",
       "      <td>7045.0</td>\n",
       "    </tr>\n",
       "    <tr>\n",
       "      <th>3</th>\n",
       "      <td>Balanced Logistic Regression</td>\n",
       "      <td>0.068080</td>\n",
       "      <td>0.927892</td>\n",
       "      <td>0.126853</td>\n",
       "      <td>7045.0</td>\n",
       "    </tr>\n",
       "    <tr>\n",
       "      <th>4</th>\n",
       "      <td>Balanced Random Forest</td>\n",
       "      <td>0.582363</td>\n",
       "      <td>0.248403</td>\n",
       "      <td>0.348259</td>\n",
       "      <td>7045.0</td>\n",
       "    </tr>\n",
       "    <tr>\n",
       "      <th>5</th>\n",
       "      <td>Logistic Regression (Resampled)</td>\n",
       "      <td>0.068207</td>\n",
       "      <td>0.926615</td>\n",
       "      <td>0.127061</td>\n",
       "      <td>7045.0</td>\n",
       "    </tr>\n",
       "    <tr>\n",
       "      <th>6</th>\n",
       "      <td>Random Forest (Resampled)</td>\n",
       "      <td>0.092043</td>\n",
       "      <td>0.795032</td>\n",
       "      <td>0.164985</td>\n",
       "      <td>7045.0</td>\n",
       "    </tr>\n",
       "  </tbody>\n",
       "</table>\n",
       "</div>"
      ],
      "text/plain": [
       "                             model  precision    recall  f1-score  support\n",
       "0                 Dummy Classifier   0.000000  0.000000  0.000000   7045.0\n",
       "1              Logistic Regression   0.145553  0.007665  0.014563   7045.0\n",
       "2                    Random Forest   0.526142  0.271398  0.358086   7045.0\n",
       "3     Balanced Logistic Regression   0.068080  0.927892  0.126853   7045.0\n",
       "4           Balanced Random Forest   0.582363  0.248403  0.348259   7045.0\n",
       "5  Logistic Regression (Resampled)   0.068207  0.926615  0.127061   7045.0\n",
       "6        Random Forest (Resampled)   0.092043  0.795032  0.164985   7045.0"
      ]
     },
     "execution_count": 52,
     "metadata": {},
     "output_type": "execute_result"
    }
   ],
   "source": [
    "model_compare = model_compare.drop_duplicates()\n",
    "model_compare"
   ]
  },
  {
   "cell_type": "markdown",
   "metadata": {},
   "source": [
    "# Balanced Random Forest Classifier"
   ]
  },
  {
   "cell_type": "code",
   "execution_count": 53,
   "metadata": {},
   "outputs": [],
   "source": [
    "# from imblearn.ensemble import BalancedRandomForestClassifier\n",
    "# rf_clf = BalancedRandomForestClassifier(random_state=42, n_jobs=2)"
   ]
  },
  {
   "cell_type": "code",
   "execution_count": 54,
   "metadata": {},
   "outputs": [],
   "source": [
    "# index += [\"Balanced random forest\"]\n",
    "# cv_result = cross_validate(rf_clf, X_train, y_train, scoring=scoring)\n",
    "# scores[\"Accuracy\"].append(cv_result[\"test_accuracy\"].mean())\n",
    "# scores[\"Balanced accuracy\"].append(cv_result[\"test_balanced_accuracy\"].mean())\n",
    "\n",
    "# df_scores = pd.DataFrame(scores, index=index)\n",
    "# df_scores"
   ]
  },
  {
   "cell_type": "code",
   "execution_count": 55,
   "metadata": {},
   "outputs": [],
   "source": [
    "# rf_clf.fit(X_train, y_train)\n",
    "# y_pred = rf_clf.predict(X_test)"
   ]
  },
  {
   "cell_type": "code",
   "execution_count": 56,
   "metadata": {},
   "outputs": [],
   "source": [
    "# # performance\n",
    "# print(f'Accuracy Score: {accuracy_score(y_test,y_pred)}')\n",
    "# print(f'Confusion Matrix: \\n{confusion_matrix(y_test, y_pred)}')\n",
    "# print(f'Area Under Curve: {roc_auc_score(y_test, y_pred)}')\n",
    "# print(f'Recall score: {recall_score(y_test,y_pred)}')"
   ]
  },
  {
   "cell_type": "code",
   "execution_count": 57,
   "metadata": {},
   "outputs": [],
   "source": [
    "# from sklearn.metrics import classification_report\n",
    "# print(classification_report(y_test,y_pred))"
   ]
  },
  {
   "cell_type": "code",
   "execution_count": 58,
   "metadata": {},
   "outputs": [],
   "source": [
    "# print(clf.coef_, clf.intercept_)"
   ]
  },
  {
   "cell_type": "markdown",
   "metadata": {},
   "source": [
    "# K-Nearest Neighbors"
   ]
  },
  {
   "cell_type": "code",
   "execution_count": 59,
   "metadata": {},
   "outputs": [],
   "source": [
    "from sklearn.neighbors import KNeighborsClassifier\n",
    "\n",
    "clf_knn = make_pipeline_with_sampler(\n",
    "    RandomUnderSampler(random_state=42),\n",
    "    KNeighborsClassifier(n_neighbors=10),\n",
    ")\n",
    "\n",
    "# clf_knn = KNeighborsClassifier(n_neighbors=5)\n",
    "\n",
    "clf_knn.fit(X_train, y_train)\n",
    "y_pred_knn = clf_knn.predict(X_test)"
   ]
  },
  {
   "cell_type": "code",
   "execution_count": 60,
   "metadata": {},
   "outputs": [
    {
     "name": "stdout",
     "output_type": "stream",
     "text": [
      "Accuracy Score: 0.6974303293521534\n",
      "Confusion Matrix: \n",
      "[[87487 38092]\n",
      " [ 2036  5009]]\n",
      "Area Under Curve: 0.703834869390307\n",
      "Recall score: 0.711000709723208\n"
     ]
    }
   ],
   "source": [
    "# performance\n",
    "print(f'Accuracy Score: {accuracy_score(y_test,y_pred_knn)}')\n",
    "print(f'Confusion Matrix: \\n{confusion_matrix(y_test, y_pred_knn)}')\n",
    "print(f'Area Under Curve: {roc_auc_score(y_test, y_pred_knn)}')\n",
    "print(f'Recall score: {recall_score(y_test,y_pred_knn)}')"
   ]
  },
  {
   "cell_type": "code",
   "execution_count": 61,
   "metadata": {},
   "outputs": [
    {
     "data": {
      "text/html": [
       "<div>\n",
       "<style scoped>\n",
       "    .dataframe tbody tr th:only-of-type {\n",
       "        vertical-align: middle;\n",
       "    }\n",
       "\n",
       "    .dataframe tbody tr th {\n",
       "        vertical-align: top;\n",
       "    }\n",
       "\n",
       "    .dataframe thead th {\n",
       "        text-align: right;\n",
       "    }\n",
       "</style>\n",
       "<table border=\"1\" class=\"dataframe\">\n",
       "  <thead>\n",
       "    <tr style=\"text-align: right;\">\n",
       "      <th></th>\n",
       "      <th>model</th>\n",
       "      <th>precision</th>\n",
       "      <th>recall</th>\n",
       "      <th>f1-score</th>\n",
       "      <th>support</th>\n",
       "    </tr>\n",
       "  </thead>\n",
       "  <tbody>\n",
       "    <tr>\n",
       "      <th>0</th>\n",
       "      <td>Dummy Classifier</td>\n",
       "      <td>0.000000</td>\n",
       "      <td>0.000000</td>\n",
       "      <td>0.000000</td>\n",
       "      <td>7045.0</td>\n",
       "    </tr>\n",
       "    <tr>\n",
       "      <th>1</th>\n",
       "      <td>Logistic Regression</td>\n",
       "      <td>0.145553</td>\n",
       "      <td>0.007665</td>\n",
       "      <td>0.014563</td>\n",
       "      <td>7045.0</td>\n",
       "    </tr>\n",
       "    <tr>\n",
       "      <th>2</th>\n",
       "      <td>Random Forest</td>\n",
       "      <td>0.526142</td>\n",
       "      <td>0.271398</td>\n",
       "      <td>0.358086</td>\n",
       "      <td>7045.0</td>\n",
       "    </tr>\n",
       "    <tr>\n",
       "      <th>3</th>\n",
       "      <td>Balanced Logistic Regression</td>\n",
       "      <td>0.068080</td>\n",
       "      <td>0.927892</td>\n",
       "      <td>0.126853</td>\n",
       "      <td>7045.0</td>\n",
       "    </tr>\n",
       "    <tr>\n",
       "      <th>4</th>\n",
       "      <td>Balanced Random Forest</td>\n",
       "      <td>0.582363</td>\n",
       "      <td>0.248403</td>\n",
       "      <td>0.348259</td>\n",
       "      <td>7045.0</td>\n",
       "    </tr>\n",
       "    <tr>\n",
       "      <th>5</th>\n",
       "      <td>Logistic Regression (Resampled)</td>\n",
       "      <td>0.068207</td>\n",
       "      <td>0.926615</td>\n",
       "      <td>0.127061</td>\n",
       "      <td>7045.0</td>\n",
       "    </tr>\n",
       "    <tr>\n",
       "      <th>6</th>\n",
       "      <td>Random Forest (Resampled)</td>\n",
       "      <td>0.092043</td>\n",
       "      <td>0.795032</td>\n",
       "      <td>0.164985</td>\n",
       "      <td>7045.0</td>\n",
       "    </tr>\n",
       "    <tr>\n",
       "      <th>7</th>\n",
       "      <td>K-Nearest Neighbors</td>\n",
       "      <td>0.116215</td>\n",
       "      <td>0.711001</td>\n",
       "      <td>0.199777</td>\n",
       "      <td>7045.0</td>\n",
       "    </tr>\n",
       "  </tbody>\n",
       "</table>\n",
       "</div>"
      ],
      "text/plain": [
       "                             model  precision    recall  f1-score  support\n",
       "0                 Dummy Classifier   0.000000  0.000000  0.000000   7045.0\n",
       "1              Logistic Regression   0.145553  0.007665  0.014563   7045.0\n",
       "2                    Random Forest   0.526142  0.271398  0.358086   7045.0\n",
       "3     Balanced Logistic Regression   0.068080  0.927892  0.126853   7045.0\n",
       "4           Balanced Random Forest   0.582363  0.248403  0.348259   7045.0\n",
       "5  Logistic Regression (Resampled)   0.068207  0.926615  0.127061   7045.0\n",
       "6        Random Forest (Resampled)   0.092043  0.795032  0.164985   7045.0\n",
       "7              K-Nearest Neighbors   0.116215  0.711001  0.199777   7045.0"
      ]
     },
     "execution_count": 61,
     "metadata": {},
     "output_type": "execute_result"
    }
   ],
   "source": [
    "df = get_classification_report(y_test, y_pred_knn, 'K-Nearest Neighbors')\n",
    "model_compare = model_compare.append(df).reset_index(drop=True)\n",
    "model_compare"
   ]
  },
  {
   "cell_type": "markdown",
   "metadata": {},
   "source": [
    "# Gradient Boosting Classifier"
   ]
  },
  {
   "cell_type": "code",
   "execution_count": 62,
   "metadata": {},
   "outputs": [],
   "source": [
    "clf_gbc = make_pipeline_with_sampler(\n",
    "    RandomUnderSampler(random_state=42),\n",
    "    GradientBoostingClassifier(n_estimators=100, learning_rate=1.0, max_depth=1, random_state=0),\n",
    ")\n",
    "clf_gbc.fit(X_train, y_train)\n",
    "y_pred_gbc = clf_gbc.predict(X_test)"
   ]
  },
  {
   "cell_type": "code",
   "execution_count": 63,
   "metadata": {},
   "outputs": [
    {
     "name": "stdout",
     "output_type": "stream",
     "text": [
      "Accuracy Score: 0.5876915188804439\n",
      "Confusion Matrix: \n",
      "[[72267 53312]\n",
      " [ 1370  5675]]\n",
      "Area Under Curve: 0.6905031310159419\n",
      "Recall score: 0.8055358410220014\n"
     ]
    }
   ],
   "source": [
    "# performance\n",
    "print(f'Accuracy Score: {accuracy_score(y_test,y_pred_gbc)}')\n",
    "print(f'Confusion Matrix: \\n{confusion_matrix(y_test, y_pred_gbc)}')\n",
    "print(f'Area Under Curve: {roc_auc_score(y_test, y_pred_gbc)}')\n",
    "print(f'Recall score: {recall_score(y_test,y_pred_gbc)}')"
   ]
  },
  {
   "cell_type": "code",
   "execution_count": 64,
   "metadata": {},
   "outputs": [],
   "source": [
    "df = get_classification_report(y_test, y_pred_gbc, 'Gradient Boosting Classifier')\n",
    "model_compare = model_compare.append(df).reset_index(drop=True)"
   ]
  },
  {
   "cell_type": "code",
   "execution_count": 65,
   "metadata": {},
   "outputs": [
    {
     "data": {
      "text/html": [
       "<div>\n",
       "<style scoped>\n",
       "    .dataframe tbody tr th:only-of-type {\n",
       "        vertical-align: middle;\n",
       "    }\n",
       "\n",
       "    .dataframe tbody tr th {\n",
       "        vertical-align: top;\n",
       "    }\n",
       "\n",
       "    .dataframe thead th {\n",
       "        text-align: right;\n",
       "    }\n",
       "</style>\n",
       "<table border=\"1\" class=\"dataframe\">\n",
       "  <thead>\n",
       "    <tr style=\"text-align: right;\">\n",
       "      <th></th>\n",
       "      <th>model</th>\n",
       "      <th>precision</th>\n",
       "      <th>recall</th>\n",
       "      <th>f1-score</th>\n",
       "      <th>support</th>\n",
       "    </tr>\n",
       "  </thead>\n",
       "  <tbody>\n",
       "    <tr>\n",
       "      <th>0</th>\n",
       "      <td>Dummy Classifier</td>\n",
       "      <td>0.000000</td>\n",
       "      <td>0.000000</td>\n",
       "      <td>0.000000</td>\n",
       "      <td>7045.0</td>\n",
       "    </tr>\n",
       "    <tr>\n",
       "      <th>1</th>\n",
       "      <td>Logistic Regression</td>\n",
       "      <td>0.145553</td>\n",
       "      <td>0.007665</td>\n",
       "      <td>0.014563</td>\n",
       "      <td>7045.0</td>\n",
       "    </tr>\n",
       "    <tr>\n",
       "      <th>2</th>\n",
       "      <td>Random Forest</td>\n",
       "      <td>0.526142</td>\n",
       "      <td>0.271398</td>\n",
       "      <td>0.358086</td>\n",
       "      <td>7045.0</td>\n",
       "    </tr>\n",
       "    <tr>\n",
       "      <th>3</th>\n",
       "      <td>Balanced Logistic Regression</td>\n",
       "      <td>0.068080</td>\n",
       "      <td>0.927892</td>\n",
       "      <td>0.126853</td>\n",
       "      <td>7045.0</td>\n",
       "    </tr>\n",
       "    <tr>\n",
       "      <th>4</th>\n",
       "      <td>Balanced Random Forest</td>\n",
       "      <td>0.582363</td>\n",
       "      <td>0.248403</td>\n",
       "      <td>0.348259</td>\n",
       "      <td>7045.0</td>\n",
       "    </tr>\n",
       "    <tr>\n",
       "      <th>5</th>\n",
       "      <td>Logistic Regression (Resampled)</td>\n",
       "      <td>0.068207</td>\n",
       "      <td>0.926615</td>\n",
       "      <td>0.127061</td>\n",
       "      <td>7045.0</td>\n",
       "    </tr>\n",
       "    <tr>\n",
       "      <th>6</th>\n",
       "      <td>Random Forest (Resampled)</td>\n",
       "      <td>0.092043</td>\n",
       "      <td>0.795032</td>\n",
       "      <td>0.164985</td>\n",
       "      <td>7045.0</td>\n",
       "    </tr>\n",
       "    <tr>\n",
       "      <th>7</th>\n",
       "      <td>K-Nearest Neighbors</td>\n",
       "      <td>0.116215</td>\n",
       "      <td>0.711001</td>\n",
       "      <td>0.199777</td>\n",
       "      <td>7045.0</td>\n",
       "    </tr>\n",
       "    <tr>\n",
       "      <th>8</th>\n",
       "      <td>Gradient Boosting Classifier</td>\n",
       "      <td>0.096208</td>\n",
       "      <td>0.805536</td>\n",
       "      <td>0.171886</td>\n",
       "      <td>7045.0</td>\n",
       "    </tr>\n",
       "  </tbody>\n",
       "</table>\n",
       "</div>"
      ],
      "text/plain": [
       "                             model  precision    recall  f1-score  support\n",
       "0                 Dummy Classifier   0.000000  0.000000  0.000000   7045.0\n",
       "1              Logistic Regression   0.145553  0.007665  0.014563   7045.0\n",
       "2                    Random Forest   0.526142  0.271398  0.358086   7045.0\n",
       "3     Balanced Logistic Regression   0.068080  0.927892  0.126853   7045.0\n",
       "4           Balanced Random Forest   0.582363  0.248403  0.348259   7045.0\n",
       "5  Logistic Regression (Resampled)   0.068207  0.926615  0.127061   7045.0\n",
       "6        Random Forest (Resampled)   0.092043  0.795032  0.164985   7045.0\n",
       "7              K-Nearest Neighbors   0.116215  0.711001  0.199777   7045.0\n",
       "8     Gradient Boosting Classifier   0.096208  0.805536  0.171886   7045.0"
      ]
     },
     "execution_count": 65,
     "metadata": {},
     "output_type": "execute_result"
    }
   ],
   "source": [
    "model_compare"
   ]
  },
  {
   "cell_type": "markdown",
   "metadata": {},
   "source": [
    "# Support Vector Machine"
   ]
  },
  {
   "cell_type": "code",
   "execution_count": 66,
   "metadata": {},
   "outputs": [],
   "source": [
    "from sklearn.svm import SVC\n",
    "\n",
    "clf_svc = make_pipeline_with_sampler(\n",
    "    RandomUnderSampler(random_state=42),\n",
    "    SVC(gamma='auto'),\n",
    ")\n",
    "\n",
    "clf_svc.fit(X_train, y_train)\n",
    "y_pred_svc = clf_svc.predict(X_test)"
   ]
  },
  {
   "cell_type": "code",
   "execution_count": 67,
   "metadata": {},
   "outputs": [
    {
     "name": "stdout",
     "output_type": "stream",
     "text": [
      "Accuracy Score: 0.9195922306671492\n",
      "Confusion Matrix: \n",
      "[[119459   6120]\n",
      " [  4544   2501]]\n",
      "Area Under Curve: 0.653134642860883\n",
      "Recall score: 0.3550035486160397\n"
     ]
    }
   ],
   "source": [
    "# performance\n",
    "print(f'Accuracy Score: {accuracy_score(y_test,y_pred_svc)}')\n",
    "print(f'Confusion Matrix: \\n{confusion_matrix(y_test, y_pred_svc)}')\n",
    "print(f'Area Under Curve: {roc_auc_score(y_test, y_pred_svc)}')\n",
    "print(f'Recall score: {recall_score(y_test,y_pred_svc)}')"
   ]
  },
  {
   "cell_type": "code",
   "execution_count": 68,
   "metadata": {},
   "outputs": [
    {
     "data": {
      "text/html": [
       "<div>\n",
       "<style scoped>\n",
       "    .dataframe tbody tr th:only-of-type {\n",
       "        vertical-align: middle;\n",
       "    }\n",
       "\n",
       "    .dataframe tbody tr th {\n",
       "        vertical-align: top;\n",
       "    }\n",
       "\n",
       "    .dataframe thead th {\n",
       "        text-align: right;\n",
       "    }\n",
       "</style>\n",
       "<table border=\"1\" class=\"dataframe\">\n",
       "  <thead>\n",
       "    <tr style=\"text-align: right;\">\n",
       "      <th></th>\n",
       "      <th>model</th>\n",
       "      <th>precision</th>\n",
       "      <th>recall</th>\n",
       "      <th>f1-score</th>\n",
       "      <th>support</th>\n",
       "    </tr>\n",
       "  </thead>\n",
       "  <tbody>\n",
       "    <tr>\n",
       "      <th>0</th>\n",
       "      <td>Dummy Classifier</td>\n",
       "      <td>0.000000</td>\n",
       "      <td>0.000000</td>\n",
       "      <td>0.000000</td>\n",
       "      <td>7045.0</td>\n",
       "    </tr>\n",
       "    <tr>\n",
       "      <th>1</th>\n",
       "      <td>Logistic Regression</td>\n",
       "      <td>0.145553</td>\n",
       "      <td>0.007665</td>\n",
       "      <td>0.014563</td>\n",
       "      <td>7045.0</td>\n",
       "    </tr>\n",
       "    <tr>\n",
       "      <th>2</th>\n",
       "      <td>Random Forest</td>\n",
       "      <td>0.526142</td>\n",
       "      <td>0.271398</td>\n",
       "      <td>0.358086</td>\n",
       "      <td>7045.0</td>\n",
       "    </tr>\n",
       "    <tr>\n",
       "      <th>3</th>\n",
       "      <td>Balanced Logistic Regression</td>\n",
       "      <td>0.068080</td>\n",
       "      <td>0.927892</td>\n",
       "      <td>0.126853</td>\n",
       "      <td>7045.0</td>\n",
       "    </tr>\n",
       "    <tr>\n",
       "      <th>4</th>\n",
       "      <td>Balanced Random Forest</td>\n",
       "      <td>0.582363</td>\n",
       "      <td>0.248403</td>\n",
       "      <td>0.348259</td>\n",
       "      <td>7045.0</td>\n",
       "    </tr>\n",
       "    <tr>\n",
       "      <th>5</th>\n",
       "      <td>Logistic Regression (Resampled)</td>\n",
       "      <td>0.068207</td>\n",
       "      <td>0.926615</td>\n",
       "      <td>0.127061</td>\n",
       "      <td>7045.0</td>\n",
       "    </tr>\n",
       "    <tr>\n",
       "      <th>6</th>\n",
       "      <td>Random Forest (Resampled)</td>\n",
       "      <td>0.092043</td>\n",
       "      <td>0.795032</td>\n",
       "      <td>0.164985</td>\n",
       "      <td>7045.0</td>\n",
       "    </tr>\n",
       "    <tr>\n",
       "      <th>7</th>\n",
       "      <td>K-Nearest Neighbors</td>\n",
       "      <td>0.116215</td>\n",
       "      <td>0.711001</td>\n",
       "      <td>0.199777</td>\n",
       "      <td>7045.0</td>\n",
       "    </tr>\n",
       "    <tr>\n",
       "      <th>8</th>\n",
       "      <td>Gradient Boosting Classifier</td>\n",
       "      <td>0.096208</td>\n",
       "      <td>0.805536</td>\n",
       "      <td>0.171886</td>\n",
       "      <td>7045.0</td>\n",
       "    </tr>\n",
       "    <tr>\n",
       "      <th>9</th>\n",
       "      <td>Support Vector Machine</td>\n",
       "      <td>0.290106</td>\n",
       "      <td>0.355004</td>\n",
       "      <td>0.319290</td>\n",
       "      <td>7045.0</td>\n",
       "    </tr>\n",
       "  </tbody>\n",
       "</table>\n",
       "</div>"
      ],
      "text/plain": [
       "                             model  precision    recall  f1-score  support\n",
       "0                 Dummy Classifier   0.000000  0.000000  0.000000   7045.0\n",
       "1              Logistic Regression   0.145553  0.007665  0.014563   7045.0\n",
       "2                    Random Forest   0.526142  0.271398  0.358086   7045.0\n",
       "3     Balanced Logistic Regression   0.068080  0.927892  0.126853   7045.0\n",
       "4           Balanced Random Forest   0.582363  0.248403  0.348259   7045.0\n",
       "5  Logistic Regression (Resampled)   0.068207  0.926615  0.127061   7045.0\n",
       "6        Random Forest (Resampled)   0.092043  0.795032  0.164985   7045.0\n",
       "7              K-Nearest Neighbors   0.116215  0.711001  0.199777   7045.0\n",
       "8     Gradient Boosting Classifier   0.096208  0.805536  0.171886   7045.0\n",
       "9           Support Vector Machine   0.290106  0.355004  0.319290   7045.0"
      ]
     },
     "execution_count": 68,
     "metadata": {},
     "output_type": "execute_result"
    }
   ],
   "source": [
    "df = get_classification_report(y_test, y_pred_svc, 'Support Vector Machine')\n",
    "model_compare = model_compare.append(df).reset_index(drop=True)\n",
    "model_compare"
   ]
  },
  {
   "cell_type": "markdown",
   "metadata": {},
   "source": [
    "# Multilayer Perceptron"
   ]
  },
  {
   "cell_type": "code",
   "execution_count": 69,
   "metadata": {},
   "outputs": [],
   "source": [
    "from sklearn.neural_network import MLPClassifier\n",
    "\n",
    "clf_mlp = make_pipeline_with_sampler(\n",
    "    RandomUnderSampler(random_state=42),\n",
    "    MLPClassifier(random_state=1, max_iter=300),\n",
    ")\n",
    "\n",
    "clf_mlp.fit(X_train, y_train)\n",
    "y_pred_mlp = clf_mlp.predict(X_test)"
   ]
  },
  {
   "cell_type": "code",
   "execution_count": 70,
   "metadata": {},
   "outputs": [
    {
     "name": "stdout",
     "output_type": "stream",
     "text": [
      "Accuracy Score: 0.2177358547472554\n",
      "Confusion Matrix: \n",
      "[[ 22189 103390]\n",
      " [   357   6688]]\n",
      "Area Under Curve: 0.5630096592017995\n",
      "Recall score: 0.9493257629524485\n"
     ]
    }
   ],
   "source": [
    "# performance\n",
    "print(f'Accuracy Score: {accuracy_score(y_test,y_pred_mlp)}')\n",
    "print(f'Confusion Matrix: \\n{confusion_matrix(y_test, y_pred_mlp)}')\n",
    "print(f'Area Under Curve: {roc_auc_score(y_test, y_pred_mlp)}')\n",
    "print(f'Recall score: {recall_score(y_test,y_pred_mlp)}')"
   ]
  },
  {
   "cell_type": "code",
   "execution_count": 71,
   "metadata": {},
   "outputs": [
    {
     "data": {
      "text/html": [
       "<div>\n",
       "<style scoped>\n",
       "    .dataframe tbody tr th:only-of-type {\n",
       "        vertical-align: middle;\n",
       "    }\n",
       "\n",
       "    .dataframe tbody tr th {\n",
       "        vertical-align: top;\n",
       "    }\n",
       "\n",
       "    .dataframe thead th {\n",
       "        text-align: right;\n",
       "    }\n",
       "</style>\n",
       "<table border=\"1\" class=\"dataframe\">\n",
       "  <thead>\n",
       "    <tr style=\"text-align: right;\">\n",
       "      <th></th>\n",
       "      <th>model</th>\n",
       "      <th>precision</th>\n",
       "      <th>recall</th>\n",
       "      <th>f1-score</th>\n",
       "      <th>support</th>\n",
       "    </tr>\n",
       "  </thead>\n",
       "  <tbody>\n",
       "    <tr>\n",
       "      <th>0</th>\n",
       "      <td>Dummy Classifier</td>\n",
       "      <td>0.000000</td>\n",
       "      <td>0.000000</td>\n",
       "      <td>0.000000</td>\n",
       "      <td>7045.0</td>\n",
       "    </tr>\n",
       "    <tr>\n",
       "      <th>1</th>\n",
       "      <td>Logistic Regression</td>\n",
       "      <td>0.145553</td>\n",
       "      <td>0.007665</td>\n",
       "      <td>0.014563</td>\n",
       "      <td>7045.0</td>\n",
       "    </tr>\n",
       "    <tr>\n",
       "      <th>2</th>\n",
       "      <td>Random Forest</td>\n",
       "      <td>0.526142</td>\n",
       "      <td>0.271398</td>\n",
       "      <td>0.358086</td>\n",
       "      <td>7045.0</td>\n",
       "    </tr>\n",
       "    <tr>\n",
       "      <th>3</th>\n",
       "      <td>Balanced Logistic Regression</td>\n",
       "      <td>0.068080</td>\n",
       "      <td>0.927892</td>\n",
       "      <td>0.126853</td>\n",
       "      <td>7045.0</td>\n",
       "    </tr>\n",
       "    <tr>\n",
       "      <th>4</th>\n",
       "      <td>Balanced Random Forest</td>\n",
       "      <td>0.582363</td>\n",
       "      <td>0.248403</td>\n",
       "      <td>0.348259</td>\n",
       "      <td>7045.0</td>\n",
       "    </tr>\n",
       "    <tr>\n",
       "      <th>5</th>\n",
       "      <td>Logistic Regression (Resampled)</td>\n",
       "      <td>0.068207</td>\n",
       "      <td>0.926615</td>\n",
       "      <td>0.127061</td>\n",
       "      <td>7045.0</td>\n",
       "    </tr>\n",
       "    <tr>\n",
       "      <th>6</th>\n",
       "      <td>Random Forest (Resampled)</td>\n",
       "      <td>0.092043</td>\n",
       "      <td>0.795032</td>\n",
       "      <td>0.164985</td>\n",
       "      <td>7045.0</td>\n",
       "    </tr>\n",
       "    <tr>\n",
       "      <th>7</th>\n",
       "      <td>K-Nearest Neighbors</td>\n",
       "      <td>0.116215</td>\n",
       "      <td>0.711001</td>\n",
       "      <td>0.199777</td>\n",
       "      <td>7045.0</td>\n",
       "    </tr>\n",
       "    <tr>\n",
       "      <th>8</th>\n",
       "      <td>Gradient Boosting Classifier</td>\n",
       "      <td>0.096208</td>\n",
       "      <td>0.805536</td>\n",
       "      <td>0.171886</td>\n",
       "      <td>7045.0</td>\n",
       "    </tr>\n",
       "    <tr>\n",
       "      <th>9</th>\n",
       "      <td>Support Vector Machine</td>\n",
       "      <td>0.290106</td>\n",
       "      <td>0.355004</td>\n",
       "      <td>0.319290</td>\n",
       "      <td>7045.0</td>\n",
       "    </tr>\n",
       "    <tr>\n",
       "      <th>10</th>\n",
       "      <td>Multilayer Perceptron</td>\n",
       "      <td>0.060757</td>\n",
       "      <td>0.949326</td>\n",
       "      <td>0.114205</td>\n",
       "      <td>7045.0</td>\n",
       "    </tr>\n",
       "  </tbody>\n",
       "</table>\n",
       "</div>"
      ],
      "text/plain": [
       "                              model  precision    recall  f1-score  support\n",
       "0                  Dummy Classifier   0.000000  0.000000  0.000000   7045.0\n",
       "1               Logistic Regression   0.145553  0.007665  0.014563   7045.0\n",
       "2                     Random Forest   0.526142  0.271398  0.358086   7045.0\n",
       "3      Balanced Logistic Regression   0.068080  0.927892  0.126853   7045.0\n",
       "4            Balanced Random Forest   0.582363  0.248403  0.348259   7045.0\n",
       "5   Logistic Regression (Resampled)   0.068207  0.926615  0.127061   7045.0\n",
       "6         Random Forest (Resampled)   0.092043  0.795032  0.164985   7045.0\n",
       "7               K-Nearest Neighbors   0.116215  0.711001  0.199777   7045.0\n",
       "8      Gradient Boosting Classifier   0.096208  0.805536  0.171886   7045.0\n",
       "9            Support Vector Machine   0.290106  0.355004  0.319290   7045.0\n",
       "10            Multilayer Perceptron   0.060757  0.949326  0.114205   7045.0"
      ]
     },
     "execution_count": 71,
     "metadata": {},
     "output_type": "execute_result"
    }
   ],
   "source": [
    "df = get_classification_report(y_test, y_pred_mlp, 'Multilayer Perceptron')\n",
    "model_compare = model_compare.append(df).reset_index(drop=True)\n",
    "model_compare"
   ]
  },
  {
   "cell_type": "markdown",
   "metadata": {},
   "source": [
    "# Weighted Logistic Regression"
   ]
  },
  {
   "cell_type": "code",
   "execution_count": 72,
   "metadata": {},
   "outputs": [],
   "source": [
    "# define class weights\n",
    "# w = {0:1, 1:19}\n",
    "\n",
    "# define model\n",
    "# lg2 = LogisticRegression(random_state=13, class_weight=w)\n",
    "# fit it\n",
    "# lg2.fit(X_train,y_train)\n",
    "# test\n",
    "# y_pred = lg2.predict(X_test)\n",
    "\n",
    "# performance\n",
    "# print(f'Accuracy Score: {accuracy_score(y_test,y_pred)}')\n",
    "# print(f'Confusion Matrix: \\n{confusion_matrix(y_test, y_pred)}')\n",
    "# print(f'Area Under Curve: {roc_auc_score(y_test, y_pred)}')\n",
    "# print(f'Recall score: {recall_score(y_test,y_pred)}')"
   ]
  },
  {
   "cell_type": "code",
   "execution_count": 73,
   "metadata": {},
   "outputs": [],
   "source": [
    "# from sklearn.metrics import classification_report\n",
    "# print(classification_report(y_test,y_pred))"
   ]
  },
  {
   "cell_type": "markdown",
   "metadata": {},
   "source": [
    "# Weights GridSearch"
   ]
  },
  {
   "cell_type": "code",
   "execution_count": 74,
   "metadata": {},
   "outputs": [],
   "source": [
    "# define weight hyperparameter\n",
    "# w = [{0:1, 1:1}, {0:1, 1:2}, {0:1, 1:5}, {0:1, 1:10}, {0:1, 1:15}, {0:1, 1:20}]\n",
    "# hyperparam_grid = {\"class_weight\": w }"
   ]
  },
  {
   "cell_type": "code",
   "execution_count": 75,
   "metadata": {},
   "outputs": [],
   "source": [
    "# define model\n",
    "# lg3 = LogisticRegression(random_state=13)\n",
    "# # define evaluation procedure\n",
    "# grid = GridSearchCV(lg3,hyperparam_grid,scoring=\"roc_auc\", cv=100, n_jobs=-1, refit=True)\n",
    "# grid.fit(X_train,y_train)\n",
    "# print(f'Best score: {grid.best_score_} with param: {grid.best_params_}')"
   ]
  },
  {
   "cell_type": "code",
   "execution_count": 86,
   "metadata": {},
   "outputs": [
    {
     "data": {
      "text/html": [
       "<div>\n",
       "<style scoped>\n",
       "    .dataframe tbody tr th:only-of-type {\n",
       "        vertical-align: middle;\n",
       "    }\n",
       "\n",
       "    .dataframe tbody tr th {\n",
       "        vertical-align: top;\n",
       "    }\n",
       "\n",
       "    .dataframe thead th {\n",
       "        text-align: right;\n",
       "    }\n",
       "</style>\n",
       "<table border=\"1\" class=\"dataframe\">\n",
       "  <thead>\n",
       "    <tr style=\"text-align: right;\">\n",
       "      <th></th>\n",
       "      <th>model</th>\n",
       "      <th>precision</th>\n",
       "      <th>recall</th>\n",
       "      <th>f1-score</th>\n",
       "      <th>support</th>\n",
       "    </tr>\n",
       "  </thead>\n",
       "  <tbody>\n",
       "    <tr>\n",
       "      <th>2</th>\n",
       "      <td>Random Forest</td>\n",
       "      <td>0.526142</td>\n",
       "      <td>0.271398</td>\n",
       "      <td>0.358086</td>\n",
       "      <td>7045.0</td>\n",
       "    </tr>\n",
       "    <tr>\n",
       "      <th>4</th>\n",
       "      <td>Balanced Random Forest</td>\n",
       "      <td>0.582363</td>\n",
       "      <td>0.248403</td>\n",
       "      <td>0.348259</td>\n",
       "      <td>7045.0</td>\n",
       "    </tr>\n",
       "    <tr>\n",
       "      <th>9</th>\n",
       "      <td>Support Vector Machine</td>\n",
       "      <td>0.290106</td>\n",
       "      <td>0.355004</td>\n",
       "      <td>0.319290</td>\n",
       "      <td>7045.0</td>\n",
       "    </tr>\n",
       "    <tr>\n",
       "      <th>7</th>\n",
       "      <td>K-Nearest Neighbors</td>\n",
       "      <td>0.116215</td>\n",
       "      <td>0.711001</td>\n",
       "      <td>0.199777</td>\n",
       "      <td>7045.0</td>\n",
       "    </tr>\n",
       "    <tr>\n",
       "      <th>8</th>\n",
       "      <td>Gradient Boosting Classifier</td>\n",
       "      <td>0.096208</td>\n",
       "      <td>0.805536</td>\n",
       "      <td>0.171886</td>\n",
       "      <td>7045.0</td>\n",
       "    </tr>\n",
       "    <tr>\n",
       "      <th>6</th>\n",
       "      <td>Random Forest (Resampled)</td>\n",
       "      <td>0.092043</td>\n",
       "      <td>0.795032</td>\n",
       "      <td>0.164985</td>\n",
       "      <td>7045.0</td>\n",
       "    </tr>\n",
       "    <tr>\n",
       "      <th>5</th>\n",
       "      <td>Logistic Regression (Resampled)</td>\n",
       "      <td>0.068207</td>\n",
       "      <td>0.926615</td>\n",
       "      <td>0.127061</td>\n",
       "      <td>7045.0</td>\n",
       "    </tr>\n",
       "    <tr>\n",
       "      <th>3</th>\n",
       "      <td>Balanced Logistic Regression</td>\n",
       "      <td>0.068080</td>\n",
       "      <td>0.927892</td>\n",
       "      <td>0.126853</td>\n",
       "      <td>7045.0</td>\n",
       "    </tr>\n",
       "    <tr>\n",
       "      <th>10</th>\n",
       "      <td>Multilayer Perceptron</td>\n",
       "      <td>0.060757</td>\n",
       "      <td>0.949326</td>\n",
       "      <td>0.114205</td>\n",
       "      <td>7045.0</td>\n",
       "    </tr>\n",
       "    <tr>\n",
       "      <th>1</th>\n",
       "      <td>Logistic Regression</td>\n",
       "      <td>0.145553</td>\n",
       "      <td>0.007665</td>\n",
       "      <td>0.014563</td>\n",
       "      <td>7045.0</td>\n",
       "    </tr>\n",
       "    <tr>\n",
       "      <th>0</th>\n",
       "      <td>Dummy Classifier</td>\n",
       "      <td>0.000000</td>\n",
       "      <td>0.000000</td>\n",
       "      <td>0.000000</td>\n",
       "      <td>7045.0</td>\n",
       "    </tr>\n",
       "  </tbody>\n",
       "</table>\n",
       "</div>"
      ],
      "text/plain": [
       "                              model  precision    recall  f1-score  support\n",
       "2                     Random Forest   0.526142  0.271398  0.358086   7045.0\n",
       "4            Balanced Random Forest   0.582363  0.248403  0.348259   7045.0\n",
       "9            Support Vector Machine   0.290106  0.355004  0.319290   7045.0\n",
       "7               K-Nearest Neighbors   0.116215  0.711001  0.199777   7045.0\n",
       "8      Gradient Boosting Classifier   0.096208  0.805536  0.171886   7045.0\n",
       "6         Random Forest (Resampled)   0.092043  0.795032  0.164985   7045.0\n",
       "5   Logistic Regression (Resampled)   0.068207  0.926615  0.127061   7045.0\n",
       "3      Balanced Logistic Regression   0.068080  0.927892  0.126853   7045.0\n",
       "10            Multilayer Perceptron   0.060757  0.949326  0.114205   7045.0\n",
       "1               Logistic Regression   0.145553  0.007665  0.014563   7045.0\n",
       "0                  Dummy Classifier   0.000000  0.000000  0.000000   7045.0"
      ]
     },
     "execution_count": 86,
     "metadata": {},
     "output_type": "execute_result"
    }
   ],
   "source": [
    "model_compare.sort_values(by=['f1-score'], ascending=False)"
   ]
  },
  {
   "cell_type": "code",
   "execution_count": 93,
   "metadata": {},
   "outputs": [],
   "source": [
    "# dataset[dataset['weeks_since_injury'] < 0]\n",
    "dataset[(dataset['FBRefID'] == 'dea698d9')].to_csv('ronaldo.csv')"
   ]
  },
  {
   "cell_type": "code",
   "execution_count": null,
   "metadata": {},
   "outputs": [],
   "source": []
  }
 ],
 "metadata": {
  "interpreter": {
   "hash": "aee8b7b246df8f9039afb4144a1f6fd8d2ca17a180786b69acc140d282b71a49"
  },
  "kernelspec": {
   "display_name": "Python 3",
   "language": "python",
   "name": "python3"
  },
  "language_info": {
   "codemirror_mode": {
    "name": "ipython",
    "version": 3
   },
   "file_extension": ".py",
   "mimetype": "text/x-python",
   "name": "python",
   "nbconvert_exporter": "python",
   "pygments_lexer": "ipython3",
   "version": "3.6.9"
  }
 },
 "nbformat": 4,
 "nbformat_minor": 2
}
