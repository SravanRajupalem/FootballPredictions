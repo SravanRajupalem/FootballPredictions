{
 "cells": [
  {
   "cell_type": "code",
   "execution_count": 1,
   "metadata": {},
   "outputs": [],
   "source": [
    "import datetime\n",
    "from datetime import date\n",
    "from datetime import datetime\n",
    "import requests\n",
    "import pprint\n",
    "from bs4 import BeautifulSoup\n",
    "import pandas as pd\n",
    "import re\n",
    "import pickle\n",
    "from urllib.request import urlopen\n",
    "import glob\n",
    "# import altair as alt\n",
    "import time\n",
    "import itertools\n",
    "import numpy as np\n",
    "import operator\n",
    "from datetime import timedelta\n",
    "from ipywidgets import interact, IntSlider\n",
    "from IPython.display import display\n",
    "import sklearn\n",
    "import numpy as np\n",
    "from sklearn.linear_model import LogisticRegression\n",
    "import seaborn as sns\n",
    "from matplotlib import pyplot as plt\n",
    "%matplotlib inline\n",
    "from sklearn.metrics import accuracy_score, confusion_matrix,roc_curve, roc_auc_score, precision_score, recall_score, precision_recall_curve\n",
    "from sklearn.model_selection import train_test_split, GridSearchCV, cross_val_score, RepeatedStratifiedKFold, StratifiedKFold\n",
    "from sklearn.datasets import make_hastie_10_2\n",
    "from sklearn.ensemble import GradientBoostingClassifier\n",
    "from imblearn.pipeline import make_pipeline as make_pipeline_with_sampler\n",
    "from imblearn.under_sampling import RandomUnderSampler\n",
    "\n",
    "# pd.options.display.max_columns = 5000\n",
    "# pd.options.display.max_rows = 5000\n",
    "\n",
    "injured_pred = 'injured_in_26_week'\n",
    "\n",
    "simple_features = ['Height', 'Weight', 'age','cum_injury_total', 'weeks_since_injury', 'Min_cum']\n",
    "\n",
    "extended_features = ['Height', 'Weight', 'defender', 'attacker', 'midfielder', 'goalkeeper', 'right_foot', 'age', 'cum_injury_total', 'weeks_since_injury', 'Min_cum', 'Gls_cum', 'Ast_cum', 'PK_cum', 'PKatt_cum',\n",
    " 'Sh_cum', 'SoT_cum', 'CrdY_cum', 'CrdR_cum', 'Touches_cum', 'Press_cum', 'Tkl_cum', 'Int_cum', 'Blocks_cum', 'xG_cum', 'npxG_cum', 'xA_cum', 'SCA_cum', 'GCA_cum', 'Cmp_cum',\n",
    " 'Att_cum', 'Prog_cum', 'Carries_cum', 'Prog.1_cum', 'Succ_cum', 'Att.1_cum', 'Fls_cum', 'Fld_cum', 'Off_cum', 'Crs_cum', 'TklW_cum', 'OG_cum', 'PKwon_cum','PKcon_cum']"
   ]
  },
  {
   "cell_type": "code",
   "execution_count": 2,
   "metadata": {},
   "outputs": [],
   "source": [
    "# Load Dataset\n",
    "\n",
    "# Renzo's Path\n",
    "# dataset = pd.read_csv('/Volumes/GoogleDrive/.shortcut-targets-by-id/1KUGn_35OjAoOP2puz6yG-2g_8LBxvDG_/SIADS 697 - Capstone/Dataframes/complete_final_df_5.csv')\n",
    "\n",
    "# Sravan's Path\n",
    "dataset = pd.read_csv('/Users/srav88/My Drive/SIADS 697 - Capstone/Dataframes/dataset_for_model_final.csv')"
   ]
  },
  {
   "cell_type": "code",
   "execution_count": 3,
   "metadata": {},
   "outputs": [],
   "source": [
    "dataset.loc[(dataset['injury_count'].shift(1) == 1) & (dataset['injury_count'] == 1), 'drop'] = 1\n",
    "dataset.loc[(dataset['injury_count'].shift(1) == 0) & (dataset['injury_count'] == 1), 'drop'] = 0\n",
    "dataset.loc[(dataset['injury_count'].shift(1) == 1) & (dataset['injury_count'] == 0), 'drop'] = 0\n",
    "dataset.loc[(dataset['injury_count'].shift(1) == 0) & (dataset['injury_count'] == 0), 'drop'] = 0\n",
    "dataset.loc[(dataset['injury_count'] == 1) & (dataset['cum_week'] == 0), 'drop'] = 1"
   ]
  },
  {
   "cell_type": "code",
   "execution_count": 4,
   "metadata": {},
   "outputs": [],
   "source": [
    "# dataset[dataset['FBRefID']=='dea698d9'].to_csv('/Users/srav88/My Drive/SIADS 697 - Capstone/Dataframes/ronaldo.csv', index=False)\n",
    "dataset = dataset[dataset['drop'] == 0]\n",
    "dataset = dataset[dataset['goalkeeper'] == 0]"
   ]
  },
  {
   "cell_type": "code",
   "execution_count": 5,
   "metadata": {},
   "outputs": [],
   "source": [
    "dataset[\"last_week\"] = dataset.groupby(\"FBRefID\")[\"cum_week\"].transform(\"last\")\n",
    "dataset[\"train_split\"] = round(dataset[\"last_week\"]*0.75)"
   ]
  },
  {
   "cell_type": "code",
   "execution_count": 6,
   "metadata": {},
   "outputs": [],
   "source": [
    "# Get Train Test Split\n",
    "df_train = dataset[dataset['cum_week'] <= dataset[\"train_split\"]].dropna()\n",
    "df_test = dataset[dataset['cum_week'] > dataset[\"train_split\"]].dropna()"
   ]
  },
  {
   "cell_type": "code",
   "execution_count": 7,
   "metadata": {},
   "outputs": [],
   "source": [
    "X_train = df_train[extended_features].to_numpy()\n",
    "y_train = df_train[injured_pred]\n",
    "\n",
    "X_test = df_test[extended_features].to_numpy()\n",
    "y_test = df_test[injured_pred]"
   ]
  },
  {
   "cell_type": "code",
   "execution_count": 9,
   "metadata": {},
   "outputs": [],
   "source": [
    "# nan_values = y_test.isna()\n",
    "# nan_columns = nan_values.any()\n",
    "\n",
    "# columns_with_nan = y_test.columns[nan_columns].tolist()\n",
    "# print(columns_with_nan)"
   ]
  },
  {
   "cell_type": "code",
   "execution_count": 10,
   "metadata": {},
   "outputs": [
    {
     "data": {
      "text/plain": [
       "<AxesSubplot:xlabel='injured_in_26_week', ylabel='count'>"
      ]
     },
     "execution_count": 10,
     "metadata": {},
     "output_type": "execute_result"
    },
    {
     "data": {
      "image/png": "[encoded data removed]",
      "text/plain": [
       "<Figure size 432x288 with 1 Axes>"
      ]
     },
     "metadata": {
      "needs_background": "light"
     },
     "output_type": "display_data"
    }
   ],
   "source": [
    "sns.countplot(x=injured_pred,data=df_train)"
   ]
  },
  {
   "cell_type": "code",
   "execution_count": 11,
   "metadata": {},
   "outputs": [
    {
     "data": {
      "text/plain": [
       "<AxesSubplot:xlabel='injured_in_26_week', ylabel='count'>"
      ]
     },
     "execution_count": 11,
     "metadata": {},
     "output_type": "execute_result"
    },
    {
     "data": {
      "image/png": "[encoded data removed]",
      "text/plain": [
       "<Figure size 432x288 with 1 Axes>"
      ]
     },
     "metadata": {
      "needs_background": "light"
     },
     "output_type": "display_data"
    }
   ],
   "source": [
    "sns.countplot(x=injured_pred,data=df_test)"
   ]
  },
  {
   "cell_type": "code",
   "execution_count": 12,
   "metadata": {},
   "outputs": [],
   "source": [
    "model_compare = pd.DataFrame(columns=['model', 'precision', 'recall', 'f1-score', 'support'])"
   ]
  },
  {
   "cell_type": "markdown",
   "metadata": {},
   "source": [
    "# Dummy Classifier"
   ]
  },
  {
   "cell_type": "code",
   "execution_count": 13,
   "metadata": {},
   "outputs": [
    {
     "data": {
      "text/plain": [
       "DummyClassifier(strategy='most_frequent')"
      ]
     },
     "execution_count": 13,
     "metadata": {},
     "output_type": "execute_result"
    }
   ],
   "source": [
    "from sklearn.model_selection import cross_validate\n",
    "from sklearn.dummy import DummyClassifier\n",
    "\n",
    "dummy_clf = DummyClassifier(strategy=\"most_frequent\")\n",
    "scoring = [\"accuracy\", \"balanced_accuracy\"]\n",
    "dummy_clf.fit(X_train, y_train)"
   ]
  },
  {
   "cell_type": "code",
   "execution_count": 14,
   "metadata": {},
   "outputs": [],
   "source": [
    "# index = []\n",
    "# scores = {\"Accuracy\": [], \"Balanced accuracy\": []}"
   ]
  },
  {
   "cell_type": "code",
   "execution_count": 15,
   "metadata": {},
   "outputs": [],
   "source": [
    "# index += [\"Dummy classifier\"]\n",
    "# cv_result = cross_validate(dummy_clf, X_train, y_train, scoring=scoring)\n",
    "# scores[\"Accuracy\"].append(cv_result[\"test_accuracy\"].mean())\n",
    "# scores[\"Balanced accuracy\"].append(cv_result[\"test_balanced_accuracy\"].mean())\n",
    "\n",
    "# df_scores = pd.DataFrame(scores, index=index)\n",
    "# df_scores"
   ]
  },
  {
   "cell_type": "code",
   "execution_count": 16,
   "metadata": {},
   "outputs": [],
   "source": [
    "y_pred_dummy = dummy_clf.predict(X_test)"
   ]
  },
  {
   "cell_type": "code",
   "execution_count": 17,
   "metadata": {},
   "outputs": [
    {
     "name": "stdout",
     "output_type": "stream",
     "text": [
      "Accuracy Score: 0.8916636506213054\n",
      "Confusion Matrix: \n",
      "[[118256      0]\n",
      " [ 14368      0]]\n",
      "Area Under Curve: 0.5\n",
      "Recall score: 0.0\n"
     ]
    }
   ],
   "source": [
    "# performance\n",
    "print(f'Accuracy Score: {accuracy_score(y_test,y_pred_dummy)}')\n",
    "print(f'Confusion Matrix: \\n{confusion_matrix(y_test, y_pred_dummy)}')\n",
    "print(f'Area Under Curve: {roc_auc_score(y_test, y_pred_dummy)}')\n",
    "print(f'Recall score: {recall_score(y_test,y_pred_dummy)}')"
   ]
  },
  {
   "cell_type": "code",
   "execution_count": 18,
   "metadata": {},
   "outputs": [
    {
     "name": "stderr",
     "output_type": "stream",
     "text": [
      "/Library/Frameworks/Python.framework/Versions/3.8/lib/python3.8/site-packages/sklearn/metrics/_classification.py:1308: UndefinedMetricWarning: Precision and F-score are ill-defined and being set to 0.0 in labels with no predicted samples. Use `zero_division` parameter to control this behavior.\n",
      "  _warn_prf(average, modifier, msg_start, len(result))\n",
      "/Library/Frameworks/Python.framework/Versions/3.8/lib/python3.8/site-packages/sklearn/metrics/_classification.py:1308: UndefinedMetricWarning: Precision and F-score are ill-defined and being set to 0.0 in labels with no predicted samples. Use `zero_division` parameter to control this behavior.\n",
      "  _warn_prf(average, modifier, msg_start, len(result))\n",
      "/Library/Frameworks/Python.framework/Versions/3.8/lib/python3.8/site-packages/sklearn/metrics/_classification.py:1308: UndefinedMetricWarning: Precision and F-score are ill-defined and being set to 0.0 in labels with no predicted samples. Use `zero_division` parameter to control this behavior.\n",
      "  _warn_prf(average, modifier, msg_start, len(result))\n"
     ]
    }
   ],
   "source": [
    "from sklearn import metrics\n",
    "\n",
    "def get_classification_report(y_test, y_pred, classifier):\n",
    "    report = metrics.classification_report(y_test, y_pred, output_dict=True)\n",
    "    df_classification_report = pd.DataFrame(report).transpose()\n",
    "    df_classification_report = df_classification_report.sort_values(by=['f1-score'], ascending=False)\n",
    "    df_classification_report = df_classification_report.reset_index()\n",
    "    df_classification_report = df_classification_report[df_classification_report['index']=='1.0']\n",
    "    df_classification_report['model'] = classifier    \n",
    "    return df_classification_report[['model', 'precision', 'recall', 'f1-score', 'support']].reset_index(drop=True)\n",
    "\n",
    "df = get_classification_report(y_test, y_pred_dummy, 'Dummy Classifier')"
   ]
  },
  {
   "cell_type": "code",
   "execution_count": 19,
   "metadata": {},
   "outputs": [
    {
     "data": {
      "text/html": [
       "<div>\n",
       "<style scoped>\n",
       "    .dataframe tbody tr th:only-of-type {\n",
       "        vertical-align: middle;\n",
       "    }\n",
       "\n",
       "    .dataframe tbody tr th {\n",
       "        vertical-align: top;\n",
       "    }\n",
       "\n",
       "    .dataframe thead th {\n",
       "        text-align: right;\n",
       "    }\n",
       "</style>\n",
       "<table border=\"1\" class=\"dataframe\">\n",
       "  <thead>\n",
       "    <tr style=\"text-align: right;\">\n",
       "      <th></th>\n",
       "      <th>model</th>\n",
       "      <th>precision</th>\n",
       "      <th>recall</th>\n",
       "      <th>f1-score</th>\n",
       "      <th>support</th>\n",
       "    </tr>\n",
       "  </thead>\n",
       "  <tbody>\n",
       "    <tr>\n",
       "      <th>0</th>\n",
       "      <td>Dummy Classifier</td>\n",
       "      <td>0.0</td>\n",
       "      <td>0.0</td>\n",
       "      <td>0.0</td>\n",
       "      <td>14368.0</td>\n",
       "    </tr>\n",
       "  </tbody>\n",
       "</table>\n",
       "</div>"
      ],
      "text/plain": [
       "              model  precision  recall  f1-score  support\n",
       "0  Dummy Classifier        0.0     0.0       0.0  14368.0"
      ]
     },
     "execution_count": 19,
     "metadata": {},
     "output_type": "execute_result"
    }
   ],
   "source": [
    "model_compare = model_compare.append(df)\n",
    "model_compare.head()"
   ]
  },
  {
   "cell_type": "markdown",
   "metadata": {},
   "source": [
    "# Logistic Regression (Non-Weighted)"
   ]
  },
  {
   "cell_type": "code",
   "execution_count": 20,
   "metadata": {},
   "outputs": [
    {
     "name": "stderr",
     "output_type": "stream",
     "text": [
      "/Library/Frameworks/Python.framework/Versions/3.8/lib/python3.8/site-packages/sklearn/linear_model/_logistic.py:814: ConvergenceWarning: lbfgs failed to converge (status=1):\n",
      "STOP: TOTAL NO. of ITERATIONS REACHED LIMIT.\n",
      "\n",
      "Increase the number of iterations (max_iter) or scale the data as shown in:\n",
      "    https://scikit-learn.org/stable/modules/preprocessing.html\n",
      "Please also refer to the documentation for alternative solver options:\n",
      "    https://scikit-learn.org/stable/modules/linear_model.html#logistic-regression\n",
      "  n_iter_i = _check_optimize_result(\n"
     ]
    },
    {
     "data": {
      "text/plain": [
       "LogisticRegression(max_iter=1000)"
      ]
     },
     "execution_count": 20,
     "metadata": {},
     "output_type": "execute_result"
    }
   ],
   "source": [
    "lr_clf = LogisticRegression(max_iter=1000)\n",
    "lr_clf.fit(X_train, y_train)"
   ]
  },
  {
   "cell_type": "code",
   "execution_count": 21,
   "metadata": {},
   "outputs": [],
   "source": [
    "# index += [\"Logistic regression\"]\n",
    "# cv_result = cross_validate(lr_clf, X_train, y_train, scoring=scoring)\n",
    "# scores[\"Accuracy\"].append(cv_result[\"test_accuracy\"].mean())\n",
    "# scores[\"Balanced accuracy\"].append(cv_result[\"test_balanced_accuracy\"].mean())\n",
    "\n",
    "# df_scores = pd.DataFrame(scores, index=index)\n",
    "# df_scores"
   ]
  },
  {
   "cell_type": "code",
   "execution_count": 22,
   "metadata": {},
   "outputs": [],
   "source": [
    "y_pred_lr = lr_clf.predict(X_test)"
   ]
  },
  {
   "cell_type": "code",
   "execution_count": 24,
   "metadata": {},
   "outputs": [
    {
     "name": "stdout",
     "output_type": "stream",
     "text": [
      "Accuracy Score: 0.886347870671975\n",
      "Confusion Matrix: \n",
      "[[117277    979]\n",
      " [ 14094    274]]\n",
      "Area Under Curve: 0.5053957530964495\n",
      "Recall score: 0.019070155902004456\n"
     ]
    }
   ],
   "source": [
    "# performance\n",
    "print(f'Accuracy Score: {accuracy_score(y_test,y_pred_lr)}')\n",
    "print(f'Confusion Matrix: \\n{confusion_matrix(y_test, y_pred_lr)}')\n",
    "print(f'Area Under Curve: {roc_auc_score(y_test, y_pred_lr)}')\n",
    "print(f'Recall score: {recall_score(y_test,y_pred_lr)}')"
   ]
  },
  {
   "cell_type": "code",
   "execution_count": 25,
   "metadata": {},
   "outputs": [
    {
     "data": {
      "text/html": [
       "<div>\n",
       "<style scoped>\n",
       "    .dataframe tbody tr th:only-of-type {\n",
       "        vertical-align: middle;\n",
       "    }\n",
       "\n",
       "    .dataframe tbody tr th {\n",
       "        vertical-align: top;\n",
       "    }\n",
       "\n",
       "    .dataframe thead th {\n",
       "        text-align: right;\n",
       "    }\n",
       "</style>\n",
       "<table border=\"1\" class=\"dataframe\">\n",
       "  <thead>\n",
       "    <tr style=\"text-align: right;\">\n",
       "      <th></th>\n",
       "      <th>model</th>\n",
       "      <th>precision</th>\n",
       "      <th>recall</th>\n",
       "      <th>f1-score</th>\n",
       "      <th>support</th>\n",
       "    </tr>\n",
       "  </thead>\n",
       "  <tbody>\n",
       "    <tr>\n",
       "      <th>0</th>\n",
       "      <td>Dummy Classifier</td>\n",
       "      <td>0.000000</td>\n",
       "      <td>0.00000</td>\n",
       "      <td>0.000000</td>\n",
       "      <td>14368.0</td>\n",
       "    </tr>\n",
       "    <tr>\n",
       "      <th>1</th>\n",
       "      <td>Logistic Regression</td>\n",
       "      <td>0.218675</td>\n",
       "      <td>0.01907</td>\n",
       "      <td>0.035081</td>\n",
       "      <td>14368.0</td>\n",
       "    </tr>\n",
       "  </tbody>\n",
       "</table>\n",
       "</div>"
      ],
      "text/plain": [
       "                 model  precision   recall  f1-score  support\n",
       "0     Dummy Classifier   0.000000  0.00000  0.000000  14368.0\n",
       "1  Logistic Regression   0.218675  0.01907  0.035081  14368.0"
      ]
     },
     "execution_count": 25,
     "metadata": {},
     "output_type": "execute_result"
    }
   ],
   "source": [
    "df = get_classification_report(y_test, y_pred_lr, 'Logistic Regression')\n",
    "model_compare = model_compare.append(df).reset_index(drop=True)\n",
    "model_compare.head()"
   ]
  },
  {
   "cell_type": "markdown",
   "metadata": {},
   "source": [
    "# Random Forest Classifier"
   ]
  },
  {
   "cell_type": "code",
   "execution_count": 26,
   "metadata": {},
   "outputs": [],
   "source": [
    "from sklearn.ensemble import RandomForestClassifier\n",
    "rf_clf = RandomForestClassifier(random_state=42, n_jobs=2)\n",
    "\n",
    "# index += [\"Random forest\"]\n",
    "# cv_result = cross_validate(rf_clf, X_train, y_train, scoring=scoring)\n",
    "# scores[\"Accuracy\"].append(cv_result[\"test_accuracy\"].mean())\n",
    "# scores[\"Balanced accuracy\"].append(cv_result[\"test_balanced_accuracy\"].mean())\n",
    "\n",
    "# df_scores = pd.DataFrame(scores, index=index)\n",
    "# df_scores"
   ]
  },
  {
   "cell_type": "code",
   "execution_count": 27,
   "metadata": {},
   "outputs": [],
   "source": [
    "rf_clf.fit(X_train, y_train)\n",
    "y_pred_rf = rf_clf.predict(X_test)"
   ]
  },
  {
   "cell_type": "code",
   "execution_count": 28,
   "metadata": {},
   "outputs": [
    {
     "name": "stdout",
     "output_type": "stream",
     "text": [
      "Accuracy Score: 0.8887833273012427\n",
      "Confusion Matrix: \n",
      "[[117210   1046]\n",
      " [ 13704    664]]\n",
      "Area Under Curve: 0.5186842956536256\n",
      "Recall score: 0.04621380846325167\n"
     ]
    }
   ],
   "source": [
    "# performance\n",
    "print(f'Accuracy Score: {accuracy_score(y_test,y_pred_rf)}')\n",
    "print(f'Confusion Matrix: \\n{confusion_matrix(y_test, y_pred_rf)}')\n",
    "print(f'Area Under Curve: {roc_auc_score(y_test, y_pred_rf)}')\n",
    "print(f'Recall score: {recall_score(y_test,y_pred_rf)}')"
   ]
  },
  {
   "cell_type": "code",
   "execution_count": 29,
   "metadata": {},
   "outputs": [
    {
     "data": {
      "text/html": [
       "<div>\n",
       "<style scoped>\n",
       "    .dataframe tbody tr th:only-of-type {\n",
       "        vertical-align: middle;\n",
       "    }\n",
       "\n",
       "    .dataframe tbody tr th {\n",
       "        vertical-align: top;\n",
       "    }\n",
       "\n",
       "    .dataframe thead th {\n",
       "        text-align: right;\n",
       "    }\n",
       "</style>\n",
       "<table border=\"1\" class=\"dataframe\">\n",
       "  <thead>\n",
       "    <tr style=\"text-align: right;\">\n",
       "      <th></th>\n",
       "      <th>model</th>\n",
       "      <th>precision</th>\n",
       "      <th>recall</th>\n",
       "      <th>f1-score</th>\n",
       "      <th>support</th>\n",
       "    </tr>\n",
       "  </thead>\n",
       "  <tbody>\n",
       "    <tr>\n",
       "      <th>0</th>\n",
       "      <td>Dummy Classifier</td>\n",
       "      <td>0.000000</td>\n",
       "      <td>0.000000</td>\n",
       "      <td>0.000000</td>\n",
       "      <td>14368.0</td>\n",
       "    </tr>\n",
       "    <tr>\n",
       "      <th>1</th>\n",
       "      <td>Logistic Regression</td>\n",
       "      <td>0.218675</td>\n",
       "      <td>0.019070</td>\n",
       "      <td>0.035081</td>\n",
       "      <td>14368.0</td>\n",
       "    </tr>\n",
       "    <tr>\n",
       "      <th>2</th>\n",
       "      <td>Random Forest</td>\n",
       "      <td>0.388304</td>\n",
       "      <td>0.046214</td>\n",
       "      <td>0.082597</td>\n",
       "      <td>14368.0</td>\n",
       "    </tr>\n",
       "  </tbody>\n",
       "</table>\n",
       "</div>"
      ],
      "text/plain": [
       "                 model  precision    recall  f1-score  support\n",
       "0     Dummy Classifier   0.000000  0.000000  0.000000  14368.0\n",
       "1  Logistic Regression   0.218675  0.019070  0.035081  14368.0\n",
       "2        Random Forest   0.388304  0.046214  0.082597  14368.0"
      ]
     },
     "execution_count": 29,
     "metadata": {},
     "output_type": "execute_result"
    }
   ],
   "source": [
    "df = get_classification_report(y_test, y_pred_rf, 'Random Forest')\n",
    "model_compare = model_compare.append(df).reset_index(drop=True)\n",
    "model_compare.head()"
   ]
  },
  {
   "cell_type": "markdown",
   "metadata": {},
   "source": [
    "# Balanced Logistic Regression"
   ]
  },
  {
   "cell_type": "code",
   "execution_count": 30,
   "metadata": {},
   "outputs": [
    {
     "name": "stderr",
     "output_type": "stream",
     "text": [
      "/Library/Frameworks/Python.framework/Versions/3.8/lib/python3.8/site-packages/sklearn/linear_model/_logistic.py:814: ConvergenceWarning: lbfgs failed to converge (status=1):\n",
      "STOP: TOTAL NO. of ITERATIONS REACHED LIMIT.\n",
      "\n",
      "Increase the number of iterations (max_iter) or scale the data as shown in:\n",
      "    https://scikit-learn.org/stable/modules/preprocessing.html\n",
      "Please also refer to the documentation for alternative solver options:\n",
      "    https://scikit-learn.org/stable/modules/linear_model.html#logistic-regression\n",
      "  n_iter_i = _check_optimize_result(\n"
     ]
    }
   ],
   "source": [
    "lr_clf_bal = LogisticRegression(max_iter=1000)\n",
    "lr_clf_bal.set_params(class_weight=\"balanced\")\n",
    "lr_clf_bal.fit(X_train, y_train)\n",
    "y_pred_lr_bal = lr_clf_bal.predict(X_test)\n",
    "\n",
    "# index += [\"Logistic regression with balanced class weights\"]\n",
    "# cv_result = cross_validate(lr_clf, X_train, y_train, scoring=scoring)\n",
    "# scores[\"Accuracy\"].append(cv_result[\"test_accuracy\"].mean())\n",
    "# scores[\"Balanced accuracy\"].append(cv_result[\"test_balanced_accuracy\"].mean())\n",
    "\n",
    "# df_scores = pd.DataFrame(scores, index=index)\n",
    "# df_scores"
   ]
  },
  {
   "cell_type": "code",
   "execution_count": 31,
   "metadata": {},
   "outputs": [
    {
     "name": "stdout",
     "output_type": "stream",
     "text": [
      "Accuracy Score: 0.2815704548196405\n",
      "Confusion Matrix: \n",
      "[[25066 93190]\n",
      " [ 2091 12277]]\n",
      "Area Under Curve: 0.5332160688946619\n",
      "Recall score: 0.8544682628062361\n"
     ]
    }
   ],
   "source": [
    "# performance\n",
    "print(f'Accuracy Score: {accuracy_score(y_test,y_pred_lr_bal)}')\n",
    "print(f'Confusion Matrix: \\n{confusion_matrix(y_test, y_pred_lr_bal)}')\n",
    "print(f'Area Under Curve: {roc_auc_score(y_test, y_pred_lr_bal)}')\n",
    "print(f'Recall score: {recall_score(y_test,y_pred_lr_bal)}')"
   ]
  },
  {
   "cell_type": "code",
   "execution_count": 32,
   "metadata": {},
   "outputs": [
    {
     "data": {
      "text/html": [
       "<div>\n",
       "<style scoped>\n",
       "    .dataframe tbody tr th:only-of-type {\n",
       "        vertical-align: middle;\n",
       "    }\n",
       "\n",
       "    .dataframe tbody tr th {\n",
       "        vertical-align: top;\n",
       "    }\n",
       "\n",
       "    .dataframe thead th {\n",
       "        text-align: right;\n",
       "    }\n",
       "</style>\n",
       "<table border=\"1\" class=\"dataframe\">\n",
       "  <thead>\n",
       "    <tr style=\"text-align: right;\">\n",
       "      <th></th>\n",
       "      <th>model</th>\n",
       "      <th>precision</th>\n",
       "      <th>recall</th>\n",
       "      <th>f1-score</th>\n",
       "      <th>support</th>\n",
       "    </tr>\n",
       "  </thead>\n",
       "  <tbody>\n",
       "    <tr>\n",
       "      <th>0</th>\n",
       "      <td>Dummy Classifier</td>\n",
       "      <td>0.000000</td>\n",
       "      <td>0.000000</td>\n",
       "      <td>0.000000</td>\n",
       "      <td>14368.0</td>\n",
       "    </tr>\n",
       "    <tr>\n",
       "      <th>1</th>\n",
       "      <td>Logistic Regression</td>\n",
       "      <td>0.218675</td>\n",
       "      <td>0.019070</td>\n",
       "      <td>0.035081</td>\n",
       "      <td>14368.0</td>\n",
       "    </tr>\n",
       "    <tr>\n",
       "      <th>2</th>\n",
       "      <td>Random Forest</td>\n",
       "      <td>0.388304</td>\n",
       "      <td>0.046214</td>\n",
       "      <td>0.082597</td>\n",
       "      <td>14368.0</td>\n",
       "    </tr>\n",
       "    <tr>\n",
       "      <th>3</th>\n",
       "      <td>Balanced Logistic Regression</td>\n",
       "      <td>0.116406</td>\n",
       "      <td>0.854468</td>\n",
       "      <td>0.204898</td>\n",
       "      <td>14368.0</td>\n",
       "    </tr>\n",
       "  </tbody>\n",
       "</table>\n",
       "</div>"
      ],
      "text/plain": [
       "                          model  precision    recall  f1-score  support\n",
       "0              Dummy Classifier   0.000000  0.000000  0.000000  14368.0\n",
       "1           Logistic Regression   0.218675  0.019070  0.035081  14368.0\n",
       "2                 Random Forest   0.388304  0.046214  0.082597  14368.0\n",
       "3  Balanced Logistic Regression   0.116406  0.854468  0.204898  14368.0"
      ]
     },
     "execution_count": 32,
     "metadata": {},
     "output_type": "execute_result"
    }
   ],
   "source": [
    "df = get_classification_report(y_test, y_pred_lr_bal, 'Balanced Logistic Regression')\n",
    "model_compare = model_compare.append(df).reset_index(drop=True)\n",
    "model_compare.head()"
   ]
  },
  {
   "cell_type": "markdown",
   "metadata": {},
   "source": [
    "# Balanced Random Forest"
   ]
  },
  {
   "cell_type": "code",
   "execution_count": 33,
   "metadata": {},
   "outputs": [],
   "source": [
    "rf_clf_balanced = RandomForestClassifier(random_state=42, n_jobs=2)\n",
    "rf_clf_balanced.set_params(class_weight=\"balanced\")\n",
    "\n",
    "rf_clf_balanced.fit(X_train, y_train)\n",
    "y_pred_rf_bal = rf_clf_balanced.predict(X_test)\n",
    "\n",
    "# index += [\"Random forest with balanced class weights\"]\n",
    "# cv_result = cross_validate(rf_clf, X_train, y_train, scoring=scoring)\n",
    "# scores[\"Accuracy\"].append(cv_result[\"test_accuracy\"].mean())\n",
    "# scores[\"Balanced accuracy\"].append(cv_result[\"test_balanced_accuracy\"].mean())\n",
    "\n",
    "# df_scores = pd.DataFrame(scores, index=index)\n",
    "# df_scores"
   ]
  },
  {
   "cell_type": "code",
   "execution_count": 34,
   "metadata": {},
   "outputs": [
    {
     "name": "stdout",
     "output_type": "stream",
     "text": [
      "Accuracy Score: 0.8894393171673302\n",
      "Confusion Matrix: \n",
      "[[117411    845]\n",
      " [ 13818    550]]\n",
      "Area Under Curve: 0.5155669976034779\n",
      "Recall score: 0.038279510022271715\n"
     ]
    }
   ],
   "source": [
    "# performance\n",
    "print(f'Accuracy Score: {accuracy_score(y_test,y_pred_rf_bal)}')\n",
    "print(f'Confusion Matrix: \\n{confusion_matrix(y_test, y_pred_rf_bal)}')\n",
    "print(f'Area Under Curve: {roc_auc_score(y_test, y_pred_rf_bal)}')\n",
    "print(f'Recall score: {recall_score(y_test,y_pred_rf_bal)}')"
   ]
  },
  {
   "cell_type": "code",
   "execution_count": 35,
   "metadata": {},
   "outputs": [
    {
     "data": {
      "text/html": [
       "<div>\n",
       "<style scoped>\n",
       "    .dataframe tbody tr th:only-of-type {\n",
       "        vertical-align: middle;\n",
       "    }\n",
       "\n",
       "    .dataframe tbody tr th {\n",
       "        vertical-align: top;\n",
       "    }\n",
       "\n",
       "    .dataframe thead th {\n",
       "        text-align: right;\n",
       "    }\n",
       "</style>\n",
       "<table border=\"1\" class=\"dataframe\">\n",
       "  <thead>\n",
       "    <tr style=\"text-align: right;\">\n",
       "      <th></th>\n",
       "      <th>model</th>\n",
       "      <th>precision</th>\n",
       "      <th>recall</th>\n",
       "      <th>f1-score</th>\n",
       "      <th>support</th>\n",
       "    </tr>\n",
       "  </thead>\n",
       "  <tbody>\n",
       "    <tr>\n",
       "      <th>0</th>\n",
       "      <td>Dummy Classifier</td>\n",
       "      <td>0.000000</td>\n",
       "      <td>0.000000</td>\n",
       "      <td>0.000000</td>\n",
       "      <td>14368.0</td>\n",
       "    </tr>\n",
       "    <tr>\n",
       "      <th>1</th>\n",
       "      <td>Logistic Regression</td>\n",
       "      <td>0.218675</td>\n",
       "      <td>0.019070</td>\n",
       "      <td>0.035081</td>\n",
       "      <td>14368.0</td>\n",
       "    </tr>\n",
       "    <tr>\n",
       "      <th>2</th>\n",
       "      <td>Random Forest</td>\n",
       "      <td>0.388304</td>\n",
       "      <td>0.046214</td>\n",
       "      <td>0.082597</td>\n",
       "      <td>14368.0</td>\n",
       "    </tr>\n",
       "    <tr>\n",
       "      <th>3</th>\n",
       "      <td>Balanced Logistic Regression</td>\n",
       "      <td>0.116406</td>\n",
       "      <td>0.854468</td>\n",
       "      <td>0.204898</td>\n",
       "      <td>14368.0</td>\n",
       "    </tr>\n",
       "    <tr>\n",
       "      <th>4</th>\n",
       "      <td>Balanced Random Forest</td>\n",
       "      <td>0.394265</td>\n",
       "      <td>0.038280</td>\n",
       "      <td>0.069784</td>\n",
       "      <td>14368.0</td>\n",
       "    </tr>\n",
       "  </tbody>\n",
       "</table>\n",
       "</div>"
      ],
      "text/plain": [
       "                          model  precision    recall  f1-score  support\n",
       "0              Dummy Classifier   0.000000  0.000000  0.000000  14368.0\n",
       "1           Logistic Regression   0.218675  0.019070  0.035081  14368.0\n",
       "2                 Random Forest   0.388304  0.046214  0.082597  14368.0\n",
       "3  Balanced Logistic Regression   0.116406  0.854468  0.204898  14368.0\n",
       "4        Balanced Random Forest   0.394265  0.038280  0.069784  14368.0"
      ]
     },
     "execution_count": 35,
     "metadata": {},
     "output_type": "execute_result"
    }
   ],
   "source": [
    "df = get_classification_report(y_test, y_pred_rf_bal, 'Balanced Random Forest')\n",
    "model_compare = model_compare.append(df).reset_index(drop=True)\n",
    "model_compare.head()"
   ]
  },
  {
   "cell_type": "markdown",
   "metadata": {},
   "source": [
    "# Logistic Regression (Resample the training set during learning)"
   ]
  },
  {
   "cell_type": "code",
   "execution_count": 36,
   "metadata": {},
   "outputs": [],
   "source": [
    "lr_clf_resample = make_pipeline_with_sampler(\n",
    "    RandomUnderSampler(random_state=42),\n",
    "    LogisticRegression(max_iter=1000),\n",
    ")\n",
    "lr_clf_resample.fit(X_train, y_train)\n",
    "y_pred_lr_resample = lr_clf_resample.predict(X_test)"
   ]
  },
  {
   "cell_type": "code",
   "execution_count": 37,
   "metadata": {},
   "outputs": [],
   "source": [
    "# index += [\"Under-sampling + Logistic regression\"]\n",
    "# cv_result = cross_validate(lr_clf, X_train, y_train, scoring=scoring)\n",
    "# scores[\"Accuracy\"].append(cv_result[\"test_accuracy\"].mean())\n",
    "# scores[\"Balanced accuracy\"].append(cv_result[\"test_balanced_accuracy\"].mean())\n",
    "\n",
    "# df_scores = pd.DataFrame(scores, index=index)\n",
    "# df_scores\n"
   ]
  },
  {
   "cell_type": "code",
   "execution_count": 38,
   "metadata": {},
   "outputs": [
    {
     "name": "stdout",
     "output_type": "stream",
     "text": [
      "Accuracy Score: 0.274354566292677\n",
      "Confusion Matrix: \n",
      "[[24029 94227]\n",
      " [ 2011 12357]]\n",
      "Area Under Curve: 0.5316154777193957\n",
      "Recall score: 0.8600361915367484\n"
     ]
    }
   ],
   "source": [
    "# performance\n",
    "print(f'Accuracy Score: {accuracy_score(y_test,y_pred_lr_resample)}')\n",
    "print(f'Confusion Matrix: \\n{confusion_matrix(y_test, y_pred_lr_resample)}')\n",
    "print(f'Area Under Curve: {roc_auc_score(y_test, y_pred_lr_resample)}')\n",
    "print(f'Recall score: {recall_score(y_test,y_pred_lr_resample)}')"
   ]
  },
  {
   "cell_type": "code",
   "execution_count": 39,
   "metadata": {},
   "outputs": [
    {
     "data": {
      "text/html": [
       "<div>\n",
       "<style scoped>\n",
       "    .dataframe tbody tr th:only-of-type {\n",
       "        vertical-align: middle;\n",
       "    }\n",
       "\n",
       "    .dataframe tbody tr th {\n",
       "        vertical-align: top;\n",
       "    }\n",
       "\n",
       "    .dataframe thead th {\n",
       "        text-align: right;\n",
       "    }\n",
       "</style>\n",
       "<table border=\"1\" class=\"dataframe\">\n",
       "  <thead>\n",
       "    <tr style=\"text-align: right;\">\n",
       "      <th></th>\n",
       "      <th>model</th>\n",
       "      <th>precision</th>\n",
       "      <th>recall</th>\n",
       "      <th>f1-score</th>\n",
       "      <th>support</th>\n",
       "    </tr>\n",
       "  </thead>\n",
       "  <tbody>\n",
       "    <tr>\n",
       "      <th>0</th>\n",
       "      <td>Dummy Classifier</td>\n",
       "      <td>0.000000</td>\n",
       "      <td>0.000000</td>\n",
       "      <td>0.000000</td>\n",
       "      <td>14368.0</td>\n",
       "    </tr>\n",
       "    <tr>\n",
       "      <th>1</th>\n",
       "      <td>Logistic Regression</td>\n",
       "      <td>0.218675</td>\n",
       "      <td>0.019070</td>\n",
       "      <td>0.035081</td>\n",
       "      <td>14368.0</td>\n",
       "    </tr>\n",
       "    <tr>\n",
       "      <th>2</th>\n",
       "      <td>Random Forest</td>\n",
       "      <td>0.388304</td>\n",
       "      <td>0.046214</td>\n",
       "      <td>0.082597</td>\n",
       "      <td>14368.0</td>\n",
       "    </tr>\n",
       "    <tr>\n",
       "      <th>3</th>\n",
       "      <td>Balanced Logistic Regression</td>\n",
       "      <td>0.116406</td>\n",
       "      <td>0.854468</td>\n",
       "      <td>0.204898</td>\n",
       "      <td>14368.0</td>\n",
       "    </tr>\n",
       "    <tr>\n",
       "      <th>4</th>\n",
       "      <td>Balanced Random Forest</td>\n",
       "      <td>0.394265</td>\n",
       "      <td>0.038280</td>\n",
       "      <td>0.069784</td>\n",
       "      <td>14368.0</td>\n",
       "    </tr>\n",
       "  </tbody>\n",
       "</table>\n",
       "</div>"
      ],
      "text/plain": [
       "                          model  precision    recall  f1-score  support\n",
       "0              Dummy Classifier   0.000000  0.000000  0.000000  14368.0\n",
       "1           Logistic Regression   0.218675  0.019070  0.035081  14368.0\n",
       "2                 Random Forest   0.388304  0.046214  0.082597  14368.0\n",
       "3  Balanced Logistic Regression   0.116406  0.854468  0.204898  14368.0\n",
       "4        Balanced Random Forest   0.394265  0.038280  0.069784  14368.0"
      ]
     },
     "execution_count": 39,
     "metadata": {},
     "output_type": "execute_result"
    }
   ],
   "source": [
    "df = get_classification_report(y_test, y_pred_lr_resample, 'Logistic Regression (Resampled)')\n",
    "model_compare = model_compare.append(df).reset_index(drop=True)\n",
    "model_compare.head()"
   ]
  },
  {
   "cell_type": "markdown",
   "metadata": {},
   "source": [
    "# Random Forest (Resample the training set during learning)"
   ]
  },
  {
   "cell_type": "code",
   "execution_count": 40,
   "metadata": {},
   "outputs": [],
   "source": [
    "rf_clf_resampled = make_pipeline_with_sampler(\n",
    "    RandomUnderSampler(random_state=42),\n",
    "    RandomForestClassifier(random_state=42, n_jobs=2),\n",
    ")\n",
    "rf_clf_resampled.fit(X_train, y_train)\n",
    "y_pred_rf_resampled = rf_clf_resampled.predict(X_test)"
   ]
  },
  {
   "cell_type": "code",
   "execution_count": 41,
   "metadata": {},
   "outputs": [],
   "source": [
    "# index += [\"Under-sampling + Random forest\"]\n",
    "# cv_result = cross_validate(rf_clf, X_train, y_train, scoring=scoring)\n",
    "# scores[\"Accuracy\"].append(cv_result[\"test_accuracy\"].mean())\n",
    "# scores[\"Balanced accuracy\"].append(cv_result[\"test_balanced_accuracy\"].mean())\n",
    "\n",
    "# df_scores = pd.DataFrame(scores, index=index)\n",
    "# df_scores"
   ]
  },
  {
   "cell_type": "code",
   "execution_count": 43,
   "metadata": {},
   "outputs": [
    {
     "name": "stdout",
     "output_type": "stream",
     "text": [
      "Accuracy Score: 0.666206719749065\n",
      "Confusion Matrix: \n",
      "[[81613 36643]\n",
      " [ 7626  6742]]\n",
      "Area Under Curve: 0.5796877688478643\n",
      "Recall score: 0.4692371937639198\n"
     ]
    }
   ],
   "source": [
    "# performance\n",
    "print(f'Accuracy Score: {accuracy_score(y_test,y_pred_rf_resampled)}')\n",
    "print(f'Confusion Matrix: \\n{confusion_matrix(y_test, y_pred_rf_resampled)}')\n",
    "print(f'Area Under Curve: {roc_auc_score(y_test, y_pred_rf_resampled)}')\n",
    "print(f'Recall score: {recall_score(y_test,y_pred_rf_resampled)}')"
   ]
  },
  {
   "cell_type": "code",
   "execution_count": 44,
   "metadata": {},
   "outputs": [],
   "source": [
    "df = get_classification_report(y_test, y_pred_rf_resampled, 'Random Forest (Resampled)')\n",
    "model_compare = model_compare.append(df).reset_index(drop=True)"
   ]
  },
  {
   "cell_type": "code",
   "execution_count": 45,
   "metadata": {},
   "outputs": [
    {
     "data": {
      "text/html": [
       "<div>\n",
       "<style scoped>\n",
       "    .dataframe tbody tr th:only-of-type {\n",
       "        vertical-align: middle;\n",
       "    }\n",
       "\n",
       "    .dataframe tbody tr th {\n",
       "        vertical-align: top;\n",
       "    }\n",
       "\n",
       "    .dataframe thead th {\n",
       "        text-align: right;\n",
       "    }\n",
       "</style>\n",
       "<table border=\"1\" class=\"dataframe\">\n",
       "  <thead>\n",
       "    <tr style=\"text-align: right;\">\n",
       "      <th></th>\n",
       "      <th>model</th>\n",
       "      <th>precision</th>\n",
       "      <th>recall</th>\n",
       "      <th>f1-score</th>\n",
       "      <th>support</th>\n",
       "    </tr>\n",
       "  </thead>\n",
       "  <tbody>\n",
       "    <tr>\n",
       "      <th>0</th>\n",
       "      <td>Dummy Classifier</td>\n",
       "      <td>0.000000</td>\n",
       "      <td>0.000000</td>\n",
       "      <td>0.000000</td>\n",
       "      <td>14368.0</td>\n",
       "    </tr>\n",
       "    <tr>\n",
       "      <th>1</th>\n",
       "      <td>Logistic Regression</td>\n",
       "      <td>0.218675</td>\n",
       "      <td>0.019070</td>\n",
       "      <td>0.035081</td>\n",
       "      <td>14368.0</td>\n",
       "    </tr>\n",
       "    <tr>\n",
       "      <th>2</th>\n",
       "      <td>Random Forest</td>\n",
       "      <td>0.388304</td>\n",
       "      <td>0.046214</td>\n",
       "      <td>0.082597</td>\n",
       "      <td>14368.0</td>\n",
       "    </tr>\n",
       "    <tr>\n",
       "      <th>3</th>\n",
       "      <td>Balanced Logistic Regression</td>\n",
       "      <td>0.116406</td>\n",
       "      <td>0.854468</td>\n",
       "      <td>0.204898</td>\n",
       "      <td>14368.0</td>\n",
       "    </tr>\n",
       "    <tr>\n",
       "      <th>4</th>\n",
       "      <td>Balanced Random Forest</td>\n",
       "      <td>0.394265</td>\n",
       "      <td>0.038280</td>\n",
       "      <td>0.069784</td>\n",
       "      <td>14368.0</td>\n",
       "    </tr>\n",
       "    <tr>\n",
       "      <th>5</th>\n",
       "      <td>Logistic Regression (Resampled)</td>\n",
       "      <td>0.115937</td>\n",
       "      <td>0.860036</td>\n",
       "      <td>0.204329</td>\n",
       "      <td>14368.0</td>\n",
       "    </tr>\n",
       "    <tr>\n",
       "      <th>6</th>\n",
       "      <td>Random Forest (Resampled)</td>\n",
       "      <td>0.155399</td>\n",
       "      <td>0.469237</td>\n",
       "      <td>0.233477</td>\n",
       "      <td>14368.0</td>\n",
       "    </tr>\n",
       "  </tbody>\n",
       "</table>\n",
       "</div>"
      ],
      "text/plain": [
       "                             model  precision    recall  f1-score  support\n",
       "0                 Dummy Classifier   0.000000  0.000000  0.000000  14368.0\n",
       "1              Logistic Regression   0.218675  0.019070  0.035081  14368.0\n",
       "2                    Random Forest   0.388304  0.046214  0.082597  14368.0\n",
       "3     Balanced Logistic Regression   0.116406  0.854468  0.204898  14368.0\n",
       "4           Balanced Random Forest   0.394265  0.038280  0.069784  14368.0\n",
       "5  Logistic Regression (Resampled)   0.115937  0.860036  0.204329  14368.0\n",
       "6        Random Forest (Resampled)   0.155399  0.469237  0.233477  14368.0"
      ]
     },
     "execution_count": 45,
     "metadata": {},
     "output_type": "execute_result"
    }
   ],
   "source": [
    "model_compare = model_compare.drop_duplicates()\n",
    "model_compare"
   ]
  },
  {
   "cell_type": "markdown",
   "metadata": {},
   "source": [
    "# Balanced Random Forest Classifier"
   ]
  },
  {
   "cell_type": "code",
   "execution_count": 46,
   "metadata": {},
   "outputs": [],
   "source": [
    "# from imblearn.ensemble import BalancedRandomForestClassifier\n",
    "# rf_clf = BalancedRandomForestClassifier(random_state=42, n_jobs=2)"
   ]
  },
  {
   "cell_type": "code",
   "execution_count": 47,
   "metadata": {},
   "outputs": [],
   "source": [
    "# index += [\"Balanced random forest\"]\n",
    "# cv_result = cross_validate(rf_clf, X_train, y_train, scoring=scoring)\n",
    "# scores[\"Accuracy\"].append(cv_result[\"test_accuracy\"].mean())\n",
    "# scores[\"Balanced accuracy\"].append(cv_result[\"test_balanced_accuracy\"].mean())\n",
    "\n",
    "# df_scores = pd.DataFrame(scores, index=index)\n",
    "# df_scores"
   ]
  },
  {
   "cell_type": "code",
   "execution_count": 48,
   "metadata": {},
   "outputs": [],
   "source": [
    "# rf_clf.fit(X_train, y_train)\n",
    "# y_pred = rf_clf.predict(X_test)"
   ]
  },
  {
   "cell_type": "code",
   "execution_count": 49,
   "metadata": {},
   "outputs": [],
   "source": [
    "# # performance\n",
    "# print(f'Accuracy Score: {accuracy_score(y_test,y_pred)}')\n",
    "# print(f'Confusion Matrix: \\n{confusion_matrix(y_test, y_pred)}')\n",
    "# print(f'Area Under Curve: {roc_auc_score(y_test, y_pred)}')\n",
    "# print(f'Recall score: {recall_score(y_test,y_pred)}')"
   ]
  },
  {
   "cell_type": "code",
   "execution_count": 50,
   "metadata": {},
   "outputs": [],
   "source": [
    "# from sklearn.metrics import classification_report\n",
    "# print(classification_report(y_test,y_pred))"
   ]
  },
  {
   "cell_type": "code",
   "execution_count": 51,
   "metadata": {},
   "outputs": [],
   "source": [
    "# print(clf.coef_, clf.intercept_)"
   ]
  },
  {
   "cell_type": "markdown",
   "metadata": {},
   "source": [
    "# K-Nearest Neighbors"
   ]
  },
  {
   "cell_type": "code",
   "execution_count": 52,
   "metadata": {},
   "outputs": [],
   "source": [
    "from sklearn.neighbors import KNeighborsClassifier\n",
    "\n",
    "clf_knn = make_pipeline_with_sampler(\n",
    "    RandomUnderSampler(random_state=42),\n",
    "    KNeighborsClassifier(n_neighbors=10),\n",
    ")\n",
    "\n",
    "# clf_knn = KNeighborsClassifier(n_neighbors=5)\n",
    "\n",
    "clf_knn.fit(X_train, y_train)\n",
    "y_pred_knn = clf_knn.predict(X_test)"
   ]
  },
  {
   "cell_type": "code",
   "execution_count": 53,
   "metadata": {},
   "outputs": [
    {
     "name": "stdout",
     "output_type": "stream",
     "text": [
      "Accuracy Score: 0.5091687778984196\n",
      "Confusion Matrix: \n",
      "[[59197 59059]\n",
      " [ 6037  8331]]\n",
      "Area Under Curve: 0.5402068290408578\n",
      "Recall score: 0.5798301781737194\n"
     ]
    }
   ],
   "source": [
    "# performance\n",
    "print(f'Accuracy Score: {accuracy_score(y_test,y_pred_knn)}')\n",
    "print(f'Confusion Matrix: \\n{confusion_matrix(y_test, y_pred_knn)}')\n",
    "print(f'Area Under Curve: {roc_auc_score(y_test, y_pred_knn)}')\n",
    "print(f'Recall score: {recall_score(y_test,y_pred_knn)}')"
   ]
  },
  {
   "cell_type": "code",
   "execution_count": 54,
   "metadata": {},
   "outputs": [
    {
     "data": {
      "text/html": [
       "<div>\n",
       "<style scoped>\n",
       "    .dataframe tbody tr th:only-of-type {\n",
       "        vertical-align: middle;\n",
       "    }\n",
       "\n",
       "    .dataframe tbody tr th {\n",
       "        vertical-align: top;\n",
       "    }\n",
       "\n",
       "    .dataframe thead th {\n",
       "        text-align: right;\n",
       "    }\n",
       "</style>\n",
       "<table border=\"1\" class=\"dataframe\">\n",
       "  <thead>\n",
       "    <tr style=\"text-align: right;\">\n",
       "      <th></th>\n",
       "      <th>model</th>\n",
       "      <th>precision</th>\n",
       "      <th>recall</th>\n",
       "      <th>f1-score</th>\n",
       "      <th>support</th>\n",
       "    </tr>\n",
       "  </thead>\n",
       "  <tbody>\n",
       "    <tr>\n",
       "      <th>0</th>\n",
       "      <td>Dummy Classifier</td>\n",
       "      <td>0.000000</td>\n",
       "      <td>0.000000</td>\n",
       "      <td>0.000000</td>\n",
       "      <td>14368.0</td>\n",
       "    </tr>\n",
       "    <tr>\n",
       "      <th>1</th>\n",
       "      <td>Logistic Regression</td>\n",
       "      <td>0.218675</td>\n",
       "      <td>0.019070</td>\n",
       "      <td>0.035081</td>\n",
       "      <td>14368.0</td>\n",
       "    </tr>\n",
       "    <tr>\n",
       "      <th>2</th>\n",
       "      <td>Random Forest</td>\n",
       "      <td>0.388304</td>\n",
       "      <td>0.046214</td>\n",
       "      <td>0.082597</td>\n",
       "      <td>14368.0</td>\n",
       "    </tr>\n",
       "    <tr>\n",
       "      <th>3</th>\n",
       "      <td>Balanced Logistic Regression</td>\n",
       "      <td>0.116406</td>\n",
       "      <td>0.854468</td>\n",
       "      <td>0.204898</td>\n",
       "      <td>14368.0</td>\n",
       "    </tr>\n",
       "    <tr>\n",
       "      <th>4</th>\n",
       "      <td>Balanced Random Forest</td>\n",
       "      <td>0.394265</td>\n",
       "      <td>0.038280</td>\n",
       "      <td>0.069784</td>\n",
       "      <td>14368.0</td>\n",
       "    </tr>\n",
       "    <tr>\n",
       "      <th>5</th>\n",
       "      <td>Logistic Regression (Resampled)</td>\n",
       "      <td>0.115937</td>\n",
       "      <td>0.860036</td>\n",
       "      <td>0.204329</td>\n",
       "      <td>14368.0</td>\n",
       "    </tr>\n",
       "    <tr>\n",
       "      <th>6</th>\n",
       "      <td>Random Forest (Resampled)</td>\n",
       "      <td>0.155399</td>\n",
       "      <td>0.469237</td>\n",
       "      <td>0.233477</td>\n",
       "      <td>14368.0</td>\n",
       "    </tr>\n",
       "    <tr>\n",
       "      <th>7</th>\n",
       "      <td>K-Nearest Neighbors</td>\n",
       "      <td>0.123624</td>\n",
       "      <td>0.579830</td>\n",
       "      <td>0.203797</td>\n",
       "      <td>14368.0</td>\n",
       "    </tr>\n",
       "  </tbody>\n",
       "</table>\n",
       "</div>"
      ],
      "text/plain": [
       "                             model  precision    recall  f1-score  support\n",
       "0                 Dummy Classifier   0.000000  0.000000  0.000000  14368.0\n",
       "1              Logistic Regression   0.218675  0.019070  0.035081  14368.0\n",
       "2                    Random Forest   0.388304  0.046214  0.082597  14368.0\n",
       "3     Balanced Logistic Regression   0.116406  0.854468  0.204898  14368.0\n",
       "4           Balanced Random Forest   0.394265  0.038280  0.069784  14368.0\n",
       "5  Logistic Regression (Resampled)   0.115937  0.860036  0.204329  14368.0\n",
       "6        Random Forest (Resampled)   0.155399  0.469237  0.233477  14368.0\n",
       "7              K-Nearest Neighbors   0.123624  0.579830  0.203797  14368.0"
      ]
     },
     "execution_count": 54,
     "metadata": {},
     "output_type": "execute_result"
    }
   ],
   "source": [
    "df = get_classification_report(y_test, y_pred_knn, 'K-Nearest Neighbors')\n",
    "model_compare = model_compare.append(df).reset_index(drop=True)\n",
    "model_compare"
   ]
  },
  {
   "cell_type": "markdown",
   "metadata": {},
   "source": [
    "# Gradient Boosting Classifier"
   ]
  },
  {
   "cell_type": "code",
   "execution_count": 55,
   "metadata": {},
   "outputs": [],
   "source": [
    "clf_gbc = make_pipeline_with_sampler(\n",
    "    RandomUnderSampler(random_state=42),\n",
    "    GradientBoostingClassifier(n_estimators=100, learning_rate=1.0, max_depth=1, random_state=0),\n",
    ")\n",
    "clf_gbc.fit(X_train, y_train)\n",
    "y_pred_gbc = clf_gbc.predict(X_test)"
   ]
  },
  {
   "cell_type": "code",
   "execution_count": 56,
   "metadata": {},
   "outputs": [
    {
     "name": "stdout",
     "output_type": "stream",
     "text": [
      "Accuracy Score: 0.2925488599348534\n",
      "Confusion Matrix: \n",
      "[[26570 91686]\n",
      " [ 2139 12229]]\n",
      "Area Under Curve: 0.5379047756496118\n",
      "Recall score: 0.8511275055679287\n"
     ]
    }
   ],
   "source": [
    "# performance\n",
    "print(f'Accuracy Score: {accuracy_score(y_test,y_pred_gbc)}')\n",
    "print(f'Confusion Matrix: \\n{confusion_matrix(y_test, y_pred_gbc)}')\n",
    "print(f'Area Under Curve: {roc_auc_score(y_test, y_pred_gbc)}')\n",
    "print(f'Recall score: {recall_score(y_test,y_pred_gbc)}')"
   ]
  },
  {
   "cell_type": "code",
   "execution_count": 57,
   "metadata": {},
   "outputs": [],
   "source": [
    "df = get_classification_report(y_test, y_pred_gbc, 'Gradient Boosting Classifier')\n",
    "model_compare = model_compare.append(df).reset_index(drop=True)"
   ]
  },
  {
   "cell_type": "code",
   "execution_count": 58,
   "metadata": {},
   "outputs": [
    {
     "data": {
      "text/html": [
       "<div>\n",
       "<style scoped>\n",
       "    .dataframe tbody tr th:only-of-type {\n",
       "        vertical-align: middle;\n",
       "    }\n",
       "\n",
       "    .dataframe tbody tr th {\n",
       "        vertical-align: top;\n",
       "    }\n",
       "\n",
       "    .dataframe thead th {\n",
       "        text-align: right;\n",
       "    }\n",
       "</style>\n",
       "<table border=\"1\" class=\"dataframe\">\n",
       "  <thead>\n",
       "    <tr style=\"text-align: right;\">\n",
       "      <th></th>\n",
       "      <th>model</th>\n",
       "      <th>precision</th>\n",
       "      <th>recall</th>\n",
       "      <th>f1-score</th>\n",
       "      <th>support</th>\n",
       "    </tr>\n",
       "  </thead>\n",
       "  <tbody>\n",
       "    <tr>\n",
       "      <th>0</th>\n",
       "      <td>Dummy Classifier</td>\n",
       "      <td>0.000000</td>\n",
       "      <td>0.000000</td>\n",
       "      <td>0.000000</td>\n",
       "      <td>14368.0</td>\n",
       "    </tr>\n",
       "    <tr>\n",
       "      <th>1</th>\n",
       "      <td>Logistic Regression</td>\n",
       "      <td>0.218675</td>\n",
       "      <td>0.019070</td>\n",
       "      <td>0.035081</td>\n",
       "      <td>14368.0</td>\n",
       "    </tr>\n",
       "    <tr>\n",
       "      <th>2</th>\n",
       "      <td>Random Forest</td>\n",
       "      <td>0.388304</td>\n",
       "      <td>0.046214</td>\n",
       "      <td>0.082597</td>\n",
       "      <td>14368.0</td>\n",
       "    </tr>\n",
       "    <tr>\n",
       "      <th>3</th>\n",
       "      <td>Balanced Logistic Regression</td>\n",
       "      <td>0.116406</td>\n",
       "      <td>0.854468</td>\n",
       "      <td>0.204898</td>\n",
       "      <td>14368.0</td>\n",
       "    </tr>\n",
       "    <tr>\n",
       "      <th>4</th>\n",
       "      <td>Balanced Random Forest</td>\n",
       "      <td>0.394265</td>\n",
       "      <td>0.038280</td>\n",
       "      <td>0.069784</td>\n",
       "      <td>14368.0</td>\n",
       "    </tr>\n",
       "    <tr>\n",
       "      <th>5</th>\n",
       "      <td>Logistic Regression (Resampled)</td>\n",
       "      <td>0.115937</td>\n",
       "      <td>0.860036</td>\n",
       "      <td>0.204329</td>\n",
       "      <td>14368.0</td>\n",
       "    </tr>\n",
       "    <tr>\n",
       "      <th>6</th>\n",
       "      <td>Random Forest (Resampled)</td>\n",
       "      <td>0.155399</td>\n",
       "      <td>0.469237</td>\n",
       "      <td>0.233477</td>\n",
       "      <td>14368.0</td>\n",
       "    </tr>\n",
       "    <tr>\n",
       "      <th>7</th>\n",
       "      <td>K-Nearest Neighbors</td>\n",
       "      <td>0.123624</td>\n",
       "      <td>0.579830</td>\n",
       "      <td>0.203797</td>\n",
       "      <td>14368.0</td>\n",
       "    </tr>\n",
       "    <tr>\n",
       "      <th>8</th>\n",
       "      <td>Gradient Boosting Classifier</td>\n",
       "      <td>0.117683</td>\n",
       "      <td>0.851128</td>\n",
       "      <td>0.206775</td>\n",
       "      <td>14368.0</td>\n",
       "    </tr>\n",
       "  </tbody>\n",
       "</table>\n",
       "</div>"
      ],
      "text/plain": [
       "                             model  precision    recall  f1-score  support\n",
       "0                 Dummy Classifier   0.000000  0.000000  0.000000  14368.0\n",
       "1              Logistic Regression   0.218675  0.019070  0.035081  14368.0\n",
       "2                    Random Forest   0.388304  0.046214  0.082597  14368.0\n",
       "3     Balanced Logistic Regression   0.116406  0.854468  0.204898  14368.0\n",
       "4           Balanced Random Forest   0.394265  0.038280  0.069784  14368.0\n",
       "5  Logistic Regression (Resampled)   0.115937  0.860036  0.204329  14368.0\n",
       "6        Random Forest (Resampled)   0.155399  0.469237  0.233477  14368.0\n",
       "7              K-Nearest Neighbors   0.123624  0.579830  0.203797  14368.0\n",
       "8     Gradient Boosting Classifier   0.117683  0.851128  0.206775  14368.0"
      ]
     },
     "execution_count": 58,
     "metadata": {},
     "output_type": "execute_result"
    }
   ],
   "source": [
    "model_compare"
   ]
  },
  {
   "cell_type": "markdown",
   "metadata": {},
   "source": [
    "# Support Vector Machine"
   ]
  },
  {
   "cell_type": "code",
   "execution_count": 59,
   "metadata": {},
   "outputs": [],
   "source": [
    "from sklearn.svm import SVC\n",
    "\n",
    "clf_svc = make_pipeline_with_sampler(\n",
    "    RandomUnderSampler(random_state=42),\n",
    "    SVC(gamma='auto'),\n",
    ")\n",
    "\n",
    "clf_svc.fit(X_train, y_train)\n",
    "y_pred_svc = clf_svc.predict(X_test)"
   ]
  },
  {
   "cell_type": "code",
   "execution_count": null,
   "metadata": {},
   "outputs": [
    {
     "name": "stdout",
     "output_type": "stream",
     "text": [
      "Accuracy Score: 0.6390105847809805\n",
      "Confusion Matrix: \n",
      "[[90524 52831]\n",
      " [ 1634  5888]]\n",
      "Area Under Curve: 0.7071189380414733\n",
      "Recall score: 0.7827705397500665\n"
     ]
    }
   ],
   "source": [
    "# performance\n",
    "print(f'Accuracy Score: {accuracy_score(y_test,y_pred_svc)}')\n",
    "print(f'Confusion Matrix: \\n{confusion_matrix(y_test, y_pred_svc)}')\n",
    "print(f'Area Under Curve: {roc_auc_score(y_test, y_pred_svc)}')\n",
    "print(f'Recall score: {recall_score(y_test,y_pred_svc)}')"
   ]
  },
  {
   "cell_type": "code",
   "execution_count": null,
   "metadata": {},
   "outputs": [
    {
     "name": "stdout",
     "output_type": "stream",
     "text": [
      "              precision    recall  f1-score   support\n",
      "\n",
      "         0.0       0.98      0.63      0.77    143355\n",
      "         1.0       0.10      0.78      0.18      7522\n",
      "\n",
      "    accuracy                           0.64    150877\n",
      "   macro avg       0.54      0.71      0.47    150877\n",
      "weighted avg       0.94      0.64      0.74    150877\n",
      "\n"
     ]
    }
   ],
   "source": [
    "df = get_classification_report(y_test, y_pred_svc, 'Support Vector Machine')\n",
    "model_compare = model_compare.append(df).reset_index(drop=True)\n",
    "model_compare"
   ]
  },
  {
   "cell_type": "markdown",
   "metadata": {},
   "source": [
    "# Multilayer Perceptron"
   ]
  },
  {
   "cell_type": "code",
   "execution_count": null,
   "metadata": {},
   "outputs": [],
   "source": [
    "from sklearn.neural_network import MLPClassifier\n",
    "\n",
    "clf_mlp = make_pipeline_with_sampler(\n",
    "    RandomUnderSampler(random_state=42),\n",
    "    MLPClassifier(random_state=1, max_iter=300),\n",
    ")\n",
    "\n",
    "clf_mlp.fit(X_train, y_train)\n",
    "y_pred_mlp = clf_mlp.predict(X_test)"
   ]
  },
  {
   "cell_type": "code",
   "execution_count": null,
   "metadata": {},
   "outputs": [
    {
     "name": "stdout",
     "output_type": "stream",
     "text": [
      "Accuracy Score: 0.661499101917456\n",
      "Confusion Matrix: \n",
      "[[94091 49264]\n",
      " [ 1808  5714]]\n",
      "Area Under Curve: 0.707994007806485\n",
      "Recall score: 0.7596383940441372\n"
     ]
    }
   ],
   "source": [
    "# performance\n",
    "print(f'Accuracy Score: {accuracy_score(y_test,y_pred_mlp)}')\n",
    "print(f'Confusion Matrix: \\n{confusion_matrix(y_test, y_pred_mlp)}')\n",
    "print(f'Area Under Curve: {roc_auc_score(y_test, y_pred_mlp)}')\n",
    "print(f'Recall score: {recall_score(y_test,y_pred_mlp)}')"
   ]
  },
  {
   "cell_type": "code",
   "execution_count": null,
   "metadata": {},
   "outputs": [
    {
     "data": {
      "text/html": [
       "<div>\n",
       "<style scoped>\n",
       "    .dataframe tbody tr th:only-of-type {\n",
       "        vertical-align: middle;\n",
       "    }\n",
       "\n",
       "    .dataframe tbody tr th {\n",
       "        vertical-align: top;\n",
       "    }\n",
       "\n",
       "    .dataframe thead th {\n",
       "        text-align: right;\n",
       "    }\n",
       "</style>\n",
       "<table border=\"1\" class=\"dataframe\">\n",
       "  <thead>\n",
       "    <tr style=\"text-align: right;\">\n",
       "      <th></th>\n",
       "      <th>model</th>\n",
       "      <th>precision</th>\n",
       "      <th>recall</th>\n",
       "      <th>f1-score</th>\n",
       "      <th>support</th>\n",
       "    </tr>\n",
       "  </thead>\n",
       "  <tbody>\n",
       "    <tr>\n",
       "      <th>0</th>\n",
       "      <td>Dummy Classifier</td>\n",
       "      <td>0.000000</td>\n",
       "      <td>0.000000</td>\n",
       "      <td>0.000000</td>\n",
       "      <td>7522.0</td>\n",
       "    </tr>\n",
       "    <tr>\n",
       "      <th>1</th>\n",
       "      <td>Logistic Regression</td>\n",
       "      <td>0.138173</td>\n",
       "      <td>0.007844</td>\n",
       "      <td>0.014845</td>\n",
       "      <td>7522.0</td>\n",
       "    </tr>\n",
       "    <tr>\n",
       "      <th>2</th>\n",
       "      <td>Random Forest</td>\n",
       "      <td>0.500611</td>\n",
       "      <td>0.272268</td>\n",
       "      <td>0.352708</td>\n",
       "      <td>7522.0</td>\n",
       "    </tr>\n",
       "    <tr>\n",
       "      <th>3</th>\n",
       "      <td>Balanced Logistic Regression</td>\n",
       "      <td>0.069209</td>\n",
       "      <td>0.910662</td>\n",
       "      <td>0.128642</td>\n",
       "      <td>7522.0</td>\n",
       "    </tr>\n",
       "    <tr>\n",
       "      <th>4</th>\n",
       "      <td>Balanced Random Forest</td>\n",
       "      <td>0.420337</td>\n",
       "      <td>0.378091</td>\n",
       "      <td>0.398096</td>\n",
       "      <td>7522.0</td>\n",
       "    </tr>\n",
       "    <tr>\n",
       "      <th>5</th>\n",
       "      <td>Logistic Regression (Resampled)</td>\n",
       "      <td>0.069201</td>\n",
       "      <td>0.910795</td>\n",
       "      <td>0.128629</td>\n",
       "      <td>7522.0</td>\n",
       "    </tr>\n",
       "    <tr>\n",
       "      <th>6</th>\n",
       "      <td>Random Forest (Resampled)</td>\n",
       "      <td>0.091480</td>\n",
       "      <td>0.786759</td>\n",
       "      <td>0.163902</td>\n",
       "      <td>7522.0</td>\n",
       "    </tr>\n",
       "    <tr>\n",
       "      <th>7</th>\n",
       "      <td>Gradient Boosting Classifier</td>\n",
       "      <td>0.100274</td>\n",
       "      <td>0.782771</td>\n",
       "      <td>0.177775</td>\n",
       "      <td>7522.0</td>\n",
       "    </tr>\n",
       "    <tr>\n",
       "      <th>8</th>\n",
       "      <td>Multilayer Perceptron</td>\n",
       "      <td>0.103932</td>\n",
       "      <td>0.759638</td>\n",
       "      <td>0.182848</td>\n",
       "      <td>7522.0</td>\n",
       "    </tr>\n",
       "  </tbody>\n",
       "</table>\n",
       "</div>"
      ],
      "text/plain": [
       "                             model  precision    recall  f1-score  support\n",
       "0                 Dummy Classifier   0.000000  0.000000  0.000000   7522.0\n",
       "1              Logistic Regression   0.138173  0.007844  0.014845   7522.0\n",
       "2                    Random Forest   0.500611  0.272268  0.352708   7522.0\n",
       "3     Balanced Logistic Regression   0.069209  0.910662  0.128642   7522.0\n",
       "4           Balanced Random Forest   0.420337  0.378091  0.398096   7522.0\n",
       "5  Logistic Regression (Resampled)   0.069201  0.910795  0.128629   7522.0\n",
       "6        Random Forest (Resampled)   0.091480  0.786759  0.163902   7522.0\n",
       "7     Gradient Boosting Classifier   0.100274  0.782771  0.177775   7522.0\n",
       "8            Multilayer Perceptron   0.103932  0.759638  0.182848   7522.0"
      ]
     },
     "execution_count": 154,
     "metadata": {},
     "output_type": "execute_result"
    }
   ],
   "source": [
    "df = get_classification_report(y_test, y_pred_mlp, 'Multilayer Perceptron')\n",
    "model_compare = model_compare.append(df).reset_index(drop=True)\n",
    "model_compare"
   ]
  },
  {
   "cell_type": "markdown",
   "metadata": {},
   "source": [
    "# Weighted Logistic Regression"
   ]
  },
  {
   "cell_type": "code",
   "execution_count": null,
   "metadata": {},
   "outputs": [],
   "source": [
    "# define class weights\n",
    "# w = {0:1, 1:19}\n",
    "\n",
    "# define model\n",
    "# lg2 = LogisticRegression(random_state=13, class_weight=w)\n",
    "# fit it\n",
    "# lg2.fit(X_train,y_train)\n",
    "# test\n",
    "# y_pred = lg2.predict(X_test)\n",
    "\n",
    "# performance\n",
    "# print(f'Accuracy Score: {accuracy_score(y_test,y_pred)}')\n",
    "# print(f'Confusion Matrix: \\n{confusion_matrix(y_test, y_pred)}')\n",
    "# print(f'Area Under Curve: {roc_auc_score(y_test, y_pred)}')\n",
    "# print(f'Recall score: {recall_score(y_test,y_pred)}')"
   ]
  },
  {
   "cell_type": "code",
   "execution_count": null,
   "metadata": {},
   "outputs": [],
   "source": [
    "# from sklearn.metrics import classification_report\n",
    "# print(classification_report(y_test,y_pred))"
   ]
  },
  {
   "cell_type": "markdown",
   "metadata": {},
   "source": [
    "# Weights GridSearch"
   ]
  },
  {
   "cell_type": "code",
   "execution_count": null,
   "metadata": {},
   "outputs": [],
   "source": [
    "# define weight hyperparameter\n",
    "# w = [{0:1, 1:1}, {0:1, 1:2}, {0:1, 1:5}, {0:1, 1:10}, {0:1, 1:15}, {0:1, 1:20}]\n",
    "# hyperparam_grid = {\"class_weight\": w }"
   ]
  },
  {
   "cell_type": "code",
   "execution_count": null,
   "metadata": {},
   "outputs": [],
   "source": [
    "# define model\n",
    "# lg3 = LogisticRegression(random_state=13)\n",
    "# # define evaluation procedure\n",
    "# grid = GridSearchCV(lg3,hyperparam_grid,scoring=\"roc_auc\", cv=100, n_jobs=-1, refit=True)\n",
    "# grid.fit(X_train,y_train)\n",
    "# print(f'Best score: {grid.best_score_} with param: {grid.best_params_}')"
   ]
  }
 ],
 "metadata": {
  "interpreter": {
   "hash": "aee8b7b246df8f9039afb4144a1f6fd8d2ca17a180786b69acc140d282b71a49"
  },
  "kernelspec": {
   "display_name": "Python 3.9.7 64-bit",
   "language": "python",
   "name": "python3"
  },
  "language_info": {
   "codemirror_mode": {
    "name": "ipython",
    "version": 3
   },
   "file_extension": ".py",
   "mimetype": "text/x-python",
   "name": "python",
   "nbconvert_exporter": "python",
   "pygments_lexer": "ipython3",
   "version": "3.8.1"
  },
  "orig_nbformat": 4
 },
 "nbformat": 4,
 "nbformat_minor": 2
}
