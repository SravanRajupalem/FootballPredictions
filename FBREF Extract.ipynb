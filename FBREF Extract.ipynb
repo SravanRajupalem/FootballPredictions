{
  "cells": [
    {
      "cell_type": "code",
      "execution_count": 3,
      "metadata": {
        "id": "k3Vq6Ipae3qP"
      },
      "outputs": [],
      "source": [
        "import datetime\n",
        "from datetime import date\n",
        "import requests\n",
        "import pprint\n",
        "from bs4 import BeautifulSoup\n",
        "import pandas as pd\n",
        "import re"
      ]
    },
    {
      "cell_type": "code",
      "execution_count": 4,
      "metadata": {},
      "outputs": [],
      "source": [
        "# Test\n",
        "# Test 2\n",
        "# Test 3\n",
        "\n",
        "URL = 'https://fbref.com/en/comps/'\n",
        "page = requests.get(URL)\n",
        "soup = BeautifulSoup(page.content, 'html.parser')"
      ]
    },
    {
      "cell_type": "code",
      "execution_count": 5,
      "metadata": {},
      "outputs": [
        {
          "data": {
            "text/plain": [
              "['/en/comps/14/history/Copa-Libertadores-Seasons',\n",
              " '/en/comps/205/history/Copa-Sudamericana-Seasons',\n",
              " '/en/comps/8/history/UEFA-Champions-League-Seasons',\n",
              " '/en/comps/19/history/UEFA-Europa-League-Seasons']"
            ]
          },
          "execution_count": 5,
          "metadata": {},
          "output_type": "execute_result"
        }
      ],
      "source": [
        "# Club International Cups\n",
        "club_int_comps = []\n",
        "\n",
        "for j in soup.find_all('tbody')[0].find_all(\"tr\", {\"class\": \"gender-m\"}):\n",
        "    if (j.find('td', {'data-stat':'tier'}) != None):\n",
        "        if (j.find('td', {'data-stat':'tier'}).text == '1st') | (j.find('td', {'data-stat':'tier'}).text == '2nd'):\n",
        "            club_int_comps.append(j.find('a')['href'])\n",
        "\n",
        "club_int_comps"
      ]
    },
    {
      "cell_type": "code",
      "execution_count": 6,
      "metadata": {},
      "outputs": [
        {
          "data": {
            "text/plain": [
              "['/en/comps/1/history/World-Cup-Seasons',\n",
              " '/en/comps/656/history/Africa-Cup-of-Nations-Seasons',\n",
              " '/en/comps/681/history/CONCACAF-Gold-Cup-Seasons',\n",
              " '/en/comps/257/history/OFC-Nations-Cup-Seasons',\n",
              " '/en/comps/676/history/European-Championship-Seasons',\n",
              " '/en/comps/664/history/AFC-Asian-Cup-Seasons']"
            ]
          },
          "execution_count": 6,
          "metadata": {},
          "output_type": "execute_result"
        }
      ],
      "source": [
        "# National Team Competitions\n",
        "national_comps = []\n",
        "\n",
        "for j in soup.find_all('tbody')[1].find_all(\"tr\", {\"class\": \"gender-m\"}):\n",
        "    if (j.find('td', {'data-stat':'tier'}) != None):\n",
        "        if (j.find('td', {'data-stat':'tier'}).text == '1st') | (j.find('td', {'data-stat':'tier'}).text == '2nd'):\n",
        "            national_comps.append(j.find('a')['href'])\n",
        "\n",
        "national_comps"
      ]
    },
    {
      "cell_type": "code",
      "execution_count": 7,
      "metadata": {},
      "outputs": [
        {
          "data": {
            "text/plain": [
              "['/en/comps/21/history/Primera-Division-Seasons',\n",
              " '/en/comps/65/history/A-League-Seasons',\n",
              " '/en/comps/56/history/Austrian-Bundesliga-Seasons',\n",
              " '/en/comps/37/history/Belgian-First-Division-A-Seasons',\n",
              " '/en/comps/74/history/Primera-Division-Seasons',\n",
              " '/en/comps/24/history/Serie-A-Seasons',\n",
              " '/en/comps/67/history/Bulgarian-First-League-Seasons',\n",
              " '/en/comps/211/history/Canadian-Premier-League-Seasons',\n",
              " '/en/comps/35/history/Primera-Division-Seasons',\n",
              " '/en/comps/62/history/Super-League-Seasons',\n",
              " '/en/comps/41/history/Primera-A-Seasons',\n",
              " '/en/comps/63/history/1-HNL-Seasons',\n",
              " '/en/comps/66/history/Czech-First-League-Seasons',\n",
              " '/en/comps/50/history/Superliga-Seasons',\n",
              " '/en/comps/58/history/Serie-A-Seasons',\n",
              " '/en/comps/9/history/Premier-League-Seasons',\n",
              " '/en/comps/12/history/La-Liga-Seasons',\n",
              " '/en/comps/43/history/Veikkausliiga-Seasons',\n",
              " '/en/comps/13/history/Ligue-1-Seasons',\n",
              " '/en/comps/20/history/Bundesliga-Seasons',\n",
              " '/en/comps/27/history/Super-League-Greece-Seasons',\n",
              " '/en/comps/46/history/NB-I-Seasons',\n",
              " '/en/comps/378/history/I-League-Seasons',\n",
              " '/en/comps/82/history/Indian-Super-League-Seasons',\n",
              " '/en/comps/64/history/Persian-Gulf-Pro-League-Seasons',\n",
              " '/en/comps/11/history/Serie-A-Seasons',\n",
              " '/en/comps/25/history/J1-League-Seasons',\n",
              " '/en/comps/55/history/K-League-1-Seasons',\n",
              " '/en/comps/70/history/Pro-League-Seasons',\n",
              " '/en/comps/31/history/Liga-MX-Seasons',\n",
              " '/en/comps/23/history/Eredevisie-Seasons',\n",
              " '/en/comps/28/history/Eliteserien-Seasons',\n",
              " '/en/comps/61/history/Primera-Division-Seasons',\n",
              " '/en/comps/44/history/Liga-1-Seasons',\n",
              " '/en/comps/36/history/Ekstraklasa-Seasons',\n",
              " '/en/comps/32/history/Primeira-Liga-Seasons',\n",
              " '/en/comps/47/history/Liga-I-Seasons',\n",
              " '/en/comps/52/history/Premier-Division-Seasons',\n",
              " '/en/comps/30/history/Russian-Premier-League-Seasons',\n",
              " '/en/comps/40/history/Scottish-Premiership-Seasons',\n",
              " '/en/comps/54/history/Serbian-SuperLiga-Seasons',\n",
              " '/en/comps/57/history/Swiss-Super-League-Seasons',\n",
              " '/en/comps/29/history/Allsvenskan-Seasons',\n",
              " '/en/comps/26/history/Super-Lig-Seasons',\n",
              " '/en/comps/39/history/Ukrainian-Premier-League-Seasons',\n",
              " '/en/comps/45/history/Primera-Division-Seasons',\n",
              " '/en/comps/22/history/Major-League-Soccer-Seasons',\n",
              " '/en/comps/105/history/Liga-FUTVE-Seasons']"
            ]
          },
          "execution_count": 7,
          "metadata": {},
          "output_type": "execute_result"
        }
      ],
      "source": [
        "# Domestic Tier 1 Comps\n",
        "dom_tier1_comps = []\n",
        "\n",
        "for j in soup.find_all('tbody')[3].find_all(\"tr\", {\"class\": \"gender-m\"}):\n",
        "    if (j.find('td') != None):\n",
        "        dom_tier1_comps.append(j.find('a')['href'])\n",
        "\n",
        "dom_tier1_comps"
      ]
    },
    {
      "cell_type": "code",
      "execution_count": 8,
      "metadata": {},
      "outputs": [
        {
          "data": {
            "text/plain": [
              "58"
            ]
          },
          "execution_count": 8,
          "metadata": {},
          "output_type": "execute_result"
        }
      ],
      "source": [
        "all_comps = club_int_comps + national_comps + dom_tier1_comps\n",
        "\n",
        "len(all_comps)"
      ]
    },
    {
      "cell_type": "code",
      "execution_count": 9,
      "metadata": {},
      "outputs": [
        {
          "data": {
            "text/plain": [
              "'/en/comps/105/history/Liga-FUTVE-Seasons'"
            ]
          },
          "execution_count": 9,
          "metadata": {},
          "output_type": "execute_result"
        }
      ],
      "source": [
        "all_comps[-1]"
      ]
    },
    {
      "cell_type": "code",
      "execution_count": 10,
      "metadata": {},
      "outputs": [],
      "source": [
        "def get_all_seasons(url):\n",
        "    URL = 'https://fbref.com/' + url\n",
        "    page = requests.get(URL)\n",
        "    soup = BeautifulSoup(page.content, 'html.parser')\n",
        "    url_list = []\n",
        "    \n",
        "    for row in soup.find_all('tr'):\n",
        "        if row.find('th',{\"scope\":\"row\"}) != None:\n",
        "            url_list.append((row.find('a')['href']))\n",
        "    \n",
        "    return url_list"
      ]
    },
    {
      "cell_type": "code",
      "execution_count": 11,
      "metadata": {},
      "outputs": [],
      "source": [
        "all_seasons = []\n",
        "\n",
        "for i in all_comps:\n",
        "    league_seasons = get_all_seasons(i)\n",
        "    all_seasons += league_seasons"
      ]
    },
    {
      "cell_type": "code",
      "execution_count": 12,
      "metadata": {},
      "outputs": [
        {
          "data": {
            "text/plain": [
              "886"
            ]
          },
          "execution_count": 12,
          "metadata": {},
          "output_type": "execute_result"
        }
      ],
      "source": [
        "len(all_seasons)"
      ]
    },
    {
      "cell_type": "code",
      "execution_count": 13,
      "metadata": {},
      "outputs": [],
      "source": [
        "# keep jsut in case\n",
        "\n",
        "# def get_all_player_urls(url_list):\n",
        "    \n",
        "#     final_player_urls = []\n",
        "\n",
        "#     for i in url_list:\n",
        "#         URL_test = 'https://fbref.com/'+ i\n",
        "#         page = requests.get(URL_test)\n",
        "#         soup = BeautifulSoup(page.content, 'html.parser')\n",
        "#         td1 = soup.find(lambda t: t.text.strip()=='Standard Stats')\n",
        "#         td2 = td1.find_next('a')\n",
        "#         url_to_add = td2['href']\n",
        "#         final_player_urls.append(url_to_add)\n",
        "\n",
        "#     return final_player_urls"
      ]
    },
    {
      "cell_type": "code",
      "execution_count": 14,
      "metadata": {},
      "outputs": [],
      "source": [
        "def get_all_player_urls(url_list):\n",
        "    \n",
        "    final_player_urls = []\n",
        "\n",
        "    for i in url_list:\n",
        "        final_pos = i.rindex('/')\n",
        "\n",
        "        final_player_urls.append(i[:final_pos+1]+'stats/'+i[final_pos+1:])\n",
        "\n",
        "    return final_player_urls"
      ]
    },
    {
      "cell_type": "code",
      "execution_count": 15,
      "metadata": {},
      "outputs": [],
      "source": [
        "final_stats = get_all_player_urls(all_seasons)"
      ]
    },
    {
      "cell_type": "code",
      "execution_count": 16,
      "metadata": {},
      "outputs": [
        {
          "data": {
            "text/plain": [
              "'/en/comps/50/141/stats/2004-2005-Superliga-Stats'"
            ]
          },
          "execution_count": 16,
          "metadata": {},
          "output_type": "execute_result"
        }
      ],
      "source": [
        "final_stats[287]"
      ]
    },
    {
      "cell_type": "code",
      "execution_count": 17,
      "metadata": {},
      "outputs": [],
      "source": [
        "all_standard_urls = get_all_player_urls(all_seasons)"
      ]
    },
    {
      "cell_type": "code",
      "execution_count": 18,
      "metadata": {},
      "outputs": [],
      "source": [
        "def get_player_table(url):\n",
        "    url = 'https://fbref.com/' + url\n",
        "    res = requests.get(url)\n",
        "    ## The next two lines get around the issue with comments breaking the parsing.\n",
        "    comm = re.compile(\"<!--|-->\")\n",
        "    soup = BeautifulSoup(comm.sub(\"\",res.text),'lxml')\n",
        "    all_tables = soup.findAll(\"tbody\")\n",
        "    player_table = all_tables[2]\n",
        "\n",
        "    return player_table"
      ]
    },
    {
      "cell_type": "code",
      "execution_count": 19,
      "metadata": {},
      "outputs": [],
      "source": [
        "testing = get_player_table(all_standard_urls[297])\n",
        "\n",
        "# testing"
      ]
    },
    {
      "cell_type": "code",
      "execution_count": 20,
      "metadata": {},
      "outputs": [],
      "source": [
        "stats = [\"player\",\"nationality\",\"position\",\"squad\",\"age\",\"birth_year\",\"games\",\"games_starts\",\"minutes\",\"goals\",\"assists\",\"pens_made\",\"pens_att\",\"cards_yellow\",\"cards_red\",\"goals_per90\",\"assists_per90\",\"goals_assists_per90\",\"goals_pens_per90\",\"goals_assists_pens_per90\",\"xg\",\"npxg\",\"xa\",\"xg_per90\",\"xa_per90\",\"xg_xa_per90\",\"npxg_per90\",\"npxg_xa_per90\"]"
      ]
    },
    {
      "cell_type": "code",
      "execution_count": 21,
      "metadata": {},
      "outputs": [],
      "source": [
        "def get_frame(features, player_table):\n",
        "    pre_df_player = dict()\n",
        "    features_wanted_player = features\n",
        "    rows_player = player_table.find_all('tr')\n",
        "    for row in rows_player:\n",
        "        if(row.find('th',{\"scope\":\"row\"}) != None):\n",
        "    \n",
        "            for f in features_wanted_player:\n",
        "                cell = row.find(\"td\",{\"data-stat\": f})\n",
        "                a = cell.text.strip().encode()\n",
        "                text=a.decode(\"utf-8\")\n",
        "                if(text == ''):\n",
        "                    text = '0'\n",
        "                if((f!='player')&(f!='nationality')&(f!='position')&(f!='squad')&(f!='age')&(f!='birth_year')):\n",
        "                    text = float(text.replace(',',''))\n",
        "                if f in pre_df_player:\n",
        "                    pre_df_player[f].append(text)\n",
        "                else:\n",
        "                    pre_df_player[f] = [text]\n",
        "    df_player = pd.DataFrame.from_dict(pre_df_player)\n",
        "\n",
        "    return df_player"
      ]
    },
    {
      "cell_type": "code",
      "execution_count": 27,
      "metadata": {},
      "outputs": [
        {
          "data": {
            "text/plain": [
              "Index(['player', 'nationality', 'position', 'squad', 'age', 'birth_year',\n",
              "       'games', 'games_starts', 'minutes', 'goals', 'assists', 'pens_made',\n",
              "       'pens_att', 'cards_yellow', 'cards_red', 'goals_per90', 'assists_per90',\n",
              "       'goals_assists_per90', 'goals_pens_per90', 'goals_assists_pens_per90',\n",
              "       'xg', 'npxg', 'xa', 'xg_per90', 'xa_per90', 'xg_xa_per90', 'npxg_per90',\n",
              "       'npxg_xa_per90'],\n",
              "      dtype='object')"
            ]
          },
          "execution_count": 27,
          "metadata": {},
          "output_type": "execute_result"
        }
      ],
      "source": [
        "get_frame(stats, testing).columns\n",
        "\n"
      ]
    }
  ],
  "metadata": {
    "colab": {
      "collapsed_sections": [],
      "name": "Extract Injuries.ipynb",
      "provenance": []
    },
    "interpreter": {
      "hash": "e73f067f1c59be12cfda938665c6a960a5d3ec55ce3a05feea7c329cb1f7e9af"
    },
    "kernelspec": {
      "display_name": "Python 3.6.5 64-bit",
      "name": "python3"
    },
    "language_info": {
      "codemirror_mode": {
        "name": "ipython",
        "version": 3
      },
      "file_extension": ".py",
      "mimetype": "text/x-python",
      "name": "python",
      "nbconvert_exporter": "python",
      "pygments_lexer": "ipython3",
      "version": "3.6.5"
    }
  },
  "nbformat": 4,
  "nbformat_minor": 2
}
