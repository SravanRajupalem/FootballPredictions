{
  "cells": [
    {
      "cell_type": "code",
      "execution_count": 136,
      "metadata": {
        "id": "k3Vq6Ipae3qP"
      },
      "outputs": [],
      "source": [
        "import re\n",
        "import datetime\n",
        "from datetime import date\n",
        "import requests\n",
        "import pprint\n",
        "from bs4 import BeautifulSoup\n",
        "import pandas as pd"
      ]
    },
    {
      "cell_type": "code",
      "execution_count": 104,
      "metadata": {},
      "outputs": [],
      "source": [
        "URL = 'https://fbref.com/en/comps/'\n",
        "page = requests.get(URL)\n",
        "soup = BeautifulSoup(page.content, 'html.parser')"
      ]
    },
    {
      "cell_type": "code",
      "execution_count": 105,
      "metadata": {},
      "outputs": [
        {
          "data": {
            "text/plain": [
              "['/en/comps/14/history/Copa-Libertadores-Seasons',\n",
              " '/en/comps/205/history/Copa-Sudamericana-Seasons',\n",
              " '/en/comps/8/history/UEFA-Champions-League-Seasons',\n",
              " '/en/comps/19/history/UEFA-Europa-League-Seasons']"
            ]
          },
          "execution_count": 105,
          "metadata": {},
          "output_type": "execute_result"
        }
      ],
      "source": [
        "# Club International Cups\n",
        "club_int_comps = []\n",
        "\n",
        "for j in soup.find_all('tbody')[0].find_all(\"tr\", {\"class\": \"gender-m\"}):\n",
        "    if (j.find('td', {'data-stat':'tier'}) != None):\n",
        "        if (j.find('td', {'data-stat':'tier'}).text == '1st') | (j.find('td', {'data-stat':'tier'}).text == '2nd'):\n",
        "            club_int_comps.append(j.find('a')['href'])\n",
        "\n",
        "club_int_comps"
      ]
    },
    {
      "cell_type": "code",
      "execution_count": 106,
      "metadata": {},
      "outputs": [
        {
          "data": {
            "text/plain": [
              "['/en/comps/1/history/World-Cup-Seasons',\n",
              " '/en/comps/656/history/Africa-Cup-of-Nations-Seasons',\n",
              " '/en/comps/681/history/CONCACAF-Gold-Cup-Seasons',\n",
              " '/en/comps/257/history/OFC-Nations-Cup-Seasons',\n",
              " '/en/comps/676/history/European-Championship-Seasons',\n",
              " '/en/comps/664/history/AFC-Asian-Cup-Seasons']"
            ]
          },
          "execution_count": 106,
          "metadata": {},
          "output_type": "execute_result"
        }
      ],
      "source": [
        "# National Team Competitions\n",
        "national_comps = []\n",
        "\n",
        "for j in soup.find_all('tbody')[1].find_all(\"tr\", {\"class\": \"gender-m\"}):\n",
        "    if (j.find('td', {'data-stat':'tier'}) != None):\n",
        "        if (j.find('td', {'data-stat':'tier'}).text == '1st') | (j.find('td', {'data-stat':'tier'}).text == '2nd'):\n",
        "            national_comps.append(j.find('a')['href'])\n",
        "\n",
        "national_comps"
      ]
    },
    {
      "cell_type": "code",
      "execution_count": 107,
      "metadata": {},
      "outputs": [
        {
          "data": {
            "text/plain": [
              "['/en/comps/21/history/Primera-Division-Seasons',\n",
              " '/en/comps/65/history/A-League-Seasons',\n",
              " '/en/comps/56/history/Austrian-Bundesliga-Seasons',\n",
              " '/en/comps/37/history/Belgian-First-Division-A-Seasons',\n",
              " '/en/comps/74/history/Primera-Division-Seasons',\n",
              " '/en/comps/24/history/Serie-A-Seasons',\n",
              " '/en/comps/67/history/Bulgarian-First-League-Seasons',\n",
              " '/en/comps/211/history/Canadian-Premier-League-Seasons',\n",
              " '/en/comps/35/history/Primera-Division-Seasons',\n",
              " '/en/comps/62/history/Super-League-Seasons',\n",
              " '/en/comps/41/history/Primera-A-Seasons',\n",
              " '/en/comps/63/history/1-HNL-Seasons',\n",
              " '/en/comps/66/history/Czech-First-League-Seasons',\n",
              " '/en/comps/50/history/Superliga-Seasons',\n",
              " '/en/comps/58/history/Serie-A-Seasons',\n",
              " '/en/comps/9/history/Premier-League-Seasons',\n",
              " '/en/comps/12/history/La-Liga-Seasons',\n",
              " '/en/comps/43/history/Veikkausliiga-Seasons',\n",
              " '/en/comps/13/history/Ligue-1-Seasons',\n",
              " '/en/comps/20/history/Bundesliga-Seasons',\n",
              " '/en/comps/27/history/Super-League-Greece-Seasons',\n",
              " '/en/comps/46/history/NB-I-Seasons',\n",
              " '/en/comps/378/history/I-League-Seasons',\n",
              " '/en/comps/82/history/Indian-Super-League-Seasons',\n",
              " '/en/comps/64/history/Persian-Gulf-Pro-League-Seasons',\n",
              " '/en/comps/11/history/Serie-A-Seasons',\n",
              " '/en/comps/25/history/J1-League-Seasons',\n",
              " '/en/comps/55/history/K-League-1-Seasons',\n",
              " '/en/comps/70/history/Pro-League-Seasons',\n",
              " '/en/comps/31/history/Liga-MX-Seasons',\n",
              " '/en/comps/23/history/Eredevisie-Seasons',\n",
              " '/en/comps/28/history/Eliteserien-Seasons',\n",
              " '/en/comps/61/history/Primera-Division-Seasons',\n",
              " '/en/comps/44/history/Liga-1-Seasons',\n",
              " '/en/comps/36/history/Ekstraklasa-Seasons',\n",
              " '/en/comps/32/history/Primeira-Liga-Seasons',\n",
              " '/en/comps/47/history/Liga-I-Seasons',\n",
              " '/en/comps/52/history/Premier-Division-Seasons',\n",
              " '/en/comps/30/history/Russian-Premier-League-Seasons',\n",
              " '/en/comps/40/history/Scottish-Premiership-Seasons',\n",
              " '/en/comps/54/history/Serbian-SuperLiga-Seasons',\n",
              " '/en/comps/57/history/Swiss-Super-League-Seasons',\n",
              " '/en/comps/29/history/Allsvenskan-Seasons',\n",
              " '/en/comps/26/history/Super-Lig-Seasons',\n",
              " '/en/comps/39/history/Ukrainian-Premier-League-Seasons',\n",
              " '/en/comps/45/history/Primera-Division-Seasons',\n",
              " '/en/comps/22/history/Major-League-Soccer-Seasons',\n",
              " '/en/comps/105/history/Liga-FUTVE-Seasons']"
            ]
          },
          "execution_count": 107,
          "metadata": {},
          "output_type": "execute_result"
        }
      ],
      "source": [
        "# Domestic Tier 1 Comps\n",
        "dom_tier1_comps = []\n",
        "\n",
        "for j in soup.find_all('tbody')[3].find_all(\"tr\", {\"class\": \"gender-m\"}):\n",
        "    if (j.find('td') != None):\n",
        "        dom_tier1_comps.append(j.find('a')['href'])\n",
        "\n",
        "dom_tier1_comps"
      ]
    },
    {
      "cell_type": "code",
      "execution_count": 108,
      "metadata": {},
      "outputs": [
        {
          "data": {
            "text/plain": [
              "58"
            ]
          },
          "execution_count": 108,
          "metadata": {},
          "output_type": "execute_result"
        }
      ],
      "source": [
        "all_comps = club_int_comps + national_comps + dom_tier1_comps\n",
        "\n",
        "len(all_comps)"
      ]
    },
    {
      "cell_type": "code",
      "execution_count": 109,
      "metadata": {},
      "outputs": [
        {
          "data": {
            "text/plain": [
              "'/en/comps/105/history/Liga-FUTVE-Seasons'"
            ]
          },
          "execution_count": 109,
          "metadata": {},
          "output_type": "execute_result"
        }
      ],
      "source": [
        "all_comps[-1]"
      ]
    },
    {
      "cell_type": "code",
      "execution_count": 110,
      "metadata": {},
      "outputs": [],
      "source": [
        "def get_all_seasons(url):\n",
        "    URL = 'https://fbref.com/' + url\n",
        "    page = requests.get(URL)\n",
        "    soup = BeautifulSoup(page.content, 'html.parser')\n",
        "    url_list = []\n",
        "    \n",
        "    for row in soup.find_all('tr'):\n",
        "        if row.find('th',{\"scope\":\"row\"}) != None:\n",
        "            url_list.append((row.find('a')['href']))\n",
        "    \n",
        "    return url_list"
      ]
    },
    {
      "cell_type": "code",
      "execution_count": 100,
      "metadata": {},
      "outputs": [],
      "source": [
        "all_seasons = []\n",
        "\n",
        "for i in all_comps:\n",
        "    league_seasons = get_all_seasons(i)\n",
        "    all_seasons += league_seasons"
      ]
    },
    {
      "cell_type": "code",
      "execution_count": 265,
      "metadata": {},
      "outputs": [],
      "source": [
        "# all_seasons"
      ]
    },
    {
      "cell_type": "code",
      "execution_count": 102,
      "metadata": {},
      "outputs": [
        {
          "data": {
            "text/plain": [
              "'/en/comps/14/Copa-Libertadores-Stats'"
            ]
          },
          "execution_count": 102,
          "metadata": {},
          "output_type": "execute_result"
        }
      ],
      "source": [
        "all_seasons[0]"
      ]
    },
    {
      "cell_type": "code",
      "execution_count": null,
      "metadata": {},
      "outputs": [],
      "source": [
        "# I could not get this one to work # VR\n",
        "\n",
        "# def get_all_player_urls(url_list):\n",
        "    \n",
        "#     final_player_urls = []\n",
        "\n",
        "#     for i in url_list:\n",
        "#         URL_test = 'https://fbref.com/'+ i\n",
        "#         page = requests.get(URL_test)\n",
        "#         soup = BeautifulSoup(page.content, 'html.parser')\n",
        "#         td1 = soup.find(lambda t: t.text.strip()=='Standard Stats')\n",
        "#         td2 = td1.find_next('a')\n",
        "#         url_to_add = td2['href']\n",
        "#         final_player_urls.append(url_to_add)\n",
        "\n",
        "#     return final_player_urls"
      ]
    },
    {
      "cell_type": "code",
      "execution_count": null,
      "metadata": {},
      "outputs": [],
      "source": [
        "# this gives exactly the same as all_seasons\n",
        "\n",
        "# get_all_player_urls(all_seasons)"
      ]
    },
    {
      "cell_type": "code",
      "execution_count": 112,
      "metadata": {},
      "outputs": [],
      "source": [
        "# def get_all_player_urls(url_list):\n",
        "    \n",
        "#     final_player_urls = []\n",
        "\n",
        "#     for i in url_list:\n",
        "#         URL_test = 'https://fbref.com/'+ i\n",
        "#         page = requests.get(URL_test)\n",
        "#         soup = BeautifulSoup(page.content, 'html.parser')\n",
        "#         td1 = soup.find(lambda t: t.text.strip()=='Standard Stats')\n",
        "#         td2 = td1.find_next('a')\n",
        "#         url_to_add = td2['href']\n",
        "#         final_player_urls.append(url_to_add)\n",
        "\n",
        "#     return final_player_urls"
      ]
    },
    {
      "cell_type": "code",
      "execution_count": 240,
      "metadata": {},
      "outputs": [],
      "source": [
        "def get_all_player_urls(url_list):\n",
        "    \n",
        "    final_player_urls = []\n",
        "\n",
        "    for i in url_list:\n",
        "        final_pos = i.rindex('/')\n",
        "\n",
        "        final_player_urls.append(i[:final_pos+1]+'stats/'+i[final_pos+1:])\n",
        "\n",
        "    return final_player_urls"
      ]
    },
    {
      "cell_type": "code",
      "execution_count": 242,
      "metadata": {},
      "outputs": [],
      "source": [
        "final_stats = get_all_player_urls(all_seasons)"
      "execution_count": 118,
      "metadata": {},
      "outputs": [],
      "source": [
        "all_complete_urls = get_all_player_urls(all_seasons)"
      ]
    },
    {
      "cell_type": "code",
      "execution_count": 122,
      "metadata": {},
      "outputs": [
        {
          "data": {
            "text/plain": [
              "886"
            ]
          },
          "execution_count": 122,
          "metadata": {},
          "output_type": "execute_result"
        }
      ],
      "source": [
        "len(all_complete_urls)"
      ]
    },
    {
      "cell_type": "code",
      "execution_count": 144,
      "metadata": {},
      "outputs": [
        {
          "data": {
            "text/plain": [
              "'https://fbref.com//en/comps/9/Premier-League-Stats'"
            ]
          },
          "execution_count": 144,
          "metadata": {},
          "output_type": "execute_result"
        }
      ],
      "source": [
        "all_complete_urls[297]"
      ]
    },
    {
      "cell_type": "code",
      "execution_count": 159,
      "metadata": {},
      "outputs": [],
      "source": [
        "def get_tables(url):\n",
        "    res = requests.get(url)\n",
        "    ## The next two lines get around the issue with comments breaking the parsing.\n",
        "    comm = re.compile(\"<!--|-->\")\n",
        "    soup = BeautifulSoup(comm.sub(\"\",res.text),'lxml')\n",
        "    all_tables = soup.findAll(\"tbody\")[1]\n",
        "    \n",
        "    return player_table\n",
        "\n",
        "\n",
        "# URL = 'https://fbref.com/en/comps/'\n",
        "# page = requests.get(URL)\n",
        "# soup = BeautifulSoup(page.content, 'html.parser')"
      ]
    },
    {
      "cell_type": "code",
      "execution_count": 160,
      "metadata": {},
      "outputs": [],
      "source": [
        "player_table = get_tables(all_complete_urls[297])"
      ]
    },
    {
      "cell_type": "code",
      "execution_count": 161,
      "metadata": {},
      "outputs": [
        {
          "data": {
            "text/plain": [
              "<tbody> <tr><th class=\"right qualifier1\" csk=\"1\" data-stat=\"rank\" scope=\"row\">1</th><td class=\"left \" data-stat=\"squad\"><img alt=\"Club Crest\" height=\"13\" itemscope=\"image\" src=\"https://d2p3bygnnzw9w3.cloudfront.net/req/202110213/tlogo/fb/mini.cff3d9bb.png\" style=\"vertical-align:text-top\" width=\"13\"/> <a href=\"/en/squads/cff3d9bb/Chelsea-Stats\">Chelsea</a></td><td class=\"right \" data-stat=\"games\">10</td><td class=\"right \" data-stat=\"wins\">8</td><td class=\"right \" data-stat=\"draws\">1</td><td class=\"right \" data-stat=\"losses\">1</td><td class=\"right \" data-stat=\"goals_for\">26</td><td class=\"right \" data-stat=\"goals_against\">3</td><td class=\"right \" data-stat=\"goal_diff\">+23</td><td class=\"right \" data-stat=\"points\">25</td><td class=\"right \" data-stat=\"xg_for\">17.2</td><td class=\"right \" data-stat=\"xg_against\">10.5</td><td class=\"right \" data-stat=\"xg_diff\">+6.6</td><td class=\"right \" data-stat=\"xg_diff_per90\">+0.66</td><td class=\"left \" csk=\"12\" data-stat=\"last_5\"><div style=\"display:inline-block\"><div class=\"poptip\" style=\"display:inline-block; border-radius:2px; background-color:#e60000; width:15px; text-align:center\" tip=\"&lt;strong&gt;September 25, 2021&lt;/strong&gt;&lt;br&gt;Chelsea 0–1 Manchester City\"><a href=\"/en/matches/fc59faf7/Chelsea-Manchester-City-September-25-2021-Premier-League\" style=\"color:#fff; text-decoration:none; background-color: transparent\">L</a></div> <div class=\"poptip\" style=\"display:inline-block; border-radius:2px; background-color:green; width:15px; text-align:center\" tip=\"&lt;strong&gt;October 2, 2021&lt;/strong&gt;&lt;br&gt;Chelsea 3–1 Southampton\"><a href=\"/en/matches/a6466617/Chelsea-Southampton-October-2-2021-Premier-League\" style=\"color:#fff; text-decoration:none; background-color: transparent\">W</a></div> <div class=\"poptip\" style=\"display:inline-block; border-radius:2px; background-color:green; width:15px; text-align:center\" tip=\"&lt;strong&gt;October 16, 2021&lt;/strong&gt;&lt;br&gt;Brentford 0–1 Chelsea\"><a href=\"/en/matches/866cfb1f/Brentford-Chelsea-October-16-2021-Premier-League\" style=\"color:#fff; text-decoration:none; background-color: transparent\">W</a></div> <div class=\"poptip\" style=\"display:inline-block; border-radius:2px; background-color:green; width:15px; text-align:center\" tip=\"&lt;strong&gt;October 23, 2021&lt;/strong&gt;&lt;br&gt;Chelsea 7–0 Norwich City\"><a href=\"/en/matches/a6ff9cf9/Chelsea-Norwich-City-October-23-2021-Premier-League\" style=\"color:#fff; text-decoration:none; background-color: transparent\">W</a></div> <div class=\"poptip\" style=\"display:inline-block; border-radius:2px; background-color:green; width:15px; text-align:center\" tip=\"&lt;strong&gt;October 30, 2021&lt;/strong&gt;&lt;br&gt;Newcastle Utd 0–3 Chelsea\"><a href=\"/en/matches/49478cd2/Newcastle-United-Chelsea-October-30-2021-Premier-League\" style=\"color:#fff; text-decoration:none; background-color: transparent\">W</a></div></div></td><td class=\"right \" csk=\"39838\" data-stat=\"attendance_per_g\">39,838</td><td class=\"right \" csk=\"4\" data-stat=\"top_team_scorers\"><a href=\"/en/players/1265a93a/Reece-James\">Reece James</a> - <span>4</span></td><td class=\"right \" data-stat=\"top_keeper\"><a href=\"/en/players/33887998/Edouard-Mendy\">Edouard Mendy</a></td><td class=\"left iz\" data-stat=\"notes\"></td></tr> <tr><th class=\"right qualifier1\" csk=\"2\" data-stat=\"rank\" scope=\"row\">2</th><td class=\"left \" data-stat=\"squad\"><img alt=\"Club Crest\" height=\"13\" itemscope=\"image\" src=\"https://d2p3bygnnzw9w3.cloudfront.net/req/202110213/tlogo/fb/mini.822bd0ba.png\" style=\"vertical-align:text-top\" width=\"13\"/> <a href=\"/en/squads/822bd0ba/Liverpool-Stats\">Liverpool</a></td><td class=\"right \" data-stat=\"games\">10</td><td class=\"right \" data-stat=\"wins\">6</td><td class=\"right \" data-stat=\"draws\">4</td><td class=\"right iz\" data-stat=\"losses\">0</td><td class=\"right \" data-stat=\"goals_for\">29</td><td class=\"right \" data-stat=\"goals_against\">8</td><td class=\"right \" data-stat=\"goal_diff\">+21</td><td class=\"right \" data-stat=\"points\">22</td><td class=\"right \" data-stat=\"xg_for\">26.3</td><td class=\"right \" data-stat=\"xg_against\">11.2</td><td class=\"right \" data-stat=\"xg_diff\">+15.0</td><td class=\"right \" data-stat=\"xg_diff_per90\">+1.50</td><td class=\"left \" csk=\"9\" data-stat=\"last_5\"><div style=\"display:inline-block\"><div class=\"poptip\" style=\"display:inline-block; border-radius:2px; background-color:#888; width:15px; text-align:center\" tip=\"&lt;strong&gt;September 25, 2021&lt;/strong&gt;&lt;br&gt;Brentford 3–3 Liverpool\"><a href=\"/en/matches/87140543/Brentford-Liverpool-September-25-2021-Premier-League\" style=\"color:#fff; text-decoration:none; background-color: transparent\">D</a></div> <div class=\"poptip\" style=\"display:inline-block; border-radius:2px; background-color:#888; width:15px; text-align:center\" tip=\"&lt;strong&gt;October 3, 2021&lt;/strong&gt;&lt;br&gt;Liverpool 2–2 Manchester City\"><a href=\"/en/matches/2598b046/Liverpool-Manchester-City-October-3-2021-Premier-League\" style=\"color:#fff; text-decoration:none; background-color: transparent\">D</a></div> <div class=\"poptip\" style=\"display:inline-block; border-radius:2px; background-color:green; width:15px; text-align:center\" tip=\"&lt;strong&gt;October 16, 2021&lt;/strong&gt;&lt;br&gt;Watford 0–5 Liverpool\"><a href=\"/en/matches/2ce6d340/Watford-Liverpool-October-16-2021-Premier-League\" style=\"color:#fff; text-decoration:none; background-color: transparent\">W</a></div> <div class=\"poptip\" style=\"display:inline-block; border-radius:2px; background-color:green; width:15px; text-align:center\" tip=\"&lt;strong&gt;October 24, 2021&lt;/strong&gt;&lt;br&gt;Manchester Utd 0–5 Liverpool\"><a href=\"/en/matches/b886bec4/North-West-Derby-Manchester-United-Liverpool-October-24-2021-Premier-League\" style=\"color:#fff; text-decoration:none; background-color: transparent\">W</a></div> <div class=\"poptip\" style=\"display:inline-block; border-radius:2px; background-color:#888; width:15px; text-align:center\" tip=\"&lt;strong&gt;October 30, 2021&lt;/strong&gt;&lt;br&gt;Liverpool 2–2 Brighton\"><a href=\"/en/matches/c68998b5/Liverpool-Brighton-and-Hove-Albion-October-30-2021-Premier-League\" style=\"color:#fff; text-decoration:none; background-color: transparent\">D</a></div></div></td><td class=\"right \" csk=\"52858\" data-stat=\"attendance_per_g\">52,858</td><td class=\"right \" csk=\"10\" data-stat=\"top_team_scorers\"><a href=\"/en/players/e342ad68/Mohamed-Salah\">Mohamed Salah</a> - <span>10</span></td><td class=\"right \" data-stat=\"top_keeper\"><a href=\"/en/players/7a2e46a8/Alisson\">Alisson</a></td><td class=\"left iz\" data-stat=\"notes\"></td></tr> <tr><th class=\"right qualifier1\" csk=\"3\" data-stat=\"rank\" scope=\"row\">3</th><td class=\"left \" data-stat=\"squad\"><img alt=\"Club Crest\" height=\"13\" itemscope=\"image\" src=\"https://d2p3bygnnzw9w3.cloudfront.net/req/202110213/tlogo/fb/mini.b8fd03ef.png\" style=\"vertical-align:text-top\" width=\"13\"/> <a href=\"/en/squads/b8fd03ef/Manchester-City-Stats\">Manchester City</a></td><td class=\"right \" data-stat=\"games\">10</td><td class=\"right \" data-stat=\"wins\">6</td><td class=\"right \" data-stat=\"draws\">2</td><td class=\"right \" data-stat=\"losses\">2</td><td class=\"right \" data-stat=\"goals_for\">20</td><td class=\"right \" data-stat=\"goals_against\">6</td><td class=\"right \" data-stat=\"goal_diff\">+14</td><td class=\"right \" data-stat=\"points\">20</td><td class=\"right \" data-stat=\"xg_for\">21.9</td><td class=\"right \" data-stat=\"xg_against\">7.4</td><td class=\"right \" data-stat=\"xg_diff\">+14.5</td><td class=\"right \" data-stat=\"xg_diff_per90\">+1.45</td><td class=\"left \" csk=\"10\" data-stat=\"last_5\"><div style=\"display:inline-block\"><div class=\"poptip\" style=\"display:inline-block; border-radius:2px; background-color:green; width:15px; text-align:center\" tip=\"&lt;strong&gt;September 25, 2021&lt;/strong&gt;&lt;br&gt;Chelsea 0–1 Manchester City\"><a href=\"/en/matches/fc59faf7/Chelsea-Manchester-City-September-25-2021-Premier-League\" style=\"color:#fff; text-decoration:none; background-color: transparent\">W</a></div> <div class=\"poptip\" style=\"display:inline-block; border-radius:2px; background-color:#888; width:15px; text-align:center\" tip=\"&lt;strong&gt;October 3, 2021&lt;/strong&gt;&lt;br&gt;Liverpool 2–2 Manchester City\"><a href=\"/en/matches/2598b046/Liverpool-Manchester-City-October-3-2021-Premier-League\" style=\"color:#fff; text-decoration:none; background-color: transparent\">D</a></div> <div class=\"poptip\" style=\"display:inline-block; border-radius:2px; background-color:green; width:15px; text-align:center\" tip=\"&lt;strong&gt;October 16, 2021&lt;/strong&gt;&lt;br&gt;Manchester City 2–0 Burnley\"><a href=\"/en/matches/55778d0d/Manchester-City-Burnley-October-16-2021-Premier-League\" style=\"color:#fff; text-decoration:none; background-color: transparent\">W</a></div> <div class=\"poptip\" style=\"display:inline-block; border-radius:2px; background-color:green; width:15px; text-align:center\" tip=\"&lt;strong&gt;October 23, 2021&lt;/strong&gt;&lt;br&gt;Brighton 1–4 Manchester City\"><a href=\"/en/matches/dc93611c/Brighton-and-Hove-Albion-Manchester-City-October-23-2021-Premier-League\" style=\"color:#fff; text-decoration:none; background-color: transparent\">W</a></div> <div class=\"poptip\" style=\"display:inline-block; border-radius:2px; background-color:#e60000; width:15px; text-align:center\" tip=\"&lt;strong&gt;October 30, 2021&lt;/strong&gt;&lt;br&gt;Manchester City 0–2 Crystal Palace\"><a href=\"/en/matches/eb6c294f/Manchester-City-Crystal-Palace-October-30-2021-Premier-League\" style=\"color:#fff; text-decoration:none; background-color: transparent\">L</a></div></div></td><td class=\"right \" csk=\"52427\" data-stat=\"attendance_per_g\">52,427</td><td class=\"right \" csk=\"3\" data-stat=\"top_team_scorers\"><a href=\"/en/players/ed1e53f3/Phil-Foden\">Phil Foden</a> - <span>3</span></td><td class=\"right \" data-stat=\"top_keeper\"><a href=\"/en/players/3bb7b8b4/Ederson\">Ederson</a></td><td class=\"left iz\" data-stat=\"notes\"></td></tr> <tr><th class=\"right qualifier1\" csk=\"4\" data-stat=\"rank\" scope=\"row\">4</th><td class=\"left \" data-stat=\"squad\"><img alt=\"Club Crest\" height=\"13\" itemscope=\"image\" src=\"https://d2p3bygnnzw9w3.cloudfront.net/req/202110213/tlogo/fb/mini.7c21e445.png\" style=\"vertical-align:text-top\" width=\"13\"/> <a href=\"/en/squads/7c21e445/West-Ham-United-Stats\">West Ham</a></td><td class=\"right \" data-stat=\"games\">10</td><td class=\"right \" data-stat=\"wins\">6</td><td class=\"right \" data-stat=\"draws\">2</td><td class=\"right \" data-stat=\"losses\">2</td><td class=\"right \" data-stat=\"goals_for\">20</td><td class=\"right \" data-stat=\"goals_against\">11</td><td class=\"right \" data-stat=\"goal_diff\">+9</td><td class=\"right \" data-stat=\"points\">20</td><td class=\"right \" data-stat=\"xg_for\">16.7</td><td class=\"right \" data-stat=\"xg_against\">10.2</td><td class=\"right \" data-stat=\"xg_diff\">+6.5</td><td class=\"right \" data-stat=\"xg_diff_per90\">+0.65</td><td class=\"left \" csk=\"12\" data-stat=\"last_5\"><div style=\"display:inline-block\"><div class=\"poptip\" style=\"display:inline-block; border-radius:2px; background-color:green; width:15px; text-align:center\" tip=\"&lt;strong&gt;September 25, 2021&lt;/strong&gt;&lt;br&gt;Leeds United 1–2 West Ham\"><a href=\"/en/matches/6e228b2c/Leeds-United-West-Ham-United-September-25-2021-Premier-League\" style=\"color:#fff; text-decoration:none; background-color: transparent\">W</a></div> <div class=\"poptip\" style=\"display:inline-block; border-radius:2px; background-color:#e60000; width:15px; text-align:center\" tip=\"&lt;strong&gt;October 3, 2021&lt;/strong&gt;&lt;br&gt;West Ham 1–2 Brentford\"><a href=\"/en/matches/f1eead63/West-Ham-United-Brentford-October-3-2021-Premier-League\" style=\"color:#fff; text-decoration:none; background-color: transparent\">L</a></div> <div class=\"poptip\" style=\"display:inline-block; border-radius:2px; background-color:green; width:15px; text-align:center\" tip=\"&lt;strong&gt;October 17, 2021&lt;/strong&gt;&lt;br&gt;Everton 0–1 West Ham\"><a href=\"/en/matches/15871600/Everton-West-Ham-United-October-17-2021-Premier-League\" style=\"color:#fff; text-decoration:none; background-color: transparent\">W</a></div> <div class=\"poptip\" style=\"display:inline-block; border-radius:2px; background-color:green; width:15px; text-align:center\" tip=\"&lt;strong&gt;October 24, 2021&lt;/strong&gt;&lt;br&gt;West Ham 1–0 Tottenham\"><a href=\"/en/matches/70c508ee/West-Ham-United-Tottenham-Hotspur-October-24-2021-Premier-League\" style=\"color:#fff; text-decoration:none; background-color: transparent\">W</a></div> <div class=\"poptip\" style=\"display:inline-block; border-radius:2px; background-color:green; width:15px; text-align:center\" tip=\"&lt;strong&gt;October 31, 2021&lt;/strong&gt;&lt;br&gt;Aston Villa 1–4 West Ham\"><a href=\"/en/matches/a62478a2/Aston-Villa-West-Ham-United-October-31-2021-Premier-League\" style=\"color:#fff; text-decoration:none; background-color: transparent\">W</a></div></div></td><td class=\"right \" csk=\"57903\" data-stat=\"attendance_per_g\">57,903</td><td class=\"right \" csk=\"6\" data-stat=\"top_team_scorers\"><a href=\"/en/players/ac05f970/Michail-Antonio\">Michail Antonio</a> - <span>6</span></td><td class=\"right \" data-stat=\"top_keeper\"><a href=\"/en/players/9328b835/Lukasz-Fabianski\">Łukasz Fabiański</a></td><td class=\"left iz\" data-stat=\"notes\"></td></tr> <tr><th class=\"right qualifier2\" csk=\"5\" data-stat=\"rank\" scope=\"row\">5</th><td class=\"left \" data-stat=\"squad\"><img alt=\"Club Crest\" height=\"13\" itemscope=\"image\" src=\"https://d2p3bygnnzw9w3.cloudfront.net/req/202110213/tlogo/fb/mini.19538871.png\" style=\"vertical-align:text-top\" width=\"13\"/> <a href=\"/en/squads/19538871/Manchester-United-Stats\">Manchester Utd</a></td><td class=\"right \" data-stat=\"games\">10</td><td class=\"right \" data-stat=\"wins\">5</td><td class=\"right \" data-stat=\"draws\">2</td><td class=\"right \" data-stat=\"losses\">3</td><td class=\"right \" data-stat=\"goals_for\">19</td><td class=\"right \" data-stat=\"goals_against\">15</td><td class=\"right \" data-stat=\"goal_diff\">+4</td><td class=\"right \" data-stat=\"points\">17</td><td class=\"right \" data-stat=\"xg_for\">14.9</td><td class=\"right \" data-stat=\"xg_against\">15.4</td><td class=\"right \" data-stat=\"xg_diff\">-0.5</td><td class=\"right \" data-stat=\"xg_diff_per90\">-0.05</td><td class=\"left \" csk=\"4\" data-stat=\"last_5\"><div style=\"display:inline-block\"><div class=\"poptip\" style=\"display:inline-block; border-radius:2px; background-color:#e60000; width:15px; text-align:center\" tip=\"&lt;strong&gt;September 25, 2021&lt;/strong&gt;&lt;br&gt;Manchester Utd 0–1 Aston Villa\"><a href=\"/en/matches/7c21232e/Manchester-United-Aston-Villa-September-25-2021-Premier-League\" style=\"color:#fff; text-decoration:none; background-color: transparent\">L</a></div> <div class=\"poptip\" style=\"display:inline-block; border-radius:2px; background-color:#888; width:15px; text-align:center\" tip=\"&lt;strong&gt;October 2, 2021&lt;/strong&gt;&lt;br&gt;Manchester Utd 1–1 Everton\"><a href=\"/en/matches/2129c7e9/Manchester-United-Everton-October-2-2021-Premier-League\" style=\"color:#fff; text-decoration:none; background-color: transparent\">D</a></div> <div class=\"poptip\" style=\"display:inline-block; border-radius:2px; background-color:#e60000; width:15px; text-align:center\" tip=\"&lt;strong&gt;October 16, 2021&lt;/strong&gt;&lt;br&gt;Leicester City 4–2 Manchester Utd\"><a href=\"/en/matches/45502ded/Leicester-City-Manchester-United-October-16-2021-Premier-League\" style=\"color:#fff; text-decoration:none; background-color: transparent\">L</a></div> <div class=\"poptip\" style=\"display:inline-block; border-radius:2px; background-color:#e60000; width:15px; text-align:center\" tip=\"&lt;strong&gt;October 24, 2021&lt;/strong&gt;&lt;br&gt;Manchester Utd 0–5 Liverpool\"><a href=\"/en/matches/b886bec4/North-West-Derby-Manchester-United-Liverpool-October-24-2021-Premier-League\" style=\"color:#fff; text-decoration:none; background-color: transparent\">L</a></div> <div class=\"poptip\" style=\"display:inline-block; border-radius:2px; background-color:green; width:15px; text-align:center\" tip=\"&lt;strong&gt;October 30, 2021&lt;/strong&gt;&lt;br&gt;Tottenham 0–3 Manchester Utd\"><a href=\"/en/matches/5a2b8c26/Tottenham-Hotspur-Manchester-United-October-30-2021-Premier-League\" style=\"color:#fff; text-decoration:none; background-color: transparent\">W</a></div></div></td><td class=\"right \" csk=\"72920\" data-stat=\"attendance_per_g\">72,920</td><td class=\"right \" csk=\"4\" data-stat=\"top_team_scorers\"><a href=\"/en/players/58eee997/Mason-Greenwood\">Mason Greenwood</a>, <a href=\"/en/players/507c7bdf/Bruno-Fernandes\">Bruno Fernandes</a>... - <span>4</span></td><td class=\"right \" data-stat=\"top_keeper\"><a href=\"/en/players/7ba6d84e/David-de-Gea\">David de Gea</a></td><td class=\"left iz\" data-stat=\"notes\"></td></tr> <tr><th class=\"right qualifier2\" csk=\"6\" data-stat=\"rank\" scope=\"row\">6</th><td class=\"left \" data-stat=\"squad\"><img alt=\"Club Crest\" height=\"13\" itemscope=\"image\" src=\"https://d2p3bygnnzw9w3.cloudfront.net/req/202110213/tlogo/fb/mini.18bb7c10.png\" style=\"vertical-align:text-top\" width=\"13\"/> <a href=\"/en/squads/18bb7c10/Arsenal-Stats\">Arsenal</a></td><td class=\"right \" data-stat=\"games\">10</td><td class=\"right \" data-stat=\"wins\">5</td><td class=\"right \" data-stat=\"draws\">2</td><td class=\"right \" data-stat=\"losses\">3</td><td class=\"right \" data-stat=\"goals_for\">12</td><td class=\"right \" data-stat=\"goals_against\">13</td><td class=\"right \" data-stat=\"goal_diff\">-1</td><td class=\"right \" data-stat=\"points\">17</td><td class=\"right \" data-stat=\"xg_for\">12.5</td><td class=\"right \" data-stat=\"xg_against\">15.9</td><td class=\"right \" data-stat=\"xg_diff\">-3.4</td><td class=\"right \" data-stat=\"xg_diff_per90\">-0.34</td><td class=\"left \" csk=\"11\" data-stat=\"last_5\"><div style=\"display:inline-block\"><div class=\"poptip\" style=\"display:inline-block; border-radius:2px; background-color:green; width:15px; text-align:center\" tip=\"&lt;strong&gt;September 26, 2021&lt;/strong&gt;&lt;br&gt;Arsenal 3–1 Tottenham\"><a href=\"/en/matches/a2c07e97/North-London-Derby-Arsenal-Tottenham-Hotspur-September-26-2021-Premier-League\" style=\"color:#fff; text-decoration:none; background-color: transparent\">W</a></div> <div class=\"poptip\" style=\"display:inline-block; border-radius:2px; background-color:#888; width:15px; text-align:center\" tip=\"&lt;strong&gt;October 2, 2021&lt;/strong&gt;&lt;br&gt;Brighton 0–0 Arsenal\"><a href=\"/en/matches/cdaded7b/Brighton-and-Hove-Albion-Arsenal-October-2-2021-Premier-League\" style=\"color:#fff; text-decoration:none; background-color: transparent\">D</a></div> <div class=\"poptip\" style=\"display:inline-block; border-radius:2px; background-color:#888; width:15px; text-align:center\" tip=\"&lt;strong&gt;October 18, 2021&lt;/strong&gt;&lt;br&gt;Arsenal 2–2 Crystal Palace\"><a href=\"/en/matches/0f3a1892/Arsenal-Crystal-Palace-October-18-2021-Premier-League\" style=\"color:#fff; text-decoration:none; background-color: transparent\">D</a></div> <div class=\"poptip\" style=\"display:inline-block; border-radius:2px; background-color:green; width:15px; text-align:center\" tip=\"&lt;strong&gt;October 22, 2021&lt;/strong&gt;&lt;br&gt;Arsenal 3–1 Aston Villa\"><a href=\"/en/matches/ac95a75a/Arsenal-Aston-Villa-October-22-2021-Premier-League\" style=\"color:#fff; text-decoration:none; background-color: transparent\">W</a></div> <div class=\"poptip\" style=\"display:inline-block; border-radius:2px; background-color:green; width:15px; text-align:center\" tip=\"&lt;strong&gt;October 30, 2021&lt;/strong&gt;&lt;br&gt;Leicester City 0–2 Arsenal\"><a href=\"/en/matches/719b57c6/Leicester-City-Arsenal-October-30-2021-Premier-League\" style=\"color:#fff; text-decoration:none; background-color: transparent\">W</a></div></div></td><td class=\"right \" csk=\"59124\" data-stat=\"attendance_per_g\">59,124</td><td class=\"right \" csk=\"4\" data-stat=\"top_team_scorers\"><a href=\"/en/players/d5dd5f1f/Pierre-Emerick-Aubameyang\">Pierre-Emerick Aubameyang</a> - <span>4</span></td><td class=\"right \" data-stat=\"top_keeper\"><a href=\"/en/players/466fb2c5/Aaron-Ramsdale\">Aaron Ramsdale</a></td><td class=\"left iz\" data-stat=\"notes\"></td></tr> <tr><th class=\"right qualifier3\" csk=\"7\" data-stat=\"rank\" scope=\"row\">7</th><td class=\"left \" data-stat=\"squad\"><img alt=\"Club Crest\" height=\"13\" itemscope=\"image\" src=\"https://d2p3bygnnzw9w3.cloudfront.net/req/202110213/tlogo/fb/mini.8cec06e1.png\" style=\"vertical-align:text-top\" width=\"13\"/> <a href=\"/en/squads/8cec06e1/Wolverhampton-Wanderers-Stats\">Wolves</a></td><td class=\"right \" data-stat=\"games\">10</td><td class=\"right \" data-stat=\"wins\">5</td><td class=\"right \" data-stat=\"draws\">1</td><td class=\"right \" data-stat=\"losses\">4</td><td class=\"right \" data-stat=\"goals_for\">11</td><td class=\"right \" data-stat=\"goals_against\">10</td><td class=\"right \" data-stat=\"goal_diff\">+1</td><td class=\"right \" data-stat=\"points\">16</td><td class=\"right \" data-stat=\"xg_for\">13.4</td><td class=\"right \" data-stat=\"xg_against\">11.8</td><td class=\"right \" data-stat=\"xg_diff\">+1.6</td><td class=\"right \" data-stat=\"xg_diff_per90\">+0.16</td><td class=\"left \" csk=\"13\" data-stat=\"last_5\"><div style=\"display:inline-block\"><div class=\"poptip\" style=\"display:inline-block; border-radius:2px; background-color:green; width:15px; text-align:center\" tip=\"&lt;strong&gt;September 26, 2021&lt;/strong&gt;&lt;br&gt;Southampton 0–1 Wolves\"><a href=\"/en/matches/d99f984c/Southampton-Wolverhampton-Wanderers-September-26-2021-Premier-League\" style=\"color:#fff; text-decoration:none; background-color: transparent\">W</a></div> <div class=\"poptip\" style=\"display:inline-block; border-radius:2px; background-color:green; width:15px; text-align:center\" tip=\"&lt;strong&gt;October 2, 2021&lt;/strong&gt;&lt;br&gt;Wolves 2–1 Newcastle Utd\"><a href=\"/en/matches/00dcbdaa/Wolverhampton-Wanderers-Newcastle-United-October-2-2021-Premier-League\" style=\"color:#fff; text-decoration:none; background-color: transparent\">W</a></div> <div class=\"poptip\" style=\"display:inline-block; border-radius:2px; background-color:green; width:15px; text-align:center\" tip=\"&lt;strong&gt;October 16, 2021&lt;/strong&gt;&lt;br&gt;Aston Villa 2–3 Wolves\"><a href=\"/en/matches/a1668499/Aston-Villa-Wolverhampton-Wanderers-October-16-2021-Premier-League\" style=\"color:#fff; text-decoration:none; background-color: transparent\">W</a></div> <div class=\"poptip\" style=\"display:inline-block; border-radius:2px; background-color:#888; width:15px; text-align:center\" tip=\"&lt;strong&gt;October 23, 2021&lt;/strong&gt;&lt;br&gt;Leeds United 1–1 Wolves\"><a href=\"/en/matches/49b3afe3/Leeds-United-Wolverhampton-Wanderers-October-23-2021-Premier-League\" style=\"color:#fff; text-decoration:none; background-color: transparent\">D</a></div> <div class=\"poptip\" style=\"display:inline-block; border-radius:2px; background-color:green; width:15px; text-align:center\" tip=\"&lt;strong&gt;November 1, 2021&lt;/strong&gt;&lt;br&gt;Wolves 2–1 Everton\"><a href=\"/en/matches/c9ad66cc/Wolverhampton-Wanderers-Everton-November-1-2021-Premier-League\" style=\"color:#fff; text-decoration:none; background-color: transparent\">W</a></div></div></td><td class=\"right \" csk=\"30368\" data-stat=\"attendance_per_g\">30,368</td><td class=\"right \" csk=\"4\" data-stat=\"top_team_scorers\"><a href=\"/en/players/169fd162/Hwang-Hee-chan\">Hwang Hee-chan</a> - <span>4</span></td><td class=\"right \" data-stat=\"top_keeper\"><a href=\"/en/players/903b6e8b/Jose-Sa\">José Sá</a></td><td class=\"left iz\" data-stat=\"notes\"></td></tr> <tr><th class=\"right \" csk=\"8\" data-stat=\"rank\" scope=\"row\">8</th><td class=\"left \" data-stat=\"squad\"><img alt=\"Club Crest\" height=\"13\" itemscope=\"image\" src=\"https://d2p3bygnnzw9w3.cloudfront.net/req/202110213/tlogo/fb/mini.d07537b9.png\" style=\"vertical-align:text-top\" width=\"13\"/> <a href=\"/en/squads/d07537b9/Brighton-and-Hove-Albion-Stats\">Brighton</a></td><td class=\"right \" data-stat=\"games\">10</td><td class=\"right \" data-stat=\"wins\">4</td><td class=\"right \" data-stat=\"draws\">4</td><td class=\"right \" data-stat=\"losses\">2</td><td class=\"right \" data-stat=\"goals_for\">11</td><td class=\"right \" data-stat=\"goals_against\">11</td><td class=\"right iz\" data-stat=\"goal_diff\">0</td><td class=\"right \" data-stat=\"points\">16</td><td class=\"right \" data-stat=\"xg_for\">10.7</td><td class=\"right \" data-stat=\"xg_against\">13.9</td><td class=\"right \" data-stat=\"xg_diff\">-3.1</td><td class=\"right \" data-stat=\"xg_diff_per90\">-0.31</td><td class=\"left \" csk=\"4\" data-stat=\"last_5\"><div style=\"display:inline-block\"><div class=\"poptip\" style=\"display:inline-block; border-radius:2px; background-color:#888; width:15px; text-align:center\" tip=\"&lt;strong&gt;September 27, 2021&lt;/strong&gt;&lt;br&gt;Crystal Palace 1–1 Brighton\"><a href=\"/en/matches/3d7659fc/Crystal-Palace-Brighton-and-Hove-Albion-September-27-2021-Premier-League\" style=\"color:#fff; text-decoration:none; background-color: transparent\">D</a></div> <div class=\"poptip\" style=\"display:inline-block; border-radius:2px; background-color:#888; width:15px; text-align:center\" tip=\"&lt;strong&gt;October 2, 2021&lt;/strong&gt;&lt;br&gt;Brighton 0–0 Arsenal\"><a href=\"/en/matches/cdaded7b/Brighton-and-Hove-Albion-Arsenal-October-2-2021-Premier-League\" style=\"color:#fff; text-decoration:none; background-color: transparent\">D</a></div> <div class=\"poptip\" style=\"display:inline-block; border-radius:2px; background-color:#888; width:15px; text-align:center\" tip=\"&lt;strong&gt;October 16, 2021&lt;/strong&gt;&lt;br&gt;Norwich City 0–0 Brighton\"><a href=\"/en/matches/bc0a1eb5/Norwich-City-Brighton-and-Hove-Albion-October-16-2021-Premier-League\" style=\"color:#fff; text-decoration:none; background-color: transparent\">D</a></div> <div class=\"poptip\" style=\"display:inline-block; border-radius:2px; background-color:#e60000; width:15px; text-align:center\" tip=\"&lt;strong&gt;October 23, 2021&lt;/strong&gt;&lt;br&gt;Brighton 1–4 Manchester City\"><a href=\"/en/matches/dc93611c/Brighton-and-Hove-Albion-Manchester-City-October-23-2021-Premier-League\" style=\"color:#fff; text-decoration:none; background-color: transparent\">L</a></div> <div class=\"poptip\" style=\"display:inline-block; border-radius:2px; background-color:#888; width:15px; text-align:center\" tip=\"&lt;strong&gt;October 30, 2021&lt;/strong&gt;&lt;br&gt;Liverpool 2–2 Brighton\"><a href=\"/en/matches/c68998b5/Liverpool-Brighton-and-Hove-Albion-October-30-2021-Premier-League\" style=\"color:#fff; text-decoration:none; background-color: transparent\">D</a></div></div></td><td class=\"right \" csk=\"30718\" data-stat=\"attendance_per_g\">30,718</td><td class=\"right \" csk=\"4\" data-stat=\"top_team_scorers\"><a href=\"/en/players/4bcf39f6/Neal-Maupay\">Neal Maupay</a> - <span>4</span></td><td class=\"right \" data-stat=\"top_keeper\"><a href=\"/en/players/6a713852/Robert-Sanchez\">Robert Sánchez</a></td><td class=\"left iz\" data-stat=\"notes\"></td></tr> <tr><th class=\"right \" csk=\"9\" data-stat=\"rank\" scope=\"row\">9</th><td class=\"left \" data-stat=\"squad\"><img alt=\"Club Crest\" height=\"13\" itemscope=\"image\" src=\"https://d2p3bygnnzw9w3.cloudfront.net/req/202110213/tlogo/fb/mini.361ca564.png\" style=\"vertical-align:text-top\" width=\"13\"/> <a href=\"/en/squads/361ca564/Tottenham-Hotspur-Stats\">Tottenham</a></td><td class=\"right \" data-stat=\"games\">10</td><td class=\"right \" data-stat=\"wins\">5</td><td class=\"right iz\" data-stat=\"draws\">0</td><td class=\"right \" data-stat=\"losses\">5</td><td class=\"right \" data-stat=\"goals_for\">9</td><td class=\"right \" data-stat=\"goals_against\">16</td><td class=\"right \" data-stat=\"goal_diff\">-7</td><td class=\"right \" data-stat=\"points\">15</td><td class=\"right \" data-stat=\"xg_for\">10.3</td><td class=\"right \" data-stat=\"xg_against\">13.0</td><td class=\"right \" data-stat=\"xg_diff\">-2.7</td><td class=\"right \" data-stat=\"xg_diff_per90\">-0.27</td><td class=\"left \" csk=\"6\" data-stat=\"last_5\"><div style=\"display:inline-block\"><div class=\"poptip\" style=\"display:inline-block; border-radius:2px; background-color:#e60000; width:15px; text-align:center\" tip=\"&lt;strong&gt;September 26, 2021&lt;/strong&gt;&lt;br&gt;Arsenal 3–1 Tottenham\"><a href=\"/en/matches/a2c07e97/North-London-Derby-Arsenal-Tottenham-Hotspur-September-26-2021-Premier-League\" style=\"color:#fff; text-decoration:none; background-color: transparent\">L</a></div> <div class=\"poptip\" style=\"display:inline-block; border-radius:2px; background-color:green; width:15px; text-align:center\" tip=\"&lt;strong&gt;October 3, 2021&lt;/strong&gt;&lt;br&gt;Tottenham 2–1 Aston Villa\"><a href=\"/en/matches/7bb0a43c/Tottenham-Hotspur-Aston-Villa-October-3-2021-Premier-League\" style=\"color:#fff; text-decoration:none; background-color: transparent\">W</a></div> <div class=\"poptip\" style=\"display:inline-block; border-radius:2px; background-color:green; width:15px; text-align:center\" tip=\"&lt;strong&gt;October 17, 2021&lt;/strong&gt;&lt;br&gt;Newcastle Utd 2–3 Tottenham\"><a href=\"/en/matches/4bd69343/Newcastle-United-Tottenham-Hotspur-October-17-2021-Premier-League\" style=\"color:#fff; text-decoration:none; background-color: transparent\">W</a></div> <div class=\"poptip\" style=\"display:inline-block; border-radius:2px; background-color:#e60000; width:15px; text-align:center\" tip=\"&lt;strong&gt;October 24, 2021&lt;/strong&gt;&lt;br&gt;West Ham 1–0 Tottenham\"><a href=\"/en/matches/70c508ee/West-Ham-United-Tottenham-Hotspur-October-24-2021-Premier-League\" style=\"color:#fff; text-decoration:none; background-color: transparent\">L</a></div> <div class=\"poptip\" style=\"display:inline-block; border-radius:2px; background-color:#e60000; width:15px; text-align:center\" tip=\"&lt;strong&gt;October 30, 2021&lt;/strong&gt;&lt;br&gt;Tottenham 0–3 Manchester Utd\"><a href=\"/en/matches/5a2b8c26/Tottenham-Hotspur-Manchester-United-October-30-2021-Premier-League\" style=\"color:#fff; text-decoration:none; background-color: transparent\">L</a></div></div></td><td class=\"right \" csk=\"57885\" data-stat=\"attendance_per_g\">57,885</td><td class=\"right \" csk=\"4\" data-stat=\"top_team_scorers\"><a href=\"/en/players/92e7e919/Son-Heung-min\">Son Heung-min</a> - <span>4</span></td><td class=\"right \" data-stat=\"top_keeper\"><a href=\"/en/players/8f62b6ee/Hugo-Lloris\">Hugo Lloris</a></td><td class=\"left iz\" data-stat=\"notes\"></td></tr> <tr><th class=\"right \" csk=\"10\" data-stat=\"rank\" scope=\"row\">10</th><td class=\"left \" data-stat=\"squad\"><img alt=\"Club Crest\" height=\"13\" itemscope=\"image\" src=\"https://d2p3bygnnzw9w3.cloudfront.net/req/202110213/tlogo/fb/mini.d3fd31cc.png\" style=\"vertical-align:text-top\" width=\"13\"/> <a href=\"/en/squads/d3fd31cc/Everton-Stats\">Everton</a></td><td class=\"right \" data-stat=\"games\">10</td><td class=\"right \" data-stat=\"wins\">4</td><td class=\"right \" data-stat=\"draws\">2</td><td class=\"right \" data-stat=\"losses\">4</td><td class=\"right \" data-stat=\"goals_for\">16</td><td class=\"right \" data-stat=\"goals_against\">16</td><td class=\"right iz\" data-stat=\"goal_diff\">0</td><td class=\"right \" data-stat=\"points\">14</td><td class=\"right \" data-stat=\"xg_for\">15.7</td><td class=\"right \" data-stat=\"xg_against\">13.6</td><td class=\"right \" data-stat=\"xg_diff\">+2.2</td><td class=\"right \" data-stat=\"xg_diff_per90\">+0.22</td><td class=\"left \" csk=\"4\" data-stat=\"last_5\"><div style=\"display:inline-block\"><div class=\"poptip\" style=\"display:inline-block; border-radius:2px; background-color:green; width:15px; text-align:center\" tip=\"&lt;strong&gt;September 25, 2021&lt;/strong&gt;&lt;br&gt;Everton 2–0 Norwich City\"><a href=\"/en/matches/d516ccbf/Everton-Norwich-City-September-25-2021-Premier-League\" style=\"color:#fff; text-decoration:none; background-color: transparent\">W</a></div> <div class=\"poptip\" style=\"display:inline-block; border-radius:2px; background-color:#888; width:15px; text-align:center\" tip=\"&lt;strong&gt;October 2, 2021&lt;/strong&gt;&lt;br&gt;Manchester Utd 1–1 Everton\"><a href=\"/en/matches/2129c7e9/Manchester-United-Everton-October-2-2021-Premier-League\" style=\"color:#fff; text-decoration:none; background-color: transparent\">D</a></div> <div class=\"poptip\" style=\"display:inline-block; border-radius:2px; background-color:#e60000; width:15px; text-align:center\" tip=\"&lt;strong&gt;October 17, 2021&lt;/strong&gt;&lt;br&gt;Everton 0–1 West Ham\"><a href=\"/en/matches/15871600/Everton-West-Ham-United-October-17-2021-Premier-League\" style=\"color:#fff; text-decoration:none; background-color: transparent\">L</a></div> <div class=\"poptip\" style=\"display:inline-block; border-radius:2px; background-color:#e60000; width:15px; text-align:center\" tip=\"&lt;strong&gt;October 23, 2021&lt;/strong&gt;&lt;br&gt;Everton 2–5 Watford\"><a href=\"/en/matches/6985d123/Everton-Watford-October-23-2021-Premier-League\" style=\"color:#fff; text-decoration:none; background-color: transparent\">L</a></div> <div class=\"poptip\" style=\"display:inline-block; border-radius:2px; background-color:#e60000; width:15px; text-align:center\" tip=\"&lt;strong&gt;November 1, 2021&lt;/strong&gt;&lt;br&gt;Wolves 2–1 Everton\"><a href=\"/en/matches/c9ad66cc/Wolverhampton-Wanderers-Everton-November-1-2021-Premier-League\" style=\"color:#fff; text-decoration:none; background-color: transparent\">L</a></div></div></td><td class=\"right \" csk=\"37055\" data-stat=\"attendance_per_g\">37,055</td><td class=\"right \" csk=\"3\" data-stat=\"top_team_scorers\"><a href=\"/en/players/4468ec10/Demarai-Gray\">Demarai Gray</a>, <a href=\"/en/players/b28bbd58/Andros-Townsend\">Andros Townsend</a>... - <span>3</span></td><td class=\"right \" data-stat=\"top_keeper\"><a href=\"/en/players/4806ec67/Jordan-Pickford\">Jordan Pickford</a></td><td class=\"left iz\" data-stat=\"notes\"></td></tr> <tr><th class=\"right \" csk=\"11\" data-stat=\"rank\" scope=\"row\">11</th><td class=\"left \" data-stat=\"squad\"><img alt=\"Club Crest\" height=\"13\" itemscope=\"image\" src=\"https://d2p3bygnnzw9w3.cloudfront.net/req/202110213/tlogo/fb/mini.a2d435b3.png\" style=\"vertical-align:text-top\" width=\"13\"/> <a href=\"/en/squads/a2d435b3/Leicester-City-Stats\">Leicester City</a></td><td class=\"right \" data-stat=\"games\">10</td><td class=\"right \" data-stat=\"wins\">4</td><td class=\"right \" data-stat=\"draws\">2</td><td class=\"right \" data-stat=\"losses\">4</td><td class=\"right \" data-stat=\"goals_for\">15</td><td class=\"right \" data-stat=\"goals_against\">17</td><td class=\"right \" data-stat=\"goal_diff\">-2</td><td class=\"right \" data-stat=\"points\">14</td><td class=\"right \" data-stat=\"xg_for\">15.5</td><td class=\"right \" data-stat=\"xg_against\">14.9</td><td class=\"right \" data-stat=\"xg_diff\">+0.6</td><td class=\"right \" data-stat=\"xg_diff_per90\">+0.06</td><td class=\"left \" csk=\"8\" data-stat=\"last_5\"><div style=\"display:inline-block\"><div class=\"poptip\" style=\"display:inline-block; border-radius:2px; background-color:#888; width:15px; text-align:center\" tip=\"&lt;strong&gt;September 25, 2021&lt;/strong&gt;&lt;br&gt;Leicester City 2–2 Burnley\"><a href=\"/en/matches/2d61f328/Leicester-City-Burnley-September-25-2021-Premier-League\" style=\"color:#fff; text-decoration:none; background-color: transparent\">D</a></div> <div class=\"poptip\" style=\"display:inline-block; border-radius:2px; background-color:#888; width:15px; text-align:center\" tip=\"&lt;strong&gt;October 3, 2021&lt;/strong&gt;&lt;br&gt;Crystal Palace 2–2 Leicester City\"><a href=\"/en/matches/b06fd537/Crystal-Palace-Leicester-City-October-3-2021-Premier-League\" style=\"color:#fff; text-decoration:none; background-color: transparent\">D</a></div> <div class=\"poptip\" style=\"display:inline-block; border-radius:2px; background-color:green; width:15px; text-align:center\" tip=\"&lt;strong&gt;October 16, 2021&lt;/strong&gt;&lt;br&gt;Leicester City 4–2 Manchester Utd\"><a href=\"/en/matches/45502ded/Leicester-City-Manchester-United-October-16-2021-Premier-League\" style=\"color:#fff; text-decoration:none; background-color: transparent\">W</a></div> <div class=\"poptip\" style=\"display:inline-block; border-radius:2px; background-color:green; width:15px; text-align:center\" tip=\"&lt;strong&gt;October 24, 2021&lt;/strong&gt;&lt;br&gt;Brentford 1–2 Leicester City\"><a href=\"/en/matches/b5c25937/Brentford-Leicester-City-October-24-2021-Premier-League\" style=\"color:#fff; text-decoration:none; background-color: transparent\">W</a></div> <div class=\"poptip\" style=\"display:inline-block; border-radius:2px; background-color:#e60000; width:15px; text-align:center\" tip=\"&lt;strong&gt;October 30, 2021&lt;/strong&gt;&lt;br&gt;Leicester City 0–2 Arsenal\"><a href=\"/en/matches/719b57c6/Leicester-City-Arsenal-October-30-2021-Premier-League\" style=\"color:#fff; text-decoration:none; background-color: transparent\">L</a></div></div></td><td class=\"right \" csk=\"32030\" data-stat=\"attendance_per_g\">32,030</td><td class=\"right \" csk=\"7\" data-stat=\"top_team_scorers\"><a href=\"/en/players/45963054/Jamie-Vardy\">Jamie Vardy</a> - <span>7</span></td><td class=\"right \" data-stat=\"top_keeper\"><a href=\"/en/players/53af52f3/Kasper-Schmeichel\">Kasper Schmeichel</a></td><td class=\"left iz\" data-stat=\"notes\"></td></tr> <tr><th class=\"right \" csk=\"12\" data-stat=\"rank\" scope=\"row\">12</th><td class=\"left \" data-stat=\"squad\"><img alt=\"Club Crest\" height=\"13\" itemscope=\"image\" src=\"https://d2p3bygnnzw9w3.cloudfront.net/req/202110213/tlogo/fb/mini.cd051869.png\" style=\"vertical-align:text-top\" width=\"13\"/> <a href=\"/en/squads/cd051869/Brentford-Stats\">Brentford</a></td><td class=\"right \" data-stat=\"games\">10</td><td class=\"right \" data-stat=\"wins\">3</td><td class=\"right \" data-stat=\"draws\">3</td><td class=\"right \" data-stat=\"losses\">4</td><td class=\"right \" data-stat=\"goals_for\">12</td><td class=\"right \" data-stat=\"goals_against\">12</td><td class=\"right iz\" data-stat=\"goal_diff\">0</td><td class=\"right \" data-stat=\"points\">12</td><td class=\"right \" data-stat=\"xg_for\">13.0</td><td class=\"right \" data-stat=\"xg_against\">11.3</td><td class=\"right \" data-stat=\"xg_diff\">+1.7</td><td class=\"right \" data-stat=\"xg_diff_per90\">+0.17</td><td class=\"left \" csk=\"4\" data-stat=\"last_5\"><div style=\"display:inline-block\"><div class=\"poptip\" style=\"display:inline-block; border-radius:2px; background-color:#888; width:15px; text-align:center\" tip=\"&lt;strong&gt;September 25, 2021&lt;/strong&gt;&lt;br&gt;Brentford 3–3 Liverpool\"><a href=\"/en/matches/87140543/Brentford-Liverpool-September-25-2021-Premier-League\" style=\"color:#fff; text-decoration:none; background-color: transparent\">D</a></div> <div class=\"poptip\" style=\"display:inline-block; border-radius:2px; background-color:green; width:15px; text-align:center\" tip=\"&lt;strong&gt;October 3, 2021&lt;/strong&gt;&lt;br&gt;West Ham 1–2 Brentford\"><a href=\"/en/matches/f1eead63/West-Ham-United-Brentford-October-3-2021-Premier-League\" style=\"color:#fff; text-decoration:none; background-color: transparent\">W</a></div> <div class=\"poptip\" style=\"display:inline-block; border-radius:2px; background-color:#e60000; width:15px; text-align:center\" tip=\"&lt;strong&gt;October 16, 2021&lt;/strong&gt;&lt;br&gt;Brentford 0–1 Chelsea\"><a href=\"/en/matches/866cfb1f/Brentford-Chelsea-October-16-2021-Premier-League\" style=\"color:#fff; text-decoration:none; background-color: transparent\">L</a></div> <div class=\"poptip\" style=\"display:inline-block; border-radius:2px; background-color:#e60000; width:15px; text-align:center\" tip=\"&lt;strong&gt;October 24, 2021&lt;/strong&gt;&lt;br&gt;Brentford 1–2 Leicester City\"><a href=\"/en/matches/b5c25937/Brentford-Leicester-City-October-24-2021-Premier-League\" style=\"color:#fff; text-decoration:none; background-color: transparent\">L</a></div> <div class=\"poptip\" style=\"display:inline-block; border-radius:2px; background-color:#e60000; width:15px; text-align:center\" tip=\"&lt;strong&gt;October 30, 2021&lt;/strong&gt;&lt;br&gt;Burnley 3–1 Brentford\"><a href=\"/en/matches/c8915e9e/Burnley-Brentford-October-30-2021-Premier-League\" style=\"color:#fff; text-decoration:none; background-color: transparent\">L</a></div></div></td><td class=\"right \" csk=\"16725\" data-stat=\"attendance_per_g\">16,725</td><td class=\"right \" csk=\"2\" data-stat=\"top_team_scorers\"><a href=\"/en/players/2500cef9/Yoane-Wissa\">Yoane Wissa</a>, <a href=\"/en/players/e09f279b/Ivan-Toney\">Ivan Toney</a>... - <span>2</span></td><td class=\"right \" data-stat=\"top_keeper\"><a href=\"/en/players/98ea5115/David-Raya\">David Raya</a></td><td class=\"left iz\" data-stat=\"notes\"></td></tr> <tr><th class=\"right \" csk=\"13\" data-stat=\"rank\" scope=\"row\">13</th><td class=\"left \" data-stat=\"squad\"><img alt=\"Club Crest\" height=\"13\" itemscope=\"image\" src=\"https://d2p3bygnnzw9w3.cloudfront.net/req/202110213/tlogo/fb/mini.47c64c55.png\" style=\"vertical-align:text-top\" width=\"13\"/> <a href=\"/en/squads/47c64c55/Crystal-Palace-Stats\">Crystal Palace</a></td><td class=\"right \" data-stat=\"games\">10</td><td class=\"right \" data-stat=\"wins\">2</td><td class=\"right \" data-stat=\"draws\">6</td><td class=\"right \" data-stat=\"losses\">2</td><td class=\"right \" data-stat=\"goals_for\">13</td><td class=\"right \" data-stat=\"goals_against\">14</td><td class=\"right \" data-stat=\"goal_diff\">-1</td><td class=\"right \" data-stat=\"points\">12</td><td class=\"right \" data-stat=\"xg_for\">11.2</td><td class=\"right \" data-stat=\"xg_against\">11.1</td><td class=\"right \" data-stat=\"xg_diff\">+0.1</td><td class=\"right \" data-stat=\"xg_diff_per90\">+0.01</td><td class=\"left \" csk=\"7\" data-stat=\"last_5\"><div style=\"display:inline-block\"><div class=\"poptip\" style=\"display:inline-block; border-radius:2px; background-color:#888; width:15px; text-align:center\" tip=\"&lt;strong&gt;September 27, 2021&lt;/strong&gt;&lt;br&gt;Crystal Palace 1–1 Brighton\"><a href=\"/en/matches/3d7659fc/Crystal-Palace-Brighton-and-Hove-Albion-September-27-2021-Premier-League\" style=\"color:#fff; text-decoration:none; background-color: transparent\">D</a></div> <div class=\"poptip\" style=\"display:inline-block; border-radius:2px; background-color:#888; width:15px; text-align:center\" tip=\"&lt;strong&gt;October 3, 2021&lt;/strong&gt;&lt;br&gt;Crystal Palace 2–2 Leicester City\"><a href=\"/en/matches/b06fd537/Crystal-Palace-Leicester-City-October-3-2021-Premier-League\" style=\"color:#fff; text-decoration:none; background-color: transparent\">D</a></div> <div class=\"poptip\" style=\"display:inline-block; border-radius:2px; background-color:#888; width:15px; text-align:center\" tip=\"&lt;strong&gt;October 18, 2021&lt;/strong&gt;&lt;br&gt;Arsenal 2–2 Crystal Palace\"><a href=\"/en/matches/0f3a1892/Arsenal-Crystal-Palace-October-18-2021-Premier-League\" style=\"color:#fff; text-decoration:none; background-color: transparent\">D</a></div> <div class=\"poptip\" style=\"display:inline-block; border-radius:2px; background-color:#888; width:15px; text-align:center\" tip=\"&lt;strong&gt;October 23, 2021&lt;/strong&gt;&lt;br&gt;Crystal Palace 1–1 Newcastle Utd\"><a href=\"/en/matches/4d1b6f6f/Crystal-Palace-Newcastle-United-October-23-2021-Premier-League\" style=\"color:#fff; text-decoration:none; background-color: transparent\">D</a></div> <div class=\"poptip\" style=\"display:inline-block; border-radius:2px; background-color:green; width:15px; text-align:center\" tip=\"&lt;strong&gt;October 30, 2021&lt;/strong&gt;&lt;br&gt;Manchester City 0–2 Crystal Palace\"><a href=\"/en/matches/eb6c294f/Manchester-City-Crystal-Palace-October-30-2021-Premier-League\" style=\"color:#fff; text-decoration:none; background-color: transparent\">W</a></div></div></td><td class=\"right \" csk=\"24335\" data-stat=\"attendance_per_g\">24,335</td><td class=\"right \" csk=\"3\" data-stat=\"top_team_scorers\"><a href=\"/en/players/b2bc3b1f/Wilfried-Zaha\">Wilfried Zaha</a>, <a href=\"/en/players/c2731c10/Conor-Gallagher\">Conor Gallagher</a>... - <span>3</span></td><td class=\"right \" data-stat=\"top_keeper\"><a href=\"/en/players/ab13a5aa/Vicente-Guaita\">Vicente Guaita</a></td><td class=\"left iz\" data-stat=\"notes\"></td></tr> <tr><th class=\"right \" csk=\"14\" data-stat=\"rank\" scope=\"row\">14</th><td class=\"left \" data-stat=\"squad\"><img alt=\"Club Crest\" height=\"13\" itemscope=\"image\" src=\"https://d2p3bygnnzw9w3.cloudfront.net/req/202110213/tlogo/fb/mini.33c895d4.png\" style=\"vertical-align:text-top\" width=\"13\"/> <a href=\"/en/squads/33c895d4/Southampton-Stats\">Southampton</a></td><td class=\"right \" data-stat=\"games\">10</td><td class=\"right \" data-stat=\"wins\">2</td><td class=\"right \" data-stat=\"draws\">5</td><td class=\"right \" data-stat=\"losses\">3</td><td class=\"right \" data-stat=\"goals_for\">9</td><td class=\"right \" data-stat=\"goals_against\">12</td><td class=\"right \" data-stat=\"goal_diff\">-3</td><td class=\"right \" data-stat=\"points\">11</td><td class=\"right \" data-stat=\"xg_for\">14.7</td><td class=\"right \" data-stat=\"xg_against\">13.8</td><td class=\"right \" data-stat=\"xg_diff\">+1.0</td><td class=\"right \" data-stat=\"xg_diff_per90\">+0.10</td><td class=\"left \" csk=\"7\" data-stat=\"last_5\"><div style=\"display:inline-block\"><div class=\"poptip\" style=\"display:inline-block; border-radius:2px; background-color:#e60000; width:15px; text-align:center\" tip=\"&lt;strong&gt;September 26, 2021&lt;/strong&gt;&lt;br&gt;Southampton 0–1 Wolves\"><a href=\"/en/matches/d99f984c/Southampton-Wolverhampton-Wanderers-September-26-2021-Premier-League\" style=\"color:#fff; text-decoration:none; background-color: transparent\">L</a></div> <div class=\"poptip\" style=\"display:inline-block; border-radius:2px; background-color:#e60000; width:15px; text-align:center\" tip=\"&lt;strong&gt;October 2, 2021&lt;/strong&gt;&lt;br&gt;Chelsea 3–1 Southampton\"><a href=\"/en/matches/a6466617/Chelsea-Southampton-October-2-2021-Premier-League\" style=\"color:#fff; text-decoration:none; background-color: transparent\">L</a></div> <div class=\"poptip\" style=\"display:inline-block; border-radius:2px; background-color:green; width:15px; text-align:center\" tip=\"&lt;strong&gt;October 16, 2021&lt;/strong&gt;&lt;br&gt;Southampton 1–0 Leeds United\"><a href=\"/en/matches/8bde822c/Southampton-Leeds-United-October-16-2021-Premier-League\" style=\"color:#fff; text-decoration:none; background-color: transparent\">W</a></div> <div class=\"poptip\" style=\"display:inline-block; border-radius:2px; background-color:#888; width:15px; text-align:center\" tip=\"&lt;strong&gt;October 23, 2021&lt;/strong&gt;&lt;br&gt;Southampton 2–2 Burnley\"><a href=\"/en/matches/d5164fbe/Southampton-Burnley-October-23-2021-Premier-League\" style=\"color:#fff; text-decoration:none; background-color: transparent\">D</a></div> <div class=\"poptip\" style=\"display:inline-block; border-radius:2px; background-color:green; width:15px; text-align:center\" tip=\"&lt;strong&gt;October 30, 2021&lt;/strong&gt;&lt;br&gt;Watford 0–1 Southampton\"><a href=\"/en/matches/e3521093/Watford-Southampton-October-30-2021-Premier-League\" style=\"color:#fff; text-decoration:none; background-color: transparent\">W</a></div></div></td><td class=\"right \" csk=\"29931\" data-stat=\"attendance_per_g\">29,931</td><td class=\"right \" csk=\"2\" data-stat=\"top_team_scorers\"><a href=\"/en/players/3515d404/James-Ward-Prowse\">James Ward-Prowse</a>, <a href=\"/en/players/97220da2/Armando-Broja\">Armando Broja</a> - <span>2</span></td><td class=\"right \" data-stat=\"top_keeper\"><a href=\"/en/players/36c2ca73/Alex-McCarthy\">Alex McCarthy</a></td><td class=\"left iz\" data-stat=\"notes\"></td></tr> <tr><th class=\"right \" csk=\"15\" data-stat=\"rank\" scope=\"row\">15</th><td class=\"left \" data-stat=\"squad\"><img alt=\"Club Crest\" height=\"13\" itemscope=\"image\" src=\"https://d2p3bygnnzw9w3.cloudfront.net/req/202110213/tlogo/fb/mini.8602292d.png\" style=\"vertical-align:text-top\" width=\"13\"/> <a href=\"/en/squads/8602292d/Aston-Villa-Stats\">Aston Villa</a></td><td class=\"right \" data-stat=\"games\">10</td><td class=\"right \" data-stat=\"wins\">3</td><td class=\"right \" data-stat=\"draws\">1</td><td class=\"right \" data-stat=\"losses\">6</td><td class=\"right \" data-stat=\"goals_for\">14</td><td class=\"right \" data-stat=\"goals_against\">19</td><td class=\"right \" data-stat=\"goal_diff\">-5</td><td class=\"right \" data-stat=\"points\">10</td><td class=\"right \" data-stat=\"xg_for\">11.0</td><td class=\"right \" data-stat=\"xg_against\">15.9</td><td class=\"right \" data-stat=\"xg_diff\">-4.9</td><td class=\"right \" data-stat=\"xg_diff_per90\">-0.49</td><td class=\"left \" csk=\"3\" data-stat=\"last_5\"><div style=\"display:inline-block\"><div class=\"poptip\" style=\"display:inline-block; border-radius:2px; background-color:green; width:15px; text-align:center\" tip=\"&lt;strong&gt;September 25, 2021&lt;/strong&gt;&lt;br&gt;Manchester Utd 0–1 Aston Villa\"><a href=\"/en/matches/7c21232e/Manchester-United-Aston-Villa-September-25-2021-Premier-League\" style=\"color:#fff; text-decoration:none; background-color: transparent\">W</a></div> <div class=\"poptip\" style=\"display:inline-block; border-radius:2px; background-color:#e60000; width:15px; text-align:center\" tip=\"&lt;strong&gt;October 3, 2021&lt;/strong&gt;&lt;br&gt;Tottenham 2–1 Aston Villa\"><a href=\"/en/matches/7bb0a43c/Tottenham-Hotspur-Aston-Villa-October-3-2021-Premier-League\" style=\"color:#fff; text-decoration:none; background-color: transparent\">L</a></div> <div class=\"poptip\" style=\"display:inline-block; border-radius:2px; background-color:#e60000; width:15px; text-align:center\" tip=\"&lt;strong&gt;October 16, 2021&lt;/strong&gt;&lt;br&gt;Aston Villa 2–3 Wolves\"><a href=\"/en/matches/a1668499/Aston-Villa-Wolverhampton-Wanderers-October-16-2021-Premier-League\" style=\"color:#fff; text-decoration:none; background-color: transparent\">L</a></div> <div class=\"poptip\" style=\"display:inline-block; border-radius:2px; background-color:#e60000; width:15px; text-align:center\" tip=\"&lt;strong&gt;October 22, 2021&lt;/strong&gt;&lt;br&gt;Arsenal 3–1 Aston Villa\"><a href=\"/en/matches/ac95a75a/Arsenal-Aston-Villa-October-22-2021-Premier-League\" style=\"color:#fff; text-decoration:none; background-color: transparent\">L</a></div> <div class=\"poptip\" style=\"display:inline-block; border-radius:2px; background-color:#e60000; width:15px; text-align:center\" tip=\"&lt;strong&gt;October 31, 2021&lt;/strong&gt;&lt;br&gt;Aston Villa 1–4 West Ham\"><a href=\"/en/matches/a62478a2/Aston-Villa-West-Ham-United-October-31-2021-Premier-League\" style=\"color:#fff; text-decoration:none; background-color: transparent\">L</a></div></div></td><td class=\"right \" csk=\"41944\" data-stat=\"attendance_per_g\">41,944</td><td class=\"right \" csk=\"3\" data-stat=\"top_team_scorers\"><a href=\"/en/players/07802f7f/Danny-Ings\">Danny Ings</a> - <span>3</span></td><td class=\"right \" data-stat=\"top_keeper\"><a href=\"/en/players/7956236f/Emiliano-Martinez\">Emiliano Martínez</a></td><td class=\"left iz\" data-stat=\"notes\"></td></tr> <tr><th class=\"right \" csk=\"16\" data-stat=\"rank\" scope=\"row\">16</th><td class=\"left \" data-stat=\"squad\"><img alt=\"Club Crest\" height=\"13\" itemscope=\"image\" src=\"https://d2p3bygnnzw9w3.cloudfront.net/req/202110213/tlogo/fb/mini.2abfe087.png\" style=\"vertical-align:text-top\" width=\"13\"/> <a href=\"/en/squads/2abfe087/Watford-Stats\">Watford</a></td><td class=\"right \" data-stat=\"games\">10</td><td class=\"right \" data-stat=\"wins\">3</td><td class=\"right \" data-stat=\"draws\">1</td><td class=\"right \" data-stat=\"losses\">6</td><td class=\"right \" data-stat=\"goals_for\">12</td><td class=\"right \" data-stat=\"goals_against\">18</td><td class=\"right \" data-stat=\"goal_diff\">-6</td><td class=\"right \" data-stat=\"points\">10</td><td class=\"right \" data-stat=\"xg_for\">11.1</td><td class=\"right \" data-stat=\"xg_against\">18.7</td><td class=\"right \" data-stat=\"xg_diff\">-7.6</td><td class=\"right \" data-stat=\"xg_diff_per90\">-0.76</td><td class=\"left \" csk=\"4\" data-stat=\"last_5\"><div style=\"display:inline-block\"><div class=\"poptip\" style=\"display:inline-block; border-radius:2px; background-color:#888; width:15px; text-align:center\" tip=\"&lt;strong&gt;September 25, 2021&lt;/strong&gt;&lt;br&gt;Watford 1–1 Newcastle Utd\"><a href=\"/en/matches/70fda3e9/Watford-Newcastle-United-September-25-2021-Premier-League\" style=\"color:#fff; text-decoration:none; background-color: transparent\">D</a></div> <div class=\"poptip\" style=\"display:inline-block; border-radius:2px; background-color:#e60000; width:15px; text-align:center\" tip=\"&lt;strong&gt;October 2, 2021&lt;/strong&gt;&lt;br&gt;Leeds United 1–0 Watford\"><a href=\"/en/matches/be9d8a45/Leeds-United-Watford-October-2-2021-Premier-League\" style=\"color:#fff; text-decoration:none; background-color: transparent\">L</a></div> <div class=\"poptip\" style=\"display:inline-block; border-radius:2px; background-color:#e60000; width:15px; text-align:center\" tip=\"&lt;strong&gt;October 16, 2021&lt;/strong&gt;&lt;br&gt;Watford 0–5 Liverpool\"><a href=\"/en/matches/2ce6d340/Watford-Liverpool-October-16-2021-Premier-League\" style=\"color:#fff; text-decoration:none; background-color: transparent\">L</a></div> <div class=\"poptip\" style=\"display:inline-block; border-radius:2px; background-color:green; width:15px; text-align:center\" tip=\"&lt;strong&gt;October 23, 2021&lt;/strong&gt;&lt;br&gt;Everton 2–5 Watford\"><a href=\"/en/matches/6985d123/Everton-Watford-October-23-2021-Premier-League\" style=\"color:#fff; text-decoration:none; background-color: transparent\">W</a></div> <div class=\"poptip\" style=\"display:inline-block; border-radius:2px; background-color:#e60000; width:15px; text-align:center\" tip=\"&lt;strong&gt;October 30, 2021&lt;/strong&gt;&lt;br&gt;Watford 0–1 Southampton\"><a href=\"/en/matches/e3521093/Watford-Southampton-October-30-2021-Premier-League\" style=\"color:#fff; text-decoration:none; background-color: transparent\">L</a></div></div></td><td class=\"right \" csk=\"20535\" data-stat=\"attendance_per_g\">20,535</td><td class=\"right \" csk=\"4\" data-stat=\"top_team_scorers\"><a href=\"/en/players/bfdb33aa/Ismaila-Sarr\">Ismaila Sarr</a> - <span>4</span></td><td class=\"right \" data-stat=\"top_keeper\"><a href=\"/en/players/d0b3ceb9/Ben-Foster\">Ben Foster</a></td><td class=\"left iz\" data-stat=\"notes\"></td></tr> <tr><th class=\"right \" csk=\"17\" data-stat=\"rank\" scope=\"row\">17</th><td class=\"left \" data-stat=\"squad\"><img alt=\"Club Crest\" height=\"13\" itemscope=\"image\" src=\"https://d2p3bygnnzw9w3.cloudfront.net/req/202110213/tlogo/fb/mini.5bfb9659.png\" style=\"vertical-align:text-top\" width=\"13\"/> <a href=\"/en/squads/5bfb9659/Leeds-United-Stats\">Leeds United</a></td><td class=\"right \" data-stat=\"games\">10</td><td class=\"right \" data-stat=\"wins\">2</td><td class=\"right \" data-stat=\"draws\">4</td><td class=\"right \" data-stat=\"losses\">4</td><td class=\"right \" data-stat=\"goals_for\">10</td><td class=\"right \" data-stat=\"goals_against\">17</td><td class=\"right \" data-stat=\"goal_diff\">-7</td><td class=\"right \" data-stat=\"points\">10</td><td class=\"right \" data-stat=\"xg_for\">13.2</td><td class=\"right \" data-stat=\"xg_against\">16.5</td><td class=\"right \" data-stat=\"xg_diff\">-3.2</td><td class=\"right \" data-stat=\"xg_diff_per90\">-0.32</td><td class=\"left \" csk=\"7\" data-stat=\"last_5\"><div style=\"display:inline-block\"><div class=\"poptip\" style=\"display:inline-block; border-radius:2px; background-color:#e60000; width:15px; text-align:center\" tip=\"&lt;strong&gt;September 25, 2021&lt;/strong&gt;&lt;br&gt;Leeds United 1–2 West Ham\"><a href=\"/en/matches/6e228b2c/Leeds-United-West-Ham-United-September-25-2021-Premier-League\" style=\"color:#fff; text-decoration:none; background-color: transparent\">L</a></div> <div class=\"poptip\" style=\"display:inline-block; border-radius:2px; background-color:green; width:15px; text-align:center\" tip=\"&lt;strong&gt;October 2, 2021&lt;/strong&gt;&lt;br&gt;Leeds United 1–0 Watford\"><a href=\"/en/matches/be9d8a45/Leeds-United-Watford-October-2-2021-Premier-League\" style=\"color:#fff; text-decoration:none; background-color: transparent\">W</a></div> <div class=\"poptip\" style=\"display:inline-block; border-radius:2px; background-color:#e60000; width:15px; text-align:center\" tip=\"&lt;strong&gt;October 16, 2021&lt;/strong&gt;&lt;br&gt;Southampton 1–0 Leeds United\"><a href=\"/en/matches/8bde822c/Southampton-Leeds-United-October-16-2021-Premier-League\" style=\"color:#fff; text-decoration:none; background-color: transparent\">L</a></div> <div class=\"poptip\" style=\"display:inline-block; border-radius:2px; background-color:#888; width:15px; text-align:center\" tip=\"&lt;strong&gt;October 23, 2021&lt;/strong&gt;&lt;br&gt;Leeds United 1–1 Wolves\"><a href=\"/en/matches/49b3afe3/Leeds-United-Wolverhampton-Wanderers-October-23-2021-Premier-League\" style=\"color:#fff; text-decoration:none; background-color: transparent\">D</a></div> <div class=\"poptip\" style=\"display:inline-block; border-radius:2px; background-color:green; width:15px; text-align:center\" tip=\"&lt;strong&gt;October 31, 2021&lt;/strong&gt;&lt;br&gt;Norwich City 1–2 Leeds United\"><a href=\"/en/matches/52daf8d4/Norwich-City-Leeds-United-October-31-2021-Premier-League\" style=\"color:#fff; text-decoration:none; background-color: transparent\">W</a></div></div></td><td class=\"right \" csk=\"36391\" data-stat=\"attendance_per_g\">36,391</td><td class=\"right \" csk=\"4\" data-stat=\"top_team_scorers\"><a href=\"/en/players/3423f250/Raphael-Dias-Belloli\">Raphael Dias Belloli</a> - <span>4</span></td><td class=\"right \" data-stat=\"top_keeper\"><a href=\"/en/players/6b625ac2/Illan-Meslier\">Illan Meslier</a></td><td class=\"left iz\" data-stat=\"notes\"></td></tr> <tr><th class=\"right relegate\" csk=\"18\" data-stat=\"rank\" scope=\"row\">18</th><td class=\"left \" data-stat=\"squad\"><img alt=\"Club Crest\" height=\"13\" itemscope=\"image\" src=\"https://d2p3bygnnzw9w3.cloudfront.net/req/202110213/tlogo/fb/mini.943e8050.png\" style=\"vertical-align:text-top\" width=\"13\"/> <a href=\"/en/squads/943e8050/Burnley-Stats\">Burnley</a></td><td class=\"right \" data-stat=\"games\">10</td><td class=\"right \" data-stat=\"wins\">1</td><td class=\"right \" data-stat=\"draws\">4</td><td class=\"right \" data-stat=\"losses\">5</td><td class=\"right \" data-stat=\"goals_for\">10</td><td class=\"right \" data-stat=\"goals_against\">16</td><td class=\"right \" data-stat=\"goal_diff\">-6</td><td class=\"right \" data-stat=\"points\">7</td><td class=\"right \" data-stat=\"xg_for\">11.3</td><td class=\"right \" data-stat=\"xg_against\">15.4</td><td class=\"right \" data-stat=\"xg_diff\">-4.1</td><td class=\"right \" data-stat=\"xg_diff_per90\">-0.41</td><td class=\"left \" csk=\"6\" data-stat=\"last_5\"><div style=\"display:inline-block\"><div class=\"poptip\" style=\"display:inline-block; border-radius:2px; background-color:#888; width:15px; text-align:center\" tip=\"&lt;strong&gt;September 25, 2021&lt;/strong&gt;&lt;br&gt;Leicester City 2–2 Burnley\"><a href=\"/en/matches/2d61f328/Leicester-City-Burnley-September-25-2021-Premier-League\" style=\"color:#fff; text-decoration:none; background-color: transparent\">D</a></div> <div class=\"poptip\" style=\"display:inline-block; border-radius:2px; background-color:#888; width:15px; text-align:center\" tip=\"&lt;strong&gt;October 2, 2021&lt;/strong&gt;&lt;br&gt;Burnley 0–0 Norwich City\"><a href=\"/en/matches/9231df9a/Burnley-Norwich-City-October-2-2021-Premier-League\" style=\"color:#fff; text-decoration:none; background-color: transparent\">D</a></div> <div class=\"poptip\" style=\"display:inline-block; border-radius:2px; background-color:#e60000; width:15px; text-align:center\" tip=\"&lt;strong&gt;October 16, 2021&lt;/strong&gt;&lt;br&gt;Manchester City 2–0 Burnley\"><a href=\"/en/matches/55778d0d/Manchester-City-Burnley-October-16-2021-Premier-League\" style=\"color:#fff; text-decoration:none; background-color: transparent\">L</a></div> <div class=\"poptip\" style=\"display:inline-block; border-radius:2px; background-color:#888; width:15px; text-align:center\" tip=\"&lt;strong&gt;October 23, 2021&lt;/strong&gt;&lt;br&gt;Southampton 2–2 Burnley\"><a href=\"/en/matches/d5164fbe/Southampton-Burnley-October-23-2021-Premier-League\" style=\"color:#fff; text-decoration:none; background-color: transparent\">D</a></div> <div class=\"poptip\" style=\"display:inline-block; border-radius:2px; background-color:green; width:15px; text-align:center\" tip=\"&lt;strong&gt;October 30, 2021&lt;/strong&gt;&lt;br&gt;Burnley 3–1 Brentford\"><a href=\"/en/matches/c8915e9e/Burnley-Brentford-October-30-2021-Premier-League\" style=\"color:#fff; text-decoration:none; background-color: transparent\">W</a></div></div></td><td class=\"right \" csk=\"18632\" data-stat=\"attendance_per_g\">18,632</td><td class=\"right \" csk=\"4\" data-stat=\"top_team_scorers\"><a href=\"/en/players/beb391dd/Maxwel-Cornet\">Maxwel Cornet</a> - <span>4</span></td><td class=\"right \" data-stat=\"top_keeper\"><a href=\"/en/players/4b40d9ca/Nick-Pope\">Nick Pope</a></td><td class=\"left iz\" data-stat=\"notes\"></td></tr> <tr><th class=\"right relegate\" csk=\"19\" data-stat=\"rank\" scope=\"row\">19</th><td class=\"left \" data-stat=\"squad\"><img alt=\"Club Crest\" height=\"13\" itemscope=\"image\" src=\"https://d2p3bygnnzw9w3.cloudfront.net/req/202110213/tlogo/fb/mini.b2b47a98.png\" style=\"vertical-align:text-top\" width=\"13\"/> <a href=\"/en/squads/b2b47a98/Newcastle-United-Stats\">Newcastle Utd</a></td><td class=\"right \" data-stat=\"games\">10</td><td class=\"right iz\" data-stat=\"wins\">0</td><td class=\"right \" data-stat=\"draws\">4</td><td class=\"right \" data-stat=\"losses\">6</td><td class=\"right \" data-stat=\"goals_for\">11</td><td class=\"right \" data-stat=\"goals_against\">23</td><td class=\"right \" data-stat=\"goal_diff\">-12</td><td class=\"right \" data-stat=\"points\">4</td><td class=\"right \" data-stat=\"xg_for\">9.8</td><td class=\"right \" data-stat=\"xg_against\">18.8</td><td class=\"right \" data-stat=\"xg_diff\">-9.0</td><td class=\"right \" data-stat=\"xg_diff_per90\">-0.90</td><td class=\"left \" csk=\"2\" data-stat=\"last_5\"><div style=\"display:inline-block\"><div class=\"poptip\" style=\"display:inline-block; border-radius:2px; background-color:#888; width:15px; text-align:center\" tip=\"&lt;strong&gt;September 25, 2021&lt;/strong&gt;&lt;br&gt;Watford 1–1 Newcastle Utd\"><a href=\"/en/matches/70fda3e9/Watford-Newcastle-United-September-25-2021-Premier-League\" style=\"color:#fff; text-decoration:none; background-color: transparent\">D</a></div> <div class=\"poptip\" style=\"display:inline-block; border-radius:2px; background-color:#e60000; width:15px; text-align:center\" tip=\"&lt;strong&gt;October 2, 2021&lt;/strong&gt;&lt;br&gt;Wolves 2–1 Newcastle Utd\"><a href=\"/en/matches/00dcbdaa/Wolverhampton-Wanderers-Newcastle-United-October-2-2021-Premier-League\" style=\"color:#fff; text-decoration:none; background-color: transparent\">L</a></div> <div class=\"poptip\" style=\"display:inline-block; border-radius:2px; background-color:#e60000; width:15px; text-align:center\" tip=\"&lt;strong&gt;October 17, 2021&lt;/strong&gt;&lt;br&gt;Newcastle Utd 2–3 Tottenham\"><a href=\"/en/matches/4bd69343/Newcastle-United-Tottenham-Hotspur-October-17-2021-Premier-League\" style=\"color:#fff; text-decoration:none; background-color: transparent\">L</a></div> <div class=\"poptip\" style=\"display:inline-block; border-radius:2px; background-color:#888; width:15px; text-align:center\" tip=\"&lt;strong&gt;October 23, 2021&lt;/strong&gt;&lt;br&gt;Crystal Palace 1–1 Newcastle Utd\"><a href=\"/en/matches/4d1b6f6f/Crystal-Palace-Newcastle-United-October-23-2021-Premier-League\" style=\"color:#fff; text-decoration:none; background-color: transparent\">D</a></div> <div class=\"poptip\" style=\"display:inline-block; border-radius:2px; background-color:#e60000; width:15px; text-align:center\" tip=\"&lt;strong&gt;October 30, 2021&lt;/strong&gt;&lt;br&gt;Newcastle Utd 0–3 Chelsea\"><a href=\"/en/matches/49478cd2/Newcastle-United-Chelsea-October-30-2021-Premier-League\" style=\"color:#fff; text-decoration:none; background-color: transparent\">L</a></div></div></td><td class=\"right \" csk=\"49904\" data-stat=\"attendance_per_g\">49,904</td><td class=\"right \" csk=\"4\" data-stat=\"top_team_scorers\"><a href=\"/en/players/c596fcb0/Callum-Wilson\">Callum Wilson</a> - <span>4</span></td><td class=\"right \" data-stat=\"top_keeper\"><a href=\"/en/players/cde3309f/Karl-Darlow\">Karl Darlow</a></td><td class=\"left iz\" data-stat=\"notes\"></td></tr> <tr><th class=\"right relegate\" csk=\"20\" data-stat=\"rank\" scope=\"row\">20</th><td class=\"left \" data-stat=\"squad\"><img alt=\"Club Crest\" height=\"13\" itemscope=\"image\" src=\"https://d2p3bygnnzw9w3.cloudfront.net/req/202110213/tlogo/fb/mini.1c781004.png\" style=\"vertical-align:text-top\" width=\"13\"/> <a href=\"/en/squads/1c781004/Norwich-City-Stats\">Norwich City</a></td><td class=\"right \" data-stat=\"games\">10</td><td class=\"right iz\" data-stat=\"wins\">0</td><td class=\"right \" data-stat=\"draws\">2</td><td class=\"right \" data-stat=\"losses\">8</td><td class=\"right \" data-stat=\"goals_for\">3</td><td class=\"right \" data-stat=\"goals_against\">25</td><td class=\"right \" data-stat=\"goal_diff\">-22</td><td class=\"right \" data-stat=\"points\">2</td><td class=\"right \" data-stat=\"xg_for\">7.9</td><td class=\"right \" data-stat=\"xg_against\">19.1</td><td class=\"right \" data-stat=\"xg_diff\">-11.2</td><td class=\"right \" data-stat=\"xg_diff_per90\">-1.12</td><td class=\"left \" csk=\"2\" data-stat=\"last_5\"><div style=\"display:inline-block\"><div class=\"poptip\" style=\"display:inline-block; border-radius:2px; background-color:#e60000; width:15px; text-align:center\" tip=\"&lt;strong&gt;September 25, 2021&lt;/strong&gt;&lt;br&gt;Everton 2–0 Norwich City\"><a href=\"/en/matches/d516ccbf/Everton-Norwich-City-September-25-2021-Premier-League\" style=\"color:#fff; text-decoration:none; background-color: transparent\">L</a></div> <div class=\"poptip\" style=\"display:inline-block; border-radius:2px; background-color:#888; width:15px; text-align:center\" tip=\"&lt;strong&gt;October 2, 2021&lt;/strong&gt;&lt;br&gt;Burnley 0–0 Norwich City\"><a href=\"/en/matches/9231df9a/Burnley-Norwich-City-October-2-2021-Premier-League\" style=\"color:#fff; text-decoration:none; background-color: transparent\">D</a></div> <div class=\"poptip\" style=\"display:inline-block; border-radius:2px; background-color:#888; width:15px; text-align:center\" tip=\"&lt;strong&gt;October 16, 2021&lt;/strong&gt;&lt;br&gt;Norwich City 0–0 Brighton\"><a href=\"/en/matches/bc0a1eb5/Norwich-City-Brighton-and-Hove-Albion-October-16-2021-Premier-League\" style=\"color:#fff; text-decoration:none; background-color: transparent\">D</a></div> <div class=\"poptip\" style=\"display:inline-block; border-radius:2px; background-color:#e60000; width:15px; text-align:center\" tip=\"&lt;strong&gt;October 23, 2021&lt;/strong&gt;&lt;br&gt;Chelsea 7–0 Norwich City\"><a href=\"/en/matches/a6ff9cf9/Chelsea-Norwich-City-October-23-2021-Premier-League\" style=\"color:#fff; text-decoration:none; background-color: transparent\">L</a></div> <div class=\"poptip\" style=\"display:inline-block; border-radius:2px; background-color:#e60000; width:15px; text-align:center\" tip=\"&lt;strong&gt;October 31, 2021&lt;/strong&gt;&lt;br&gt;Norwich City 1–2 Leeds United\"><a href=\"/en/matches/52daf8d4/Norwich-City-Leeds-United-October-31-2021-Premier-League\" style=\"color:#fff; text-decoration:none; background-color: transparent\">L</a></div></div></td><td class=\"right \" csk=\"26825\" data-stat=\"attendance_per_g\">26,825</td><td class=\"right \" csk=\"2\" data-stat=\"top_team_scorers\"><a href=\"/en/players/0745b37d/Teemu-Pukki\">Teemu Pukki</a> - <span>2</span></td><td class=\"right \" data-stat=\"top_keeper\"><a href=\"/en/players/f23f9d20/Tim-Krul\">Tim Krul</a></td><td class=\"left iz\" data-stat=\"notes\"></td></tr> </tbody>"
            ]
          },
          "execution_count": 161,
          "metadata": {},
          "output_type": "execute_result"
        }
      ],
      "source": [
        "player_table"
      ]
    },
    {
      "cell_type": "code",
      "execution_count": 243,
      "metadata": {},
      "outputs": [],
      "source": [
        "# URL = 'https://fbref.com/' + final_stats[0]\n",
        "# page = requests.get(URL)\n",
        "# soup = BeautifulSoup(page.content, 'html.parser')"
      ]
    },
    {
      "cell_type": "code",
      "execution_count": 264,
      "source": []
    },
    {
      "cell_type": "code",
      "execution_count": 89,
      "metadata": {},
      "outputs": [
        {
          "data": {
            "text/plain": [
              "[]"
            ]
          },
          "execution_count": 264,
              "<li><a href=\"/en/comps/14/stats/Copa-Libertadores-Stats\">Standard Stats</a></li>"
            ]
          },
          "execution_count": 89,
          "metadata": {},
          "output_type": "execute_result"
        }
      ],
      "source": [
        "# soup.find_all('td', {'data-stat':'player'})"
      ]
        "URL_test = 'https://fbref.com/' + all_seasons[0]\n",
        "\n",
        "page = requests.get(URL_test)\n",
        "\n",
        "soup = BeautifulSoup(page.content, 'html.parser')\n",
        "\n",
        "soup\n",
        "\n",
        "td1 = soup.find(lambda t: t.text.strip()=='Standard Stats')\n",
        "\n",
        "# td2 = td1.find_next('a')\n",
        "\n",
        "# td2['href']\n",
        "\n",
        "\n",
        "\n",
        "td1"
      ]
    },
    {
      "cell_type": "code",
      "execution_count": 91,
      "metadata": {},
      "outputs": [],
      "source": []
    }
  ],
  "metadata": {
    "colab": {
      "collapsed_sections": [],
      "name": "Extract Injuries.ipynb",
      "provenance": []
    },
    "interpreter": {
      "hash": "5671f716c35e68422b5f780f2292cd3503afbc155b5c281fb2cf030bac99d376"
    },
    "kernelspec": {
      "display_name": "Python 3.7.3 64-bit ('base': conda)",
      "name": "python3"
    },
    "language_info": {
      "codemirror_mode": {
        "name": "ipython",
        "version": 3
      },
      "file_extension": ".py",
      "mimetype": "text/x-python",
      "name": "python",
      "nbconvert_exporter": "python",
      "pygments_lexer": "ipython3",
      "version": "3.7.3"
    }
  },
  "nbformat": 4,
  "nbformat_minor": 2
}
