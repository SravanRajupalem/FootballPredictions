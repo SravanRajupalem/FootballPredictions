{
  "cells": [
    {
      "cell_type": "code",
      "execution_count": 1,
      "metadata": {
        "id": "k3Vq6Ipae3qP"
      },
      "outputs": [
        {
          "name": "stderr",
          "output_type": "stream",
          "text": [
            "/Users/srav88/anaconda3/lib/python3.7/site-packages/pandas/compat/_optional.py:138: UserWarning: Pandas requires version '2.7.0' or newer of 'numexpr' (version '2.6.9' currently installed).\n",
            "  warnings.warn(msg, UserWarning)\n"
          ]
        }
      ],
      "source": [
        "import datetime\n",
        "from datetime import date\n",
        "import requests\n",
        "import pprint\n",
        "from bs4 import BeautifulSoup\n",
        "import pandas as pd"
      ]
    },
    {
      "cell_type": "code",
      "execution_count": 177,
      "metadata": {},
      "outputs": [],
      "source": [
        "# Test\n",
        "# Test 2\n",
        "# Test 3\n",
        "\n",
        "URL = 'https://fbref.com/en/comps/'\n",
        "page = requests.get(URL)\n",
        "soup = BeautifulSoup(page.content, 'html.parser')"
      ]
    },
    {
      "cell_type": "code",
      "execution_count": 199,
      "metadata": {},
      "outputs": [
        {
          "data": {
            "text/plain": [
              "['/en/comps/14/history/Copa-Libertadores-Seasons',\n",
              " '/en/comps/205/history/Copa-Sudamericana-Seasons',\n",
              " '/en/comps/8/history/UEFA-Champions-League-Seasons',\n",
              " '/en/comps/19/history/UEFA-Europa-League-Seasons']"
            ]
          },
          "execution_count": 199,
          "metadata": {},
          "output_type": "execute_result"
        }
      ],
      "source": [
        "# Club International Cups\n",
        "club_int_comps = []\n",
        "\n",
        "for j in soup.find_all('tbody')[0].find_all(\"tr\", {\"class\": \"gender-m\"}):\n",
        "    if (j.find('td', {'data-stat':'tier'}) != None):\n",
        "        if (j.find('td', {'data-stat':'tier'}).text == '1st') | (j.find('td', {'data-stat':'tier'}).text == '2nd'):\n",
        "            club_int_comps.append(j.find('a')['href'])\n",
        "\n",
        "club_int_comps"
      ]
    },
    {
      "cell_type": "code",
      "execution_count": 200,
      "metadata": {},
      "outputs": [
        {
          "data": {
            "text/plain": [
              "['/en/comps/1/history/World-Cup-Seasons',\n",
              " '/en/comps/656/history/Africa-Cup-of-Nations-Seasons',\n",
              " '/en/comps/681/history/CONCACAF-Gold-Cup-Seasons',\n",
              " '/en/comps/257/history/OFC-Nations-Cup-Seasons',\n",
              " '/en/comps/676/history/European-Championship-Seasons',\n",
              " '/en/comps/664/history/AFC-Asian-Cup-Seasons']"
            ]
          },
          "execution_count": 200,
          "metadata": {},
          "output_type": "execute_result"
        }
      ],
      "source": [
        "# National Team Competitions\n",
        "national_comps = []\n",
        "\n",
        "for j in soup.find_all('tbody')[1].find_all(\"tr\", {\"class\": \"gender-m\"}):\n",
        "    if (j.find('td', {'data-stat':'tier'}) != None):\n",
        "        if (j.find('td', {'data-stat':'tier'}).text == '1st') | (j.find('td', {'data-stat':'tier'}).text == '2nd'):\n",
        "            national_comps.append(j.find('a')['href'])\n",
        "\n",
        "national_comps"
      ]
    },
    {
      "cell_type": "code",
      "execution_count": 205,
      "metadata": {},
      "outputs": [
        {
          "data": {
            "text/plain": [
              "'/en/comps/105/history/Liga-FUTVE-Seasons'"
            ]
          },
          "execution_count": 205,
          "metadata": {},
          "output_type": "execute_result"
        }
      ],
      "source": [
        "# Domestic Tier 1 Comps\n",
        "dom_tier1_comps = []\n",
        "\n",
        "for j in soup.find_all('tbody')[3].find_all(\"tr\", {\"class\": \"gender-m\"}):\n",
        "    if (j.find('td') != None):\n",
        "        dom_tier1_comps.append(j.find('a')['href'])\n",
        "\n",
        "dom_tier1_comps"
      ]
    },
    {
      "cell_type": "code",
      "execution_count": 207,
      "metadata": {},
      "outputs": [
        {
          "data": {
            "text/plain": [
              "58"
            ]
          },
          "execution_count": 207,
          "metadata": {},
          "output_type": "execute_result"
        }
      ],
      "source": [
        "all_comps = club_int_comps + national_comps + dom_tier1_comps\n",
        "\n",
        "len(all_comps)"
      ]
    },
    {
      "cell_type": "code",
      "execution_count": 213,
      "metadata": {},
      "outputs": [
        {
          "data": {
            "text/plain": [
              "'/en/comps/105/history/Liga-FUTVE-Seasons'"
            ]
          },
          "execution_count": 213,
          "metadata": {},
          "output_type": "execute_result"
        }
      ],
      "source": [
        "all_comps[-1]"
      ]
    },
    {
      "cell_type": "code",
      "execution_count": 214,
      "metadata": {},
      "outputs": [],
      "source": [
        "def get_all_seasons(url):\n",
        "    URL = 'https://fbref.com/' + url\n",
        "    page = requests.get(URL)\n",
        "    soup = BeautifulSoup(page.content, 'html.parser')\n",
        "    url_list = []\n",
        "    \n",
        "    for row in soup.find_all('tr'):\n",
        "        if row.find('th',{\"scope\":\"row\"}) != None:\n",
        "            url_list.append((row.find('a')['href']))\n",
        "    \n",
        "    return url_list"
      ]
    },
    {
      "cell_type": "code",
      "execution_count": 215,
      "metadata": {},
      "outputs": [],
      "source": [
        "all_seasons = []\n",
        "\n",
        "for i in all_comps:\n",
        "    league_seasons = get_all_seasons(i)\n",
        "    all_seasons += league_seasons"
      ]
    },
    {
      "cell_type": "code",
      "execution_count": 265,
      "metadata": {},
      "outputs": [],
      "source": [
        "# all_seasons"
      ]
    },
    {
      "cell_type": "code",
      "execution_count": 220,
      "metadata": {},
      "outputs": [],
      "source": [
        "# def get_all_player_urls(url_list):\n",
        "    \n",
        "#     final_player_urls = []\n",
        "\n",
        "#     for i in url_list:\n",
        "#         URL_test = 'https://fbref.com/'+ i\n",
        "#         page = requests.get(URL_test)\n",
        "#         soup = BeautifulSoup(page.content, 'html.parser')\n",
        "#         td1 = soup.find(lambda t: t.text.strip()=='Standard Stats')\n",
        "#         td2 = td1.find_next('a')\n",
        "#         url_to_add = td2['href']\n",
        "#         final_player_urls.append(url_to_add)\n",
        "\n",
        "#     return final_player_urls"
      ]
    },
    {
      "cell_type": "code",
      "execution_count": 240,
      "metadata": {},
      "outputs": [],
      "source": [
        "def get_all_player_urls(url_list):\n",
        "    \n",
        "    final_player_urls = []\n",
        "\n",
        "    for i in url_list:\n",
        "        final_pos = i.rindex('/')\n",
        "\n",
        "        final_player_urls.append(i[:final_pos+1]+'stats/'+i[final_pos+1:])\n",
        "\n",
        "    return final_player_urls"
      ]
    },
    {
      "cell_type": "code",
      "execution_count": 242,
      "metadata": {},
      "outputs": [],
      "source": [
        "final_stats = get_all_player_urls(all_seasons)"
      ]
    },
    {
      "cell_type": "code",
      "execution_count": 243,
      "metadata": {},
      "outputs": [],
      "source": [
        "# URL = 'https://fbref.com/' + final_stats[0]\n",
        "# page = requests.get(URL)\n",
        "# soup = BeautifulSoup(page.content, 'html.parser')"
      ]
    },
    {
      "cell_type": "code",
      "execution_count": 264,
      "metadata": {},
      "outputs": [
        {
          "data": {
            "text/plain": [
              "[]"
            ]
          },
          "execution_count": 264,
          "metadata": {},
          "output_type": "execute_result"
        }
      ],
      "source": [
        "# soup.find_all('td', {'data-stat':'player'})"
      ]
    }
  ],
  "metadata": {
    "colab": {
      "collapsed_sections": [],
      "name": "Extract Injuries.ipynb",
      "provenance": []
    },
    "interpreter": {
      "hash": "e73f067f1c59be12cfda938665c6a960a5d3ec55ce3a05feea7c329cb1f7e9af"
    },
    "kernelspec": {
      "display_name": "Python 3.6.5 64-bit",
      "name": "python3"
    },
    "language_info": {
      "codemirror_mode": {
        "name": "ipython",
        "version": 3
      },
      "file_extension": ".py",
      "mimetype": "text/x-python",
      "name": "python",
      "nbconvert_exporter": "python",
      "pygments_lexer": "ipython3",
      "version": "3.6.5"
    }
  },
  "nbformat": 4,
  "nbformat_minor": 2
}
