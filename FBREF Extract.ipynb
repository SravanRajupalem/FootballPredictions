{
  "cells": [
    {
      "cell_type": "code",
      "execution_count": 2,
      "metadata": {
        "id": "k3Vq6Ipae3qP"
      },
      "outputs": [],
      "source": [
        "import datetime\n",
        "from datetime import date\n",
        "import requests\n",
        "import pprint\n",
        "from bs4 import BeautifulSoup\n",
        "import pandas as pd\n",
        "import re\n",
        "import pickle"
      ]
    },
    {
      "cell_type": "code",
      "execution_count": 277,
      "metadata": {},
      "outputs": [],
      "source": [
        "URL = 'https://fbref.com/en/comps/'\n",
        "page = requests.get(URL)\n",
        "soup = BeautifulSoup(page.content, 'html.parser')"
      ]
    },
    {
      "cell_type": "code",
      "execution_count": null,
      "metadata": {},
      "outputs": [
        {
          "data": {
            "text/plain": [
              "['/en/comps/14/history/Copa-Libertadores-Seasons',\n",
              " '/en/comps/205/history/Copa-Sudamericana-Seasons',\n",
              " '/en/comps/8/history/UEFA-Champions-League-Seasons',\n",
              " '/en/comps/19/history/UEFA-Europa-League-Seasons']"
            ]
          },
          "execution_count": 126,
          "metadata": {},
          "output_type": "execute_result"
        }
      ],
      "source": [
        "# Club International Cups\n",
        "club_int_comps = []\n",
        "\n",
        "for j in soup.find_all('tbody')[0].find_all(\"tr\", {\"class\": \"gender-m\"}):\n",
        "    if (j.find('td', {'data-stat':'tier'}) != None):\n",
        "        if (j.find('td', {'data-stat':'tier'}).text == '1st') | (j.find('td', {'data-stat':'tier'}).text == '2nd'):\n",
        "            club_int_comps.append(j.find('a')['href'])\n",
        "\n",
        "club_int_comps"
      ]
    },
    {
      "cell_type": "code",
      "execution_count": 127,
      "metadata": {},
      "outputs": [
        {
          "data": {
            "text/plain": [
              "['/en/comps/1/history/World-Cup-Seasons',\n",
              " '/en/comps/656/history/Africa-Cup-of-Nations-Seasons',\n",
              " '/en/comps/681/history/CONCACAF-Gold-Cup-Seasons',\n",
              " '/en/comps/257/history/OFC-Nations-Cup-Seasons',\n",
              " '/en/comps/676/history/European-Championship-Seasons',\n",
              " '/en/comps/664/history/AFC-Asian-Cup-Seasons']"
            ]
          },
          "execution_count": 127,
          "metadata": {},
          "output_type": "execute_result"
        }
      ],
      "source": [
        "# National Team Competitions\n",
        "national_comps = []\n",
        "\n",
        "for j in soup.find_all('tbody')[1].find_all(\"tr\", {\"class\": \"gender-m\"}):\n",
        "    if (j.find('td', {'data-stat':'tier'}) != None):\n",
        "        if (j.find('td', {'data-stat':'tier'}).text == '1st') | (j.find('td', {'data-stat':'tier'}).text == '2nd'):\n",
        "            national_comps.append(j.find('a')['href'])\n",
        "\n",
        "national_comps"
      ]
    },
    {
      "cell_type": "code",
      "execution_count": 128,
      "metadata": {},
      "outputs": [
        {
          "data": {
            "text/plain": [
              "['/en/comps/21/history/Primera-Division-Seasons',\n",
              " '/en/comps/65/history/A-League-Seasons',\n",
              " '/en/comps/56/history/Austrian-Bundesliga-Seasons',\n",
              " '/en/comps/37/history/Belgian-First-Division-A-Seasons',\n",
              " '/en/comps/74/history/Primera-Division-Seasons',\n",
              " '/en/comps/24/history/Serie-A-Seasons',\n",
              " '/en/comps/67/history/Bulgarian-First-League-Seasons',\n",
              " '/en/comps/211/history/Canadian-Premier-League-Seasons',\n",
              " '/en/comps/35/history/Primera-Division-Seasons',\n",
              " '/en/comps/62/history/Super-League-Seasons',\n",
              " '/en/comps/41/history/Primera-A-Seasons',\n",
              " '/en/comps/63/history/1-HNL-Seasons',\n",
              " '/en/comps/66/history/Czech-First-League-Seasons',\n",
              " '/en/comps/50/history/Superliga-Seasons',\n",
              " '/en/comps/58/history/Serie-A-Seasons',\n",
              " '/en/comps/9/history/Premier-League-Seasons',\n",
              " '/en/comps/12/history/La-Liga-Seasons',\n",
              " '/en/comps/43/history/Veikkausliiga-Seasons',\n",
              " '/en/comps/13/history/Ligue-1-Seasons',\n",
              " '/en/comps/20/history/Bundesliga-Seasons',\n",
              " '/en/comps/27/history/Super-League-Greece-Seasons',\n",
              " '/en/comps/46/history/NB-I-Seasons',\n",
              " '/en/comps/378/history/I-League-Seasons',\n",
              " '/en/comps/82/history/Indian-Super-League-Seasons',\n",
              " '/en/comps/64/history/Persian-Gulf-Pro-League-Seasons',\n",
              " '/en/comps/11/history/Serie-A-Seasons',\n",
              " '/en/comps/25/history/J1-League-Seasons',\n",
              " '/en/comps/55/history/K-League-1-Seasons',\n",
              " '/en/comps/70/history/Pro-League-Seasons',\n",
              " '/en/comps/31/history/Liga-MX-Seasons',\n",
              " '/en/comps/23/history/Eredevisie-Seasons',\n",
              " '/en/comps/28/history/Eliteserien-Seasons',\n",
              " '/en/comps/61/history/Primera-Division-Seasons',\n",
              " '/en/comps/44/history/Liga-1-Seasons',\n",
              " '/en/comps/36/history/Ekstraklasa-Seasons',\n",
              " '/en/comps/32/history/Primeira-Liga-Seasons',\n",
              " '/en/comps/47/history/Liga-I-Seasons',\n",
              " '/en/comps/52/history/Premier-Division-Seasons',\n",
              " '/en/comps/30/history/Russian-Premier-League-Seasons',\n",
              " '/en/comps/40/history/Scottish-Premiership-Seasons',\n",
              " '/en/comps/54/history/Serbian-SuperLiga-Seasons',\n",
              " '/en/comps/57/history/Swiss-Super-League-Seasons',\n",
              " '/en/comps/29/history/Allsvenskan-Seasons',\n",
              " '/en/comps/26/history/Super-Lig-Seasons',\n",
              " '/en/comps/39/history/Ukrainian-Premier-League-Seasons',\n",
              " '/en/comps/45/history/Primera-Division-Seasons',\n",
              " '/en/comps/22/history/Major-League-Soccer-Seasons',\n",
              " '/en/comps/105/history/Liga-FUTVE-Seasons']"
            ]
          },
          "execution_count": 128,
          "metadata": {},
          "output_type": "execute_result"
        }
      ],
      "source": [
        "# Domestic Tier 1 Comps\n",
        "dom_tier1_comps = []\n",
        "\n",
        "for j in soup.find_all('tbody')[3].find_all(\"tr\", {\"class\": \"gender-m\"}):\n",
        "    if (j.find('td') != None):\n",
        "        dom_tier1_comps.append(j.find('a')['href'])\n",
        "\n",
        "dom_tier1_comps"
      ]
    },
    {
      "cell_type": "code",
      "execution_count": 131,
      "metadata": {},
      "outputs": [
        {
          "data": {
            "text/plain": [
              "['/en/comps/9/history/Premier-League-Seasons',\n",
              " '/en/comps/12/history/La-Liga-Seasons',\n",
              " '/en/comps/13/history/Ligue-1-Seasons',\n",
              " '/en/comps/20/history/Bundesliga-Seasons',\n",
              " '/en/comps/11/history/Serie-A-Seasons']"
            ]
          },
          "execution_count": 131,
          "metadata": {},
          "output_type": "execute_result"
        }
      ],
      "source": [
        "# Big 5 European Leagues (Spain, England, Germany, France, Italy)\n",
        "\n",
        "big_5_leagues = []\n",
        "\n",
        "for j in soup.find_all('tbody')[2].find_all(\"tr\", {\"class\": \"gender-m\"}):\n",
        "    if (j.find('td') != None):\n",
        "        big_5_leagues.append(j.find('a')['href'])\n",
        "\n",
        "big_5_leagues = big_5_leagues[:-1]\n",
        "\n",
        "big_5_leagues"
      ]
    },
    {
      "cell_type": "code",
      "execution_count": 132,
      "metadata": {},
      "outputs": [
        {
          "data": {
            "text/plain": [
              "58"
            ]
          },
          "execution_count": 132,
          "metadata": {},
          "output_type": "execute_result"
        }
      ],
      "source": [
        "all_comps = club_int_comps + national_comps + dom_tier1_comps\n",
        "\n",
        "len(all_comps)"
      ]
    },
    {
      "cell_type": "code",
      "execution_count": 133,
      "metadata": {},
      "outputs": [],
      "source": [
        "def get_all_seasons(url):\n",
        "    URL = 'https://fbref.com/' + url\n",
        "    page = requests.get(URL)\n",
        "    soup = BeautifulSoup(page.content, 'html.parser')\n",
        "    url_list = []\n",
        "    \n",
        "    for row in soup.find_all('tr'):\n",
        "        if row.find('th',{\"scope\":\"row\"}) != None:\n",
        "            url_list.append((row.find('a')['href']))\n",
        "    \n",
        "    return url_list"
      ]
    },
    {
      "cell_type": "code",
      "execution_count": 8,
      "metadata": {},
      "outputs": [],
      "source": [
        "all_seasons = []\n",
        "\n",
        "for i in all_comps:\n",
        "    league_seasons = get_all_seasons(i)\n",
        "    all_seasons += league_seasons"
      ]
    },
    {
      "cell_type": "code",
      "execution_count": 134,
      "metadata": {},
      "outputs": [
        {
          "data": {
            "text/plain": [
              "['/en/comps/9/Premier-League-Stats',\n",
              " '/en/comps/9/10728/2020-2021-Premier-League-Stats',\n",
              " '/en/comps/9/3232/2019-2020-Premier-League-Stats',\n",
              " '/en/comps/9/1889/2018-2019-Premier-League-Stats',\n",
              " '/en/comps/9/1631/2017-2018-Premier-League-Stats',\n",
              " '/en/comps/9/1526/2016-2017-Premier-League-Stats',\n",
              " '/en/comps/9/1467/2015-2016-Premier-League-Stats',\n",
              " '/en/comps/9/733/2014-2015-Premier-League-Stats',\n",
              " '/en/comps/9/669/2013-2014-Premier-League-Stats',\n",
              " '/en/comps/9/602/2012-2013-Premier-League-Stats',\n",
              " '/en/comps/9/534/2011-2012-Premier-League-Stats',\n",
              " '/en/comps/9/467/2010-2011-Premier-League-Stats',\n",
              " '/en/comps/9/400/2009-2010-Premier-League-Stats',\n",
              " '/en/comps/9/338/2008-2009-Premier-League-Stats',\n",
              " '/en/comps/9/282/2007-2008-Premier-League-Stats',\n",
              " '/en/comps/9/229/2006-2007-Premier-League-Stats',\n",
              " '/en/comps/9/183/2005-2006-Premier-League-Stats',\n",
              " '/en/comps/9/146/2004-2005-Premier-League-Stats',\n",
              " '/en/comps/9/112/2003-2004-Premier-League-Stats',\n",
              " '/en/comps/9/84/2002-2003-Premier-League-Stats',\n",
              " '/en/comps/9/63/2001-2002-Premier-League-Stats',\n",
              " '/en/comps/9/47/2000-2001-Premier-League-Stats',\n",
              " '/en/comps/9/38/1999-2000-Premier-League-Stats',\n",
              " '/en/comps/9/35/1998-1999-Premier-League-Stats',\n",
              " '/en/comps/9/33/1997-1998-Premier-League-Stats',\n",
              " '/en/comps/9/31/1996-1997-Premier-League-Stats',\n",
              " '/en/comps/9/29/1995-1996-Premier-League-Stats',\n",
              " '/en/comps/9/28/1994-1995-Premier-League-Stats',\n",
              " '/en/comps/9/27/1993-1994-Premier-League-Stats',\n",
              " '/en/comps/9/26/1992-1993-Premier-League-Stats',\n",
              " '/en/comps/12/La-Liga-Stats',\n",
              " '/en/comps/12/10731/2020-2021-La-Liga-Stats',\n",
              " '/en/comps/12/3239/2019-2020-La-Liga-Stats',\n",
              " '/en/comps/12/1886/2018-2019-La-Liga-Stats',\n",
              " '/en/comps/12/1652/2017-2018-La-Liga-Stats',\n",
              " '/en/comps/12/1547/2016-2017-La-Liga-Stats',\n",
              " '/en/comps/12/1488/2015-2016-La-Liga-Stats',\n",
              " '/en/comps/12/755/2014-2015-La-Liga-Stats',\n",
              " '/en/comps/12/690/2013-2014-La-Liga-Stats',\n",
              " '/en/comps/12/624/2012-2013-La-Liga-Stats',\n",
              " '/en/comps/12/557/2011-2012-La-Liga-Stats',\n",
              " '/en/comps/12/488/2010-2011-La-Liga-Stats',\n",
              " '/en/comps/12/422/2009-2010-La-Liga-Stats',\n",
              " '/en/comps/12/355/2008-2009-La-Liga-Stats',\n",
              " '/en/comps/12/299/2007-2008-La-Liga-Stats',\n",
              " '/en/comps/12/245/2006-2007-La-Liga-Stats',\n",
              " '/en/comps/12/196/2005-2006-La-Liga-Stats',\n",
              " '/en/comps/12/158/2004-2005-La-Liga-Stats',\n",
              " '/en/comps/12/124/2003-2004-La-Liga-Stats',\n",
              " '/en/comps/12/93/2002-2003-La-Liga-Stats',\n",
              " '/en/comps/12/70/2001-2002-La-Liga-Stats',\n",
              " '/en/comps/12/53/2000-2001-La-Liga-Stats',\n",
              " '/en/comps/12/42/1999-2000-La-Liga-Stats',\n",
              " '/en/comps/12/1016/1998-1999-La-Liga-Stats',\n",
              " '/en/comps/12/1017/1997-1998-La-Liga-Stats',\n",
              " '/en/comps/12/1018/1996-1997-La-Liga-Stats',\n",
              " '/en/comps/12/1019/1995-1996-La-Liga-Stats',\n",
              " '/en/comps/12/1020/1994-1995-La-Liga-Stats',\n",
              " '/en/comps/12/1021/1993-1994-La-Liga-Stats',\n",
              " '/en/comps/12/1022/1992-1993-La-Liga-Stats',\n",
              " '/en/comps/12/1023/1991-1992-La-Liga-Stats',\n",
              " '/en/comps/12/1024/1990-1991-La-Liga-Stats',\n",
              " '/en/comps/12/1025/1989-1990-La-Liga-Stats',\n",
              " '/en/comps/12/10950/1988-1989-La-Liga-Stats',\n",
              " '/en/comps/13/Ligue-1-Stats',\n",
              " '/en/comps/13/10732/2020-2021-Ligue-1-Stats',\n",
              " '/en/comps/13/3243/2019-2020-Ligue-1-Stats',\n",
              " '/en/comps/13/2104/2018-2019-Ligue-1-Stats',\n",
              " '/en/comps/13/1632/2017-2018-Ligue-1-Stats',\n",
              " '/en/comps/13/1527/2016-2017-Ligue-1-Stats',\n",
              " '/en/comps/13/1468/2015-2016-Ligue-1-Stats',\n",
              " '/en/comps/13/734/2014-2015-Ligue-1-Stats',\n",
              " '/en/comps/13/670/2013-2014-Ligue-1-Stats',\n",
              " '/en/comps/13/603/2012-2013-Ligue-1-Stats',\n",
              " '/en/comps/13/535/2011-2012-Ligue-1-Stats',\n",
              " '/en/comps/13/468/2010-2011-Ligue-1-Stats',\n",
              " '/en/comps/13/401/2009-2010-Ligue-1-Stats',\n",
              " '/en/comps/13/339/2008-2009-Ligue-1-Stats',\n",
              " '/en/comps/13/283/2007-2008-Ligue-1-Stats',\n",
              " '/en/comps/13/230/2006-2007-Ligue-1-Stats',\n",
              " '/en/comps/13/184/2005-2006-Ligue-1-Stats',\n",
              " '/en/comps/13/147/2004-2005-Ligue-1-Stats',\n",
              " '/en/comps/13/113/2003-2004-Ligue-1-Stats',\n",
              " '/en/comps/13/85/2002-2003-Ligue-1-Stats',\n",
              " '/en/comps/13/64/2001-2002-Division-1-Stats',\n",
              " '/en/comps/13/48/2000-2001-Division-1-Stats',\n",
              " '/en/comps/13/39/1999-2000-Division-1-Stats',\n",
              " '/en/comps/13/1064/1998-1999-Division-1-Stats',\n",
              " '/en/comps/13/1065/1997-1998-Division-1-Stats',\n",
              " '/en/comps/13/1066/1996-1997-Division-1-Stats',\n",
              " '/en/comps/13/1067/1995-1996-Division-1-Stats',\n",
              " '/en/comps/20/Bundesliga-Stats',\n",
              " '/en/comps/20/10737/2020-2021-Bundesliga-Stats',\n",
              " '/en/comps/20/3248/2019-2020-Bundesliga-Stats',\n",
              " '/en/comps/20/2109/2018-2019-Bundesliga-Stats',\n",
              " '/en/comps/20/1634/2017-2018-Bundesliga-Stats',\n",
              " '/en/comps/20/1529/2016-2017-Bundesliga-Stats',\n",
              " '/en/comps/20/1470/2015-2016-Bundesliga-Stats',\n",
              " '/en/comps/20/736/2014-2015-Bundesliga-Stats',\n",
              " '/en/comps/20/672/2013-2014-Bundesliga-Stats',\n",
              " '/en/comps/20/605/2012-2013-Bundesliga-Stats',\n",
              " '/en/comps/20/537/2011-2012-Bundesliga-Stats',\n",
              " '/en/comps/20/470/2010-2011-Bundesliga-Stats',\n",
              " '/en/comps/20/403/2009-2010-Bundesliga-Stats',\n",
              " '/en/comps/20/340/2008-2009-Bundesliga-Stats',\n",
              " '/en/comps/20/284/2007-2008-Bundesliga-Stats',\n",
              " '/en/comps/20/231/2006-2007-Bundesliga-Stats',\n",
              " '/en/comps/20/185/2005-2006-Bundesliga-Stats',\n",
              " '/en/comps/20/148/2004-2005-Bundesliga-Stats',\n",
              " '/en/comps/20/114/2003-2004-Bundesliga-Stats',\n",
              " '/en/comps/20/86/2002-2003-Bundesliga-Stats',\n",
              " '/en/comps/20/65/2001-2002-Bundesliga-Stats',\n",
              " '/en/comps/20/49/2000-2001-Bundesliga-Stats',\n",
              " '/en/comps/20/40/1999-2000-Bundesliga-Stats',\n",
              " '/en/comps/20/1123/1998-1999-Bundesliga-Stats',\n",
              " '/en/comps/20/1124/1997-1998-Bundesliga-Stats',\n",
              " '/en/comps/20/1125/1996-1997-Bundesliga-Stats',\n",
              " '/en/comps/20/1126/1995-1996-Bundesliga-Stats',\n",
              " '/en/comps/20/1127/1994-1995-Bundesliga-Stats',\n",
              " '/en/comps/20/1128/1993-1994-Bundesliga-Stats',\n",
              " '/en/comps/20/1129/1992-1993-Bundesliga-Stats',\n",
              " '/en/comps/20/1130/1991-1992-Bundesliga-Stats',\n",
              " '/en/comps/20/1131/1990-1991-Bundesliga-Stats',\n",
              " '/en/comps/20/1132/1989-1990-Bundesliga-Stats',\n",
              " '/en/comps/20/10951/1988-1989-Bundesliga-Stats',\n",
              " '/en/comps/11/Serie-A-Stats',\n",
              " '/en/comps/11/10730/2020-2021-Serie-A-Stats',\n",
              " '/en/comps/11/3260/2019-2020-Serie-A-Stats',\n",
              " '/en/comps/11/1896/2018-2019-Serie-A-Stats',\n",
              " '/en/comps/11/1640/2017-2018-Serie-A-Stats',\n",
              " '/en/comps/11/1535/2016-2017-Serie-A-Stats',\n",
              " '/en/comps/11/1476/2015-2016-Serie-A-Stats',\n",
              " '/en/comps/11/742/2014-2015-Serie-A-Stats',\n",
              " '/en/comps/11/678/2013-2014-Serie-A-Stats',\n",
              " '/en/comps/11/611/2012-2013-Serie-A-Stats',\n",
              " '/en/comps/11/544/2011-2012-Serie-A-Stats',\n",
              " '/en/comps/11/477/2010-2011-Serie-A-Stats',\n",
              " '/en/comps/11/410/2009-2010-Serie-A-Stats',\n",
              " '/en/comps/11/345/2008-2009-Serie-A-Stats',\n",
              " '/en/comps/11/289/2007-2008-Serie-A-Stats',\n",
              " '/en/comps/11/236/2006-2007-Serie-A-Stats',\n",
              " '/en/comps/11/190/2005-2006-Serie-A-Stats',\n",
              " '/en/comps/11/152/2004-2005-Serie-A-Stats',\n",
              " '/en/comps/11/118/2003-2004-Serie-A-Stats',\n",
              " '/en/comps/11/88/2002-2003-Serie-A-Stats',\n",
              " '/en/comps/11/67/2001-2002-Serie-A-Stats',\n",
              " '/en/comps/11/51/2000-2001-Serie-A-Stats',\n",
              " '/en/comps/11/41/1999-2000-Serie-A-Stats',\n",
              " '/en/comps/11/36/1998-1999-Serie-A-Stats',\n",
              " '/en/comps/11/1172/1997-1998-Serie-A-Stats',\n",
              " '/en/comps/11/1173/1996-1997-Serie-A-Stats',\n",
              " '/en/comps/11/1174/1995-1996-Serie-A-Stats',\n",
              " '/en/comps/11/1175/1994-1995-Serie-A-Stats',\n",
              " '/en/comps/11/1176/1993-1994-Serie-A-Stats',\n",
              " '/en/comps/11/1177/1992-1993-Serie-A-Stats',\n",
              " '/en/comps/11/1178/1991-1992-Serie-A-Stats',\n",
              " '/en/comps/11/1179/1990-1991-Serie-A-Stats',\n",
              " '/en/comps/11/1180/1989-1990-Serie-A-Stats',\n",
              " '/en/comps/11/10949/1988-1989-Serie-A-Stats']"
            ]
          },
          "execution_count": 134,
          "metadata": {},
          "output_type": "execute_result"
        }
      ],
      "source": [
        "# All Seasons Big 5 Leagues\n",
        "\n",
        "all_seasons_big_5 = []\n",
        "\n",
        "for i in big_5_leagues:\n",
        "    league_seasons = get_all_seasons(i)\n",
        "    all_seasons_big_5 += league_seasons\n",
        "\n",
        "all_seasons_big_5"
      ]
    },
    {
      "cell_type": "code",
      "execution_count": 135,
      "metadata": {},
      "outputs": [
        {
          "name": "stdout",
          "output_type": "stream",
          "text": [
            "886\n",
            "159\n"
          ]
        }
      ],
      "source": [
        "print(len(all_seasons))\n",
        "print(len(all_seasons_big_5))"
      ]
    },
    {
      "cell_type": "code",
      "execution_count": 10,
      "metadata": {},
      "outputs": [],
      "source": [
        "# keep just in case\n",
        "\n",
        "# def get_all_player_urls(url_list):\n",
        "    \n",
        "#     final_player_urls = []\n",
        "\n",
        "#     for i in url_list:\n",
        "#         URL_test = 'https://fbref.com/'+ i\n",
        "#         page = requests.get(URL_test)\n",
        "#         soup = BeautifulSoup(page.content, 'html.parser')\n",
        "#         td1 = soup.find(lambda t: t.text.strip()=='Standard Stats')\n",
        "#         td2 = td1.find_next('a')\n",
        "#         url_to_add = td2['href']\n",
        "#         final_player_urls.append(url_to_add)\n",
        "\n",
        "#     return final_player_urls"
      ]
    },
    {
      "cell_type": "code",
      "execution_count": 136,
      "metadata": {},
      "outputs": [],
      "source": [
        "def get_all_player_urls(url_list):\n",
        "    \n",
        "    final_player_urls = []\n",
        "\n",
        "    for i in url_list:\n",
        "        final_pos = i.rindex('/')\n",
        "\n",
        "        final_player_urls.append(i[:final_pos+1]+'stats/'+i[final_pos+1:])\n",
        "\n",
        "    return final_player_urls"
      ]
    },
    {
      "cell_type": "code",
      "execution_count": 138,
      "metadata": {},
      "outputs": [],
      "source": [
        "final_stats = get_all_player_urls(all_seasons)"
      ]
    },
    {
      "cell_type": "code",
      "execution_count": 139,
      "metadata": {},
      "outputs": [],
      "source": [
        "# Getting final_stats for all players in the Big 5 Leagues\n",
        "\n",
        "final_stats_big_5 = get_all_player_urls(all_seasons_big_5)"
      ]
    },
    {
      "cell_type": "code",
      "execution_count": 140,
      "metadata": {},
      "outputs": [
        {
          "name": "stdout",
          "output_type": "stream",
          "text": [
            "/en/comps/14/stats/Copa-Libertadores-Stats\n",
            "/en/comps/9/stats/Premier-League-Stats\n"
          ]
        }
      ],
      "source": [
        "print(final_stats[0])\n",
        "print(final_stats_big_5[0])"
      ]
    },
    {
      "cell_type": "code",
      "execution_count": 14,
      "metadata": {},
      "outputs": [],
      "source": [
        "# all_standard_urls = get_all_player_urls(all_seasons)"
      ]
    },
    {
      "cell_type": "code",
      "execution_count": 141,
      "metadata": {},
      "outputs": [],
      "source": [
        "def get_player_table(url):\n",
        "    url = 'https://fbref.com/' + url\n",
        "    res = requests.get(url)\n",
        "    ## The next two lines get around the issue with comments breaking the parsing.\n",
        "    comm = re.compile(\"<!--|-->\")\n",
        "    soup = BeautifulSoup(comm.sub(\"\",res.text),'lxml')\n",
        "    all_tables = soup.findAll(\"tbody\")\n",
        "    player_table = all_tables[2]\n",
        "\n",
        "    return player_table"
      ]
    },
    {
      "cell_type": "code",
      "execution_count": 142,
      "metadata": {},
      "outputs": [],
      "source": [
        "def get_player_urls(url_list):\n",
        "    \n",
        "    player_url_list = []\n",
        "\n",
        "    for url in url_list:\n",
        "        url = 'https://fbref.com/' + url\n",
        "        res = requests.get(url)\n",
        "        ## The next two lines get around the issue with comments breaking the parsing.\n",
        "        comm = re.compile(\"<!--|-->\")\n",
        "        soup = BeautifulSoup(comm.sub(\"\",res.text),'lxml')\n",
        "        all_tables = soup.findAll(\"tbody\")\n",
        "        try:\n",
        "            player_table = all_tables[2]\n",
        "        except:\n",
        "            next\n",
        "\n",
        "        for row in player_table.find_all('a'):\n",
        "            if \"matchlogs\" in row['href']:\n",
        "                player_url_list.append(row['href'])\n",
        "\n",
        "    return player_url_list"
      ]
    },
    {
      "cell_type": "code",
      "execution_count": 143,
      "metadata": {},
      "outputs": [],
      "source": [
        "stats = [\"player\",\"nationality\",\"position\",\"squad\",\"age\",\"birth_year\",\"games\",\"games_starts\",\"minutes\",\"goals\",\"assists\",\"pens_made\",\"pens_att\",\"cards_yellow\",\"cards_red\",\"goals_per90\",\"assists_per90\",\"goals_assists_per90\",\"goals_pens_per90\",\"goals_assists_pens_per90\",\"xg\",\"npxg\",\"xa\",\"xg_per90\",\"xa_per90\",\"xg_xa_per90\",\"npxg_per90\",\"npxg_xa_per90\"]"
      ]
    },
    {
      "cell_type": "code",
      "execution_count": 144,
      "metadata": {},
      "outputs": [],
      "source": [
        "def get_frame(features, player_table):\n",
        "    pre_df_player = dict()\n",
        "    features_wanted_player = features\n",
        "    rows_player = player_table.find_all('tr')\n",
        "    for row in rows_player:\n",
        "        if(row.find('th',{\"scope\":\"row\"}) != None):\n",
        "    \n",
        "            for f in features_wanted_player:\n",
        "                cell = row.find(\"td\",{\"data-stat\": f})\n",
        "                a = cell.text.strip().encode()\n",
        "                text=a.decode(\"utf-8\")\n",
        "                if(text == ''):\n",
        "                    text = '0'\n",
        "                if((f!='player')&(f!='nationality')&(f!='position')&(f!='squad')&(f!='age')&(f!='birth_year')):\n",
        "                    text = float(text.replace(',',''))\n",
        "                if f in pre_df_player:\n",
        "                    pre_df_player[f].append(text)\n",
        "                else:\n",
        "                    pre_df_player[f] = [text]\n",
        "    df_player = pd.DataFrame.from_dict(pre_df_player)\n",
        "\n",
        "    return df_player"
      ]
    },
    {
      "cell_type": "code",
      "execution_count": 21,
      "metadata": {},
      "outputs": [],
      "source": [
        "# get_frame(stats, testing)"
      ]
    },
    {
      "cell_type": "code",
      "execution_count": 20,
      "metadata": {},
      "outputs": [
        {
          "data": {
            "text/plain": [
              "345527"
            ]
          },
          "execution_count": 20,
          "metadata": {},
          "output_type": "execute_result"
        }
      ],
      "source": [
        "player_table = get_player_urls(final_stats)\n",
        "\n",
        "len(player_table)"
      ]
    },
    {
      "cell_type": "code",
      "execution_count": 145,
      "metadata": {},
      "outputs": [
        {
          "data": {
            "text/plain": [
              "81192"
            ]
          },
          "execution_count": 145,
          "metadata": {},
          "output_type": "execute_result"
        }
      ],
      "source": [
        "#Getting player tables for big 5 leagues\n",
        "\n",
        "player_table_big_5 = get_player_urls(final_stats_big_5)\n",
        "\n",
        "len(player_table_big_5)"
      ]
    },
    {
      "cell_type": "code",
      "execution_count": 22,
      "metadata": {},
      "outputs": [],
      "source": [
        "# Saving player_table as pickle file\n",
        "import pickle\n",
        "\n",
        "with open('/Volumes/GoogleDrive/.shortcut-targets-by-id/1KUGn_35OjAoOP2puz6yG-2g_8LBxvDG_/SIADS 697 - Capstone/Pickle Files/player_table.pickle', 'wb') as handle:\n",
        "    pickle.dump(player_table, handle, protocol=pickle.HIGHEST_PROTOCOL)"
      ]
    },
    {
      "cell_type": "code",
      "execution_count": 146,
      "metadata": {},
      "outputs": [],
      "source": [
        "# Saving player_table_big_5 as pickle file\n",
        "import pickle\n",
        "\n",
        "with open('/Volumes/GoogleDrive/.shortcut-targets-by-id/1KUGn_35OjAoOP2puz6yG-2g_8LBxvDG_/SIADS 697 - Capstone/Pickle Files/player_table_big_5.pickle', 'wb') as handle:\n",
        "    pickle.dump(player_table_big_5, handle, protocol=pickle.HIGHEST_PROTOCOL)"
      ]
    },
    {
      "cell_type": "code",
      "execution_count": 25,
      "metadata": {},
      "outputs": [
        {
          "data": {
            "text/plain": [
              "345527"
            ]
          },
          "execution_count": 25,
          "metadata": {},
          "output_type": "execute_result"
        }
      ],
      "source": [
        "# Reading player_table pickle file\n",
        "\n",
        "with open('/Volumes/GoogleDrive/.shortcut-targets-by-id/1KUGn_35OjAoOP2puz6yG-2g_8LBxvDG_/SIADS 697 - Capstone/Pickle Files/player_table.pickle', 'rb') as handle:\n",
        "    pickle_player_table = pickle.load(handle)\n",
        "\n",
        "pickle_player_table"
      ]
    },
    {
      "cell_type": "code",
      "execution_count": 3,
      "metadata": {},
      "outputs": [
        {
          "data": {
            "text/plain": [
              "81192"
            ]
          },
          "execution_count": 3,
          "metadata": {},
          "output_type": "execute_result"
        }
      ],
      "source": [
        "# DO NOT USE THIS - DO NOT DELETE THIS - Victor\n",
        "\n",
        "player_table_big_5 = pd.read_csv('/Users/vruiz.CDS/Downloads/Capstone Files/player_table_big_5.csv')\n",
        "test_name = list(player_table_big_5['0'])[0]\n",
        "player_table_big_5 = player_table_big_5['0'].values.tolist()\n",
        "len(player_table_big_5)\n"
      ]
    },
    {
      "cell_type": "code",
      "execution_count": 4,
      "metadata": {},
      "outputs": [
        {
          "data": {
            "text/plain": [
              "19535"
            ]
          },
          "execution_count": 4,
          "metadata": {},
          "output_type": "execute_result"
        }
      ],
      "source": [
        "# Pull all player stats for all competitions\n",
        "\n",
        "def get_players_all_competitions(player_list):\n",
        "    \n",
        "    player_urls = []\n",
        "\n",
        "    for i in player_list:\n",
        "        # player_urls.append('https://fbref.com/en/players/' + i.split('/')[3:4][0] + '/' + i.split('/')[7:][0].replace(\"-Match-Logs\", \"\"))\n",
        "        player_urls.append('https://fbref.com/en/players/' + i.split('/')[3:4][0] + '/all_comps/' \n",
        "                            + i.split('/')[7:][0].replace(\"-Match-Logs\", \"\") + '/-Stats---All-Competitions')\n",
        "\n",
        "    return list(set(player_urls))\n",
        "\n",
        "\n",
        "player_all_competitions = get_players_all_competitions(player_table_big_5)\n",
        "len(player_all_competitions)\n"
      ]
    },
    {
      "cell_type": "code",
      "execution_count": 5,
      "metadata": {},
      "outputs": [],
      "source": [
        "# Generate the match log urls for all players across all \n",
        "\n",
        "def get_player_match_logs(player_list_summary, line):\n",
        "    \n",
        "    res = requests.get(player_all_competitions[line])\n",
        "    soup = BeautifulSoup(res.text,'lxml')\n",
        "\n",
        "    match_logs_list = []\n",
        "\n",
        "    for i in soup.find_all('tbody'):\n",
        "        for j in i.find_all('td', {'data-stat':'matches'}):\n",
        "            if j.find('a') != None:\n",
        "                if 'summary' in j.find('a')['href']:\n",
        "                    match_logs_list.append(j.find('a')['href'])\n",
        "\n",
        "    return list(set(match_logs_list))"
      ]
    },
    {
      "cell_type": "code",
      "execution_count": 13,
      "metadata": {},
      "outputs": [],
      "source": [
        "\n",
        "# Total length of player_all_competitions is 19,535\n",
        "# List will be splitted in 5 \n",
        "\n",
        "match_logs_list = []\n",
        "\n",
        "# 1st batch 0:5000 - DONE\n",
        "\n",
        "for i in range(len(player_all_competitions[0:5000])):\n",
        "    match_logs_list.extend(get_player_match_logs(player_all_competitions[0:5000], i))"
      ]
    },
    {
      "cell_type": "code",
      "execution_count": 17,
      "metadata": {},
      "outputs": [],
      "source": [
        "# export to personal drive as match_logs_list_1.csv - DONE\n",
        "\n",
        "pd.DataFrame(match_logs_list).to_csv('/Users/vruiz.CDS/Downloads/Capstone Files/match_logs_list_1.csv')"
      ]
    },
    {
      "cell_type": "code",
      "execution_count": 19,
      "metadata": {},
      "outputs": [],
      "source": [
        "# 2nd batch 5000:10000 - PENDING\n",
        "\n",
        "for i in range(len(player_all_competitions[5000:10000])):\n",
        "    match_logs_list.extend(get_player_match_logs(player_all_competitions[5000:10000], i))"
      ]
    },
    {
      "cell_type": "code",
      "execution_count": null,
      "metadata": {},
      "outputs": [],
      "source": [
        "# export to personal drive as match_logs_list_2.csv - PENDING\n",
        "\n",
        "pd.DataFrame(match_logs_list).to_csv('/Users/vruiz.CDS/Downloads/Capstone Files/match_logs_list_2.csv')"
      ]
    },
    {
      "cell_type": "code",
      "execution_count": null,
      "metadata": {},
      "outputs": [],
      "source": [
        "# 3rd batch 10000:15000 - PENDING\n",
        "\n",
        "for i in range(len(player_all_competitions[10000:15000])):\n",
        "    match_logs_list.extend(get_player_match_logs(player_all_competitions[10000:15000], i))"
      ]
    },
    {
      "cell_type": "code",
      "execution_count": null,
      "metadata": {},
      "outputs": [],
      "source": [
        "# export to personal drive as match_logs_list_3.csv - PENDING\n",
        "\n",
        "pd.DataFrame(match_logs_list).to_csv('/Users/vruiz.CDS/Downloads/Capstone Files/match_logs_list_3.csv')"
      ]
    },
    {
      "cell_type": "code",
      "execution_count": null,
      "metadata": {},
      "outputs": [],
      "source": [
        "# 4th batch 15000:19535 - PENDING\n",
        "\n",
        "for i in range(len(player_all_competitions[15000:-1])):\n",
        "    match_logs_list.extend(get_player_match_logs(player_all_competitions[15000:19535], i))"
      ]
    },
    {
      "cell_type": "code",
      "execution_count": null,
      "metadata": {},
      "outputs": [],
      "source": [
        "# export to personal drive as match_logs_list_4.csv - PENDING\n",
        "\n",
        "pd.DataFrame(match_logs_list).to_csv('/Users/vruiz.CDS/Downloads/Capstone Files/match_logs_list_4.csv')"
      ]
    },
    {
      "cell_type": "code",
      "execution_count": 12,
      "metadata": {},
      "outputs": [
        {
          "data": {
            "text/plain": [
              "19535"
            ]
          },
          "execution_count": 12,
          "metadata": {},
          "output_type": "execute_result"
        }
      ],
      "source": []
    },
    {
      "cell_type": "code",
      "execution_count": null,
      "metadata": {},
      "outputs": [],
      "source": []
    },
    {
      "cell_type": "code",
      "execution_count": 118,
      "metadata": {},
      "outputs": [
        {
          "ename": "InvalidIndexError",
          "evalue": "Reindexing only valid with uniquely valued Index objects",
          "output_type": "error",
          "traceback": [
            "\u001b[0;31m---------------------------------------------------------------------------\u001b[0m",
            "\u001b[0;31mInvalidIndexError\u001b[0m                         Traceback (most recent call last)",
            "\u001b[0;32m<ipython-input-118-630acd50db15>\u001b[0m in \u001b[0;36m<module>\u001b[0;34m\u001b[0m\n\u001b[1;32m     17\u001b[0m     \u001b[0;31m# new_table = new_table.loc[~new_table.index.duplicated(keep='first')] #not sure about this did it to remove rows with duplicate indices\u001b[0m\u001b[0;34m\u001b[0m\u001b[0;34m\u001b[0m\u001b[0;34m\u001b[0m\u001b[0m\n\u001b[1;32m     18\u001b[0m \u001b[0;34m\u001b[0m\u001b[0m\n\u001b[0;32m---> 19\u001b[0;31m     \u001b[0mdf\u001b[0m \u001b[0;34m=\u001b[0m \u001b[0mdf\u001b[0m\u001b[0;34m.\u001b[0m\u001b[0mappend\u001b[0m\u001b[0;34m(\u001b[0m\u001b[0mnew_table\u001b[0m\u001b[0;34m)\u001b[0m\u001b[0;34m\u001b[0m\u001b[0;34m\u001b[0m\u001b[0m\n\u001b[0m",
            "\u001b[0;32m~/opt/anaconda3/lib/python3.8/site-packages/pandas/core/frame.py\u001b[0m in \u001b[0;36mappend\u001b[0;34m(self, other, ignore_index, verify_integrity, sort)\u001b[0m\n\u001b[1;32m   7980\u001b[0m             \u001b[0mto_concat\u001b[0m \u001b[0;34m=\u001b[0m \u001b[0;34m[\u001b[0m\u001b[0mself\u001b[0m\u001b[0;34m,\u001b[0m \u001b[0mother\u001b[0m\u001b[0;34m]\u001b[0m\u001b[0;34m\u001b[0m\u001b[0;34m\u001b[0m\u001b[0m\n\u001b[1;32m   7981\u001b[0m         return (\n\u001b[0;32m-> 7982\u001b[0;31m             concat(\n\u001b[0m\u001b[1;32m   7983\u001b[0m                 \u001b[0mto_concat\u001b[0m\u001b[0;34m,\u001b[0m\u001b[0;34m\u001b[0m\u001b[0;34m\u001b[0m\u001b[0m\n\u001b[1;32m   7984\u001b[0m                 \u001b[0mignore_index\u001b[0m\u001b[0;34m=\u001b[0m\u001b[0mignore_index\u001b[0m\u001b[0;34m,\u001b[0m\u001b[0;34m\u001b[0m\u001b[0;34m\u001b[0m\u001b[0m\n",
            "\u001b[0;32m~/opt/anaconda3/lib/python3.8/site-packages/pandas/core/reshape/concat.py\u001b[0m in \u001b[0;36mconcat\u001b[0;34m(objs, axis, join, ignore_index, keys, levels, names, verify_integrity, sort, copy)\u001b[0m\n\u001b[1;32m    296\u001b[0m     )\n\u001b[1;32m    297\u001b[0m \u001b[0;34m\u001b[0m\u001b[0m\n\u001b[0;32m--> 298\u001b[0;31m     \u001b[0;32mreturn\u001b[0m \u001b[0mop\u001b[0m\u001b[0;34m.\u001b[0m\u001b[0mget_result\u001b[0m\u001b[0;34m(\u001b[0m\u001b[0;34m)\u001b[0m\u001b[0;34m\u001b[0m\u001b[0;34m\u001b[0m\u001b[0m\n\u001b[0m\u001b[1;32m    299\u001b[0m \u001b[0;34m\u001b[0m\u001b[0m\n\u001b[1;32m    300\u001b[0m \u001b[0;34m\u001b[0m\u001b[0m\n",
            "\u001b[0;32m~/opt/anaconda3/lib/python3.8/site-packages/pandas/core/reshape/concat.py\u001b[0m in \u001b[0;36mget_result\u001b[0;34m(self)\u001b[0m\n\u001b[1;32m    514\u001b[0m                     \u001b[0mobj_labels\u001b[0m \u001b[0;34m=\u001b[0m \u001b[0mobj\u001b[0m\u001b[0;34m.\u001b[0m\u001b[0maxes\u001b[0m\u001b[0;34m[\u001b[0m\u001b[0;36m1\u001b[0m \u001b[0;34m-\u001b[0m \u001b[0max\u001b[0m\u001b[0;34m]\u001b[0m\u001b[0;34m\u001b[0m\u001b[0;34m\u001b[0m\u001b[0m\n\u001b[1;32m    515\u001b[0m                     \u001b[0;32mif\u001b[0m \u001b[0;32mnot\u001b[0m \u001b[0mnew_labels\u001b[0m\u001b[0;34m.\u001b[0m\u001b[0mequals\u001b[0m\u001b[0;34m(\u001b[0m\u001b[0mobj_labels\u001b[0m\u001b[0;34m)\u001b[0m\u001b[0;34m:\u001b[0m\u001b[0;34m\u001b[0m\u001b[0;34m\u001b[0m\u001b[0m\n\u001b[0;32m--> 516\u001b[0;31m                         \u001b[0mindexers\u001b[0m\u001b[0;34m[\u001b[0m\u001b[0max\u001b[0m\u001b[0;34m]\u001b[0m \u001b[0;34m=\u001b[0m \u001b[0mobj_labels\u001b[0m\u001b[0;34m.\u001b[0m\u001b[0mget_indexer\u001b[0m\u001b[0;34m(\u001b[0m\u001b[0mnew_labels\u001b[0m\u001b[0;34m)\u001b[0m\u001b[0;34m\u001b[0m\u001b[0;34m\u001b[0m\u001b[0m\n\u001b[0m\u001b[1;32m    517\u001b[0m \u001b[0;34m\u001b[0m\u001b[0m\n\u001b[1;32m    518\u001b[0m                 \u001b[0mmgrs_indexers\u001b[0m\u001b[0;34m.\u001b[0m\u001b[0mappend\u001b[0m\u001b[0;34m(\u001b[0m\u001b[0;34m(\u001b[0m\u001b[0mobj\u001b[0m\u001b[0;34m.\u001b[0m\u001b[0m_mgr\u001b[0m\u001b[0;34m,\u001b[0m \u001b[0mindexers\u001b[0m\u001b[0;34m)\u001b[0m\u001b[0;34m)\u001b[0m\u001b[0;34m\u001b[0m\u001b[0;34m\u001b[0m\u001b[0m\n",
            "\u001b[0;32m~/opt/anaconda3/lib/python3.8/site-packages/pandas/core/indexes/base.py\u001b[0m in \u001b[0;36mget_indexer\u001b[0;34m(self, target, method, limit, tolerance)\u001b[0m\n\u001b[1;32m   3169\u001b[0m \u001b[0;34m\u001b[0m\u001b[0m\n\u001b[1;32m   3170\u001b[0m         \u001b[0;32mif\u001b[0m \u001b[0;32mnot\u001b[0m \u001b[0mself\u001b[0m\u001b[0;34m.\u001b[0m\u001b[0mis_unique\u001b[0m\u001b[0;34m:\u001b[0m\u001b[0;34m\u001b[0m\u001b[0;34m\u001b[0m\u001b[0m\n\u001b[0;32m-> 3171\u001b[0;31m             raise InvalidIndexError(\n\u001b[0m\u001b[1;32m   3172\u001b[0m                 \u001b[0;34m\"Reindexing only valid with uniquely valued Index objects\"\u001b[0m\u001b[0;34m\u001b[0m\u001b[0;34m\u001b[0m\u001b[0m\n\u001b[1;32m   3173\u001b[0m             )\n",
            "\u001b[0;31mInvalidIndexError\u001b[0m: Reindexing only valid with uniquely valued Index objects"
          ]
        }
      ],
      "source": [
        "df = pd.DataFrame([])\n",
        "\n",
        "for player in pickle_player_table:\n",
        "    url = 'https://fbref.com/' + player\n",
        "    res = requests.get(url)\n",
        "\n",
        "    soup = BeautifulSoup(res.text,'lxml')\n",
        "    \n",
        "    new_table = pd.read_html(url)[0]\n",
        "    new_header = new_table.columns.droplevel()\n",
        "    new_table.columns = new_header\n",
        "    # new_table.fillna(0)\n",
        "    new_table['name'] = soup.title.string\n",
        "\n",
        "    # new_table = new_table.reset_index(drop=True)\n",
        "    \n",
        "    # new_table = new_table.loc[~new_table.index.duplicated(keep='first')] #not sure about this did it to remove rows with duplicate indices\n",
        "\n",
        "    df = df.append(new_table)\n"
      ]
    },
    {
      "cell_type": "code",
      "execution_count": 149,
      "metadata": {},
      "outputs": [],
      "source": [
        "# Big 5 Dataframe construction\n",
        "\n",
        "df_big_5 = pd.DataFrame([])\n",
        "\n",
        "for player in pickle_player_table_big_5:\n",
        "    url = 'https://fbref.com/' + player\n",
        "    res = requests.get(url)\n",
        "\n",
        "    # soup = BeautifulSoup(res.text,'lxml')\n",
        "    \n",
        "    new_table_big_5 = pd.read_html(url)[0]\n",
        "    new_header_big_5 = new_table_big_5.columns.droplevel()\n",
        "    new_table_big_5.columns = new_header\n",
        "    # new_table.fillna(0)\n",
        "    new_table_big_5['name'] = soup.title.string\n",
        "\n",
        "    # new_table = new_table.reset_index(drop=True)\n",
        "    \n",
        "    # new_table = new_table.loc[~new_table.index.duplicated(keep='first')] #not sure about this did it to remove rows with duplicate indices\n",
        "\n",
        "    df_big_5 = df_big_5.append(new_table_big_5)\n",
        "\n"
      ]
    },
    {
      "cell_type": "code",
      "execution_count": 108,
      "metadata": {},
      "outputs": [
        {
          "data": {
            "text/plain": [
              "array(['Primera Div', nan, 'Copa Libertadores', 'Primera División',\n",
              "       'Copa Sudamericana', 'Sudamericana', 'WCQ', 'Copa América',\n",
              "       'La Liga', 'Libertadores', 'Série A', 'Serie A', 'Friendlies (M)',\n",
              "       'Liga 1', 'Pro League', 'Liga MX', 'Gold Cup', 'DFB-Pokal',\n",
              "       'Bundesliga', 'Europa Lg', 'Euro Qualifying', 'WCQ — UEFA (M)',\n",
              "       'Segunda División'], dtype=object)"
            ]
          },
          "execution_count": 108,
          "metadata": {},
          "output_type": "execute_result"
        }
      ],
      "source": [
        "df.Comp.unique()"
      ]
    },
    {
      "cell_type": "code",
      "execution_count": null,
      "metadata": {},
      "outputs": [],
      "source": [
        "df_big_5.to_csv('/Volumes/GoogleDrive/.shortcut-targets-by-id/1KUGn_35OjAoOP2puz6yG-2g_8LBxvDG_/SIADS 697 - Capstone/Pickle Files/raw_player_table_big_5')"
      ]
    },
    {
      "cell_type": "code",
      "execution_count": null,
      "metadata": {},
      "outputs": [],
      "source": []
    }
  ],
  "metadata": {
    "colab": {
      "collapsed_sections": [],
      "name": "Extract Injuries.ipynb",
      "provenance": []
    },
    "interpreter": {
      "hash": "47a3b8c90a833cf9da06489e1df426457d9dfe0a0f45f7f7024d52af9fffecff"
    },
    "kernelspec": {
      "display_name": "Python 3.8.8 64-bit ('base': conda)",
      "name": "python3"
    },
    "language_info": {
      "codemirror_mode": {
        "name": "ipython",
        "version": 3
      },
      "file_extension": ".py",
      "mimetype": "text/x-python",
      "name": "python",
      "nbconvert_exporter": "python",
      "pygments_lexer": "ipython3",
      "version": "3.6.5"
    }
  },
  "nbformat": 4,
  "nbformat_minor": 2
}
