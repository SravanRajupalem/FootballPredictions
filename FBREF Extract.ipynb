{
  "cells": [
    {
      "cell_type": "code",
      "execution_count": 1,
      "metadata": {
        "id": "k3Vq6Ipae3qP"
      },
      "outputs": [
        {
          "name": "stderr",
          "output_type": "stream",
          "text": [
            "/Users/srav88/anaconda3/lib/python3.7/site-packages/pandas/compat/_optional.py:138: UserWarning: Pandas requires version '2.7.0' or newer of 'numexpr' (version '2.6.9' currently installed).\n",
            "  warnings.warn(msg, UserWarning)\n"
          ]
        }
      ],
      "source": [
        "import datetime\n",
        "from datetime import date\n",
        "import requests\n",
        "import pprint\n",
        "from bs4 import BeautifulSoup\n",
        "import pandas as pd"
      ]
    },
    {
      "cell_type": "code",
      "execution_count": 3,
      "metadata": {},
      "outputs": [],
      "source": [
        "URL = 'https://fbref.com/en/comps/9/history/Premier-League-Seasons'\n",
        "page = requests.get(URL)\n",
        "soup = BeautifulSoup(page.content, 'html.parser')"
      ]
    },
    {
      "cell_type": "code",
      "execution_count": 22,
      "metadata": {},
      "outputs": [
        {
          "data": {
            "text/plain": [
              "['/en/comps/9/Premier-League-Stats',\n",
              " '/en/comps/9/10728/2020-2021-Premier-League-Stats',\n",
              " '/en/comps/9/3232/2019-2020-Premier-League-Stats',\n",
              " '/en/comps/9/1889/2018-2019-Premier-League-Stats',\n",
              " '/en/comps/9/1631/2017-2018-Premier-League-Stats',\n",
              " '/en/comps/9/1526/2016-2017-Premier-League-Stats',\n",
              " '/en/comps/9/1467/2015-2016-Premier-League-Stats',\n",
              " '/en/comps/9/733/2014-2015-Premier-League-Stats',\n",
              " '/en/comps/9/669/2013-2014-Premier-League-Stats',\n",
              " '/en/comps/9/602/2012-2013-Premier-League-Stats',\n",
              " '/en/comps/9/534/2011-2012-Premier-League-Stats',\n",
              " '/en/comps/9/467/2010-2011-Premier-League-Stats',\n",
              " '/en/comps/9/400/2009-2010-Premier-League-Stats',\n",
              " '/en/comps/9/338/2008-2009-Premier-League-Stats',\n",
              " '/en/comps/9/282/2007-2008-Premier-League-Stats',\n",
              " '/en/comps/9/229/2006-2007-Premier-League-Stats',\n",
              " '/en/comps/9/183/2005-2006-Premier-League-Stats',\n",
              " '/en/comps/9/146/2004-2005-Premier-League-Stats',\n",
              " '/en/comps/9/112/2003-2004-Premier-League-Stats',\n",
              " '/en/comps/9/84/2002-2003-Premier-League-Stats',\n",
              " '/en/comps/9/63/2001-2002-Premier-League-Stats',\n",
              " '/en/comps/9/47/2000-2001-Premier-League-Stats',\n",
              " '/en/comps/9/38/1999-2000-Premier-League-Stats',\n",
              " '/en/comps/9/35/1998-1999-Premier-League-Stats',\n",
              " '/en/comps/9/33/1997-1998-Premier-League-Stats',\n",
              " '/en/comps/9/31/1996-1997-Premier-League-Stats',\n",
              " '/en/comps/9/29/1995-1996-Premier-League-Stats',\n",
              " '/en/comps/9/28/1994-1995-Premier-League-Stats',\n",
              " '/en/comps/9/27/1993-1994-Premier-League-Stats',\n",
              " '/en/comps/9/26/1992-1993-Premier-League-Stats']"
            ]
          },
          "execution_count": 22,
          "metadata": {},
          "output_type": "execute_result"
        }
      ],
      "source": [
        "url_list = []\n",
        "\n",
        "for row in soup.find_all('tr'):\n",
        "    if row.find('th',{\"scope\":\"row\"}) != None:\n",
        "        url_list.append((row.find('a')['href']))\n",
        "\n",
        "url_list"
      ]
    },
    {
      "cell_type": "code",
      "execution_count": 23,
      "metadata": {},
      "outputs": [
        {
          "data": {
            "text/plain": [
              "30"
            ]
          },
          "execution_count": 23,
          "metadata": {},
          "output_type": "execute_result"
        }
      ],
      "source": [
        "len(url_list)"
      ]
    },
    {
      "cell_type": "code",
      "execution_count": 24,
      "metadata": {},
      "outputs": [],
      "source": [
        "URL_test = 'https://fbref.com/en/comps/9/Premier-League-Stats'\n",
        "page = requests.get(URL_test)\n",
        "soup = BeautifulSoup(page.content, 'html.parser')"
      ]
    },
    {
      "cell_type": "code",
      "execution_count": 42,
      "metadata": {},
      "outputs": [],
      "source": [
        "final_player_urls = []\n",
        "\n",
        "for i in url_list:\n",
        "    URL_test = 'https://fbref.com/'+ i\n",
        "    page = requests.get(URL_test)\n",
        "    soup = BeautifulSoup(page.content, 'html.parser')\n",
        "    td1 = soup.find(lambda t: t.text.strip()=='Standard Stats')\n",
        "    td2 = td1.find_next('a')\n",
        "    url_to_add = td2['href']\n",
        "    final_player_urls.append(url_to_add)\n",
        "\n"
      ]
    },
    {
      "cell_type": "code",
      "execution_count": 44,
      "metadata": {},
      "outputs": [
        {
          "data": {
            "text/plain": [
              "30"
            ]
          },
          "execution_count": 44,
          "metadata": {},
          "output_type": "execute_result"
        }
      ],
      "source": [
        "len(final_player_urls)"
      ]
    },
    {
      "cell_type": "code",
      "execution_count": 45,
      "metadata": {},
      "outputs": [
        {
          "data": {
            "text/plain": [
              "['/en/comps/9/stats/Premier-League-Stats',\n",
              " '/en/comps/9/10728/stats/2020-2021-Premier-League-Stats',\n",
              " '/en/comps/9/3232/stats/2019-2020-Premier-League-Stats',\n",
              " '/en/comps/9/1889/stats/2018-2019-Premier-League-Stats',\n",
              " '/en/comps/9/1631/stats/2017-2018-Premier-League-Stats',\n",
              " '/en/comps/9/1526/stats/2016-2017-Premier-League-Stats',\n",
              " '/en/comps/9/1467/stats/2015-2016-Premier-League-Stats',\n",
              " '/en/comps/9/733/stats/2014-2015-Premier-League-Stats',\n",
              " '/en/comps/9/669/stats/2013-2014-Premier-League-Stats',\n",
              " '/en/comps/9/602/stats/2012-2013-Premier-League-Stats',\n",
              " '/en/comps/9/534/stats/2011-2012-Premier-League-Stats',\n",
              " '/en/comps/9/467/stats/2010-2011-Premier-League-Stats',\n",
              " '/en/comps/9/400/stats/2009-2010-Premier-League-Stats',\n",
              " '/en/comps/9/338/stats/2008-2009-Premier-League-Stats',\n",
              " '/en/comps/9/282/stats/2007-2008-Premier-League-Stats',\n",
              " '/en/comps/9/229/stats/2006-2007-Premier-League-Stats',\n",
              " '/en/comps/9/183/stats/2005-2006-Premier-League-Stats',\n",
              " '/en/comps/9/146/stats/2004-2005-Premier-League-Stats',\n",
              " '/en/comps/9/112/stats/2003-2004-Premier-League-Stats',\n",
              " '/en/comps/9/84/stats/2002-2003-Premier-League-Stats',\n",
              " '/en/comps/9/63/stats/2001-2002-Premier-League-Stats',\n",
              " '/en/comps/9/47/stats/2000-2001-Premier-League-Stats',\n",
              " '/en/comps/9/38/stats/1999-2000-Premier-League-Stats',\n",
              " '/en/comps/9/35/stats/1998-1999-Premier-League-Stats',\n",
              " '/en/comps/9/33/stats/1997-1998-Premier-League-Stats',\n",
              " '/en/comps/9/31/stats/1996-1997-Premier-League-Stats',\n",
              " '/en/comps/9/29/stats/1995-1996-Premier-League-Stats',\n",
              " '/en/comps/9/28/stats/1994-1995-Premier-League-Stats',\n",
              " '/en/comps/9/27/stats/1993-1994-Premier-League-Stats',\n",
              " '/en/comps/9/26/stats/1992-1993-Premier-League-Stats']"
            ]
          },
          "execution_count": 45,
          "metadata": {},
          "output_type": "execute_result"
        }
      ],
      "source": [
        "final_player_urls"
      ]
    },
    {
      "cell_type": "code",
      "execution_count": null,
      "metadata": {},
      "outputs": [],
      "source": []
    }
  ],
  "metadata": {
    "colab": {
      "collapsed_sections": [],
      "name": "Extract Injuries.ipynb",
      "provenance": []
    },
    "interpreter": {
      "hash": "5671f716c35e68422b5f780f2292cd3503afbc155b5c281fb2cf030bac99d376"
    },
    "kernelspec": {
      "display_name": "Python 3.7.3 64-bit ('base': conda)",
      "name": "python3"
    },
    "language_info": {
      "codemirror_mode": {
        "name": "ipython",
        "version": 3
      },
      "file_extension": ".py",
      "mimetype": "text/x-python",
      "name": "python",
      "nbconvert_exporter": "python",
      "pygments_lexer": "ipython3",
      "version": "3.7.3"
    }
  },
  "nbformat": 4,
  "nbformat_minor": 2
}
