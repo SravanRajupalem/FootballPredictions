import http.client
import pandas as pd


conn = http.client.HTTPSConnection("api-football-v1.p.rapidapi.com")

headers = {
    'x-rapidapi-host': "api-football-v1.p.rapidapi.com",
    'x-rapidapi-key': "e5aa099b26msh9288d94083c6c5ep16be7bjsnc9b097407405"
    }

conn.request("GET", "/v3/players?id=276&season=2020", headers=headers)

res = conn.getresponse()
data = res.read()

print(data.decode("utf-8"))






