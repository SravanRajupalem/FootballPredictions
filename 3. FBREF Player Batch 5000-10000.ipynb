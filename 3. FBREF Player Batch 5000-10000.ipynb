{
 "cells": [
  {
   "cell_type": "code",
   "execution_count": 11,
   "metadata": {},
   "outputs": [],
   "source": [
    "import datetime\n",
    "from datetime import date\n",
    "import requests\n",
    "import pprint\n",
    "from bs4 import BeautifulSoup\n",
    "import pandas as pd\n",
    "import re\n",
    "import pickle\n",
    "from urllib.request import urlopen\n"
   ]
  },
  {
   "cell_type": "code",
   "execution_count": 12,
   "metadata": {},
   "outputs": [],
   "source": [
    "# Reading CSV File for first Batch 0-5000\n",
    "\n",
    "match_logs_list_urls = pd.read_csv('/Volumes/GoogleDrive/.shortcut-targets-by-id/1KUGn_35OjAoOP2puz6yG-2g_8LBxvDG_/SIADS 697 - Capstone/CSV Files/match_logs_list_urls.csv')"
   ]
  },
  {
   "cell_type": "code",
   "execution_count": 13,
   "metadata": {},
   "outputs": [],
   "source": [
    "# This one works\n",
    "\n",
    "match_logs_list_urls = list(match_logs_list_urls['0'])\n",
    "match_logs_list_urls = ['https://fbref.com' + i for i in match_logs_list_urls]\n"
   ]
  },
  {
   "cell_type": "code",
   "execution_count": 14,
   "metadata": {},
   "outputs": [],
   "source": [
    "# Pull all match_log_lists_x tables. We will convert each list individually WORK IN PROCESS\n",
    "\n",
    "def create_match_logs_tables(match_logs_list_urls_x):\n",
    "\n",
    "    df_30_columns = pd.DataFrame([])\n",
    "    df_39_columns = pd.DataFrame([])\n",
    "\n",
    "\n",
    "    for player in match_logs_list_urls_x:\n",
    "        try: # this may fix \"HTTP Error 404: Not Found\"\n",
    "            # urlopen(player)\n",
    "\n",
    "            new_table = pd.read_html(player)[0]\n",
    "            new_table.columns = new_table.columns.droplevel()\n",
    "            new_table['name'] = player.split('/')[-1].replace(\"-Match-Logs\", \"\")\n",
    "            \n",
    "            if new_table.shape[1] == 30:\n",
    "                df_30_columns = df_30_columns.append(new_table, ignore_index=True)\n",
    "                \n",
    "            if new_table.shape[1] == 39:\n",
    "                df_39_columns = df_39_columns.append(new_table, ignore_index=True)\n",
    "            \n",
    "        except:\n",
    "            pass\n",
    "\n",
    "    return df_30_columns, df_39_columns"
   ]
  },
  {
   "cell_type": "code",
   "execution_count": 15,
   "metadata": {},
   "outputs": [
    {
     "data": {
      "text/plain": [
       "84959"
      ]
     },
     "execution_count": 15,
     "metadata": {},
     "output_type": "execute_result"
    }
   ],
   "source": [
    "len(match_logs_list_urls)"
   ]
  },
  {
   "cell_type": "code",
   "execution_count": 16,
   "metadata": {},
   "outputs": [],
   "source": [
    "# Creating different length data frames\n",
    "\n",
    "df_30_columns_1, df_39_columns_1 = create_match_logs_tables(match_logs_list_urls[5000:10000])"
   ]
  },
  {
   "cell_type": "code",
   "execution_count": 18,
   "metadata": {},
   "outputs": [],
   "source": [
    "# export to google drive as df_30_columns_2 and df_columns_2\n",
    "\n",
    "pd.DataFrame(df_30_columns_1).to_csv('/Volumes/GoogleDrive/.shortcut-targets-by-id/1KUGn_35OjAoOP2puz6yG-2g_8LBxvDG_/SIADS 697 - Capstone/Dataframes/df_30_columns_2.csv', index = False)\n",
    "pd.DataFrame(df_39_columns_1).to_csv('/Volumes/GoogleDrive/.shortcut-targets-by-id/1KUGn_35OjAoOP2puz6yG-2g_8LBxvDG_/SIADS 697 - Capstone/Dataframes/df_39_columns_2.csv', index = False)"
   ]
  },
  {
   "cell_type": "code",
   "execution_count": 20,
   "metadata": {},
   "outputs": [
    {
     "name": "stdout",
     "output_type": "stream",
     "text": [
      "(17320, 39)\n",
      "(130468, 30)\n",
      "(148182, 47)\n"
     ]
    }
   ],
   "source": [
    "#Combining Df_30_columns_2 and df_39_columns_2 to dataframe_2\n",
    "\n",
    "cols = ['Date', 'Day', 'Comp', 'Round', 'Venue', 'Result', 'Squad', 'Opponent', 'Start', 'Pos', 'Min', 'Gls', 'Ast', 'PK', 'PKatt', 'Sh', 'SoT', 'CrdY',\n",
    "       'CrdR', 'Match Report', 'Int', 'name']\n",
    "\n",
    "df1 = df_39_columns_1\n",
    "df2 = df_30_columns_1\n",
    "\n",
    "df_final_2 = df1.merge(df2,how='outer', left_on=cols, right_on=cols)\n",
    "\n",
    "print(df1.shape)\n",
    "print(df2.shape)\n",
    "print(df_final_2.shape)"
   ]
  },
  {
   "cell_type": "code",
   "execution_count": 23,
   "metadata": {},
   "outputs": [],
   "source": [
    "# export to google drive as dataframe_2\n",
    "\n",
    "pd.DataFrame(df_final_2).to_csv('/Volumes/GoogleDrive/.shortcut-targets-by-id/1KUGn_35OjAoOP2puz6yG-2g_8LBxvDG_/SIADS 697 - Capstone/Dataframes/df_final_2.csv', index=False)"
   ]
  }
 ],
 "metadata": {
  "interpreter": {
   "hash": "aee8b7b246df8f9039afb4144a1f6fd8d2ca17a180786b69acc140d282b71a49"
  },
  "kernelspec": {
   "display_name": "Python 3.9.7 64-bit",
   "language": "python",
   "name": "python3"
  },
  "language_info": {
   "codemirror_mode": {
    "name": "ipython",
    "version": 3
   },
   "file_extension": ".py",
   "mimetype": "text/x-python",
   "name": "python",
   "nbconvert_exporter": "python",
   "pygments_lexer": "ipython3",
   "version": "3.8.8"
  },
  "orig_nbformat": 4
 },
 "nbformat": 4,
 "nbformat_minor": 2
}
