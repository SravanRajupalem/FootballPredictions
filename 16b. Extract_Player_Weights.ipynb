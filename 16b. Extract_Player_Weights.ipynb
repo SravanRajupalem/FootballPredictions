{
  "cells": [
    {
      "cell_type": "code",
      "execution_count": 1,
      "metadata": {},
      "outputs": [
        {
          "name": "stdout",
          "output_type": "stream",
          "text": [
            "200\n"
          ]
        }
      ],
      "source": [
        "from bs4 import BeautifulSoup\n",
        "import requests\n",
        "import pandas as pd\n",
        "import unicodedata\n",
        "import numpy as np\n",
        "import itertools\n",
        "\n",
        "url = 'https://www.transfermarkt.com/premier-league/transfers/wettbewerb/GB1/plus/?saison_id=2018&s_w=&leihe=0&leihe=1&intern=0&intern=1'\n",
        "\n",
        "response = requests.get(url, headers={'User-Agent': 'Custom5'})\n",
        "print(response.status_code)\n",
        "financial_data = response.text\n",
        "soup = BeautifulSoup(financial_data, 'html.parser')"
      ]
    },
    {
      "cell_type": "code",
      "execution_count": 2,
      "metadata": {},
      "outputs": [],
      "source": [
        "# Install\n",
        "# !pip install pyjsparser\n",
        "# !pip install js2xml\n",
        "\n",
        "# Base\n",
        "import pandas as pd\n",
        "import numpy as np\n",
        "\n",
        "# Visualization\n",
        "import plotly.express as ex\n",
        "\n",
        "# Web Scraping\n",
        "import requests\n",
        "from bs4 import BeautifulSoup\n",
        "# !pip install pyjsparser\n",
        "# from pyjsparser import parse\n",
        "import pyjsparser\n",
        "\n",
        "# Time Sleep\n",
        "import sys\n",
        "import time\n",
        "from datetime import datetime\n",
        "from termcolor import colored\n",
        "\n",
        "# GC\n",
        "import gc\n",
        "\n",
        "# Itertools\n",
        "import itertools\n",
        "\n",
        "# Grafikten Data Çekmek için\n",
        "import re\n",
        "import js2xml\n",
        "from itertools import repeat    \n",
        "from pprint import pprint as pp\n",
        "\n",
        "# String Manipulation\n",
        "import re \n",
        "\n",
        "# Configurations\n",
        "import warnings\n",
        "warnings.filterwarnings(\"ignore\")\n",
        "warnings.simplefilter(action='ignore', category=FutureWarning)\n",
        "pd.set_option('display.max_columns', None)\n",
        "\n",
        "# Helpers\n",
        "# -----------------------------------------------------------------------------\n",
        "# To learn process time\n",
        "def get_time(cond):\n",
        "    if cond == \"start\":\n",
        "        p = \"This process started at \"\n",
        "    elif cond == \"end\":\n",
        "        p = \"The process completed at \"\n",
        "    print(\"\") \n",
        "    print(colored(p + str(datetime.now().strftime(\"%H:%M:%S\")), \"green\", \"on_white\", attrs=[\"bold\",'reverse', 'blink']))\n",
        "    \n",
        "    \n",
        "def Filter(string, substr): \n",
        "        return [str for str in string if\n",
        "                any(sub in str for sub in substr)] \n",
        "    \n",
        "def NOTFilter(string, substr): \n",
        "    return [str for str in string if\n",
        "            any(sub not in str for sub in substr)] "
      ]
    },
    {
      "cell_type": "code",
      "execution_count": 4,
      "metadata": {},
      "outputs": [],
      "source": [
        "def get_list_club_lequipe(h2_tag,league_id):\n",
        "    club = h2_tag.find('a')\n",
        "    club_link = club['href']\n",
        "    club_name = club['title']\n",
        "    return tuple((club_link,club_name))"
      ]
    },
    {
      "cell_type": "markdown",
      "metadata": {},
      "source": []
    }
  ],
  "metadata": {
    "colab": {
      "collapsed_sections": [],
      "name": "Extract Injuries.ipynb",
      "provenance": []
    },
    "interpreter": {
      "hash": "455814cbe19b6b726e0d196bfa6b1ac9f2f819a90a8d5422fb186378bae9098e"
    },
    "kernelspec": {
      "display_name": "Python 3.7.3 64-bit ('base': conda)",
      "name": "python3"
    },
    "language_info": {
      "codemirror_mode": {
        "name": "ipython",
        "version": 3
      },
      "file_extension": ".py",
      "mimetype": "text/x-python",
      "name": "python",
      "nbconvert_exporter": "python",
      "pygments_lexer": "ipython3",
      "version": "3.8.8"
    }
  },
  "nbformat": 4,
  "nbformat_minor": 0
}
